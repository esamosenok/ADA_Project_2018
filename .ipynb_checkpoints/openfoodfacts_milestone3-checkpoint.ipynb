{
 "cells": [
  {
   "cell_type": "markdown",
   "metadata": {},
   "source": [
    "# Eat less sugar, you're sweet enough already #\n",
    "http://openfoodfacts.funspirit.ch"
   ]
  },
  {
   "cell_type": "markdown",
   "metadata": {},
   "source": [
    "## Abstract ##\n",
    "Many people consume too much sugar and even more than they realize. Some products contain added or hidden sugar like Low-fat Yogurst, BBQ Sauce, ketchup or Fruit Juice. To put in perspective, some sauces may contains more than 50 per cent of sugar. (**\\*Ref1**) \n",
    "\n",
    "Based on the \"AHA Scientific Statement\" (**\\*Ref2**), the major sources of added sugars are mainly coming form those Food Categories: regular soft drinks, sugars, candy, cakes, cookies, pies and fruit drinks, dairy desserts and milk products: \n",
    "<table>\n",
    " <tr>\n",
    "   <td><b>Food categories</b></td>\n",
    "     <td><b>Contribution to added sugar intake</b><br>(% of total added sugar consumed) </td>\n",
    " </tr>\n",
    " <tr><td>Regular soft drinks</td><td>33.0</td></tr>\n",
    " <tr><td>Sugars and candy</td><td>16.1</td></tr>\n",
    " <tr><td>Cakes, cookies, pies</td><td>12.9</td></tr>\n",
    " <tr><td>Fruit drinks (fruitades and fruit punch)</td><td>9.7</td></tr>\n",
    " <tr><td>Dairy desserts and milk products (ice cream sweetened yogurt, and sweetened milk)</td>      <td>8.6</td></tr>\n",
    "  <tr><td>Other grains (cinnamon toast and honey-nut waffles) </td><td>5.8</td></tr>\n",
    "</table>\n",
    "\n",
    "\n",
    "From there, it's easy understandable that eating too much sugar is not healthy and can cause Weight Gain, increase the risk of Hear Disease, Diabetes (**\\*Ref3**) or even Cancer, ...\n",
    "\n",
    "Therefore, it's crucial to limit the consumption of foods with high amounts of added sugars. According to the American Heart Association (AHA) (**\\*Ref4**), the maximum amount of added sugars per day are limited to:\n",
    "- Men: 150 calories per day (37.5 grams or 9 teaspoons or ~6.30 pieces of sugar)\n",
    "- Women: 100 calories per day (25 grams or 6 teaspoons or ~4.20 pieces of sugar)\n",
    "\n",
    "The US dietary guidelines advise people to limit their intake to less than 10% of their daily calorie intake. For a person eating 2,000 calories per day, this would equal 50 grams of sugar, or about 12.5 teaspoons or 8.4 pieces of sugar. (**\\*Ref5**)\n",
    "\n",
    "“Keeping intake of free sugars to less than 10% of total energy intake reduces the risk of overweight, obesity and tooth decay,” says Dr Francesco Branca, Director of WHO’s Department of Nutrition for Health and Development.(**\\*Ref6**)\n",
    "\n",
    "\n",
    "Based on the information above, we would like to explore the \"Open Food Facts Datbase\", apply the knowledge of data analysis technics and best practices acquired during attending Applied Data Analysis course at EPFL in Lausanne in Autumn 2018 and figure out meaninful/insightful relationship between different dimensions used to categorize the data or external metrics.\n",
    "\n",
    "\n",
    "<hr>\n",
    "\n",
    "**References/Sources**\n",
    "- **\\*Ref1** Heathy Food: How much sugar is in that sauces ?<br>\n",
    "  https://www.healthyfoodguide.com.au/articles/2015/july/how-much-sugar-sauce\n",
    "  \n",
    "- **\\*Ref2** Major Sources of Added Sugars in the American Diet<br>\n",
    "  https://www.ahajournals.org/doi/pdf/10.1161/circulationaha.109.192627\n",
    "  \n",
    "- **\\*Ref3** Maximum amount of added sugars recommendation from the American Heart Association<br>\n",
    "  https://www.heart.org/en/healthy-living/healthy-eating/eat-smart/sugar/added-sugars\n",
    "    \n",
    "- **\\*Ref3** Relationship of Sugar to Population-Level Diabetes Prevalence<br>\n",
    "  https://journals.plos.org/plosone/article/figure?id=10.1371/journal.pone.0057873.g002\n",
    "  \n",
    "- **\\*Ref4** Major Sources of Added Sugars in the American Diet<br>\n",
    "  https://www.ahajournals.org/doi/pdf/10.1161/circulationaha.109.192627\n",
    "  \n",
    "- **\\*Ref5** US Dietary guideleines  <br>\n",
    "  https://health.gov/dietaryguidelines/2015/guidelines/executive-summary/\n",
    "  \n",
    "- **\\*Ref6** World Health Organization: Reduce sugars intake  <br>\n",
    "  http://www.who.int/mediacentre/news/releases/2015/sugar-guideline/en/\n",
    " \n",
    "<hr>"
   ]
  },
  {
   "cell_type": "markdown",
   "metadata": {},
   "source": [
    "## Research questions##\n",
    "\n",
    "1. There are lots of different dimensions/metrics which could be used to analyse/slice the data: dates when the product was added and last modified, produced country, brand, categories (e.g. snack, dessert), country / store where the product was purchased, size and weight of the product, amount of fat, sugar, vitamins, chemicals, ingredients as text etc We will explore the dimensions/metrics above and relate some of those to each other or such generic metrics as country (producer or consumer) GDP, life expectancy (vitamins, salt, sugar, other chemicals), expore which country/store is the biggest produce/consumer of product by brand/ingredients etc. We will also check how some of the metrics evolve over time.\n",
    "\n",
    "2. Explore the quality of the data, find and estimate inconsistencies (e.g. accuracy of the text description)\n",
    "\n",
    "3. Finally, there are images available for each product, so we will try to analyse those using Deep Learning techniques (CNN) and relate to some of the deminsions avialable in the dataset. \n",
    "\n",
    "\n",
    "\n",
    "We were maybe a little ambition about the analyis we would like to perform and discovered many discrepancies on the Data.\n",
    "Indeed, we learnt during the lecturer that the main activities performed by a Data Scientist is Data Cleaning. Based on the Data Quality of the www.openFoodFacts.org Data, we are fully agree with this assertion and we even decided to spend more time on Data Analyis.\n",
    "\n",
    "Indeed in order to perform good analysis, it's crucial to consolidate the firt layer and understand the Data Set. We even think that this open Database should be more normalized and structured, which may offer a more solid base for further Analyis and Data Cleaning.\n",
    "\n",
    "What is the goal to perform deeper analyis, when underlying data are not certified, checked, cleaned, cleansed and normalized. Furtheremore as you will discover in this Notebook, most of the dimensions have to be used with precaution.\n",
    "\n",
    "**Could we trust OpenFoodFacts Data ?** \n",
    "\n",
    "**Should we eat too much sugar ?**\n"
   ]
  },
  {
   "cell_type": "markdown",
   "metadata": {},
   "source": [
    "## Some Extra Ideas ##\n",
    "- Check the products which does have sugar (compared to the one which have less)\n",
    "  Check the ones which may have more than 25 gr  \n",
    "  as recommanded by OMS: http://www.who.int/nutrition/sugars_public_consultation/en/\n",
    "\n",
    "- Check the products which contains more sugar per brands_tags, main_category_en, ...\n",
    "  Especially the ones which are hidden\n",
    "  \n",
    "- We should focus on smaller dataset to perform further analysis\n",
    "  We may focus onf the openfood-ch-import, and why not comparing\n",
    "     - Migros product against Coop product\n",
    "     - Low cost product like \"Prix garantie\" from Coop and \"M-budget\" from Migros against Bio \n",
    " \n",
    "- If some correlation or prediction could be done, but I'm afraid that there is not so much data.\n",
    "  We can try some model to determine if products having too much sugar, contain too much salt too ? \n",
    "  or check if we can use the nutrition_grade_fr for records we have this information.\n",
    "  \n",
    "- I would like to use beautifulsoup to download information from Internet.\n",
    "  Any idea is welcome, tell me if you find something useful here.\n",
    "  \n",
    "- for Image  analysing (CNN) to predict sugar content or the dominant color of the packaging? \n",
    "  or predict data quality like the category (is it a beverage, fish,..., )?\n",
    "  "
   ]
  },
  {
   "cell_type": "markdown",
   "metadata": {},
   "source": [
    "## Organization of the Jupyter Notebook ##\n",
    "In order to have a better clarity, the notebook had been organized by topics (differenciated by colors)\n"
   ]
  },
  {
   "cell_type": "markdown",
   "metadata": {},
   "source": [
    "<div class=\"alert alert-block alert-success\">\n",
    "\n",
    "<b>1. DATA EXPLORATION</b><br><i>\n",
    "    This part, in <b>green</b>, contains all the Data Exploration's activities, performed on the en.openfoodfacts.org.products.csv. The goal of this part is to understand the data and check if it seems to be completed and trustworthy.\n",
    "    \n",
    "To perform this first Data Exploration, we decided to check the content by looking to the:\n",
    "- What are the Size/Shape of the Dataset\n",
    "- Who are the Contributors\n",
    "- What are the Brands\n",
    "- What are the Countries or Origins\n",
    "- What are the fields which could be used/related to sugar's consumption\n",
    "- What are the Anomalies in Dataa\n",
    "\n",
    "Before doing any transformation and analysis, It's indeed important to understand from where the data are coming, how they have been collected by whom, when and how confident we are about the 'Open Food Fact' Dataset.\n",
    "</i></div>\n"
   ]
  },
  {
   "cell_type": "markdown",
   "metadata": {},
   "source": [
    "<div class=\"alert alert-info\">\n",
    "\n",
    "<b>2. DATA CLEANING</b><br><i>\n",
    "This part, in <b>blue</b>, contains all the Data Cleaning's activities, performed on the en.openfoodfacts.org.products.csv. The goal of this part is to clean the data and enrich them based on the required activities.\n",
    "    \n",
    "To perform this Data Cleaning, we decided to:\n",
    "- Remove unused columns: in order to focus on main columns\n",
    "- Enrich data by creating new columns \n",
    "\n",
    "Before doing any analysis, It's indeed important to have a proper consolidated Dataset. Indeed, we discover that the Dataset requires a lot of cleaning activities and that the data quality is sometimes poor.\n",
    "</i></div>"
   ]
  },
  {
   "cell_type": "markdown",
   "metadata": {},
   "source": [
    "<div class=\"alert alert-warning\">\n",
    "\n",
    "<b>3. DATA Analysis</b><br><i>\n",
    "This part, in <b>yellow</b>, contains all the Analysis's activities, performed on the en.openfoodfacts.org.products.csv. The goal of this part is to perform analysis related to our topics.\n",
    "    \n",
    "To perform this Data Analysis, we decided to:\n",
    "- Check the products which does have sugar (compared to the one which have less) \n",
    "- Check the products which may have more than 25gr as recommanded by OMS: http://www.who.int/nutrition/sugars_public_consultation/en/\n",
    "\n",
    "- Check the products which contains more sugar per brands_tags, main_category_en, ... \n",
    "  Especially the ones which are hidden\n",
    "\n",
    "- ...\n",
    "</i></div>"
   ]
  },
  {
   "cell_type": "markdown",
   "metadata": {},
   "source": [
    "<div class=\"alert alert-danger\">\n",
    "\n",
    "<b>4. IMAGE Analysis</b><br><i>\n",
    "This part, in <b>red</b>, contains all the CNN Analysis.\n",
    "    \n",
    "To perform Image Analysis (CNN)\n",
    "- Predict sugar content ? \n",
    "- Predict data quality like the category (is it a beverage, fish,..., )? \n",
    "\n",
    "\n",
    "</i></div>\n",
    "\n"
   ]
  },
  {
   "cell_type": "markdown",
   "metadata": {},
   "source": [
    "<div class=\"alert alert-danger\" style=\"background-color:whitesmoke;color:gray;border-color:darkgray;\">\n",
    "\n",
    "<b>5. EXTRA Analysis</b><br><i>\n",
    "This part, in <b>gray</b>, contains all extra ad hoc requests, like:\n",
    "- Show some result/product through worldcloud    \n",
    "- Get a list of Brand from WIKIPEDIA with Beautiful soup to cross check the quality of open food facts\n",
    "\n",
    "\n",
    "\n",
    "</i></div>"
   ]
  },
  {
   "cell_type": "markdown",
   "metadata": {},
   "source": [
    "## Jupyter Notebook ##\n",
    "Please find below the different analysis performed against the Dataset Open Food Facts"
   ]
  },
  {
   "cell_type": "markdown",
   "metadata": {},
   "source": [
    "<p style=\"color:#3C763D\"><i>\n",
    "    <b>IMPORTS</b>: pandas, numpy, plt, sns, math, mtick, datetime, requests, beautifulSoup\n",
    "</i></p>"
   ]
  },
  {
   "cell_type": "code",
   "execution_count": 1,
   "metadata": {},
   "outputs": [],
   "source": [
    "# imports\n",
    "import pandas as pd\n",
    "import numpy as np\n",
    "import matplotlib.pyplot as plt\n",
    "import seaborn as sns\n",
    "import math\n",
    "import re\n",
    "\n",
    "import matplotlib.ticker as mtick\n",
    "from datetime import datetime, date, time\n",
    "\n",
    "import findspark\n",
    "findspark.init()\n",
    "import pyspark\n",
    "spark = pyspark.sql.SparkSession.builder.getOrCreate()\n",
    "sc = spark.sparkContext\n",
    "\n",
    "import json\n",
    "\n",
    "import folium\n",
    "from branca.colormap import LinearColormap\n",
    "\n",
    "# Import libraries\n",
    "import requests\n",
    "from bs4 import BeautifulSoup\n",
    "\n",
    "\n",
    "# Import nx for brand\n",
    "import networkx as nx\n",
    "\n",
    "from operator import itemgetter\n",
    "import collections\n",
    "from community import community_louvain\n",
    "from networkx.algorithms.community.centrality import girvan_newman\n",
    "import itertools\n",
    "\n",
    "%matplotlib inline\n",
    "\n",
    "\n",
    "\n",
    "import warnings\n",
    "warnings.filterwarnings('ignore')"
   ]
  },
  {
   "cell_type": "markdown",
   "metadata": {},
   "source": [
    "<p style=\"color:#3C763D\"><i>\n",
    "    <b>COMMON FUNCTIONS</b>: get_rows, get_top_10, get_empty_rows, show_plot, print_stats\n",
    "</i></p>"
   ]
  },
  {
   "cell_type": "code",
   "execution_count": 2,
   "metadata": {},
   "outputs": [],
   "source": [
    "##### Calculate the number of rows of a specific DF\n",
    "def get_rows(df):\n",
    "    rows = df.shape[0]\n",
    "    return rows\n",
    "\n",
    "\n",
    "##### Return the top 10 records per column_name\n",
    "def get_top_10(df, column_name):\n",
    "    df_result = df_food.groupby([column_name]).size().reset_index(name='counts').sort_values('counts', ascending=False).head(10)\n",
    "\n",
    "    rows = get_rows(df)\n",
    "    df_result['percentage'] = df_result['counts']/rows*100\n",
    "\n",
    "    return df_result.copy()\n",
    "\n",
    "\n",
    "##### Count the number of empty rows for a specific Data Frame\n",
    "def get_empty_rows(df, column_name):\n",
    "    return df.query(str(column_name) + '.isnull()').count()\n",
    "\n",
    "\n",
    "##### show plot in bar plot with number\n",
    "def show_plot(df, column_name):\n",
    "\n",
    "    df_plot = df.loc[: ,[column_name, 'counts']].set_index(column_name)['counts'].copy()\n",
    "    \n",
    "    plt.figure(figsize=(15, 10))\n",
    "    \n",
    "    sns.set(style=\"whitegrid\")\n",
    "    g = sns.barplot(df_plot, df_plot.index, orient='h', palette=\"Blues_d\")\n",
    "    \n",
    "    plt.title('Top largest ' + column_name, fontsize=20)\n",
    "    plt.xlabel(\"Number of occurencs\", fontsize=14)\n",
    "    plt.ylabel(column_name, fontsize=14)\n",
    "\n",
    "    #### Show Number on the right of the bar plot    \n",
    "    for i, v in enumerate(df_plot.values.tolist()):\n",
    "        g.text(v + 3, i + .25, str(v), color='black', fontweight='normal')\n",
    "    \n",
    "    plt.show()\n",
    "\n",
    "\n",
    "    \n",
    "##### Print main statistics items    \n",
    "def print_stats(df, column_name):\n",
    "    total_rows = get_rows(df)\n",
    "    empty_rows = str(df[column_name].isna().sum())\n",
    "    perc = int(empty_rows) * 100 / int(total_rows)\n",
    "    print ('Number of empty records for ' + str(column_name) + ': ' + str(empty_rows) + ' (' + str(perc) + '%)' )\n",
    "    print (df[column_name].agg(['nunique','count','size']))\n",
    "        "
   ]
  },
  {
   "cell_type": "markdown",
   "metadata": {},
   "source": [
    "<div class=\"alert alert-block alert-success\">\n",
    "\n",
    "<b>1. UNDERSTANDING THE DATA</b><br>\n",
    "<i>The goal of this part is to load and understand the data, provided by 'Open Food Facts'. We would like to understand the the completeness and trustworthy of those data.\n",
    "</i>\n",
    "<hr>\n",
    "\n",
    "<br><b>1.1 Loading Data</b><br>\n",
    "We would like to load the Data and split the files in sub categories. We would like to check the size/shape of the Datasets and understand which columns could be used for our topics. Identify the gaps, the NaN. Somehow we would like to understand the overall quality of the data.\n",
    "\n",
    "<br><b>1.2 Who are the Contributors</b><br>\n",
    "We would like to check who are the contributors, who is contributing the more, could we trust the source and could we found some references in the net.\n",
    "\n",
    "<br><b>1.3 What are the Brands</b><br>\n",
    "We would like to check if all products are assigned to a Brand and check if all those Brand exists (cross check with wikipedia per example)\n",
    "\n",
    "<br><b>1.4 What are the Countries</b><br>\n",
    "We would like to check if all products are assigned to a Countries (Countries).\n",
    "As we suspect duplicate and non-normalized data, those values should most probably be cleaned.\n",
    "\n",
    "<br><b>1.5 What are the Origins of products</b><br>\n",
    "We would like to check if all products are assigned to an Origins (Countries).\n",
    "As we suspect duplicate and non-normalized data, those values should most probably be cleaned.\n",
    "\n",
    "<br><b>1.6 What are the Main Category</b><br>\n",
    "We are looking what are the Main Category (count/percentage/emtpy)\n",
    "\n",
    "<br><b>1.7 Check if there are some more anomalies in data</b><br>\n",
    "So far it seems that some Products have been entered many times.\n",
    "\n",
    "<hr>\n",
    "<b>Please notice that the file has been dowloaded from Internet and not from the Cluster, as they are identical</b>\n",
    "</div>\n",
    "\n"
   ]
  },
  {
   "cell_type": "markdown",
   "metadata": {},
   "source": [
    "<div class=\"alert alert-block alert-success\">\n",
    "\n",
    "<b>1.1 UNDERSTANDING THE DATA - Loading Data</b><br>\n",
    "<i>We are looking to Load the data from CSV Files. Please notice that files have been split by contributors</i>\n",
    "<hr>\n",
    "<b>Remarks</b><br>\n",
    "<i>\n",
    "The main idea was to split the data to get lower data set to explore. It is therefore possible to analyze them separately if required.\n",
    "\n",
    "By doing deeper analysis, we discovered that few contributors create main of the products.\n",
    "Therefore, it was making sense to split them. Furthermore, you will discover later that each contributors are mainly working in one and only one Country.\n",
    "\n",
    "It becomes so far logic to split them by contributors.\n",
    "Please notice as well that products from different countries have different categories and specificities which make them difficult to compare.\n",
    "</i>\n",
    "<br>\n",
    "</div>"
   ]
  },
  {
   "cell_type": "markdown",
   "metadata": {},
   "source": [
    "The 'Open Food Facts' file, used in this notebook had been copied to http://openfoodfacts.funspirit.ch/en.openfoodfacts.org.products.csv"
   ]
  },
  {
   "cell_type": "code",
   "execution_count": 3,
   "metadata": {},
   "outputs": [],
   "source": [
    "##### Default path for the DATA\n",
    "data_path = './data/'"
   ]
  },
  {
   "cell_type": "code",
   "execution_count": 4,
   "metadata": {},
   "outputs": [],
   "source": [
    "##### Read file and split by main contributors/Creators\n",
    "df_food = pd.read_csv(data_path +'en.openfoodfacts.org.products.csv', sep=\"\\t\", low_memory=False)  "
   ]
  },
  {
   "cell_type": "markdown",
   "metadata": {},
   "source": [
    "<p style=\"color:#3C763D\"><i>\n",
    "    <b>SAVE PRODUCTS BY CONTRIBUTORS</b>:<br> \n",
    "    kiliweb, usda_ndb_import, openfood_ch, others\n",
    "</i></p>"
   ]
  },
  {
   "cell_type": "code",
   "execution_count": 5,
   "metadata": {},
   "outputs": [],
   "source": [
    "#df_food_kiliweb = df_food.query(\"creator == 'kiliweb'\")\n",
    "#df_food_kiliweb.to_csv(data_path + 'en.openfoodfacts.org.products.kiliweb.299820.csv', sep='\\t')"
   ]
  },
  {
   "cell_type": "code",
   "execution_count": 6,
   "metadata": {},
   "outputs": [],
   "source": [
    "#df_food_usda_ndb_import = df_food.query(\"creator == 'usda-ndb-import'\")\n",
    "#df_food_usda_ndb_import.to_csv(data_path + 'en.openfoodfacts.org.products.usda-ndb-import.169861.csv', sep='\\t')"
   ]
  },
  {
   "cell_type": "code",
   "execution_count": 7,
   "metadata": {},
   "outputs": [],
   "source": [
    "#df_food_openfood_ch = df_food.query(\"creator == 'openfood-ch-import'\")\n",
    "#df_food_openfood_ch.to_csv(data_path + 'en.openfoodfacts.org.products.openfood-ch-import.11459.csv', sep='\\t')"
   ]
  },
  {
   "cell_type": "code",
   "execution_count": 10,
   "metadata": {},
   "outputs": [],
   "source": [
    "#df_food_others = df_food.query(\"creator.isin(['kiliweb', 'usda-ndb-import', 'openfood-ch-import']) == False\")\n",
    "#df_food_others.to_csv(data_path + 'en.openfoodfacts.org.products.others.200428.csv', sep='\\t')"
   ]
  },
  {
   "cell_type": "markdown",
   "metadata": {},
   "source": [
    "<p style=\"color:#3C763D\"><i>\n",
    "    <b>RELOAD PRODUCTS BY CONTRIBUTORS</b>:<br> \n",
    "    kiliweb, usda_ndb_import, openfood_ch, others\n",
    "</i></p>"
   ]
  },
  {
   "cell_type": "code",
   "execution_count": 9,
   "metadata": {},
   "outputs": [],
   "source": [
    "df_food_kili_web_comp = pd.read_csv(data_path + 'en.openfoodfacts.org.products.kiliweb.299820.csv', sep=\"\\t\", low_memory=False)  \n",
    "df_food_usda_ndb_import_comp = pd.read_csv(data_path + 'en.openfoodfacts.org.products.usda-ndb-import.169861.csv', sep=\"\\t\", low_memory=False)  \n",
    "df_food_openfood_ch_comp = pd.read_csv(data_path + 'en.openfoodfacts.org.products.openfood-ch-import.11459.csv', sep=\"\\t\", low_memory=False)  \n",
    "df_food_others_comp = pd.read_csv(data_path + 'en.openfoodfacts.org.products.others.200428.csv', sep=\"\\t\", low_memory=False)  \n",
    "\n",
    "frames = [df_food_kili_web_comp, df_food_usda_ndb_import_comp, df_food_openfood_ch_comp, df_food_others_comp]\n",
    "df_food_comparison = pd.concat(frames)"
   ]
  },
  {
   "cell_type": "markdown",
   "metadata": {},
   "source": [
    "<p style=\"color:#3C763D\"><i>\n",
    "    <b>COMPARE both files</b>:<br> \n",
    "    To ensure that both files are containing the same rows/columns\n",
    "</i></p>"
   ]
  },
  {
   "cell_type": "code",
   "execution_count": 11,
   "metadata": {},
   "outputs": [
    {
     "name": "stdout",
     "output_type": "stream",
     "text": [
      "\n",
      "df_food:(681602, 173)\n",
      "\n",
      "df_food_comparison:(681602, 174)\n"
     ]
    }
   ],
   "source": [
    "print('\\ndf_food:' + str(df_food.shape))\n",
    "print('\\ndf_food_comparison:' + str(df_food_comparison.shape))\n"
   ]
  },
  {
   "cell_type": "markdown",
   "metadata": {},
   "source": [
    "Please notice that both dataframe are identical. The second ones have one more column as the index had been exported too. A copy of all those files coould be retrieved in http://en.openfoodfacts.org.products.splitted_by_contributor.zip, which contains:\n",
    "- http://openfoodfacts.funspirit.ch/en.openfoodfacts.org.products.kiliweb.299820.csv\n",
    "- http://openfoodfacts.funspirit.ch/en.openfoodfacts.org.products.usda-ndb-import.169861.csv\n",
    "- http://openfoodfacts.funspirit.ch/en.openfoodfacts.org.products.openfood-ch-import.11459.csv\n",
    "- http://openfoodfacts.funspirit.ch/en.openfoodfacts.org.products.others.200428.csv"
   ]
  },
  {
   "cell_type": "markdown",
   "metadata": {},
   "source": [
    "<p style=\"color:#3C763D\"><i>\n",
    "    <b>SIZE & SHAPE</b>:<br> \n",
    "    Check the size & Shape of the 'open food facts'\n",
    "</i></p>"
   ]
  },
  {
   "cell_type": "code",
   "execution_count": 12,
   "metadata": {},
   "outputs": [
    {
     "name": "stdout",
     "output_type": "stream",
     "text": [
      "Open Food Data contains 681602 products.(681602, 173)\n"
     ]
    }
   ],
   "source": [
    "print('Open Food Data contains ' + str(get_rows(df_food)) + ' products.' + str(df_food.shape) )\n"
   ]
  },
  {
   "cell_type": "code",
   "execution_count": 13,
   "metadata": {},
   "outputs": [
    {
     "name": "stdout",
     "output_type": "stream",
     "text": [
      "\n",
      "df_food Columns:\n"
     ]
    },
    {
     "data": {
      "text/plain": [
       "Index(['code', 'url', 'creator', 'created_t', 'created_datetime',\n",
       "       'last_modified_t', 'last_modified_datetime', 'product_name',\n",
       "       'generic_name', 'quantity',\n",
       "       ...\n",
       "       'carbon-footprint_100g', 'nutrition-score-fr_100g',\n",
       "       'nutrition-score-uk_100g', 'glycemic-index_100g', 'water-hardness_100g',\n",
       "       'choline_100g', 'phylloquinone_100g', 'beta-glucan_100g',\n",
       "       'inositol_100g', 'carnitine_100g'],\n",
       "      dtype='object', length=173)"
      ]
     },
     "execution_count": 13,
     "metadata": {},
     "output_type": "execute_result"
    }
   ],
   "source": [
    "print('\\ndf_food Columns:')\n",
    "df_food.columns"
   ]
  },
  {
   "cell_type": "code",
   "execution_count": 14,
   "metadata": {},
   "outputs": [
    {
     "name": "stdout",
     "output_type": "stream",
     "text": [
      "\n",
      "df_food Counts:\n"
     ]
    },
    {
     "data": {
      "text/plain": [
       "code                                    681568\n",
       "url                                     681568\n",
       "creator                                 681599\n",
       "created_t                               681598\n",
       "created_datetime                        681592\n",
       "last_modified_t                         681602\n",
       "last_modified_datetime                  681602\n",
       "product_name                            654761\n",
       "generic_name                             75765\n",
       "quantity                                189965\n",
       "packaging                               137285\n",
       "packaging_tags                          137282\n",
       "brands                                  460425\n",
       "brands_tags                             460392\n",
       "categories                              173826\n",
       "categories_tags                         173825\n",
       "categories_en                           173791\n",
       "origins                                  40790\n",
       "origins_tags                             40737\n",
       "manufacturing_places                     65402\n",
       "manufacturing_places_tags                65380\n",
       "labels                                  100754\n",
       "labels_tags                             100784\n",
       "labels_en                               100784\n",
       "emb_codes                                43547\n",
       "emb_codes_tags                           43504\n",
       "first_packaging_code_geo                 27572\n",
       "cities                                       0\n",
       "cities_tags                              29385\n",
       "purchase_places                          98527\n",
       "                                         ...  \n",
       "calcium_100g                            143308\n",
       "phosphorus_100g                           6296\n",
       "iron_100g                               141489\n",
       "magnesium_100g                            6994\n",
       "zinc_100g                                 4225\n",
       "copper_100g                               2196\n",
       "manganese_100g                            1715\n",
       "fluoride_100g                              162\n",
       "selenium_100g                             1250\n",
       "chromium_100g                               38\n",
       "molybdenum_100g                             36\n",
       "iodine_100g                                446\n",
       "caffeine_100g                              164\n",
       "taurine_100g                                57\n",
       "ph_100g                                    110\n",
       "fruits-vegetables-nuts_100g               3423\n",
       "fruits-vegetables-nuts-estimate_100g      7496\n",
       "collagen-meat-protein-ratio_100g           292\n",
       "cocoa_100g                                3737\n",
       "chlorophyl_100g                              2\n",
       "carbon-footprint_100g                      342\n",
       "nutrition-score-fr_100g                 136571\n",
       "nutrition-score-uk_100g                 136571\n",
       "glycemic-index_100g                          2\n",
       "water-hardness_100g                          1\n",
       "choline_100g                                27\n",
       "phylloquinone_100g                           1\n",
       "beta-glucan_100g                            14\n",
       "inositol_100g                               33\n",
       "carnitine_100g                              13\n",
       "Length: 173, dtype: int64"
      ]
     },
     "execution_count": 14,
     "metadata": {},
     "output_type": "execute_result"
    }
   ],
   "source": [
    "print('\\ndf_food Counts:')\n",
    "df_food.count()\n"
   ]
  },
  {
   "cell_type": "markdown",
   "metadata": {},
   "source": [
    "<div class=\"alert alert-block alert-success\">\n",
    "\n",
    "<b>1.2 UNDERSTANDING THE DATA - Contributors</b><br>\n",
    "<i>We are looking who are the contributors and what are their contributions by Products (count/percentage/emtpy)</i>\n",
    "<hr>\n",
    "<b>Remarks</b><br>\n",
    "<i>\n",
    "Who are those contributors ? except usda-ndb-import and openfood-ch-import, could we trust them ?\n",
    "Almost 44% of the products have been created by kiliweb. Who is kiliweb ?\n",
    "\n",
    "We identified some records (at least 3) without contributor (creator)\n",
    "\n",
    "\n",
    "After some search in Internet it seems that\n",
    "- usda-ndb-import is the 'United States Department of Agriculture'. Those products are mainly US Products. \n",
    "  More information could be retrieved in https://ndb.nal.usda.gov/ndb/search/list\n",
    "- openfood-ch-import seems to be mainly managed by EPFL. Those products are mainly coming from COOP and MIGROS, and therefore CH Products.\n",
    "  More information could be retrieved https://ch-fr.openfoodfacts.org/\n",
    "- kiliweb seems to be a web agency in France. Most of the products are therefore mainly coming from France. It's most probably the most active contributor and this may explain why most of the products are assigned to France.\n",
    "\n",
    "</i>\n",
    "<br>\n",
    "</div>\n"
   ]
  },
  {
   "cell_type": "markdown",
   "metadata": {},
   "source": [
    "<p style=\"color:#3C763D\"><i>\n",
    "    <b>1.2 UNDERSTANDING THE DATA</b>: Overview of Contributors\n",
    "</i></p>"
   ]
  },
  {
   "cell_type": "code",
   "execution_count": 15,
   "metadata": {},
   "outputs": [
    {
     "name": "stdout",
     "output_type": "stream",
     "text": [
      "\n",
      "Top 10 Contributors (Counts & Percentage)\n",
      "                         creator  counts  percentage\n",
      "3246                     kiliweb  299820   43.987547\n",
      "6126             usda-ndb-import  169861   24.920848\n",
      "4698  openfoodfacts-contributors   82719   12.135968\n",
      "1449             date-limite-app   17453    2.560585\n",
      "4696          openfood-ch-import   11459    1.681186\n",
      "5822                      tacite    8438    1.237966\n",
      "5469                    sebleouf    8359    1.226376\n",
      "5821                     tacinte    5282    0.774939\n",
      "5723                    stephane    2774    0.406982\n",
      "2768                     javichu    2766    0.405809\n"
     ]
    },
    {
     "data": {
      "image/png": "[encoded data removed]",
      "text/plain": [
       "<Figure size 1080x720 with 1 Axes>"
      ]
     },
     "metadata": {
      "needs_background": "light"
     },
     "output_type": "display_data"
    },
    {
     "name": "stdout",
     "output_type": "stream",
     "text": [
      "Number of empty records for creator: 3 (0.0004401395535811221%)\n",
      "nunique      6544\n",
      "count      681599\n",
      "size       681602\n",
      "Name: creator, dtype: int64\n"
     ]
    }
   ],
   "source": [
    "##### Get top 10 Contributors\n",
    "df_10_contributors = get_top_10(df_food, 'creator')\n",
    "\n",
    "##### Show Result\n",
    "print('\\nTop 10 Contributors (Counts & Percentage)')\n",
    "print(df_10_contributors)    \n",
    "show_plot(df_10_contributors, 'creator')\n",
    "\n",
    "##### Show Information about empty records\n",
    "print_stats(df_food, 'creator')"
   ]
  },
  {
   "cell_type": "markdown",
   "metadata": {},
   "source": [
    "<p style=\"color:#3C763D\"><i>\n",
    "    <b>1.2 UNDERSTANDING THE DATA</b>: Overview of when Products have been created by Contributors\n",
    "</i></p>"
   ]
  },
  {
   "cell_type": "code",
   "execution_count": 16,
   "metadata": {},
   "outputs": [
    {
     "data": {
      "text/plain": [
       "<matplotlib.axes._subplots.AxesSubplot at 0x19b64aeda58>"
      ]
     },
     "execution_count": 16,
     "metadata": {},
     "output_type": "execute_result"
    },
    {
     "data": {
      "image/png": "[encoded data removed]",
      "text/plain": [
       "<Figure size 864x576 with 1 Axes>"
      ]
     },
     "metadata": {},
     "output_type": "display_data"
    },
    {
     "data": {
      "image/png": "[encoded data removed]",
      "text/plain": [
       "<Figure size 864x576 with 1 Axes>"
      ]
     },
     "metadata": {},
     "output_type": "display_data"
    }
   ],
   "source": [
    "top_5_creators = df_food.loc[(df_food['creator']=='kiliweb')|\\\n",
    "                             (df_food['creator']=='usda-ndb-import') |\\\n",
    "                             (df_food['creator']=='openfoodfacts-contributors') |\\\n",
    "                             (df_food['creator']=='date-limite-app') |\\\n",
    "                             (df_food['creator']=='openfood-ch-import')][['creator','created_datetime']]\n",
    "\n",
    "top_5_creators['mod_datetime'] = top_5_creators['created_datetime'].apply(lambda x: x[0:4])\n",
    "top_5_creators.drop('created_datetime', axis=1)\n",
    "\n",
    "mod_pivot = pd.pivot_table(top_5_creators, index=top_5_creators['mod_datetime'], columns='creator', aggfunc=len, fill_value=0)\n",
    "mod_pivot.plot(kind=\"line\", figsize=(12,8), title=\"When were items created?\")\n",
    "mod_pivot.plot(kind=\"bar\", figsize=(12,8), title=\"When were items created?\")\n"
   ]
  },
  {
   "cell_type": "markdown",
   "metadata": {},
   "source": [
    "So far we can see that Kiliweb is the most active contributors and is continously adding products.\n",
    "usda-ndb-import, which is the 'United States Department of Agriculture' seems to not contrinbute anymore to the open food facts database and has been only imported once. The open community of openfoodfacts-contributors seems to be growing day after day. We could almost consider individual contributor as marginal.\n",
    "\n",
    "The diversity of contributors may lead to mismatched data. We can already assume, based of the main contributors, that the diversity of product by country is not representative and comparison against country is most probably not relevant enough."
   ]
  },
  {
   "cell_type": "markdown",
   "metadata": {},
   "source": [
    "<div class=\"alert alert-block alert-success\">\n",
    "\n",
    "<b>1.3 UNDERSTANDING THE DATA - Brands</b><br>\n",
    "<i>We are looking what are the Brands (count/percentage/emtpy)</i>\n",
    "<hr>\n",
    "<b>Remarks</b><br>\n",
    "<i>\n",
    "Almost 32% of the products are not assigned to any 'Brand', why ?\n",
    "</i>\n",
    "<br>\n",
    "</div>\n"
   ]
  },
  {
   "cell_type": "markdown",
   "metadata": {},
   "source": [
    "<p style=\"color:#3C763D\"><i>\n",
    "    <b>1.3 UNDERSTANDING THE DATA</b>: Overall information about Brands\n",
    "</i></p>"
   ]
  },
  {
   "cell_type": "code",
   "execution_count": 17,
   "metadata": {},
   "outputs": [
    {
     "name": "stdout",
     "output_type": "stream",
     "text": [
      "\n",
      "Top 10 Brands (Counts & Percentage)\n",
      "             brands  counts  percentage\n",
      "13449     Carrefour    5384    0.789904\n",
      "4726         Auchan    5313    0.779487\n",
      "85513             U    4401    0.645685\n",
      "13967        Casino    3130    0.459212\n",
      "48068  Leader Price    2825    0.414465\n",
      "18474          Cora    2230    0.327170\n",
      "55740        Meijer    1997    0.292986\n",
      "42398        Kroger    1673    0.245451\n",
      "66647        Picard    1517    0.222564\n",
      "1583          Ahold    1370    0.200997\n"
     ]
    },
    {
     "data": {
      "image/png": "[encoded data removed]",
      "text/plain": [
       "<Figure size 1080x720 with 1 Axes>"
      ]
     },
     "metadata": {},
     "output_type": "display_data"
    },
    {
     "name": "stdout",
     "output_type": "stream",
     "text": [
      "Number of empty records for brands: 221177 (32.449582014137285%)\n",
      "nunique     98663\n",
      "count      460425\n",
      "size       681602\n",
      "Name: brands, dtype: int64\n"
     ]
    }
   ],
   "source": [
    "##### Get top 10 Brands\n",
    "df_10_brands = get_top_10(df_food, 'brands')\n",
    "\n",
    "##### Show Result\n",
    "print('\\nTop 10 Brands (Counts & Percentage)')\n",
    "print(df_10_brands)    \n",
    "show_plot(df_10_brands, 'brands')\n",
    "\n",
    "##### Show Information about empty records\n",
    "print_stats(df_food, 'brands')"
   ]
  },
  {
   "cell_type": "markdown",
   "metadata": {},
   "source": [
    "32% of the products are not assigned to any Brands. Furthermore the 6 most big brands of Open Food Facts are French Mall. \n",
    "This sounds strange that main of the products are repertoried in France. French cheese only could not explain this delta ?\n",
    "\n",
    "**Product Code '3245390058782'**\n",
    "Petit Munster Géromé\n",
    "https://world.openfoodfacts.org/product/3245390058782/petit-munster-gerome-reflets-de-france\n",
    "\n",
    "<img src=\"https://static.openfoodfacts.org/images/products/324/539/005/8782/front_fr.4.full.jpg\" width=\"200\"></img>\n",
    "<br/><br/>\n",
    "It's true that there is a lot of cheese in France and that some of them are realy famous ! Should we perform some deep analysis in this area !?\n",
    "\n",
    "\n",
    "Most likely, It seems that as described above with contributors, that the french community, through kiliweb, is the most important contributor. This may explain why there is so much products assigned to French Brand or assigned to France. (unlikely not related to cheese)"
   ]
  },
  {
   "cell_type": "markdown",
   "metadata": {},
   "source": [
    "<div class=\"alert alert-block alert-success\">\n",
    "\n",
    "<b>1.4 UNDERSTANDING THE DATA - Countries</b><br>\n",
    "<i>We are looking what are the countries_en (count/percentage/emtpy)</i>\n",
    "<hr>\n",
    "<b>Remarks</b><br>\n",
    "<i>\n",
    "Almost 60% of the Product seems assigned to France, which is very suspicious and requires further investigations.\n",
    "    \n",
    "Some products seem to be linked to multiple countries like (Belgium, France)\n",
    "\n",
    "Few records (5444) are not linked to any country.\n",
    "</i>\n",
    "<br>\n",
    "</div>"
   ]
  },
  {
   "cell_type": "code",
   "execution_count": 18,
   "metadata": {},
   "outputs": [
    {
     "name": "stdout",
     "output_type": "stream",
     "text": [
      "\n",
      "Top 10 countries_en (Counts & Percentage)\n",
      "            countries_en  counts  percentage\n",
      "593               France  409951   60.145217\n",
      "1323       United States  173494   25.453857\n",
      "1279         Switzerland   13543    1.986937\n",
      "1015             Germany   11629    1.706128\n",
      "1267               Spain    6104    0.895537\n",
      "623       France,Germany    5884    0.863260\n",
      "1317      United Kingdom    5643    0.827903\n",
      "174              Belgium    5309    0.778900\n",
      "896   France,Switzerland    4345    0.637469\n",
      "207       Belgium,France    3505    0.514230\n"
     ]
    },
    {
     "data": {
      "image/png": "[encoded data removed]",
      "text/plain": [
       "<Figure size 1080x720 with 1 Axes>"
      ]
     },
     "metadata": {},
     "output_type": "display_data"
    },
    {
     "name": "stdout",
     "output_type": "stream",
     "text": [
      "Number of empty records for countries_en: 544 (0.07981197238271015%)\n",
      "nunique      1361\n",
      "count      681058\n",
      "size       681602\n",
      "Name: countries_en, dtype: int64\n"
     ]
    }
   ],
   "source": [
    "##### Get top 10 Countries_en\n",
    "df_10_countries_en = get_top_10(df_food, 'countries_en')\n",
    "\n",
    "##### Show Result\n",
    "print('\\nTop 10 countries_en (Counts & Percentage)')\n",
    "print(df_10_countries_en)    \n",
    "show_plot(df_10_countries_en, 'countries_en')\n",
    "\n",
    "##### Show Information about empty records\n",
    "print_stats(df_food, 'countries_en')"
   ]
  },
  {
   "cell_type": "markdown",
   "metadata": {},
   "source": [
    "We discover here the same behavior than previous analyis. Most of the products are assigned to France which was the expectation as the main contributor is kiliweb (France Web Agency). This is consistent, especially after the analysis of the contributors and brands above.\n",
    "\n",
    "Even if most of the products have been assigned to country, as only 544 products are not linked to any country, we discover that there is 1361 countries.\n",
    "\n",
    "So far it seems that countries contain a list of countries and not unique country.\n",
    "\n",
    "Furthermore most of the products are linked to one or two countries only, which is very suspicious. We could assume per example that this peanut butter http://world-en.openfoodfacts.org/product/0011110739322/peanut-butter-creamy assigned to France could be founded in another country like USA as it is made by Kroger https://fr.wikipedia.org/wiki/Kroger.\n",
    "\n",
    "<img src=\"https://static.openfoodfacts.org/images/products/001/111/073/9322/front_fr.4.400.jpg\"></img><br>\n",
    "\n",
    "Most probably this product is being sold in France and had been repertoried as French's product. But we could be sure that this peanut butter is sold in USA too, maybe in a different product's name.\n",
    "\n",
    "So far we can conclude that this field country has to be used with precaution."
   ]
  },
  {
   "cell_type": "markdown",
   "metadata": {},
   "source": [
    "### Country MAP "
   ]
  },
  {
   "cell_type": "markdown",
   "metadata": {},
   "source": [
    "Even if **Country** information are not well structured, we may proceed with some cleaning activities. \n",
    "\n",
    "For this purpose, we tried to create a **Country Map** with folium, we propose the following steps:\n",
    "- Load a files containing a list of countries and iso three letter code\n",
    "- Cleaning/Parsing the country Name from openFoodFacts, if required some synonyms have to be identified. (we may research if a synonmy's list could be founded. at this stage, for this exercise, we decided to create our own list)\n",
    "- Mapping the normalized country with a proper country name\n",
    "- Showing a folium Map and mapping the value through iso 3 letter codes and retrieving the percentage accordingly"
   ]
  },
  {
   "cell_type": "markdown",
   "metadata": {},
   "source": [
    "#### Functions for MAP"
   ]
  },
  {
   "cell_type": "code",
   "execution_count": 19,
   "metadata": {},
   "outputs": [],
   "source": [
    "def get_country_synonym(country_name):\n",
    "    \n",
    "    if (country_name=='United States of America'):\n",
    "        return 'United States'\n",
    "    \n",
    "    #### If there is multiple countries, we only select the first one\n",
    "    tmpComma = country_name.find(',')    \n",
    "    if (tmpComma > 0):\n",
    "        return str(country_name[:tmpComma]).strip()\n",
    "    \n",
    "    return country_name\n",
    "    \n",
    "    "
   ]
  },
  {
   "cell_type": "code",
   "execution_count": 20,
   "metadata": {},
   "outputs": [],
   "source": [
    "def get_percentage_from_country(country_name, df_countries):\n",
    "    try:\n",
    "        country_name = get_country_synonym(country_name)\n",
    "        perc = df_countries.loc[country_name]['percentage']\n",
    "        return float(perc)\n",
    "    \n",
    "    except:\n",
    "        return float(0)\n",
    "        pass"
   ]
  },
  {
   "cell_type": "code",
   "execution_count": 21,
   "metadata": {},
   "outputs": [],
   "source": [
    "def get_country_map_color(country_code3):\n",
    "    \n",
    "    #### Get Country Name from df_countries\n",
    "    country_name = df_countries.loc[country_code3]['NAME']    \n",
    "    perc = get_percentage_from_country(country_name, df_10_countries_en)\n",
    "     \n",
    "    if (perc == 0):\n",
    "        color = '#FFFFFF'\n",
    "    elif (perc<10):\n",
    "        color = '#D1E2F3'\n",
    "    elif (perc<20):\n",
    "        color = '#83B6D5'\n",
    "    elif (perc<30):\n",
    "        color = '#3074B0'\n",
    "    elif (perc<40):\n",
    "        color = '#1A519C'\n",
    "    elif(perc>=40):\n",
    "        color = '#0B143D'\n",
    "    \n",
    "    if (perc>0):\n",
    "        print('Country_code3:' + country_code3 + '-' + country_name + ' - perc:' + str(perc) + 'color:' + color)\n",
    "   \n",
    "    return color"
   ]
  },
  {
   "cell_type": "markdown",
   "metadata": {},
   "source": [
    "Load a list of all countries"
   ]
  },
  {
   "cell_type": "code",
   "execution_count": 22,
   "metadata": {},
   "outputs": [
    {
     "data": {
      "text/html": [
       "<div>\n",
       "<style scoped>\n",
       "    .dataframe tbody tr th:only-of-type {\n",
       "        vertical-align: middle;\n",
       "    }\n",
       "\n",
       "    .dataframe tbody tr th {\n",
       "        vertical-align: top;\n",
       "    }\n",
       "\n",
       "    .dataframe thead th {\n",
       "        text-align: right;\n",
       "    }\n",
       "</style>\n",
       "<table border=\"1\" class=\"dataframe\">\n",
       "  <thead>\n",
       "    <tr style=\"text-align: right;\">\n",
       "      <th></th>\n",
       "      <th>NAME</th>\n",
       "      <th>CODE2</th>\n",
       "      <th>CODEN</th>\n",
       "    </tr>\n",
       "    <tr>\n",
       "      <th>CODE3</th>\n",
       "      <th></th>\n",
       "      <th></th>\n",
       "      <th></th>\n",
       "    </tr>\n",
       "  </thead>\n",
       "  <tbody>\n",
       "    <tr>\n",
       "      <th>AFG</th>\n",
       "      <td>Afghanistan</td>\n",
       "      <td>AF</td>\n",
       "      <td>4</td>\n",
       "    </tr>\n",
       "    <tr>\n",
       "      <th>ALA</th>\n",
       "      <td>Aland Islands</td>\n",
       "      <td>AX</td>\n",
       "      <td>248</td>\n",
       "    </tr>\n",
       "    <tr>\n",
       "      <th>ALB</th>\n",
       "      <td>Albania</td>\n",
       "      <td>AL</td>\n",
       "      <td>8</td>\n",
       "    </tr>\n",
       "    <tr>\n",
       "      <th>DZA</th>\n",
       "      <td>Algeria</td>\n",
       "      <td>DZ</td>\n",
       "      <td>12</td>\n",
       "    </tr>\n",
       "    <tr>\n",
       "      <th>ASM</th>\n",
       "      <td>American Samoa</td>\n",
       "      <td>AS</td>\n",
       "      <td>16</td>\n",
       "    </tr>\n",
       "  </tbody>\n",
       "</table>\n",
       "</div>"
      ],
      "text/plain": [
       "                 NAME CODE2  CODEN\n",
       "CODE3                             \n",
       "AFG       Afghanistan    AF      4\n",
       "ALA     Aland Islands    AX    248\n",
       "ALB           Albania    AL      8\n",
       "DZA           Algeria    DZ     12\n",
       "ASM    American Samoa    AS     16"
      ]
     },
     "execution_count": 22,
     "metadata": {},
     "output_type": "execute_result"
    }
   ],
   "source": [
    "df_countries = pd.read_csv(data_path + 'countries_list.csv', sep=\";\", low_memory=False, skiprows=0)  \n",
    "df_countries.set_index(\"CODE3\", inplace=True)\n",
    "df_countries.head(5)"
   ]
  },
  {
   "cell_type": "code",
   "execution_count": 23,
   "metadata": {},
   "outputs": [],
   "source": [
    "df_10_countries_en.set_index('countries_en', inplace=True)"
   ]
  },
  {
   "cell_type": "markdown",
   "metadata": {},
   "source": [
    "Load JSON files with all countries (identifier is iso3lettercode) and show MAP"
   ]
  },
  {
   "cell_type": "code",
   "execution_count": 24,
   "metadata": {},
   "outputs": [],
   "source": [
    "##### Load Json File\n",
    "geo_json_data = json.load(open(data_path + 'country.json'))\n",
    "#geo_json_data"
   ]
  },
  {
   "cell_type": "markdown",
   "metadata": {},
   "source": [
    "**Show Map**\n",
    "Please notice that if the map is not shown and if you don't want/can reload the notebook, that there is an export saved in image , just after this section.\n"
   ]
  },
  {
   "cell_type": "code",
   "execution_count": 25,
   "metadata": {},
   "outputs": [
    {
     "name": "stdout",
     "output_type": "stream",
     "text": [
      "\n",
      "Top Largest Country per percentage of product\n",
      "\n",
      "\n",
      "Country_code3:BEL-Belgium - perc:0.7789002966540591color:#D1E2F3\n",
      "Country_code3:CHE-Switzerland - perc:1.986936658049712color:#D1E2F3\n",
      "Country_code3:DEU-Germany - perc:1.7061276228649565color:#D1E2F3\n",
      "Country_code3:ESP-Spain - perc:0.8955372783530565color:#D1E2F3\n",
      "Country_code3:FRA-France - perc:60.14521671004487color:#0B143D\n",
      "Country_code3:GBR-United Kingdom - perc:0.8279025002860907color:#D1E2F3\n",
      "Country_code3:USA-United States of America - perc:25.4538572363344color:#3074B0\n"
     ]
    },
    {
     "data": {
      "text/html": [
       "<div style=\"width:100%;\"><div style=\"position:relative;width:100%;height:0;padding-bottom:60%;\"><iframe src=\"data:text/html;charset=utf-8;base64,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\" style=\"position:absolute;width:100%;height:100%;left:0;top:0;border:none !important;\" allowfullscreen webkitallowfullscreen mozallowfullscreen></iframe></div></div>"
      ],
      "text/plain": [
       "<folium.folium.Map at 0x19be02e2a20>"
      ]
     },
     "execution_count": 25,
     "metadata": {},
     "output_type": "execute_result"
    }
   ],
   "source": [
    "results_map = folium.Map([46,8], tiles='cartodbpositron', zoom_start=2)\n",
    "folium.GeoJson(\n",
    "    geo_json_data,\n",
    "    style_function=lambda feature: {\n",
    "        'fillColor': get_country_map_color(feature['id']),\n",
    "        'color': 'gray',\n",
    "        'weight' : 1,\n",
    "        'dashArray' : '1, 1',\n",
    "        'lineOpacity' : 0.2,\n",
    "        'fillOpacity' : 0.9\n",
    "        }\n",
    "    ).add_to(results_map)\n",
    "\n",
    "print('\\nTop Largest Country per percentage of product\\n\\n')\n",
    "results_map"
   ]
  },
  {
   "cell_type": "markdown",
   "metadata": {},
   "source": [
    "**Top Largest Countries**\n",
    "\n",
    "It's clear, by looking on the map, that data for only few countries have been fulfilled.\n",
    "Based of this, we can say that most of the products are assigned to\n",
    "- **France**  with 409'951 products (~60%)\n",
    "- **United States of America**  with 174'494 products (~25%)\n",
    "- **Switzerland**  with 13'543 products (~1.98%)\n",
    "- **Germany**  with 11'629 products (~1.70%)\n",
    "\n",
    "- All others Countries have less than 1% each of representativity\n",
    "\n",
    "<img src=\"http://openfoodfacts.funspirit.ch/MapTop10Countries.JPG\"></img>"
   ]
  },
  {
   "cell_type": "markdown",
   "metadata": {},
   "source": [
    "<div class=\"alert alert-block alert-success\">\n",
    "\n",
    "<b>1.5 UNDERSTANDING THE DATA - Origins</b><br>\n",
    "<i>We are looking what are the origins (count/percentage/emtpy)</i>\n",
    "<hr>\n",
    "<b>Remarks</b><br>\n",
    "<i>\n",
    "Most of the products (94%) do not have any origin.\n",
    "    \n",
    "There is misspelling like 'Union Européenne' and 'Union européenne'\n",
    "\n",
    "</i>\n",
    "<br>\n",
    "</div>"
   ]
  },
  {
   "cell_type": "code",
   "execution_count": 26,
   "metadata": {},
   "outputs": [
    {
     "name": "stdout",
     "output_type": "stream",
     "text": [
      "\n",
      "Top 10 origins (Counts & Percentage)\n",
      "               origins  counts  percentage\n",
      "2043            France   10849    1.591691\n",
      "5760  Union Européenne    1507    0.221097\n",
      "3136            Italie     927    0.136003\n",
      "1703           Espagne     856    0.125586\n",
      "1753            España     667    0.097858\n",
      "3896            México     636    0.093310\n",
      "5825  Union européenne     469    0.068808\n",
      "604          Australia     462    0.067781\n",
      "5394            Suisse     372    0.054577\n",
      "1470       Deutschland     349    0.051203\n"
     ]
    },
    {
     "data": {
      "image/png": "[encoded data removed]",
      "text/plain": [
       "<Figure size 1080x720 with 1 Axes>"
      ]
     },
     "metadata": {},
     "output_type": "display_data"
    },
    {
     "name": "stdout",
     "output_type": "stream",
     "text": [
      "Number of empty records for origins: 640812 (94.01556920314201%)\n",
      "nunique      7407\n",
      "count       40790\n",
      "size       681602\n",
      "Name: origins, dtype: int64\n"
     ]
    }
   ],
   "source": [
    "##### Get top 10 Origins\n",
    "df_10_origins = get_top_10(df_food, 'origins')\n",
    "\n",
    "##### Show Result\n",
    "print('\\nTop 10 origins (Counts & Percentage)')\n",
    "print(df_10_origins)    \n",
    "show_plot(df_10_origins, 'origins')\n",
    "\n",
    "##### Show Information about empty records\n",
    "print_stats(df_food, 'origins')"
   ]
  },
  {
   "cell_type": "markdown",
   "metadata": {},
   "source": [
    "The origins is very denormalized and may contain as value a country a region or a continent,... 7407 unique values are far much than list of potential countries.\n",
    "\n",
    "This is making the usage of this field difficult."
   ]
  },
  {
   "cell_type": "markdown",
   "metadata": {},
   "source": [
    "<div class=\"alert alert-block alert-success\">\n",
    "\n",
    "<b>1.6 UNDERSTANDING THE DATA - Main Category</b><br>\n",
    "<i>We are looking what are the Main Category (count/percentage/emtpy)</i>\n",
    "<hr>\n",
    "<b>Remarks</b><br>\n",
    "<i>\n",
    "Most of the products (74%) do not have any Main Category.\n",
    "    \n",
    "To check if category changes by country, brands,...\n",
    "\n",
    "</i>\n",
    "<br>\n",
    "</div>"
   ]
  },
  {
   "cell_type": "code",
   "execution_count": 27,
   "metadata": {},
   "outputs": [
    {
     "name": "stdout",
     "output_type": "stream",
     "text": [
      "\n",
      "Top 10 main_category_en (Counts & Percentage)\n",
      "                     main_category_en  counts  percentage\n",
      "1289  Plant-based foods and beverages   37312    5.474162\n",
      "143                         Beverages   25368    3.721820\n",
      "1624                    Sugary snacks   23588    3.460671\n",
      "541                           Dairies   15580    2.285791\n",
      "1081                            Meats    9589    1.406833\n",
      "849                         Groceries    9390    1.377637\n",
      "1076                            Meals    7669    1.125143\n",
      "1599                          Spreads    4355    0.638936\n",
      "714                      Frozen foods    3093    0.453784\n",
      "750                      Fruit juices    3065    0.449676\n"
     ]
    },
    {
     "data": {
      "image/png": "[encoded data removed]",
      "text/plain": [
       "<Figure size 1080x720 with 1 Axes>"
      ]
     },
     "metadata": {},
     "output_type": "display_data"
    },
    {
     "name": "stdout",
     "output_type": "stream",
     "text": [
      "Number of empty records for main_category_en: 507880 (74.51269215759343%)\n",
      "nunique      6589\n",
      "count      173722\n",
      "size       681602\n",
      "Name: main_category_en, dtype: int64\n"
     ]
    }
   ],
   "source": [
    "##### Get top 10 Main Category en\n",
    "df_10_main_category_en = get_top_10(df_food, 'main_category_en')\n",
    "\n",
    "##### Show Result\n",
    "print('\\nTop 10 main_category_en (Counts & Percentage)')\n",
    "print(df_10_main_category_en)    \n",
    "show_plot(df_10_main_category_en, 'main_category_en')\n",
    "\n",
    "##### Show Information about empty records\n",
    "print_stats(df_food, 'main_category_en')"
   ]
  },
  {
   "cell_type": "markdown",
   "metadata": {},
   "source": [
    "It seems that 74% of the Products does not have any 'category'. Furthermore the first and second categories contain both 'Beverages'. "
   ]
  },
  {
   "cell_type": "markdown",
   "metadata": {},
   "source": [
    "<div class=\"alert alert-block alert-success\">\n",
    "\n",
    "<b>1.7 UNDERSTANDING THE DATA - EXTRA Anomalies</b><br>\n",
    "<i>We are looking if there are some more anomalies in data. We are looking about the Data Quality to understand what could be used for further analysis</i>\n",
    "<hr>\n",
    "<b>Remarks</b><br>\n",
    "<i>\n",
    "#Arrh, some product seems to be duplicated...  <br>\n",
    "#Think about to check first-last Product per Contributors !<br>\n",
    "#Think about to check per Country !<br>\n",
    "</i>\n",
    "<br>\n",
    "</div>\n"
   ]
  },
  {
   "cell_type": "markdown",
   "metadata": {},
   "source": [
    "We identified some duplicates as shown below, which should be cleaned/removed, once clearly identified."
   ]
  },
  {
   "cell_type": "code",
   "execution_count": 28,
   "metadata": {},
   "outputs": [
    {
     "data": {
      "text/html": [
       "<div>\n",
       "<style scoped>\n",
       "    .dataframe tbody tr th:only-of-type {\n",
       "        vertical-align: middle;\n",
       "    }\n",
       "\n",
       "    .dataframe tbody tr th {\n",
       "        vertical-align: top;\n",
       "    }\n",
       "\n",
       "    .dataframe thead th {\n",
       "        text-align: right;\n",
       "    }\n",
       "</style>\n",
       "<table border=\"1\" class=\"dataframe\">\n",
       "  <thead>\n",
       "    <tr style=\"text-align: right;\">\n",
       "      <th></th>\n",
       "      <th>code</th>\n",
       "      <th>url</th>\n",
       "      <th>creator</th>\n",
       "      <th>created_t</th>\n",
       "      <th>created_datetime</th>\n",
       "      <th>last_modified_t</th>\n",
       "      <th>last_modified_datetime</th>\n",
       "      <th>product_name</th>\n",
       "      <th>generic_name</th>\n",
       "      <th>quantity</th>\n",
       "      <th>...</th>\n",
       "      <th>carbon-footprint_100g</th>\n",
       "      <th>nutrition-score-fr_100g</th>\n",
       "      <th>nutrition-score-uk_100g</th>\n",
       "      <th>glycemic-index_100g</th>\n",
       "      <th>water-hardness_100g</th>\n",
       "      <th>choline_100g</th>\n",
       "      <th>phylloquinone_100g</th>\n",
       "      <th>beta-glucan_100g</th>\n",
       "      <th>inositol_100g</th>\n",
       "      <th>carnitine_100g</th>\n",
       "    </tr>\n",
       "  </thead>\n",
       "  <tbody>\n",
       "    <tr>\n",
       "      <th>112013</th>\n",
       "      <td>0084253269827</td>\n",
       "      <td>http://world-en.openfoodfacts.org/product/0084...</td>\n",
       "      <td>usda-ndb-import</td>\n",
       "      <td>1489143569</td>\n",
       "      <td>2017-03-10T10:59:29Z</td>\n",
       "      <td>1489143570</td>\n",
       "      <td>2017-03-10T10:59:30Z</td>\n",
       "      <td>Dream, Coffee+Almond Drink, Latte Mocha</td>\n",
       "      <td>NaN</td>\n",
       "      <td>NaN</td>\n",
       "      <td>...</td>\n",
       "      <td>NaN</td>\n",
       "      <td>NaN</td>\n",
       "      <td>NaN</td>\n",
       "      <td>NaN</td>\n",
       "      <td>NaN</td>\n",
       "      <td>NaN</td>\n",
       "      <td>NaN</td>\n",
       "      <td>NaN</td>\n",
       "      <td>NaN</td>\n",
       "      <td>NaN</td>\n",
       "    </tr>\n",
       "    <tr>\n",
       "      <th>644435</th>\n",
       "      <td>84253269827</td>\n",
       "      <td>http://world-en.openfoodfacts.org/product/8425...</td>\n",
       "      <td>usda-ndb-import</td>\n",
       "      <td>1489142713</td>\n",
       "      <td>2017-03-10T10:45:13Z</td>\n",
       "      <td>1489142713</td>\n",
       "      <td>2017-03-10T10:45:13Z</td>\n",
       "      <td>Coffee+Almond Drink</td>\n",
       "      <td>NaN</td>\n",
       "      <td>NaN</td>\n",
       "      <td>...</td>\n",
       "      <td>NaN</td>\n",
       "      <td>NaN</td>\n",
       "      <td>NaN</td>\n",
       "      <td>NaN</td>\n",
       "      <td>NaN</td>\n",
       "      <td>NaN</td>\n",
       "      <td>NaN</td>\n",
       "      <td>NaN</td>\n",
       "      <td>NaN</td>\n",
       "      <td>NaN</td>\n",
       "    </tr>\n",
       "  </tbody>\n",
       "</table>\n",
       "<p>2 rows × 173 columns</p>\n",
       "</div>"
      ],
      "text/plain": [
       "                 code                                                url  \\\n",
       "112013  0084253269827  http://world-en.openfoodfacts.org/product/0084...   \n",
       "644435    84253269827  http://world-en.openfoodfacts.org/product/8425...   \n",
       "\n",
       "                creator   created_t      created_datetime last_modified_t  \\\n",
       "112013  usda-ndb-import  1489143569  2017-03-10T10:59:29Z      1489143570   \n",
       "644435  usda-ndb-import  1489142713  2017-03-10T10:45:13Z      1489142713   \n",
       "\n",
       "       last_modified_datetime                             product_name  \\\n",
       "112013   2017-03-10T10:59:30Z  Dream, Coffee+Almond Drink, Latte Mocha   \n",
       "644435   2017-03-10T10:45:13Z                      Coffee+Almond Drink   \n",
       "\n",
       "       generic_name quantity      ...       carbon-footprint_100g  \\\n",
       "112013          NaN      NaN      ...                         NaN   \n",
       "644435          NaN      NaN      ...                         NaN   \n",
       "\n",
       "       nutrition-score-fr_100g nutrition-score-uk_100g glycemic-index_100g  \\\n",
       "112013                     NaN                     NaN                 NaN   \n",
       "644435                     NaN                     NaN                 NaN   \n",
       "\n",
       "       water-hardness_100g choline_100g phylloquinone_100g beta-glucan_100g  \\\n",
       "112013                 NaN          NaN                NaN              NaN   \n",
       "644435                 NaN          NaN                NaN              NaN   \n",
       "\n",
       "       inositol_100g carnitine_100g  \n",
       "112013           NaN            NaN  \n",
       "644435           NaN            NaN  \n",
       "\n",
       "[2 rows x 173 columns]"
      ]
     },
     "execution_count": 28,
     "metadata": {},
     "output_type": "execute_result"
    }
   ],
   "source": [
    "##### Duplicate Products with different product_name, see an example below !\n",
    "df_food.query(\"code.str.endswith('84253269827')==True\")\n",
    "    "
   ]
  },
  {
   "cell_type": "code",
   "execution_count": null,
   "metadata": {},
   "outputs": [],
   "source": []
  },
  {
   "cell_type": "code",
   "execution_count": null,
   "metadata": {},
   "outputs": [],
   "source": []
  },
  {
   "cell_type": "markdown",
   "metadata": {},
   "source": [
    "<div class=\"alert alert-info\">\n",
    "\n",
    "<b>2.0 DATA CLEANING</b><br><i>\n",
    "This part, in <b>blue</b>, contains all the Data Cleaning's activities, performed on the en.openfoodfacts.org.products.csv. The goal of this part is to clean the data and enrich them based on the required activities.\n",
    "    \n",
    "To perform this Data Cleaning, we decided to:\n",
    "- 2.1 Clean Product Name<br>\n",
    "- 2.2 Clean/Enrich with Product Category 1 and Product Category 2 \n",
    "\n",
    "Before doing any analysis, It's indeed important to have a proper consolidated Dataset. Indeed, we discover that the Dataset requires a lot of cleaning activities and that the data quality is sometimes poor. This is the main reason we would like to focus to <b>openfood-import-ch</b> and <b>usda-nb-import</b>.\n",
    "</i></div>"
   ]
  },
  {
   "cell_type": "markdown",
   "metadata": {},
   "source": [
    "## Restrict to some columns"
   ]
  },
  {
   "cell_type": "code",
   "execution_count": 29,
   "metadata": {},
   "outputs": [],
   "source": [
    "columns_to_keep = ['code', \\\n",
    "                   'url' ,\\\n",
    "                   'creator',\\\n",
    "                   'created_t',\\\n",
    "                   'created_datetime',\\\n",
    "                   'last_modified_t',\\\n",
    "                   'product_name',\\\n",
    "                   'brands',\\\n",
    "                   'brands_tags',\\\n",
    "                   'main_category_en',\\\n",
    "                   'categories_en',\\\n",
    "                   'origins',\\\n",
    "                   'countries_en',\n",
    "                   'ingredients_text',\\\n",
    "                   'quantity',\\\n",
    "                   'serving_size',\\\n",
    "                   'serving_quantity',\\\n",
    "                   'additives_en',\\\n",
    "                   'sugars_100g',\\\n",
    "                   'salt_100g',\\\n",
    "                   'fat_100g',\\\n",
    "                   'sodium_100g',\\\n",
    "                   'energy_100g',\\\n",
    "                   'nutrition-score-fr_100g',\\\n",
    "                   'nutrition-score-uk_100g']"
   ]
  },
  {
   "cell_type": "code",
   "execution_count": 30,
   "metadata": {},
   "outputs": [
    {
     "data": {
      "text/html": [
       "<div>\n",
       "<style scoped>\n",
       "    .dataframe tbody tr th:only-of-type {\n",
       "        vertical-align: middle;\n",
       "    }\n",
       "\n",
       "    .dataframe tbody tr th {\n",
       "        vertical-align: top;\n",
       "    }\n",
       "\n",
       "    .dataframe thead th {\n",
       "        text-align: right;\n",
       "    }\n",
       "</style>\n",
       "<table border=\"1\" class=\"dataframe\">\n",
       "  <thead>\n",
       "    <tr style=\"text-align: right;\">\n",
       "      <th></th>\n",
       "      <th>code</th>\n",
       "      <th>url</th>\n",
       "      <th>creator</th>\n",
       "      <th>created_t</th>\n",
       "      <th>created_datetime</th>\n",
       "      <th>last_modified_t</th>\n",
       "      <th>product_name</th>\n",
       "      <th>brands</th>\n",
       "      <th>brands_tags</th>\n",
       "      <th>main_category_en</th>\n",
       "      <th>...</th>\n",
       "      <th>serving_size</th>\n",
       "      <th>serving_quantity</th>\n",
       "      <th>additives_en</th>\n",
       "      <th>sugars_100g</th>\n",
       "      <th>salt_100g</th>\n",
       "      <th>fat_100g</th>\n",
       "      <th>sodium_100g</th>\n",
       "      <th>energy_100g</th>\n",
       "      <th>nutrition-score-fr_100g</th>\n",
       "      <th>nutrition-score-uk_100g</th>\n",
       "    </tr>\n",
       "  </thead>\n",
       "  <tbody>\n",
       "    <tr>\n",
       "      <th>0</th>\n",
       "      <td>0000000000017</td>\n",
       "      <td>http://world-en.openfoodfacts.org/product/0000...</td>\n",
       "      <td>kiliweb</td>\n",
       "      <td>1529059080</td>\n",
       "      <td>2018-06-15T10:38:00Z</td>\n",
       "      <td>1529059204</td>\n",
       "      <td>Vitória crackers</td>\n",
       "      <td>NaN</td>\n",
       "      <td>NaN</td>\n",
       "      <td>NaN</td>\n",
       "      <td>...</td>\n",
       "      <td>NaN</td>\n",
       "      <td>0</td>\n",
       "      <td>NaN</td>\n",
       "      <td>15.0</td>\n",
       "      <td>1.40</td>\n",
       "      <td>7.0</td>\n",
       "      <td>0.551181</td>\n",
       "      <td>1569.0</td>\n",
       "      <td>NaN</td>\n",
       "      <td>NaN</td>\n",
       "    </tr>\n",
       "    <tr>\n",
       "      <th>1</th>\n",
       "      <td>0000000000031</td>\n",
       "      <td>http://world-en.openfoodfacts.org/product/0000...</td>\n",
       "      <td>isagoofy</td>\n",
       "      <td>1539464774</td>\n",
       "      <td>2018-10-13T21:06:14Z</td>\n",
       "      <td>1539464817</td>\n",
       "      <td>Cacao</td>\n",
       "      <td>NaN</td>\n",
       "      <td>NaN</td>\n",
       "      <td>NaN</td>\n",
       "      <td>...</td>\n",
       "      <td>NaN</td>\n",
       "      <td>0</td>\n",
       "      <td>NaN</td>\n",
       "      <td>NaN</td>\n",
       "      <td>NaN</td>\n",
       "      <td>NaN</td>\n",
       "      <td>NaN</td>\n",
       "      <td>NaN</td>\n",
       "      <td>NaN</td>\n",
       "      <td>NaN</td>\n",
       "    </tr>\n",
       "    <tr>\n",
       "      <th>2</th>\n",
       "      <td>0000000000123</td>\n",
       "      <td>http://world-en.openfoodfacts.org/product/0000...</td>\n",
       "      <td>kiliweb</td>\n",
       "      <td>1535737982</td>\n",
       "      <td>2018-08-31T17:53:02Z</td>\n",
       "      <td>1535737986</td>\n",
       "      <td>Sauce Sweety chili 0%</td>\n",
       "      <td>NaN</td>\n",
       "      <td>NaN</td>\n",
       "      <td>NaN</td>\n",
       "      <td>...</td>\n",
       "      <td>NaN</td>\n",
       "      <td>0</td>\n",
       "      <td>NaN</td>\n",
       "      <td>0.4</td>\n",
       "      <td>2.04</td>\n",
       "      <td>0.0</td>\n",
       "      <td>0.803150</td>\n",
       "      <td>88.0</td>\n",
       "      <td>NaN</td>\n",
       "      <td>NaN</td>\n",
       "    </tr>\n",
       "    <tr>\n",
       "      <th>3</th>\n",
       "      <td>0000000000291</td>\n",
       "      <td>http://world-en.openfoodfacts.org/product/0000...</td>\n",
       "      <td>kiliweb</td>\n",
       "      <td>1534239669</td>\n",
       "      <td>2018-08-14T09:41:09Z</td>\n",
       "      <td>1534239732</td>\n",
       "      <td>Mendiants</td>\n",
       "      <td>NaN</td>\n",
       "      <td>NaN</td>\n",
       "      <td>NaN</td>\n",
       "      <td>...</td>\n",
       "      <td>NaN</td>\n",
       "      <td>0</td>\n",
       "      <td>NaN</td>\n",
       "      <td>NaN</td>\n",
       "      <td>NaN</td>\n",
       "      <td>NaN</td>\n",
       "      <td>NaN</td>\n",
       "      <td>NaN</td>\n",
       "      <td>NaN</td>\n",
       "      <td>NaN</td>\n",
       "    </tr>\n",
       "    <tr>\n",
       "      <th>4</th>\n",
       "      <td>0000000000949</td>\n",
       "      <td>http://world-en.openfoodfacts.org/product/0000...</td>\n",
       "      <td>kiliweb</td>\n",
       "      <td>1523440813</td>\n",
       "      <td>2018-04-11T10:00:13Z</td>\n",
       "      <td>1523440823</td>\n",
       "      <td>Salade de carottes râpées</td>\n",
       "      <td>NaN</td>\n",
       "      <td>NaN</td>\n",
       "      <td>NaN</td>\n",
       "      <td>...</td>\n",
       "      <td>NaN</td>\n",
       "      <td>0</td>\n",
       "      <td>NaN</td>\n",
       "      <td>3.9</td>\n",
       "      <td>0.42</td>\n",
       "      <td>0.3</td>\n",
       "      <td>0.165354</td>\n",
       "      <td>134.0</td>\n",
       "      <td>NaN</td>\n",
       "      <td>NaN</td>\n",
       "    </tr>\n",
       "  </tbody>\n",
       "</table>\n",
       "<p>5 rows × 25 columns</p>\n",
       "</div>"
      ],
      "text/plain": [
       "            code                                                url   creator  \\\n",
       "0  0000000000017  http://world-en.openfoodfacts.org/product/0000...   kiliweb   \n",
       "1  0000000000031  http://world-en.openfoodfacts.org/product/0000...  isagoofy   \n",
       "2  0000000000123  http://world-en.openfoodfacts.org/product/0000...   kiliweb   \n",
       "3  0000000000291  http://world-en.openfoodfacts.org/product/0000...   kiliweb   \n",
       "4  0000000000949  http://world-en.openfoodfacts.org/product/0000...   kiliweb   \n",
       "\n",
       "    created_t      created_datetime last_modified_t  \\\n",
       "0  1529059080  2018-06-15T10:38:00Z      1529059204   \n",
       "1  1539464774  2018-10-13T21:06:14Z      1539464817   \n",
       "2  1535737982  2018-08-31T17:53:02Z      1535737986   \n",
       "3  1534239669  2018-08-14T09:41:09Z      1534239732   \n",
       "4  1523440813  2018-04-11T10:00:13Z      1523440823   \n",
       "\n",
       "                product_name brands brands_tags main_category_en  \\\n",
       "0           Vitória crackers    NaN         NaN              NaN   \n",
       "1                      Cacao    NaN         NaN              NaN   \n",
       "2      Sauce Sweety chili 0%    NaN         NaN              NaN   \n",
       "3                  Mendiants    NaN         NaN              NaN   \n",
       "4  Salade de carottes râpées    NaN         NaN              NaN   \n",
       "\n",
       "            ...            serving_size serving_quantity additives_en  \\\n",
       "0           ...                     NaN                0          NaN   \n",
       "1           ...                     NaN                0          NaN   \n",
       "2           ...                     NaN                0          NaN   \n",
       "3           ...                     NaN                0          NaN   \n",
       "4           ...                     NaN                0          NaN   \n",
       "\n",
       "  sugars_100g salt_100g fat_100g sodium_100g energy_100g  \\\n",
       "0        15.0      1.40      7.0    0.551181      1569.0   \n",
       "1         NaN       NaN      NaN         NaN         NaN   \n",
       "2         0.4      2.04      0.0    0.803150        88.0   \n",
       "3         NaN       NaN      NaN         NaN         NaN   \n",
       "4         3.9      0.42      0.3    0.165354       134.0   \n",
       "\n",
       "   nutrition-score-fr_100g  nutrition-score-uk_100g  \n",
       "0                      NaN                      NaN  \n",
       "1                      NaN                      NaN  \n",
       "2                      NaN                      NaN  \n",
       "3                      NaN                      NaN  \n",
       "4                      NaN                      NaN  \n",
       "\n",
       "[5 rows x 25 columns]"
      ]
     },
     "execution_count": 30,
     "metadata": {},
     "output_type": "execute_result"
    }
   ],
   "source": [
    "df_food_clean = df_food[columns_to_keep]\n",
    "df_food_clean.head()"
   ]
  },
  {
   "cell_type": "markdown",
   "metadata": {},
   "source": [
    "## Filter/Split Data (CH & USDA)"
   ]
  },
  {
   "cell_type": "code",
   "execution_count": 31,
   "metadata": {},
   "outputs": [],
   "source": [
    "df_food_clean_ch = df_food_clean.query(\"creator == 'openfood-ch-import'\")"
   ]
  },
  {
   "cell_type": "code",
   "execution_count": 32,
   "metadata": {},
   "outputs": [],
   "source": [
    "df_food_clean_usda = df_food_clean.query(\"creator == 'usda-ndb-import'\")"
   ]
  },
  {
   "cell_type": "markdown",
   "metadata": {},
   "source": [
    "<div class=\"alert alert-block alert-info\">\n",
    "\n",
    "<b>2.1 DATA CLEANING - Product Name</b><br>\n",
    "<i>Clean Product Name</i>\n",
    "<hr>\n",
    "<b>Remarks</b><br>\n",
    "<i>\n",
    "In order to have a proper data set, we decided to<br>\n",
    "    - Replace NaN value for Product_name, brands_tags and categories_en<br>\n",
    "    - Remove Products which do not have a Product Name, Category and a Brand<br>\n",
    "    - Replace empty Product Name by Category or Brand<br>\n",
    "</i>\n",
    "<br>\n",
    "</div>"
   ]
  },
  {
   "cell_type": "markdown",
   "metadata": {},
   "source": [
    "## Concept"
   ]
  },
  {
   "cell_type": "markdown",
   "metadata": {},
   "source": [
    "**Removing all products** which do not have any product's name, Category and Brands."
   ]
  },
  {
   "cell_type": "markdown",
   "metadata": {},
   "source": [
    "## Functions"
   ]
  },
  {
   "cell_type": "markdown",
   "metadata": {},
   "source": [
    "The function **check_if_exist** check if a current/specific value exists and returns 'Others' if it does not exist-"
   ]
  },
  {
   "cell_type": "code",
   "execution_count": 33,
   "metadata": {},
   "outputs": [],
   "source": [
    "def check_if_exist(curr_value, values):\n",
    "    \n",
    "    if (curr_value in values):        \n",
    "        return curr_value\n",
    "    else:\n",
    "        return 'Others'\n",
    "    \n",
    "    return 'Others'"
   ]
  },
  {
   "cell_type": "markdown",
   "metadata": {},
   "source": [
    "The function **replace_nan** replace all nan value for brands_tag and categories_en"
   ]
  },
  {
   "cell_type": "code",
   "execution_count": 34,
   "metadata": {},
   "outputs": [],
   "source": [
    "def replace_nan(df):\n",
    "    df.product_name.fillna('', inplace=True)\n",
    "    df.brands_tags.fillna('', inplace=True)\n",
    "    df.categories_en.fillna('', inplace=True)    \n",
    "    "
   ]
  },
  {
   "cell_type": "markdown",
   "metadata": {},
   "source": [
    "The function **show_product_without_name_category_brand** shows all the products which do not have:\n",
    "- any Product Name\n",
    "- any categories\n",
    "- any Brands"
   ]
  },
  {
   "cell_type": "code",
   "execution_count": 35,
   "metadata": {},
   "outputs": [],
   "source": [
    "def show_product_without_name_category_brand(df):\n",
    "    conditions = 'product_name.str.len() + categories_en.str.len() + brands_tags.str.len() == 0'\n",
    "    \n",
    "    df_to_clean = df.query(conditions)\n",
    "    \n",
    "    print('Products without Product name, Category and Brands: ' + str(df_to_clean.shape[0]))\n",
    "    print(df_to_clean[['code','product_name','brands','categories_en', 'sugars_100g']].head(10))\n"
   ]
  },
  {
   "cell_type": "markdown",
   "metadata": {},
   "source": [
    "The function **remove_product_without_name_category_brand** remove product which are not having any:\n",
    "- Product Name\n",
    "- Category\n",
    "- Brands"
   ]
  },
  {
   "cell_type": "code",
   "execution_count": 36,
   "metadata": {},
   "outputs": [],
   "source": [
    "def remove_product_without_name_category_brand(df):\n",
    "    conditions = 'product_name.str.len() + categories_en.str.len() + brands_tags.str.len() == 0'\n",
    "    \n",
    "    df_to_clean = df.drop(df.query(conditions).index, inplace=True)\n",
    "    "
   ]
  },
  {
   "cell_type": "markdown",
   "metadata": {},
   "source": [
    "The function **clean_product_name** ensure that the product_name is not empty by replacing empty product name with brands and/or category. "
   ]
  },
  {
   "cell_type": "code",
   "execution_count": 37,
   "metadata": {},
   "outputs": [],
   "source": [
    "def clean_product_name(df):\n",
    "    \n",
    "    #### This is not the optimal approach, \n",
    "    #### but it's quite flexible and could be improved accordingly.\n",
    "    for index, row in df.iterrows():        \n",
    "        product_name = str(row['product_name'])\n",
    "        categories_en = str(row['categories_en'])\n",
    "        brands_tags = str(row['brands_tags'])\n",
    "        \n",
    "        if (len(product_name)==0):\n",
    "        \n",
    "            if (len(brands_tags)>0):\n",
    "                product_name = brands_tags\n",
    "            elif (len(categories_en)>0):\n",
    "                product_name = categories_en\n",
    "            else:\n",
    "                product_name = 'Undefined'\n",
    "                \n",
    "            df.loc[index,'product_name'] = product_name            "
   ]
  },
  {
   "cell_type": "markdown",
   "metadata": {},
   "source": [
    "## Clean Product Name (CH)"
   ]
  },
  {
   "cell_type": "markdown",
   "metadata": {},
   "source": [
    "**Remove all nan values** for product_name, brands_tags and categories_en and replace them by an **empty string**."
   ]
  },
  {
   "cell_type": "code",
   "execution_count": 42,
   "metadata": {},
   "outputs": [
    {
     "ename": "TypeError",
     "evalue": "unhashable type: 'numpy.ndarray'",
     "output_type": "error",
     "traceback": [
      "\u001b[1;31m---------------------------------------------------------------------------\u001b[0m",
      "\u001b[1;31mTypeError\u001b[0m                                 Traceback (most recent call last)",
      "\u001b[1;32m<ipython-input-42-2dde96d30e5c>\u001b[0m in \u001b[0;36m<module>\u001b[1;34m()\u001b[0m\n\u001b[0;32m      1\u001b[0m \u001b[0mreplace_nan\u001b[0m\u001b[1;33m(\u001b[0m\u001b[0mdf_food_clean_ch\u001b[0m\u001b[1;33m)\u001b[0m\u001b[1;33m\u001b[0m\u001b[0m\n\u001b[1;32m----> 2\u001b[1;33m \u001b[0mshow_product_without_name_category_brand\u001b[0m\u001b[1;33m(\u001b[0m\u001b[0mdf_food_clean_ch\u001b[0m\u001b[1;33m)\u001b[0m\u001b[1;33m\u001b[0m\u001b[0m\n\u001b[0m",
      "\u001b[1;32m<ipython-input-35-ff00de47f546>\u001b[0m in \u001b[0;36mshow_product_without_name_category_brand\u001b[1;34m(df)\u001b[0m\n\u001b[0;32m      2\u001b[0m     \u001b[0mconditions\u001b[0m \u001b[1;33m=\u001b[0m \u001b[1;34m'product_name.str.len() + categories_en.str.len() + brands_tags.str.len() == 0'\u001b[0m\u001b[1;33m\u001b[0m\u001b[0m\n\u001b[0;32m      3\u001b[0m \u001b[1;33m\u001b[0m\u001b[0m\n\u001b[1;32m----> 4\u001b[1;33m     \u001b[0mdf_to_clean\u001b[0m \u001b[1;33m=\u001b[0m \u001b[0mdf\u001b[0m\u001b[1;33m.\u001b[0m\u001b[0mquery\u001b[0m\u001b[1;33m(\u001b[0m\u001b[0mconditions\u001b[0m\u001b[1;33m)\u001b[0m\u001b[1;33m\u001b[0m\u001b[0m\n\u001b[0m\u001b[0;32m      5\u001b[0m \u001b[1;33m\u001b[0m\u001b[0m\n\u001b[0;32m      6\u001b[0m     \u001b[0mprint\u001b[0m\u001b[1;33m(\u001b[0m\u001b[1;34m'Products without Product name, Category and Brands: '\u001b[0m \u001b[1;33m+\u001b[0m \u001b[0mstr\u001b[0m\u001b[1;33m(\u001b[0m\u001b[0mdf_to_clean\u001b[0m\u001b[1;33m.\u001b[0m\u001b[0mshape\u001b[0m\u001b[1;33m[\u001b[0m\u001b[1;36m0\u001b[0m\u001b[1;33m]\u001b[0m\u001b[1;33m)\u001b[0m\u001b[1;33m)\u001b[0m\u001b[1;33m\u001b[0m\u001b[0m\n",
      "\u001b[1;32mD:\\DEV\\ANACONDA3\\envs\\ada\\lib\\site-packages\\pandas\\core\\frame.py\u001b[0m in \u001b[0;36mquery\u001b[1;34m(self, expr, inplace, **kwargs)\u001b[0m\n\u001b[0;32m   2845\u001b[0m         \u001b[0mkwargs\u001b[0m\u001b[1;33m[\u001b[0m\u001b[1;34m'level'\u001b[0m\u001b[1;33m]\u001b[0m \u001b[1;33m=\u001b[0m \u001b[0mkwargs\u001b[0m\u001b[1;33m.\u001b[0m\u001b[0mpop\u001b[0m\u001b[1;33m(\u001b[0m\u001b[1;34m'level'\u001b[0m\u001b[1;33m,\u001b[0m \u001b[1;36m0\u001b[0m\u001b[1;33m)\u001b[0m \u001b[1;33m+\u001b[0m \u001b[1;36m1\u001b[0m\u001b[1;33m\u001b[0m\u001b[0m\n\u001b[0;32m   2846\u001b[0m         \u001b[0mkwargs\u001b[0m\u001b[1;33m[\u001b[0m\u001b[1;34m'target'\u001b[0m\u001b[1;33m]\u001b[0m \u001b[1;33m=\u001b[0m \u001b[1;32mNone\u001b[0m\u001b[1;33m\u001b[0m\u001b[0m\n\u001b[1;32m-> 2847\u001b[1;33m         \u001b[0mres\u001b[0m \u001b[1;33m=\u001b[0m \u001b[0mself\u001b[0m\u001b[1;33m.\u001b[0m\u001b[0meval\u001b[0m\u001b[1;33m(\u001b[0m\u001b[0mexpr\u001b[0m\u001b[1;33m,\u001b[0m \u001b[1;33m**\u001b[0m\u001b[0mkwargs\u001b[0m\u001b[1;33m)\u001b[0m\u001b[1;33m\u001b[0m\u001b[0m\n\u001b[0m\u001b[0;32m   2848\u001b[0m \u001b[1;33m\u001b[0m\u001b[0m\n\u001b[0;32m   2849\u001b[0m         \u001b[1;32mtry\u001b[0m\u001b[1;33m:\u001b[0m\u001b[1;33m\u001b[0m\u001b[0m\n",
      "\u001b[1;32mD:\\DEV\\ANACONDA3\\envs\\ada\\lib\\site-packages\\pandas\\core\\frame.py\u001b[0m in \u001b[0;36meval\u001b[1;34m(self, expr, inplace, **kwargs)\u001b[0m\n\u001b[0;32m   2960\u001b[0m             \u001b[0mkwargs\u001b[0m\u001b[1;33m[\u001b[0m\u001b[1;34m'target'\u001b[0m\u001b[1;33m]\u001b[0m \u001b[1;33m=\u001b[0m \u001b[0mself\u001b[0m\u001b[1;33m\u001b[0m\u001b[0m\n\u001b[0;32m   2961\u001b[0m         \u001b[0mkwargs\u001b[0m\u001b[1;33m[\u001b[0m\u001b[1;34m'resolvers'\u001b[0m\u001b[1;33m]\u001b[0m \u001b[1;33m=\u001b[0m \u001b[0mkwargs\u001b[0m\u001b[1;33m.\u001b[0m\u001b[0mget\u001b[0m\u001b[1;33m(\u001b[0m\u001b[1;34m'resolvers'\u001b[0m\u001b[1;33m,\u001b[0m \u001b[1;33m(\u001b[0m\u001b[1;33m)\u001b[0m\u001b[1;33m)\u001b[0m \u001b[1;33m+\u001b[0m \u001b[0mtuple\u001b[0m\u001b[1;33m(\u001b[0m\u001b[0mresolvers\u001b[0m\u001b[1;33m)\u001b[0m\u001b[1;33m\u001b[0m\u001b[0m\n\u001b[1;32m-> 2962\u001b[1;33m         \u001b[1;32mreturn\u001b[0m \u001b[0m_eval\u001b[0m\u001b[1;33m(\u001b[0m\u001b[0mexpr\u001b[0m\u001b[1;33m,\u001b[0m \u001b[0minplace\u001b[0m\u001b[1;33m=\u001b[0m\u001b[0minplace\u001b[0m\u001b[1;33m,\u001b[0m \u001b[1;33m**\u001b[0m\u001b[0mkwargs\u001b[0m\u001b[1;33m)\u001b[0m\u001b[1;33m\u001b[0m\u001b[0m\n\u001b[0m\u001b[0;32m   2963\u001b[0m \u001b[1;33m\u001b[0m\u001b[0m\n\u001b[0;32m   2964\u001b[0m     \u001b[1;32mdef\u001b[0m \u001b[0mselect_dtypes\u001b[0m\u001b[1;33m(\u001b[0m\u001b[0mself\u001b[0m\u001b[1;33m,\u001b[0m \u001b[0minclude\u001b[0m\u001b[1;33m=\u001b[0m\u001b[1;32mNone\u001b[0m\u001b[1;33m,\u001b[0m \u001b[0mexclude\u001b[0m\u001b[1;33m=\u001b[0m\u001b[1;32mNone\u001b[0m\u001b[1;33m)\u001b[0m\u001b[1;33m:\u001b[0m\u001b[1;33m\u001b[0m\u001b[0m\n",
      "\u001b[1;32mD:\\DEV\\ANACONDA3\\envs\\ada\\lib\\site-packages\\pandas\\core\\computation\\eval.py\u001b[0m in \u001b[0;36meval\u001b[1;34m(expr, parser, engine, truediv, local_dict, global_dict, resolvers, level, target, inplace)\u001b[0m\n\u001b[0;32m    294\u001b[0m         \u001b[0meng\u001b[0m \u001b[1;33m=\u001b[0m \u001b[0m_engines\u001b[0m\u001b[1;33m[\u001b[0m\u001b[0mengine\u001b[0m\u001b[1;33m]\u001b[0m\u001b[1;33m\u001b[0m\u001b[0m\n\u001b[0;32m    295\u001b[0m         \u001b[0meng_inst\u001b[0m \u001b[1;33m=\u001b[0m \u001b[0meng\u001b[0m\u001b[1;33m(\u001b[0m\u001b[0mparsed_expr\u001b[0m\u001b[1;33m)\u001b[0m\u001b[1;33m\u001b[0m\u001b[0m\n\u001b[1;32m--> 296\u001b[1;33m         \u001b[0mret\u001b[0m \u001b[1;33m=\u001b[0m \u001b[0meng_inst\u001b[0m\u001b[1;33m.\u001b[0m\u001b[0mevaluate\u001b[0m\u001b[1;33m(\u001b[0m\u001b[1;33m)\u001b[0m\u001b[1;33m\u001b[0m\u001b[0m\n\u001b[0m\u001b[0;32m    297\u001b[0m \u001b[1;33m\u001b[0m\u001b[0m\n\u001b[0;32m    298\u001b[0m         \u001b[1;32mif\u001b[0m \u001b[0mparsed_expr\u001b[0m\u001b[1;33m.\u001b[0m\u001b[0massigner\u001b[0m \u001b[1;32mis\u001b[0m \u001b[1;32mNone\u001b[0m\u001b[1;33m:\u001b[0m\u001b[1;33m\u001b[0m\u001b[0m\n",
      "\u001b[1;32mD:\\DEV\\ANACONDA3\\envs\\ada\\lib\\site-packages\\pandas\\core\\computation\\engines.py\u001b[0m in \u001b[0;36mevaluate\u001b[1;34m(self)\u001b[0m\n\u001b[0;32m     74\u001b[0m \u001b[1;33m\u001b[0m\u001b[0m\n\u001b[0;32m     75\u001b[0m         \u001b[1;31m# make sure no names in resolvers and locals/globals clash\u001b[0m\u001b[1;33m\u001b[0m\u001b[1;33m\u001b[0m\u001b[0m\n\u001b[1;32m---> 76\u001b[1;33m         \u001b[0mres\u001b[0m \u001b[1;33m=\u001b[0m \u001b[0mself\u001b[0m\u001b[1;33m.\u001b[0m\u001b[0m_evaluate\u001b[0m\u001b[1;33m(\u001b[0m\u001b[1;33m)\u001b[0m\u001b[1;33m\u001b[0m\u001b[0m\n\u001b[0m\u001b[0;32m     77\u001b[0m         return _reconstruct_object(self.result_type, res, self.aligned_axes,\n\u001b[0;32m     78\u001b[0m                                    self.expr.terms.return_type)\n",
      "\u001b[1;32mD:\\DEV\\ANACONDA3\\envs\\ada\\lib\\site-packages\\pandas\\core\\computation\\engines.py\u001b[0m in \u001b[0;36m_evaluate\u001b[1;34m(self)\u001b[0m\n\u001b[0;32m    120\u001b[0m             \u001b[0mscope\u001b[0m \u001b[1;33m=\u001b[0m \u001b[0menv\u001b[0m\u001b[1;33m.\u001b[0m\u001b[0mfull_scope\u001b[0m\u001b[1;33m\u001b[0m\u001b[0m\n\u001b[0;32m    121\u001b[0m             \u001b[0mtruediv\u001b[0m \u001b[1;33m=\u001b[0m \u001b[0mscope\u001b[0m\u001b[1;33m[\u001b[0m\u001b[1;34m'truediv'\u001b[0m\u001b[1;33m]\u001b[0m\u001b[1;33m\u001b[0m\u001b[0m\n\u001b[1;32m--> 122\u001b[1;33m             \u001b[0m_check_ne_builtin_clash\u001b[0m\u001b[1;33m(\u001b[0m\u001b[0mself\u001b[0m\u001b[1;33m.\u001b[0m\u001b[0mexpr\u001b[0m\u001b[1;33m)\u001b[0m\u001b[1;33m\u001b[0m\u001b[0m\n\u001b[0m\u001b[0;32m    123\u001b[0m             \u001b[1;32mreturn\u001b[0m \u001b[0mne\u001b[0m\u001b[1;33m.\u001b[0m\u001b[0mevaluate\u001b[0m\u001b[1;33m(\u001b[0m\u001b[0ms\u001b[0m\u001b[1;33m,\u001b[0m \u001b[0mlocal_dict\u001b[0m\u001b[1;33m=\u001b[0m\u001b[0mscope\u001b[0m\u001b[1;33m,\u001b[0m \u001b[0mtruediv\u001b[0m\u001b[1;33m=\u001b[0m\u001b[0mtruediv\u001b[0m\u001b[1;33m)\u001b[0m\u001b[1;33m\u001b[0m\u001b[0m\n\u001b[0;32m    124\u001b[0m         \u001b[1;32mexcept\u001b[0m \u001b[0mKeyError\u001b[0m \u001b[1;32mas\u001b[0m \u001b[0me\u001b[0m\u001b[1;33m:\u001b[0m\u001b[1;33m\u001b[0m\u001b[0m\n",
      "\u001b[1;32mD:\\DEV\\ANACONDA3\\envs\\ada\\lib\\site-packages\\pandas\\core\\computation\\engines.py\u001b[0m in \u001b[0;36m_check_ne_builtin_clash\u001b[1;34m(expr)\u001b[0m\n\u001b[0;32m     29\u001b[0m         \u001b[0mTerms\u001b[0m \u001b[0mcan\u001b[0m \u001b[0mcontain\u001b[0m\u001b[1;33m\u001b[0m\u001b[0m\n\u001b[0;32m     30\u001b[0m     \"\"\"\n\u001b[1;32m---> 31\u001b[1;33m     \u001b[0mnames\u001b[0m \u001b[1;33m=\u001b[0m \u001b[0mexpr\u001b[0m\u001b[1;33m.\u001b[0m\u001b[0mnames\u001b[0m\u001b[1;33m\u001b[0m\u001b[0m\n\u001b[0m\u001b[0;32m     32\u001b[0m     \u001b[0moverlap\u001b[0m \u001b[1;33m=\u001b[0m \u001b[0mnames\u001b[0m \u001b[1;33m&\u001b[0m \u001b[0m_ne_builtins\u001b[0m\u001b[1;33m\u001b[0m\u001b[0m\n\u001b[0;32m     33\u001b[0m \u001b[1;33m\u001b[0m\u001b[0m\n",
      "\u001b[1;32mD:\\DEV\\ANACONDA3\\envs\\ada\\lib\\site-packages\\pandas\\core\\computation\\expr.py\u001b[0m in \u001b[0;36mnames\u001b[1;34m(self)\u001b[0m\n\u001b[0;32m    761\u001b[0m         \u001b[1;32mif\u001b[0m \u001b[0mis_term\u001b[0m\u001b[1;33m(\u001b[0m\u001b[0mself\u001b[0m\u001b[1;33m.\u001b[0m\u001b[0mterms\u001b[0m\u001b[1;33m)\u001b[0m\u001b[1;33m:\u001b[0m\u001b[1;33m\u001b[0m\u001b[0m\n\u001b[0;32m    762\u001b[0m             \u001b[1;32mreturn\u001b[0m \u001b[0mfrozenset\u001b[0m\u001b[1;33m(\u001b[0m\u001b[1;33m[\u001b[0m\u001b[0mself\u001b[0m\u001b[1;33m.\u001b[0m\u001b[0mterms\u001b[0m\u001b[1;33m.\u001b[0m\u001b[0mname\u001b[0m\u001b[1;33m]\u001b[0m\u001b[1;33m)\u001b[0m\u001b[1;33m\u001b[0m\u001b[0m\n\u001b[1;32m--> 763\u001b[1;33m         \u001b[1;32mreturn\u001b[0m \u001b[0mfrozenset\u001b[0m\u001b[1;33m(\u001b[0m\u001b[0mterm\u001b[0m\u001b[1;33m.\u001b[0m\u001b[0mname\u001b[0m \u001b[1;32mfor\u001b[0m \u001b[0mterm\u001b[0m \u001b[1;32min\u001b[0m \u001b[0mcom\u001b[0m\u001b[1;33m.\u001b[0m\u001b[0mflatten\u001b[0m\u001b[1;33m(\u001b[0m\u001b[0mself\u001b[0m\u001b[1;33m.\u001b[0m\u001b[0mterms\u001b[0m\u001b[1;33m)\u001b[0m\u001b[1;33m)\u001b[0m\u001b[1;33m\u001b[0m\u001b[0m\n\u001b[0m\u001b[0;32m    764\u001b[0m \u001b[1;33m\u001b[0m\u001b[0m\n\u001b[0;32m    765\u001b[0m \u001b[1;33m\u001b[0m\u001b[0m\n",
      "\u001b[1;31mTypeError\u001b[0m: unhashable type: 'numpy.ndarray'"
     ]
    }
   ],
   "source": [
    "replace_nan(df_food_clean_ch)\n",
    "show_product_without_name_category_brand(df_food_clean_ch)"
   ]
  },
  {
   "cell_type": "code",
   "execution_count": 41,
   "metadata": {},
   "outputs": [
    {
     "ename": "TypeError",
     "evalue": "unhashable type: 'numpy.ndarray'",
     "output_type": "error",
     "traceback": [
      "\u001b[1;31m---------------------------------------------------------------------------\u001b[0m",
      "\u001b[1;31mTypeError\u001b[0m                                 Traceback (most recent call last)",
      "\u001b[1;32m<ipython-input-41-b6c4d8884b87>\u001b[0m in \u001b[0;36m<module>\u001b[1;34m()\u001b[0m\n\u001b[1;32m----> 1\u001b[1;33m \u001b[0mremove_product_without_name_category_brand\u001b[0m\u001b[1;33m(\u001b[0m\u001b[0mdf_food_clean_ch\u001b[0m\u001b[1;33m)\u001b[0m\u001b[1;33m\u001b[0m\u001b[0m\n\u001b[0m",
      "\u001b[1;32m<ipython-input-36-0736df4788e9>\u001b[0m in \u001b[0;36mremove_product_without_name_category_brand\u001b[1;34m(df)\u001b[0m\n\u001b[0;32m      2\u001b[0m     \u001b[0mconditions\u001b[0m \u001b[1;33m=\u001b[0m \u001b[1;34m'product_name.str.len() + categories_en.str.len() + brands_tags.str.len() == 0'\u001b[0m\u001b[1;33m\u001b[0m\u001b[0m\n\u001b[0;32m      3\u001b[0m \u001b[1;33m\u001b[0m\u001b[0m\n\u001b[1;32m----> 4\u001b[1;33m     \u001b[0mdf_to_clean\u001b[0m \u001b[1;33m=\u001b[0m \u001b[0mdf\u001b[0m\u001b[1;33m.\u001b[0m\u001b[0mdrop\u001b[0m\u001b[1;33m(\u001b[0m\u001b[0mdf\u001b[0m\u001b[1;33m.\u001b[0m\u001b[0mquery\u001b[0m\u001b[1;33m(\u001b[0m\u001b[0mconditions\u001b[0m\u001b[1;33m)\u001b[0m\u001b[1;33m.\u001b[0m\u001b[0mindex\u001b[0m\u001b[1;33m,\u001b[0m \u001b[0minplace\u001b[0m\u001b[1;33m=\u001b[0m\u001b[1;32mTrue\u001b[0m\u001b[1;33m)\u001b[0m\u001b[1;33m\u001b[0m\u001b[0m\n\u001b[0m\u001b[0;32m      5\u001b[0m \u001b[1;33m\u001b[0m\u001b[0m\n",
      "\u001b[1;32mD:\\DEV\\ANACONDA3\\envs\\ada\\lib\\site-packages\\pandas\\core\\frame.py\u001b[0m in \u001b[0;36mquery\u001b[1;34m(self, expr, inplace, **kwargs)\u001b[0m\n\u001b[0;32m   2845\u001b[0m         \u001b[0mkwargs\u001b[0m\u001b[1;33m[\u001b[0m\u001b[1;34m'level'\u001b[0m\u001b[1;33m]\u001b[0m \u001b[1;33m=\u001b[0m \u001b[0mkwargs\u001b[0m\u001b[1;33m.\u001b[0m\u001b[0mpop\u001b[0m\u001b[1;33m(\u001b[0m\u001b[1;34m'level'\u001b[0m\u001b[1;33m,\u001b[0m \u001b[1;36m0\u001b[0m\u001b[1;33m)\u001b[0m \u001b[1;33m+\u001b[0m \u001b[1;36m1\u001b[0m\u001b[1;33m\u001b[0m\u001b[0m\n\u001b[0;32m   2846\u001b[0m         \u001b[0mkwargs\u001b[0m\u001b[1;33m[\u001b[0m\u001b[1;34m'target'\u001b[0m\u001b[1;33m]\u001b[0m \u001b[1;33m=\u001b[0m \u001b[1;32mNone\u001b[0m\u001b[1;33m\u001b[0m\u001b[0m\n\u001b[1;32m-> 2847\u001b[1;33m         \u001b[0mres\u001b[0m \u001b[1;33m=\u001b[0m \u001b[0mself\u001b[0m\u001b[1;33m.\u001b[0m\u001b[0meval\u001b[0m\u001b[1;33m(\u001b[0m\u001b[0mexpr\u001b[0m\u001b[1;33m,\u001b[0m \u001b[1;33m**\u001b[0m\u001b[0mkwargs\u001b[0m\u001b[1;33m)\u001b[0m\u001b[1;33m\u001b[0m\u001b[0m\n\u001b[0m\u001b[0;32m   2848\u001b[0m \u001b[1;33m\u001b[0m\u001b[0m\n\u001b[0;32m   2849\u001b[0m         \u001b[1;32mtry\u001b[0m\u001b[1;33m:\u001b[0m\u001b[1;33m\u001b[0m\u001b[0m\n",
      "\u001b[1;32mD:\\DEV\\ANACONDA3\\envs\\ada\\lib\\site-packages\\pandas\\core\\frame.py\u001b[0m in \u001b[0;36meval\u001b[1;34m(self, expr, inplace, **kwargs)\u001b[0m\n\u001b[0;32m   2960\u001b[0m             \u001b[0mkwargs\u001b[0m\u001b[1;33m[\u001b[0m\u001b[1;34m'target'\u001b[0m\u001b[1;33m]\u001b[0m \u001b[1;33m=\u001b[0m \u001b[0mself\u001b[0m\u001b[1;33m\u001b[0m\u001b[0m\n\u001b[0;32m   2961\u001b[0m         \u001b[0mkwargs\u001b[0m\u001b[1;33m[\u001b[0m\u001b[1;34m'resolvers'\u001b[0m\u001b[1;33m]\u001b[0m \u001b[1;33m=\u001b[0m \u001b[0mkwargs\u001b[0m\u001b[1;33m.\u001b[0m\u001b[0mget\u001b[0m\u001b[1;33m(\u001b[0m\u001b[1;34m'resolvers'\u001b[0m\u001b[1;33m,\u001b[0m \u001b[1;33m(\u001b[0m\u001b[1;33m)\u001b[0m\u001b[1;33m)\u001b[0m \u001b[1;33m+\u001b[0m \u001b[0mtuple\u001b[0m\u001b[1;33m(\u001b[0m\u001b[0mresolvers\u001b[0m\u001b[1;33m)\u001b[0m\u001b[1;33m\u001b[0m\u001b[0m\n\u001b[1;32m-> 2962\u001b[1;33m         \u001b[1;32mreturn\u001b[0m \u001b[0m_eval\u001b[0m\u001b[1;33m(\u001b[0m\u001b[0mexpr\u001b[0m\u001b[1;33m,\u001b[0m \u001b[0minplace\u001b[0m\u001b[1;33m=\u001b[0m\u001b[0minplace\u001b[0m\u001b[1;33m,\u001b[0m \u001b[1;33m**\u001b[0m\u001b[0mkwargs\u001b[0m\u001b[1;33m)\u001b[0m\u001b[1;33m\u001b[0m\u001b[0m\n\u001b[0m\u001b[0;32m   2963\u001b[0m \u001b[1;33m\u001b[0m\u001b[0m\n\u001b[0;32m   2964\u001b[0m     \u001b[1;32mdef\u001b[0m \u001b[0mselect_dtypes\u001b[0m\u001b[1;33m(\u001b[0m\u001b[0mself\u001b[0m\u001b[1;33m,\u001b[0m \u001b[0minclude\u001b[0m\u001b[1;33m=\u001b[0m\u001b[1;32mNone\u001b[0m\u001b[1;33m,\u001b[0m \u001b[0mexclude\u001b[0m\u001b[1;33m=\u001b[0m\u001b[1;32mNone\u001b[0m\u001b[1;33m)\u001b[0m\u001b[1;33m:\u001b[0m\u001b[1;33m\u001b[0m\u001b[0m\n",
      "\u001b[1;32mD:\\DEV\\ANACONDA3\\envs\\ada\\lib\\site-packages\\pandas\\core\\computation\\eval.py\u001b[0m in \u001b[0;36meval\u001b[1;34m(expr, parser, engine, truediv, local_dict, global_dict, resolvers, level, target, inplace)\u001b[0m\n\u001b[0;32m    294\u001b[0m         \u001b[0meng\u001b[0m \u001b[1;33m=\u001b[0m \u001b[0m_engines\u001b[0m\u001b[1;33m[\u001b[0m\u001b[0mengine\u001b[0m\u001b[1;33m]\u001b[0m\u001b[1;33m\u001b[0m\u001b[0m\n\u001b[0;32m    295\u001b[0m         \u001b[0meng_inst\u001b[0m \u001b[1;33m=\u001b[0m \u001b[0meng\u001b[0m\u001b[1;33m(\u001b[0m\u001b[0mparsed_expr\u001b[0m\u001b[1;33m)\u001b[0m\u001b[1;33m\u001b[0m\u001b[0m\n\u001b[1;32m--> 296\u001b[1;33m         \u001b[0mret\u001b[0m \u001b[1;33m=\u001b[0m \u001b[0meng_inst\u001b[0m\u001b[1;33m.\u001b[0m\u001b[0mevaluate\u001b[0m\u001b[1;33m(\u001b[0m\u001b[1;33m)\u001b[0m\u001b[1;33m\u001b[0m\u001b[0m\n\u001b[0m\u001b[0;32m    297\u001b[0m \u001b[1;33m\u001b[0m\u001b[0m\n\u001b[0;32m    298\u001b[0m         \u001b[1;32mif\u001b[0m \u001b[0mparsed_expr\u001b[0m\u001b[1;33m.\u001b[0m\u001b[0massigner\u001b[0m \u001b[1;32mis\u001b[0m \u001b[1;32mNone\u001b[0m\u001b[1;33m:\u001b[0m\u001b[1;33m\u001b[0m\u001b[0m\n",
      "\u001b[1;32mD:\\DEV\\ANACONDA3\\envs\\ada\\lib\\site-packages\\pandas\\core\\computation\\engines.py\u001b[0m in \u001b[0;36mevaluate\u001b[1;34m(self)\u001b[0m\n\u001b[0;32m     74\u001b[0m \u001b[1;33m\u001b[0m\u001b[0m\n\u001b[0;32m     75\u001b[0m         \u001b[1;31m# make sure no names in resolvers and locals/globals clash\u001b[0m\u001b[1;33m\u001b[0m\u001b[1;33m\u001b[0m\u001b[0m\n\u001b[1;32m---> 76\u001b[1;33m         \u001b[0mres\u001b[0m \u001b[1;33m=\u001b[0m \u001b[0mself\u001b[0m\u001b[1;33m.\u001b[0m\u001b[0m_evaluate\u001b[0m\u001b[1;33m(\u001b[0m\u001b[1;33m)\u001b[0m\u001b[1;33m\u001b[0m\u001b[0m\n\u001b[0m\u001b[0;32m     77\u001b[0m         return _reconstruct_object(self.result_type, res, self.aligned_axes,\n\u001b[0;32m     78\u001b[0m                                    self.expr.terms.return_type)\n",
      "\u001b[1;32mD:\\DEV\\ANACONDA3\\envs\\ada\\lib\\site-packages\\pandas\\core\\computation\\engines.py\u001b[0m in \u001b[0;36m_evaluate\u001b[1;34m(self)\u001b[0m\n\u001b[0;32m    120\u001b[0m             \u001b[0mscope\u001b[0m \u001b[1;33m=\u001b[0m \u001b[0menv\u001b[0m\u001b[1;33m.\u001b[0m\u001b[0mfull_scope\u001b[0m\u001b[1;33m\u001b[0m\u001b[0m\n\u001b[0;32m    121\u001b[0m             \u001b[0mtruediv\u001b[0m \u001b[1;33m=\u001b[0m \u001b[0mscope\u001b[0m\u001b[1;33m[\u001b[0m\u001b[1;34m'truediv'\u001b[0m\u001b[1;33m]\u001b[0m\u001b[1;33m\u001b[0m\u001b[0m\n\u001b[1;32m--> 122\u001b[1;33m             \u001b[0m_check_ne_builtin_clash\u001b[0m\u001b[1;33m(\u001b[0m\u001b[0mself\u001b[0m\u001b[1;33m.\u001b[0m\u001b[0mexpr\u001b[0m\u001b[1;33m)\u001b[0m\u001b[1;33m\u001b[0m\u001b[0m\n\u001b[0m\u001b[0;32m    123\u001b[0m             \u001b[1;32mreturn\u001b[0m \u001b[0mne\u001b[0m\u001b[1;33m.\u001b[0m\u001b[0mevaluate\u001b[0m\u001b[1;33m(\u001b[0m\u001b[0ms\u001b[0m\u001b[1;33m,\u001b[0m \u001b[0mlocal_dict\u001b[0m\u001b[1;33m=\u001b[0m\u001b[0mscope\u001b[0m\u001b[1;33m,\u001b[0m \u001b[0mtruediv\u001b[0m\u001b[1;33m=\u001b[0m\u001b[0mtruediv\u001b[0m\u001b[1;33m)\u001b[0m\u001b[1;33m\u001b[0m\u001b[0m\n\u001b[0;32m    124\u001b[0m         \u001b[1;32mexcept\u001b[0m \u001b[0mKeyError\u001b[0m \u001b[1;32mas\u001b[0m \u001b[0me\u001b[0m\u001b[1;33m:\u001b[0m\u001b[1;33m\u001b[0m\u001b[0m\n",
      "\u001b[1;32mD:\\DEV\\ANACONDA3\\envs\\ada\\lib\\site-packages\\pandas\\core\\computation\\engines.py\u001b[0m in \u001b[0;36m_check_ne_builtin_clash\u001b[1;34m(expr)\u001b[0m\n\u001b[0;32m     29\u001b[0m         \u001b[0mTerms\u001b[0m \u001b[0mcan\u001b[0m \u001b[0mcontain\u001b[0m\u001b[1;33m\u001b[0m\u001b[0m\n\u001b[0;32m     30\u001b[0m     \"\"\"\n\u001b[1;32m---> 31\u001b[1;33m     \u001b[0mnames\u001b[0m \u001b[1;33m=\u001b[0m \u001b[0mexpr\u001b[0m\u001b[1;33m.\u001b[0m\u001b[0mnames\u001b[0m\u001b[1;33m\u001b[0m\u001b[0m\n\u001b[0m\u001b[0;32m     32\u001b[0m     \u001b[0moverlap\u001b[0m \u001b[1;33m=\u001b[0m \u001b[0mnames\u001b[0m \u001b[1;33m&\u001b[0m \u001b[0m_ne_builtins\u001b[0m\u001b[1;33m\u001b[0m\u001b[0m\n\u001b[0;32m     33\u001b[0m \u001b[1;33m\u001b[0m\u001b[0m\n",
      "\u001b[1;32mD:\\DEV\\ANACONDA3\\envs\\ada\\lib\\site-packages\\pandas\\core\\computation\\expr.py\u001b[0m in \u001b[0;36mnames\u001b[1;34m(self)\u001b[0m\n\u001b[0;32m    761\u001b[0m         \u001b[1;32mif\u001b[0m \u001b[0mis_term\u001b[0m\u001b[1;33m(\u001b[0m\u001b[0mself\u001b[0m\u001b[1;33m.\u001b[0m\u001b[0mterms\u001b[0m\u001b[1;33m)\u001b[0m\u001b[1;33m:\u001b[0m\u001b[1;33m\u001b[0m\u001b[0m\n\u001b[0;32m    762\u001b[0m             \u001b[1;32mreturn\u001b[0m \u001b[0mfrozenset\u001b[0m\u001b[1;33m(\u001b[0m\u001b[1;33m[\u001b[0m\u001b[0mself\u001b[0m\u001b[1;33m.\u001b[0m\u001b[0mterms\u001b[0m\u001b[1;33m.\u001b[0m\u001b[0mname\u001b[0m\u001b[1;33m]\u001b[0m\u001b[1;33m)\u001b[0m\u001b[1;33m\u001b[0m\u001b[0m\n\u001b[1;32m--> 763\u001b[1;33m         \u001b[1;32mreturn\u001b[0m \u001b[0mfrozenset\u001b[0m\u001b[1;33m(\u001b[0m\u001b[0mterm\u001b[0m\u001b[1;33m.\u001b[0m\u001b[0mname\u001b[0m \u001b[1;32mfor\u001b[0m \u001b[0mterm\u001b[0m \u001b[1;32min\u001b[0m \u001b[0mcom\u001b[0m\u001b[1;33m.\u001b[0m\u001b[0mflatten\u001b[0m\u001b[1;33m(\u001b[0m\u001b[0mself\u001b[0m\u001b[1;33m.\u001b[0m\u001b[0mterms\u001b[0m\u001b[1;33m)\u001b[0m\u001b[1;33m)\u001b[0m\u001b[1;33m\u001b[0m\u001b[0m\n\u001b[0m\u001b[0;32m    764\u001b[0m \u001b[1;33m\u001b[0m\u001b[0m\n\u001b[0;32m    765\u001b[0m \u001b[1;33m\u001b[0m\u001b[0m\n",
      "\u001b[1;31mTypeError\u001b[0m: unhashable type: 'numpy.ndarray'"
     ]
    }
   ],
   "source": [
    "remove_product_without_name_category_brand(df_food_clean_ch)"
   ]
  },
  {
   "cell_type": "markdown",
   "metadata": {},
   "source": [
    "**Clean Product Name** and ensure that it contains a value (replaced by category or brands if the Product's Name is empty)"
   ]
  },
  {
   "cell_type": "code",
   "execution_count": 40,
   "metadata": {},
   "outputs": [],
   "source": [
    "clean_product_name(df_food_clean_ch)"
   ]
  },
  {
   "cell_type": "markdown",
   "metadata": {},
   "source": [
    "Show all Product's name smaller than 3 characters"
   ]
  },
  {
   "cell_type": "code",
   "execution_count": 43,
   "metadata": {},
   "outputs": [
    {
     "data": {
      "text/html": [
       "<div>\n",
       "<style scoped>\n",
       "    .dataframe tbody tr th:only-of-type {\n",
       "        vertical-align: middle;\n",
       "    }\n",
       "\n",
       "    .dataframe tbody tr th {\n",
       "        vertical-align: top;\n",
       "    }\n",
       "\n",
       "    .dataframe thead th {\n",
       "        text-align: right;\n",
       "    }\n",
       "</style>\n",
       "<table border=\"1\" class=\"dataframe\">\n",
       "  <thead>\n",
       "    <tr style=\"text-align: right;\">\n",
       "      <th></th>\n",
       "      <th>code</th>\n",
       "      <th>product_name</th>\n",
       "      <th>categories_en</th>\n",
       "      <th>brands_tags</th>\n",
       "    </tr>\n",
       "  </thead>\n",
       "  <tbody>\n",
       "    <tr>\n",
       "      <th>231475</th>\n",
       "      <td>22139559</td>\n",
       "      <td>Ei</td>\n",
       "      <td>Farming products,Bird eggs,Eggs,Free-range eggs</td>\n",
       "      <td></td>\n",
       "    </tr>\n",
       "  </tbody>\n",
       "</table>\n",
       "</div>"
      ],
      "text/plain": [
       "            code product_name  \\\n",
       "231475  22139559           Ei   \n",
       "\n",
       "                                          categories_en brands_tags  \n",
       "231475  Farming products,Bird eggs,Eggs,Free-range eggs              "
      ]
     },
     "execution_count": 43,
     "metadata": {},
     "output_type": "execute_result"
    }
   ],
   "source": [
    "df_short_product_names_ch = df_food_clean_ch[df_food_clean_ch['product_name'].str.len() < 3]\n",
    "df_short_product_names_ch[['code','product_name','categories_en','brands_tags']]"
   ]
  },
  {
   "cell_type": "code",
   "execution_count": 44,
   "metadata": {},
   "outputs": [
    {
     "data": {
      "text/plain": [
       "(11459, 25)"
      ]
     },
     "execution_count": 44,
     "metadata": {},
     "output_type": "execute_result"
    }
   ],
   "source": [
    "df_food_clean_ch.shape"
   ]
  },
  {
   "cell_type": "markdown",
   "metadata": {},
   "source": [
    "## Clean Product Name (USDA)"
   ]
  },
  {
   "cell_type": "markdown",
   "metadata": {},
   "source": [
    "**Remove all nan values** for product_name, brands_tags and categories_en and replace them by an **empty string**."
   ]
  },
  {
   "cell_type": "code",
   "execution_count": null,
   "metadata": {},
   "outputs": [],
   "source": [
    "#replace_nan(df_food_clean_usda)\n",
    "#show_product_without_name_category_brand(df_food_clean_usda)"
   ]
  },
  {
   "cell_type": "code",
   "execution_count": null,
   "metadata": {},
   "outputs": [],
   "source": [
    "#remove_product_without_name_category_brand(df_food_clean_usda)"
   ]
  },
  {
   "cell_type": "markdown",
   "metadata": {},
   "source": [
    "**Clean Product Name** and ensure that it contains a value (replaced by category or brands if the Product's Name is empty)"
   ]
  },
  {
   "cell_type": "code",
   "execution_count": null,
   "metadata": {},
   "outputs": [],
   "source": [
    "#clean_product_name(df_food_clean_usda)"
   ]
  },
  {
   "cell_type": "markdown",
   "metadata": {},
   "source": [
    "Show all Product's name smaller than 3 characters"
   ]
  },
  {
   "cell_type": "code",
   "execution_count": null,
   "metadata": {},
   "outputs": [],
   "source": [
    "#df_short_product_names_usda = df_food_clean_usda[df_food_clean_usda['product_name'].str.len() < 3]\n",
    "#df_short_product_names_usda[['code','product_name','categories_en','brands_tags']]"
   ]
  },
  {
   "cell_type": "code",
   "execution_count": null,
   "metadata": {},
   "outputs": [],
   "source": [
    "#df_food_clean_usda.shape"
   ]
  },
  {
   "cell_type": "markdown",
   "metadata": {},
   "source": [
    "<div class=\"alert alert-block alert-info\">\n",
    "\n",
    "<b>2.2 DATA CLEANING - Enrich Data 'CATEGORY'</b><br>\n",
    "<i>Clean/Enrich Product Category 1 and Product Category 2</i>\n",
    "<hr>\n",
    "<b>Remarks</b><br>\n",
    "<i>\n",
    "Based on the analysis done above, and the overall bad quality of the data which make them difficult to compare. We decided to focus on swiss data (as we may have some knowledge of the products) and on USDA (provided by US government) which seems to be the most trustable.\n",
    "    \n",
    "In order to have a proper data set, we decided to: <br>\n",
    "Assign all orphan products to a category called 'Undefined'<br>\n",
    "Assign all products to category_1 and category_2(based on the columns categories_en)<br>\n",
    "Assign all products, belonging to category having less than 10 products, to a category called 'Others'\n",
    "</i>\n",
    "<br>\n",
    "</div>"
   ]
  },
  {
   "cell_type": "markdown",
   "metadata": {},
   "source": [
    "## Concept"
   ]
  },
  {
   "cell_type": "markdown",
   "metadata": {},
   "source": [
    "Create two generic categories (**category_1**: for Category of level 1 and **Category_2**: for Category of level 2)\n",
    "\n",
    "As there are many products without category, or categories which only contains few products, we decided to:\n",
    "- Assign all orphan products to a category called 'Undefined'\n",
    "- Assgin all products to category_1 and category_2 (based of the columns categories_en)\n",
    "- Assign all products, belonging to category having less than 10 products, to a category called 'Others'\n"
   ]
  },
  {
   "cell_type": "markdown",
   "metadata": {},
   "source": [
    "## Functions"
   ]
  },
  {
   "cell_type": "markdown",
   "metadata": {},
   "source": [
    "The function **enrich_with_meta_category** create a meta category composed of\n",
    "- category_1 : Category at the first level, notice that category, containing less than 10 products, are replaced by 'Others'\n",
    "- category_2 : Sub Category of Category 1"
   ]
  },
  {
   "cell_type": "code",
   "execution_count": 45,
   "metadata": {},
   "outputs": [],
   "source": [
    "def enrich_with_meta_category(df):\n",
    "    \n",
    "    df['category_1'] = 'Undefined'\n",
    "    df['category_2'] = 'Undefined'\n",
    "    \n",
    "    for index, row in df.iterrows():        \n",
    "        categories = str(row['categories_en'])\n",
    "        categories = categories.replace('fr:','')\n",
    "        \n",
    "        category_1 = categories\n",
    "        category_2 = ''\n",
    "        \n",
    "        \n",
    "        category_list = categories.split(\",\")\n",
    "        \n",
    "        if (len(category_list)>0):\n",
    "            category_1 = category_list[0]\n",
    "            \n",
    "            if len(category_1)>0:\n",
    "                df.loc[index,'category_1'] = category_1\n",
    "        \n",
    "            \n",
    "            if (len(category_list)>1):\n",
    "                category_2 = category_list[1]\n",
    "                \n",
    "                if len(category_2) > 0:\n",
    "                    df.loc[index,'category_2'] = category_2\n",
    "        \n",
    "          \n",
    "\n",
    "            \n",
    "    main_category1 = df.groupby(['category_1'], as_index = False)['code'].count()\n",
    "    main_category1 = main_category1.query('code>=10').sort_values(by='code', ascending=False)\n",
    "\n",
    "\n",
    "    df['category_1'] =  df.apply(lambda z: check_if_exist(z.category_1, \\\n",
    "                                 main_category1['category_1'].values), axis='columns')\n",
    "\n",
    "            "
   ]
  },
  {
   "cell_type": "markdown",
   "metadata": {},
   "source": [
    "## Enrich META CATEGORY (CH)"
   ]
  },
  {
   "cell_type": "code",
   "execution_count": null,
   "metadata": {},
   "outputs": [],
   "source": [
    "enrich_with_meta_category(df_food_clean_ch)"
   ]
  },
  {
   "cell_type": "code",
   "execution_count": null,
   "metadata": {},
   "outputs": [],
   "source": [
    "df_food_clean_ch['category_1'].unique()"
   ]
  },
  {
   "cell_type": "code",
   "execution_count": null,
   "metadata": {},
   "outputs": [],
   "source": [
    "df_food_clean_ch.groupby('category_1')['code'].count().sort_values(ascending=False).head(10)\n"
   ]
  },
  {
   "cell_type": "markdown",
   "metadata": {},
   "source": [
    "## Enrich META CATEGORY (USDA)"
   ]
  },
  {
   "cell_type": "code",
   "execution_count": null,
   "metadata": {},
   "outputs": [],
   "source": [
    "#enrich_with_meta_category(df_food_clean_usda)"
   ]
  },
  {
   "cell_type": "code",
   "execution_count": null,
   "metadata": {},
   "outputs": [],
   "source": [
    "#df_food_clean_usda['category_1'].unique()"
   ]
  },
  {
   "cell_type": "code",
   "execution_count": null,
   "metadata": {},
   "outputs": [],
   "source": [
    "#df_food_clean_usda.groupby('category_1')['code'].count().sort_values(ascending=False).head(10)"
   ]
  },
  {
   "cell_type": "markdown",
   "metadata": {},
   "source": [
    "<div class=\"alert alert-block alert-info\">\n",
    "\n",
    "<b>2.3 DATA CLEANING - Enrich Data</b><br>\n",
    "<i>Clean/Enrich data META_BRAND</i>\n",
    "<hr>\n",
    "<b>Remarks</b><br>\n",
    "<i>\n",
    "In order to have a proper data set, we decided to<br>\n",
    "    - Get list of Brands from WIKIPEDIA<br>\n",
    "    - Clean brands_tag and only select the first brand<br>\n",
    "    - Assign NaN brands_tags to a brand called 'undefined'\n",
    "    - Extende the Dataset an map to Company & Brands with information retrieved from WikiPedia\n",
    "</i>\n",
    "<br>\n",
    "</div>"
   ]
  },
  {
   "cell_type": "markdown",
   "metadata": {},
   "source": [
    "## Concept"
   ]
  },
  {
   "cell_type": "markdown",
   "metadata": {},
   "source": [
    "The idea is to get all the brand from wikipedia and organized them as shown in the below picture.\n",
    "\n",
    "<br>\n",
    "<img src=\"http://fan-tas-tic.com/wp-content/uploads/2012/04/the-illusion-of-choice-all-brands-belongs-to-one-company2.jpg\"></img>\n",
    "\n",
    "\n",
    "\n",
    "To reach this goal, we may need to parser below wikipedia pages:\n",
    "- https://en.wikipedia.org/wiki/Category:Nestlé_brands\n",
    "- https://en.wikipedia.org/wiki/Category:Procter_%26_Gamble_brands\n",
    "- https://en.wikipedia.org/wiki/Category:Johnson_%26_Johnson_brands\n",
    "- https://en.wikipedia.org/wiki/List_of_Unilever_brands\n",
    "- https://en.wikipedia.org/wiki/Category:Mars_brands\n",
    "- https://en.wikipedia.org/wiki/Category:Kellogg%27s_brands\n",
    "- https://fr.wikipedia.org/wiki/Catégorie:Marque_du_groupe_PepsiCo\n",
    "- https://en.wikipedia.org/wiki/Category:Coca-Cola_brands\n",
    "- https://en.wikipedia.org/wiki/Category:Wrigley_Company_brands\n",
    "- https://en.wikipedia.org/wiki/Category:Kraft_Foods_brands\n",
    "\n",
    "\n",
    "This may let the possibility to compare products per company or per brands. As shown in the analysis above, tha data quality of OpenFoodFacts is not having the expected quality. Maybe are we reaching here the limitation of an open community ?\n",
    "Even if we are able to retrieve all those brands from wikipedia, we are not sure to be able to join them with the one from OpenFoodFact.\n",
    "\n",
    "See below how to retrieve information from an unstructured web site:"
   ]
  },
  {
   "cell_type": "markdown",
   "metadata": {},
   "source": [
    "## Functions"
   ]
  },
  {
   "cell_type": "markdown",
   "metadata": {},
   "source": [
    "The Functions **get_brand** download from wikipedia all the brands of one Company"
   ]
  },
  {
   "cell_type": "code",
   "execution_count": null,
   "metadata": {},
   "outputs": [],
   "source": [
    "def get_brand(company_name, company_url, starts_with, ends_with):\n",
    "    \n",
    "    is_start_item_founded = False\n",
    "    \n",
    "    r = requests.get(company_url)\n",
    "    \n",
    "\n",
    "    page_body = r.text\n",
    "    soup = BeautifulSoup(page_body, 'html.parser')\n",
    "    all_li = soup.find_all('li')\n",
    "\n",
    "    linkCompanyName= []\n",
    "    linkCompanyUrl=[]\n",
    "    linkTexts = []\n",
    "    linkUrls =[]\n",
    "\n",
    "    for li in all_li:\n",
    "        #print(li.contents)\n",
    "        a = li.find('a')\n",
    "        if (    a is not None \\\n",
    "            and a.has_attr('href') \\\n",
    "            and a.has_attr('title') \\\n",
    "            and len(a.text)>0 ):\n",
    "        \n",
    "            if(a.text[0].isdigit() == False and a.text.startswith('href') == False):\n",
    "                #print(str(a.text) + '-https://en.wikipedia.org' + str(a['href']))        \n",
    "            \n",
    "                if(a.text.startswith(starts_with)):\n",
    "                    is_start_item_founded = True\n",
    "                    \n",
    "                if (is_start_item_founded==True):\n",
    "                    linkCompanyName.append(company_name)\n",
    "                    linkCompanyUrl.append(company_url)\n",
    "                    linkTexts.append(a.text)\n",
    "                    linkUrls.append('https://en.wikipedia.org' + str(a['href']))\n",
    "            \n",
    "                #Exit after last Food Companies\n",
    "                if(a.text.startswith(ends_with)):\n",
    "                    break\n",
    "            \n",
    "        \n",
    "    df = pd.DataFrame(list(zip(linkCompanyName, linkCompanyUrl, linkTexts, linkUrls)), columns=['company_name', 'company_url', 'brand_name', 'brand_url'])\n",
    "    \n",
    "    return df\n",
    "\n"
   ]
  },
  {
   "cell_type": "markdown",
   "metadata": {},
   "source": [
    "The Functions **get_brands** return information from all main Food Companies"
   ]
  },
  {
   "cell_type": "code",
   "execution_count": null,
   "metadata": {
    "scrolled": true
   },
   "outputs": [],
   "source": [
    "def get_brands():\n",
    "    df_kraft = get_brand('Kraft Foods', 'https://en.wikipedia.org/wiki/Category:Kraft_Foods_brands', 'A.1', 'Vigroids')\n",
    "    df_wrigley = get_brand('Wrigley','https://en.wikipedia.org/wiki/Category:Wrigley_Company_brands', 'Air', 'Wrigley')\n",
    "    df_coca = get_brand('Coca-Cola', 'https://en.wikipedia.org/wiki/Category:Coca-Cola_brands', 'AdeS', 'Yoli')\n",
    "    df_pepsi = get_brand('Pepsi-co', 'https://fr.wikipedia.org/wiki/Catégorie:Marque_du_groupe_PepsiCo', 'Aqua', 'Tropicana')\n",
    "    df_kelloggs = get_brand('Kellogs','https://en.wikipedia.org/wiki/Category:Kellogg%27s_brands', 'Bear', 'Wheatables' )\n",
    "    df_mars = get_brand('Mars', 'https://en.wikipedia.org/wiki/Category:Mars_brands', 'Altoids', 'Whistle')\n",
    "    df_unilever = get_brand('Unilever', 'https://en.wikipedia.org/wiki/List_of_Unilever_brands', 'Ben', 'Weis')\n",
    "    df_johnson = get_brand('Johnson', 'https://en.wikipedia.org/wiki/Category:Johnson_%26_Johnson_brands', 'Aciphex', 'Zytiga')\n",
    "    df_procter = get_brand('Procter & Gamble', 'https://en.wikipedia.org/wiki/Category:Procter_%26_Gamble_brands', 'Always', 'Wella')\n",
    "    df_nestle = get_brand('Nestlé', 'https://en.wikipedia.org/wiki/Category:Nestlé_brands', 'Abuelita', 'Zephyrhills')    \n",
    "\n",
    "    df_brands = pd.concat([df_kraft, df_wrigley, df_coca, df_pepsi, df_kelloggs, df_mars, df_unilever, df_johnson, df_procter, df_nestle])\n",
    "    df_brands.set_index = 'brand_name'\n",
    "    df_brands['brand_name']=df_brands['brand_name'].str.lower()\n",
    "    \n",
    "    return df_brands\n",
    "\n"
   ]
  },
  {
   "cell_type": "markdown",
   "metadata": {},
   "source": [
    "The function **enrich_with_meta_brand** create a new brand's category, the first 10 of them are grouped together, the remaining are pushed to an  'Others' category whereas Nan values ar pushed to an 'Undefined' Category''"
   ]
  },
  {
   "cell_type": "code",
   "execution_count": null,
   "metadata": {},
   "outputs": [],
   "source": [
    "def enrich_with_meta_brand(df):\n",
    "\n",
    "    df['meta_brand'] = 'Undefined'\n",
    "    \n",
    "    for index, row in df.iterrows():        \n",
    "        brands = str(row['brands_tags'])\n",
    "        \n",
    "        \n",
    "        brand_list = brands.split(\",\")\n",
    "        \n",
    "        if (len(brand_list)>0):\n",
    "            meta_brand = brand_list[0]\n",
    "            \n",
    "            if len(meta_brand)>0:\n",
    "                df.loc[index,'meta_brand'] = meta_brand\n",
    "            else:\n",
    "                df.loc[index,'meta_brand'] = 'Undefined'\n",
    "        else:\n",
    "            df.loc[index, 'meta_brand'] = 'Undefined'\n",
    "\n",
    "            \n",
    "    #main_brand = df.groupby(['meta_brand'], as_index = False)['code'].count()\n",
    "    #main_brand = main_brand.query('code>=1').sort_values(by='code', ascending=False)\n",
    "\n",
    "\n",
    "    #df['meta_brand'] =  df.apply(lambda z: check_if_exist(z.meta_brand, \\\n",
    "    #                             main_brand['meta_brand'].values), axis='columns')\n",
    "\n",
    "    df['meta_brand'] = df['meta_brand'].replace(np.nan, 'Undefined')\n",
    "    return df\n",
    "            "
   ]
  },
  {
   "cell_type": "code",
   "execution_count": null,
   "metadata": {},
   "outputs": [],
   "source": [
    "def get_network_from_brand(df, company_name):\n",
    "\n",
    "    G = nx.Graph()\n",
    "    G.add_node(company_name)\n",
    "    \n",
    "       \n",
    "    for index, row in df.iterrows():        \n",
    "        \n",
    "        brand_name = str(row['brand_name'])\n",
    "        \n",
    "        G.add_node(brand_name)                \n",
    "        G.add_edge(company_name, brand_name)\n",
    "        \n",
    "\n",
    "    return G\n",
    "            "
   ]
  },
  {
   "cell_type": "code",
   "execution_count": null,
   "metadata": {},
   "outputs": [],
   "source": [
    "def show_network_from_brand(df_brands, company_name):\n",
    "\n",
    "    df_brand_filtered = df_brands[df_brands['company_name']==company_name]\n",
    "    \n",
    "    G = get_network_from_brand(df_brand_filtered, company_name)\n",
    "\n",
    "    plt.figure(1,figsize=(12,12))\n",
    "    plt.title('Distribution of Brands for ' + company_name)\n",
    "    pos = nx.spring_layout(G)\n",
    "    nx.draw_networkx(G, pos=pos, nodelist=G, node_size=50, node_color='#0B143D', font_size=\"10\", with_labels=True, alpha=0.75)\n",
    "    nx.draw_networkx(G, pos=pos, nodelist=[company_name], node_size=4500, node_color='#83B6D5',  with_labels=False, alpha=0.9)\n",
    "\n",
    "    plt.show()\n",
    "        \n",
    "        \n",
    "        \n",
    "        \n",
    "     \n"
   ]
  },
  {
   "cell_type": "code",
   "execution_count": null,
   "metadata": {},
   "outputs": [],
   "source": [
    "def get_all_brands(df_brands, company_name):\n",
    "    \n",
    "    df_brands_filtered = df_brands[df_brands['company_name']==company_name]\n",
    "    str_all_brands = ''\n",
    "    \n",
    "    for index, row in df_brands_filtered.iterrows():      \n",
    "        str_all_brands = str_all_brands + str(row['brand_name']) + ', '\n",
    "        \n",
    "    if (len(str_all_brands)>3):\n",
    "        str_all_brands = str_all_brands[:-2] +'.'\n",
    "        \n",
    "    return str_all_brands\n",
    "            "
   ]
  },
  {
   "cell_type": "markdown",
   "metadata": {},
   "source": [
    "## Get all main Brands from Wikipedia"
   ]
  },
  {
   "cell_type": "code",
   "execution_count": null,
   "metadata": {},
   "outputs": [],
   "source": [
    "df_brands = get_brands()\n",
    "df_brands.head(10)"
   ]
  },
  {
   "cell_type": "code",
   "execution_count": null,
   "metadata": {},
   "outputs": [],
   "source": [
    "r_Kraft_Foods = df_brands[df_brands['company_name']=='Kraft Foods']\n",
    "r_Kraft_Foods.head(5)\n",
    "\n"
   ]
  },
  {
   "cell_type": "markdown",
   "metadata": {},
   "source": [
    "#### Show all Brands in network"
   ]
  },
  {
   "cell_type": "code",
   "execution_count": null,
   "metadata": {},
   "outputs": [],
   "source": [
    "show_network_from_brand(df_brands, 'Kraft Foods')\n",
    "print('Kraft Foods: List of Brands\\n' + get_all_brands(df_brands, 'Kraft Foods'))"
   ]
  },
  {
   "cell_type": "code",
   "execution_count": null,
   "metadata": {
    "scrolled": true
   },
   "outputs": [],
   "source": [
    "show_network_from_brand(df_brands, 'Wrigley')\n",
    "print('Wrigley: List of Brands\\n' + get_all_brands(df_brands, 'Wrigley'))"
   ]
  },
  {
   "cell_type": "code",
   "execution_count": null,
   "metadata": {},
   "outputs": [],
   "source": [
    "show_network_from_brand(df_brands, 'Coca-Cola')\n",
    "print('Coca-Cola: List of Brands\\n' + get_all_brands(df_brands, 'Coca-Cola'))"
   ]
  },
  {
   "cell_type": "code",
   "execution_count": null,
   "metadata": {},
   "outputs": [],
   "source": [
    "show_network_from_brand(df_brands, 'Pepsi-co')\n",
    "print('Pepsi-co: List of Brands\\n' + get_all_brands(df_brands, 'Pepsi-co'))"
   ]
  },
  {
   "cell_type": "code",
   "execution_count": null,
   "metadata": {},
   "outputs": [],
   "source": [
    "show_network_from_brand(df_brands, 'Kellogs')\n",
    "print('Kellogs: List of Brands\\n' + get_all_brands(df_brands, 'Kellogs'))"
   ]
  },
  {
   "cell_type": "code",
   "execution_count": null,
   "metadata": {},
   "outputs": [],
   "source": [
    "show_network_from_brand(df_brands, 'Mars')\n",
    "print('Mars: List of Brands\\n' + get_all_brands(df_brands, 'Mars'))"
   ]
  },
  {
   "cell_type": "code",
   "execution_count": null,
   "metadata": {},
   "outputs": [],
   "source": [
    "show_network_from_brand(df_brands, 'Unilever')\n",
    "print('Unilever: List of Brands\\n' + get_all_brands(df_brands, 'Unilever'))"
   ]
  },
  {
   "cell_type": "code",
   "execution_count": null,
   "metadata": {},
   "outputs": [],
   "source": [
    "show_network_from_brand(df_brands, 'Johnson')\n",
    "print('Johnson: List of Brands\\n' + get_all_brands(df_brands, 'Johnson'))"
   ]
  },
  {
   "cell_type": "code",
   "execution_count": null,
   "metadata": {},
   "outputs": [],
   "source": [
    "show_network_from_brand(df_brands, 'Procter & Gamble')\n",
    "print('Procter & Gamble: List of Brands\\n' + get_all_brands(df_brands, 'Procter & Gamble'))"
   ]
  },
  {
   "cell_type": "code",
   "execution_count": null,
   "metadata": {},
   "outputs": [],
   "source": [
    "show_network_from_brand(df_brands, 'Nestlé')\n",
    "print('Nestlé: List of Brands\\n' + get_all_brands(df_brands, 'Nestlé'))"
   ]
  },
  {
   "cell_type": "code",
   "execution_count": null,
   "metadata": {},
   "outputs": [],
   "source": []
  },
  {
   "cell_type": "markdown",
   "metadata": {},
   "source": [
    "## Enrich with META BRAND (CH)"
   ]
  },
  {
   "cell_type": "code",
   "execution_count": null,
   "metadata": {
    "scrolled": false
   },
   "outputs": [],
   "source": [
    "df_food_clean_ch= enrich_with_meta_brand(df_food_clean_ch)\n",
    "df_food_clean_ch['meta_brand']=df_food_clean_ch['meta_brand'].str.lower()\n",
    "df_food_clean_ch[['code', 'product_name', 'category_1', 'category_2', 'meta_brand','creator']]\n",
    "\n",
    "print('As you can see, there is always a category_1, category_2 and a meta_brand')\n",
    "df_food_clean_ch.head(5)"
   ]
  },
  {
   "cell_type": "markdown",
   "metadata": {},
   "source": [
    "Extend information with Company Name and information retrieved from Wikipedia"
   ]
  },
  {
   "cell_type": "code",
   "execution_count": null,
   "metadata": {},
   "outputs": [],
   "source": [
    "df_food_clean_ch=pd.merge(df_food_clean_ch,df_brands, left_on='meta_brand', right_on='brand_name')\n",
    "df_food_clean_ch\n",
    "\n",
    "df_food_clean_ch['brand_name'].value_counts()\n"
   ]
  },
  {
   "cell_type": "markdown",
   "metadata": {},
   "source": [
    "## Enrich with META BRAND (USDA)"
   ]
  },
  {
   "cell_type": "code",
   "execution_count": null,
   "metadata": {},
   "outputs": [],
   "source": [
    "#df_food_clean_usda= enrich_with_meta_brand(df_food_clean_usda)\n",
    "#df_food_clean_usda['meta_brand']=df_food_clean_usda['meta_brand'].str.lower()\n",
    "#df_food_clean_usda[['code', 'product_name', 'category_1', 'category_2', 'meta_brand','creator']]\n",
    "\n",
    "#print('As you can see, there is always a category_1, category_2 and a meta_brand')\n",
    "#df_food_clean_usda.head(5)"
   ]
  },
  {
   "cell_type": "markdown",
   "metadata": {},
   "source": [
    "Extend information with Company Name and information retrieved from Wikipedia"
   ]
  },
  {
   "cell_type": "code",
   "execution_count": null,
   "metadata": {},
   "outputs": [],
   "source": [
    "#df_food_clean_usda=pd.merge(df_food_clean_usda,df_brands, left_on='meta_brand', right_on='brand_name')\n",
    "#df_food_clean_usda\n",
    "\n",
    "#df_food_clean_usda['brand_name'].value_counts()\n"
   ]
  },
  {
   "cell_type": "markdown",
   "metadata": {},
   "source": [
    "<div class=\"alert alert-block alert-info\">\n",
    "\n",
    "<b>2.4 DATA CLEANING - Enrich Data 'PIECE OF SUGARS' per Serving and Product</b><br>\n",
    "<i>Enrich values related to piece of sugars</i>\n",
    "<hr>\n",
    "<b>Remarks</b><br>\n",
    "<i>\n",
    "In order to have a proper data set, we decided to<br>\n",
    "    - Enrich data with Product's quantity<br>\n",
    "    - Enrich data with sugars per serving<br>\n",
    "    - Enrich data with sugars per product<br>\n",
    "</i>\n",
    "<br>\n",
    "</div>"
   ]
  },
  {
   "cell_type": "markdown",
   "metadata": {},
   "source": [
    "## Concept"
   ]
  },
  {
   "cell_type": "markdown",
   "metadata": {},
   "source": [
    "Calculate the number of piece of sugars for one 'Serving'.\n",
    "**5.95gr** is the weight of a standard piece of sugars\n",
    "https://fr.wikipedia.org/wiki/Sucre_en_morceaux\n",
    "\n",
    "\n",
    "<img src=\"https://upload.wikimedia.org/wikipedia/commons/f/ff/Sucre_en_morceaux_n%C2%B0_4.jpg\"></img>\n",
    "Picture provided by <a href=\"//commons.wikimedia.org/wiki/User:Gilles_Mairet\" title=\"User:Gilles Mairet\">Gilles Mairet</a> — <span class=\"int-own-work\" lang=\"fr\">Travail personnel</span>, <a href=\"https://creativecommons.org/licenses/by-sa/4.0\" title=\"Creative Commons Attribution-Share Alike 4.0\">CC BY-SA 4.0</a>, <a href=\"https://commons.wikimedia.org/w/index.php?curid=64540058\">Lien</a>\n"
   ]
  },
  {
   "cell_type": "markdown",
   "metadata": {},
   "source": [
    "## Functions"
   ]
  },
  {
   "cell_type": "markdown",
   "metadata": {},
   "source": [
    "Then function **enrich_with_sugars_per_serving** calculate the number of piece of sugars contained in one serving"
   ]
  },
  {
   "cell_type": "code",
   "execution_count": null,
   "metadata": {},
   "outputs": [],
   "source": [
    "def enrich_with_sugars_per_serving(df):    \n",
    "    df['sugars_per_serving'] = df['serving_quantity'].astype(float)  * df['sugars_100g'].astype(float)  /100 /5.95\n",
    "    \n",
    "    df['sugars_per_serving'].fillna(0, inplace=True)\n",
    "    df['sugars_100g'].fillna(0, inplace=True)\n",
    "    "
   ]
  },
  {
   "cell_type": "markdown",
   "metadata": {},
   "source": [
    "The function **enrich_with_sugars_per_product** calculate the number of piece of sugars contained in one Product"
   ]
  },
  {
   "cell_type": "code",
   "execution_count": null,
   "metadata": {},
   "outputs": [],
   "source": [
    "def enrich_with_sugars_per_product(df):    \n",
    "    df['sugars_per_product'] = df['product_quantity'].astype(float)  * df['sugars_100g'].astype(float)  /100 /5.95\n",
    "    \n",
    "    df['sugars_per_product'].fillna(0, inplace=True)\n",
    "    df['sugars_100g'].fillna(0, inplace=True)"
   ]
  },
  {
   "cell_type": "markdown",
   "metadata": {},
   "source": [
    "The function **get_first_nbr_from_str** returns the first numeric characters, the goal is to only take the numbers and the quantity field has some times some trailing characters or extra comments, which is not likely relevant."
   ]
  },
  {
   "cell_type": "code",
   "execution_count": null,
   "metadata": {},
   "outputs": [],
   "source": [
    "def get_first_nbr_from_str(input_str):\n",
    "    '''\n",
    "    :param input_str: strings that contains digit and words\n",
    "    :return: the number extracted from the input_str\n",
    "    demo:\n",
    "    'ab324.23.123xyz': 324.23\n",
    "    '.5abc44': 0.5\n",
    "    '''\n",
    "    \n",
    "    try:\n",
    "        input_str=input_str.replace(',','.').strip()\n",
    "\n",
    "        if not input_str and not isinstance(input_str, str):\n",
    "            return 0\n",
    "        out_number = ''\n",
    "        for ele in input_str:\n",
    "            if (ele == '.' and '.' not in out_number) or ele.isdigit():\n",
    "                out_number += ele\n",
    "            elif out_number:\n",
    "                break\n",
    "        return float(out_number)\n",
    "    except:\n",
    "        return float(0)\n",
    "        pass\n"
   ]
  },
  {
   "cell_type": "code",
   "execution_count": null,
   "metadata": {},
   "outputs": [],
   "source": [
    "def float_from_text(fieldValue):\n",
    "   \n",
    "    return get_first_nbr_from_str(fieldValue)\n",
    "    "
   ]
  },
  {
   "cell_type": "markdown",
   "metadata": {},
   "source": [
    "The function **multiply_quantity_if_required** check the content of the quantity. Some time the package contains portion and values are represented in 3 portions X 50gr. In order to perform comparison, in this example, we would like to have 3X50=150"
   ]
  },
  {
   "cell_type": "code",
   "execution_count": null,
   "metadata": {},
   "outputs": [],
   "source": [
    "def multiply_quantity_if_required(quantity):\n",
    "    \n",
    "    tmpX = quantity.find('X')\n",
    "    if (tmpX > 0):\n",
    "        tmpValue1 = str(quantity[:tmpX]).strip().replace(',','.')\n",
    "        tmpValue2 = str(quantity[tmpX+1:]).strip().replace(',','.')\n",
    "        \n",
    "        ##### Convert to a fload and multiply by 1000        \n",
    "        #print('tmpValue1:' + tmpValue1 + ' X tmpValue2:' + tmpValue2)\n",
    "        return str(float_from_text(tmpValue1)*float_from_text(tmpValue2))\n",
    "\n",
    "                \n",
    "    tmpX = quantity.find('*')\n",
    "    if (tmpX > 0):\n",
    "        tmpValue1 = str(quantity[:tmpX]).strip().replace(',','.')\n",
    "        tmpValue2 = str(quantity[tmpX+1:]).strip().replace(',','.')\n",
    "        \n",
    "        ##### Convert to a fload and multiply by 1000        \n",
    "        #print('tmpValue1:' + tmpValue1 + ' x tmpValue2:' + tmpValue2)\n",
    "        return str(float_from_text(tmpValue1)*float_from_text(tmpValue2))\n",
    "        \n",
    "        \n",
    "    return quantity     "
   ]
  },
  {
   "cell_type": "markdown",
   "metadata": {},
   "source": [
    "The function **enrich_product_quantiy** calclulate the amount of quantiy in gr or ml.\n",
    "To perform this calculation:\n",
    "- values have to be converted, like KG to GR.\n",
    "- values have to be multiplied, like 3 x 40GR =>120GR\n",
    "- Extra values have to be removed, like 'egoutté'\n"
   ]
  },
  {
   "cell_type": "code",
   "execution_count": null,
   "metadata": {},
   "outputs": [],
   "source": [
    "def enrich_product_quantity(quantity_text):\n",
    " \n",
    "    ##### Convert all in upper case\n",
    "    cleaned_quantity = str(quantity_text).upper().strip()\n",
    "    cleaned_quantity = cleaned_quantity.replace(',','.')\n",
    "\n",
    "    ##### Remove extra remarks in bracket, like (1 portiom)\n",
    "    first_p = cleaned_quantity.find('(')    \n",
    "    if first_p > 0:\n",
    "        cleaned_quantity = cleaned_quantity[:first_p].strip()\n",
    "    \n",
    "    ##### Remove extra comments, which are separated by -\n",
    "    first = cleaned_quantity.find('-')\n",
    "    if first > 0:\n",
    "        cleaned_quantity = cleaned_quantity[:first].strip()\n",
    "        \n",
    "    ##### Remove extra measure, always take the first one)\n",
    "    first_p = cleaned_quantity.find('/')    \n",
    "    if first_p > 0:\n",
    "        cleaned_quantity = cleaned_quantity[:first_p]\n",
    "    \n",
    "    ##### Clean quantity by removing e (which means 'egoutté')\n",
    "    if (cleaned_quantity.endswith('E')):     \n",
    "        lenght = len(cleaned_quantity.strip())\n",
    "        cleaned_quantity = cleaned_quantity[:lenght-2].strip()\n",
    "        \n",
    "    if (cleaned_quantity.endswith('℮')):\n",
    "        lenght = len(cleaned_quantity.strip())\n",
    "        cleaned_quantity = cleaned_quantity[:lenght-2].strip()\n",
    "        \n",
    "    cleaned_quantity = cleaned_quantity.strip()\n",
    "    \n",
    "    ####################################################################################\n",
    "    ##### Convert liquid: L - DL CL - ML\n",
    "    ####################################################################################\n",
    "\n",
    "    #### ML\n",
    "    if (cleaned_quantity.endswith('ML')):\n",
    "        lenght = len(cleaned_quantity.strip())\n",
    "        tmpValue = cleaned_quantity[:lenght-4]\n",
    "        tmpValue = multiply_quantity_if_required(tmpValue)                \n",
    "        cleaned_quantity = tmpValue\n",
    "    \n",
    "    #### CL\n",
    "    tmpCL = cleaned_quantity.find('CL')\n",
    "    if (tmpCL > 0):\n",
    "        tmpValue = str(cleaned_quantity[:tmpCL-1]).strip().replace(',','.')\n",
    "        tmpValue = multiply_quantity_if_required(tmpValue)        \n",
    "        ##### Convert, multiply by 10        \n",
    "        cleaned_quantity = str(float_from_text(tmpValue) * 10)\n",
    "            \n",
    "    #### DL\n",
    "    tmpDL = cleaned_quantity.find('DL')\n",
    "    if (tmpDL > 0):\n",
    "        tmpValue = str(cleaned_quantity[:tmpDL]).strip().replace(',','.')\n",
    "        tmpValue = multiply_quantity_if_required(tmpValue)        \n",
    "        ##### Convert, multiply by 100        \n",
    "        cleaned_quantity = str(float_from_text(tmpValue) * 100)\n",
    "        \n",
    "    #### L        \n",
    "    tmpL = cleaned_quantity.find('L')\n",
    "    if (tmpL > 0):\n",
    "        tmpValue = str(cleaned_quantity[:tmpL]).strip().replace(',','.')\n",
    "        tmpValue = multiply_quantity_if_required(tmpValue).strip()        \n",
    "        ##### Convert, Multiply by 1000        \n",
    "        cleaned_quantity = str(float_from_text(tmpValue) * 1000)\n",
    "        \n",
    "            \n",
    "    \n",
    "    ####################################################################################\n",
    "    ##### Convert weight: KG - HG - DG - GR - MG\n",
    "    ####################################################################################\n",
    "\n",
    "    #### KG\n",
    "    tmpKG = cleaned_quantity.find('KG')\n",
    "    if (tmpKG > 0):        \n",
    "        tmpValue = str(cleaned_quantity[:tmpKG]).strip().replace(',','.')\n",
    "        tmpValue = multiply_quantity_if_required(tmpValue)        \n",
    "        ##### Convert KG to G by 1000          \n",
    "        cleaned_quantity = str(float_from_text(tmpValue) * 1000)\n",
    "        \n",
    "    #### HG\n",
    "    tmpHG = cleaned_quantity.find('HG')\n",
    "    if (tmpHG > 0):        \n",
    "        tmpValue = str(cleaned_quantity[:tmpHG]).strip().replace(',','.')\n",
    "        tmpValue = multiply_quantity_if_required(tmpValue)        \n",
    "        ##### Convert, multiply by 100        \n",
    "        cleaned_quantity = str(float_from_text(tmpValue) * 100)\n",
    "        \n",
    "    #### DG\n",
    "    tmpDG = cleaned_quantity.find('DG')\n",
    "    if (tmpDG > 0):\n",
    "        tmpValue = str(cleaned_quantity[:tmpDG]).strip().replace(',','.')\n",
    "        tmpValue = multiply_quantity_if_required(tmpValue)\n",
    "        ##### Convert, multiply by 10        \n",
    "        cleaned_quantity = str(float_from_text(tmpValue) * 10)        \n",
    "    \n",
    "    #### MG\n",
    "    tmpMG = cleaned_quantity.find('MG')\n",
    "    if (tmpMG > 0):        \n",
    "        tmpValue = str(cleaned_quantity[:tmpMG]).strip().replace(',','.')\n",
    "        tmpValue = multiply_quantity_if_required(tmpValue)        \n",
    "        ##### Convert, Divide by 1000        \n",
    "        cleaned_quantity = str(float_from_text(tmpValue) / 1000)\n",
    "        \n",
    "    \n",
    "    ##### Clean quantity by removing g (gramms)\n",
    "    if (cleaned_quantity.endswith('GR')):\n",
    "        lenght = len(cleaned_quantity.strip())\n",
    "        cleaned_quantity = cleaned_quantity[:lenght-3].strip()\n",
    "        \n",
    "    if (cleaned_quantity.endswith('G')):\n",
    "        lenght = len(cleaned_quantity.strip())\n",
    "        tmpValue = cleaned_quantity[:lenght-2].strip()              \n",
    "        cleaned_quantity = multiply_quantity_if_required(tmpValue)\n",
    "    \n",
    "        \n",
    "    ##### Remove any extra space (start-end)\n",
    "    cleaned_quantity = cleaned_quantity.strip()    \n",
    "    clean_quantity = multiply_quantity_if_required(cleaned_quantity)\n",
    "        \n",
    "    \n",
    "    ##### Remove any extra space (start-end)\n",
    "    cleaned_quantity = cleaned_quantity.strip()\n",
    "    \n",
    "    cleaned_quantity = str(get_first_nbr_from_str(cleaned_quantity))\n",
    "    \n",
    "    ##### Return the cleaned quantity\n",
    "    return cleaned_quantity"
   ]
  },
  {
   "cell_type": "markdown",
   "metadata": {},
   "source": [
    "## Enrich with piece of sugars per Serving and Product (CH)"
   ]
  },
  {
   "cell_type": "markdown",
   "metadata": {},
   "source": [
    "**Clean and Enrich Product Quantity** by creating a new column cleaned_quantity \n",
    "\n",
    "All quantity are converted to g and ml."
   ]
  },
  {
   "cell_type": "code",
   "execution_count": null,
   "metadata": {},
   "outputs": [],
   "source": [
    "df_food_clean_ch['product_quantity']= df_food_clean_ch.apply(lambda z: enrich_product_quantity(z.quantity), axis='columns')\n",
    "df_food_clean_ch['product_quantity']= df_food_clean_ch['product_quantity'].astype(float) "
   ]
  },
  {
   "cell_type": "code",
   "execution_count": null,
   "metadata": {},
   "outputs": [],
   "source": [
    "enrich_with_sugars_per_serving(df_food_clean_ch)\n",
    "enrich_with_sugars_per_product(df_food_clean_ch)"
   ]
  },
  {
   "cell_type": "markdown",
   "metadata": {},
   "source": [
    "As you can see below, the Dataset had been enhanced with extra information about sugars per serving and per product"
   ]
  },
  {
   "cell_type": "code",
   "execution_count": null,
   "metadata": {},
   "outputs": [],
   "source": [
    "columns = ['code', 'product_name', 'sugars_100g', 'sugars_per_serving', 'sugars_per_product']\n",
    "df_food_clean_ch[columns].head(10)\n"
   ]
  },
  {
   "cell_type": "markdown",
   "metadata": {},
   "source": [
    "## Enrich with piece of sugars per Serving and Product (USDA)"
   ]
  },
  {
   "cell_type": "markdown",
   "metadata": {},
   "source": [
    "**Clean and Enrich Product Quantity** by creating a new column cleaned_quantity \n",
    "\n",
    "All quantity are converted to g and ml."
   ]
  },
  {
   "cell_type": "code",
   "execution_count": null,
   "metadata": {},
   "outputs": [],
   "source": [
    "#df_food_clean_usda['product_quantity']= df_food_clean_usda.apply(lambda z: enrich_product_quantity(z.quantity), axis='columns')\n",
    "#df_food_clean_usda['product_quantity']= df_food_clean_usda['product_quantity'].astype(float) "
   ]
  },
  {
   "cell_type": "code",
   "execution_count": null,
   "metadata": {},
   "outputs": [],
   "source": [
    "#enrich_with_sugars_per_serving(df_food_clean_usda)\n",
    "#enrich_with_sugars_per_product(df_food_clean_usda)"
   ]
  },
  {
   "cell_type": "markdown",
   "metadata": {},
   "source": [
    "As you can see below, the Dataset had been enhanced with extra information about sugars per serving and per product"
   ]
  },
  {
   "cell_type": "code",
   "execution_count": null,
   "metadata": {},
   "outputs": [],
   "source": [
    "#columns = ['code', 'product_name', 'sugars_100g', 'sugars_per_serving', 'sugars_per_product']\n",
    "#df_food_clean_usda[columns].head(10)"
   ]
  },
  {
   "cell_type": "markdown",
   "metadata": {},
   "source": [
    "<div class=\"alert alert-block alert-info\">\n",
    "\n",
    "<b>2.5 DATA CLEANING - Export USDA and openfood-ch-import</b><br>\n",
    "<i>We are looking to Load the data from CSV Files. Please notice that files have been split by the two main contributors</i>\n",
    "<hr>\n",
    "<b>Remarks</b><br>\n",
    "<i>\n",
    "As we have seen above, Data is very heteregenous. As most of the dimension could not be used, we decided to split our research with the two  more trustable Contributors:\n",
    "    - USDA as it contains US data provided by United States Department of Agriculture (and contains some urls/images)\n",
    "    - openfood.ch.import as it contains swiss products and we could check the quality of the data\n",
    "</i>\n",
    "<br>\n",
    "</div>"
   ]
  },
  {
   "cell_type": "markdown",
   "metadata": {},
   "source": [
    "Export **usda-ndb-import** data with limited columns"
   ]
  },
  {
   "cell_type": "code",
   "execution_count": null,
   "metadata": {},
   "outputs": [],
   "source": [
    "#df_food_clean_usda.to_csv(data_path + 'en.openfoodfacts.org.products.clean_usda.csv', sep='\\t')\n"
   ]
  },
  {
   "cell_type": "markdown",
   "metadata": {},
   "source": [
    "Export **openfood-ch-import** data with limited columns"
   ]
  },
  {
   "cell_type": "code",
   "execution_count": null,
   "metadata": {},
   "outputs": [],
   "source": [
    "df_food_clean_ch.to_csv(data_path + 'en.openfoodfacts.org.products.clean_ch.csv', sep='\\t')\n"
   ]
  },
  {
   "cell_type": "markdown",
   "metadata": {},
   "source": [
    "<div class=\"alert alert-block alert-info\">\n",
    "\n",
    "<b>2.6 DATA CLEANING - Reload Data openfood-ch-import and USDA</b><br>\n",
    "<i>Reload file</i>\n",
    "<hr>\n",
    "<b>Remarks</b><br>\n",
    "<i>\n",
    "Reload individual files with required informations\n",
    "</i>\n",
    "<br>\n",
    "</div>"
   ]
  },
  {
   "cell_type": "markdown",
   "metadata": {},
   "source": [
    "Reload **openfood-ch-import** data with limited columns"
   ]
  },
  {
   "cell_type": "code",
   "execution_count": null,
   "metadata": {},
   "outputs": [],
   "source": [
    "df_food_clean_ch = pd.read_csv(data_path + 'en.openfoodfacts.org.products.clean_ch.csv', sep=\"\\t\", low_memory=False,  skiprows=0)  \n",
    "df_food_clean_ch.count()\n"
   ]
  },
  {
   "cell_type": "markdown",
   "metadata": {},
   "source": [
    "Reload **usda-ndb-import** data with limited columns"
   ]
  },
  {
   "cell_type": "code",
   "execution_count": null,
   "metadata": {},
   "outputs": [],
   "source": [
    "#df_food_clean_usda = pd.read_csv(data_path + 'en.openfoodfacts.org.products.clean_usda.csv', sep=\"\\t\", low_memory=False, names=columns_to_keep, skiprows=1)  \n",
    "#df_food_clean_usda.count()\n"
   ]
  },
  {
   "cell_type": "code",
   "execution_count": null,
   "metadata": {},
   "outputs": [],
   "source": []
  },
  {
   "cell_type": "markdown",
   "metadata": {},
   "source": [
    "<div class=\"alert alert-warning\">\n",
    "\n",
    "<b>DATA Analysis</b><br><i>\n",
    "This part, in <b>yellow</b>, contains all the Analysis's activities, performed on the en.openfoodfacts.org.products.csv. The goal of this part is to perform analysis related to our topics.\n",
    "    \n",
    "To perform this Data Analysis, we decided to:\n",
    "- Check the products which does have sugar (compared to the one which have less) \n",
    "- Check the products which may have more than 25gr as recommanded by OMS: http://www.who.int/nutrition/sugars_public_consultation/en/\n",
    "\n",
    "- Check the products which contains more sugar per brands_tags, main_category_en, ... \n",
    "  Especially the ones which are hidden\n",
    "\n",
    "- Does sugar content depend on brand type\n",
    "</i></div>"
   ]
  },
  {
   "cell_type": "code",
   "execution_count": null,
   "metadata": {},
   "outputs": [],
   "source": [
    "df_result_ch = df_food_clean_ch.sort_values('sugars_100g', ascending=False)[['code', 'product_name', 'main_category_en', 'category_1','brands_tags', 'serving_quantity', 'sugars_100g']].head(30)\n",
    "\n",
    "#show_word_cloud(df_result, 'product_name', 'sugars_100g')\n"
   ]
  },
  {
   "cell_type": "markdown",
   "metadata": {},
   "source": [
    "**Incredible** After a deep analysis, we discover that the product which is containing the highest quantity of sugar, has a nutriction score of D."
   ]
  },
  {
   "cell_type": "markdown",
   "metadata": {},
   "source": [
    "<img src=\"https://static.openfoodfacts.org/images/misc/nutriscore-d.svg\"></img>"
   ]
  },
  {
   "cell_type": "markdown",
   "metadata": {},
   "source": [
    "As written on the nutrition's facts, there is a high quantity of sugar.\n",
    "<img src=\"https://static.openfoodfacts.org/images/products/761/027/804/2508/nutrition_fr.6.full.jpg\"></img>"
   ]
  },
  {
   "cell_type": "markdown",
   "metadata": {},
   "source": [
    "By the way, this product is nothing else than a 1kg of Sugar. At this stage, **we all love data analysis**:\n",
    "\n",
    "<img src=\"https://static.openfoodfacts.org/images/products/761/027/804/2508/front_fr.5.full.jpg\"></img>"
   ]
  },
  {
   "cell_type": "code",
   "execution_count": null,
   "metadata": {},
   "outputs": [],
   "source": [
    "df_result_ch"
   ]
  },
  {
   "cell_type": "code",
   "execution_count": null,
   "metadata": {},
   "outputs": [],
   "source": []
  },
  {
   "cell_type": "markdown",
   "metadata": {},
   "source": [
    "## Analysis:  Does many Swiss Products having more than 25gr of sugar?\n",
    "### As OMS recommendation is 25gr of sugar per day \n",
    "Eating any of this product will already overpassed the daily limit."
   ]
  },
  {
   "cell_type": "code",
   "execution_count": null,
   "metadata": {},
   "outputs": [],
   "source": [
    "columns = ['code','product_name', 'category_1', 'sugars_100g', 'sugars_per_serving', 'sugars_per_product']\n",
    "df_result25gr = df_food_clean_ch.query('sugars_per_product > 25')[columns]\n",
    "\n",
    "print(df_result25gr.groupby('category_1')['code'].count().sort_values(ascending=False).head(20))\n"
   ]
  },
  {
   "cell_type": "markdown",
   "metadata": {},
   "source": [
    "As we can see above, there is not so much surprised here, Sugary snacks, beverages and dessert are shown on the top.\n",
    "There is for sure not so much record and most of the products are assigned to the category 'Undefined', which is not so suprising to, based on the analysis we did above."
   ]
  },
  {
   "cell_type": "code",
   "execution_count": null,
   "metadata": {},
   "outputs": [],
   "source": [
    "df_result25gr.sort_values(by='sugars_per_product',ascending=False).head(50)\n",
    "\n"
   ]
  },
  {
   "cell_type": "markdown",
   "metadata": {},
   "source": [
    "This ice cream is almost a winner !!! It contains 28gr of sugar in a portion of 100g.\n",
    "You are eating 28% of sugars !!\n",
    "\n",
    "<img src=\"https://static.openfoodfacts.org/images/products/761/740/004/4720/front_fr.22.full.jpg\"></img>\n",
    "<img src=\"https://static.openfoodfacts.org/images/products/761/740/004/4720/nutrition_fr.19.full.jpg\"></img>"
   ]
  },
  {
   "cell_type": "markdown",
   "metadata": {},
   "source": [
    "This one is quite amaizing too, a drink to cacao, which contains 80% of sugars and sold as cacao !!!\n",
    "\n",
    "<img src=\"https://static.openfoodfacts.org/images/products/761/331/204/9297/front_fr.21.full.jpg\"></img>"
   ]
  },
  {
   "cell_type": "markdown",
   "metadata": {},
   "source": [
    "We are starting to hate Data Analysis, why our Toblerone is containing so much sugar ? If the numbers are correct, it is composed with almost 60% of sugars !\n",
    "\n",
    "<img src=\"https://static.openfoodfacts.org/images/products/762/221/041/8890/front_fr.20.full.jpg\"></img>"
   ]
  },
  {
   "cell_type": "code",
   "execution_count": null,
   "metadata": {},
   "outputs": [],
   "source": []
  },
  {
   "cell_type": "markdown",
   "metadata": {},
   "source": [
    "## Analysis:  Does sugar content deped on brand type?\n",
    "### Comparing low-cost, normal, and sustainable brands\n",
    "\n",
    "Calories tend to be cheap, so we decided to look into the relation between products from budget lines, \"normal\" products and those classed as being enviromentally friendly, ecologically grown etc.\n"
   ]
  },
  {
   "cell_type": "code",
   "execution_count": null,
   "metadata": {},
   "outputs": [],
   "source": [
    "#Load the data\n",
    "df = spark.read\\\n",
    "    .format(\"csv\")\\\n",
    "    .option(\"header\", \"true\")\\\n",
    "    .option(\"delimiter\", \"\\t\")\\\n",
    "    .load('./data/en.openfoodfacts.org.products.csv')"
   ]
  },
  {
   "cell_type": "code",
   "execution_count": null,
   "metadata": {},
   "outputs": [],
   "source": [
    "#Allow SQL queries to be executed\n",
    "df.createOrReplaceTempView(\"df_view\")\n",
    "\n",
    "#Obtain all products that has a list of categories defined\n",
    "sqlDF = spark.sql(\"SELECT product_name, brands_tags, sugars_100g \\\n",
    "                  FROM df_view \\\n",
    "                  WHERE brands_tags IS NOT NULL\")\n",
    "\n",
    "#Convert it into a dataframe\n",
    "brands_df = sqlDF.toPandas()"
   ]
  },
  {
   "cell_type": "code",
   "execution_count": null,
   "metadata": {},
   "outputs": [],
   "source": [
    "# Define the brands we are interested in. For now, we only look at division in the migros and coop sortiment.\n",
    "m1 = 'migros'\n",
    "m2 = 'm-classic'\n",
    "m3 = 'm-budget'\n",
    "m4 = 'terrasuisse'\n",
    "m5 = 'frey'\n",
    "m6 = 'migros-bio'\n",
    "\n",
    "c1 = 'coop'\n",
    "c2 = 'coop-prix-garantie'\n",
    "c3 = 'coop-naturaplan'\n",
    "c4 = 'coop-naturaplan-bio'\n",
    "\n",
    "# Order them into categories we are interested in\n",
    "\n",
    "m_brands = [m1, m2, m3, m4, m5, m6]\n",
    "\n",
    "c_brands = [c1, c2, c3, c4]\n",
    "\n",
    "low_cost_brands = [m3, c2]\n",
    "\n",
    "bio_brands = [m6, c3, c4]\n",
    "\n",
    "normal_brands = [m1, m2, c1]"
   ]
  },
  {
   "cell_type": "code",
   "execution_count": null,
   "metadata": {},
   "outputs": [],
   "source": [
    "def to_regex(brands):\n",
    "    \"\"\"\n",
    "    Convenience function that formats a list of brands into regex for the brands\n",
    "    \"\"\"\n",
    "    pattern = \"(,|^)(\"\n",
    "    for brand in brands:\n",
    "        pattern += brand + \"|\"\n",
    "        \n",
    "    pattern = pattern[:-1]\n",
    "    pattern  = pattern + \")(,|$)\"\n",
    "    return pattern"
   ]
  },
  {
   "cell_type": "code",
   "execution_count": null,
   "metadata": {},
   "outputs": [],
   "source": [
    "#For each set of brands, obtain the dataframes\n",
    "pattern = to_regex(normal_brands)\n",
    "NORMAL_pd = brands_df.loc[brands_df['brands_tags'].str.contains(pattern, flags=re.IGNORECASE, regex=True)]\n",
    "\n",
    "pattern = to_regex(low_cost_brands)\n",
    "LOCOST_pd = brands_df.loc[brands_df['brands_tags'].str.contains(pattern, flags=re.IGNORECASE, regex=True)]\n",
    "\n",
    "pattern = to_regex(bio_brands)\n",
    "BIO_pd = brands_df.loc[brands_df['brands_tags'].str.contains(pattern, flags=re.IGNORECASE, regex=True)]"
   ]
  },
  {
   "cell_type": "code",
   "execution_count": null,
   "metadata": {},
   "outputs": [],
   "source": [
    "#For each set of brands, group the amount of products by sugar content and pretty up the dataframe\n",
    "locost = LOCOST_pd[['sugars_100g', 'brands_tags']].groupby('sugars_100g').count()\n",
    "locost = locost.rename(columns={'brands_tags': 'products'})\n",
    "locost = locost.reset_index()\n",
    "\n",
    "bio = BIO_pd[['sugars_100g', 'brands_tags']].groupby('sugars_100g').count()\n",
    "bio = bio.rename(columns={'brands_tags': 'products'})\n",
    "bio = bio.reset_index()\n",
    "\n",
    "norm = NORMAL_pd[['sugars_100g', 'brands_tags']].groupby('sugars_100g').count()\n",
    "norm = norm.rename(columns={'brands_tags': 'products'})\n",
    "norm = norm.reset_index()\n",
    "\n",
    "#The sugar values seemed to be a mix of strings, ints and floats, so we convert them to a common dtype\n",
    "locost[['sugars_100g']] = locost[['sugars_100g']].astype(float)\n",
    "bio[['sugars_100g']] = bio[['sugars_100g']].astype(float)\n",
    "norm[['sugars_100g']] = norm[['sugars_100g']].astype(float)\n"
   ]
  },
  {
   "cell_type": "code",
   "execution_count": null,
   "metadata": {},
   "outputs": [],
   "source": [
    "#Plot the distributions\n",
    "fig, axs = plt.subplots(3, 1, figsize=(20, 20) )\n",
    "locost.plot(x='sugars_100g', y = 'products', ax=axs[0], kind='hist')\n",
    "axs[0].set_xlabel(\"Sugar content (100g)\")\n",
    "axs[0].set_ylabel(\"Amount of products\")\n",
    "axs[0].set_title('Low-cost brands')\n",
    "\n",
    "norm.plot(x='sugars_100g', y = 'products', ax=axs[1], kind='hist')\n",
    "axs[1].set_xlabel(\"Sugar content (100g)\")\n",
    "axs[1].set_ylabel(\"Amount of products\")\n",
    "axs[1].set_title('Normal brands')\n",
    "\n",
    "bio.plot(x='sugars_100g', y = 'products', ax=axs[2], kind='hist')\n",
    "axs[2].set_xlabel(\"Sugar content (100g)\")\n",
    "axs[2].set_ylabel(\"Amount of products\")\n",
    "axs[2].set_title('Biological brands')\n",
    "plt.show()\n"
   ]
  },
  {
   "cell_type": "code",
   "execution_count": null,
   "metadata": {},
   "outputs": [],
   "source": [
    "display(locost.describe())\n",
    "display(norm.describe())\n",
    "display(bio.describe())"
   ]
  },
  {
   "cell_type": "markdown",
   "metadata": {},
   "source": [
    "Looking at the statistics it looks like our thought was wrong. Standard deviation, quantiles and mean are all very similar with respect to sugar content no matter if it's a cheap , normal or expensive brand. We could of course also have looked into fat, and what types of products that actually ended up marked in each category to get more out of the analysis, but then we would begin to stray from our focus on sugar. With all that being said the sample sizes ended up being surprisingly small, but we nevertheless take this as an indication that the sugar content isn't really all that different between the three categories"
   ]
  },
  {
   "cell_type": "markdown",
   "metadata": {},
   "source": [
    "## Analysis:  Does only sugar bad ?\n",
    "### What about fat or palm oil products\n",
    "\n",
    "Most of the time sweat products are too fat to.\n",
    "We would like to explore this area and check if there is some correlation between sweat and fat products..."
   ]
  },
  {
   "cell_type": "code",
   "execution_count": null,
   "metadata": {
    "scrolled": false
   },
   "outputs": [],
   "source": [
    "from IPython.core.display import HTML\n",
    "pd.set_option('display.max_colwidth', -1)\n",
    "df_food_overview = df_food.query(\"ingredients_from_palm_oil_n > 0\")[['product_name', 'url', 'brands', 'ingredients_from_palm_oil_n', 'nutrition_grade_fr']]\n",
    "df_food_overview"
   ]
  },
  {
   "cell_type": "code",
   "execution_count": null,
   "metadata": {},
   "outputs": [],
   "source": [
    "pd.set_option('display.max_colwidth', -1)\n",
    "df_food.query(\"ingredients_from_palm_oil_n > 0 \")[['product_name', 'url','image_url']].head(100)"
   ]
  },
  {
   "cell_type": "markdown",
   "metadata": {},
   "source": [
    "# Apply Machine Learning"
   ]
  },
  {
   "cell_type": "markdown",
   "metadata": {},
   "source": [
    "As described above, it's quite challenging to define some real questions as data quality are quite bads.\n",
    "It should be more efficient to apply technic and effort to clean, cleanse and structure the DATA.\n",
    "\n",
    "As most of the dimensions are empty, Machine Learning could be applied to cross-check the quality:\n",
    "- like predicting the Brands\n",
    "- like predicting the Category\n",
    "- ...\n",
    "\n",
    "It seems quite unlikely to get rapid and good result in this area as most of the data are unstructured and there is no good foundation to train a model.\n"
   ]
  },
  {
   "cell_type": "code",
   "execution_count": null,
   "metadata": {},
   "outputs": [],
   "source": []
  },
  {
   "cell_type": "code",
   "execution_count": null,
   "metadata": {},
   "outputs": [],
   "source": []
  },
  {
   "cell_type": "code",
   "execution_count": null,
   "metadata": {},
   "outputs": [],
   "source": []
  },
  {
   "cell_type": "code",
   "execution_count": null,
   "metadata": {},
   "outputs": [],
   "source": []
  },
  {
   "cell_type": "code",
   "execution_count": null,
   "metadata": {},
   "outputs": [],
   "source": []
  },
  {
   "cell_type": "markdown",
   "metadata": {},
   "source": [
    "<div class=\"alert alert-danger\">\n",
    "\n",
    "<b>IMAGE Analysis</b><br><i>\n",
    "This part, in <b>red</b>, contains all the CNN Analysis.\n",
    "    \n",
    "To perform Image Analysis (CNN)\n",
    "- Predict data quality like the category (is it a beverage, fish,..., )? \n",
    "- Image analysis with CNN to predict sugar or nutrition values from the packging ? \n",
    "- Image analysis with CNN to predict the color of the package based on the quantity of sugar ? \n",
    "  (if a correlation exists) \n",
    "\n",
    "Could we use that to determine category or brands accordingly ? any suggestion ?\n",
    "\n",
    "</i></div>"
   ]
  },
  {
   "cell_type": "markdown",
   "metadata": {},
   "source": [
    "There are some challenges due to the fact that images are in different size and may require to be resized.\n",
    "\n",
    "By looking deeper, we discovered that the openFoodFacts data does not have enough data quality and that even we can train some images we could not compare them to any values as underlying values are not enough structured.\n",
    "\n",
    "As those ideas described above are quite good, it should be interesting to check if we can cross check some values from other sources to perform deeper analysis."
   ]
  },
  {
   "cell_type": "code",
   "execution_count": null,
   "metadata": {},
   "outputs": [],
   "source": []
  },
  {
   "cell_type": "code",
   "execution_count": null,
   "metadata": {},
   "outputs": [],
   "source": []
  },
  {
   "cell_type": "code",
   "execution_count": null,
   "metadata": {},
   "outputs": [],
   "source": []
  },
  {
   "cell_type": "code",
   "execution_count": null,
   "metadata": {},
   "outputs": [],
   "source": []
  },
  {
   "cell_type": "markdown",
   "metadata": {},
   "source": [
    "<div class=\"alert alert-danger\" style=\"background-color:whitesmoke;color:gray;border-color:darkgray;\">\n",
    "\n",
    "<b>EXTRA Analysis</b><br><i>\n",
    "This part, in <b>gray</b>, contains all extra ad hoc requests, like:\n",
    "- Show some result/product through worldcloud    \n",
    "- Get a list of Brand from WIKIPEDIA with Beautiful soup to cross check the quality of open food facts\n",
    "\n",
    "\n",
    "\n",
    "</i></div>"
   ]
  },
  {
   "cell_type": "markdown",
   "metadata": {},
   "source": [
    "### Show Text Result with worldcloud"
   ]
  },
  {
   "cell_type": "markdown",
   "metadata": {},
   "source": [
    "To install worldcloud:\n",
    "\n",
    "***conda install -c conda-forge wordcloud***"
   ]
  },
  {
   "cell_type": "code",
   "execution_count": null,
   "metadata": {},
   "outputs": [],
   "source": [
    "from wordcloud import WordCloud"
   ]
  },
  {
   "cell_type": "code",
   "execution_count": null,
   "metadata": {},
   "outputs": [],
   "source": [
    "def show_word_cloud(df, column_text, column_occurence):\n",
    "\n",
    "    text = ''\n",
    "    \n",
    "    for index, row in df.iterrows():        \n",
    "        size = int(row[column_occurence]) +1\n",
    "        \n",
    "        size = int((size * size)/10)+1\n",
    "        text = text +  (str(row[column_text]).replace(' ', '_') .replace(':_','')+ ','  )* size\n",
    "        \n",
    "    #print(text)\n",
    "    # Generate a word cloud image #,max_font_size = 150\n",
    "    wordcloud = WordCloud(background_color='white', width=1200,height=600, stopwords=',').generate(text)\n",
    "\n",
    "    # Display the generated image:\n",
    "    plt.figure(figsize=(15,8))\n",
    "    plt.imshow(wordcloud, interpolation='bilinear')\n",
    "    plt.axis(\"off\")\n",
    "    plt.show()\n"
   ]
  },
  {
   "cell_type": "code",
   "execution_count": null,
   "metadata": {},
   "outputs": [],
   "source": [
    "r =df_food_clean.head(100)\n",
    "show_word_cloud(r, 'product_name', 'sugars_100g')\n",
    "\n"
   ]
  },
  {
   "cell_type": "markdown",
   "metadata": {},
   "source": [
    "As most of the analysis is performed against text, we were thinking to have some Text visualisation. At the first place, we were thinking to use the word_cloud as shown above.\n",
    "\n",
    "Unfortunately, this world cloud is more designed to work with full text. Indeed the size of the text is managed automatically based on the number of occurence, which is not optimum in our case, as we have to multiply the text to get it bigger.\n",
    "\n",
    "Indeed in our use case, we would like to get the text bigger based on the quantity of sugar and not based of the occurrence.\n",
    "Furhtermore, word cloud, as written in the word is based on a single name.\n",
    "\n",
    "Somehow for our analysis we should develop our own word cloud. The below implementation could be used and adapted for fitting this purpose:\n"
   ]
  },
  {
   "cell_type": "code",
   "execution_count": null,
   "metadata": {},
   "outputs": [],
   "source": [
    "import matplotlib.pyplot as plt\n",
    "\n",
    "eqs = []\n",
    "eqs.append((r\"$W^{3\\beta}_{\\delta_1 \\rho_1 \\sigma_2} = U^{3\\beta}_{\\delta_1 \\rho_1} + \\frac{1}{8 \\pi 2} \\int^{\\alpha_2}_{\\alpha_2} d \\alpha^\\prime_2 \\left[\\frac{ U^{2\\beta}_{\\delta_1 \\rho_1} - \\alpha^\\prime_2U^{1\\beta}_{\\rho_1 \\sigma_2} }{U^{0\\beta}_{\\rho_1 \\sigma_2}}\\right]$\"))\n",
    "eqs.append((r\"$\\frac{d\\rho}{d t} + \\rho \\vec{v}\\cdot\\nabla\\vec{v} = -\\nabla p + \\mu\\nabla^2 \\vec{v} + \\rho \\vec{g}$\"))\n",
    "eqs.append((r\"$\\int_{-\\infty}^\\infty e^{-x^2}dx=\\sqrt{\\pi}$\"))\n",
    "eqs.append((r\"$E = mc^2 = \\sqrt{{m_0}^2c^4 + p^2c^2}$\"))\n",
    "eqs.append((r\"$F_G = G\\frac{m_1m_2}{r^2}$\"))\n",
    "\n",
    "plt.axes([0.025, 0.025, 0.95, 0.95])\n",
    "\n",
    "for i in range(24):\n",
    "    index = np.random.randint(0, len(eqs))\n",
    "    eq = eqs[index]\n",
    "    size = np.random.uniform(12, 32)\n",
    "    x,y = np.random.uniform(0, 1, 2)\n",
    "    alpha = np.random.uniform(0.25, .75)\n",
    "    plt.text(x, y, eq, ha='center', va='center', color=\"#11557c\", alpha=alpha,\n",
    "         transform=plt.gca().transAxes, fontsize=size, clip_on=True)\n",
    "plt.xticks(())\n",
    "plt.yticks(())\n",
    "\n",
    "plt.show()"
   ]
  },
  {
   "cell_type": "code",
   "execution_count": null,
   "metadata": {},
   "outputs": [],
   "source": []
  },
  {
   "cell_type": "code",
   "execution_count": null,
   "metadata": {},
   "outputs": [],
   "source": []
  },
  {
   "cell_type": "code",
   "execution_count": null,
   "metadata": {
    "scrolled": false
   },
   "outputs": [],
   "source": [
    "\n",
    "r = requests.get('https://en.wikipedia.org/wiki/List_of_food_companies')\n",
    "#r = requests.get('https://en.wikipedia.org/wiki/List_of_brand_name_food_products')\n",
    "\n",
    "page_body = r.text\n",
    "soup = BeautifulSoup(page_body, 'html.parser')\n",
    "all_li = soup.find_all('li')\n",
    "\n",
    "linkTexts = []\n",
    "linkUrls =[]\n",
    "\n",
    "for li in all_li:\n",
    "    \n",
    "    a = li.find('a')\n",
    "    if (    a is not None \\\n",
    "        and a.has_attr('href') \\\n",
    "        and a.has_attr('title') \\\n",
    "        and len(a.text)>0 ):\n",
    "        if(a.text[0].isdigit() == False and a.text.startswith('href') == False):\n",
    "            #print(str(a.text) + '-https://en.wikipedia.org' + str(a['href']))        \n",
    "            \n",
    "            linkTexts.append(a.text)\n",
    "            linkUrls.append('https://en.wikipedia.org' + str(a['href']))\n",
    "            \n",
    "            #Exit after last Food Companies\n",
    "            if(a.text.startswith('Vinamilk')):\n",
    "                break\n",
    "            \n",
    "        \n",
    "df = pd.DataFrame(list(zip(linkTexts, linkUrls)), \\\n",
    "                  columns=['company_name','company_url'])\n",
    "#df.index = df['company_name']\n",
    "df.sort_values(by='company_name')"
   ]
  },
  {
   "cell_type": "markdown",
   "metadata": {},
   "source": [
    "# External Links or References #\n",
    "\n",
    "\n",
    "#### Some references or links which are giving some useful information about Open Food Facts\n",
    "https://world.openfoodfacts.org/\n",
    "\n",
    "https://fr.wikipedia.org/wiki/Open_Food_Facts\n",
    "\n",
    "https://world.openfoodfacts.org/contributors\n",
    "\n",
    "\n",
    "\n",
    "## Some articles about how sugar is bad ##\n",
    "https://sydney.edu.au/news-opinion/news/2018/03/12/-yes--too-much-sugar-is-bad-for-our-health-.html\n",
    "\n",
    "https://www.urmc.rochester.edu/patients-families/health-matters/november-2014/no-sugar-coating-sugar-just-isn%E2%80%99t-helping-your-hea.aspx\n",
    "\n",
    "https://www.webmd.com/diabetes/features/how-sugar-affects-your-body\n",
    "\n",
    "https://www.emborg.com/health-wellbeing/healthy-lifestyle/eat-less-sugar-you’re-sweet-enough-already\n",
    "\n",
    "\n"
   ]
  },
  {
   "cell_type": "markdown",
   "metadata": {},
   "source": [
    "# Plan for what comes next\n",
    "The data was messier and more difficult to manage than we had initially thought. Many of our original ideas turned out infeasible and we have had to change our approach to things.\n",
    "\n",
    "Our current plan until  the third milestone the 15 December is as follows:\n",
    "* 25 to 28 November: Select three to five questions relating to sugar and health that we can answer with this data\n",
    "* 29 to 30 November: Select a platform for our story\n",
    "* 01 to 07 December: Answer the questions\n",
    "* 07 to 14 December: Finalize the story"
   ]
  },
  {
   "cell_type": "code",
   "execution_count": null,
   "metadata": {},
   "outputs": [],
   "source": []
  },
  {
   "cell_type": "code",
   "execution_count": null,
   "metadata": {},
   "outputs": [],
   "source": []
  },
  {
   "cell_type": "code",
   "execution_count": null,
   "metadata": {},
   "outputs": [],
   "source": []
  }
 ],
 "metadata": {
  "kernelspec": {
   "display_name": "Python 3",
   "language": "python",
   "name": "python3"
  },
  "language_info": {
   "codemirror_mode": {
    "name": "ipython",
    "version": 3
   },
   "file_extension": ".py",
   "mimetype": "text/x-python",
   "name": "python",
   "nbconvert_exporter": "python",
   "pygments_lexer": "ipython3",
   "version": "3.6.6"
  }
 },
 "nbformat": 4,
 "nbformat_minor": 2
}
