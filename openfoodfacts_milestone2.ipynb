{
 "cells": [
  {
   "cell_type": "markdown",
   "metadata": {},
   "source": [
    "# Eat less sugar, you're sweet enough already #"
   ]
  },
  {
   "cell_type": "markdown",
   "metadata": {},
   "source": [
    "## Abstract ##\n",
    "Many people consume too much sugar and even more than they realize. Some products contain added or hidden sugar like Low-fat Yogurst, BBQ Sauce, ketchup or Fruit Juice. To put in perspective, some sauces may contains more than 50 per cent of sugar. (**\\*Ref1**) \n",
    "\n",
    "Based on the \"AHA Scientific Statement\" (**\\*Ref2**), the major sources of added sugars are mainly coming form those Food Categories: regular soft drinks, sugars, candy, cakes, cookies, pies and fruit drinks, dairy desserts and milk products: \n",
    "<table>\n",
    " <tr>\n",
    "   <td><b>Food categories</b></td>\n",
    "     <td><b>Contribution to added sugar intake</b><br>(% of total added sugar consumed) </td>\n",
    " </tr>\n",
    " <tr><td>Regular soft drinks</td><td>33.0</td></tr>\n",
    " <tr><td>Sugars and candy</td><td>16.1</td></tr>\n",
    " <tr><td>Cakes, cookies, pies</td><td>12.9</td></tr>\n",
    " <tr><td>Fruit drinks (fruitades and fruit punch)</td><td>9.7</td></tr>\n",
    " <tr><td>Dairy desserts and milk products (ice cream sweetened yogurt, and sweetened milk)</td>      <td>8.6</td></tr>\n",
    "  <tr><td>Other grains (cinnamon toast and honey-nut waffles) </td><td>5.8</td></tr>\n",
    "</table>\n",
    "\n",
    "\n",
    "From there, it's easy understandable that eating too much sugar is not healthy and can cause Weight Gain, increase the risk of Hear Disease, Diabetes (**\\*Ref3**) or even Cancer, ...\n",
    "\n",
    "Therefore, it's crucial to limit the consumption of foods with high amounts of added sugars. According to the American Heart Association (AHA) (**\\*Ref4**), the maximum amount of added sugars per day are limited to:\n",
    "- Men: 150 calories per day (37.5 grams or 9 teaspoons or ~6.30 pieces of sugar)\n",
    "- Women: 100 calories per day (25 grams or 6 teaspoons or ~4.20 pieces of sugar)\n",
    "\n",
    "The US dietary guidelines advise people to limit their intake to less than 10% of their daily calorie intake. For a person eating 2,000 calories per day, this would equal 50 grams of sugar, or about 12.5 teaspoons or 8.4 pieces of sugar. (**\\*Ref5**)\n",
    "\n",
    "“Keeping intake of free sugars to less than 10% of total energy intake reduces the risk of overweight, obesity and tooth decay,” says Dr Francesco Branca, Director of WHO’s Department of Nutrition for Health and Development.(**\\*Ref6**)\n",
    "\n",
    "\n",
    "Based on the information above, we would like to explore the \"Open Food Facts Datbase\", apply the knowledge of data analysis technics and best practices acquired during attending Applied Data Analysis course at EPFL in Lausanne in Autumn 2018 and figure out meaninful/insightful relationship between different dimensions used to categorize the data or external metrics.\n",
    "\n",
    "\n",
    "<hr>\n",
    "\n",
    "**References/Sources**\n",
    "- **\\*Ref1** Heathy Food: How much sugar is in that sauces ?<br>\n",
    "  https://www.healthyfoodguide.com.au/articles/2015/july/how-much-sugar-sauce\n",
    "  \n",
    "- **\\*Ref2** Major Sources of Added Sugars in the American Diet<br>\n",
    "  https://www.ahajournals.org/doi/pdf/10.1161/circulationaha.109.192627\n",
    "  \n",
    "- **\\*Ref3** Maximum amount of added sugars recommendation from the American Heart Association<br>\n",
    "  https://www.heart.org/en/healthy-living/healthy-eating/eat-smart/sugar/added-sugars\n",
    "    \n",
    "- **\\*Ref3** Relationship of Sugar to Population-Level Diabetes Prevalence<br>\n",
    "  https://journals.plos.org/plosone/article/figure?id=10.1371/journal.pone.0057873.g002\n",
    "  \n",
    "- **\\*Ref4** Major Sources of Added Sugars in the American Diet<br>\n",
    "  https://www.ahajournals.org/doi/pdf/10.1161/circulationaha.109.192627\n",
    "  \n",
    "- **\\*Ref5** US Dietary guideleines  <br>\n",
    "  https://health.gov/dietaryguidelines/2015/guidelines/executive-summary/\n",
    "  \n",
    "- **\\*Ref6** World Health Organization: Reduce sugars intake  <br>\n",
    "  http://www.who.int/mediacentre/news/releases/2015/sugar-guideline/en/\n",
    " \n",
    "<hr>"
   ]
  },
  {
   "cell_type": "markdown",
   "metadata": {},
   "source": [
    "## Research questions (to do: to be updated)##\n",
    "\n",
    "1. There are lots of different dimensions/metrics which could be used to analyse/slice the data: dates when the product was added and last modified, produced country, brand, categories (e.g. snack, dessert), country / store where the product was purchased, size and weight of the product, amount of fat, sugar, vitamins, chemicals, ingredients as text etc We will explore the dimensions/metrics above and relate some of those to each other or such generic metrics as country (producer or consumer) GDP, life expectancy (vitamins, salt, sugar, other chemicals), expore which country/store is the biggest produce/consumer of product by brand/ingredients etc. We will also check how some of the metrics evolve over time.\n",
    "\n",
    "2. Explore the quality of the data, find and estimate inconsistencies (e.g. accuracy of the text description)\n",
    "\n",
    "3. Finally, there are images available for each product, so we will try to analyse those using Deep Learning techniques (CNN) and relate to some of the deminsions avialable in the dataset. \n"
   ]
  },
  {
   "cell_type": "markdown",
   "metadata": {},
   "source": [
    "## Some Extra Ideas ##\n",
    "- Check the products which does have sugar (compared to the one which have less)\n",
    "  Check the ones which may have more than 25 gr  \n",
    "  as recommanded by OMS: http://www.who.int/nutrition/sugars_public_consultation/en/\n",
    "\n",
    "- Check the products which contains more sugar per brands_tags, main_category_en, ...\n",
    "  Especially the ones which are hidden\n",
    "  \n",
    "- We should focus on smaller dataset to perform further analysis\n",
    "  We may focus onf the openfood-ch-import, and why not comparing\n",
    "     - Migros product against Coop product\n",
    "     - Low cost product like \"Prix garantie\" from Coop and \"M-budget\" from Migros against Bio \n",
    " \n",
    "- If some correlation or prediction could be done, but I'm afraid that there is not so much data.\n",
    "  We can try some model to determine if products having too much sugar, contain too much salt too ? \n",
    "  or check if we can use the nutrition_grade_fr for records we have this information.\n",
    "  \n",
    "- I would like to use beautifulsoup to download information from Internet.\n",
    "  Any idea is welcome, tell me if you find something useful here.\n",
    "  \n",
    "- for Image  analysing (CNN) to predict sugar content or the dominant color of the packaging? \n",
    "  or predict data quality like the category (is it a beverage, fish,..., )?\n",
    "  @Haueni, if we download/convert/resize image, what are you able to check ?\n",
    "  Could we use that to determine the category accordingly ? any suggestion ?"
   ]
  },
  {
   "cell_type": "markdown",
   "metadata": {},
   "source": [
    "## Organization of the Jupyter Notebook ##\n",
    "In order to have a better clarity, the notebook had been organized by topics (differenciated by colors)\n"
   ]
  },
  {
   "cell_type": "markdown",
   "metadata": {},
   "source": [
    "<div class=\"alert alert-block alert-success\">\n",
    "\n",
    "<b>1. DATA EXPLORATION</b><br><i>\n",
    "    This part, in <b>green</b>, contains all the Data Exploration's activities, performed on the en.openfoodfacts.org.products.csv. The goal of this part is to understand the data and check if it seems to be completed and trustworthy.\n",
    "    \n",
    "To perform this first Data Exploration, we decided to check the content by looking to the:\n",
    "- What are the Size/Shape of the Dataset\n",
    "- Who are the Contributors\n",
    "- What are the Brands\n",
    "- What are the Countries or Origins\n",
    "- What are the fields which could be used/related to sugar's consumption\n",
    "- What are the Anomalies in Dataa\n",
    "\n",
    "Before doing any transformation and analysis, It's indeed important to understand from where the data are coming, how they have been collected by whom, when and how confident we are about the 'Open Food Fact' Dataset.\n",
    "</i></div>\n"
   ]
  },
  {
   "cell_type": "markdown",
   "metadata": {},
   "source": [
    "<div class=\"alert alert-info\">\n",
    "\n",
    "<b>2. DATA CLEANING</b><br><i>\n",
    "This part, in <b>blue</b>, contains all the Data Cleaning's activities, performed on the en.openfoodfacts.org.products.csv. The goal of this part is to clean the data and enrich them based on the required activities.\n",
    "    \n",
    "To perform this Data Cleaning, we decided to:\n",
    "- Remove unused columns: in order to focus on main columns\n",
    "- Enrich data by creating new columns \n",
    "\n",
    "Before doing any analysis, It's indeed important to have a proper consolidated Dataset. Indeed, we discover that the Dataset requires a lot of cleaning activities and that the data quality is sometimes poor.\n",
    "</i></div>"
   ]
  },
  {
   "cell_type": "markdown",
   "metadata": {},
   "source": [
    "<div class=\"alert alert-warning\">\n",
    "\n",
    "<b>3. DATA Analysis</b><br><i>\n",
    "This part, in <b>yellow</b>, contains all the Analysis's activities, performed on the en.openfoodfacts.org.products.csv. The goal of this part is to perform analysis related to our topics.\n",
    "    \n",
    "To perform this Data Analysis, we decided to:\n",
    "- Check the products which does have sugar (compared to the one which have less) \n",
    "- Check the products which may have more than 25gr as recommanded by OMS: http://www.who.int/nutrition/sugars_public_consultation/en/\n",
    "\n",
    "- Check the products which contains more sugar per brands_tags, main_category_en, ... \n",
    "  Especially the ones which are hidden\n",
    "\n",
    "- ...\n",
    "</i></div>"
   ]
  },
  {
   "cell_type": "markdown",
   "metadata": {},
   "source": [
    "<div class=\"alert alert-danger\">\n",
    "\n",
    "<b>4. IMAGE Analysis</b><br><i>\n",
    "This part, in <b>red</b>, contains all the CNN Analysis.\n",
    "    \n",
    "To perform Image Analysis (CNN)\n",
    "- Predict sugar content ? \n",
    "- Predict data quality like the category (is it a beverage, fish,..., )? \n",
    "\n",
    "@Haueni, if we download/convert/resize image, what are you able to check ? Could we use that to determine the category accordingly ? any suggestion ?\n",
    "\n",
    "</i></div>\n",
    "\n",
    "<br><br>"
   ]
  },
  {
   "cell_type": "markdown",
   "metadata": {},
   "source": [
    "## Jupyter Notebook ##\n",
    "Please find below the different analysis performed against the Dataset Open Food Facts"
   ]
  },
  {
   "cell_type": "markdown",
   "metadata": {},
   "source": [
    "<p style=\"color:#3C763D\"><i>\n",
    "    <b>IMPORTS</b>: pandas, numpy, plt, sns, math, mtick, datetime, requests, beautifulSoup\n",
    "</i></p>"
   ]
  },
  {
   "cell_type": "code",
   "execution_count": 298,
   "metadata": {},
   "outputs": [],
   "source": [
    "# imports\n",
    "import pandas as pd\n",
    "import numpy as np\n",
    "import matplotlib.pyplot as plt\n",
    "import seaborn as sns\n",
    "import math\n",
    "\n",
    "import matplotlib.ticker as mtick\n",
    "from datetime import datetime, date, time\n",
    "\n",
    "\n",
    "# Import libraries\n",
    "import requests\n",
    "from bs4 import BeautifulSoup\n",
    "\n",
    "import warnings\n",
    "warnings.filterwarnings('ignore')"
   ]
  },
  {
   "cell_type": "markdown",
   "metadata": {},
   "source": [
    "<p style=\"color:#3C763D\"><i>\n",
    "    <b>COMMON FUNCTIONS</b>: get_rows, get_top_10, get_empty_rows, show_plot, print_stats\n",
    "</i></p>"
   ]
  },
  {
   "cell_type": "code",
   "execution_count": 217,
   "metadata": {},
   "outputs": [],
   "source": [
    "##### Calculate the number of rows of a specific DF\n",
    "def get_rows(df):\n",
    "    rows = df.shape[0]\n",
    "    return rows\n",
    "\n",
    "\n",
    "##### Return the top 10 records per column_name\n",
    "def get_top_10(df, column_name):\n",
    "    df_result = df_food.groupby([column_name]).size().reset_index(name='counts').sort_values('counts', ascending=False).head(10)\n",
    "\n",
    "    rows = get_rows(df)\n",
    "    df_result['percentage'] = df_result['counts']/rows*100\n",
    "\n",
    "    return df_result.copy()\n",
    "\n",
    "\n",
    "##### Count the number of empty rows for a specific Data Frame\n",
    "def get_empty_rows(df, column_name):\n",
    "    return df.query(str(column_name) + '.isnull()').count()\n",
    "\n",
    "\n",
    "##### show plot in bar plot with number\n",
    "def show_plot(df, column_name):\n",
    "\n",
    "    df_plot = df.loc[: ,[column_name, 'counts']].set_index(column_name)['counts'].copy()\n",
    "    \n",
    "    plt.figure(figsize=(15, 10))\n",
    "    \n",
    "    sns.set(style=\"whitegrid\")\n",
    "    g = sns.barplot(df_plot, df_plot.index, orient='h', palette=\"Blues_d\")\n",
    "    \n",
    "    plt.title('Top largest ' + column_name, fontsize=20)\n",
    "    plt.xlabel(\"Number of occurencs\", fontsize=14)\n",
    "    plt.ylabel(column_name, fontsize=14)\n",
    "\n",
    "    #### Show Number on the right of the bar plot    \n",
    "    for i, v in enumerate(df_plot.values.tolist()):\n",
    "        g.text(v + 3, i + .25, str(v), color='black', fontweight='normal')\n",
    "    \n",
    "    plt.show()\n",
    "\n",
    "\n",
    "    \n",
    "##### Print main statistics items    \n",
    "def print_stats(df, column_name):\n",
    "    total_rows = get_rows(df)\n",
    "    empty_rows = str(df[column_name].isna().sum())\n",
    "    perc = int(empty_rows) * 100 / int(total_rows)\n",
    "    print ('Number of empty records for ' + str(column_name) + ': ' + str(empty_rows) + ' (' + str(perc) + '%)' )\n",
    "    print (df[column_name].agg(['nunique','count','size']))\n",
    "        "
   ]
  },
  {
   "cell_type": "markdown",
   "metadata": {},
   "source": [
    "<div class=\"alert alert-block alert-success\">\n",
    "\n",
    "<b>1. UNDERSTANDING THE DATA</b><br>\n",
    "<i>The goal of this part is to load and understand the data, provided by 'Open Food Facts'. We would like to understand the the completeness and trustworthy of those data.\n",
    "</i>\n",
    "<hr>\n",
    "\n",
    "<br><b>1.1 Loading Data</b><br>\n",
    "We would like to load the Data and split the files in sub categories. We would like to check the size/shape of the Datasets and understand which columns could be used for our topics. Identify the gaps, the NaN. Somehow we would like to understand the overall quality of the data.\n",
    "\n",
    "<br><b>1.2 Who are the Contributors</b><br>\n",
    "We would like to check who are the contributors, who is contributing the more, could we trust the source and could we found some references in the net.\n",
    "\n",
    "<br><b>1.3 What are the Brands</b><br>\n",
    "We would like to check if all products are assigned to a Brand and check if all those Brand exists (cross check with wikipedia per example)\n",
    "\n",
    "<br><b>1.4 What are the Countries</b><br>\n",
    "We would like to check if all products are assigned to a Countries (Countries).\n",
    "As we suspect duplicate and non-normalized data, those values should most probably be cleaned.\n",
    "\n",
    "<br><b>1.5 What are the Origins of products</b><br>\n",
    "We would like to check if all products are assigned to an Origins (Countries).\n",
    "As we suspect duplicate and non-normalized data, those values should most probably be cleaned.\n",
    "\n",
    "<br><b>1.6 What are the Main Category</b><br>\n",
    "We are looking what are the Main Category (count/percentage/emtpy)\n",
    "\n",
    "<br><b>1.7 Check if there are some more anomalies in data</b><br>\n",
    "So far it seems that some Products have been entered many times.\n",
    "\n",
    "<hr>\n",
    "<b>Please notice that the file has been dowloaded from Internet and not from the Cluster, as they are identical</b>\n",
    "</div>\n",
    "\n"
   ]
  },
  {
   "cell_type": "markdown",
   "metadata": {},
   "source": [
    "<div class=\"alert alert-block alert-success\">\n",
    "\n",
    "<b>1.1 UNDERSTANDING THE DATA - Loading Data</b><br>\n",
    "<i>We are looking to Load the data from CSV Files. Please notice that files have been split by contributors</i>\n",
    "<hr>\n",
    "<b>Remarks</b><br>\n",
    "<i>\n",
    "The main idea was to split the data to get lower data set to explore. It is therefore possible to analyze them separately if required.\n",
    "\n",
    "By doing deeper analysis, we discovered that few contributors create main of the products.\n",
    "Therefore, it was making sense to split them. Furthermore, you will discover later that each contributors are mainly working in one and only one Country.\n",
    "\n",
    "It becomes so far logic to split them by contributors.\n",
    "Please notice as well that products from different countries have different categories and specificities which make them difficult to compare.\n",
    "</i>\n",
    "<br>\n",
    "</div>"
   ]
  },
  {
   "cell_type": "markdown",
   "metadata": {},
   "source": [
    "The 'Open Food Facts' file, used in this notebook had been copied to http://openfoodfacts.funspirit.ch/en.openfoodfacts.org.products.csv"
   ]
  },
  {
   "cell_type": "code",
   "execution_count": 6,
   "metadata": {},
   "outputs": [],
   "source": [
    "##### Default path for the DATA\n",
    "data_path = './data/'"
   ]
  },
  {
   "cell_type": "code",
   "execution_count": 7,
   "metadata": {},
   "outputs": [],
   "source": [
    "##### Read file and split by main contributors/Creators\n",
    "df_food = pd.read_csv(data_path +'en.openfoodfacts.org.products.csv', sep=\"\\t\", low_memory=False)  "
   ]
  },
  {
   "cell_type": "markdown",
   "metadata": {},
   "source": [
    "<p style=\"color:#3C763D\"><i>\n",
    "    <b>SAVE PRODUCTS BY CONTRIBUTORS</b>:<br> \n",
    "    kiliweb, usda_ndb_import, openfood_ch, others\n",
    "</i></p>"
   ]
  },
  {
   "cell_type": "code",
   "execution_count": 5,
   "metadata": {},
   "outputs": [],
   "source": [
    "df_food_kiliweb = df_food.query(\"creator == 'kiliweb'\")\n",
    "df_food_kiliweb.to_csv(data_path + 'en.openfoodfacts.org.products.kiliweb.299820.csv', sep='\\t')"
   ]
  },
  {
   "cell_type": "code",
   "execution_count": 6,
   "metadata": {},
   "outputs": [],
   "source": [
    "df_food_usda_ndb_import = df_food.query(\"creator == 'usda-ndb-import'\")\n",
    "df_food_usda_ndb_import.to_csv(data_path + 'en.openfoodfacts.org.products.usda-ndb-import.169861.csv', sep='\\t')"
   ]
  },
  {
   "cell_type": "code",
   "execution_count": 7,
   "metadata": {},
   "outputs": [],
   "source": [
    "df_food_openfood_ch = df_food.query(\"creator == 'openfood-ch-import'\")\n",
    "df_food_openfood_ch.to_csv(data_path + 'en.openfoodfacts.org.products.openfood-ch-import.11459.csv', sep='\\t')"
   ]
  },
  {
   "cell_type": "code",
   "execution_count": 8,
   "metadata": {},
   "outputs": [],
   "source": [
    "df_food_others = df_food.query(\"creator.isin(['kiliweb', 'usda-ndb-import', 'openfood-ch-import']) == False\")\n",
    "df_food_others.to_csv(data_path + 'en.openfoodfacts.org.products.others.200428.csv', sep='\\t')"
   ]
  },
  {
   "cell_type": "markdown",
   "metadata": {},
   "source": [
    "<p style=\"color:#3C763D\"><i>\n",
    "    <b>RELOAD PRODUCTS BY CONTRIBUTORS</b>:<br> \n",
    "    kiliweb, usda_ndb_import, openfood_ch, others\n",
    "</i></p>"
   ]
  },
  {
   "cell_type": "code",
   "execution_count": 8,
   "metadata": {},
   "outputs": [],
   "source": [
    "df_food_kili_web_comp = pd.read_csv(data_path + 'en.openfoodfacts.org.products.kiliweb.299820.csv', sep=\"\\t\", low_memory=False)  \n",
    "df_food_usda_ndb_import_comp = pd.read_csv(data_path + 'en.openfoodfacts.org.products.usda-ndb-import.169861.csv', sep=\"\\t\", low_memory=False)  \n",
    "df_food_openfood_ch_comp = pd.read_csv(data_path + 'en.openfoodfacts.org.products.openfood-ch-import.11459.csv', sep=\"\\t\", low_memory=False)  \n",
    "df_food_others_comp = pd.read_csv(data_path + 'en.openfoodfacts.org.products.others.200428.csv', sep=\"\\t\", low_memory=False)  \n",
    "\n",
    "frames = [df_food_kili_web_comp, df_food_usda_ndb_import_comp, df_food_openfood_ch_comp, df_food_others_comp]\n",
    "df_food_comparison = pd.concat(frames)"
   ]
  },
  {
   "cell_type": "markdown",
   "metadata": {},
   "source": [
    "<p style=\"color:#3C763D\"><i>\n",
    "    <b>COMPARE both files</b>:<br> \n",
    "    To ensure that both files are containing the same rows/columns\n",
    "</i></p>"
   ]
  },
  {
   "cell_type": "code",
   "execution_count": 9,
   "metadata": {},
   "outputs": [
    {
     "name": "stdout",
     "output_type": "stream",
     "text": [
      "\n",
      "df_food:(681602, 173)\n",
      "\n",
      "df_food_comparison:(681602, 174)\n"
     ]
    }
   ],
   "source": [
    "print('\\ndf_food:' + str(df_food.shape))\n",
    "print('\\ndf_food_comparison:' + str(df_food_comparison.shape))\n"
   ]
  },
  {
   "cell_type": "markdown",
   "metadata": {},
   "source": [
    "Please notice that both dataframe are identical. The second ones have one more column as the index had been exported too. A copy of all those files coould be retrieved in http://en.openfoodfacts.org.products.splitted_by_contributor.zip, which contains:\n",
    "- http://openfoodfacts.funspirit.ch/en.openfoodfacts.org.products.kiliweb.299820.csv\n",
    "- http://openfoodfacts.funspirit.ch/en.openfoodfacts.org.products.usda-ndb-import.169861.csv\n",
    "- http://openfoodfacts.funspirit.ch/en.openfoodfacts.org.products.openfood-ch-import.11459.csv\n",
    "- http://openfoodfacts.funspirit.ch/en.openfoodfacts.org.products.others.200428.csv"
   ]
  },
  {
   "cell_type": "markdown",
   "metadata": {},
   "source": [
    "<p style=\"color:#3C763D\"><i>\n",
    "    <b>SIZE & SHAPE</b>:<br> \n",
    "    Check the size & Shape of the 'open food facts'\n",
    "</i></p>"
   ]
  },
  {
   "cell_type": "code",
   "execution_count": 11,
   "metadata": {},
   "outputs": [
    {
     "name": "stdout",
     "output_type": "stream",
     "text": [
      "Open Food Data contains 681602 products.(681602, 173)\n"
     ]
    }
   ],
   "source": [
    "print('Open Food Data contains ' + str(get_rows(df_food)) + ' products.' + str(df_food.shape) )\n",
    "\n"
   ]
  },
  {
   "cell_type": "code",
   "execution_count": 12,
   "metadata": {},
   "outputs": [
    {
     "name": "stdout",
     "output_type": "stream",
     "text": [
      "\n",
      "df_food Columns:\n"
     ]
    },
    {
     "data": {
      "text/plain": [
       "Index(['code', 'url', 'creator', 'created_t', 'created_datetime',\n",
       "       'last_modified_t', 'last_modified_datetime', 'product_name',\n",
       "       'generic_name', 'quantity',\n",
       "       ...\n",
       "       'carbon-footprint_100g', 'nutrition-score-fr_100g',\n",
       "       'nutrition-score-uk_100g', 'glycemic-index_100g', 'water-hardness_100g',\n",
       "       'choline_100g', 'phylloquinone_100g', 'beta-glucan_100g',\n",
       "       'inositol_100g', 'carnitine_100g'],\n",
       "      dtype='object', length=173)"
      ]
     },
     "execution_count": 12,
     "metadata": {},
     "output_type": "execute_result"
    }
   ],
   "source": [
    "print('\\ndf_food Columns:')\n",
    "df_food.columns"
   ]
  },
  {
   "cell_type": "code",
   "execution_count": 13,
   "metadata": {},
   "outputs": [
    {
     "name": "stdout",
     "output_type": "stream",
     "text": [
      "\n",
      "df_food Counts:\n"
     ]
    },
    {
     "data": {
      "text/plain": [
       "code                                    681568\n",
       "url                                     681568\n",
       "creator                                 681599\n",
       "created_t                               681598\n",
       "created_datetime                        681592\n",
       "last_modified_t                         681602\n",
       "last_modified_datetime                  681602\n",
       "product_name                            654761\n",
       "generic_name                             75765\n",
       "quantity                                189965\n",
       "packaging                               137285\n",
       "packaging_tags                          137282\n",
       "brands                                  460425\n",
       "brands_tags                             460392\n",
       "categories                              173826\n",
       "categories_tags                         173825\n",
       "categories_en                           173791\n",
       "origins                                  40790\n",
       "origins_tags                             40737\n",
       "manufacturing_places                     65402\n",
       "manufacturing_places_tags                65380\n",
       "labels                                  100754\n",
       "labels_tags                             100784\n",
       "labels_en                               100784\n",
       "emb_codes                                43547\n",
       "emb_codes_tags                           43504\n",
       "first_packaging_code_geo                 27572\n",
       "cities                                       0\n",
       "cities_tags                              29385\n",
       "purchase_places                          98527\n",
       "                                         ...  \n",
       "calcium_100g                            143308\n",
       "phosphorus_100g                           6296\n",
       "iron_100g                               141489\n",
       "magnesium_100g                            6994\n",
       "zinc_100g                                 4225\n",
       "copper_100g                               2196\n",
       "manganese_100g                            1715\n",
       "fluoride_100g                              162\n",
       "selenium_100g                             1250\n",
       "chromium_100g                               38\n",
       "molybdenum_100g                             36\n",
       "iodine_100g                                446\n",
       "caffeine_100g                              164\n",
       "taurine_100g                                57\n",
       "ph_100g                                    110\n",
       "fruits-vegetables-nuts_100g               3423\n",
       "fruits-vegetables-nuts-estimate_100g      7496\n",
       "collagen-meat-protein-ratio_100g           292\n",
       "cocoa_100g                                3737\n",
       "chlorophyl_100g                              2\n",
       "carbon-footprint_100g                      342\n",
       "nutrition-score-fr_100g                 136571\n",
       "nutrition-score-uk_100g                 136571\n",
       "glycemic-index_100g                          2\n",
       "water-hardness_100g                          1\n",
       "choline_100g                                27\n",
       "phylloquinone_100g                           1\n",
       "beta-glucan_100g                            14\n",
       "inositol_100g                               33\n",
       "carnitine_100g                              13\n",
       "Length: 173, dtype: int64"
      ]
     },
     "execution_count": 13,
     "metadata": {},
     "output_type": "execute_result"
    }
   ],
   "source": [
    "print('\\ndf_food Counts:')\n",
    "df_food.count()\n"
   ]
  },
  {
   "cell_type": "markdown",
   "metadata": {},
   "source": [
    "<div class=\"alert alert-block alert-success\">\n",
    "\n",
    "<b>1.2 UNDERSTANDING THE DATA - Contributors</b><br>\n",
    "<i>We are looking who are the contributors and what are their contributions by Products (count/percentage/emtpy)</i>\n",
    "<hr>\n",
    "<b>Remarks</b><br>\n",
    "<i>\n",
    "Who are those contributors ? except usda-ndb-import and openfood-ch-import, could we trust them ?\n",
    "Almost 44% of the products have been created by kiliweb. Who is kiliweb ?\n",
    "\n",
    "We identified some records (at least 3) without contributor (creator)\n",
    "\n",
    "\n",
    "After some search in Internet it seems that\n",
    "- usda-ndb-import is the 'United States Department of Agriculture'. Those products are mainly US Products. \n",
    "  More information could be retrieved in https://ndb.nal.usda.gov/ndb/search/list\n",
    "- openfood-ch-import seems to be mainly managed by EPFL. Those products are mainly coming from COOP and MIGROS, and therefore CH Products.\n",
    "  More information could be retrieved https://ch-fr.openfoodfacts.org/\n",
    "- kiliweb seems to be a web agency in France. Most of the products are therefore mainly coming from France. It's most probably the most active contributor and this may explain why most of the products are assigned to France.\n",
    "\n",
    "</i>\n",
    "<br>\n",
    "</div>\n"
   ]
  },
  {
   "cell_type": "markdown",
   "metadata": {},
   "source": [
    "<p style=\"color:#3C763D\"><i>\n",
    "    <b>1.2 UNDERSTANDING THE DATA</b>: Overview of Contributors\n",
    "</i></p>"
   ]
  },
  {
   "cell_type": "code",
   "execution_count": 218,
   "metadata": {},
   "outputs": [
    {
     "name": "stdout",
     "output_type": "stream",
     "text": [
      "\n",
      "Top 10 Contributors (Counts & Percentage)\n",
      "                         creator  counts  percentage\n",
      "3246                     kiliweb  299820   43.987547\n",
      "6126             usda-ndb-import  169861   24.920848\n",
      "4698  openfoodfacts-contributors   82719   12.135968\n",
      "1449             date-limite-app   17453    2.560585\n",
      "4696          openfood-ch-import   11459    1.681186\n",
      "5822                      tacite    8438    1.237966\n",
      "5469                    sebleouf    8359    1.226376\n",
      "5821                     tacinte    5282    0.774939\n",
      "5723                    stephane    2774    0.406982\n",
      "2768                     javichu    2766    0.405809\n"
     ]
    },
    {
     "data": {
      "image/png": "[encoded data removed]",
      "text/plain": [
       "<Figure size 1080x720 with 1 Axes>"
      ]
     },
     "metadata": {},
     "output_type": "display_data"
    },
    {
     "name": "stdout",
     "output_type": "stream",
     "text": [
      "Number of empty records for creator: 3 (0.0004401395535811221%)\n",
      "nunique      6544\n",
      "count      681599\n",
      "size       681602\n",
      "Name: creator, dtype: int64\n"
     ]
    }
   ],
   "source": [
    "##### Get top 10 Contributors\n",
    "df_10_contributors = get_top_10(df_food, 'creator')\n",
    "\n",
    "##### Show Result\n",
    "print('\\nTop 10 Contributors (Counts & Percentage)')\n",
    "print(df_10_contributors)    \n",
    "show_plot(df_10_contributors, 'creator')\n",
    "\n",
    "##### Show Information about empty records\n",
    "print_stats(df_food, 'creator')"
   ]
  },
  {
   "cell_type": "markdown",
   "metadata": {},
   "source": [
    "<p style=\"color:#3C763D\"><i>\n",
    "    <b>1.2 UNDERSTANDING THE DATA</b>: Overview of when Products have been created by Contributors\n",
    "</i></p>"
   ]
  },
  {
   "cell_type": "code",
   "execution_count": 15,
   "metadata": {},
   "outputs": [
    {
     "data": {
      "text/plain": [
       "<matplotlib.axes._subplots.AxesSubplot at 0x1f124eaed68>"
      ]
     },
     "execution_count": 15,
     "metadata": {},
     "output_type": "execute_result"
    },
    {
     "data": {
      "image/png": "[encoded data removed]",
      "text/plain": [
       "<Figure size 864x576 with 1 Axes>"
      ]
     },
     "metadata": {
      "needs_background": "light"
     },
     "output_type": "display_data"
    },
    {
     "data": {
      "image/png": "[encoded data removed]",
      "text/plain": [
       "<Figure size 864x576 with 1 Axes>"
      ]
     },
     "metadata": {
      "needs_background": "light"
     },
     "output_type": "display_data"
    }
   ],
   "source": [
    "top_5_creators = df_food.loc[(df_food['creator']=='kiliweb')|\\\n",
    "                             (df_food['creator']=='usda-ndb-import') |\\\n",
    "                             (df_food['creator']=='openfoodfacts-contributors') |\\\n",
    "                             (df_food['creator']=='date-limite-app') |\\\n",
    "                             (df_food['creator']=='openfood-ch-import')][['creator','created_datetime']]\n",
    "\n",
    "top_5_creators['mod_datetime'] = top_5_creators['created_datetime'].apply(lambda x: x[0:4])\n",
    "top_5_creators.drop('created_datetime', axis=1)\n",
    "\n",
    "mod_pivot = pd.pivot_table(top_5_creators, index=top_5_creators['mod_datetime'], columns='creator', aggfunc=len, fill_value=0)\n",
    "mod_pivot.plot(kind=\"line\", figsize=(12,8), title=\"When were items created?\")\n",
    "mod_pivot.plot(kind=\"bar\", figsize=(12,8), title=\"When were items created?\")\n"
   ]
  },
  {
   "cell_type": "markdown",
   "metadata": {},
   "source": [
    "So far we can see that Kiliweb is the most active contributors and is continously adding products.\n",
    "usda-ndb-import, which is the 'United States Department of Agriculture' seems to not contrinbute anymore to the open food facts database and has been only imported once. The open community of openfoodfacts-contributors seems to be growing day after day. We could almost consider individual contributor as marginal.\n",
    "\n",
    "The diversity of contributors may lead to mismatched data. We can already assume, based of the main contributors, that the diversity of product by country is not representative and comparison against country is most probably not relevant enough."
   ]
  },
  {
   "cell_type": "markdown",
   "metadata": {},
   "source": [
    "<div class=\"alert alert-block alert-success\">\n",
    "\n",
    "<b>1.3 UNDERSTANDING THE DATA - Brands</b><br>\n",
    "<i>We are looking what are the Brands (count/percentage/emtpy)</i>\n",
    "<hr>\n",
    "<b>Remarks</b><br>\n",
    "<i>\n",
    "Almost 32% of the products are not assigned to any 'Brand', why ?\n",
    "</i>\n",
    "<br>\n",
    "</div>\n"
   ]
  },
  {
   "cell_type": "markdown",
   "metadata": {},
   "source": [
    "<p style=\"color:#3C763D\"><i>\n",
    "    <b>1.3 UNDERSTANDING THE DATA</b>: Overall information about Brands\n",
    "</i></p>"
   ]
  },
  {
   "cell_type": "code",
   "execution_count": 139,
   "metadata": {},
   "outputs": [
    {
     "name": "stdout",
     "output_type": "stream",
     "text": [
      "\n",
      "Top 10 Brands (Counts & Percentage)\n",
      "             brands  counts  percentage\n",
      "13449     Carrefour    5384    0.789904\n",
      "4726         Auchan    5313    0.779487\n",
      "85513             U    4401    0.645685\n",
      "13967        Casino    3130    0.459212\n",
      "48068  Leader Price    2825    0.414465\n",
      "18474          Cora    2230    0.327170\n",
      "55740        Meijer    1997    0.292986\n",
      "42398        Kroger    1673    0.245451\n",
      "66647        Picard    1517    0.222564\n",
      "1583          Ahold    1370    0.200997\n"
     ]
    },
    {
     "data": {
      "image/png": "[encoded data removed]",
      "text/plain": [
       "<Figure size 1080x720 with 1 Axes>"
      ]
     },
     "metadata": {},
     "output_type": "display_data"
    },
    {
     "name": "stdout",
     "output_type": "stream",
     "text": [
      "Number of empty records for brands: 221177 (32.449582014137285%)\n",
      "nunique     98663\n",
      "count      460425\n",
      "size       681602\n",
      "Name: brands, dtype: int64\n"
     ]
    }
   ],
   "source": [
    "##### Get top 10 Brands\n",
    "df_10_brands = get_top_10(df_food, 'brands')\n",
    "\n",
    "##### Show Result\n",
    "print('\\nTop 10 Brands (Counts & Percentage)')\n",
    "print(df_10_brands)    \n",
    "show_plot(df_10_brands, 'brands')\n",
    "\n",
    "##### Show Information about empty records\n",
    "print_stats(df_food, 'brands')"
   ]
  },
  {
   "cell_type": "markdown",
   "metadata": {},
   "source": [
    "32% of the products are not assigned to any Brands. Furthermore the 6 most big brands of Open Food Facts are French Mall. \n",
    "This sounds stranges that main of the products are repertoried in France. French cheese only could not explain this delta.\n",
    "\n",
    "It seems that as described above with contributors, that the french community, through kiliweb, is the most important contributor. This may explain why there is so much products assigned to French Brand or assigned to France."
   ]
  },
  {
   "cell_type": "markdown",
   "metadata": {},
   "source": [
    "<div class=\"alert alert-block alert-success\">\n",
    "\n",
    "<b>1.4 UNDERSTANDING THE DATA - Countries</b><br>\n",
    "<i>We are looking what are the countries_en (count/percentage/emtpy)</i>\n",
    "<hr>\n",
    "<b>Remarks</b><br>\n",
    "<i>\n",
    "Almost 60% of the Product seems assigned to France, which is very suspicious and requires further investigations.\n",
    "    \n",
    "Some products seem to be linked to multiple countries like (Belgium, France)\n",
    "\n",
    "Few records (5444) are not linked to any country.\n",
    "</i>\n",
    "<br>\n",
    "</div>"
   ]
  },
  {
   "cell_type": "code",
   "execution_count": 140,
   "metadata": {},
   "outputs": [
    {
     "name": "stdout",
     "output_type": "stream",
     "text": [
      "\n",
      "Top 10 countries_en (Counts & Percentage)\n",
      "            countries_en  counts  percentage\n",
      "593               France  409951   60.145217\n",
      "1323       United States  173494   25.453857\n",
      "1279         Switzerland   13543    1.986937\n",
      "1015             Germany   11629    1.706128\n",
      "1267               Spain    6104    0.895537\n",
      "623       France,Germany    5884    0.863260\n",
      "1317      United Kingdom    5643    0.827903\n",
      "174              Belgium    5309    0.778900\n",
      "896   France,Switzerland    4345    0.637469\n",
      "207       Belgium,France    3505    0.514230\n"
     ]
    },
    {
     "data": {
      "image/png": "[encoded data removed]",
      "text/plain": [
       "<Figure size 1080x720 with 1 Axes>"
      ]
     },
     "metadata": {},
     "output_type": "display_data"
    },
    {
     "name": "stdout",
     "output_type": "stream",
     "text": [
      "Number of empty records for countries_en: 544 (0.07981197238271015%)\n",
      "nunique      1361\n",
      "count      681058\n",
      "size       681602\n",
      "Name: countries_en, dtype: int64\n"
     ]
    }
   ],
   "source": [
    "##### Get top 10 Countries_en\n",
    "df_10_countries_en = get_top_10(df_food, 'countries_en')\n",
    "\n",
    "##### Show Result\n",
    "print('\\nTop 10 countries_en (Counts & Percentage)')\n",
    "print(df_10_countries_en)    \n",
    "show_plot(df_10_countries_en, 'countries_en')\n",
    "\n",
    "##### Show Information about empty records\n",
    "print_stats(df_food, 'countries_en')"
   ]
  },
  {
   "cell_type": "markdown",
   "metadata": {},
   "source": [
    "We discover here the same behavior than previous analyis. Most of the products are assigned to France which was the expectation as the main contributor is kiliweb (France Web Agency). This is consistent, especially after the analysis of the contributors and brands above.\n",
    "\n",
    "Even if most of the products have been assigned to country, as only 544 products are not linked to any country, we discover that there is 1361 countries.\n",
    "\n",
    "So far it seems that countries contain a list of countries and not unique country.\n",
    "\n",
    "Furthermore most of the products are linked to one or two countries only, which is very suspicious. We could assume per example that this peanut butter http://world-en.openfoodfacts.org/product/0011110739322/peanut-butter-creamy assigned to France could be founded in another country like USA as it is made by Kroger https://fr.wikipedia.org/wiki/Kroger.\n",
    "\n",
    "Most probably this product is being sold in France and had been repertoried as French's product. But we could be sure that this peanut butter is sold in USA too, maybe in a different product's name.\n",
    "\n",
    "So far we can conclude that this field country has to be managed with precaution."
   ]
  },
  {
   "cell_type": "markdown",
   "metadata": {},
   "source": [
    "<div class=\"alert alert-block alert-success\">\n",
    "\n",
    "<b>1.5 UNDERSTANDING THE DATA - Origins</b><br>\n",
    "<i>We are looking what are the origins (count/percentage/emtpy)</i>\n",
    "<hr>\n",
    "<b>Remarks</b><br>\n",
    "<i>\n",
    "Most of the products (94%) do not have any origin.\n",
    "    \n",
    "There is misspelling like 'Union Européenne' and 'Union européenne'\n",
    "\n",
    "</i>\n",
    "<br>\n",
    "</div>"
   ]
  },
  {
   "cell_type": "code",
   "execution_count": 141,
   "metadata": {},
   "outputs": [
    {
     "name": "stdout",
     "output_type": "stream",
     "text": [
      "\n",
      "Top 10 origins (Counts & Percentage)\n",
      "               origins  counts  percentage\n",
      "2043            France   10849    1.591691\n",
      "5760  Union Européenne    1507    0.221097\n",
      "3136            Italie     927    0.136003\n",
      "1703           Espagne     856    0.125586\n",
      "1753            España     667    0.097858\n",
      "3896            México     636    0.093310\n",
      "5825  Union européenne     469    0.068808\n",
      "604          Australia     462    0.067781\n",
      "5394            Suisse     372    0.054577\n",
      "1470       Deutschland     349    0.051203\n"
     ]
    },
    {
     "data": {
      "image/png": "[encoded data removed]",
      "text/plain": [
       "<Figure size 1080x720 with 1 Axes>"
      ]
     },
     "metadata": {},
     "output_type": "display_data"
    },
    {
     "name": "stdout",
     "output_type": "stream",
     "text": [
      "Number of empty records for origins: 640812 (94.01556920314201%)\n",
      "nunique      7407\n",
      "count       40790\n",
      "size       681602\n",
      "Name: origins, dtype: int64\n"
     ]
    }
   ],
   "source": [
    "##### Get top 10 Origins\n",
    "df_10_origins = get_top_10(df_food, 'origins')\n",
    "\n",
    "##### Show Result\n",
    "print('\\nTop 10 origins (Counts & Percentage)')\n",
    "print(df_10_origins)    \n",
    "show_plot(df_10_origins, 'origins')\n",
    "\n",
    "##### Show Information about empty records\n",
    "print_stats(df_food, 'origins')"
   ]
  },
  {
   "cell_type": "markdown",
   "metadata": {},
   "source": [
    "The origins is very denormalized and may contain as value a country a region a continent,... 7407 unique values are far much than list of potential countries.\n",
    "\n",
    "This is making the usage of this field difficult."
   ]
  },
  {
   "cell_type": "markdown",
   "metadata": {},
   "source": [
    "<div class=\"alert alert-block alert-success\">\n",
    "\n",
    "<b>1.6 UNDERSTANDING THE DATA - Main Category</b><br>\n",
    "<i>We are looking what are the Main Category (count/percentage/emtpy)</i>\n",
    "<hr>\n",
    "<b>Remarks</b><br>\n",
    "<i>\n",
    "Most of the products (74%) do not have any Main Category.\n",
    "    \n",
    "To check if category changes by country, brands,...\n",
    "\n",
    "</i>\n",
    "<br>\n",
    "</div>"
   ]
  },
  {
   "cell_type": "code",
   "execution_count": 142,
   "metadata": {},
   "outputs": [
    {
     "name": "stdout",
     "output_type": "stream",
     "text": [
      "\n",
      "Top 10 main_category_en (Counts & Percentage)\n",
      "                     main_category_en  counts  percentage\n",
      "1289  Plant-based foods and beverages   37312    5.474162\n",
      "143                         Beverages   25368    3.721820\n",
      "1624                    Sugary snacks   23588    3.460671\n",
      "541                           Dairies   15580    2.285791\n",
      "1081                            Meats    9589    1.406833\n",
      "849                         Groceries    9390    1.377637\n",
      "1076                            Meals    7669    1.125143\n",
      "1599                          Spreads    4355    0.638936\n",
      "714                      Frozen foods    3093    0.453784\n",
      "750                      Fruit juices    3065    0.449676\n"
     ]
    },
    {
     "data": {
      "image/png": "[encoded data removed]",
      "text/plain": [
       "<Figure size 1080x720 with 1 Axes>"
      ]
     },
     "metadata": {},
     "output_type": "display_data"
    },
    {
     "name": "stdout",
     "output_type": "stream",
     "text": [
      "Number of empty records for main_category_en: 507880 (74.51269215759343%)\n",
      "nunique      6589\n",
      "count      173722\n",
      "size       681602\n",
      "Name: main_category_en, dtype: int64\n"
     ]
    }
   ],
   "source": [
    "##### Get top 10 Main Category en\n",
    "df_10_main_category_en = get_top_10(df_food, 'main_category_en')\n",
    "\n",
    "##### Show Result\n",
    "print('\\nTop 10 main_category_en (Counts & Percentage)')\n",
    "print(df_10_main_category_en)    \n",
    "show_plot(df_10_main_category_en, 'main_category_en')\n",
    "\n",
    "##### Show Information about empty records\n",
    "print_stats(df_food, 'main_category_en')"
   ]
  },
  {
   "cell_type": "markdown",
   "metadata": {},
   "source": [
    "It seems that 74% of the Products does not have any 'category'. Furthermore the first and second categories contain both 'Beverages'. "
   ]
  },
  {
   "cell_type": "markdown",
   "metadata": {},
   "source": [
    "<div class=\"alert alert-block alert-success\">\n",
    "\n",
    "<b>1.7 UNDERSTANDING THE DATA - Main Category</b><br>\n",
    "<i>We are looking if there are some more anomalies in data. We are looking about the Data Quality to understand what could be used for further analysis</i>\n",
    "<hr>\n",
    "<b>Remarks</b><br>\n",
    "<i>\n",
    "#Arrh, some product seems to be duplicated...  <br>\n",
    "#Think about to check first-last Product per Contributors !<br>\n",
    "#Think about to check per Country !<br>\n",
    "</i>\n",
    "<br>\n",
    "</div>\n"
   ]
  },
  {
   "cell_type": "code",
   "execution_count": 20,
   "metadata": {},
   "outputs": [
    {
     "data": {
      "text/html": [
       "<div>\n",
       "<style scoped>\n",
       "    .dataframe tbody tr th:only-of-type {\n",
       "        vertical-align: middle;\n",
       "    }\n",
       "\n",
       "    .dataframe tbody tr th {\n",
       "        vertical-align: top;\n",
       "    }\n",
       "\n",
       "    .dataframe thead th {\n",
       "        text-align: right;\n",
       "    }\n",
       "</style>\n",
       "<table border=\"1\" class=\"dataframe\">\n",
       "  <thead>\n",
       "    <tr style=\"text-align: right;\">\n",
       "      <th></th>\n",
       "      <th>code</th>\n",
       "      <th>url</th>\n",
       "      <th>creator</th>\n",
       "      <th>created_t</th>\n",
       "      <th>created_datetime</th>\n",
       "      <th>last_modified_t</th>\n",
       "      <th>last_modified_datetime</th>\n",
       "      <th>product_name</th>\n",
       "      <th>generic_name</th>\n",
       "      <th>quantity</th>\n",
       "      <th>...</th>\n",
       "      <th>carbon-footprint_100g</th>\n",
       "      <th>nutrition-score-fr_100g</th>\n",
       "      <th>nutrition-score-uk_100g</th>\n",
       "      <th>glycemic-index_100g</th>\n",
       "      <th>water-hardness_100g</th>\n",
       "      <th>choline_100g</th>\n",
       "      <th>phylloquinone_100g</th>\n",
       "      <th>beta-glucan_100g</th>\n",
       "      <th>inositol_100g</th>\n",
       "      <th>carnitine_100g</th>\n",
       "    </tr>\n",
       "  </thead>\n",
       "  <tbody>\n",
       "    <tr>\n",
       "      <th>112013</th>\n",
       "      <td>0084253269827</td>\n",
       "      <td>http://world-en.openfoodfacts.org/product/0084...</td>\n",
       "      <td>usda-ndb-import</td>\n",
       "      <td>1489143569</td>\n",
       "      <td>2017-03-10T10:59:29Z</td>\n",
       "      <td>1489143570</td>\n",
       "      <td>2017-03-10T10:59:30Z</td>\n",
       "      <td>Dream, Coffee+Almond Drink, Latte Mocha</td>\n",
       "      <td>NaN</td>\n",
       "      <td>NaN</td>\n",
       "      <td>...</td>\n",
       "      <td>NaN</td>\n",
       "      <td>NaN</td>\n",
       "      <td>NaN</td>\n",
       "      <td>NaN</td>\n",
       "      <td>NaN</td>\n",
       "      <td>NaN</td>\n",
       "      <td>NaN</td>\n",
       "      <td>NaN</td>\n",
       "      <td>NaN</td>\n",
       "      <td>NaN</td>\n",
       "    </tr>\n",
       "    <tr>\n",
       "      <th>644435</th>\n",
       "      <td>84253269827</td>\n",
       "      <td>http://world-en.openfoodfacts.org/product/8425...</td>\n",
       "      <td>usda-ndb-import</td>\n",
       "      <td>1489142713</td>\n",
       "      <td>2017-03-10T10:45:13Z</td>\n",
       "      <td>1489142713</td>\n",
       "      <td>2017-03-10T10:45:13Z</td>\n",
       "      <td>Coffee+Almond Drink</td>\n",
       "      <td>NaN</td>\n",
       "      <td>NaN</td>\n",
       "      <td>...</td>\n",
       "      <td>NaN</td>\n",
       "      <td>NaN</td>\n",
       "      <td>NaN</td>\n",
       "      <td>NaN</td>\n",
       "      <td>NaN</td>\n",
       "      <td>NaN</td>\n",
       "      <td>NaN</td>\n",
       "      <td>NaN</td>\n",
       "      <td>NaN</td>\n",
       "      <td>NaN</td>\n",
       "    </tr>\n",
       "  </tbody>\n",
       "</table>\n",
       "<p>2 rows × 173 columns</p>\n",
       "</div>"
      ],
      "text/plain": [
       "                 code                                                url  \\\n",
       "112013  0084253269827  http://world-en.openfoodfacts.org/product/0084...   \n",
       "644435    84253269827  http://world-en.openfoodfacts.org/product/8425...   \n",
       "\n",
       "                creator   created_t      created_datetime last_modified_t  \\\n",
       "112013  usda-ndb-import  1489143569  2017-03-10T10:59:29Z      1489143570   \n",
       "644435  usda-ndb-import  1489142713  2017-03-10T10:45:13Z      1489142713   \n",
       "\n",
       "       last_modified_datetime                             product_name  \\\n",
       "112013   2017-03-10T10:59:30Z  Dream, Coffee+Almond Drink, Latte Mocha   \n",
       "644435   2017-03-10T10:45:13Z                      Coffee+Almond Drink   \n",
       "\n",
       "       generic_name quantity      ...       carbon-footprint_100g  \\\n",
       "112013          NaN      NaN      ...                         NaN   \n",
       "644435          NaN      NaN      ...                         NaN   \n",
       "\n",
       "       nutrition-score-fr_100g nutrition-score-uk_100g glycemic-index_100g  \\\n",
       "112013                     NaN                     NaN                 NaN   \n",
       "644435                     NaN                     NaN                 NaN   \n",
       "\n",
       "       water-hardness_100g choline_100g phylloquinone_100g beta-glucan_100g  \\\n",
       "112013                 NaN          NaN                NaN              NaN   \n",
       "644435                 NaN          NaN                NaN              NaN   \n",
       "\n",
       "       inositol_100g carnitine_100g  \n",
       "112013           NaN            NaN  \n",
       "644435           NaN            NaN  \n",
       "\n",
       "[2 rows x 173 columns]"
      ]
     },
     "execution_count": 20,
     "metadata": {},
     "output_type": "execute_result"
    }
   ],
   "source": [
    "##### Duplicate Products with different product_name, see an example below !\n",
    "df_food.query(\"code.str.endswith('84253269827')==True\")\n",
    "    "
   ]
  },
  {
   "cell_type": "code",
   "execution_count": null,
   "metadata": {},
   "outputs": [],
   "source": []
  },
  {
   "cell_type": "code",
   "execution_count": null,
   "metadata": {},
   "outputs": [],
   "source": []
  },
  {
   "cell_type": "markdown",
   "metadata": {},
   "source": [
    "<div class=\"alert alert-info\">\n",
    "\n",
    "<b>2.0 DATA CLEANING</b><br><i>\n",
    "This part, in <b>blue</b>, contains all the Data Cleaning's activities, performed on the en.openfoodfacts.org.products.csv. The goal of this part is to clean the data and enrich them based on the required activities.\n",
    "    \n",
    "To perform this Data Cleaning, we decided to:\n",
    "- Remove unused columns: in order to focus on main columns\n",
    "- Enrich data by creating new columns \n",
    "\n",
    "Before doing any analysis, It's indeed important to have a proper consolidated Dataset. Indeed, we discover that the Dataset requires a lot of cleaning activities and that the data quality is sometimes poor.\n",
    "</i></div>"
   ]
  },
  {
   "cell_type": "markdown",
   "metadata": {},
   "source": [
    "TODO: to check if we have to remove or add some columns"
   ]
  },
  {
   "cell_type": "code",
   "execution_count": 26,
   "metadata": {},
   "outputs": [],
   "source": [
    "columns_to_keep = ['code', \\\n",
    "                   'url' ,\\\n",
    "                   'creator',\\\n",
    "                   'created_t',\\\n",
    "                   'created_datetime',\\\n",
    "                   'last_modified_t',\\\n",
    "                   'product_name',\\\n",
    "                   'brands',\\\n",
    "                   'brands_tags',\\\n",
    "                   'main_category_en',\\\n",
    "                   'categories_en',\\\n",
    "                   'origins',\\\n",
    "                   'countries_en',\n",
    "                   'ingredients_text',\\\n",
    "                   'quantity',\\\n",
    "                   'serving_size',\\\n",
    "                   'serving_quantity',\\\n",
    "                   'additives_en',\\\n",
    "                   'sugars_100g',\\\n",
    "                   'salt_100g',\\\n",
    "                   'fat_100g',\\\n",
    "                   'sodium_100g',\\\n",
    "                   'energy_100g',\\\n",
    "                   'nutrition-score-fr_100g',\\\n",
    "                   'nutrition-score-uk_100g',\\\n",
    "                   'image_url',\\\n",
    "                   'image_small_url',\\\n",
    "                   'image_nutrition_url',\\\n",
    "                   'image_nutrition_small_url',\\\n",
    "                   'image_ingredients_url',\\\n",
    "                   'image_ingredients_small_url']"
   ]
  },
  {
   "cell_type": "code",
   "execution_count": 27,
   "metadata": {},
   "outputs": [
    {
     "data": {
      "text/html": [
       "<div>\n",
       "<style scoped>\n",
       "    .dataframe tbody tr th:only-of-type {\n",
       "        vertical-align: middle;\n",
       "    }\n",
       "\n",
       "    .dataframe tbody tr th {\n",
       "        vertical-align: top;\n",
       "    }\n",
       "\n",
       "    .dataframe thead th {\n",
       "        text-align: right;\n",
       "    }\n",
       "</style>\n",
       "<table border=\"1\" class=\"dataframe\">\n",
       "  <thead>\n",
       "    <tr style=\"text-align: right;\">\n",
       "      <th></th>\n",
       "      <th>code</th>\n",
       "      <th>url</th>\n",
       "      <th>creator</th>\n",
       "      <th>created_t</th>\n",
       "      <th>created_datetime</th>\n",
       "      <th>last_modified_t</th>\n",
       "      <th>product_name</th>\n",
       "      <th>brands</th>\n",
       "      <th>brands_tags</th>\n",
       "      <th>main_category_en</th>\n",
       "      <th>...</th>\n",
       "      <th>sodium_100g</th>\n",
       "      <th>energy_100g</th>\n",
       "      <th>nutrition-score-fr_100g</th>\n",
       "      <th>nutrition-score-uk_100g</th>\n",
       "      <th>image_url</th>\n",
       "      <th>image_small_url</th>\n",
       "      <th>image_nutrition_url</th>\n",
       "      <th>image_nutrition_small_url</th>\n",
       "      <th>image_ingredients_url</th>\n",
       "      <th>image_ingredients_small_url</th>\n",
       "    </tr>\n",
       "  </thead>\n",
       "  <tbody>\n",
       "    <tr>\n",
       "      <th>0</th>\n",
       "      <td>0000000000017</td>\n",
       "      <td>http://world-en.openfoodfacts.org/product/0000...</td>\n",
       "      <td>kiliweb</td>\n",
       "      <td>1529059080</td>\n",
       "      <td>2018-06-15T10:38:00Z</td>\n",
       "      <td>1529059204</td>\n",
       "      <td>Vitória crackers</td>\n",
       "      <td>NaN</td>\n",
       "      <td>NaN</td>\n",
       "      <td>NaN</td>\n",
       "      <td>...</td>\n",
       "      <td>0.551181</td>\n",
       "      <td>1569.0</td>\n",
       "      <td>NaN</td>\n",
       "      <td>NaN</td>\n",
       "      <td>NaN</td>\n",
       "      <td>NaN</td>\n",
       "      <td>NaN</td>\n",
       "      <td>NaN</td>\n",
       "      <td>NaN</td>\n",
       "      <td>NaN</td>\n",
       "    </tr>\n",
       "    <tr>\n",
       "      <th>1</th>\n",
       "      <td>0000000000031</td>\n",
       "      <td>http://world-en.openfoodfacts.org/product/0000...</td>\n",
       "      <td>isagoofy</td>\n",
       "      <td>1539464774</td>\n",
       "      <td>2018-10-13T21:06:14Z</td>\n",
       "      <td>1539464817</td>\n",
       "      <td>Cacao</td>\n",
       "      <td>NaN</td>\n",
       "      <td>NaN</td>\n",
       "      <td>NaN</td>\n",
       "      <td>...</td>\n",
       "      <td>NaN</td>\n",
       "      <td>NaN</td>\n",
       "      <td>NaN</td>\n",
       "      <td>NaN</td>\n",
       "      <td>NaN</td>\n",
       "      <td>NaN</td>\n",
       "      <td>NaN</td>\n",
       "      <td>NaN</td>\n",
       "      <td>NaN</td>\n",
       "      <td>NaN</td>\n",
       "    </tr>\n",
       "    <tr>\n",
       "      <th>2</th>\n",
       "      <td>0000000000123</td>\n",
       "      <td>http://world-en.openfoodfacts.org/product/0000...</td>\n",
       "      <td>kiliweb</td>\n",
       "      <td>1535737982</td>\n",
       "      <td>2018-08-31T17:53:02Z</td>\n",
       "      <td>1535737986</td>\n",
       "      <td>Sauce Sweety chili 0%</td>\n",
       "      <td>NaN</td>\n",
       "      <td>NaN</td>\n",
       "      <td>NaN</td>\n",
       "      <td>...</td>\n",
       "      <td>0.803150</td>\n",
       "      <td>88.0</td>\n",
       "      <td>NaN</td>\n",
       "      <td>NaN</td>\n",
       "      <td>NaN</td>\n",
       "      <td>NaN</td>\n",
       "      <td>NaN</td>\n",
       "      <td>NaN</td>\n",
       "      <td>NaN</td>\n",
       "      <td>NaN</td>\n",
       "    </tr>\n",
       "    <tr>\n",
       "      <th>3</th>\n",
       "      <td>0000000000291</td>\n",
       "      <td>http://world-en.openfoodfacts.org/product/0000...</td>\n",
       "      <td>kiliweb</td>\n",
       "      <td>1534239669</td>\n",
       "      <td>2018-08-14T09:41:09Z</td>\n",
       "      <td>1534239732</td>\n",
       "      <td>Mendiants</td>\n",
       "      <td>NaN</td>\n",
       "      <td>NaN</td>\n",
       "      <td>NaN</td>\n",
       "      <td>...</td>\n",
       "      <td>NaN</td>\n",
       "      <td>NaN</td>\n",
       "      <td>NaN</td>\n",
       "      <td>NaN</td>\n",
       "      <td>NaN</td>\n",
       "      <td>NaN</td>\n",
       "      <td>NaN</td>\n",
       "      <td>NaN</td>\n",
       "      <td>NaN</td>\n",
       "      <td>NaN</td>\n",
       "    </tr>\n",
       "    <tr>\n",
       "      <th>4</th>\n",
       "      <td>0000000000949</td>\n",
       "      <td>http://world-en.openfoodfacts.org/product/0000...</td>\n",
       "      <td>kiliweb</td>\n",
       "      <td>1523440813</td>\n",
       "      <td>2018-04-11T10:00:13Z</td>\n",
       "      <td>1523440823</td>\n",
       "      <td>Salade de carottes râpées</td>\n",
       "      <td>NaN</td>\n",
       "      <td>NaN</td>\n",
       "      <td>NaN</td>\n",
       "      <td>...</td>\n",
       "      <td>0.165354</td>\n",
       "      <td>134.0</td>\n",
       "      <td>NaN</td>\n",
       "      <td>NaN</td>\n",
       "      <td>NaN</td>\n",
       "      <td>NaN</td>\n",
       "      <td>NaN</td>\n",
       "      <td>NaN</td>\n",
       "      <td>NaN</td>\n",
       "      <td>NaN</td>\n",
       "    </tr>\n",
       "  </tbody>\n",
       "</table>\n",
       "<p>5 rows × 31 columns</p>\n",
       "</div>"
      ],
      "text/plain": [
       "            code                                                url   creator  \\\n",
       "0  0000000000017  http://world-en.openfoodfacts.org/product/0000...   kiliweb   \n",
       "1  0000000000031  http://world-en.openfoodfacts.org/product/0000...  isagoofy   \n",
       "2  0000000000123  http://world-en.openfoodfacts.org/product/0000...   kiliweb   \n",
       "3  0000000000291  http://world-en.openfoodfacts.org/product/0000...   kiliweb   \n",
       "4  0000000000949  http://world-en.openfoodfacts.org/product/0000...   kiliweb   \n",
       "\n",
       "    created_t      created_datetime last_modified_t  \\\n",
       "0  1529059080  2018-06-15T10:38:00Z      1529059204   \n",
       "1  1539464774  2018-10-13T21:06:14Z      1539464817   \n",
       "2  1535737982  2018-08-31T17:53:02Z      1535737986   \n",
       "3  1534239669  2018-08-14T09:41:09Z      1534239732   \n",
       "4  1523440813  2018-04-11T10:00:13Z      1523440823   \n",
       "\n",
       "                product_name brands brands_tags main_category_en  \\\n",
       "0           Vitória crackers    NaN         NaN              NaN   \n",
       "1                      Cacao    NaN         NaN              NaN   \n",
       "2      Sauce Sweety chili 0%    NaN         NaN              NaN   \n",
       "3                  Mendiants    NaN         NaN              NaN   \n",
       "4  Salade de carottes râpées    NaN         NaN              NaN   \n",
       "\n",
       "              ...              sodium_100g energy_100g  \\\n",
       "0             ...                 0.551181      1569.0   \n",
       "1             ...                      NaN         NaN   \n",
       "2             ...                 0.803150        88.0   \n",
       "3             ...                      NaN         NaN   \n",
       "4             ...                 0.165354       134.0   \n",
       "\n",
       "  nutrition-score-fr_100g nutrition-score-uk_100g image_url image_small_url  \\\n",
       "0                     NaN                     NaN       NaN             NaN   \n",
       "1                     NaN                     NaN       NaN             NaN   \n",
       "2                     NaN                     NaN       NaN             NaN   \n",
       "3                     NaN                     NaN       NaN             NaN   \n",
       "4                     NaN                     NaN       NaN             NaN   \n",
       "\n",
       "  image_nutrition_url image_nutrition_small_url  image_ingredients_url  \\\n",
       "0                 NaN                       NaN                    NaN   \n",
       "1                 NaN                       NaN                    NaN   \n",
       "2                 NaN                       NaN                    NaN   \n",
       "3                 NaN                       NaN                    NaN   \n",
       "4                 NaN                       NaN                    NaN   \n",
       "\n",
       "   image_ingredients_small_url  \n",
       "0                          NaN  \n",
       "1                          NaN  \n",
       "2                          NaN  \n",
       "3                          NaN  \n",
       "4                          NaN  \n",
       "\n",
       "[5 rows x 31 columns]"
      ]
     },
     "execution_count": 27,
     "metadata": {},
     "output_type": "execute_result"
    }
   ],
   "source": [
    "df_food_clean = df_food[columns_to_keep]\n",
    "df_food_clean.head()"
   ]
  },
  {
   "cell_type": "markdown",
   "metadata": {},
   "source": [
    "<div class=\"alert alert-block alert-info\">\n",
    "\n",
    "<b>2.1 DATA CLEANING - Export USDA and openfood-ch-import</b><br>\n",
    "<i>We are looking to Load the data from CSV Files. Please notice that files have been split by contributors</i>\n",
    "<hr>\n",
    "<b>Remarks</b><br>\n",
    "<i>\n",
    "As we have seen above, Data is very heteregenous. As most of the dimension could not be used, we decided to split our research with two Contributor:\n",
    "    - USDA as it contains US data provided by United States Department of Agriculture (and contains some urls/images)\n",
    "    - openfood.ch.import as it contains swiss products and we could check the quality of the data\n",
    "</i>\n",
    "<br>\n",
    "</div>"
   ]
  },
  {
   "cell_type": "markdown",
   "metadata": {},
   "source": [
    "Export **usda-ndb-import** data with limited columns"
   ]
  },
  {
   "cell_type": "code",
   "execution_count": 28,
   "metadata": {},
   "outputs": [],
   "source": [
    "df_food_clean_usda = df_food_clean.query(\"creator == 'usda-ndb-import'\")\n",
    "df_food_clean_usda.to_csv(data_path + 'en.openfoodfacts.org.products.clean_usda.csv', sep='\\t')\n"
   ]
  },
  {
   "cell_type": "markdown",
   "metadata": {},
   "source": [
    "Export **openfood-ch-import** data with limited columns"
   ]
  },
  {
   "cell_type": "code",
   "execution_count": 29,
   "metadata": {},
   "outputs": [],
   "source": [
    "df_food_clean_ch = df_food_clean.query(\"creator == 'openfood-ch-import'\")\n",
    "df_food_clean_ch.to_csv(data_path + 'en.openfoodfacts.org.products.clean_ch.csv', sep='\\t')\n"
   ]
  },
  {
   "cell_type": "markdown",
   "metadata": {},
   "source": [
    "<div class=\"alert alert-block alert-info\">\n",
    "\n",
    "<b>2.2 DATA CLEANING - Reload Data USDA and openfood-ch-import</b><br>\n",
    "<i>Reload file</i>\n",
    "<hr>\n",
    "<b>Remarks</b><br>\n",
    "<i>\n",
    "Reload individual files with required informations\n",
    "</i>\n",
    "<br>\n",
    "</div>"
   ]
  },
  {
   "cell_type": "markdown",
   "metadata": {},
   "source": [
    "Reload **usda-ndb-import** data with limited columns"
   ]
  },
  {
   "cell_type": "code",
   "execution_count": 30,
   "metadata": {},
   "outputs": [
    {
     "data": {
      "text/plain": [
       "code                           169861\n",
       "url                            169861\n",
       "creator                        169861\n",
       "created_t                      169861\n",
       "created_datetime               169861\n",
       "last_modified_t                169861\n",
       "product_name                   169814\n",
       "brands                         169008\n",
       "brands_tags                    169008\n",
       "main_category_en                 1444\n",
       "categories_en                    1444\n",
       "origins                            83\n",
       "countries_en                   169861\n",
       "ingredients_text               169835\n",
       "quantity                          315\n",
       "serving_size                   169857\n",
       "serving_quantity               169861\n",
       "additives_en                    97753\n",
       "sugars_100g                    158582\n",
       "salt_100g                      169090\n",
       "fat_100g                       169465\n",
       "sodium_100g                    169090\n",
       "energy_100g                    169464\n",
       "nutrition-score-fr_100g          1121\n",
       "nutrition-score-uk_100g          1121\n",
       "image_url                        1372\n",
       "image_small_url                  1372\n",
       "image_nutrition_url               367\n",
       "image_nutrition_small_url         367\n",
       "image_ingredients_url             887\n",
       "image_ingredients_small_url       887\n",
       "dtype: int64"
      ]
     },
     "execution_count": 30,
     "metadata": {},
     "output_type": "execute_result"
    }
   ],
   "source": [
    "df_food_clean_usda = pd.read_csv(data_path + 'en.openfoodfacts.org.products.clean_usda.csv', sep=\"\\t\", low_memory=False, names=columns_to_keep, skiprows=1)  \n",
    "df_food_clean_usda.count()\n"
   ]
  },
  {
   "cell_type": "markdown",
   "metadata": {},
   "source": [
    "Reload **openfood-ch-import** data with limited columns"
   ]
  },
  {
   "cell_type": "code",
   "execution_count": 446,
   "metadata": {},
   "outputs": [
    {
     "data": {
      "text/plain": [
       "code                           11459\n",
       "url                            11459\n",
       "creator                        11459\n",
       "created_t                      11459\n",
       "created_datetime               11459\n",
       "last_modified_t                11459\n",
       "product_name                    9226\n",
       "brands                          6493\n",
       "brands_tags                     6493\n",
       "main_category_en                1873\n",
       "categories_en                   1873\n",
       "origins                          456\n",
       "countries_en                   11458\n",
       "ingredients_text                6722\n",
       "quantity                        5129\n",
       "serving_size                    5494\n",
       "serving_quantity               11459\n",
       "additives_en                    3819\n",
       "sugars_100g                     8563\n",
       "salt_100g                       8271\n",
       "fat_100g                        9185\n",
       "sodium_100g                     8241\n",
       "energy_100g                     9226\n",
       "nutrition-score-fr_100g         1364\n",
       "nutrition-score-uk_100g         1364\n",
       "image_url                         40\n",
       "image_small_url                   40\n",
       "image_nutrition_url               28\n",
       "image_nutrition_small_url         28\n",
       "image_ingredients_url             43\n",
       "image_ingredients_small_url       43\n",
       "dtype: int64"
      ]
     },
     "execution_count": 446,
     "metadata": {},
     "output_type": "execute_result"
    }
   ],
   "source": [
    "df_food_clean_ch = pd.read_csv(data_path + 'en.openfoodfacts.org.products.clean_ch.csv', sep=\"\\t\", low_memory=False, names=columns_to_keep, skiprows=1)  \n",
    "df_food_clean_ch.count()\n"
   ]
  },
  {
   "cell_type": "markdown",
   "metadata": {},
   "source": [
    "<div class=\"alert alert-block alert-info\">\n",
    "\n",
    "<b>2.2 DATA CLEANING - Enrich Data</b><br>\n",
    "<i>Enrich data</i>\n",
    "<hr>\n",
    "<b>Remarks</b><br>\n",
    "<i>\n",
    "In order to have a proper data set, we decided to<br>\n",
    "    - Remove Products which do not have a Product_name and a Category and a Brands<br>\n",
    "    - Empty Product's Name will be replaced by Category and Brands<br>\n",
    "</i>\n",
    "<br>\n",
    "</div>"
   ]
  },
  {
   "cell_type": "markdown",
   "metadata": {},
   "source": [
    "## Functions ##"
   ]
  },
  {
   "cell_type": "code",
   "execution_count": 459,
   "metadata": {},
   "outputs": [],
   "source": [
    "def replace_nan(df):\n",
    "    df.brands_tags.fillna('', inplace=True)\n",
    "    df.categories_en.fillna('', inplace=True)\n",
    "    df.brands_tags.fillna('', inplace=True)\n"
   ]
  },
  {
   "cell_type": "code",
   "execution_count": 448,
   "metadata": {},
   "outputs": [],
   "source": [
    "def show_product_without_name_category_brand(df):\n",
    "    conditions = 'product_name.str.len() + categories_en.str.len() + brands_tags.str.len() == 0'\n",
    "    \n",
    "    df_to_clean = df.query(conditions)\n",
    "    \n",
    "    print('Products without Product name, Category and Brands: ' + str(df_to_clean.shape[0]))\n",
    "    print(df_to_clean[['code','product_name','brands','categories_en', 'sugars_100g']].head(10))\n"
   ]
  },
  {
   "cell_type": "code",
   "execution_count": 449,
   "metadata": {},
   "outputs": [],
   "source": [
    "def remove_product_without_name_category_brand(df):\n",
    "    conditions = 'product_name.str.len() + categories_en.str.len() + brands_tags.str.len() == 0'\n",
    "    \n",
    "    df_to_clean = df.drop(df.query(conditions).index, inplace=True)\n",
    "    "
   ]
  },
  {
   "cell_type": "code",
   "execution_count": 458,
   "metadata": {},
   "outputs": [],
   "source": [
    "def clean_product_name(df):\n",
    "    \n",
    "    #### This is not the optimal approach, \n",
    "    #### but it's quite flexible and could be improved accordingly.\n",
    "    for index, row in df.iterrows():        \n",
    "        product_name = str(row['product_name'])\n",
    "        categories_en = str(row['categories_en'])\n",
    "        brands_tags = str(row['brands_tags'])\n",
    "        \n",
    "        if (len(product_name)==0):\n",
    "        \n",
    "            if (len(brands_tags)>0):\n",
    "                product_name = brands_tags\n",
    "            elif (len(categories_en)>0):\n",
    "                product_name = categories_en\n",
    "            else:\n",
    "                product_name = 'Undefined'\n",
    "                \n",
    "            df.loc[index,'product_name'] = product_name            "
   ]
  },
  {
   "cell_type": "code",
   "execution_count": 451,
   "metadata": {},
   "outputs": [],
   "source": [
    "def enrich_with_sugars_per_serving(df):    \n",
    "    df['sugars_per_serving'] = df['serving_quantity'] * df['sugars_100g'] /100 /5.95\n",
    "    \n",
    "    df['sugars_per_serving'].fillna(0, inplace=True)\n",
    "    df['sugars_100g'].fillna(0, inplace=True)\n",
    "    "
   ]
  },
  {
   "cell_type": "code",
   "execution_count": 452,
   "metadata": {},
   "outputs": [],
   "source": [
    "def enrich_with_meta_category(df):\n",
    "    \n",
    "    df['category_1'] = 'Undefined'\n",
    "    df['category_2'] = 'Undefined'\n",
    "    \n",
    "    for index, row in df.iterrows():        \n",
    "        categories = str(row['categories_en'])\n",
    "        \n",
    "        category_1 = categories\n",
    "        category_2 = ''\n",
    "        \n",
    "        \n",
    "        category_list = categories.split(\",\")\n",
    "        \n",
    "        if (len(category_list)>0):\n",
    "            category_1 = category_list[0]\n",
    "            \n",
    "            if str(category_1) != 'nan':\n",
    "                df.loc[index,'category_1'] = category_1\n",
    "        \n",
    "            \n",
    "            if (len(category_list)>1):\n",
    "                category_2 = category_list[1]\n",
    "                \n",
    "                if str(category_2) != 'nan':\n",
    "                    df.loc[index,'category_2'] = category_2\n",
    "        \n",
    "          \n"
   ]
  },
  {
   "cell_type": "markdown",
   "metadata": {},
   "source": [
    "### Data Cleaning - Product Name"
   ]
  },
  {
   "cell_type": "markdown",
   "metadata": {},
   "source": [
    "**Removing all products** which do not have any product's name, Category and Brands."
   ]
  },
  {
   "cell_type": "code",
   "execution_count": 453,
   "metadata": {},
   "outputs": [
    {
     "name": "stdout",
     "output_type": "stream",
     "text": [
      "Products without Product name, Category and Brands: 0\n",
      "Empty DataFrame\n",
      "Columns: [code, product_name, brands, categories_en, sugars_100g]\n",
      "Index: []\n"
     ]
    }
   ],
   "source": [
    "show_product_without_name_category_brand(df_food_clean_ch)"
   ]
  },
  {
   "cell_type": "code",
   "execution_count": 454,
   "metadata": {},
   "outputs": [],
   "source": [
    "remove_product_without_name_category_brand(df_food_clean_ch)"
   ]
  },
  {
   "cell_type": "markdown",
   "metadata": {},
   "source": [
    "**Remove all nan values** for product_name, brands_tags and categories_en and replace them by an **empty string**."
   ]
  },
  {
   "cell_type": "code",
   "execution_count": 455,
   "metadata": {},
   "outputs": [],
   "source": [
    "replace_nan(df_food_clean_ch)"
   ]
  },
  {
   "cell_type": "markdown",
   "metadata": {},
   "source": [
    "**Clean Product Name** and ensure that it contains a value (replaced by category or brands if the Product's Name is empty)"
   ]
  },
  {
   "cell_type": "code",
   "execution_count": 456,
   "metadata": {},
   "outputs": [],
   "source": [
    "clean_product_name(df_food_clean_ch)"
   ]
  },
  {
   "cell_type": "markdown",
   "metadata": {},
   "source": [
    "Show all Product's name smaller than 3 characters"
   ]
  },
  {
   "cell_type": "code",
   "execution_count": 460,
   "metadata": {},
   "outputs": [
    {
     "data": {
      "text/html": [
       "<div>\n",
       "<style scoped>\n",
       "    .dataframe tbody tr th:only-of-type {\n",
       "        vertical-align: middle;\n",
       "    }\n",
       "\n",
       "    .dataframe tbody tr th {\n",
       "        vertical-align: top;\n",
       "    }\n",
       "\n",
       "    .dataframe thead th {\n",
       "        text-align: right;\n",
       "    }\n",
       "</style>\n",
       "<table border=\"1\" class=\"dataframe\">\n",
       "  <thead>\n",
       "    <tr style=\"text-align: right;\">\n",
       "      <th></th>\n",
       "      <th>code</th>\n",
       "      <th>product_name</th>\n",
       "      <th>categories_en</th>\n",
       "      <th>brands_tags</th>\n",
       "    </tr>\n",
       "  </thead>\n",
       "  <tbody>\n",
       "    <tr>\n",
       "      <th>231475</th>\n",
       "      <td>22139559</td>\n",
       "      <td>Ei</td>\n",
       "      <td>Farming products,Bird eggs,Eggs,Free-range eggs</td>\n",
       "      <td></td>\n",
       "    </tr>\n",
       "  </tbody>\n",
       "</table>\n",
       "</div>"
      ],
      "text/plain": [
       "            code product_name  \\\n",
       "231475  22139559           Ei   \n",
       "\n",
       "                                          categories_en brands_tags  \n",
       "231475  Farming products,Bird eggs,Eggs,Free-range eggs              "
      ]
     },
     "execution_count": 460,
     "metadata": {},
     "output_type": "execute_result"
    }
   ],
   "source": [
    "short_product_names = df_food_clean_ch[df_food_clean_ch['product_name'].str.len() < 3]\n",
    "short_product_names[['code','product_name','categories_en','brands_tags']]"
   ]
  },
  {
   "cell_type": "code",
   "execution_count": 204,
   "metadata": {},
   "outputs": [
    {
     "data": {
      "text/plain": [
       "(11459, 34)"
      ]
     },
     "execution_count": 204,
     "metadata": {},
     "output_type": "execute_result"
    }
   ],
   "source": [
    "df_food_clean_ch.shape"
   ]
  },
  {
   "cell_type": "markdown",
   "metadata": {},
   "source": [
    "### Enrich with piece of sugars per serving"
   ]
  },
  {
   "cell_type": "markdown",
   "metadata": {},
   "source": [
    "Calculate the number of piece of sugars for one 'Serving'.\n",
    "**5.95gr** is the weight of a standard piece of sugars\n",
    "https://fr.wikipedia.org/wiki/Sucre_en_morceaux\n"
   ]
  },
  {
   "cell_type": "code",
   "execution_count": 144,
   "metadata": {},
   "outputs": [],
   "source": [
    "enrich_with_sugars_per_serving(df_food_clean_ch)\n"
   ]
  },
  {
   "cell_type": "markdown",
   "metadata": {},
   "source": [
    "### Enrich with Category Level 1 and Category Level 2"
   ]
  },
  {
   "cell_type": "markdown",
   "metadata": {},
   "source": [
    "Create two generic categories (**category_1**: for Category of level 1 and **Category_2**: for Category of level 2)\n",
    "\n",
    "As there are many products without category, or categories which only contains few products, we decided to:\n",
    "- Assign all orphan products to a category called 'Undefined'\n",
    "- Assgin all products to category_1 and category_2 (based of the columns categories_en)\n",
    "- Assign all products, belonging to category having less than 10 products, to a category called 'Others'\n"
   ]
  },
  {
   "cell_type": "code",
   "execution_count": 145,
   "metadata": {},
   "outputs": [],
   "source": [
    "enrich_with_meta_category( df_food_clean_ch)"
   ]
  },
  {
   "cell_type": "code",
   "execution_count": 177,
   "metadata": {},
   "outputs": [
    {
     "data": {
      "text/html": [
       "<div>\n",
       "<style scoped>\n",
       "    .dataframe tbody tr th:only-of-type {\n",
       "        vertical-align: middle;\n",
       "    }\n",
       "\n",
       "    .dataframe tbody tr th {\n",
       "        vertical-align: top;\n",
       "    }\n",
       "\n",
       "    .dataframe thead th {\n",
       "        text-align: right;\n",
       "    }\n",
       "</style>\n",
       "<table border=\"1\" class=\"dataframe\">\n",
       "  <thead>\n",
       "    <tr style=\"text-align: right;\">\n",
       "      <th></th>\n",
       "      <th>code</th>\n",
       "      <th>url</th>\n",
       "      <th>creator</th>\n",
       "      <th>created_t</th>\n",
       "      <th>created_datetime</th>\n",
       "      <th>last_modified_t</th>\n",
       "      <th>product_name</th>\n",
       "      <th>brands</th>\n",
       "      <th>brands_tags</th>\n",
       "      <th>main_category_en</th>\n",
       "      <th>...</th>\n",
       "      <th>nutrition-score-uk_100g</th>\n",
       "      <th>image_url</th>\n",
       "      <th>image_small_url</th>\n",
       "      <th>image_nutrition_url</th>\n",
       "      <th>image_nutrition_small_url</th>\n",
       "      <th>image_ingredients_url</th>\n",
       "      <th>image_ingredients_small_url</th>\n",
       "      <th>sugars_per_serving</th>\n",
       "      <th>category_1</th>\n",
       "      <th>category_2</th>\n",
       "    </tr>\n",
       "  </thead>\n",
       "  <tbody>\n",
       "  </tbody>\n",
       "</table>\n",
       "<p>0 rows × 34 columns</p>\n",
       "</div>"
      ],
      "text/plain": [
       "Empty DataFrame\n",
       "Columns: [code, url, creator, created_t, created_datetime, last_modified_t, product_name, brands, brands_tags, main_category_en, categories_en, origins, countries_en, ingredients_text, quantity, serving_size, serving_quantity, additives_en, sugars_100g, salt_100g, fat_100g, sodium_100g, energy_100g, nutrition-score-fr_100g, nutrition-score-uk_100g, image_url, image_small_url, image_nutrition_url, image_nutrition_small_url, image_ingredients_url, image_ingredients_small_url, sugars_per_serving, category_1, category_2]\n",
       "Index: []\n",
       "\n",
       "[0 rows x 34 columns]"
      ]
     },
     "execution_count": 177,
     "metadata": {},
     "output_type": "execute_result"
    }
   ],
   "source": [
    "#df_food_clean_ch.query('code==11210115224')\n",
    "df_food_clean_ch.query('code==5050083210044')"
   ]
  },
  {
   "cell_type": "code",
   "execution_count": 147,
   "metadata": {},
   "outputs": [
    {
     "data": {
      "text/plain": [
       "category_1\n",
       "Baby foods                                 18\n",
       "Bee products                                1\n",
       "Beverages                                 279\n",
       "Breakfasts                                  1\n",
       "Canned foods                               11\n",
       "Christmas foods and drinks                  2\n",
       "Cocktail-sauces                             1\n",
       "Cooking helpers                             1\n",
       "Dairies                                   102\n",
       "Desserts                                   34\n",
       "Dietary supplements                         1\n",
       "Farming products                           27\n",
       "Fats                                        6\n",
       "Fish and meat and eggs                      5\n",
       "Fish eggs                                   1\n",
       "Frozen foods                                9\n",
       "Groceries                                  62\n",
       "Marzipan                                    1\n",
       "Meal kits                                   1\n",
       "Meals                                      77\n",
       "Meats                                      25\n",
       "Pancakes                                    1\n",
       "Pet food                                    1\n",
       "Pies                                        6\n",
       "Pizza dough                                 2\n",
       "Plant-based foods and beverages           425\n",
       "Salty snacks                               38\n",
       "Sandwiches                                  4\n",
       "Seafood                                    22\n",
       "Spreads                                    32\n",
       "                                         ... \n",
       "fr:Olives-noires-en-saumure                 1\n",
       "fr:Organic-eggs                             4\n",
       "fr:Pains-precuitspains-sans-gluten          1\n",
       "fr:Petits-posi-et-carottes-en-conserve      1\n",
       "fr:Pralinen                                11\n",
       "fr:Rahm                                     5\n",
       "fr:Reise                                    2\n",
       "fr:Reismilch                                1\n",
       "fr:Safte-und-nektare                        1\n",
       "fr:Sardinen                                 1\n",
       "fr:Saucen                                   3\n",
       "fr:Sauces-a-la-creme                        1\n",
       "fr:Sauces-au-chocolat                       1\n",
       "fr:Saucisses-de-veau                        1\n",
       "fr:Sauge-seche-moulu                        1\n",
       "fr:Schokoladen                             15\n",
       "fr:Schokoriegel                             1\n",
       "fr:Schwarztees                              6\n",
       "fr:Senfe                                    1\n",
       "fr:Sojamilch                                1\n",
       "fr:Speiseeis                                9\n",
       "fr:Spinat                                   3\n",
       "fr:Tees                                    29\n",
       "fr:Thunfischkonserve                        2\n",
       "fr:Tiefkuhl-pommes                          1\n",
       "fr:Toastbrote                               3\n",
       "fr:Tortellini-a-base-de-viande              2\n",
       "fr:Vinaigres-de-pomme                       1\n",
       "fr:Zwiebeln                                 1\n",
       "it:Brioches-au-chocolat                     1\n",
       "Name: code, Length: 142, dtype: int64"
      ]
     },
     "execution_count": 147,
     "metadata": {},
     "output_type": "execute_result"
    }
   ],
   "source": [
    "r=df_food_clean_ch.groupby('category_1').count()['code']\n",
    "r.reset_index\n",
    "r"
   ]
  },
  {
   "cell_type": "code",
   "execution_count": null,
   "metadata": {},
   "outputs": [],
   "source": []
  },
  {
   "cell_type": "code",
   "execution_count": 37,
   "metadata": {},
   "outputs": [
    {
     "data": {
      "text/plain": [
       "category_1\n",
       "Baby foods                                  18\n",
       "Bee products                                 1\n",
       "Beverages                                  279\n",
       "Breakfasts                                   1\n",
       "Canned foods                                11\n",
       "Christmas foods and drinks                   2\n",
       "Cocktail-sauces                              1\n",
       "Cooking helpers                              1\n",
       "Dairies                                    102\n",
       "Desserts                                    34\n",
       "Dietary supplements                          1\n",
       "Farming products                            27\n",
       "Fats                                         6\n",
       "Fish and meat and eggs                       5\n",
       "Fish eggs                                    1\n",
       "Frozen foods                                 9\n",
       "Groceries                                   62\n",
       "Marzipan                                     1\n",
       "Meal kits                                    1\n",
       "Meals                                       77\n",
       "Meats                                       25\n",
       "None                                      9586\n",
       "Pancakes                                     1\n",
       "Pet food                                     1\n",
       "Pies                                         6\n",
       "Pizza dough                                  2\n",
       "Plant-based foods and beverages            425\n",
       "Salty snacks                                38\n",
       "Sandwiches                                   4\n",
       "Seafood                                     22\n",
       "                                          ... \n",
       "fr:Olives-noires-en-saumure                  1\n",
       "fr:Organic-eggs                              4\n",
       "fr:Pains-precuitspains-sans-gluten           1\n",
       "fr:Petits-posi-et-carottes-en-conserve       1\n",
       "fr:Pralinen                                 11\n",
       "fr:Rahm                                      5\n",
       "fr:Reise                                     2\n",
       "fr:Reismilch                                 1\n",
       "fr:Safte-und-nektare                         1\n",
       "fr:Sardinen                                  1\n",
       "fr:Saucen                                    3\n",
       "fr:Sauces-a-la-creme                         1\n",
       "fr:Sauces-au-chocolat                        1\n",
       "fr:Saucisses-de-veau                         1\n",
       "fr:Sauge-seche-moulu                         1\n",
       "fr:Schokoladen                              15\n",
       "fr:Schokoriegel                              1\n",
       "fr:Schwarztees                               6\n",
       "fr:Senfe                                     1\n",
       "fr:Sojamilch                                 1\n",
       "fr:Speiseeis                                 9\n",
       "fr:Spinat                                    3\n",
       "fr:Tees                                     29\n",
       "fr:Thunfischkonserve                         2\n",
       "fr:Tiefkuhl-pommes                           1\n",
       "fr:Toastbrote                                3\n",
       "fr:Tortellini-a-base-de-viande               2\n",
       "fr:Vinaigres-de-pomme                        1\n",
       "fr:Zwiebeln                                  1\n",
       "it:Brioches-au-chocolat                      1\n",
       "Name: code, Length: 142, dtype: int64"
      ]
     },
     "execution_count": 37,
     "metadata": {},
     "output_type": "execute_result"
    }
   ],
   "source": [
    "df_food_clean_ch.groupby('category_1').count()['code']\n",
    "#df_food_clean_ch.groupby('categories_en').count()"
   ]
  },
  {
   "cell_type": "code",
   "execution_count": 25,
   "metadata": {},
   "outputs": [
    {
     "data": {
      "text/plain": [
       "category_1\n",
       "None                               9586\n",
       "Plant-based foods and beverages     425\n",
       "Sugary snacks                       298\n",
       "Beverages                           279\n",
       "Dairies                             102\n",
       "Meals                                77\n",
       "Groceries                            62\n",
       "fr:Nudeln                            40\n",
       "Salty snacks                         38\n",
       "Desserts                             34\n",
       "Spreads                              32\n",
       "fr:Tees                              29\n",
       "fr:Kaffees                           27\n",
       "Farming products                     27\n",
       "fr:Joghurt                           25\n",
       "Meats                                25\n",
       "Seafood                              22\n",
       "Baby foods                           18\n",
       "fr:Schokoladen                       15\n",
       "Name: code, dtype: int64"
      ]
     },
     "execution_count": 25,
     "metadata": {},
     "output_type": "execute_result"
    }
   ],
   "source": [
    "df_food_clean_ch.groupby('category_1')['code'].count().sort_values(ascending=False).head(19)\n",
    "\n"
   ]
  },
  {
   "cell_type": "code",
   "execution_count": null,
   "metadata": {},
   "outputs": [],
   "source": []
  },
  {
   "cell_type": "code",
   "execution_count": null,
   "metadata": {},
   "outputs": [],
   "source": []
  },
  {
   "cell_type": "code",
   "execution_count": null,
   "metadata": {},
   "outputs": [],
   "source": []
  },
  {
   "cell_type": "markdown",
   "metadata": {},
   "source": [
    "<div class=\"alert alert-warning\">\n",
    "\n",
    "<b>DATA Analysis</b><br><i>\n",
    "This part, in <b>yellow</b>, contains all the Analysis's activities, performed on the en.openfoodfacts.org.products.csv. The goal of this part is to perform analysis related to our topics.\n",
    "    \n",
    "To perform this Data Analysis, we decided to:\n",
    "- Check the products which does have sugar (compared to the one which have less) \n",
    "- Check the products which may have more than 25gr as recommanded by OMS: http://www.who.int/nutrition/sugars_public_consultation/en/\n",
    "\n",
    "- Check the products which contains more sugar per brands_tags, main_category_en, ... \n",
    "  Especially the ones which are hidden\n",
    "\n",
    "- ...\n",
    "</i></div>"
   ]
  },
  {
   "cell_type": "code",
   "execution_count": 170,
   "metadata": {},
   "outputs": [],
   "source": [
    "\n",
    "df_result = df_food_clean_ch.sort_values('sugars_100g', ascending=False)[['code', 'product_name', 'main_category_en', 'category_1','brands_tags', 'serving_quantity', 'sugars_100g']].head(30)\n",
    "#sort('sugars_100g').head(10)\n",
    "\n",
    "#show_word_cloud(df_result, 'product_name', 'sugars_100g')\n"
   ]
  },
  {
   "cell_type": "markdown",
   "metadata": {},
   "source": [
    "**Incredible** After a deep analysis, we discover that the product which is containing the highest quantity of sugar, has a nutriction score of D."
   ]
  },
  {
   "cell_type": "markdown",
   "metadata": {},
   "source": [
    "<img src=\"https://static.openfoodfacts.org/images/misc/nutriscore-d.svg\"></img>"
   ]
  },
  {
   "cell_type": "markdown",
   "metadata": {},
   "source": [
    "As written on the nutrition's facts, there is a high quantity of sugar.\n",
    "<img src=\"https://static.openfoodfacts.org/images/products/761/027/804/2508/nutrition_fr.6.full.jpg\"></img>"
   ]
  },
  {
   "cell_type": "markdown",
   "metadata": {},
   "source": [
    "By the way, this product is nothing else than a 1kg of Sugar. At this stage, we all love data analysis:\n",
    "\n",
    "<img src=\"https://static.openfoodfacts.org/images/products/761/027/804/2508/front_fr.5.full.jpg\"></img>"
   ]
  },
  {
   "cell_type": "code",
   "execution_count": null,
   "metadata": {},
   "outputs": [],
   "source": []
  },
  {
   "cell_type": "markdown",
   "metadata": {},
   "source": [
    "<div class=\"alert alert-danger\">\n",
    "\n",
    "<b>IMAGE Analysis</b><br><i>\n",
    "This part, in <b>red</b>, contains all the CNN Analysis.\n",
    "    \n",
    "To perform Image Analysis (CNN)\n",
    "- Predict data quality like the category (is it a beverage, fish,..., )? \n",
    "- Image analysis with CNN to predict sugar or nutrition values from the pacakging ? \n",
    "- Image analysis with CNN to predict the color of the package based on the quantity of sugar ? \n",
    "  (if a correlation exists) \n",
    "\n",
    "@Haueni, if we download/convert/resize image, what are you able to check ? Could we use that to determine the category accordingly ? any suggestion ?\n",
    "\n",
    "</i></div>"
   ]
  },
  {
   "cell_type": "code",
   "execution_count": null,
   "metadata": {},
   "outputs": [],
   "source": []
  },
  {
   "cell_type": "markdown",
   "metadata": {},
   "source": [
    "<div class=\"alert alert-danger\" style=\"background-color:whitesmoke;color:gray;border-color:darkgray;\">\n",
    "\n",
    "<b>EXTRA Analysis</b><br><i>\n",
    "This part, in <b>gray</b>, contains all extra ad hoc request\n",
    "    \n",
    "xx\n",
    "- Get a list of Brand from WIKIPEDIA with Beautiful soup to cross check the quality of open food facts\n",
    "- Show some result/product through worldcloud\n",
    "\n",
    "\n",
    "</i></div>"
   ]
  },
  {
   "cell_type": "markdown",
   "metadata": {},
   "source": [
    "### Show Text Result with worldcloud"
   ]
  },
  {
   "cell_type": "markdown",
   "metadata": {},
   "source": [
    "To install worldcloud:\n",
    "\n",
    "***conda install -c conda-forge wordcloud***"
   ]
  },
  {
   "cell_type": "code",
   "execution_count": 153,
   "metadata": {},
   "outputs": [],
   "source": [
    "from wordcloud import WordCloud"
   ]
  },
  {
   "cell_type": "code",
   "execution_count": 167,
   "metadata": {},
   "outputs": [],
   "source": [
    "def show_word_cloud(df, column_text, column_occurence):\n",
    "\n",
    "    text = ''\n",
    "    \n",
    "    for index, row in df.iterrows():        \n",
    "        size = int(row[column_occurence]) +1\n",
    "        \n",
    "        size = int((size * size)/10)+1\n",
    "        text = text +  (str(row[column_text]).replace(' ', '_') .replace(':_','')+ ','  )* size\n",
    "        \n",
    "    #print(text)\n",
    "    # Generate a word cloud image #,max_font_size = 150\n",
    "    wordcloud = WordCloud(background_color='white', width=1200,height=600, stopwords=',').generate(text)\n",
    "\n",
    "    # Display the generated image:\n",
    "    plt.figure(figsize=(15,8))\n",
    "    plt.imshow(wordcloud, interpolation='bilinear')\n",
    "    plt.axis(\"off\")\n",
    "    plt.show()\n"
   ]
  },
  {
   "cell_type": "code",
   "execution_count": 286,
   "metadata": {},
   "outputs": [
    {
     "ename": "ValueError",
     "evalue": "cannot convert float NaN to integer",
     "output_type": "error",
     "traceback": [
      "\u001b[1;31m---------------------------------------------------------------------------\u001b[0m",
      "\u001b[1;31mValueError\u001b[0m                                Traceback (most recent call last)",
      "\u001b[1;32m<ipython-input-286-7130053c52ec>\u001b[0m in \u001b[0;36m<module>\u001b[1;34m()\u001b[0m\n\u001b[0;32m      1\u001b[0m \u001b[0mr\u001b[0m \u001b[1;33m=\u001b[0m\u001b[0mdf_food_clean_ch\u001b[0m\u001b[1;33m.\u001b[0m\u001b[0mhead\u001b[0m\u001b[1;33m(\u001b[0m\u001b[1;36m10\u001b[0m\u001b[1;33m)\u001b[0m\u001b[1;33m\u001b[0m\u001b[0m\n\u001b[1;32m----> 2\u001b[1;33m \u001b[0mshow_word_cloud\u001b[0m\u001b[1;33m(\u001b[0m\u001b[0mr\u001b[0m\u001b[1;33m,\u001b[0m \u001b[1;34m'product_name'\u001b[0m\u001b[1;33m,\u001b[0m \u001b[1;34m'sugars_100g'\u001b[0m\u001b[1;33m)\u001b[0m\u001b[1;33m\u001b[0m\u001b[0m\n\u001b[0m",
      "\u001b[1;32m<ipython-input-167-d7f1448e9bc9>\u001b[0m in \u001b[0;36mshow_word_cloud\u001b[1;34m(df, column_text, column_occurence)\u001b[0m\n\u001b[0;32m      4\u001b[0m \u001b[1;33m\u001b[0m\u001b[0m\n\u001b[0;32m      5\u001b[0m     \u001b[1;32mfor\u001b[0m \u001b[0mindex\u001b[0m\u001b[1;33m,\u001b[0m \u001b[0mrow\u001b[0m \u001b[1;32min\u001b[0m \u001b[0mdf\u001b[0m\u001b[1;33m.\u001b[0m\u001b[0miterrows\u001b[0m\u001b[1;33m(\u001b[0m\u001b[1;33m)\u001b[0m\u001b[1;33m:\u001b[0m\u001b[1;33m\u001b[0m\u001b[0m\n\u001b[1;32m----> 6\u001b[1;33m         \u001b[0msize\u001b[0m \u001b[1;33m=\u001b[0m \u001b[0mint\u001b[0m\u001b[1;33m(\u001b[0m\u001b[0mrow\u001b[0m\u001b[1;33m[\u001b[0m\u001b[0mcolumn_occurence\u001b[0m\u001b[1;33m]\u001b[0m\u001b[1;33m)\u001b[0m \u001b[1;33m+\u001b[0m\u001b[1;36m1\u001b[0m\u001b[1;33m\u001b[0m\u001b[0m\n\u001b[0m\u001b[0;32m      7\u001b[0m \u001b[1;33m\u001b[0m\u001b[0m\n\u001b[0;32m      8\u001b[0m         \u001b[0msize\u001b[0m \u001b[1;33m=\u001b[0m \u001b[0mint\u001b[0m\u001b[1;33m(\u001b[0m\u001b[1;33m(\u001b[0m\u001b[0msize\u001b[0m \u001b[1;33m*\u001b[0m \u001b[0msize\u001b[0m\u001b[1;33m)\u001b[0m\u001b[1;33m/\u001b[0m\u001b[1;36m10\u001b[0m\u001b[1;33m)\u001b[0m\u001b[1;33m+\u001b[0m\u001b[1;36m1\u001b[0m\u001b[1;33m\u001b[0m\u001b[0m\n",
      "\u001b[1;31mValueError\u001b[0m: cannot convert float NaN to integer"
     ]
    }
   ],
   "source": [
    "r =df_food_clean_ch.head(10)\n",
    "show_word_cloud(r, 'product_name', 'sugars_100g')\n",
    "\n"
   ]
  },
  {
   "cell_type": "code",
   "execution_count": 165,
   "metadata": {},
   "outputs": [
    {
     "data": {
      "image/png": "[encoded data removed]",
      "text/plain": [
       "<Figure size 432x288 with 1 Axes>"
      ]
     },
     "metadata": {},
     "output_type": "display_data"
    }
   ],
   "source": [
    "import matplotlib.pyplot as plt\n",
    "\n",
    "eqs = []\n",
    "eqs.append((r\"$W^{3\\beta}_{\\delta_1 \\rho_1 \\sigma_2} = U^{3\\beta}_{\\delta_1 \\rho_1} + \\frac{1}{8 \\pi 2} \\int^{\\alpha_2}_{\\alpha_2} d \\alpha^\\prime_2 \\left[\\frac{ U^{2\\beta}_{\\delta_1 \\rho_1} - \\alpha^\\prime_2U^{1\\beta}_{\\rho_1 \\sigma_2} }{U^{0\\beta}_{\\rho_1 \\sigma_2}}\\right]$\"))\n",
    "eqs.append((r\"$\\frac{d\\rho}{d t} + \\rho \\vec{v}\\cdot\\nabla\\vec{v} = -\\nabla p + \\mu\\nabla^2 \\vec{v} + \\rho \\vec{g}$\"))\n",
    "eqs.append((r\"$\\int_{-\\infty}^\\infty e^{-x^2}dx=\\sqrt{\\pi}$\"))\n",
    "eqs.append((r\"$E = mc^2 = \\sqrt{{m_0}^2c^4 + p^2c^2}$\"))\n",
    "eqs.append((r\"$F_G = G\\frac{m_1m_2}{r^2}$\"))\n",
    "\n",
    "plt.axes([0.025, 0.025, 0.95, 0.95])\n",
    "\n",
    "for i in range(24):\n",
    "    index = np.random.randint(0, len(eqs))\n",
    "    eq = eqs[index]\n",
    "    size = np.random.uniform(12, 32)\n",
    "    x,y = np.random.uniform(0, 1, 2)\n",
    "    alpha = np.random.uniform(0.25, .75)\n",
    "    plt.text(x, y, eq, ha='center', va='center', color=\"#11557c\", alpha=alpha,\n",
    "         transform=plt.gca().transAxes, fontsize=size, clip_on=True)\n",
    "plt.xticks(())\n",
    "plt.yticks(())\n",
    "\n",
    "plt.show()"
   ]
  },
  {
   "cell_type": "markdown",
   "metadata": {},
   "source": [
    "# GET Brand from WIKIPEDIA with beautiful soup #"
   ]
  },
  {
   "cell_type": "markdown",
   "metadata": {},
   "source": [
    "The idea is to join with open food fact"
   ]
  },
  {
   "cell_type": "code",
   "execution_count": 40,
   "metadata": {
    "scrolled": false
   },
   "outputs": [
    {
     "ename": "ConnectionError",
     "evalue": "HTTPSConnectionPool(host='en.wikipedia.org', port=443): Max retries exceeded with url: /wiki/List_of_food_companies (Caused by NewConnectionError('<urllib3.connection.VerifiedHTTPSConnection object at 0x000001F1244E18D0>: Failed to establish a new connection: [Errno 11001] getaddrinfo failed',))",
     "output_type": "error",
     "traceback": [
      "\u001b[1;31m---------------------------------------------------------------------------\u001b[0m",
      "\u001b[1;31mgaierror\u001b[0m                                  Traceback (most recent call last)",
      "\u001b[1;32mD:\\DEV\\ANACONDA3\\envs\\ada\\lib\\site-packages\\urllib3\\connection.py\u001b[0m in \u001b[0;36m_new_conn\u001b[1;34m(self)\u001b[0m\n\u001b[0;32m    170\u001b[0m             conn = connection.create_connection(\n\u001b[1;32m--> 171\u001b[1;33m                 (self._dns_host, self.port), self.timeout, **extra_kw)\n\u001b[0m\u001b[0;32m    172\u001b[0m \u001b[1;33m\u001b[0m\u001b[0m\n",
      "\u001b[1;32mD:\\DEV\\ANACONDA3\\envs\\ada\\lib\\site-packages\\urllib3\\util\\connection.py\u001b[0m in \u001b[0;36mcreate_connection\u001b[1;34m(address, timeout, source_address, socket_options)\u001b[0m\n\u001b[0;32m     55\u001b[0m \u001b[1;33m\u001b[0m\u001b[0m\n\u001b[1;32m---> 56\u001b[1;33m     \u001b[1;32mfor\u001b[0m \u001b[0mres\u001b[0m \u001b[1;32min\u001b[0m \u001b[0msocket\u001b[0m\u001b[1;33m.\u001b[0m\u001b[0mgetaddrinfo\u001b[0m\u001b[1;33m(\u001b[0m\u001b[0mhost\u001b[0m\u001b[1;33m,\u001b[0m \u001b[0mport\u001b[0m\u001b[1;33m,\u001b[0m \u001b[0mfamily\u001b[0m\u001b[1;33m,\u001b[0m \u001b[0msocket\u001b[0m\u001b[1;33m.\u001b[0m\u001b[0mSOCK_STREAM\u001b[0m\u001b[1;33m)\u001b[0m\u001b[1;33m:\u001b[0m\u001b[1;33m\u001b[0m\u001b[0m\n\u001b[0m\u001b[0;32m     57\u001b[0m         \u001b[0maf\u001b[0m\u001b[1;33m,\u001b[0m \u001b[0msocktype\u001b[0m\u001b[1;33m,\u001b[0m \u001b[0mproto\u001b[0m\u001b[1;33m,\u001b[0m \u001b[0mcanonname\u001b[0m\u001b[1;33m,\u001b[0m \u001b[0msa\u001b[0m \u001b[1;33m=\u001b[0m \u001b[0mres\u001b[0m\u001b[1;33m\u001b[0m\u001b[0m\n",
      "\u001b[1;32mD:\\DEV\\ANACONDA3\\envs\\ada\\lib\\socket.py\u001b[0m in \u001b[0;36mgetaddrinfo\u001b[1;34m(host, port, family, type, proto, flags)\u001b[0m\n\u001b[0;32m    744\u001b[0m     \u001b[0maddrlist\u001b[0m \u001b[1;33m=\u001b[0m \u001b[1;33m[\u001b[0m\u001b[1;33m]\u001b[0m\u001b[1;33m\u001b[0m\u001b[0m\n\u001b[1;32m--> 745\u001b[1;33m     \u001b[1;32mfor\u001b[0m \u001b[0mres\u001b[0m \u001b[1;32min\u001b[0m \u001b[0m_socket\u001b[0m\u001b[1;33m.\u001b[0m\u001b[0mgetaddrinfo\u001b[0m\u001b[1;33m(\u001b[0m\u001b[0mhost\u001b[0m\u001b[1;33m,\u001b[0m \u001b[0mport\u001b[0m\u001b[1;33m,\u001b[0m \u001b[0mfamily\u001b[0m\u001b[1;33m,\u001b[0m \u001b[0mtype\u001b[0m\u001b[1;33m,\u001b[0m \u001b[0mproto\u001b[0m\u001b[1;33m,\u001b[0m \u001b[0mflags\u001b[0m\u001b[1;33m)\u001b[0m\u001b[1;33m:\u001b[0m\u001b[1;33m\u001b[0m\u001b[0m\n\u001b[0m\u001b[0;32m    746\u001b[0m         \u001b[0maf\u001b[0m\u001b[1;33m,\u001b[0m \u001b[0msocktype\u001b[0m\u001b[1;33m,\u001b[0m \u001b[0mproto\u001b[0m\u001b[1;33m,\u001b[0m \u001b[0mcanonname\u001b[0m\u001b[1;33m,\u001b[0m \u001b[0msa\u001b[0m \u001b[1;33m=\u001b[0m \u001b[0mres\u001b[0m\u001b[1;33m\u001b[0m\u001b[0m\n",
      "\u001b[1;31mgaierror\u001b[0m: [Errno 11001] getaddrinfo failed",
      "\nDuring handling of the above exception, another exception occurred:\n",
      "\u001b[1;31mNewConnectionError\u001b[0m                        Traceback (most recent call last)",
      "\u001b[1;32mD:\\DEV\\ANACONDA3\\envs\\ada\\lib\\site-packages\\urllib3\\connectionpool.py\u001b[0m in \u001b[0;36murlopen\u001b[1;34m(self, method, url, body, headers, retries, redirect, assert_same_host, timeout, pool_timeout, release_conn, chunked, body_pos, **response_kw)\u001b[0m\n\u001b[0;32m    599\u001b[0m                                                   \u001b[0mbody\u001b[0m\u001b[1;33m=\u001b[0m\u001b[0mbody\u001b[0m\u001b[1;33m,\u001b[0m \u001b[0mheaders\u001b[0m\u001b[1;33m=\u001b[0m\u001b[0mheaders\u001b[0m\u001b[1;33m,\u001b[0m\u001b[1;33m\u001b[0m\u001b[0m\n\u001b[1;32m--> 600\u001b[1;33m                                                   chunked=chunked)\n\u001b[0m\u001b[0;32m    601\u001b[0m \u001b[1;33m\u001b[0m\u001b[0m\n",
      "\u001b[1;32mD:\\DEV\\ANACONDA3\\envs\\ada\\lib\\site-packages\\urllib3\\connectionpool.py\u001b[0m in \u001b[0;36m_make_request\u001b[1;34m(self, conn, method, url, timeout, chunked, **httplib_request_kw)\u001b[0m\n\u001b[0;32m    342\u001b[0m         \u001b[1;32mtry\u001b[0m\u001b[1;33m:\u001b[0m\u001b[1;33m\u001b[0m\u001b[0m\n\u001b[1;32m--> 343\u001b[1;33m             \u001b[0mself\u001b[0m\u001b[1;33m.\u001b[0m\u001b[0m_validate_conn\u001b[0m\u001b[1;33m(\u001b[0m\u001b[0mconn\u001b[0m\u001b[1;33m)\u001b[0m\u001b[1;33m\u001b[0m\u001b[0m\n\u001b[0m\u001b[0;32m    344\u001b[0m         \u001b[1;32mexcept\u001b[0m \u001b[1;33m(\u001b[0m\u001b[0mSocketTimeout\u001b[0m\u001b[1;33m,\u001b[0m \u001b[0mBaseSSLError\u001b[0m\u001b[1;33m)\u001b[0m \u001b[1;32mas\u001b[0m \u001b[0me\u001b[0m\u001b[1;33m:\u001b[0m\u001b[1;33m\u001b[0m\u001b[0m\n",
      "\u001b[1;32mD:\\DEV\\ANACONDA3\\envs\\ada\\lib\\site-packages\\urllib3\\connectionpool.py\u001b[0m in \u001b[0;36m_validate_conn\u001b[1;34m(self, conn)\u001b[0m\n\u001b[0;32m    848\u001b[0m         \u001b[1;32mif\u001b[0m \u001b[1;32mnot\u001b[0m \u001b[0mgetattr\u001b[0m\u001b[1;33m(\u001b[0m\u001b[0mconn\u001b[0m\u001b[1;33m,\u001b[0m \u001b[1;34m'sock'\u001b[0m\u001b[1;33m,\u001b[0m \u001b[1;32mNone\u001b[0m\u001b[1;33m)\u001b[0m\u001b[1;33m:\u001b[0m  \u001b[1;31m# AppEngine might not have  `.sock`\u001b[0m\u001b[1;33m\u001b[0m\u001b[0m\n\u001b[1;32m--> 849\u001b[1;33m             \u001b[0mconn\u001b[0m\u001b[1;33m.\u001b[0m\u001b[0mconnect\u001b[0m\u001b[1;33m(\u001b[0m\u001b[1;33m)\u001b[0m\u001b[1;33m\u001b[0m\u001b[0m\n\u001b[0m\u001b[0;32m    850\u001b[0m \u001b[1;33m\u001b[0m\u001b[0m\n",
      "\u001b[1;32mD:\\DEV\\ANACONDA3\\envs\\ada\\lib\\site-packages\\urllib3\\connection.py\u001b[0m in \u001b[0;36mconnect\u001b[1;34m(self)\u001b[0m\n\u001b[0;32m    313\u001b[0m         \u001b[1;31m# Add certificate verification\u001b[0m\u001b[1;33m\u001b[0m\u001b[1;33m\u001b[0m\u001b[0m\n\u001b[1;32m--> 314\u001b[1;33m         \u001b[0mconn\u001b[0m \u001b[1;33m=\u001b[0m \u001b[0mself\u001b[0m\u001b[1;33m.\u001b[0m\u001b[0m_new_conn\u001b[0m\u001b[1;33m(\u001b[0m\u001b[1;33m)\u001b[0m\u001b[1;33m\u001b[0m\u001b[0m\n\u001b[0m\u001b[0;32m    315\u001b[0m \u001b[1;33m\u001b[0m\u001b[0m\n",
      "\u001b[1;32mD:\\DEV\\ANACONDA3\\envs\\ada\\lib\\site-packages\\urllib3\\connection.py\u001b[0m in \u001b[0;36m_new_conn\u001b[1;34m(self)\u001b[0m\n\u001b[0;32m    179\u001b[0m             raise NewConnectionError(\n\u001b[1;32m--> 180\u001b[1;33m                 self, \"Failed to establish a new connection: %s\" % e)\n\u001b[0m\u001b[0;32m    181\u001b[0m \u001b[1;33m\u001b[0m\u001b[0m\n",
      "\u001b[1;31mNewConnectionError\u001b[0m: <urllib3.connection.VerifiedHTTPSConnection object at 0x000001F1244E18D0>: Failed to establish a new connection: [Errno 11001] getaddrinfo failed",
      "\nDuring handling of the above exception, another exception occurred:\n",
      "\u001b[1;31mMaxRetryError\u001b[0m                             Traceback (most recent call last)",
      "\u001b[1;32mD:\\DEV\\ANACONDA3\\envs\\ada\\lib\\site-packages\\requests\\adapters.py\u001b[0m in \u001b[0;36msend\u001b[1;34m(self, request, stream, timeout, verify, cert, proxies)\u001b[0m\n\u001b[0;32m    444\u001b[0m                     \u001b[0mretries\u001b[0m\u001b[1;33m=\u001b[0m\u001b[0mself\u001b[0m\u001b[1;33m.\u001b[0m\u001b[0mmax_retries\u001b[0m\u001b[1;33m,\u001b[0m\u001b[1;33m\u001b[0m\u001b[0m\n\u001b[1;32m--> 445\u001b[1;33m                     \u001b[0mtimeout\u001b[0m\u001b[1;33m=\u001b[0m\u001b[0mtimeout\u001b[0m\u001b[1;33m\u001b[0m\u001b[0m\n\u001b[0m\u001b[0;32m    446\u001b[0m                 )\n",
      "\u001b[1;32mD:\\DEV\\ANACONDA3\\envs\\ada\\lib\\site-packages\\urllib3\\connectionpool.py\u001b[0m in \u001b[0;36murlopen\u001b[1;34m(self, method, url, body, headers, retries, redirect, assert_same_host, timeout, pool_timeout, release_conn, chunked, body_pos, **response_kw)\u001b[0m\n\u001b[0;32m    637\u001b[0m             retries = retries.increment(method, url, error=e, _pool=self,\n\u001b[1;32m--> 638\u001b[1;33m                                         _stacktrace=sys.exc_info()[2])\n\u001b[0m\u001b[0;32m    639\u001b[0m             \u001b[0mretries\u001b[0m\u001b[1;33m.\u001b[0m\u001b[0msleep\u001b[0m\u001b[1;33m(\u001b[0m\u001b[1;33m)\u001b[0m\u001b[1;33m\u001b[0m\u001b[0m\n",
      "\u001b[1;32mD:\\DEV\\ANACONDA3\\envs\\ada\\lib\\site-packages\\urllib3\\util\\retry.py\u001b[0m in \u001b[0;36mincrement\u001b[1;34m(self, method, url, response, error, _pool, _stacktrace)\u001b[0m\n\u001b[0;32m    397\u001b[0m         \u001b[1;32mif\u001b[0m \u001b[0mnew_retry\u001b[0m\u001b[1;33m.\u001b[0m\u001b[0mis_exhausted\u001b[0m\u001b[1;33m(\u001b[0m\u001b[1;33m)\u001b[0m\u001b[1;33m:\u001b[0m\u001b[1;33m\u001b[0m\u001b[0m\n\u001b[1;32m--> 398\u001b[1;33m             \u001b[1;32mraise\u001b[0m \u001b[0mMaxRetryError\u001b[0m\u001b[1;33m(\u001b[0m\u001b[0m_pool\u001b[0m\u001b[1;33m,\u001b[0m \u001b[0murl\u001b[0m\u001b[1;33m,\u001b[0m \u001b[0merror\u001b[0m \u001b[1;32mor\u001b[0m \u001b[0mResponseError\u001b[0m\u001b[1;33m(\u001b[0m\u001b[0mcause\u001b[0m\u001b[1;33m)\u001b[0m\u001b[1;33m)\u001b[0m\u001b[1;33m\u001b[0m\u001b[0m\n\u001b[0m\u001b[0;32m    399\u001b[0m \u001b[1;33m\u001b[0m\u001b[0m\n",
      "\u001b[1;31mMaxRetryError\u001b[0m: HTTPSConnectionPool(host='en.wikipedia.org', port=443): Max retries exceeded with url: /wiki/List_of_food_companies (Caused by NewConnectionError('<urllib3.connection.VerifiedHTTPSConnection object at 0x000001F1244E18D0>: Failed to establish a new connection: [Errno 11001] getaddrinfo failed',))",
      "\nDuring handling of the above exception, another exception occurred:\n",
      "\u001b[1;31mConnectionError\u001b[0m                           Traceback (most recent call last)",
      "\u001b[1;32m<ipython-input-40-97773132139c>\u001b[0m in \u001b[0;36m<module>\u001b[1;34m()\u001b[0m\n\u001b[1;32m----> 1\u001b[1;33m \u001b[0mr\u001b[0m \u001b[1;33m=\u001b[0m \u001b[0mrequests\u001b[0m\u001b[1;33m.\u001b[0m\u001b[0mget\u001b[0m\u001b[1;33m(\u001b[0m\u001b[1;34m'https://en.wikipedia.org/wiki/List_of_food_companies'\u001b[0m\u001b[1;33m)\u001b[0m\u001b[1;33m\u001b[0m\u001b[0m\n\u001b[0m\u001b[0;32m      2\u001b[0m \u001b[1;31m#r = requests.get('https://en.wikipedia.org/wiki/List_of_brand_name_food_products')\u001b[0m\u001b[1;33m\u001b[0m\u001b[1;33m\u001b[0m\u001b[0m\n\u001b[0;32m      3\u001b[0m \u001b[1;33m\u001b[0m\u001b[0m\n\u001b[0;32m      4\u001b[0m \u001b[0mpage_body\u001b[0m \u001b[1;33m=\u001b[0m \u001b[0mr\u001b[0m\u001b[1;33m.\u001b[0m\u001b[0mtext\u001b[0m\u001b[1;33m\u001b[0m\u001b[0m\n\u001b[0;32m      5\u001b[0m \u001b[0msoup\u001b[0m \u001b[1;33m=\u001b[0m \u001b[0mBeautifulSoup\u001b[0m\u001b[1;33m(\u001b[0m\u001b[0mpage_body\u001b[0m\u001b[1;33m,\u001b[0m \u001b[1;34m'html.parser'\u001b[0m\u001b[1;33m)\u001b[0m\u001b[1;33m\u001b[0m\u001b[0m\n",
      "\u001b[1;32mD:\\DEV\\ANACONDA3\\envs\\ada\\lib\\site-packages\\requests\\api.py\u001b[0m in \u001b[0;36mget\u001b[1;34m(url, params, **kwargs)\u001b[0m\n\u001b[0;32m     70\u001b[0m \u001b[1;33m\u001b[0m\u001b[0m\n\u001b[0;32m     71\u001b[0m     \u001b[0mkwargs\u001b[0m\u001b[1;33m.\u001b[0m\u001b[0msetdefault\u001b[0m\u001b[1;33m(\u001b[0m\u001b[1;34m'allow_redirects'\u001b[0m\u001b[1;33m,\u001b[0m \u001b[1;32mTrue\u001b[0m\u001b[1;33m)\u001b[0m\u001b[1;33m\u001b[0m\u001b[0m\n\u001b[1;32m---> 72\u001b[1;33m     \u001b[1;32mreturn\u001b[0m \u001b[0mrequest\u001b[0m\u001b[1;33m(\u001b[0m\u001b[1;34m'get'\u001b[0m\u001b[1;33m,\u001b[0m \u001b[0murl\u001b[0m\u001b[1;33m,\u001b[0m \u001b[0mparams\u001b[0m\u001b[1;33m=\u001b[0m\u001b[0mparams\u001b[0m\u001b[1;33m,\u001b[0m \u001b[1;33m**\u001b[0m\u001b[0mkwargs\u001b[0m\u001b[1;33m)\u001b[0m\u001b[1;33m\u001b[0m\u001b[0m\n\u001b[0m\u001b[0;32m     73\u001b[0m \u001b[1;33m\u001b[0m\u001b[0m\n\u001b[0;32m     74\u001b[0m \u001b[1;33m\u001b[0m\u001b[0m\n",
      "\u001b[1;32mD:\\DEV\\ANACONDA3\\envs\\ada\\lib\\site-packages\\requests\\api.py\u001b[0m in \u001b[0;36mrequest\u001b[1;34m(method, url, **kwargs)\u001b[0m\n\u001b[0;32m     56\u001b[0m     \u001b[1;31m# cases, and look like a memory leak in others.\u001b[0m\u001b[1;33m\u001b[0m\u001b[1;33m\u001b[0m\u001b[0m\n\u001b[0;32m     57\u001b[0m     \u001b[1;32mwith\u001b[0m \u001b[0msessions\u001b[0m\u001b[1;33m.\u001b[0m\u001b[0mSession\u001b[0m\u001b[1;33m(\u001b[0m\u001b[1;33m)\u001b[0m \u001b[1;32mas\u001b[0m \u001b[0msession\u001b[0m\u001b[1;33m:\u001b[0m\u001b[1;33m\u001b[0m\u001b[0m\n\u001b[1;32m---> 58\u001b[1;33m         \u001b[1;32mreturn\u001b[0m \u001b[0msession\u001b[0m\u001b[1;33m.\u001b[0m\u001b[0mrequest\u001b[0m\u001b[1;33m(\u001b[0m\u001b[0mmethod\u001b[0m\u001b[1;33m=\u001b[0m\u001b[0mmethod\u001b[0m\u001b[1;33m,\u001b[0m \u001b[0murl\u001b[0m\u001b[1;33m=\u001b[0m\u001b[0murl\u001b[0m\u001b[1;33m,\u001b[0m \u001b[1;33m**\u001b[0m\u001b[0mkwargs\u001b[0m\u001b[1;33m)\u001b[0m\u001b[1;33m\u001b[0m\u001b[0m\n\u001b[0m\u001b[0;32m     59\u001b[0m \u001b[1;33m\u001b[0m\u001b[0m\n\u001b[0;32m     60\u001b[0m \u001b[1;33m\u001b[0m\u001b[0m\n",
      "\u001b[1;32mD:\\DEV\\ANACONDA3\\envs\\ada\\lib\\site-packages\\requests\\sessions.py\u001b[0m in \u001b[0;36mrequest\u001b[1;34m(self, method, url, params, data, headers, cookies, files, auth, timeout, allow_redirects, proxies, hooks, stream, verify, cert, json)\u001b[0m\n\u001b[0;32m    510\u001b[0m         }\n\u001b[0;32m    511\u001b[0m         \u001b[0msend_kwargs\u001b[0m\u001b[1;33m.\u001b[0m\u001b[0mupdate\u001b[0m\u001b[1;33m(\u001b[0m\u001b[0msettings\u001b[0m\u001b[1;33m)\u001b[0m\u001b[1;33m\u001b[0m\u001b[0m\n\u001b[1;32m--> 512\u001b[1;33m         \u001b[0mresp\u001b[0m \u001b[1;33m=\u001b[0m \u001b[0mself\u001b[0m\u001b[1;33m.\u001b[0m\u001b[0msend\u001b[0m\u001b[1;33m(\u001b[0m\u001b[0mprep\u001b[0m\u001b[1;33m,\u001b[0m \u001b[1;33m**\u001b[0m\u001b[0msend_kwargs\u001b[0m\u001b[1;33m)\u001b[0m\u001b[1;33m\u001b[0m\u001b[0m\n\u001b[0m\u001b[0;32m    513\u001b[0m \u001b[1;33m\u001b[0m\u001b[0m\n\u001b[0;32m    514\u001b[0m         \u001b[1;32mreturn\u001b[0m \u001b[0mresp\u001b[0m\u001b[1;33m\u001b[0m\u001b[0m\n",
      "\u001b[1;32mD:\\DEV\\ANACONDA3\\envs\\ada\\lib\\site-packages\\requests\\sessions.py\u001b[0m in \u001b[0;36msend\u001b[1;34m(self, request, **kwargs)\u001b[0m\n\u001b[0;32m    620\u001b[0m \u001b[1;33m\u001b[0m\u001b[0m\n\u001b[0;32m    621\u001b[0m         \u001b[1;31m# Send the request\u001b[0m\u001b[1;33m\u001b[0m\u001b[1;33m\u001b[0m\u001b[0m\n\u001b[1;32m--> 622\u001b[1;33m         \u001b[0mr\u001b[0m \u001b[1;33m=\u001b[0m \u001b[0madapter\u001b[0m\u001b[1;33m.\u001b[0m\u001b[0msend\u001b[0m\u001b[1;33m(\u001b[0m\u001b[0mrequest\u001b[0m\u001b[1;33m,\u001b[0m \u001b[1;33m**\u001b[0m\u001b[0mkwargs\u001b[0m\u001b[1;33m)\u001b[0m\u001b[1;33m\u001b[0m\u001b[0m\n\u001b[0m\u001b[0;32m    623\u001b[0m \u001b[1;33m\u001b[0m\u001b[0m\n\u001b[0;32m    624\u001b[0m         \u001b[1;31m# Total elapsed time of the request (approximately)\u001b[0m\u001b[1;33m\u001b[0m\u001b[1;33m\u001b[0m\u001b[0m\n",
      "\u001b[1;32mD:\\DEV\\ANACONDA3\\envs\\ada\\lib\\site-packages\\requests\\adapters.py\u001b[0m in \u001b[0;36msend\u001b[1;34m(self, request, stream, timeout, verify, cert, proxies)\u001b[0m\n\u001b[0;32m    511\u001b[0m                 \u001b[1;32mraise\u001b[0m \u001b[0mSSLError\u001b[0m\u001b[1;33m(\u001b[0m\u001b[0me\u001b[0m\u001b[1;33m,\u001b[0m \u001b[0mrequest\u001b[0m\u001b[1;33m=\u001b[0m\u001b[0mrequest\u001b[0m\u001b[1;33m)\u001b[0m\u001b[1;33m\u001b[0m\u001b[0m\n\u001b[0;32m    512\u001b[0m \u001b[1;33m\u001b[0m\u001b[0m\n\u001b[1;32m--> 513\u001b[1;33m             \u001b[1;32mraise\u001b[0m \u001b[0mConnectionError\u001b[0m\u001b[1;33m(\u001b[0m\u001b[0me\u001b[0m\u001b[1;33m,\u001b[0m \u001b[0mrequest\u001b[0m\u001b[1;33m=\u001b[0m\u001b[0mrequest\u001b[0m\u001b[1;33m)\u001b[0m\u001b[1;33m\u001b[0m\u001b[0m\n\u001b[0m\u001b[0;32m    514\u001b[0m \u001b[1;33m\u001b[0m\u001b[0m\n\u001b[0;32m    515\u001b[0m         \u001b[1;32mexcept\u001b[0m \u001b[0mClosedPoolError\u001b[0m \u001b[1;32mas\u001b[0m \u001b[0me\u001b[0m\u001b[1;33m:\u001b[0m\u001b[1;33m\u001b[0m\u001b[0m\n",
      "\u001b[1;31mConnectionError\u001b[0m: HTTPSConnectionPool(host='en.wikipedia.org', port=443): Max retries exceeded with url: /wiki/List_of_food_companies (Caused by NewConnectionError('<urllib3.connection.VerifiedHTTPSConnection object at 0x000001F1244E18D0>: Failed to establish a new connection: [Errno 11001] getaddrinfo failed',))"
     ]
    }
   ],
   "source": [
    "r = requests.get('https://en.wikipedia.org/wiki/List_of_food_companies')\n",
    "#r = requests.get('https://en.wikipedia.org/wiki/List_of_brand_name_food_products')\n",
    "\n",
    "page_body = r.text\n",
    "soup = BeautifulSoup(page_body, 'html.parser')\n",
    "all_li = soup.find_all('li')\n",
    "\n",
    "linkTexts = []\n",
    "linkUrls =[]\n",
    "\n",
    "for li in all_li:\n",
    "    \n",
    "    a = li.find('a')\n",
    "    if (    a is not None \\\n",
    "        and a.has_attr('href') \\\n",
    "        and a.has_attr('title') \\\n",
    "        and len(a.text)>0 ):\n",
    "        if(a.text[0].isdigit() == False and a.text.startswith('href') == False):\n",
    "            #print(str(a.text) + '-https://en.wikipedia.org' + str(a['href']))        \n",
    "            \n",
    "            linkTexts.append(a.text)\n",
    "            linkUrls.append('https://en.wikipedia.org' + str(a['href']))\n",
    "            \n",
    "            #Exit after last Food Companies\n",
    "            if(a.text.startswith('Vinamilk')):\n",
    "                break\n",
    "            \n",
    "        \n",
    "df = pd.DataFrame(list(zip(linkTexts, linkUrls)), \\\n",
    "                  columns=['company_name','company_url'])\n",
    "#df.index = df['company_name']\n",
    "df.sort_values(by='company_name')"
   ]
  },
  {
   "cell_type": "markdown",
   "metadata": {},
   "source": [
    "# External Links or References #\n",
    "\n",
    "\n",
    "#### Some references or links which are giving some useful information about Openn Food Facts\n",
    "https://world.openfoodfacts.org/\n",
    "\n",
    "https://www.kaggle.com/openfoodfacts/world-food-facts/home\n",
    "\n",
    "https://fr.wikipedia.org/wiki/Open_Food_Facts\n",
    "\n",
    "https://github.com/wgong/open_source_learning/blob/master/projects/Open_Food/open-food-5k.ipynb\n",
    "\n",
    "https://www.kaggle.com/sarapissou/open-food-facts#\n",
    "\n",
    "\n",
    "https://world.openfoodfacts.org/contributors\n",
    "\n",
    "\n",
    "## Some articles about how sugar is bad ##\n",
    "https://sydney.edu.au/news-opinion/news/2018/03/12/-yes--too-much-sugar-is-bad-for-our-health-.html\n",
    "\n",
    "https://www.urmc.rochester.edu/patients-families/health-matters/november-2014/no-sugar-coating-sugar-just-isn%E2%80%99t-helping-your-hea.aspx\n",
    "\n",
    "https://www.webmd.com/diabetes/features/how-sugar-affects-your-body\n",
    "\n",
    "https://www.emborg.com/health-wellbeing/healthy-lifestyle/eat-less-sugar-you’re-sweet-enough-already\n",
    "\n",
    "\n",
    "<img style=\"width:150px;height:150px;\" src=\"https://wallpaperbrowse.com/media/images/sugar-health-3.gif\"/>\n",
    "\n",
    "\n",
    "\n"
   ]
  },
  {
   "cell_type": "code",
   "execution_count": null,
   "metadata": {},
   "outputs": [],
   "source": [
    "from IPython.core.display import HTML\n",
    "pd.set_option('display.max_colwidth', -1)\n",
    "df_food_overview = df_food.query(\"ingredients_from_palm_oil_n > 0\")[['product_name', 'url', 'brands', 'ingredients_from_palm_oil_n', 'nutrition_grade_fr']]\n",
    "df_food_overview"
   ]
  },
  {
   "cell_type": "code",
   "execution_count": null,
   "metadata": {},
   "outputs": [],
   "source": [
    "pd.set_option('display.max_colwidth', -1)\n",
    "df_food.query(\"ingredients_from_palm_oil_n > 0 \")[['product_name', 'url','image_url']].head(100)"
   ]
  },
  {
   "cell_type": "code",
   "execution_count": null,
   "metadata": {},
   "outputs": [],
   "source": []
  }
 ],
 "metadata": {
  "kernelspec": {
   "display_name": "Python 3",
   "language": "python",
   "name": "python3"
  },
  "language_info": {
   "codemirror_mode": {
    "name": "ipython",
    "version": 3
   },
   "file_extension": ".py",
   "mimetype": "text/x-python",
   "name": "python",
   "nbconvert_exporter": "python",
   "pygments_lexer": "ipython3",
   "version": "3.6.6"
  }
 },
 "nbformat": 4,
 "nbformat_minor": 2
}
