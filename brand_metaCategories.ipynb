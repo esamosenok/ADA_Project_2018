{
 "cells": [
  {
   "cell_type": "code",
   "execution_count": 1,
   "metadata": {},
   "outputs": [],
   "source": [
    "import pandas as pd\n",
    "import numpy as np\n",
    "import re\n",
    "import findspark\n",
    "findspark.init()\n",
    "import pyspark\n",
    "spark = pyspark.sql.SparkSession.builder.getOrCreate()\n",
    "sc = spark.sparkContext\n",
    "\n",
    "import warnings\n",
    "warnings.filterwarnings('ignore')"
   ]
  },
  {
   "cell_type": "code",
   "execution_count": 2,
   "metadata": {},
   "outputs": [],
   "source": [
    "#Load the data\n",
    "df = spark.read\\\n",
    "    .format(\"csv\")\\\n",
    "    .option(\"header\", \"true\")\\\n",
    "    .option(\"delimiter\", \"\\t\")\\\n",
    "    .load('./en.openfoodfacts.org.products.csv')\n",
    "\n",
    "#df.printSchema()"
   ]
  },
  {
   "cell_type": "code",
   "execution_count": null,
   "metadata": {},
   "outputs": [],
   "source": [
    "#Allow SQL queries to be executed\n",
    "df.createOrReplaceTempView(\"df_view\")\n",
    "\n",
    "#Obtain all products that has a list of categories defined\n",
    "sqlDF = spark.sql(\"SELECT product_name, brands_tags \\\n",
    "                  FROM df_view \\\n",
    "                  WHERE brands_tags IS NOT NULL\")\n",
    "\n",
    "#Convert it into a dataframe\n",
    "brands_df = sqlDF.toPandas()"
   ]
  },
  {
   "cell_type": "code",
   "execution_count": null,
   "metadata": {},
   "outputs": [],
   "source": [
    "#MIGROS\n",
    "\n",
    "#Define the brands that are part of migros\n",
    "brands = '(migros|m-classic|m-budget|terrasuisse|frey)'\n",
    "\n",
    "#Match any brand that appears first, in the middle, or last in the string\n",
    "pattern = '(,|^)' + brands + '(,|$)'\n",
    "\n",
    "#Extract the products\n",
    "MIGROS_pd = brands_df.loc[brands_df['brands_tags'].str.contains(pattern, flags=re.IGNORECASE, regex=True)]"
   ]
  },
  {
   "cell_type": "code",
   "execution_count": null,
   "metadata": {},
   "outputs": [],
   "source": [
    "#COOP\n",
    "#Define the brands that are part of migros\n",
    "brands = '(coop|naturaplan)'\n",
    "\n",
    "#Match any brand that appears first, in the middle, or last in the string\n",
    "pattern = '(,|^)' + brands + '(,|$)'\n",
    "\n",
    "#Extract the products\n",
    "MIGROS_pd = brands_df.loc[brands_df['brands_tags'].str.contains(pattern, flags=re.IGNORECASE, regex=True)]\n",
    "MIGROS_pd"
   ]
  },
  {
   "cell_type": "code",
   "execution_count": null,
   "metadata": {},
   "outputs": [],
   "source": [
    "#BUDGET"
   ]
  },
  {
   "cell_type": "code",
   "execution_count": null,
   "metadata": {},
   "outputs": [],
   "source": [
    "#BIO"
   ]
  }
 ],
 "metadata": {
  "kernelspec": {
   "display_name": "Python 3",
   "language": "python",
   "name": "python3"
  },
  "language_info": {
   "codemirror_mode": {
    "name": "ipython",
    "version": 3
   },
   "file_extension": ".py",
   "mimetype": "text/x-python",
   "name": "python",
   "nbconvert_exporter": "python",
   "pygments_lexer": "ipython3",
   "version": "3.6.5"
  }
 },
 "nbformat": 4,
 "nbformat_minor": 2
}
