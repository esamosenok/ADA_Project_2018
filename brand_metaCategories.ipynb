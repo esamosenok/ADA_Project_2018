{
 "cells": [
  {
   "cell_type": "code",
   "execution_count": 1,
   "metadata": {},
   "outputs": [],
   "source": [
    "import pandas as pd\n",
    "import numpy as np\n",
    "import re\n",
    "import findspark\n",
    "findspark.init()\n",
    "import pyspark\n",
    "spark = pyspark.sql.SparkSession.builder.getOrCreate()\n",
    "sc = spark.sparkContext\n",
    "\n",
    "import warnings\n",
    "warnings.filterwarnings('ignore')"
   ]
  },
  {
   "cell_type": "code",
   "execution_count": 2,
   "metadata": {},
   "outputs": [],
   "source": [
    "#Load the data\n",
    "df = spark.read\\\n",
    "    .format(\"csv\")\\\n",
    "    .option(\"header\", \"true\")\\\n",
    "    .option(\"delimiter\", \"\\t\")\\\n",
    "    .load('./en.openfoodfacts.org.products.csv')\n",
    "\n",
    "#df.printSchema()"
   ]
  },
  {
   "cell_type": "code",
   "execution_count": 3,
   "metadata": {},
   "outputs": [],
   "source": [
    "#Allow SQL queries to be executed\n",
    "df.createOrReplaceTempView(\"df_view\")\n",
    "\n",
    "#Obtain all products that has a list of categories defined\n",
    "sqlDF = spark.sql(\"SELECT product_name, brands_tags \\\n",
    "                  FROM df_view \\\n",
    "                  WHERE brands_tags IS NOT NULL\")\n",
    "\n",
    "#Convert it into a dataframe\n",
    "brands_df = sqlDF.toPandas()"
   ]
  },
  {
   "cell_type": "code",
   "execution_count": 57,
   "metadata": {},
   "outputs": [],
   "source": [
    "# Define the brands we are interested in\n",
    "\n",
    "m1 = 'migros'\n",
    "m2 = 'm-classic'\n",
    "m3 = 'm-budget'\n",
    "m4 = 'terrasuisse'\n",
    "m5 = 'frey'\n",
    "m6 = 'migros-bio'\n",
    "\n",
    "c1 = 'coop'\n",
    "c2 = 'coop-prix-garantie'\n",
    "c3 = 'coop-naturaplan'\n",
    "c4 = 'coop-naturaplan-bio'\n",
    "\n",
    "# Order them into categories we are interested in\n",
    "\n",
    "m_brands = [m1, m2, m3, m4, m5, m6]\n",
    "\n",
    "c_brands = [c1, c2, c3, c4]\n",
    "\n",
    "l_brands = [m3, c2]\n",
    "\n",
    "b_brands = [m6, c3, c4]"
   ]
  },
  {
   "cell_type": "code",
   "execution_count": null,
   "metadata": {},
   "outputs": [],
   "source": [
    "#Define a function to convert them into regex\n",
    "\n",
    "def to_regex(brands):\n",
    "    \"\"\"\n",
    "    Convenience function that formats a list of brands into regex for the brands\n",
    "    \"\"\"\n",
    "    pattern = \"(,|^)(\"\n",
    "    for brand in brands:\n",
    "        pattern += brand + \"|\"\n",
    "        \n",
    "    pattern = pattern[:-1]\n",
    "    pattern  = pattern + \")(,|$)\"\n",
    "    return pattern"
   ]
  },
  {
   "cell_type": "code",
   "execution_count": 60,
   "metadata": {},
   "outputs": [],
   "source": [
    "#For each set of brands, obtain the dataframes\n",
    "pattern = to_regex(c_brands)\n",
    "COOP_pd = brands_df.loc[brands_df['brands_tags'].str.contains(pattern, flags=re.IGNORECASE, regex=True)]\n",
    "\n",
    "pattern = to_regex(m_brands)\n",
    "MIGROS_pd = brands_df.loc[brands_df['brands_tags'].str.contains(pattern, flags=re.IGNORECASE, regex=True)]\n",
    "\n",
    "pattern = to_regex(l_brands)\n",
    "LOCOST_pd = brands_df.loc[brands_df['brands_tags'].str.contains(pattern, flags=re.IGNORECASE, regex=True)]\n",
    "\n",
    "pattern = to_regex(b_brands)\n",
    "BIO_pd = brands_df.loc[brands_df['brands_tags'].str.contains(pattern, flags=re.IGNORECASE, regex=True)]\n"
   ]
  }
 ],
 "metadata": {
  "kernelspec": {
   "display_name": "Python 3",
   "language": "python",
   "name": "python3"
  },
  "language_info": {
   "codemirror_mode": {
    "name": "ipython",
    "version": 3
   },
   "file_extension": ".py",
   "mimetype": "text/x-python",
   "name": "python",
   "nbconvert_exporter": "python",
   "pygments_lexer": "ipython3",
   "version": "3.6.5"
  }
 },
 "nbformat": 4,
 "nbformat_minor": 2
}
