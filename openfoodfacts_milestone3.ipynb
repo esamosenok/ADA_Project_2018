{
 "cells": [
  {
   "cell_type": "markdown",
   "metadata": {},
   "source": [
    "# Eat less sugar, you're sweet enough already #\n",
    "http://openfoodfacts.funspirit.ch"
   ]
  },
  {
   "cell_type": "markdown",
   "metadata": {},
   "source": [
    "## Abstract ##\n",
    "Many people consume too much sugar and even more than they realize. Some products contain added or hidden sugar like Low-fat Yogurst, BBQ Sauce, ketchup or Fruit Juice. To put in perspective, some sauces may contains more than 50 per cent of sugar. (**\\*Ref1**) \n",
    "\n",
    "Based on the \"AHA Scientific Statement\" (**\\*Ref2**), the major sources of added sugars are mainly coming form those Food Categories: regular soft drinks, sugars, candy, cakes, cookies, pies and fruit drinks, dairy desserts and milk products: \n",
    "<table>\n",
    " <tr>\n",
    "   <td><b>Food categories</b></td>\n",
    "     <td><b>Contribution to added sugar intake</b><br>(% of total added sugar consumed) </td>\n",
    " </tr>\n",
    " <tr><td>Regular soft drinks</td><td>33.0</td></tr>\n",
    " <tr><td>Sugars and candy</td><td>16.1</td></tr>\n",
    " <tr><td>Cakes, cookies, pies</td><td>12.9</td></tr>\n",
    " <tr><td>Fruit drinks (fruitades and fruit punch)</td><td>9.7</td></tr>\n",
    " <tr><td>Dairy desserts and milk products (ice cream sweetened yogurt, and sweetened milk)</td>      <td>8.6</td></tr>\n",
    "  <tr><td>Other grains (cinnamon toast and honey-nut waffles) </td><td>5.8</td></tr>\n",
    "</table>\n",
    "\n",
    "\n",
    "From there, it's easy understandable that eating too much sugar is not healthy and can cause Weight Gain, increase the risk of Hear Disease, Diabetes (**\\*Ref3**) or even Cancer, ...\n",
    "\n",
    "Therefore, it's crucial to limit the consumption of foods with high amounts of added sugars. According to the American Heart Association (AHA) (**\\*Ref4**), the maximum amount of added sugars per day are limited to:\n",
    "- Men: 150 calories per day (37.5 grams or 9 teaspoons or ~6.30 pieces of sugar)\n",
    "- Women: 100 calories per day (25 grams or 6 teaspoons or ~4.20 pieces of sugar)\n",
    "\n",
    "The US dietary guidelines advise people to limit their intake to less than 10% of their daily calorie intake. For a person eating 2,000 calories per day, this would equal 50 grams of sugar, or about 12.5 teaspoons or 8.4 pieces of sugar. (**\\*Ref5**)\n",
    "\n",
    "“Keeping intake of free sugars to less than 10% of total energy intake reduces the risk of overweight, obesity and tooth decay,” says Dr Francesco Branca, Director of WHO’s Department of Nutrition for Health and Development.(**\\*Ref6**)\n",
    "\n",
    "\n",
    "Based on the information above, we would like to explore the \"Open Food Facts Datbase\", apply the knowledge of data analysis technics and best practices acquired during attending Applied Data Analysis course at EPFL in Lausanne in Autumn 2018 and figure out meaninful/insightful relationship between different dimensions used to categorize the data or external metrics.\n",
    "\n",
    "\n",
    "<hr>\n",
    "\n",
    "**References/Sources**\n",
    "- **\\*Ref1** Heathy Food: How much sugar is in that sauces ?<br>\n",
    "  https://www.healthyfoodguide.com.au/articles/2015/july/how-much-sugar-sauce\n",
    "  \n",
    "- **\\*Ref2** Major Sources of Added Sugars in the American Diet<br>\n",
    "  https://www.ahajournals.org/doi/pdf/10.1161/circulationaha.109.192627\n",
    "  \n",
    "- **\\*Ref3** Maximum amount of added sugars recommendation from the American Heart Association<br>\n",
    "  https://www.heart.org/en/healthy-living/healthy-eating/eat-smart/sugar/added-sugars\n",
    "    \n",
    "- **\\*Ref3** Relationship of Sugar to Population-Level Diabetes Prevalence<br>\n",
    "  https://journals.plos.org/plosone/article/figure?id=10.1371/journal.pone.0057873.g002\n",
    "  \n",
    "- **\\*Ref4** Major Sources of Added Sugars in the American Diet<br>\n",
    "  https://www.ahajournals.org/doi/pdf/10.1161/circulationaha.109.192627\n",
    "  \n",
    "- **\\*Ref5** US Dietary guideleines  <br>\n",
    "  https://health.gov/dietaryguidelines/2015/guidelines/executive-summary/\n",
    "  \n",
    "- **\\*Ref6** World Health Organization: Reduce sugars intake  <br>\n",
    "  http://www.who.int/mediacentre/news/releases/2015/sugar-guideline/en/\n",
    " \n",
    "<hr>"
   ]
  },
  {
   "cell_type": "markdown",
   "metadata": {},
   "source": [
    "## Research questions##\n",
    "\n",
    "1. There are lots of different dimensions/metrics which could be used to analyse/slice the data: dates when the product was added and last modified, produced country, brand, categories (e.g. snack, dessert), country / store where the product was purchased, size and weight of the product, amount of fat, sugar, vitamins, chemicals, ingredients as text etc We will explore the dimensions/metrics above and relate some of those to each other or such generic metrics as country (producer or consumer) GDP, life expectancy (vitamins, salt, sugar, other chemicals), expore which country/store is the biggest produce/consumer of product by brand/ingredients etc. We will also check how some of the metrics evolve over time.\n",
    "\n",
    "2. Explore the quality of the data, find and estimate inconsistencies (e.g. accuracy of the text description)\n",
    "\n",
    "3. Finally, there are images available for each product, so we will try to analyse those using Deep Learning techniques (CNN) and relate to some of the deminsions avialable in the dataset. \n",
    "\n",
    "\n",
    "\n",
    "We were maybe a little ambition about the analyis we would like to perform and discovered many discrepancies on the Data.\n",
    "Indeed, we learnt during the lecturer that the main activities performed by a Data Scientist is Data Cleaning. Based on the Data Quality of the www.openFoodFacts.org Data, we are fully agree with this assertion and we even decided to spend more time on Data Analyis.\n",
    "\n",
    "Indeed in order to perform good analysis, it's crucial to consolidate the firt layer and understand the Data Set. We even think that this open Database should be more normalized and structured, which may offer a more solid base for further Analyis and Data Cleaning.\n",
    "\n",
    "What is the goal to perform deeper analyis, when underlying data are not certified, checked, cleaned, cleansed and normalized. Furtheremore as you will discover in this Notebook, most of the dimensions have to be used with precaution.\n",
    "\n",
    "**Could we trust OpenFoodFacts Data ?** \n",
    "\n",
    "**Should we eat too much sugar ?**\n"
   ]
  },
  {
   "cell_type": "markdown",
   "metadata": {},
   "source": [
    "## Some Extra Ideas ##\n",
    "- Check the products which does have sugar (compared to the one which have less)\n",
    "  Check the ones which may have more than 25 gr  \n",
    "  as recommanded by OMS: http://www.who.int/nutrition/sugars_public_consultation/en/\n",
    "\n",
    "- Check the products which contains more sugar per brands_tags, main_category_en, ...\n",
    "  Especially the ones which are hidden\n",
    "  \n",
    "- We should focus on smaller dataset to perform further analysis\n",
    "  We may focus onf the openfood-ch-import, and why not comparing\n",
    "     - Migros product against Coop product\n",
    "     - Low cost product like \"Prix garantie\" from Coop and \"M-budget\" from Migros against Bio \n",
    " \n",
    "- If some correlation or prediction could be done, but I'm afraid that there is not so much data.\n",
    "  We can try some model to determine if products having too much sugar, contain too much salt too ? \n",
    "  or check if we can use the nutrition_grade_fr for records we have this information.\n",
    "  \n",
    "- I would like to use beautifulsoup to download information from Internet.\n",
    "  Any idea is welcome, tell me if you find something useful here.\n",
    "  \n",
    "- for Image  analysing (CNN) to predict sugar content or the dominant color of the packaging? \n",
    "  or predict data quality like the category (is it a beverage, fish,..., )?\n",
    "  "
   ]
  },
  {
   "cell_type": "markdown",
   "metadata": {},
   "source": [
    "## Organization of the Jupyter Notebook ##\n",
    "In order to have a better clarity, the notebook had been organized by topics (differenciated by colors)\n"
   ]
  },
  {
   "cell_type": "markdown",
   "metadata": {},
   "source": [
    "<div class=\"alert alert-block alert-success\">\n",
    "\n",
    "<b>1. DATA EXPLORATION</b><br><i>\n",
    "    This part, in <b>green</b>, contains all the Data Exploration's activities, performed on the en.openfoodfacts.org.products.csv. The goal of this part is to understand the data and check if it seems to be completed and trustworthy.\n",
    "    \n",
    "To perform this first Data Exploration, we decided to check the content by looking to the:\n",
    "- What are the Size/Shape of the Dataset\n",
    "- Who are the Contributors\n",
    "- What are the Brands\n",
    "- What are the Countries or Origins\n",
    "- What are the fields which could be used/related to sugar's consumption\n",
    "- What are the Anomalies in Dataa\n",
    "\n",
    "Before doing any transformation and analysis, It's indeed important to understand from where the data are coming, how they have been collected by whom, when and how confident we are about the 'Open Food Fact' Dataset.\n",
    "</i></div>\n"
   ]
  },
  {
   "cell_type": "markdown",
   "metadata": {},
   "source": [
    "<div class=\"alert alert-info\">\n",
    "\n",
    "<b>2. DATA CLEANING</b><br><i>\n",
    "This part, in <b>blue</b>, contains all the Data Cleaning's activities, performed on the en.openfoodfacts.org.products.csv. The goal of this part is to clean the data and enrich them based on the required activities.\n",
    "    \n",
    "To perform this Data Cleaning, we decided to:\n",
    "- Remove unused columns: in order to focus on main columns\n",
    "- Enrich data by creating new columns \n",
    "\n",
    "Before doing any analysis, It's indeed important to have a proper consolidated Dataset. Indeed, we discover that the Dataset requires a lot of cleaning activities and that the data quality is sometimes poor.\n",
    "</i></div>"
   ]
  },
  {
   "cell_type": "markdown",
   "metadata": {},
   "source": [
    "<div class=\"alert alert-warning\">\n",
    "\n",
    "<b>3. DATA Analysis</b><br><i>\n",
    "This part, in <b>yellow</b>, contains all the Analysis's activities, performed on the en.openfoodfacts.org.products.csv. The goal of this part is to perform analysis related to our topics.\n",
    "    \n",
    "To perform this Data Analysis, we decided to:\n",
    "- Check the products which does have sugar (compared to the one which have less) \n",
    "- Check the products which may have more than 25gr as recommanded by OMS: http://www.who.int/nutrition/sugars_public_consultation/en/\n",
    "\n",
    "- Check the products which contains more sugar per brands_tags, main_category_en, ... \n",
    "  Especially the ones which are hidden\n",
    "\n",
    "- ...\n",
    "</i></div>"
   ]
  },
  {
   "cell_type": "markdown",
   "metadata": {},
   "source": [
    "<div class=\"alert alert-danger\">\n",
    "\n",
    "<b>4. IMAGE Analysis</b><br><i>\n",
    "This part, in <b>red</b>, contains all the CNN Analysis.\n",
    "    \n",
    "To perform Image Analysis (CNN)\n",
    "- Predict sugar content ? \n",
    "- Predict data quality like the category (is it a beverage, fish,..., )? \n",
    "\n",
    "\n",
    "</i></div>\n",
    "\n"
   ]
  },
  {
   "cell_type": "markdown",
   "metadata": {},
   "source": [
    "<div class=\"alert alert-danger\" style=\"background-color:whitesmoke;color:gray;border-color:darkgray;\">\n",
    "\n",
    "<b>5. EXTRA Analysis</b><br><i>\n",
    "This part, in <b>gray</b>, contains all extra ad hoc requests, like:\n",
    "- Show some result/product through worldcloud    \n",
    "- Get a list of Brand from WIKIPEDIA with Beautiful soup to cross check the quality of open food facts\n",
    "\n",
    "\n",
    "\n",
    "</i></div>"
   ]
  },
  {
   "cell_type": "markdown",
   "metadata": {},
   "source": [
    "## Jupyter Notebook ##\n",
    "Please find below the different analysis performed against the Dataset Open Food Facts"
   ]
  },
  {
   "cell_type": "markdown",
   "metadata": {},
   "source": [
    "<p style=\"color:#3C763D\"><i>\n",
    "    <b>IMPORTS</b>: pandas, numpy, plt, sns, math, mtick, datetime, requests, beautifulSoup\n",
    "</i></p>"
   ]
  },
  {
   "cell_type": "code",
   "execution_count": 1,
   "metadata": {},
   "outputs": [],
   "source": [
    "# imports\n",
    "import pandas as pd\n",
    "import numpy as np\n",
    "import matplotlib.pyplot as plt\n",
    "import seaborn as sns\n",
    "import math\n",
    "import re\n",
    "\n",
    "import matplotlib.ticker as mtick\n",
    "from datetime import datetime, date, time\n",
    "\n",
    "import findspark\n",
    "findspark.init()\n",
    "import pyspark\n",
    "spark = pyspark.sql.SparkSession.builder.getOrCreate()\n",
    "sc = spark.sparkContext\n",
    "\n",
    "import json\n",
    "\n",
    "import folium\n",
    "from branca.colormap import LinearColormap\n",
    "\n",
    "# Import libraries\n",
    "import requests\n",
    "from bs4 import BeautifulSoup\n",
    "\n",
    "import warnings\n",
    "warnings.filterwarnings('ignore')"
   ]
  },
  {
   "cell_type": "markdown",
   "metadata": {},
   "source": [
    "<p style=\"color:#3C763D\"><i>\n",
    "    <b>COMMON FUNCTIONS</b>: get_rows, get_top_10, get_empty_rows, show_plot, print_stats\n",
    "</i></p>"
   ]
  },
  {
   "cell_type": "code",
   "execution_count": 2,
   "metadata": {},
   "outputs": [],
   "source": [
    "##### Calculate the number of rows of a specific DF\n",
    "def get_rows(df):\n",
    "    rows = df.shape[0]\n",
    "    return rows\n",
    "\n",
    "\n",
    "##### Return the top 10 records per column_name\n",
    "def get_top_10(df, column_name):\n",
    "    df_result = df_food.groupby([column_name]).size().reset_index(name='counts').sort_values('counts', ascending=False).head(10)\n",
    "\n",
    "    rows = get_rows(df)\n",
    "    df_result['percentage'] = df_result['counts']/rows*100\n",
    "\n",
    "    return df_result.copy()\n",
    "\n",
    "\n",
    "##### Count the number of empty rows for a specific Data Frame\n",
    "def get_empty_rows(df, column_name):\n",
    "    return df.query(str(column_name) + '.isnull()').count()\n",
    "\n",
    "\n",
    "##### show plot in bar plot with number\n",
    "def show_plot(df, column_name):\n",
    "\n",
    "    df_plot = df.loc[: ,[column_name, 'counts']].set_index(column_name)['counts'].copy()\n",
    "    \n",
    "    plt.figure(figsize=(15, 10))\n",
    "    \n",
    "    sns.set(style=\"whitegrid\")\n",
    "    g = sns.barplot(df_plot, df_plot.index, orient='h', palette=\"Blues_d\")\n",
    "    \n",
    "    plt.title('Top largest ' + column_name, fontsize=20)\n",
    "    plt.xlabel(\"Number of occurencs\", fontsize=14)\n",
    "    plt.ylabel(column_name, fontsize=14)\n",
    "\n",
    "    #### Show Number on the right of the bar plot    \n",
    "    for i, v in enumerate(df_plot.values.tolist()):\n",
    "        g.text(v + 3, i + .25, str(v), color='black', fontweight='normal')\n",
    "    \n",
    "    plt.show()\n",
    "\n",
    "\n",
    "    \n",
    "##### Print main statistics items    \n",
    "def print_stats(df, column_name):\n",
    "    total_rows = get_rows(df)\n",
    "    empty_rows = str(df[column_name].isna().sum())\n",
    "    perc = int(empty_rows) * 100 / int(total_rows)\n",
    "    print ('Number of empty records for ' + str(column_name) + ': ' + str(empty_rows) + ' (' + str(perc) + '%)' )\n",
    "    print (df[column_name].agg(['nunique','count','size']))\n",
    "        "
   ]
  },
  {
   "cell_type": "markdown",
   "metadata": {},
   "source": [
    "<div class=\"alert alert-block alert-success\">\n",
    "\n",
    "<b>1. UNDERSTANDING THE DATA</b><br>\n",
    "<i>The goal of this part is to load and understand the data, provided by 'Open Food Facts'. We would like to understand the the completeness and trustworthy of those data.\n",
    "</i>\n",
    "<hr>\n",
    "\n",
    "<br><b>1.1 Loading Data</b><br>\n",
    "We would like to load the Data and split the files in sub categories. We would like to check the size/shape of the Datasets and understand which columns could be used for our topics. Identify the gaps, the NaN. Somehow we would like to understand the overall quality of the data.\n",
    "\n",
    "<br><b>1.2 Who are the Contributors</b><br>\n",
    "We would like to check who are the contributors, who is contributing the more, could we trust the source and could we found some references in the net.\n",
    "\n",
    "<br><b>1.3 What are the Brands</b><br>\n",
    "We would like to check if all products are assigned to a Brand and check if all those Brand exists (cross check with wikipedia per example)\n",
    "\n",
    "<br><b>1.4 What are the Countries</b><br>\n",
    "We would like to check if all products are assigned to a Countries (Countries).\n",
    "As we suspect duplicate and non-normalized data, those values should most probably be cleaned.\n",
    "\n",
    "<br><b>1.5 What are the Origins of products</b><br>\n",
    "We would like to check if all products are assigned to an Origins (Countries).\n",
    "As we suspect duplicate and non-normalized data, those values should most probably be cleaned.\n",
    "\n",
    "<br><b>1.6 What are the Main Category</b><br>\n",
    "We are looking what are the Main Category (count/percentage/emtpy)\n",
    "\n",
    "<br><b>1.7 Check if there are some more anomalies in data</b><br>\n",
    "So far it seems that some Products have been entered many times.\n",
    "\n",
    "<hr>\n",
    "<b>Please notice that the file has been dowloaded from Internet and not from the Cluster, as they are identical</b>\n",
    "</div>\n",
    "\n"
   ]
  },
  {
   "cell_type": "markdown",
   "metadata": {},
   "source": [
    "<div class=\"alert alert-block alert-success\">\n",
    "\n",
    "<b>1.1 UNDERSTANDING THE DATA - Loading Data</b><br>\n",
    "<i>We are looking to Load the data from CSV Files. Please notice that files have been split by contributors</i>\n",
    "<hr>\n",
    "<b>Remarks</b><br>\n",
    "<i>\n",
    "The main idea was to split the data to get lower data set to explore. It is therefore possible to analyze them separately if required.\n",
    "\n",
    "By doing deeper analysis, we discovered that few contributors create main of the products.\n",
    "Therefore, it was making sense to split them. Furthermore, you will discover later that each contributors are mainly working in one and only one Country.\n",
    "\n",
    "It becomes so far logic to split them by contributors.\n",
    "Please notice as well that products from different countries have different categories and specificities which make them difficult to compare.\n",
    "</i>\n",
    "<br>\n",
    "</div>"
   ]
  },
  {
   "cell_type": "markdown",
   "metadata": {},
   "source": [
    "The 'Open Food Facts' file, used in this notebook had been copied to http://openfoodfacts.funspirit.ch/en.openfoodfacts.org.products.csv"
   ]
  },
  {
   "cell_type": "code",
   "execution_count": 3,
   "metadata": {},
   "outputs": [],
   "source": [
    "##### Default path for the DATA\n",
    "data_path = './data/'"
   ]
  },
  {
   "cell_type": "code",
   "execution_count": 4,
   "metadata": {},
   "outputs": [],
   "source": [
    "##### Read file and split by main contributors/Creators\n",
    "df_food = pd.read_csv(data_path +'en.openfoodfacts.org.products.csv', sep=\"\\t\", low_memory=False)  "
   ]
  },
  {
   "cell_type": "markdown",
   "metadata": {},
   "source": [
    "<p style=\"color:#3C763D\"><i>\n",
    "    <b>SAVE PRODUCTS BY CONTRIBUTORS</b>:<br> \n",
    "    kiliweb, usda_ndb_import, openfood_ch, others\n",
    "</i></p>"
   ]
  },
  {
   "cell_type": "code",
   "execution_count": 5,
   "metadata": {},
   "outputs": [],
   "source": [
    "df_food_kiliweb = df_food.query(\"creator == 'kiliweb'\")\n",
    "df_food_kiliweb.to_csv(data_path + 'en.openfoodfacts.org.products.kiliweb.299820.csv', sep='\\t')"
   ]
  },
  {
   "cell_type": "code",
   "execution_count": 6,
   "metadata": {},
   "outputs": [],
   "source": [
    "df_food_usda_ndb_import = df_food.query(\"creator == 'usda-ndb-import'\")\n",
    "df_food_usda_ndb_import.to_csv(data_path + 'en.openfoodfacts.org.products.usda-ndb-import.169861.csv', sep='\\t')"
   ]
  },
  {
   "cell_type": "code",
   "execution_count": 7,
   "metadata": {},
   "outputs": [],
   "source": [
    "df_food_openfood_ch = df_food.query(\"creator == 'openfood-ch-import'\")\n",
    "df_food_openfood_ch.to_csv(data_path + 'en.openfoodfacts.org.products.openfood-ch-import.11459.csv', sep='\\t')"
   ]
  },
  {
   "cell_type": "code",
   "execution_count": 8,
   "metadata": {},
   "outputs": [],
   "source": [
    "df_food_others = df_food.query(\"creator.isin(['kiliweb', 'usda-ndb-import', 'openfood-ch-import']) == False\")\n",
    "df_food_others.to_csv(data_path + 'en.openfoodfacts.org.products.others.200428.csv', sep='\\t')"
   ]
  },
  {
   "cell_type": "markdown",
   "metadata": {},
   "source": [
    "<p style=\"color:#3C763D\"><i>\n",
    "    <b>RELOAD PRODUCTS BY CONTRIBUTORS</b>:<br> \n",
    "    kiliweb, usda_ndb_import, openfood_ch, others\n",
    "</i></p>"
   ]
  },
  {
   "cell_type": "code",
   "execution_count": 9,
   "metadata": {},
   "outputs": [],
   "source": [
    "df_food_kili_web_comp = pd.read_csv(data_path + 'en.openfoodfacts.org.products.kiliweb.299820.csv', sep=\"\\t\", low_memory=False)  \n",
    "df_food_usda_ndb_import_comp = pd.read_csv(data_path + 'en.openfoodfacts.org.products.usda-ndb-import.169861.csv', sep=\"\\t\", low_memory=False)  \n",
    "df_food_openfood_ch_comp = pd.read_csv(data_path + 'en.openfoodfacts.org.products.openfood-ch-import.11459.csv', sep=\"\\t\", low_memory=False)  \n",
    "df_food_others_comp = pd.read_csv(data_path + 'en.openfoodfacts.org.products.others.200428.csv', sep=\"\\t\", low_memory=False)  \n",
    "\n",
    "frames = [df_food_kili_web_comp, df_food_usda_ndb_import_comp, df_food_openfood_ch_comp, df_food_others_comp]\n",
    "df_food_comparison = pd.concat(frames)"
   ]
  },
  {
   "cell_type": "markdown",
   "metadata": {},
   "source": [
    "<p style=\"color:#3C763D\"><i>\n",
    "    <b>COMPARE both files</b>:<br> \n",
    "    To ensure that both files are containing the same rows/columns\n",
    "</i></p>"
   ]
  },
  {
   "cell_type": "code",
   "execution_count": 10,
   "metadata": {},
   "outputs": [
    {
     "name": "stdout",
     "output_type": "stream",
     "text": [
      "\n",
      "df_food:(681602, 173)\n",
      "\n",
      "df_food_comparison:(681602, 174)\n"
     ]
    }
   ],
   "source": [
    "print('\\ndf_food:' + str(df_food.shape))\n",
    "print('\\ndf_food_comparison:' + str(df_food_comparison.shape))\n"
   ]
  },
  {
   "cell_type": "markdown",
   "metadata": {},
   "source": [
    "Please notice that both dataframe are identical. The second ones have one more column as the index had been exported too. A copy of all those files coould be retrieved in http://en.openfoodfacts.org.products.splitted_by_contributor.zip, which contains:\n",
    "- http://openfoodfacts.funspirit.ch/en.openfoodfacts.org.products.kiliweb.299820.csv\n",
    "- http://openfoodfacts.funspirit.ch/en.openfoodfacts.org.products.usda-ndb-import.169861.csv\n",
    "- http://openfoodfacts.funspirit.ch/en.openfoodfacts.org.products.openfood-ch-import.11459.csv\n",
    "- http://openfoodfacts.funspirit.ch/en.openfoodfacts.org.products.others.200428.csv"
   ]
  },
  {
   "cell_type": "markdown",
   "metadata": {},
   "source": [
    "<p style=\"color:#3C763D\"><i>\n",
    "    <b>SIZE & SHAPE</b>:<br> \n",
    "    Check the size & Shape of the 'open food facts'\n",
    "</i></p>"
   ]
  },
  {
   "cell_type": "code",
   "execution_count": 11,
   "metadata": {},
   "outputs": [
    {
     "name": "stdout",
     "output_type": "stream",
     "text": [
      "Open Food Data contains 681602 products.(681602, 173)\n"
     ]
    }
   ],
   "source": [
    "print('Open Food Data contains ' + str(get_rows(df_food)) + ' products.' + str(df_food.shape) )\n"
   ]
  },
  {
   "cell_type": "code",
   "execution_count": 12,
   "metadata": {},
   "outputs": [
    {
     "name": "stdout",
     "output_type": "stream",
     "text": [
      "\n",
      "df_food Columns:\n"
     ]
    },
    {
     "data": {
      "text/plain": [
       "Index(['code', 'url', 'creator', 'created_t', 'created_datetime',\n",
       "       'last_modified_t', 'last_modified_datetime', 'product_name',\n",
       "       'generic_name', 'quantity',\n",
       "       ...\n",
       "       'carbon-footprint_100g', 'nutrition-score-fr_100g',\n",
       "       'nutrition-score-uk_100g', 'glycemic-index_100g', 'water-hardness_100g',\n",
       "       'choline_100g', 'phylloquinone_100g', 'beta-glucan_100g',\n",
       "       'inositol_100g', 'carnitine_100g'],\n",
       "      dtype='object', length=173)"
      ]
     },
     "execution_count": 12,
     "metadata": {},
     "output_type": "execute_result"
    }
   ],
   "source": [
    "print('\\ndf_food Columns:')\n",
    "df_food.columns"
   ]
  },
  {
   "cell_type": "code",
   "execution_count": 13,
   "metadata": {},
   "outputs": [
    {
     "name": "stdout",
     "output_type": "stream",
     "text": [
      "\n",
      "df_food Counts:\n"
     ]
    },
    {
     "data": {
      "text/plain": [
       "code                                    681568\n",
       "url                                     681568\n",
       "creator                                 681599\n",
       "created_t                               681598\n",
       "created_datetime                        681592\n",
       "last_modified_t                         681602\n",
       "last_modified_datetime                  681602\n",
       "product_name                            654761\n",
       "generic_name                             75765\n",
       "quantity                                189965\n",
       "packaging                               137285\n",
       "packaging_tags                          137282\n",
       "brands                                  460425\n",
       "brands_tags                             460392\n",
       "categories                              173826\n",
       "categories_tags                         173825\n",
       "categories_en                           173791\n",
       "origins                                  40790\n",
       "origins_tags                             40737\n",
       "manufacturing_places                     65402\n",
       "manufacturing_places_tags                65380\n",
       "labels                                  100754\n",
       "labels_tags                             100784\n",
       "labels_en                               100784\n",
       "emb_codes                                43547\n",
       "emb_codes_tags                           43504\n",
       "first_packaging_code_geo                 27572\n",
       "cities                                       0\n",
       "cities_tags                              29385\n",
       "purchase_places                          98527\n",
       "                                         ...  \n",
       "calcium_100g                            143308\n",
       "phosphorus_100g                           6296\n",
       "iron_100g                               141489\n",
       "magnesium_100g                            6994\n",
       "zinc_100g                                 4225\n",
       "copper_100g                               2196\n",
       "manganese_100g                            1715\n",
       "fluoride_100g                              162\n",
       "selenium_100g                             1250\n",
       "chromium_100g                               38\n",
       "molybdenum_100g                             36\n",
       "iodine_100g                                446\n",
       "caffeine_100g                              164\n",
       "taurine_100g                                57\n",
       "ph_100g                                    110\n",
       "fruits-vegetables-nuts_100g               3423\n",
       "fruits-vegetables-nuts-estimate_100g      7496\n",
       "collagen-meat-protein-ratio_100g           292\n",
       "cocoa_100g                                3737\n",
       "chlorophyl_100g                              2\n",
       "carbon-footprint_100g                      342\n",
       "nutrition-score-fr_100g                 136571\n",
       "nutrition-score-uk_100g                 136571\n",
       "glycemic-index_100g                          2\n",
       "water-hardness_100g                          1\n",
       "choline_100g                                27\n",
       "phylloquinone_100g                           1\n",
       "beta-glucan_100g                            14\n",
       "inositol_100g                               33\n",
       "carnitine_100g                              13\n",
       "Length: 173, dtype: int64"
      ]
     },
     "execution_count": 13,
     "metadata": {},
     "output_type": "execute_result"
    }
   ],
   "source": [
    "print('\\ndf_food Counts:')\n",
    "df_food.count()\n"
   ]
  },
  {
   "cell_type": "markdown",
   "metadata": {},
   "source": [
    "<div class=\"alert alert-block alert-success\">\n",
    "\n",
    "<b>1.2 UNDERSTANDING THE DATA - Contributors</b><br>\n",
    "<i>We are looking who are the contributors and what are their contributions by Products (count/percentage/emtpy)</i>\n",
    "<hr>\n",
    "<b>Remarks</b><br>\n",
    "<i>\n",
    "Who are those contributors ? except usda-ndb-import and openfood-ch-import, could we trust them ?\n",
    "Almost 44% of the products have been created by kiliweb. Who is kiliweb ?\n",
    "\n",
    "We identified some records (at least 3) without contributor (creator)\n",
    "\n",
    "\n",
    "After some search in Internet it seems that\n",
    "- usda-ndb-import is the 'United States Department of Agriculture'. Those products are mainly US Products. \n",
    "  More information could be retrieved in https://ndb.nal.usda.gov/ndb/search/list\n",
    "- openfood-ch-import seems to be mainly managed by EPFL. Those products are mainly coming from COOP and MIGROS, and therefore CH Products.\n",
    "  More information could be retrieved https://ch-fr.openfoodfacts.org/\n",
    "- kiliweb seems to be a web agency in France. Most of the products are therefore mainly coming from France. It's most probably the most active contributor and this may explain why most of the products are assigned to France.\n",
    "\n",
    "</i>\n",
    "<br>\n",
    "</div>\n"
   ]
  },
  {
   "cell_type": "markdown",
   "metadata": {},
   "source": [
    "<p style=\"color:#3C763D\"><i>\n",
    "    <b>1.2 UNDERSTANDING THE DATA</b>: Overview of Contributors\n",
    "</i></p>"
   ]
  },
  {
   "cell_type": "code",
   "execution_count": 14,
   "metadata": {},
   "outputs": [
    {
     "name": "stdout",
     "output_type": "stream",
     "text": [
      "\n",
      "Top 10 Contributors (Counts & Percentage)\n",
      "                         creator  counts  percentage\n",
      "3246                     kiliweb  299820   43.987547\n",
      "6126             usda-ndb-import  169861   24.920848\n",
      "4698  openfoodfacts-contributors   82719   12.135968\n",
      "1449             date-limite-app   17453    2.560585\n",
      "4696          openfood-ch-import   11459    1.681186\n",
      "5822                      tacite    8438    1.237966\n",
      "5469                    sebleouf    8359    1.226376\n",
      "5821                     tacinte    5282    0.774939\n",
      "5723                    stephane    2774    0.406982\n",
      "2768                     javichu    2766    0.405809\n"
     ]
    },
    {
     "data": {
      "image/png": "[encoded data removed]",
      "text/plain": [
       "<Figure size 1080x720 with 1 Axes>"
      ]
     },
     "metadata": {
      "needs_background": "light"
     },
     "output_type": "display_data"
    },
    {
     "name": "stdout",
     "output_type": "stream",
     "text": [
      "Number of empty records for creator: 3 (0.0004401395535811221%)\n",
      "nunique      6544\n",
      "count      681599\n",
      "size       681602\n",
      "Name: creator, dtype: int64\n"
     ]
    }
   ],
   "source": [
    "##### Get top 10 Contributors\n",
    "df_10_contributors = get_top_10(df_food, 'creator')\n",
    "\n",
    "##### Show Result\n",
    "print('\\nTop 10 Contributors (Counts & Percentage)')\n",
    "print(df_10_contributors)    \n",
    "show_plot(df_10_contributors, 'creator')\n",
    "\n",
    "##### Show Information about empty records\n",
    "print_stats(df_food, 'creator')"
   ]
  },
  {
   "cell_type": "markdown",
   "metadata": {},
   "source": [
    "<p style=\"color:#3C763D\"><i>\n",
    "    <b>1.2 UNDERSTANDING THE DATA</b>: Overview of when Products have been created by Contributors\n",
    "</i></p>"
   ]
  },
  {
   "cell_type": "code",
   "execution_count": 15,
   "metadata": {},
   "outputs": [
    {
     "data": {
      "text/plain": [
       "<matplotlib.axes._subplots.AxesSubplot at 0x2a260d4f828>"
      ]
     },
     "execution_count": 15,
     "metadata": {},
     "output_type": "execute_result"
    },
    {
     "data": {
      "image/png": "[encoded data removed]",
      "text/plain": [
       "<Figure size 864x576 with 1 Axes>"
      ]
     },
     "metadata": {},
     "output_type": "display_data"
    },
    {
     "data": {
      "image/png": "[encoded data removed]",
      "text/plain": [
       "<Figure size 864x576 with 1 Axes>"
      ]
     },
     "metadata": {},
     "output_type": "display_data"
    }
   ],
   "source": [
    "top_5_creators = df_food.loc[(df_food['creator']=='kiliweb')|\\\n",
    "                             (df_food['creator']=='usda-ndb-import') |\\\n",
    "                             (df_food['creator']=='openfoodfacts-contributors') |\\\n",
    "                             (df_food['creator']=='date-limite-app') |\\\n",
    "                             (df_food['creator']=='openfood-ch-import')][['creator','created_datetime']]\n",
    "\n",
    "top_5_creators['mod_datetime'] = top_5_creators['created_datetime'].apply(lambda x: x[0:4])\n",
    "top_5_creators.drop('created_datetime', axis=1)\n",
    "\n",
    "mod_pivot = pd.pivot_table(top_5_creators, index=top_5_creators['mod_datetime'], columns='creator', aggfunc=len, fill_value=0)\n",
    "mod_pivot.plot(kind=\"line\", figsize=(12,8), title=\"When were items created?\")\n",
    "mod_pivot.plot(kind=\"bar\", figsize=(12,8), title=\"When were items created?\")\n"
   ]
  },
  {
   "cell_type": "markdown",
   "metadata": {},
   "source": [
    "So far we can see that Kiliweb is the most active contributors and is continously adding products.\n",
    "usda-ndb-import, which is the 'United States Department of Agriculture' seems to not contrinbute anymore to the open food facts database and has been only imported once. The open community of openfoodfacts-contributors seems to be growing day after day. We could almost consider individual contributor as marginal.\n",
    "\n",
    "The diversity of contributors may lead to mismatched data. We can already assume, based of the main contributors, that the diversity of product by country is not representative and comparison against country is most probably not relevant enough."
   ]
  },
  {
   "cell_type": "markdown",
   "metadata": {},
   "source": [
    "<div class=\"alert alert-block alert-success\">\n",
    "\n",
    "<b>1.3 UNDERSTANDING THE DATA - Brands</b><br>\n",
    "<i>We are looking what are the Brands (count/percentage/emtpy)</i>\n",
    "<hr>\n",
    "<b>Remarks</b><br>\n",
    "<i>\n",
    "Almost 32% of the products are not assigned to any 'Brand', why ?\n",
    "</i>\n",
    "<br>\n",
    "</div>\n"
   ]
  },
  {
   "cell_type": "markdown",
   "metadata": {},
   "source": [
    "<p style=\"color:#3C763D\"><i>\n",
    "    <b>1.3 UNDERSTANDING THE DATA</b>: Overall information about Brands\n",
    "</i></p>"
   ]
  },
  {
   "cell_type": "code",
   "execution_count": 16,
   "metadata": {},
   "outputs": [
    {
     "name": "stdout",
     "output_type": "stream",
     "text": [
      "\n",
      "Top 10 Brands (Counts & Percentage)\n",
      "             brands  counts  percentage\n",
      "13449     Carrefour    5384    0.789904\n",
      "4726         Auchan    5313    0.779487\n",
      "85513             U    4401    0.645685\n",
      "13967        Casino    3130    0.459212\n",
      "48068  Leader Price    2825    0.414465\n",
      "18474          Cora    2230    0.327170\n",
      "55740        Meijer    1997    0.292986\n",
      "42398        Kroger    1673    0.245451\n",
      "66647        Picard    1517    0.222564\n",
      "1583          Ahold    1370    0.200997\n"
     ]
    },
    {
     "data": {
      "image/png": "[encoded data removed]",
      "text/plain": [
       "<Figure size 1080x720 with 1 Axes>"
      ]
     },
     "metadata": {},
     "output_type": "display_data"
    },
    {
     "name": "stdout",
     "output_type": "stream",
     "text": [
      "Number of empty records for brands: 221177 (32.449582014137285%)\n",
      "nunique     98663\n",
      "count      460425\n",
      "size       681602\n",
      "Name: brands, dtype: int64\n"
     ]
    }
   ],
   "source": [
    "##### Get top 10 Brands\n",
    "df_10_brands = get_top_10(df_food, 'brands')\n",
    "\n",
    "##### Show Result\n",
    "print('\\nTop 10 Brands (Counts & Percentage)')\n",
    "print(df_10_brands)    \n",
    "show_plot(df_10_brands, 'brands')\n",
    "\n",
    "##### Show Information about empty records\n",
    "print_stats(df_food, 'brands')"
   ]
  },
  {
   "cell_type": "markdown",
   "metadata": {},
   "source": [
    "32% of the products are not assigned to any Brands. Furthermore the 6 most big brands of Open Food Facts are French Mall. \n",
    "This sounds strange that main of the products are repertoried in France. French cheese only could not explain this delta ?\n",
    "\n",
    "**Product Code '3245390058782'**\n",
    "Petit Munster Géromé\n",
    "https://world.openfoodfacts.org/product/3245390058782/petit-munster-gerome-reflets-de-france\n",
    "\n",
    "<img src=\"https://static.openfoodfacts.org/images/products/324/539/005/8782/front_fr.4.full.jpg\" width=\"200\"></img>\n",
    "<br/><br/>\n",
    "It's true that there is a lot of cheese in France and that some of them are realy famous ! Should we perform some deep analysis in this area !?\n",
    "\n",
    "\n",
    "Most likely, It seems that as described above with contributors, that the french community, through kiliweb, is the most important contributor. This may explain why there is so much products assigned to French Brand or assigned to France. (unlikely not related to cheese)"
   ]
  },
  {
   "cell_type": "markdown",
   "metadata": {},
   "source": [
    "<div class=\"alert alert-block alert-success\">\n",
    "\n",
    "<b>1.4 UNDERSTANDING THE DATA - Countries</b><br>\n",
    "<i>We are looking what are the countries_en (count/percentage/emtpy)</i>\n",
    "<hr>\n",
    "<b>Remarks</b><br>\n",
    "<i>\n",
    "Almost 60% of the Product seems assigned to France, which is very suspicious and requires further investigations.\n",
    "    \n",
    "Some products seem to be linked to multiple countries like (Belgium, France)\n",
    "\n",
    "Few records (5444) are not linked to any country.\n",
    "</i>\n",
    "<br>\n",
    "</div>"
   ]
  },
  {
   "cell_type": "code",
   "execution_count": 17,
   "metadata": {},
   "outputs": [
    {
     "name": "stdout",
     "output_type": "stream",
     "text": [
      "\n",
      "Top 10 countries_en (Counts & Percentage)\n",
      "            countries_en  counts  percentage\n",
      "593               France  409951   60.145217\n",
      "1323       United States  173494   25.453857\n",
      "1279         Switzerland   13543    1.986937\n",
      "1015             Germany   11629    1.706128\n",
      "1267               Spain    6104    0.895537\n",
      "623       France,Germany    5884    0.863260\n",
      "1317      United Kingdom    5643    0.827903\n",
      "174              Belgium    5309    0.778900\n",
      "896   France,Switzerland    4345    0.637469\n",
      "207       Belgium,France    3505    0.514230\n"
     ]
    },
    {
     "data": {
      "image/png": "[encoded data removed]",
      "text/plain": [
       "<Figure size 1080x720 with 1 Axes>"
      ]
     },
     "metadata": {},
     "output_type": "display_data"
    },
    {
     "name": "stdout",
     "output_type": "stream",
     "text": [
      "Number of empty records for countries_en: 544 (0.07981197238271015%)\n",
      "nunique      1361\n",
      "count      681058\n",
      "size       681602\n",
      "Name: countries_en, dtype: int64\n"
     ]
    }
   ],
   "source": [
    "##### Get top 10 Countries_en\n",
    "df_10_countries_en = get_top_10(df_food, 'countries_en')\n",
    "\n",
    "##### Show Result\n",
    "print('\\nTop 10 countries_en (Counts & Percentage)')\n",
    "print(df_10_countries_en)    \n",
    "show_plot(df_10_countries_en, 'countries_en')\n",
    "\n",
    "##### Show Information about empty records\n",
    "print_stats(df_food, 'countries_en')"
   ]
  },
  {
   "cell_type": "markdown",
   "metadata": {},
   "source": [
    "We discover here the same behavior than previous analyis. Most of the products are assigned to France which was the expectation as the main contributor is kiliweb (France Web Agency). This is consistent, especially after the analysis of the contributors and brands above.\n",
    "\n",
    "Even if most of the products have been assigned to country, as only 544 products are not linked to any country, we discover that there is 1361 countries.\n",
    "\n",
    "So far it seems that countries contain a list of countries and not unique country.\n",
    "\n",
    "Furthermore most of the products are linked to one or two countries only, which is very suspicious. We could assume per example that this peanut butter http://world-en.openfoodfacts.org/product/0011110739322/peanut-butter-creamy assigned to France could be founded in another country like USA as it is made by Kroger https://fr.wikipedia.org/wiki/Kroger.\n",
    "\n",
    "<img src=\"https://static.openfoodfacts.org/images/products/001/111/073/9322/front_fr.4.400.jpg\"></img><br>\n",
    "\n",
    "Most probably this product is being sold in France and had been repertoried as French's product. But we could be sure that this peanut butter is sold in USA too, maybe in a different product's name.\n",
    "\n",
    "So far we can conclude that this field country has to be used with precaution."
   ]
  },
  {
   "cell_type": "markdown",
   "metadata": {},
   "source": [
    "### Country MAP "
   ]
  },
  {
   "cell_type": "markdown",
   "metadata": {},
   "source": [
    "Even if **Country** information are not well structured, we may proceed with some cleaning activities. \n",
    "\n",
    "For this purpose, we tried to create a **Country Map** with folium, we propose the following steps:\n",
    "- Load a files containing a list of countries and iso three letter code\n",
    "- Cleaning/Parsing the country Name from openFoodFacts, if required some synonyms have to be identified. (we may research if a synonmy's list could be founded. at this stage, for this exercise, we decided to create our own list)\n",
    "- Mapping the normalized country with a proper country name\n",
    "- Showing a folium Map and mapping the value through iso 3 letter codes and retrieving the percentage accordingly"
   ]
  },
  {
   "cell_type": "markdown",
   "metadata": {},
   "source": [
    "#### Functions for MAP"
   ]
  },
  {
   "cell_type": "code",
   "execution_count": 18,
   "metadata": {},
   "outputs": [],
   "source": [
    "def get_country_synonym(country_name):\n",
    "    \n",
    "    if (country_name=='United States of America'):\n",
    "        return 'United States'\n",
    "    \n",
    "    #### If there is multiple countries, we only select the first one\n",
    "    tmpComma = country_name.find(',')    \n",
    "    if (tmpComma > 0):\n",
    "        return str(country_name[:tmpComma]).strip()\n",
    "    \n",
    "    return country_name\n",
    "    \n",
    "    "
   ]
  },
  {
   "cell_type": "code",
   "execution_count": 19,
   "metadata": {},
   "outputs": [],
   "source": [
    "def get_percentage_from_country(country_name, df_countries):\n",
    "    try:\n",
    "        country_name = get_country_synonym(country_name)\n",
    "        perc = df_countries.loc[country_name]['percentage']\n",
    "        return float(perc)\n",
    "    \n",
    "    except:\n",
    "        return float(0)\n",
    "        pass"
   ]
  },
  {
   "cell_type": "code",
   "execution_count": 20,
   "metadata": {},
   "outputs": [],
   "source": [
    "def get_country_map_color(country_code3):\n",
    "    \n",
    "    #### Get Country Name from df_countries\n",
    "    country_name = df_countries.loc[country_code3]['NAME']    \n",
    "    perc = get_percentage_from_country(country_name, df_10_countries_en)\n",
    "     \n",
    "    if (perc == 0):\n",
    "        color = '#000000'\n",
    "    elif (perc<10):\n",
    "        color = '#D1E2F3'\n",
    "    elif (perc<20):\n",
    "        color = '#83B6D5'\n",
    "    elif (perc<30):\n",
    "        color = '#3074B0'\n",
    "    elif (perc<40):\n",
    "        color = '#1A519C'\n",
    "    elif(perc>=40):\n",
    "        color = '#0B143D'\n",
    "    \n",
    "    if (perc>0):\n",
    "        print('Country_code3:' + country_code3 + '-' + country_name + ' - perc:' + str(perc) + 'color:' + color)\n",
    "   \n",
    "    return color"
   ]
  },
  {
   "cell_type": "markdown",
   "metadata": {},
   "source": [
    "Load a list of all countries"
   ]
  },
  {
   "cell_type": "code",
   "execution_count": 21,
   "metadata": {},
   "outputs": [
    {
     "data": {
      "text/html": [
       "<div>\n",
       "<style scoped>\n",
       "    .dataframe tbody tr th:only-of-type {\n",
       "        vertical-align: middle;\n",
       "    }\n",
       "\n",
       "    .dataframe tbody tr th {\n",
       "        vertical-align: top;\n",
       "    }\n",
       "\n",
       "    .dataframe thead th {\n",
       "        text-align: right;\n",
       "    }\n",
       "</style>\n",
       "<table border=\"1\" class=\"dataframe\">\n",
       "  <thead>\n",
       "    <tr style=\"text-align: right;\">\n",
       "      <th></th>\n",
       "      <th>NAME</th>\n",
       "      <th>CODE2</th>\n",
       "      <th>CODEN</th>\n",
       "    </tr>\n",
       "    <tr>\n",
       "      <th>CODE3</th>\n",
       "      <th></th>\n",
       "      <th></th>\n",
       "      <th></th>\n",
       "    </tr>\n",
       "  </thead>\n",
       "  <tbody>\n",
       "    <tr>\n",
       "      <th>AFG</th>\n",
       "      <td>Afghanistan</td>\n",
       "      <td>AF</td>\n",
       "      <td>4</td>\n",
       "    </tr>\n",
       "    <tr>\n",
       "      <th>ALA</th>\n",
       "      <td>Aland Islands</td>\n",
       "      <td>AX</td>\n",
       "      <td>248</td>\n",
       "    </tr>\n",
       "    <tr>\n",
       "      <th>ALB</th>\n",
       "      <td>Albania</td>\n",
       "      <td>AL</td>\n",
       "      <td>8</td>\n",
       "    </tr>\n",
       "    <tr>\n",
       "      <th>DZA</th>\n",
       "      <td>Algeria</td>\n",
       "      <td>DZ</td>\n",
       "      <td>12</td>\n",
       "    </tr>\n",
       "    <tr>\n",
       "      <th>ASM</th>\n",
       "      <td>American Samoa</td>\n",
       "      <td>AS</td>\n",
       "      <td>16</td>\n",
       "    </tr>\n",
       "  </tbody>\n",
       "</table>\n",
       "</div>"
      ],
      "text/plain": [
       "                 NAME CODE2  CODEN\n",
       "CODE3                             \n",
       "AFG       Afghanistan    AF      4\n",
       "ALA     Aland Islands    AX    248\n",
       "ALB           Albania    AL      8\n",
       "DZA           Algeria    DZ     12\n",
       "ASM    American Samoa    AS     16"
      ]
     },
     "execution_count": 21,
     "metadata": {},
     "output_type": "execute_result"
    }
   ],
   "source": [
    "df_countries = pd.read_csv(data_path + 'countries_list.csv', sep=\";\", low_memory=False, skiprows=0)  \n",
    "df_countries.set_index(\"CODE3\", inplace=True)\n",
    "df_countries.head(5)"
   ]
  },
  {
   "cell_type": "code",
   "execution_count": 22,
   "metadata": {},
   "outputs": [],
   "source": [
    "df_10_countries_en.set_index('countries_en', inplace=True)"
   ]
  },
  {
   "cell_type": "markdown",
   "metadata": {},
   "source": [
    "Load JSON files with all countries (identifier is iso3lettercode) and show MAP"
   ]
  },
  {
   "cell_type": "code",
   "execution_count": 23,
   "metadata": {},
   "outputs": [],
   "source": [
    "##### Load Json File\n",
    "geo_json_data = json.load(open(data_path + 'country.json'))\n",
    "#geo_json_data"
   ]
  },
  {
   "cell_type": "markdown",
   "metadata": {},
   "source": [
    "**Show Map**\n",
    "Please notice that if the map is not shown and if you don't want/can reload the notebook, that there is an export saved in image , just after this section.\n"
   ]
  },
  {
   "cell_type": "code",
   "execution_count": 24,
   "metadata": {},
   "outputs": [
    {
     "name": "stdout",
     "output_type": "stream",
     "text": [
      "\n",
      "Top Largest Country per percentage of product\n",
      "\n",
      "\n",
      "Country_code3:BEL-Belgium - perc:0.7789002966540591color:#D1E2F3\n",
      "Country_code3:CHE-Switzerland - perc:1.986936658049712color:#D1E2F3\n",
      "Country_code3:DEU-Germany - perc:1.7061276228649565color:#D1E2F3\n",
      "Country_code3:ESP-Spain - perc:0.8955372783530565color:#D1E2F3\n",
      "Country_code3:FRA-France - perc:60.14521671004487color:#0B143D\n",
      "Country_code3:GBR-United Kingdom - perc:0.8279025002860907color:#D1E2F3\n",
      "Country_code3:USA-United States of America - perc:25.4538572363344color:#3074B0\n"
     ]
    },
    {
     "data": {
      "text/html": [
       "<div style=\"width:100%;\"><div style=\"position:relative;width:100%;height:0;padding-bottom:60%;\"><iframe src=\"data:text/html;charset=utf-8;base64,PCFET0NUWVBFIGh0bWw+CjxoZWFkPiAgICAKICAgIDxtZXRhIGh0dHAtZXF1aXY9ImNvbnRlbnQtdHlwZSIgY29udGVudD0idGV4dC9odG1sOyBjaGFyc2V0PVVURi04IiAvPgogICAgPHNjcmlwdD5MX1BSRUZFUl9DQU5WQVM9ZmFsc2U7IExfTk9fVE9VQ0g9ZmFsc2U7IExfRElTQUJMRV8zRD1mYWxzZTs8L3NjcmlwdD4KICAgIDxzY3JpcHQgc3JjPSJodHRwczovL2Nkbi5qc2RlbGl2ci5uZXQvbnBtL2xlYWZsZXRAMS4yLjAvZGlzdC9sZWFmbGV0LmpzIj48L3NjcmlwdD4KICAgIDxzY3JpcHQgc3JjPSJodHRwczovL2FqYXguZ29vZ2xlYXBpcy5jb20vYWpheC9saWJzL2pxdWVyeS8xLjExLjEvanF1ZXJ5Lm1pbi5qcyI+PC9zY3JpcHQ+CiAgICA8c2NyaXB0IHNyYz0iaHR0cHM6Ly9tYXhjZG4uYm9vdHN0cmFwY2RuLmNvbS9ib290c3RyYXAvMy4yLjAvanMvYm9vdHN0cmFwLm1pbi5qcyI+PC9zY3JpcHQ+CiAgICA8c2NyaXB0IHNyYz0iaHR0cHM6Ly9jZG5qcy5jbG91ZGZsYXJlLmNvbS9hamF4L2xpYnMvTGVhZmxldC5hd2Vzb21lLW1hcmtlcnMvMi4wLjIvbGVhZmxldC5hd2Vzb21lLW1hcmtlcnMuanMiPjwvc2NyaXB0PgogICAgPGxpbmsgcmVsPSJzdHlsZXNoZWV0IiBocmVmPSJodHRwczovL2Nkbi5qc2RlbGl2ci5uZXQvbnBtL2xlYWZsZXRAMS4yLjAvZGlzdC9sZWFmbGV0LmNzcyIvPgogICAgPGxpbmsgcmVsPSJzdHlsZXNoZWV0IiBocmVmPSJodHRwczovL21heGNkbi5ib290c3RyYXBjZG4uY29tL2Jvb3RzdHJhcC8zLjIuMC9jc3MvYm9vdHN0cmFwLm1pbi5jc3MiLz4KICAgIDxsaW5rIHJlbD0ic3R5bGVzaGVldCIgaHJlZj0iaHR0cHM6Ly9tYXhjZG4uYm9vdHN0cmFwY2RuLmNvbS9ib290c3RyYXAvMy4yLjAvY3NzL2Jvb3RzdHJhcC10aGVtZS5taW4uY3NzIi8+CiAgICA8bGluayByZWw9InN0eWxlc2hlZXQiIGhyZWY9Imh0dHBzOi8vbWF4Y2RuLmJvb3RzdHJhcGNkbi5jb20vZm9udC1hd2Vzb21lLzQuNi4zL2Nzcy9mb250LWF3ZXNvbWUubWluLmNzcyIvPgogICAgPGxpbmsgcmVsPSJzdHlsZXNoZWV0IiBocmVmPSJodHRwczovL2NkbmpzLmNsb3VkZmxhcmUuY29tL2FqYXgvbGlicy9MZWFmbGV0LmF3ZXNvbWUtbWFya2Vycy8yLjAuMi9sZWFmbGV0LmF3ZXNvbWUtbWFya2Vycy5jc3MiLz4KICAgIDxsaW5rIHJlbD0ic3R5bGVzaGVldCIgaHJlZj0iaHR0cHM6Ly9yYXdnaXQuY29tL3B5dGhvbi12aXN1YWxpemF0aW9uL2ZvbGl1bS9tYXN0ZXIvZm9saXVtL3RlbXBsYXRlcy9sZWFmbGV0LmF3ZXNvbWUucm90YXRlLmNzcyIvPgogICAgPHN0eWxlPmh0bWwsIGJvZHkge3dpZHRoOiAxMDAlO2hlaWdodDogMTAwJTttYXJnaW46IDA7cGFkZGluZzogMDt9PC9zdHlsZT4KICAgIDxzdHlsZT4jbWFwIHtwb3NpdGlvbjphYnNvbHV0ZTt0b3A6MDtib3R0b206MDtyaWdodDowO2xlZnQ6MDt9PC9zdHlsZT4KICAgIAogICAgPHN0eWxlPiNtYXBfZWU3ZWIxNmI2OWFjNDc2NDk5MjI3MDVjN2U0NDc1YTcgewogICAgICAgIHBvc2l0aW9uOiByZWxhdGl2ZTsKICAgICAgICB3aWR0aDogMTAwLjAlOwogICAgICAgIGhlaWdodDogMTAwLjAlOwogICAgICAgIGxlZnQ6IDAuMCU7CiAgICAgICAgdG9wOiAwLjAlOwogICAgICAgIH0KICAgIDwvc3R5bGU+CjwvaGVhZD4KPGJvZHk+ICAgIAogICAgCiAgICA8ZGl2IGNsYXNzPSJmb2xpdW0tbWFwIiBpZD0ibWFwX2VlN2ViMTZiNjlhYzQ3NjQ5OTIyNzA1YzdlNDQ3NWE3IiA+PC9kaXY+CjwvYm9keT4KPHNjcmlwdD4gICAgCiAgICAKICAgIAogICAgICAgIHZhciBib3VuZHMgPSBudWxsOwogICAgCgogICAgdmFyIG1hcF9lZTdlYjE2YjY5YWM0NzY0OTkyMjcwNWM3ZTQ0NzVhNyA9IEwubWFwKAogICAgICAgICdtYXBfZWU3ZWIxNmI2OWFjNDc2NDk5MjI3MDVjN2U0NDc1YTcnLCB7CiAgICAgICAgY2VudGVyOiBbNDYsIDhdLAogICAgICAgIHpvb206IDIsCiAgICAgICAgbWF4Qm91bmRzOiBib3VuZHMsCiAgICAgICAgbGF5ZXJzOiBbXSwKICAgICAgICB3b3JsZENvcHlKdW1wOiBmYWxzZSwKICAgICAgICBjcnM6IEwuQ1JTLkVQU0czODU3LAogICAgICAgIHpvb21Db250cm9sOiB0cnVlLAogICAgICAgIH0pOwoKICAgIAogICAgCiAgICB2YXIgdGlsZV9sYXllcl81NmUxN2U2NDA3ODI0MzkzYWRlN2ZhMGRiODk0OWFkNSA9IEwudGlsZUxheWVyKAogICAgICAgICdodHRwczovL2NhcnRvZGItYmFzZW1hcHMte3N9Lmdsb2JhbC5zc2wuZmFzdGx5Lm5ldC9saWdodF9hbGwve3p9L3t4fS97eX0ucG5nJywKICAgICAgICB7CiAgICAgICAgImF0dHJpYnV0aW9uIjogbnVsbCwKICAgICAgICAiZGV0ZWN0UmV0aW5hIjogZmFsc2UsCiAgICAgICAgIm1heE5hdGl2ZVpvb20iOiAxOCwKICAgICAgICAibWF4Wm9vbSI6IDE4LAogICAgICAgICJtaW5ab29tIjogMCwKICAgICAgICAibm9XcmFwIjogZmFsc2UsCiAgICAgICAgInN1YmRvbWFpbnMiOiAiYWJjIgp9KS5hZGRUbyhtYXBfZWU3ZWIxNmI2OWFjNDc2NDk5MjI3MDVjN2U0NDc1YTcpOwogICAgCiAgICAgICAgCiAgICAgICAgdmFyIGdlb19qc29uXzk2YzNjODVhNjVjZDQ0N2E5Njg4YWZhNTg0MzkzMmUxID0gTC5nZW9Kc29uKAogICAgICAgICAgICB7ImZlYXR1cmVzIjogW3siZ2VvbWV0cnkiOiB7ImNvb3JkaW5hdGVzIjogW1tbNjEuMjEwODE3LCAzNS42NTAwNzJdLCBbNjIuMjMwNjUxLCAzNS4yNzA2NjRdLCBbNjIuOTg0NjYyLCAzNS40MDQwNDFdLCBbNjMuMTkzNTM4LCAzNS44NTcxNjZdLCBbNjMuOTgyODk2LCAzNi4wMDc5NTddLCBbNjQuNTQ2NDc5LCAzNi4zMTIwNzNdLCBbNjQuNzQ2MTA1LCAzNy4xMTE4MThdLCBbNjUuNTg4OTQ4LCAzNy4zMDUyMTddLCBbNjUuNzQ1NjMxLCAzNy42NjExNjRdLCBbNjYuMjE3Mzg1LCAzNy4zOTM3OV0sIFs2Ni41MTg2MDcsIDM3LjM2Mjc4NF0sIFs2Ny4wNzU3ODIsIDM3LjM1NjE0NF0sIFs2Ny44MywgMzcuMTQ0OTk0XSwgWzY4LjEzNTU2MiwgMzcuMDIzMTE1XSwgWzY4Ljg1OTQ0NiwgMzcuMzQ0MzM2XSwgWzY5LjE5NjI3MywgMzcuMTUxMTQ0XSwgWzY5LjUxODc4NSwgMzcuNjA4OTk3XSwgWzcwLjExNjU3OCwgMzcuNTg4MjIzXSwgWzcwLjI3MDU3NCwgMzcuNzM1MTY1XSwgWzcwLjM3NjMwNCwgMzguMTM4Mzk2XSwgWzcwLjgwNjgyMSwgMzguNDg2MjgyXSwgWzcxLjM0ODEzMSwgMzguMjU4OTA1XSwgWzcxLjIzOTQwNCwgMzcuOTUzMjY1XSwgWzcxLjU0MTkxOCwgMzcuOTA1Nzc0XSwgWzcxLjQ0ODY5MywgMzcuMDY1NjQ1XSwgWzcxLjg0NDYzOCwgMzYuNzM4MTcxXSwgWzcyLjE5MzA0MSwgMzYuOTQ4Mjg4XSwgWzcyLjYzNjg5LCAzNy4wNDc1NThdLCBbNzMuMjYwMDU2LCAzNy40OTUyNTddLCBbNzMuOTQ4Njk2LCAzNy40MjE1NjZdLCBbNzQuOTgwMDAyLCAzNy40MTk5OV0sIFs3NS4xNTgwMjgsIDM3LjEzMzAzMV0sIFs3NC41NzU4OTMsIDM3LjAyMDg0MV0sIFs3NC4wNjc1NTIsIDM2LjgzNjE3Nl0sIFs3Mi45MjAwMjUsIDM2LjcyMDAwN10sIFs3MS44NDYyOTIsIDM2LjUwOTk0Ml0sIFs3MS4yNjIzNDgsIDM2LjA3NDM4OF0sIFs3MS40OTg3NjgsIDM1LjY1MDU2M10sIFs3MS42MTMwNzYsIDM1LjE1MzIwM10sIFs3MS4xMTUwMTksIDM0LjczMzEyNl0sIFs3MS4xNTY3NzMsIDM0LjM0ODkxMV0sIFs3MC44ODE4MDMsIDMzLjk4ODg1Nl0sIFs2OS45MzA1NDMsIDM0LjAyMDEyXSwgWzcwLjMyMzU5NCwgMzMuMzU4NTMzXSwgWzY5LjY4NzE0NywgMzMuMTA1NDk5XSwgWzY5LjI2MjUyMiwgMzIuNTAxOTQ0XSwgWzY5LjMxNzc2NCwgMzEuOTAxNDEyXSwgWzY4LjkyNjY3NywgMzEuNjIwMTg5XSwgWzY4LjU1NjkzMiwgMzEuNzEzMzFdLCBbNjcuNzkyNjg5LCAzMS41ODI5M10sIFs2Ny42ODMzOTQsIDMxLjMwMzE1NF0sIFs2Ni45Mzg4OTEsIDMxLjMwNDkxMV0sIFs2Ni4zODE0NTgsIDMwLjczODg5OV0sIFs2Ni4zNDY0NzMsIDI5Ljg4Nzk0M10sIFs2NS4wNDY4NjIsIDI5LjQ3MjE4MV0sIFs2NC4zNTA0MTksIDI5LjU2MDAzMV0sIFs2NC4xNDgwMDIsIDI5LjM0MDgxOV0sIFs2My41NTAyNjEsIDI5LjQ2ODMzMV0sIFs2Mi41NDk4NTcsIDI5LjMxODU3Ml0sIFs2MC44NzQyNDgsIDI5LjgyOTIzOV0sIFs2MS43ODEyMjIsIDMwLjczNTg1XSwgWzYxLjY5OTMxNCwgMzEuMzc5NTA2XSwgWzYwLjk0MTk0NSwgMzEuNTQ4MDc1XSwgWzYwLjg2MzY1NSwgMzIuMTgyOTJdLCBbNjAuNTM2MDc4LCAzMi45ODEyNjldLCBbNjAuOTYzNywgMzMuNTI4ODMyXSwgWzYwLjUyODQzLCAzMy42NzY0NDZdLCBbNjAuODAzMTkzLCAzNC40MDQxMDJdLCBbNjEuMjEwODE3LCAzNS42NTAwNzJdXV0sICJ0eXBlIjogIlBvbHlnb24ifSwgImlkIjogIkFGRyIsICJwcm9wZXJ0aWVzIjogeyJoaWdobGlnaHQiOiB7fSwgIm5hbWUiOiAiQWZnaGFuaXN0YW4iLCAic3R5bGUiOiB7ImNvbG9yIjogImdyYXkiLCAiZGFzaEFycmF5IjogIjEsIDEiLCAiZmlsbENvbG9yIjogIiMwMDAwMDAiLCAibGluZU9wYWNpdHkiOiAwLjksICJ3ZWlnaHQiOiAxfX0sICJ0eXBlIjogIkZlYXR1cmUifSwgeyJnZW9tZXRyeSI6IHsiY29vcmRpbmF0ZXMiOiBbW1tbMTYuMzI2NTI4LCAtNS44Nzc0N10sIFsxNi41NzMxOCwgLTYuNjIyNjQ1XSwgWzE2Ljg2MDE5MSwgLTcuMjIyMjk4XSwgWzE3LjA4OTk5NiwgLTcuNTQ1Njg5XSwgWzE3LjQ3Mjk3LCAtOC4wNjg1NTFdLCBbMTguMTM0MjIyLCAtNy45ODc2NzhdLCBbMTguNDY0MTc2LCAtNy44NDcwMTRdLCBbMTkuMDE2NzUyLCAtNy45ODgyNDZdLCBbMTkuMTY2NjEzLCAtNy43MzgxODRdLCBbMTkuNDE3NTAyLCAtNy4xNTU0MjldLCBbMjAuMDM3NzIzLCAtNy4xMTYzNjFdLCBbMjAuMDkxNjIyLCAtNi45NDMwOV0sIFsyMC42MDE4MjMsIC02LjkzOTMxOF0sIFsyMC41MTQ3NDgsIC03LjI5OTYwNl0sIFsyMS43MjgxMTEsIC03LjI5MDg3Ml0sIFsyMS43NDY0NTYsIC03LjkyMDA4NV0sIFsyMS45NDkxMzEsIC04LjMwNTkwMV0sIFsyMS44MDE4MDEsIC04LjkwODcwN10sIFsyMS44NzUxODIsIC05LjUyMzcwOF0sIFsyMi4yMDg3NTMsIC05Ljg5NDc5Nl0sIFsyMi4xNTUyNjgsIC0xMS4wODQ4MDFdLCBbMjIuNDAyNzk4LCAtMTAuOTkzMDc1XSwgWzIyLjgzNzM0NSwgLTExLjAxNzYyMl0sIFsyMy40NTY3OTEsIC0xMC44Njc4NjNdLCBbMjMuOTEyMjE1LCAtMTAuOTI2ODI2XSwgWzI0LjAxNzg5NCwgLTExLjIzNzI5OF0sIFsyMy45MDQxNTQsIC0xMS43MjIyODJdLCBbMjQuMDc5OTA1LCAtMTIuMTkxMjk3XSwgWzIzLjkzMDkyMiwgLTEyLjU2NTg0OF0sIFsyNC4wMTYxMzcsIC0xMi45MTEwNDZdLCBbMjEuOTMzODg2LCAtMTIuODk4NDM3XSwgWzIxLjg4Nzg0MywgLTE2LjA4MDMxXSwgWzIyLjU2MjQ3OCwgLTE2Ljg5ODQ1MV0sIFsyMy4yMTUwNDgsIC0xNy41MjMxMTZdLCBbMjEuMzc3MTc2LCAtMTcuOTMwNjM2XSwgWzE4Ljk1NjE4NywgLTE3Ljc4OTA5NV0sIFsxOC4yNjMzMDksIC0xNy4zMDk5NTFdLCBbMTQuMjA5NzA3LCAtMTcuMzUzMTAxXSwgWzE0LjA1ODUwMSwgLTE3LjQyMzM4MV0sIFsxMy40NjIzNjIsIC0xNi45NzEyMTJdLCBbMTIuODE0MDgxLCAtMTYuOTQxMzQzXSwgWzEyLjIxNTQ2MSwgLTE3LjExMTY2OF0sIFsxMS43MzQxOTksIC0xNy4zMDE4ODldLCBbMTEuNjQwMDk2LCAtMTYuNjczMTQyXSwgWzExLjc3ODUzNywgLTE1Ljc5MzgxNl0sIFsxMi4xMjM1ODEsIC0xNC44NzgzMTZdLCBbMTIuMTc1NjE5LCAtMTQuNDQ5MTQ0XSwgWzEyLjUwMDA5NSwgLTEzLjU0NzddLCBbMTIuNzM4NDc5LCAtMTMuMTM3OTA2XSwgWzEzLjMxMjkxNCwgLTEyLjQ4MzYzXSwgWzEzLjYzMzcyMSwgLTEyLjAzODY0NV0sIFsxMy43Mzg3MjgsIC0xMS4yOTc4NjNdLCBbMTMuNjg2Mzc5LCAtMTAuNzMxMDc2XSwgWzEzLjM4NzMyOCwgLTEwLjM3MzU3OF0sIFsxMy4xMjA5ODgsIC05Ljc2Njg5N10sIFsxMi44NzUzNywgLTkuMTY2OTM0XSwgWzEyLjkyOTA2MSwgLTguOTU5MDkxXSwgWzEzLjIzNjQzMywgLTguNTYyNjI5XSwgWzEyLjkzMzA0LCAtNy41OTY1MzldLCBbMTIuNzI4Mjk4LCAtNi45MjcxMjJdLCBbMTIuMjI3MzQ3LCAtNi4yOTQ0NDhdLCBbMTIuMzIyNDMyLCAtNi4xMDAwOTJdLCBbMTIuNzM1MTcxLCAtNS45NjU2ODJdLCBbMTMuMDI0ODY5LCAtNS45ODQzODldLCBbMTMuMzc1NTk3LCAtNS44NjQyNDFdLCBbMTYuMzI2NTI4LCAtNS44Nzc0N11dXSwgW1tbMTIuNDM2Njg4LCAtNS42ODQzMDRdLCBbMTIuMTgyMzM3LCAtNS43ODk5MzFdLCBbMTEuOTE0OTYzLCAtNS4wMzc5ODddLCBbMTIuMzE4NjA4LCAtNC42MDYyM10sIFsxMi42MjA3NiwgLTQuNDM4MDIzXSwgWzEyLjk5NTUxNywgLTQuNzgxMTAzXSwgWzEyLjYzMTYxMiwgLTQuOTkxMjcxXSwgWzEyLjQ2ODAwNCwgLTUuMjQ4MzYyXSwgWzEyLjQzNjY4OCwgLTUuNjg0MzA0XV1dXSwgInR5cGUiOiAiTXVsdGlQb2x5Z29uIn0sICJpZCI6ICJBR08iLCAicHJvcGVydGllcyI6IHsiaGlnaGxpZ2h0Ijoge30sICJuYW1lIjogIkFuZ29sYSIsICJzdHlsZSI6IHsiY29sb3IiOiAiZ3JheSIsICJkYXNoQXJyYXkiOiAiMSwgMSIsICJmaWxsQ29sb3IiOiAiIzAwMDAwMCIsICJsaW5lT3BhY2l0eSI6IDAuOSwgIndlaWdodCI6IDF9fSwgInR5cGUiOiAiRmVhdHVyZSJ9LCB7Imdlb21ldHJ5IjogeyJjb29yZGluYXRlcyI6IFtbWzIwLjU5MDI0NywgNDEuODU1NDA0XSwgWzIwLjQ2MzE3NSwgNDEuNTE1MDg5XSwgWzIwLjYwNTE4MiwgNDEuMDg2MjI2XSwgWzIxLjAyMDA0LCA0MC44NDI3MjddLCBbMjAuOTk5OTksIDQwLjU4MDAwNF0sIFsyMC42NzQ5OTcsIDQwLjQzNV0sIFsyMC42MTUsIDQwLjExMDAwN10sIFsyMC4xNTAwMTYsIDM5LjYyNDk5OF0sIFsxOS45OCwgMzkuNjk0OTkzXSwgWzE5Ljk2MDAwMiwgMzkuOTE1MDA2XSwgWzE5LjQwNjA4MiwgNDAuMjUwNzczXSwgWzE5LjMxOTA1OSwgNDAuNzI3MjNdLCBbMTkuNDAzNTUsIDQxLjQwOTU2Nl0sIFsxOS41NDAwMjcsIDQxLjcxOTk4Nl0sIFsxOS4zNzE3NjksIDQxLjg3NzU0OF0sIFsxOS4zMDQ0ODYsIDQyLjE5NTc0NV0sIFsxOS43MzgwNTEsIDQyLjY4ODI0N10sIFsxOS44MDE2MTMsIDQyLjUwMDA5M10sIFsyMC4wNzA3LCA0Mi41ODg2M10sIFsyMC4yODM3NTUsIDQyLjMyMDI2XSwgWzIwLjUyMjk1LCA0Mi4yMTc4N10sIFsyMC41OTAyNDcsIDQxLjg1NTQwNF1dXSwgInR5cGUiOiAiUG9seWdvbiJ9LCAiaWQiOiAiQUxCIiwgInByb3BlcnRpZXMiOiB7ImhpZ2hsaWdodCI6IHt9LCAibmFtZSI6ICJBbGJhbmlhIiwgInN0eWxlIjogeyJjb2xvciI6ICJncmF5IiwgImRhc2hBcnJheSI6ICIxLCAxIiwgImZpbGxDb2xvciI6ICIjMDAwMDAwIiwgImxpbmVPcGFjaXR5IjogMC45LCAid2VpZ2h0IjogMX19LCAidHlwZSI6ICJGZWF0dXJlIn0sIHsiZ2VvbWV0cnkiOiB7ImNvb3JkaW5hdGVzIjogW1tbNTEuNTc5NTE5LCAyNC4yNDU0OTddLCBbNTEuNzU3NDQxLCAyNC4yOTQwNzNdLCBbNTEuNzk0Mzg5LCAyNC4wMTk4MjZdLCBbNTIuNTc3MDgxLCAyNC4xNzc0MzldLCBbNTMuNDA0MDA3LCAyNC4xNTEzMTddLCBbNTQuMDA4MDAxLCAyNC4xMjE3NThdLCBbNTQuNjkzMDI0LCAyNC43OTc4OTJdLCBbNTUuNDM5MDI1LCAyNS40MzkxNDVdLCBbNTYuMDcwODIxLCAyNi4wNTU0NjRdLCBbNTYuMjYxMDQyLCAyNS43MTQ2MDZdLCBbNTYuMzk2ODQ3LCAyNC45MjQ3MzJdLCBbNTUuODg2MjMzLCAyNC45MjA4MzFdLCBbNTUuODA0MTE5LCAyNC4yNjk2MDRdLCBbNTUuOTgxMjE0LCAyNC4xMzA1NDNdLCBbNTUuNTI4NjMyLCAyMy45MzM2MDRdLCBbNTUuNTI1ODQxLCAyMy41MjQ4NjldLCBbNTUuMjM0NDg5LCAyMy4xMTA5OTNdLCBbNTUuMjA4MzQxLCAyMi43MDgzM10sIFs1NS4wMDY4MDMsIDIyLjQ5Njk0OF0sIFs1Mi4wMDA3MzMsIDIzLjAwMTE1NF0sIFs1MS42MTc3MDgsIDI0LjAxNDIxOV0sIFs1MS41Nzk1MTksIDI0LjI0NTQ5N11dXSwgInR5cGUiOiAiUG9seWdvbiJ9LCAiaWQiOiAiQVJFIiwgInByb3BlcnRpZXMiOiB7ImhpZ2hsaWdodCI6IHt9LCAibmFtZSI6ICJVbml0ZWQgQXJhYiBFbWlyYXRlcyIsICJzdHlsZSI6IHsiY29sb3IiOiAiZ3JheSIsICJkYXNoQXJyYXkiOiAiMSwgMSIsICJmaWxsQ29sb3IiOiAiIzAwMDAwMCIsICJsaW5lT3BhY2l0eSI6IDAuOSwgIndlaWdodCI6IDF9fSwgInR5cGUiOiAiRmVhdHVyZSJ9LCB7Imdlb21ldHJ5IjogeyJjb29yZGluYXRlcyI6IFtbW1stNjUuNSwgLTU1LjJdLCBbLTY2LjQ1LCAtNTUuMjVdLCBbLTY2Ljk1OTkyLCAtNTQuODk2ODFdLCBbLTY3LjU2MjQ0LCAtNTQuODcwMDFdLCBbLTY4LjYzMzM1LCAtNTQuODY5NV0sIFstNjguNjM0MDEsIC01Mi42MzYzN10sIFstNjguMjUsIC01My4xXSwgWy02Ny43NSwgLTUzLjg1XSwgWy02Ni40NSwgLTU0LjQ1XSwgWy02NS4wNSwgLTU0LjddLCBbLTY1LjUsIC01NS4yXV1dLCBbW1stNjQuOTY0ODkyLCAtMjIuMDc1ODYyXSwgWy02NC4zNzcwMjEsIC0yMi43OTgwOTFdLCBbLTYzLjk4NjgzOCwgLTIxLjk5MzY0NF0sIFstNjIuODQ2NDY4LCAtMjIuMDM0OTg1XSwgWy02Mi42ODUwNTcsIC0yMi4yNDkwMjldLCBbLTYwLjg0NjU2NSwgLTIzLjg4MDcxM10sIFstNjAuMDI4OTY2LCAtMjQuMDMyNzk2XSwgWy01OC44MDcxMjgsIC0yNC43NzE0NTldLCBbLTU3Ljc3NzIxNywgLTI1LjE2MjM0XSwgWy01Ny42MzM2NiwgLTI1LjYwMzY1N10sIFstNTguNjE4MTc0LCAtMjcuMTIzNzE5XSwgWy01Ny42MDk3NiwgLTI3LjM5NTg5OV0sIFstNTYuNDg2NzAyLCAtMjcuNTQ4NDk5XSwgWy01NS42OTU4NDYsIC0yNy4zODc4MzddLCBbLTU0Ljc4ODc5NSwgLTI2LjYyMTc4Nl0sIFstNTQuNjI1MjkxLCAtMjUuNzM5MjU1XSwgWy01NC4xMzAwNSwgLTI1LjU0NzYzOV0sIFstNTMuNjI4MzQ5LCAtMjYuMTI0ODY1XSwgWy01My42NDg3MzUsIC0yNi45MjM0NzNdLCBbLTU0LjQ5MDcyNSwgLTI3LjQ3NDc1N10sIFstNTUuMTYyMjg2LCAtMjcuODgxOTE1XSwgWy01Ni4yOTA5LCAtMjguODUyNzYxXSwgWy01Ny42MjUxMzMsIC0zMC4yMTYyOTVdLCBbLTU3Ljg3NDkzNywgLTMxLjAxNjU1Nl0sIFstNTguMTQyNDQsIC0zMi4wNDQ1MDRdLCBbLTU4LjEzMjY0OCwgLTMzLjA0MDU2N10sIFstNTguMzQ5NjExLCAtMzMuMjYzMTg5XSwgWy01OC40MjcwNzQsIC0zMy45MDk0NTRdLCBbLTU4LjQ5NTQ0MiwgLTM0LjQzMTQ5XSwgWy01Ny4yMjU4MywgLTM1LjI4ODAyN10sIFstNTcuMzYyMzU5LCAtMzUuOTc3MzldLCBbLTU2LjczNzQ4NywgLTM2LjQxMzEyNl0sIFstNTYuNzg4Mjg1LCAtMzYuOTAxNTcyXSwgWy01Ny43NDkxNTcsIC0zOC4xODM4NzFdLCBbLTU5LjIzMTg1NywgLTM4LjcyMDIyXSwgWy02MS4yMzc0NDUsIC0zOC45Mjg0MjVdLCBbLTYyLjMzNTk1NywgLTM4LjgyNzcwN10sIFstNjIuMTI1NzYzLCAtMzkuNDI0MTA1XSwgWy02Mi4zMzA1MzEsIC00MC4xNzI1ODZdLCBbLTYyLjE0NTk5NCwgLTQwLjY3Njg5N10sIFstNjIuNzQ1ODAzLCAtNDEuMDI4NzYxXSwgWy02My43NzA0OTUsIC00MS4xNjY3ODldLCBbLTY0LjczMjA5LCAtNDAuODAyNjc3XSwgWy02NS4xMTgwMzUsIC00MS4wNjQzMTVdLCBbLTY0Ljk3ODU2MSwgLTQyLjA1ODAwMV0sIFstNjQuMzAzNDA4LCAtNDIuMzU5MDE2XSwgWy02My43NTU5NDgsIC00Mi4wNDM2ODddLCBbLTYzLjQ1ODA1OSwgLTQyLjU2MzEzOF0sIFstNjQuMzc4ODA0LCAtNDIuODczNTU4XSwgWy02NS4xODE4MDQsIC00My40OTUzODFdLCBbLTY1LjMyODgyMywgLTQ0LjUwMTM2Nl0sIFstNjUuNTY1MjY5LCAtNDUuMDM2Nzg2XSwgWy02Ni41MDk5NjYsIC00NS4wMzk2MjhdLCBbLTY3LjI5Mzc5NCwgLTQ1LjU1MTg5Nl0sIFstNjcuNTgwNTQ2LCAtNDYuMzAxNzczXSwgWy02Ni41OTcwNjYsIC00Ny4wMzM5MjVdLCBbLTY1LjY0MTAyNywgLTQ3LjIzNjEzNV0sIFstNjUuOTg1MDg4LCAtNDguMTMzMjg5XSwgWy02Ny4xNjYxNzksIC00OC42OTczMzddLCBbLTY3LjgxNjA4OCwgLTQ5Ljg2OTY2OV0sIFstNjguNzI4NzQ1LCAtNTAuMjY0MjE4XSwgWy02OS4xMzg1MzksIC01MC43MzI1MV0sIFstNjguODE1NTYxLCAtNTEuNzcxMTA0XSwgWy02OC4xNDk5OTUsIC01Mi4zNDk5ODNdLCBbLTY4LjU3MTU0NSwgLTUyLjI5OTQ0NF0sIFstNjkuNDk4MzYyLCAtNTIuMTQyNzYxXSwgWy03MS45MTQ4MDQsIC01Mi4wMDkwMjJdLCBbLTcyLjMyOTQwNCwgLTUxLjQyNTk1Nl0sIFstNzIuMzA5OTc0LCAtNTAuNjc3MDFdLCBbLTcyLjk3NTc0NywgLTUwLjc0MTQ1XSwgWy03My4zMjgwNTEsIC01MC4zNzg3ODVdLCBbLTczLjQxNTQzNiwgLTQ5LjMxODQzNl0sIFstNzIuNjQ4MjQ3LCAtNDguODc4NjE4XSwgWy03Mi4zMzExNjEsIC00OC4yNDQyMzhdLCBbLTcyLjQ0NzM1NSwgLTQ3LjczODUzM10sIFstNzEuOTE3MjU4LCAtNDYuODg0ODM4XSwgWy03MS41NTIwMDksIC00NS41NjA3MzNdLCBbLTcxLjY1OTMxNiwgLTQ0Ljk3MzY4OV0sIFstNzEuMjIyNzc5LCAtNDQuNzg0MjQzXSwgWy03MS4zMjk4MDEsIC00NC40MDc1MjJdLCBbLTcxLjc5MzYyMywgLTQ0LjIwNzE3Ml0sIFstNzEuNDY0MDU2LCAtNDMuNzg3NjExXSwgWy03MS45MTU0MjQsIC00My40MDg1NjVdLCBbLTcyLjE0ODg5OCwgLTQyLjI1NDg4OF0sIFstNzEuNzQ2ODA0LCAtNDIuMDUxMzg2XSwgWy03MS45MTU3MzQsIC00MC44MzIzMzldLCBbLTcxLjY4MDc2MSwgLTM5LjgwODE2NF0sIFstNzEuNDEzNTE3LCAtMzguOTE2MDIyXSwgWy03MC44MTQ2NjQsIC0zOC41NTI5OTVdLCBbLTcxLjExODYyNSwgLTM3LjU3NjgyN10sIFstNzEuMTIxODgxLCAtMzYuNjU4MTI0XSwgWy03MC4zNjQ3NjksIC0zNi4wMDUwODldLCBbLTcwLjM4ODA0OSwgLTM1LjE2OTY4OF0sIFstNjkuODE3MzA5LCAtMzQuMTkzNTcxXSwgWy02OS44MTQ3NzcsIC0zMy4yNzM4ODZdLCBbLTcwLjA3NDM5OSwgLTMzLjA5MTIxXSwgWy03MC41MzUwNjksIC0zMS4zNjUwMV0sIFstNjkuOTE5MDA4LCAtMzAuMzM2MzM5XSwgWy03MC4wMTM1NSwgLTI5LjM2NzkyM10sIFstNjkuNjU2MTMsIC0yOC40NTkxNDFdLCBbLTY5LjAwMTIzNSwgLTI3LjUyMTIxNF0sIFstNjguMjk1NTQyLCAtMjYuODk5MzRdLCBbLTY4LjU5NDgsIC0yNi41MDY5MDldLCBbLTY4LjM4NjAwMSwgLTI2LjE4NTAxNl0sIFstNjguNDE3NjUzLCAtMjQuNTE4NTU1XSwgWy02Ny4zMjg0NDMsIC0yNC4wMjUzMDNdLCBbLTY2Ljk4NTIzNCwgLTIyLjk4NjM0OV0sIFstNjcuMTA2Njc0LCAtMjIuNzM1OTI1XSwgWy02Ni4yNzMzMzksIC0yMS44MzIzMV0sIFstNjQuOTY0ODkyLCAtMjIuMDc1ODYyXV1dXSwgInR5cGUiOiAiTXVsdGlQb2x5Z29uIn0sICJpZCI6ICJBUkciLCAicHJvcGVydGllcyI6IHsiaGlnaGxpZ2h0Ijoge30sICJuYW1lIjogIkFyZ2VudGluYSIsICJzdHlsZSI6IHsiY29sb3IiOiAiZ3JheSIsICJkYXNoQXJyYXkiOiAiMSwgMSIsICJmaWxsQ29sb3IiOiAiIzAwMDAwMCIsICJsaW5lT3BhY2l0eSI6IDAuOSwgIndlaWdodCI6IDF9fSwgInR5cGUiOiAiRmVhdHVyZSJ9LCB7Imdlb21ldHJ5IjogeyJjb29yZGluYXRlcyI6IFtbWzQzLjU4Mjc0NiwgNDEuMDkyMTQzXSwgWzQ0Ljk3MjQ4LCA0MS4yNDgxMjldLCBbNDUuMTc5NDk2LCA0MC45ODUzNTRdLCBbNDUuNTYwMzUxLCA0MC44MTIyOV0sIFs0NS4zNTkxNzUsIDQwLjU2MTUwNF0sIFs0NS44OTE5MDcsIDQwLjIxODQ3Nl0sIFs0NS42MTAwMTIsIDM5Ljg5OTk5NF0sIFs0Ni4wMzQ1MzQsIDM5LjYyODAyMV0sIFs0Ni40ODM0OTksIDM5LjQ2NDE1NV0sIFs0Ni41MDU3MiwgMzguNzcwNjA1XSwgWzQ2LjE0MzYyMywgMzguNzQxMjAxXSwgWzQ1LjczNTM3OSwgMzkuMzE5NzE5XSwgWzQ1LjczOTk3OCwgMzkuNDczOTk5XSwgWzQ1LjI5ODE0NSwgMzkuNDcxNzUxXSwgWzQ1LjAwMTk4NywgMzkuNzQwMDA0XSwgWzQ0Ljc5Mzk5LCAzOS43MTMwMDNdLCBbNDQuNDAwMDA5LCA0MC4wMDVdLCBbNDMuNjU2NDM2LCA0MC4yNTM1NjRdLCBbNDMuNzUyNjU4LCA0MC43NDAyMDFdLCBbNDMuNTgyNzQ2LCA0MS4wOTIxNDNdXV0sICJ0eXBlIjogIlBvbHlnb24ifSwgImlkIjogIkFSTSIsICJwcm9wZXJ0aWVzIjogeyJoaWdobGlnaHQiOiB7fSwgIm5hbWUiOiAiQXJtZW5pYSIsICJzdHlsZSI6IHsiY29sb3IiOiAiZ3JheSIsICJkYXNoQXJyYXkiOiAiMSwgMSIsICJmaWxsQ29sb3IiOiAiIzAwMDAwMCIsICJsaW5lT3BhY2l0eSI6IDAuOSwgIndlaWdodCI6IDF9fSwgInR5cGUiOiAiRmVhdHVyZSJ9LCB7Imdlb21ldHJ5IjogeyJjb29yZGluYXRlcyI6IFtbW1stNTkuNTcyMDk1LCAtODAuMDQwMTc5XSwgWy01OS44NjU4NDksIC04MC41NDk2NTddLCBbLTYwLjE1OTY1NiwgLTgxLjAwMDMyN10sIFstNjIuMjU1MzkzLCAtODAuODYzMTc4XSwgWy02NC40ODgxMjUsIC04MC45MjE5MzRdLCBbLTY1Ljc0MTY2NiwgLTgwLjU4ODgyN10sIFstNjUuNzQxNjY2LCAtODAuNTQ5NjU3XSwgWy02Ni4yOTAwMzEsIC04MC4yNTU3NzNdLCBbLTY0LjAzNzY4OCwgLTgwLjI5NDk0NF0sIFstNjEuODgzMjQ2LCAtODAuMzkyODddLCBbLTYxLjEzODk3NiwgLTc5Ljk4MTM3MV0sIFstNjAuNjEwMTE5LCAtNzkuNjI4Njc5XSwgWy01OS41NzIwOTUsIC04MC4wNDAxNzldXV0sIFtbWy0xNTkuMjA4MTg0LCAtNzkuNDk3MDU5XSwgWy0xNjEuMTI3NjAxLCAtNzkuNjM0MjA5XSwgWy0xNjIuNDM5ODQ3LCAtNzkuMjgxNDY1XSwgWy0xNjMuMDI3NDA4LCAtNzguOTI4Nzc0XSwgWy0xNjMuMDY2NjA0LCAtNzguODY5OTY2XSwgWy0xNjMuNzEyODk2LCAtNzguNTk1NjY3XSwgWy0xNjMuMTA1ODAxLCAtNzguMjIzMzM4XSwgWy0xNjEuMjQ1MTEzLCAtNzguMzgwMTc2XSwgWy0xNjAuMjQ2MjA4LCAtNzguNjkzNjQ1XSwgWy0xNTkuNDgyNDA1LCAtNzkuMDQ2MzM4XSwgWy0xNTkuMjA4MTg0LCAtNzkuNDk3MDU5XV1dLCBbW1stNDUuMTU0NzU4LCAtNzguMDQ3MDddLCBbLTQzLjkyMDgyOCwgLTc4LjQ3ODEwM10sIFstNDMuNDg5OTUsIC03OS4wODU1Nl0sIFstNDMuMzcyNDM4LCAtNzkuNTE2NjQ1XSwgWy00My4zMzMyNjcsIC04MC4wMjYxMjNdLCBbLTQ0Ljg4MDUzNywgLTgwLjMzOTY0NF0sIFstNDYuNTA2MTc0LCAtODAuNTk0MzU3XSwgWy00OC4zODY0MjEsIC04MC44Mjk0ODVdLCBbLTUwLjQ4MjEwNywgLTgxLjAyNTQ0Ml0sIFstNTIuODUxOTg4LCAtODAuOTY2Njg1XSwgWy01NC4xNjQyNTksIC04MC42MzM1MjhdLCBbLTUzLjk4Nzk5MSwgLTgwLjIyMjAyOF0sIFstNTEuODUzMTM0LCAtNzkuOTQ3NzNdLCBbLTUwLjk5MTMyNiwgLTc5LjYxNDYyM10sIFstNTAuMzY0NTk1LCAtNzkuMTgzNDg3XSwgWy00OS45MTQxMzEsIC03OC44MTEyMDldLCBbLTQ5LjMwNjk1OSwgLTc4LjQ1ODU2OV0sIFstNDguNjYwNjE2LCAtNzguMDQ3MDE4XSwgWy00OC42NjA2MTYsIC03OC4wNDcwMTldLCBbLTQ4LjE1MTM5NiwgLTc4LjA0NzA3XSwgWy00Ni42NjI4NTcsIC03Ny44MzE0NzZdLCBbLTQ1LjE1NDc1OCwgLTc4LjA0NzA3XV1dLCBbW1stMTIxLjIxMTUxMSwgLTczLjUwMDk5XSwgWy0xMTkuOTE4ODUxLCAtNzMuNjU3NzI1XSwgWy0xMTguNzI0MTQzLCAtNzMuNDgxMzUzXSwgWy0xMTkuMjkyMTE5LCAtNzMuODM0MDk3XSwgWy0xMjAuMjMyMjE3LCAtNzQuMDg4ODFdLCBbLTEyMS42MjI4MywgLTc0LjAxMDQ2OF0sIFstMTIyLjYyMTczNSwgLTczLjY1Nzc3OF0sIFstMTIyLjYyMTczNSwgLTczLjY1Nzc3N10sIFstMTIyLjQwNjI0NSwgLTczLjMyNDYxOV0sIFstMTIxLjIxMTUxMSwgLTczLjUwMDk5XV1dLCBbW1stMTI1LjU1OTU2NiwgLTczLjQ4MTM1M10sIFstMTI0LjAzMTg4MiwgLTczLjg3MzI2OF0sIFstMTI0LjYxOTQ2OSwgLTczLjgzNDA5N10sIFstMTI1LjkxMjE4MSwgLTczLjczNjExOF0sIFstMTI3LjI4MzEzLCAtNzMuNDYxNzY5XSwgWy0xMjcuMjgzMTMsIC03My40NjE3NjhdLCBbLTEyNi41NTg0NzIsIC03My4yNDYyMjZdLCBbLTEyNS41NTk1NjYsIC03My40ODEzNTNdXV0sIFtbWy05OC45ODE1NSwgLTcxLjkzMzMzNF0sIFstOTcuODg0NzQzLCAtNzIuMDcwNTM1XSwgWy05Ni43ODc5MzcsIC03MS45NTI5NzFdLCBbLTk2LjIwMDM1LCAtNzIuNTIxMjA1XSwgWy05Ni45ODM3NjUsIC03Mi40NDI4NjRdLCBbLTk4LjE5ODA4MywgLTcyLjQ4MjAzNV0sIFstOTkuNDMyMDEzLCAtNzIuNDQyODY0XSwgWy0xMDAuNzgzNDU1LCAtNzIuNTAxNjJdLCBbLTEwMS44MDE4NjgsIC03Mi4zMDU2NjNdLCBbLTEwMi4zMzA3MjUsIC03MS44OTQxNjRdLCBbLTEwMS43MDM5NjcsIC03MS43MTc3OTJdLCBbLTEwMC40MzA5MTksIC03MS44NTQ5OTNdLCBbLTk4Ljk4MTU1LCAtNzEuOTMzMzM0XV1dLCBbW1stNjguNDUxMzQ2LCAtNzAuOTU1ODIzXSwgWy02OC4zMzM4MzQsIC03MS40MDY0OTNdLCBbLTY4LjUxMDEyOCwgLTcxLjc5ODQwN10sIFstNjguNzg0Mjk3LCAtNzIuMTcwNzM2XSwgWy02OS45NTk0NzEsIC03Mi4zMDc4ODVdLCBbLTcxLjA3NTg4OSwgLTcyLjUwMzg0Ml0sIFstNzIuMzg4MTM0LCAtNzIuNDg0MjU3XSwgWy03MS44OTg1LCAtNzIuMDkyMzQzXSwgWy03My4wNzM2MjIsIC03Mi4yMjk0OTJdLCBbLTc0LjE5MDA0LCAtNzIuMzY2NjkzXSwgWy03NC45NTM4OTUsIC03Mi4wNzI3NTddLCBbLTc1LjAxMjYyNSwgLTcxLjY2MTI1OF0sIFstNzMuOTE1ODE5LCAtNzEuMjY5MzQ1XSwgWy03My45MTU4MTksIC03MS4yNjkzNDRdLCBbLTczLjIzMDMzMSwgLTcxLjE1MTc4XSwgWy03Mi4wNzQ3MTcsIC03MS4xOTA5NTFdLCBbLTcxLjc4MDk2MiwgLTcwLjY4MTQ3M10sIFstNzEuNzIyMTgsIC03MC4zMDkxOTZdLCBbLTcxLjc0MTc5MSwgLTY5LjUwNTc4Ml0sIFstNzEuMTczODE1LCAtNjkuMDM1NDc1XSwgWy03MC4yNTMyNTIsIC02OC44Nzg3NF0sIFstNjkuNzI0NDQ3LCAtNjkuMjUxMDE3XSwgWy02OS40ODk0MjIsIC02OS42MjMzNDZdLCBbLTY5LjA1ODUxOCwgLTcwLjA3NDAxNl0sIFstNjguNzI1NTQxLCAtNzAuNTA1MTUzXSwgWy02OC40NTEzNDYsIC03MC45NTU4MjNdXV0sIFtbWy01OC42MTQxNDMsIC02NC4xNTI0NjddLCBbLTU5LjA0NTA3MywgLTY0LjM2ODAxXSwgWy01OS43ODkzNDIsIC02NC4yMTEyMjNdLCBbLTYwLjYxMTkyOCwgLTY0LjMwOTIwMl0sIFstNjEuMjk3NDE2LCAtNjQuNTQ0MzNdLCBbLTYyLjAyMjEsIC02NC43OTkwOTRdLCBbLTYyLjUxMTc2LCAtNjUuMDkzMDNdLCBbLTYyLjY0ODg1OCwgLTY1LjQ4NDk0Ml0sIFstNjIuNTkwMTI4LCAtNjUuODU3MjE5XSwgWy02Mi4xMjAwNzksIC02Ni4xOTAzMjZdLCBbLTYyLjgwNTU2NywgLTY2LjQyNTUwNV0sIFstNjMuNzQ1NjksIC02Ni41MDM4NDddLCBbLTY0LjI5NDEwNiwgLTY2LjgzNzAwNF0sIFstNjQuODgxNjkzLCAtNjcuMTUwNDc0XSwgWy02NS41MDg0MjUsIC02Ny41ODE2MV0sIFstNjUuNjY1MDgyLCAtNjcuOTUzODg3XSwgWy02NS4zMTI1NDUsIC02OC4zNjUzMzVdLCBbLTY0Ljc4MzcxNSwgLTY4LjY3ODkwOF0sIFstNjMuOTYxMTAzLCAtNjguOTEzOTg0XSwgWy02My4xOTczLCAtNjkuMjI3NTU2XSwgWy02Mi43ODU5NTUsIC02OS42MTk0MTldLCBbLTYyLjU3MDUxNiwgLTY5Ljk5MTc0N10sIFstNjIuMjc2NzM2LCAtNzAuMzgzNjYxXSwgWy02MS44MDY2NjEsIC03MC43MTY3NjhdLCBbLTYxLjUxMjkwNiwgLTcxLjA4OTA0NV0sIFstNjEuMzc1ODA5LCAtNzIuMDEwMDc0XSwgWy02MS4wODE5NzcsIC03Mi4zODIzNTFdLCBbLTYxLjAwMzY2MSwgLTcyLjc3NDI2NV0sIFstNjAuNjkwMjY5LCAtNzMuMTY2MTc5XSwgWy02MC44MjczNjcsIC03My42OTUyNDJdLCBbLTYxLjM3NTgwOSwgLTc0LjEwNjc0Ml0sIFstNjEuOTYzMzcsIC03NC40Mzk4NDhdLCBbLTYzLjI5NTIwMSwgLTc0LjU3Njk5N10sIFstNjMuNzQ1NjksIC03NC45Mjk3NF0sIFstNjQuMzUyODM2LCAtNzUuMjYyODQ3XSwgWy02NS44NjA5ODcsIC03NS42MzUxMjRdLCBbLTY3LjE5MjgxOCwgLTc1Ljc5MTkxXSwgWy02OC40NDYyODIsIC03Ni4wMDc0NTJdLCBbLTY5Ljc5NzcyNCwgLTc2LjIyMjk5NV0sIFstNzAuNjAwNzI0LCAtNzYuNjM0NDk0XSwgWy03Mi4yMDY3NzYsIC03Ni42NzM2NjVdLCBbLTczLjk2OTUzNiwgLTc2LjYzNDQ5NF0sIFstNzUuNTU1OTc3LCAtNzYuNzEyODg3XSwgWy03Ny4yNDAzNywgLTc2LjcxMjg4N10sIFstNzYuOTI2OTc5LCAtNzcuMTA0ODAyXSwgWy03NS4zOTkyOTQsIC03Ny4yODEwN10sIFstNzQuMjgyODc2LCAtNzcuNTU1NDJdLCBbLTczLjY1NjExOSwgLTc3LjkwODExMl0sIFstNzQuNzcyNTM2LCAtNzguMjIxNjMzXSwgWy03Ni40OTYxLCAtNzguMTIzNjU0XSwgWy03Ny45MjU4NTgsIC03OC4zNzg0MTldLCBbLTc3Ljk4NDY2NiwgLTc4Ljc4OTkxOF0sIFstNzguMDIzNzg1LCAtNzkuMTgxODMzXSwgWy03Ni44NDg2MzcsIC03OS41MTQ5MzldLCBbLTc2LjYzMzIyNCwgLTc5Ljg4NzIxNl0sIFstNzUuMzYwMDk3LCAtODAuMjU5NTQ1XSwgWy03My4yNDQ4NTIsIC04MC40MTYzMzFdLCBbLTcxLjQ0Mjk0NiwgLTgwLjY5MDYzXSwgWy03MC4wMTMxNjMsIC04MS4wMDQxNTFdLCBbLTY4LjE5MTY0NiwgLTgxLjMxNzY3Ml0sIFstNjUuNzA0Mjc5LCAtODEuNDc0NDU4XSwgWy02My4yNTYwMywgLTgxLjc0ODc1N10sIFstNjEuNTUyMDI2LCAtODIuMDQyNjkyXSwgWy01OS42OTE0MTYsIC04Mi4zNzU4NV0sIFstNTguNzEyMTIxLCAtODIuODQ2MTA2XSwgWy01OC4yMjI0ODcsIC04My4yMTg0MzRdLCBbLTU3LjAwODExNywgLTgyLjg2NTY5MV0sIFstNTUuMzYyODk0LCAtODIuNTcxNzU1XSwgWy01My42MTk3NzEsIC04Mi4yNTgyMzVdLCBbLTUxLjU0MzY0NCwgLTgyLjAwMzUyMV0sIFstNDkuNzYxMzUsIC04MS43MjkxNzFdLCBbLTQ3LjI3MzkzMSwgLTgxLjcwOTU4Nl0sIFstNDQuODI1NzA4LCAtODEuODQ2NzM1XSwgWy00Mi44MDgzNjMsIC04Mi4wODE5MTVdLCBbLTQyLjE2MjAyLCAtODEuNjUwODNdLCBbLTQwLjc3MTQzMywgLTgxLjM1Njg5NF0sIFstMzguMjQ0ODE4LCAtODEuMzM3MzA5XSwgWy0zNi4yNjY2NywgLTgxLjEyMTcxNV0sIFstMzQuMzg2Mzk3LCAtODAuOTA2MTcyXSwgWy0zMi4zMTAyOTYsIC04MC43NjkwMjNdLCBbLTMwLjA5NzA5OCwgLTgwLjU5MjY1MV0sIFstMjguNTQ5ODAyLCAtODAuMzM3OTM4XSwgWy0yOS4yNTQ5MDEsIC03OS45ODUxOTVdLCBbLTI5LjY4NTgwNSwgLTc5LjYzMjUwM10sIFstMjkuNjg1ODA1LCAtNzkuMjYwMjI2XSwgWy0zMS42MjQ4MDgsIC03OS4yOTkzOTddLCBbLTMzLjY4MTMyNCwgLTc5LjQ1NjEzMl0sIFstMzUuNjM5OTEyLCAtNzkuNDU2MTMyXSwgWy0zNS45MTQxMDcsIC03OS4wODM4NTVdLCBbLTM1Ljc3NzAxLCAtNzguMzM5MjQ4XSwgWy0zNS4zMjY1NDYsIC03OC4xMjM2NTRdLCBbLTMzLjg5Njc2MywgLTc3Ljg4ODUyNl0sIFstMzIuMjEyMzY5LCAtNzcuNjUzNDVdLCBbLTMwLjk5ODA1MSwgLTc3LjM1OTUxNV0sIFstMjkuNzgzNzMyLCAtNzcuMDY1NTc5XSwgWy0yOC44ODI3NzksIC03Ni42NzM2NjVdLCBbLTI3LjUxMTc1MiwgLTc2LjQ5NzM0NV0sIFstMjYuMTYwMzM2LCAtNzYuMzYwMTQ0XSwgWy0yNS40NzQ4MjIsIC03Ni4yODE4MDNdLCBbLTIzLjkyNzU1MiwgLTc2LjI0MjU4XSwgWy0yMi40NTg1OTgsIC03Ni4xMDU0MzFdLCBbLTIxLjIyNDY5NCwgLTc1LjkwOTQ3NF0sIFstMjAuMDEwMzc1LCAtNzUuNjc0MzQ2XSwgWy0xOC45MTM1NDMsIC03NS40MzkyMThdLCBbLTE3LjUyMjk4MiwgLTc1LjEyNTY5OF0sIFstMTYuNjQxNTg5LCAtNzQuNzkyNTRdLCBbLTE1LjcwMTQ5MSwgLTc0LjQ5ODYwNF0sIFstMTUuNDA3NzEsIC03NC4xMDY3NDJdLCBbLTE2LjQ2NTMyLCAtNzMuODcxNjE0XSwgWy0xNi4xMTI3ODQsIC03My40NjAxMTRdLCBbLTE1LjQ0Njg1NSwgLTczLjE0NjU0Ml0sIFstMTQuNDA4ODA1LCAtNzIuOTUwNTg1XSwgWy0xMy4zMTE5NzMsIC03Mi43MTU0NTddLCBbLTEyLjI5MzUwOCwgLTcyLjQwMTkzNl0sIFstMTEuNTEwMDY3LCAtNzIuMDEwMDc0XSwgWy0xMS4wMjA0MzMsIC03MS41Mzk3NjddLCBbLTEwLjI5NTc3NCwgLTcxLjI2NTQxNl0sIFstOS4xMDEwMTUsIC03MS4zMjQyMjRdLCBbLTguNjExMzgxLCAtNzEuNjU3MzNdLCBbLTcuNDE2NjIyLCAtNzEuNjk2NTAxXSwgWy03LjM3NzQ1MSwgLTcxLjMyNDIyNF0sIFstNi44NjgyMzIsIC03MC45MzIzMV0sIFstNS43OTA5ODUsIC03MS4wMzAyODldLCBbLTUuNTM2Mzc1LCAtNzEuNDAyNjE3XSwgWy00LjM0MTY2NywgLTcxLjQ2MTM3M10sIFstMy4wNDg5ODEsIC03MS4yODUwNTNdLCBbLTEuNzk1NDkyLCAtNzEuMTY3NDM4XSwgWy0wLjY1OTQ4OSwgLTcxLjIyNjI0Nl0sIFstMC4yMjg2MzcsIC03MS42Mzc3NDVdLCBbMC44NjgxOTUsIC03MS4zMDQ2MzldLCBbMS44ODY2ODYsIC03MS4xMjgyNjddLCBbMy4wMjI2MzgsIC03MC45OTExMThdLCBbNC4xMzkwNTUsIC03MC44NTM5MTddLCBbNS4xNTc1NDYsIC03MC42MTg3ODldLCBbNi4yNzM5MTIsIC03MC40NjIwNTVdLCBbNy4xMzU3MiwgLTcwLjI0NjUxMl0sIFs3Ljc0Mjg2NiwgLTY5Ljg5Mzc2OV0sIFs4LjQ4NzExLCAtNzAuMTQ4NTM0XSwgWzkuNTI1MTM1LCAtNzAuMDExMzMzXSwgWzEwLjI0OTg0NSwgLTcwLjQ4MTY0XSwgWzEwLjgxNzgyMSwgLTcwLjgzNDMzMl0sIFsxMS45NTM4MjQsIC03MC42MzgzNzVdLCBbMTIuNDA0Mjg3LCAtNzAuMjQ2NTEyXSwgWzEzLjQyMjc3OCwgLTY5Ljk3MjE2Ml0sIFsxNC43MzQ5OTgsIC03MC4wMzA5MThdLCBbMTUuMTI2NzU3LCAtNzAuNDAzMjQ3XSwgWzE1Ljk0OTM0MiwgLTcwLjAzMDkxOF0sIFsxNy4wMjY1ODksIC02OS45MTMzNTRdLCBbMTguMjAxNzExLCAtNjkuODc0MTgzXSwgWzE5LjI1OTM3MywgLTY5Ljg5Mzc2OV0sIFsyMC4zNzU3MzksIC03MC4wMTEzMzNdLCBbMjEuNDUyOTg1LCAtNzAuMDcwMTRdLCBbMjEuOTIzMDM0LCAtNzAuNDAzMjQ3XSwgWzIyLjU2OTQwMywgLTcwLjY5NzE4Ml0sIFsyMy42NjYxODQsIC03MC41MjA4MTFdLCBbMjQuODQxMzU3LCAtNzAuNDgxNjRdLCBbMjUuOTc3MzA5LCAtNzAuNDgxNjRdLCBbMjcuMDkzNzI2LCAtNzAuNDYyMDU1XSwgWzI4LjA5MjU4LCAtNzAuMzI0ODU0XSwgWzI5LjE1MDI0MiwgLTcwLjIwNzI5XSwgWzMwLjAzMTU4MywgLTY5LjkzMjk0XSwgWzMwLjk3MTczMywgLTY5Ljc1NjYyXSwgWzMxLjk5MDE3MiwgLTY5LjY1ODY0MV0sIFszMi43NTQwNTMsIC02OS4zODQyOTFdLCBbMzMuMzAyNDQzLCAtNjguODM1NjQyXSwgWzMzLjg3MDQxOSwgLTY4LjUwMjU4OF0sIFszNC45MDg0OTUsIC02OC42NTkyNzFdLCBbMzUuMzAwMjAyLCAtNjkuMDEyMDE0XSwgWzM2LjE2MjAxLCAtNjkuMjQ3MTQyXSwgWzM3LjIwMDAzNSwgLTY5LjE2ODc0OF0sIFszNy45MDUxMDgsIC02OS41MjE0NF0sIFszOC42NDk0MDQsIC02OS43NzYyMDVdLCBbMzkuNjY3ODk0LCAtNjkuNTQxMDc3XSwgWzQwLjAyMDQzMSwgLTY5LjEwOTk0MV0sIFs0MC45MjEzNTgsIC02OC45MzM2MjFdLCBbNDEuOTU5NDM0LCAtNjguNjAwNTE0XSwgWzQyLjkzODcwMiwgLTY4LjQ2MzMxM10sIFs0NC4xMTM4NzYsIC02OC4yNjc0MDhdLCBbNDQuODk3MjkxLCAtNjguMDUxODY2XSwgWzQ1LjcxOTkyOCwgLTY3LjgxNjczOF0sIFs0Ni41MDMzNDMsIC02Ny42MDExOTZdLCBbNDcuNDQzNDQsIC02Ny43MTg3NTldLCBbNDguMzQ0NDE5LCAtNjcuMzY2MDY4XSwgWzQ4Ljk5MDczNiwgLTY3LjA5MTcxOF0sIFs0OS45MzA4ODUsIC02Ny4xMTEzMDNdLCBbNTAuNzUzNDcxLCAtNjYuODc2MTc1XSwgWzUwLjk0OTMyNSwgLTY2LjUyMzQ4NF0sIFs1MS43OTE1NDcsIC02Ni4yNDkxMzNdLCBbNTIuNjE0MTMzLCAtNjYuMDUzMTc2XSwgWzUzLjYxMzAzOCwgLTY1Ljg5NjM5XSwgWzU0LjUzMzU1LCAtNjUuODE4MDQ5XSwgWzU1LjQxNDk0MywgLTY1Ljg3NjgwNV0sIFs1Ni4zNTUwNDEsIC02NS45NzQ3ODNdLCBbNTcuMTU4MDkzLCAtNjYuMjQ5MTMzXSwgWzU3LjI1NTk2OCwgLTY2LjY4MDIxOF0sIFs1OC4xMzczNjEsIC02Ny4wMTMzMjRdLCBbNTguNzQ0NTA4LCAtNjcuMjg3Njc1XSwgWzU5LjkzOTMxOCwgLTY3LjQwNTIzOV0sIFs2MC42MDUyMjEsIC02Ny42Nzk1ODldLCBbNjEuNDI3ODA2LCAtNjcuOTUzODg3XSwgWzYyLjM4NzQ4OSwgLTY4LjAxMjY5NV0sIFs2My4xOTA0OSwgLTY3LjgxNjczOF0sIFs2NC4wNTIzNDksIC02Ny40MDUyMzldLCBbNjQuOTkyNDQ3LCAtNjcuNjIwNzI5XSwgWzY1Ljk3MTcxNSwgLTY3LjczODM0NV0sIFs2Ni45MTE4NjQsIC02Ny44NTU5MDldLCBbNjcuODkxMTMzLCAtNjcuOTM0MzAyXSwgWzY4Ljg5MDAzOCwgLTY3LjkzNDMwMl0sIFs2OS43MTI2MjQsIC02OC45NzI3OTFdLCBbNjkuNjczNDUzLCAtNjkuMjI3NTU2XSwgWzY5LjU1NTk0MSwgLTY5LjY3ODIyNl0sIFs2OC41OTYyNTgsIC02OS45MzI5NF0sIFs2Ny44MTI3NCwgLTcwLjMwNTI2OF0sIFs2Ny45NDk4ODksIC03MC42OTcxODJdLCBbNjkuMDY2MzA3LCAtNzAuNjc3NTQ1XSwgWzY4LjkyOTE1NywgLTcxLjA2OTQ1OV0sIFs2OC40MTk5ODksIC03MS40NDE3ODhdLCBbNjcuOTQ5ODg5LCAtNzEuODUzMjg3XSwgWzY4LjcxMzc3LCAtNzIuMTY2ODA4XSwgWzY5Ljg2OTMwNywgLTcyLjI2NDc4N10sIFs3MS4wMjQ4OTUsIC03Mi4wODg0MTVdLCBbNzEuNTczMjg1LCAtNzEuNjk2NTAxXSwgWzcxLjkwNjI4OCwgLTcxLjMyNDIyNF0sIFs3Mi40NTQ2MjcsIC03MS4wMTA3MDNdLCBbNzMuMDgxNDEsIC03MC43MTY3NjhdLCBbNzMuMzM2MDIsIC03MC4zNjQwMjRdLCBbNzMuODY0ODc3LCAtNjkuODc0MTgzXSwgWzc0LjQ5MTU1NywgLTY5Ljc3NjIwNV0sIFs3NS42Mjc1NiwgLTY5LjczNzAzNF0sIFs3Ni42MjY0NjUsIC02OS42MTk0MTldLCBbNzcuNjQ0OTA0LCAtNjkuNDYyNjg0XSwgWzc4LjEzNDUzOSwgLTY5LjA3MDc3XSwgWzc4LjQyODM3MSwgLTY4LjY5ODQ0MV0sIFs3OS4xMTM4NTksIC02OC4zMjYyMTZdLCBbODAuMDkzMTI3LCAtNjguMDcxNTAzXSwgWzgwLjkzNTM1LCAtNjcuODc1NTQ2XSwgWzgxLjQ4Mzc5MiwgLTY3LjU0MjM4OF0sIFs4Mi4wNTE3NjcsIC02Ny4zNjYwNjhdLCBbODIuNzc2NDI2LCAtNjcuMjA5MjgyXSwgWzgzLjc3NTMzMSwgLTY3LjMwNzI2XSwgWzg0LjY3NjIwNiwgLTY3LjIwOTI4Ml0sIFs4NS42NTU1MjcsIC02Ny4wOTE3MThdLCBbODYuNzUyMzU5LCAtNjcuMTUwNDc0XSwgWzg3LjQ3NzAxNywgLTY2Ljg3NjE3NV0sIFs4Ny45ODYyODksIC02Ni4yMDk5MTFdLCBbODguMzU4NDExLCAtNjYuNDg0MjYxXSwgWzg4LjgyODQwOCwgLTY2Ljk1NDU2OF0sIFs4OS42NzA2MywgLTY3LjE1MDQ3NF0sIFs5MC42MzAzNjUsIC02Ny4yMjg4NjddLCBbOTEuNTkwMSwgLTY3LjExMTMwM10sIFs5Mi42MDg1MzksIC02Ny4xODk2OTZdLCBbOTMuNTQ4NjM3LCAtNjcuMjA5MjgyXSwgWzk0LjE3NTQyLCAtNjcuMTExMzAzXSwgWzk1LjAxNzU5MSwgLTY3LjE3MDExMV0sIFs5NS43ODE0NzIsIC02Ny4zODU2NTNdLCBbOTYuNjgyMzk5LCAtNjcuMjQ4NTA0XSwgWzk3Ljc1OTY0NiwgLTY3LjI0ODUwNF0sIFs5OC42ODAyMSwgLTY3LjExMTMwM10sIFs5OS43MTgxODIsIC02Ny4yNDg1MDRdLCBbMTAwLjM4NDE4OCwgLTY2LjkxNTM0Nl0sIFsxMDAuODkzMzU2LCAtNjYuNTgyMjRdLCBbMTAxLjU3ODg5NiwgLTY2LjMwNzg5XSwgWzEwMi44MzI0MTEsIC02NS41NjMyODRdLCBbMTAzLjQ3ODY3NiwgLTY1LjcwMDQ4NV0sIFsxMDQuMjQyNTU3LCAtNjUuOTc0NzgzXSwgWzEwNC45MDg0NiwgLTY2LjMyNzUyN10sIFsxMDYuMTgxNTYxLCAtNjYuOTM0OTMxXSwgWzEwNy4xNjA4ODEsIC02Ni45NTQ1NjhdLCBbMTA4LjA4MTM5MywgLTY2Ljk1NDU2OF0sIFsxMDkuMTU4NjQsIC02Ni44MzcwMDRdLCBbMTEwLjIzNTgzNSwgLTY2LjY5OTgwNF0sIFsxMTEuMDU4NDcyLCAtNjYuNDI1NTA1XSwgWzExMS43NDM5NiwgLTY2LjEzMTU3XSwgWzExMi44NjAzNzgsIC02Ni4wOTIzNDddLCBbMTEzLjYwNDY3MywgLTY1Ljg3NjgwNV0sIFsxMTQuMzg4MDg4LCAtNjYuMDcyNzYyXSwgWzExNC44OTczMDgsIC02Ni4zODYyODNdLCBbMTE1LjYwMjM4MSwgLTY2LjY5OTgwNF0sIFsxMTYuNjk5MTYxLCAtNjYuNjYwNjMzXSwgWzExNy4zODQ3MDEsIC02Ni45MTUzNDZdLCBbMTE4LjU3OTQ2LCAtNjcuMTcwMTExXSwgWzExOS44MzI5MjQsIC02Ny4yNjgwODldLCBbMTIwLjg3MSwgLTY3LjE4OTY5Nl0sIFsxMjEuNjU0NDE1LCAtNjYuODc2MTc1XSwgWzEyMi4zMjAzNjksIC02Ni41NjI2NTRdLCBbMTIzLjIyMTI5NiwgLTY2LjQ4NDI2MV0sIFsxMjQuMTIyMjc0LCAtNjYuNjIxNDYyXSwgWzEyNS4xNjAyNDcsIC02Ni43MTkzODldLCBbMTI2LjEwMDM5NiwgLTY2LjU2MjY1NF0sIFsxMjcuMDAxNDI3LCAtNjYuNTYyNjU0XSwgWzEyNy44ODI3NjgsIC02Ni42NjA2MzNdLCBbMTI4LjgwMzI4LCAtNjYuNzU4NjExXSwgWzEyOS43MDQyNTksIC02Ni41ODIyNF0sIFsxMzAuNzgxNDU0LCAtNjYuNDI1NTA1XSwgWzEzMS43OTk5NDUsIC02Ni4zODYyODNdLCBbMTMyLjkzNTg5NiwgLTY2LjM4NjI4M10sIFsxMzMuODU2NDYsIC02Ni4yODgzMDRdLCBbMTM0Ljc1NzM4NywgLTY2LjIwOTk2M10sIFsxMzUuMDMxNTgyLCAtNjUuNzIwMDddLCBbMTM1LjA3MDc1MywgLTY1LjMwODU3MV0sIFsxMzUuNjk3NDg1LCAtNjUuNTgyODY5XSwgWzEzNS44NzM4MDUsIC02Ni4wMzM1OTFdLCBbMTM2LjIwNjcwNSwgLTY2LjQ0NTA5XSwgWzEzNi42MTgwNDksIC02Ni43NzgxOTddLCBbMTM3LjQ2MDI3MSwgLTY2Ljk1NDU2OF0sIFsxMzguNTk2MjIzLCAtNjYuODk1NzYxXSwgWzEzOS45MDg0NDIsIC02Ni44NzYxNzVdLCBbMTQwLjgwOTQyMSwgLTY2LjgxNzM2N10sIFsxNDIuMTIxNjkyLCAtNjYuODE3MzY3XSwgWzE0My4wNjE4NDIsIC02Ni43OTc3ODJdLCBbMTQ0LjM3NDA2MSwgLTY2LjgzNzAwNF0sIFsxNDUuNDkwNDI3LCAtNjYuOTE1MzQ2XSwgWzE0Ni4xOTU1NTIsIC02Ny4yMjg4NjddLCBbMTQ1Ljk5OTY5OSwgLTY3LjYwMTE5Nl0sIFsxNDYuNjQ2MDY3LCAtNjcuODk1MTMxXSwgWzE0Ny43MjMyNjMsIC02OC4xMzAyNTldLCBbMTQ4LjgzOTYyOSwgLTY4LjM4NTAyNF0sIFsxNTAuMTMyMzE0LCAtNjguNTYxMjkyXSwgWzE1MS40ODM3MDUsIC02OC43MTgxM10sIFsxNTIuNTAyMjQ3LCAtNjguODc0ODEzXSwgWzE1My42MzgxOTksIC02OC44OTQ1MDJdLCBbMTU0LjI4NDU2NywgLTY4LjU2MTI5Ml0sIFsxNTUuMTY1ODU3LCAtNjguODM1NjQyXSwgWzE1NS45Mjk3OSwgLTY5LjE0OTIxNV0sIFsxNTYuODExMTMyLCAtNjkuMzg0MjkxXSwgWzE1OC4wMjU1MjgsIC02OS40ODIyNjldLCBbMTU5LjE4MTAxMywgLTY5LjU5OTgzM10sIFsxNTkuNjcwNjk5LCAtNjkuOTkxNzQ3XSwgWzE2MC44MDY2NSwgLTcwLjIyNjg3NV0sIFsxNjEuNTcwNDc5LCAtNzAuNTc5NjE4XSwgWzE2Mi42ODY4OTcsIC03MC43MzYzNTNdLCBbMTYzLjg0MjQzNCwgLTcwLjcxNjc2OF0sIFsxNjQuOTE5NjgxLCAtNzAuNzc1NTI0XSwgWzE2Ni4xMTQ0NCwgLTcwLjc1NTkzOF0sIFsxNjcuMzA5MDk1LCAtNzAuODM0MzMyXSwgWzE2OC40MjU2MTYsIC03MC45NzE0ODFdLCBbMTY5LjQ2MzU4OSwgLTcxLjIwNjY2XSwgWzE3MC41MDE2NjUsIC03MS40MDI2MTddLCBbMTcxLjIwNjc5LCAtNzEuNjk2NTAxXSwgWzE3MS4wODkyMjcsIC03Mi4wODg0MTVdLCBbMTcwLjU2MDQyMiwgLTcyLjQ0MTE1OV0sIFsxNzAuMTA5OTU4LCAtNzIuODkxODI5XSwgWzE2OS43NTczNywgLTczLjI0NDUyXSwgWzE2OS4yODczMjEsIC03My42NTYwMl0sIFsxNjcuOTc1MTAxLCAtNzMuODEyODA2XSwgWzE2Ny4zODc0ODksIC03NC4xNjU0OThdLCBbMTY2LjA5NDgwMywgLTc0LjM4MTA0XSwgWzE2NS42NDQzOTEsIC03NC43NzI5NTRdLCBbMTY0Ljk1ODg1MSwgLTc1LjE0NTI4M10sIFsxNjQuMjM0MTkzLCAtNzUuNDU4ODA0XSwgWzE2My44MjI3OTcsIC03NS44NzAzMDNdLCBbMTYzLjU2ODIzOSwgLTc2LjI0MjU4XSwgWzE2My40NzAyNiwgLTc2LjY5MzMwMl0sIFsxNjMuNDg5ODk3LCAtNzcuMDY1NTc5XSwgWzE2NC4wNTc4NzMsIC03Ny40NTc0NDJdLCBbMTY0LjI3MzM2MywgLTc3LjgyOTc3XSwgWzE2NC43NDM0NjQsIC03OC4xODI1MTRdLCBbMTY2LjYwNDEyNiwgLTc4LjMxOTYxMV0sIFsxNjYuOTk1NzgxLCAtNzguNzUwNzQ4XSwgWzE2NS4xOTM4NzYsIC03OC45MDc0ODNdLCBbMTYzLjY2NjIxNywgLTc5LjEyMzAyNV0sIFsxNjEuNzY2Mzg1LCAtNzkuMTYyMjQ4XSwgWzE2MC45MjQxNjIsIC03OS43MzA0ODJdLCBbMTYwLjc0Nzg5NCwgLTgwLjIwMDczN10sIFsxNjAuMzE2OTY0LCAtODAuNTczMDY2XSwgWzE1OS43ODgyMTEsIC04MC45NDUzOTVdLCBbMTYxLjEyMDAxNiwgLTgxLjI3ODUwMV0sIFsxNjEuNjI5Mjg3LCAtODEuNjkwMDAxXSwgWzE2Mi40OTA5OTIsIC04Mi4wNjIyNzhdLCBbMTYzLjcwNTMzNiwgLTgyLjM5NTQzNV0sIFsxNjUuMDk1OTQ5LCAtODIuNzA4OTU2XSwgWzE2Ni42MDQxMjYsIC04My4wMjI0NzddLCBbMTY4Ljg5NTY2NSwgLTgzLjMzNTk5OF0sIFsxNjkuNDA0NzgyLCAtODMuODI1ODkxXSwgWzE3Mi4yODM5MzQsIC04NC4wNDE0MzNdLCBbMTcyLjQ3NzA0OSwgLTg0LjExNzkxNF0sIFsxNzMuMjI0MDgzLCAtODQuNDEzNzFdLCBbMTc1Ljk4NTY3MiwgLTg0LjE1ODk5N10sIFsxNzguMjc3MjEyLCAtODQuNDcyNTE4XSwgWzE4MCwgLTg0LjcxMzM4XSwgWy0xNzkuOTQyNDk5LCAtODQuNzIxNDQzXSwgWy0xNzkuMDU4Njc3LCAtODQuMTM5NDEyXSwgWy0xNzcuMjU2NzcyLCAtODQuNDUyOTMzXSwgWy0xNzcuMTQwODA3LCAtODQuNDE3OTQxXSwgWy0xNzYuMDg0NjczLCAtODQuMDk5MjU5XSwgWy0xNzUuOTQ3MjM1LCAtODQuMTEwNDQ5XSwgWy0xNzUuODI5ODgyLCAtODQuMTE3OTE0XSwgWy0xNzQuMzgyNTAzLCAtODQuNTM0MzIzXSwgWy0xNzMuMTE2NTU5LCAtODQuMTE3OTE0XSwgWy0xNzIuODg5MTA2LCAtODQuMDYxMDE5XSwgWy0xNjkuOTUxMjIzLCAtODMuODg0NjQ3XSwgWy0xNjguOTk5OTg5LCAtODQuMTE3OTE0XSwgWy0xNjguNTMwMTk5LCAtODQuMjM3MzldLCBbLTE2Ny4wMjIwOTksIC04NC41NzA0OTddLCBbLTE2NC4xODIxNDQsIC04NC44MjUyMV0sIFstMTYxLjkyOTc3NSwgLTg1LjEzODczMV0sIFstMTU4LjA3MTM4LCAtODUuMzczOTFdLCBbLTE1NS4xOTIyNTMsIC04NS4wOTk1Nl0sIFstMTUwLjk0MjA5OSwgLTg1LjI5NTUxN10sIFstMTQ4LjUzMzA3MywgLTg1LjYwOTAzOF0sIFstMTQ1Ljg4ODkxOCwgLTg1LjMxNTEwMl0sIFstMTQzLjEwNzcxOCwgLTg1LjA0MDc1Ml0sIFstMTQyLjg5MjI3OSwgLTg0LjU3MDQ5N10sIFstMTQ2LjgyOTA2OCwgLTg0LjUzMTI3NF0sIFstMTUwLjA2MDczMiwgLTg0LjI5NjE0Nl0sIFstMTUwLjkwMjkyOCwgLTgzLjkwNDIzMl0sIFstMTUzLjU4NjIwMSwgLTgzLjY4ODY5XSwgWy0xNTMuNDA5OTA3LCAtODMuMjM4MDJdLCBbLTE1My4wMzc3NTksIC04Mi44MjY1Ml0sIFstMTUyLjY2NTYzNywgLTgyLjQ1NDE5Ml0sIFstMTUyLjg2MTUxNywgLTgyLjA0MjY5Ml0sIFstMTU0LjUyNjI5OSwgLTgxLjc2ODM5NF0sIFstMTU1LjI5MDE4LCAtODEuNDE1NjVdLCBbLTE1Ni44Mzc0NSwgLTgxLjEwMjEyOV0sIFstMTU0LjQwODc4NywgLTgxLjE2MDkzN10sIFstMTUyLjA5NzY2MiwgLTgxLjAwNDE1MV0sIFstMTUwLjY0ODI5MywgLTgxLjMzNzMwOV0sIFstMTQ4Ljg2NTk5OCwgLTgxLjA0MzM3M10sIFstMTQ3LjIyMDc1LCAtODAuNjcxMDQ1XSwgWy0xNDYuNDE3NzQ5LCAtODAuMzM3OTM4XSwgWy0xNDYuNzcwMjg2LCAtNzkuOTI2NDM5XSwgWy0xNDguMDYyOTQ3LCAtNzkuNjUyMDg5XSwgWy0xNDkuNTMxOTAxLCAtNzkuMzU4MjA1XSwgWy0xNTEuNTg4NDE2LCAtNzkuMjk5Mzk3XSwgWy0xNTMuMzkwMzIyLCAtNzkuMTYyMjQ4XSwgWy0xNTUuMzI5Mzc2LCAtNzkuMDY0MjY5XSwgWy0xNTUuOTc1NjY4LCAtNzguNjkxOTRdLCBbLTE1Ny4yNjgzMDIsIC03OC4zNzg0MTldLCBbLTE1OC4wNTE3NjgsIC03OC4wMjU2NzZdLCBbLTE1OC4zNjUxMzQsIC03Ni44ODkyMDddLCBbLTE1Ny44NzU0NzQsIC03Ni45ODcyMzhdLCBbLTE1Ni45NzQ1NzMsIC03Ny4zMDA3NTldLCBbLTE1NS4zMjkzNzYsIC03Ny4yMDI3MjhdLCBbLTE1My43NDI4MzIsIC03Ny4wNjU1NzldLCBbLTE1Mi45MjAyNDcsIC03Ny40OTY2NjRdLCBbLTE1MS4zMzM3OCwgLTc3LjM5ODczN10sIFstMTUwLjAwMTk1LCAtNzcuMTgzMTQzXSwgWy0xNDguNzQ4NDg2LCAtNzYuOTA4ODQ1XSwgWy0xNDcuNjEyNDgzLCAtNzYuNTc1NzM4XSwgWy0xNDYuMTA0NDA5LCAtNzYuNDc3NzZdLCBbLTE0Ni4xNDM1MjgsIC03Ni4xMDU0MzFdLCBbLTE0Ni40OTYwOTEsIC03NS43MzMxNTRdLCBbLTE0Ni4yMDIzMSwgLTc1LjM4MDQxMV0sIFstMTQ0LjkwOTYyNCwgLTc1LjIwNDAzOV0sIFstMTQ0LjMyMjAzNywgLTc1LjUzNzE5N10sIFstMTQyLjc5NDM1MywgLTc1LjM0MTI0XSwgWy0xNDEuNjM4NzY0LCAtNzUuMDg2NDc1XSwgWy0xNDAuMjA5MDA3LCAtNzUuMDY2ODldLCBbLTEzOC44NTc1OSwgLTc0Ljk2ODkxMV0sIFstMTM3LjUwNjIsIC03NC43MzM3ODNdLCBbLTEzNi40Mjg5MDEsIC03NC41MTgyNDFdLCBbLTEzNS4yMTQ1ODMsIC03NC4zMDI2OTldLCBbLTEzNC40MzExOTQsIC03NC4zNjE0NTVdLCBbLTEzMy43NDU2NTQsIC03NC40Mzk4NDhdLCBbLTEzMi4yNTcxNjgsIC03NC4zMDI2OTldLCBbLTEzMC45MjUzMTEsIC03NC40NzkwMTldLCBbLTEyOS41NTQyODQsIC03NC40NTk0MzNdLCBbLTEyOC4yNDIwMzgsIC03NC4zMjIyODRdLCBbLTEyNi44OTA2MjIsIC03NC40MjAyNjNdLCBbLTEyNS40MDIwODIsIC03NC41MTgyNDFdLCBbLTEyNC4wMTE0OTYsIC03NC40NzkwMTldLCBbLTEyMi41NjIxNTIsIC03NC40OTg2MDRdLCBbLTEyMS4wNzM2MTMsIC03NC41MTgyNDFdLCBbLTExOS43MDI1NiwgLTc0LjQ3OTAxOV0sIFstMTE4LjY4NDE0NSwgLTc0LjE4NTA4M10sIFstMTE3LjQ2OTgwMSwgLTc0LjAyODM0OF0sIFstMTE2LjIxNjMxMiwgLTc0LjI0Mzg5MV0sIFstMTE1LjAyMTU1MiwgLTc0LjA2NzUxOV0sIFstMTEzLjk0NDMzMSwgLTczLjcxNDgyOF0sIFstMTEzLjI5Nzk4OCwgLTc0LjAyODM0OF0sIFstMTEyLjk0NTQ1MiwgLTc0LjM4MTA0XSwgWy0xMTIuMjk5MDgzLCAtNzQuNzE0MTk4XSwgWy0xMTEuMjYxMDU5LCAtNzQuNDIwMjYzXSwgWy0xMTAuMDY2MzI1LCAtNzQuNzkyNTRdLCBbLTEwOC43MTQ5MDksIC03NC45MTAxMDNdLCBbLTEwNy41NTkzNDYsIC03NS4xODQ0NTRdLCBbLTEwNi4xNDkxNDgsIC03NS4xMjU2OThdLCBbLTEwNC44NzYwNzQsIC03NC45NDkzMjZdLCBbLTEwMy4zNjc5NDksIC03NC45ODg0OTddLCBbLTEwMi4wMTY1MDcsIC03NS4xMjU2OThdLCBbLTEwMC42NDU1MzEsIC03NS4zMDIwMThdLCBbLTEwMC4xMTY3LCAtNzQuODcwOTMzXSwgWy0xMDAuNzYzMDQzLCAtNzQuNTM3ODI2XSwgWy0xMDEuMjUyNzAzLCAtNzQuMTg1MDgzXSwgWy0xMDIuNTQ1MzM3LCAtNzQuMTA2NzQyXSwgWy0xMDMuMTEzMzEzLCAtNzMuNzM0NDEzXSwgWy0xMDMuMzI4NzUyLCAtNzMuMzYyMDg0XSwgWy0xMDMuNjgxMjg5LCAtNzIuNjE3NTNdLCBbLTEwMi45MTc0ODUsIC03Mi43NTQ2NzldLCBbLTEwMS42MDUyNCwgLTcyLjgxMzQzNl0sIFstMTAwLjMxMjUyOCwgLTcyLjc1NDY3OV0sIFstOTkuMTM3MzgsIC03Mi45MTE0MTRdLCBbLTk4LjExODg4OSwgLTczLjIwNTM1XSwgWy05Ny42ODgwMzcsIC03My41NTgwNDFdLCBbLTk2LjMzNjU5NSwgLTczLjYxNjg0OV0sIFstOTUuMDQzOTYxLCAtNzMuNDc5N10sIFstOTMuNjcyOTA3LCAtNzMuMjgzNzQzXSwgWy05Mi40MzkwMDMsIC03My4xNjYxNzldLCBbLTkxLjQyMDU2NCwgLTczLjQwMTMwN10sIFstOTAuMDg4NzMzLCAtNzMuMzIyOTE0XSwgWy04OS4yMjY5NTEsIC03Mi41NTg3MjJdLCBbLTg4LjQyMzk1MSwgLTczLjAwOTM5M10sIFstODcuMjY4MzM3LCAtNzMuMTg1NzY0XSwgWy04Ni4wMTQ4MjIsIC03My4wODc3ODZdLCBbLTg1LjE5MjIzNiwgLTczLjQ3OTddLCBbLTgzLjg3OTk5MSwgLTczLjUxODg3MV0sIFstODIuNjY1NjQ2LCAtNzMuNjM2NDM0XSwgWy04MS40NzA5MTMsIC03My44NTE5NzddLCBbLTgwLjY4NzQ0NywgLTczLjQ3OTddLCBbLTgwLjI5NTc5MSwgLTczLjEyNjk1Nl0sIFstNzkuMjk2ODg2LCAtNzMuNTE4ODcxXSwgWy03Ny45MjU4NTgsIC03My40MjA4OTJdLCBbLTc2LjkwNzM2NywgLTczLjYzNjQzNF0sIFstNzYuMjIxODc5LCAtNzMuOTY5NTQxXSwgWy03NC44OTAwNDksIC03My44NzE2MTRdLCBbLTczLjg1MjAyNCwgLTczLjY1NjAyXSwgWy03Mi44MzM1MzMsIC03My40MDEzMDddLCBbLTcxLjYxOTIxNSwgLTczLjI2NDE1N10sIFstNzAuMjA5MDQyLCAtNzMuMTQ2NTQyXSwgWy02OC45MzU5MTYsIC03My4wMDkzOTNdLCBbLTY3Ljk1NjYyMiwgLTcyLjc5Mzg1XSwgWy02Ny4zNjkwNjEsIC03Mi40ODAzMjldLCBbLTY3LjEzNDAzNiwgLTcyLjA0OTI0NF0sIFstNjcuMjUxNTQ4LCAtNzEuNjM3NzQ1XSwgWy02Ny41NjQ5NCwgLTcxLjI0NTgzMV0sIFstNjcuOTE3NDc3LCAtNzAuODUzOTE3XSwgWy02OC4yMzA4NDMsIC03MC40NjIwNTVdLCBbLTY4LjQ4NTQ1MiwgLTcwLjEwOTMxMV0sIFstNjguNTQ0MjA5LCAtNjkuNzE3Mzk3XSwgWy02OC40NDYyODIsIC02OS4zMjU1MzVdLCBbLTY3Ljk3NjIzMywgLTY4Ljk1MzIwNl0sIFstNjcuNTg0NSwgLTY4LjU0MTcwN10sIFstNjcuNDI3ODQzLCAtNjguMTQ5ODQ0XSwgWy02Ny42MjM2NywgLTY3LjcxODc1OV0sIFstNjcuNzQxMTgzLCAtNjcuMzI2ODQ1XSwgWy02Ny4yNTE1NDgsIC02Ni44NzYxNzVdLCBbLTY2LjcwMzE4NCwgLTY2LjU4MjI0XSwgWy02Ni4wNTY4MTUsIC02Ni4yMDk5NjNdLCBbLTY1LjM3MTMyNywgLTY1Ljg5NjM5XSwgWy02NC41NjgyNzYsIC02NS42MDI1MDZdLCBbLTY0LjE3NjU0MiwgLTY1LjE3MTQyM10sIFstNjMuNjI4MTUyLCAtNjQuODk3MDczXSwgWy02My4wMDEzOTQsIC02NC42NDIzMDhdLCBbLTYyLjA0MTY4NiwgLTY0LjU4MzU1Ml0sIFstNjEuNDE0OTI4LCAtNjQuMjcwMDMxXSwgWy02MC43MDk4NTUsIC02NC4wNzQwNzRdLCBbLTU5Ljg4NzI2OSwgLTYzLjk1NjUxXSwgWy01OS4xNjI1ODUsIC02My43MDE3NDVdLCBbLTU4LjU5NDU1NywgLTYzLjM4ODIyNF0sIFstNTcuODExMTQzLCAtNjMuMjcwNjZdLCBbLTU3LjIyMzU4MiwgLTYzLjUyNTQyNV0sIFstNTcuNTk1NzMsIC02My44NTg1MzJdLCBbLTU4LjYxNDE0MywgLTY0LjE1MjQ2N11dXV0sICJ0eXBlIjogIk11bHRpUG9seWdvbiJ9LCAiaWQiOiAiQVRBIiwgInByb3BlcnRpZXMiOiB7ImhpZ2hsaWdodCI6IHt9LCAibmFtZSI6ICJBbnRhcmN0aWNhIiwgInN0eWxlIjogeyJjb2xvciI6ICJncmF5IiwgImRhc2hBcnJheSI6ICIxLCAxIiwgImZpbGxDb2xvciI6ICIjMDAwMDAwIiwgImxpbmVPcGFjaXR5IjogMC45LCAid2VpZ2h0IjogMX19LCAidHlwZSI6ICJGZWF0dXJlIn0sIHsiZ2VvbWV0cnkiOiB7ImNvb3JkaW5hdGVzIjogW1tbNjguOTM1LCAtNDguNjI1XSwgWzY5LjU4LCAtNDguOTRdLCBbNzAuNTI1LCAtNDkuMDY1XSwgWzcwLjU2LCAtNDkuMjU1XSwgWzcwLjI4LCAtNDkuNzFdLCBbNjguNzQ1LCAtNDkuNzc1XSwgWzY4LjcyLCAtNDkuMjQyNV0sIFs2OC44Njc1LCAtNDguODNdLCBbNjguOTM1LCAtNDguNjI1XV1dLCAidHlwZSI6ICJQb2x5Z29uIn0sICJpZCI6ICJBVEYiLCAicHJvcGVydGllcyI6IHsiaGlnaGxpZ2h0Ijoge30sICJuYW1lIjogIkZyZW5jaCBTb3V0aGVybiBhbmQgQW50YXJjdGljIExhbmRzIiwgInN0eWxlIjogeyJjb2xvciI6ICJncmF5IiwgImRhc2hBcnJheSI6ICIxLCAxIiwgImZpbGxDb2xvciI6ICIjMDAwMDAwIiwgImxpbmVPcGFjaXR5IjogMC45LCAid2VpZ2h0IjogMX19LCAidHlwZSI6ICJGZWF0dXJlIn0sIHsiZ2VvbWV0cnkiOiB7ImNvb3JkaW5hdGVzIjogW1tbWzE0NS4zOTc5NzgsIC00MC43OTI1NDldLCBbMTQ2LjM2NDEyMSwgLTQxLjEzNzY5NV0sIFsxNDYuOTA4NTg0LCAtNDEuMDAwNTQ2XSwgWzE0Ny42ODkyNTksIC00MC44MDgyNThdLCBbMTQ4LjI4OTA2OCwgLTQwLjg3NTQzOF0sIFsxNDguMzU5ODY1LCAtNDIuMDYyNDQ1XSwgWzE0OC4wMTczMDEsIC00Mi40MDcwMjRdLCBbMTQ3LjkxNDA1MiwgLTQzLjIxMTUyMl0sIFsxNDcuNTY0NTY0LCAtNDIuOTM3Njg5XSwgWzE0Ni44NzAzNDMsIC00My42MzQ1OTddLCBbMTQ2LjY2MzMyNywgLTQzLjU4MDg1NF0sIFsxNDYuMDQ4Mzc4LCAtNDMuNTQ5NzQ1XSwgWzE0NS40MzE5MywgLTQyLjY5Mzc3Nl0sIFsxNDUuMjk1MDksIC00Mi4wMzM2MV0sIFsxNDQuNzE4MDcxLCAtNDEuMTYyNTUyXSwgWzE0NC43NDM3NTUsIC00MC43MDM5NzVdLCBbMTQ1LjM5Nzk3OCwgLTQwLjc5MjU0OV1dXSwgW1tbMTQzLjU2MTgxMSwgLTEzLjc2MzY1Nl0sIFsxNDMuOTIyMDk5LCAtMTQuNTQ4MzExXSwgWzE0NC41NjM3MTQsIC0xNC4xNzExNzZdLCBbMTQ0Ljg5NDkwOCwgLTE0LjU5NDQ1OF0sIFsxNDUuMzc0NzI0LCAtMTQuOTg0OTc2XSwgWzE0NS4yNzE5OTEsIC0xNS40MjgyMDVdLCBbMTQ1LjQ4NTI2LCAtMTYuMjg1NjcyXSwgWzE0NS42MzcwMzMsIC0xNi43ODQ5MThdLCBbMTQ1Ljg4ODkwNCwgLTE2LjkwNjkyNl0sIFsxNDYuMTYwMzA5LCAtMTcuNzYxNjU1XSwgWzE0Ni4wNjM2NzQsIC0xOC4yODAwNzNdLCBbMTQ2LjM4NzQ3OCwgLTE4Ljk1ODI3NF0sIFsxNDcuNDcxMDgyLCAtMTkuNDgwNzIzXSwgWzE0OC4xNzc2MDIsIC0xOS45NTU5MzldLCBbMTQ4Ljg0ODQxNCwgLTIwLjM5MTIxXSwgWzE0OC43MTc0NjUsIC0yMC42MzM0NjldLCBbMTQ5LjI4OTQyLCAtMjEuMjYwNTExXSwgWzE0OS42NzgzMzcsIC0yMi4zNDI1MTJdLCBbMTUwLjA3NzM4MiwgLTIyLjEyMjc4NF0sIFsxNTAuNDgyOTM5LCAtMjIuNTU2MTQyXSwgWzE1MC43MjcyNjUsIC0yMi40MDI0MDVdLCBbMTUwLjg5OTU1NCwgLTIzLjQ2MjIzN10sIFsxNTEuNjA5MTc1LCAtMjQuMDc2MjU2XSwgWzE1Mi4wNzM1NCwgLTI0LjQ1Nzg4N10sIFsxNTIuODU1MTk3LCAtMjUuMjY3NTAxXSwgWzE1My4xMzYxNjIsIC0yNi4wNzExNzNdLCBbMTUzLjE2MTk0OSwgLTI2LjY0MTMxOV0sIFsxNTMuMDkyOTA5LCAtMjcuMjYwM10sIFsxNTMuNTY5NDY5LCAtMjguMTEwMDY3XSwgWzE1My41MTIxMDgsIC0yOC45OTUwNzddLCBbMTUzLjMzOTA5NSwgLTI5LjQ1ODIwMl0sIFsxNTMuMDY5MjQxLCAtMzAuMzUwMjRdLCBbMTUzLjA4OTYwMiwgLTMwLjkyMzY0Ml0sIFsxNTIuODkxNTc4LCAtMzEuNjQwNDQ2XSwgWzE1Mi40NTAwMDIsIC0zMi41NTAwMDNdLCBbMTUxLjcwOTExNywgLTMzLjA0MTM0Ml0sIFsxNTEuMzQzOTcyLCAtMzMuODE2MDIzXSwgWzE1MS4wMTA1NTUsIC0zNC4zMTAzNl0sIFsxNTAuNzE0MTM5LCAtMzUuMTczNDZdLCBbMTUwLjMyODIyLCAtMzUuNjcxODc5XSwgWzE1MC4wNzUyMTIsIC0zNi40MjAyMDZdLCBbMTQ5Ljk0NjEyNCwgLTM3LjEwOTA1Ml0sIFsxNDkuOTk3Mjg0LCAtMzcuNDI1MjYxXSwgWzE0OS40MjM4ODIsIC0zNy43NzI2ODFdLCBbMTQ4LjMwNDYyMiwgLTM3LjgwOTA2MV0sIFsxNDcuMzgxNzMzLCAtMzguMjE5MjE3XSwgWzE0Ni45MjIxMjMsIC0zOC42MDY1MzJdLCBbMTQ2LjMxNzkyMiwgLTM5LjAzNTc1N10sIFsxNDUuNDg5NjUyLCAtMzguNTkzNzY4XSwgWzE0NC44NzY5NzYsIC0zOC40MTc0NDhdLCBbMTQ1LjAzMjIxMiwgLTM3Ljg5NjE4OF0sIFsxNDQuNDg1NjgyLCAtMzguMDg1MzI0XSwgWzE0My42MDk5NzQsIC0zOC44MDk0NjVdLCBbMTQyLjc0NTQyNywgLTM4LjUzODI2OF0sIFsxNDIuMTc4MzMsIC0zOC4zODAwMzRdLCBbMTQxLjYwNjU4MiwgLTM4LjMwODUxNF0sIFsxNDAuNjM4NTc5LCAtMzguMDE5MzMzXSwgWzEzOS45OTIxNTgsIC0zNy40MDI5MzZdLCBbMTM5LjgwNjU4OCwgLTM2LjY0MzYwM10sIFsxMzkuNTc0MTQ4LCAtMzYuMTM4MzYyXSwgWzEzOS4wODI4MDgsIC0zNS43MzI3NTRdLCBbMTM4LjEyMDc0OCwgLTM1LjYxMjI5Nl0sIFsxMzguNDQ5NDYyLCAtMzUuMTI3MjYxXSwgWzEzOC4yMDc1NjQsIC0zNC4zODQ3MjNdLCBbMTM3LjcxOTE3LCAtMzUuMDc2ODI1XSwgWzEzNi44Mjk0MDYsIC0zNS4yNjA1MzVdLCBbMTM3LjM1MjM3MSwgLTM0LjcwNzMzOV0sIFsxMzcuNTAzODg2LCAtMzQuMTMwMjY4XSwgWzEzNy44OTAxMTYsIC0zMy42NDA0NzldLCBbMTM3LjgxMDMyOCwgLTMyLjkwMDAwN10sIFsxMzYuOTk2ODM3LCAtMzMuNzUyNzcxXSwgWzEzNi4zNzIwNjksIC0zNC4wOTQ3NjZdLCBbMTM1Ljk4OTA0MywgLTM0Ljg5MDExOF0sIFsxMzUuMjA4MjEzLCAtMzQuNDc4NjddLCBbMTM1LjIzOTIxOCwgLTMzLjk0Nzk1M10sIFsxMzQuNjEzNDE3LCAtMzMuMjIyNzc4XSwgWzEzNC4wODU5MDQsIC0zMi44NDgwNzJdLCBbMTM0LjI3MzkwMywgLTMyLjYxNzIzNF0sIFsxMzIuOTkwNzc3LCAtMzIuMDExMjI0XSwgWzEzMi4yODgwODEsIC0zMS45ODI2NDddLCBbMTMxLjMyNjMzMSwgLTMxLjQ5NTgwM10sIFsxMjkuNTM1Nzk0LCAtMzEuNTkwNDIzXSwgWzEyOC4yNDA5MzgsIC0zMS45NDg0ODldLCBbMTI3LjEwMjg2NywgLTMyLjI4MjI2N10sIFsxMjYuMTQ4NzE0LCAtMzIuMjE1OTY2XSwgWzEyNS4wODg2MjMsIC0zMi43Mjg3NTFdLCBbMTI0LjIyMTY0OCwgLTMyLjk1OTQ4N10sIFsxMjQuMDI4OTQ3LCAtMzMuNDgzODQ3XSwgWzEyMy42NTk2NjcsIC0zMy44OTAxNzldLCBbMTIyLjgxMTAzNiwgLTMzLjkxNDQ2N10sIFsxMjIuMTgzMDY0LCAtMzQuMDAzNDAyXSwgWzEyMS4yOTkxOTEsIC0zMy44MjEwMzZdLCBbMTIwLjU4MDI2OCwgLTMzLjkzMDE3N10sIFsxMTkuODkzNjk1LCAtMzMuOTc2MDY1XSwgWzExOS4yOTg4OTksIC0zNC41MDkzNjZdLCBbMTE5LjAwNzM0MSwgLTM0LjQ2NDE0OV0sIFsxMTguNTA1NzE4LCAtMzQuNzQ2ODE5XSwgWzExOC4wMjQ5NzIsIC0zNS4wNjQ3MzNdLCBbMTE3LjI5NTUwNywgLTM1LjAyNTQ1OV0sIFsxMTYuNjI1MTA5LCAtMzUuMDI1MDk3XSwgWzExNS41NjQzNDcsIC0zNC4zODY0MjhdLCBbMTE1LjAyNjgwOSwgLTM0LjE5NjUxN10sIFsxMTUuMDQ4NjE2LCAtMzMuNjIzNDI1XSwgWzExNS41NDUxMjMsIC0zMy40ODcyNThdLCBbMTE1LjcxNDY3NCwgLTMzLjI1OTU3Ml0sIFsxMTUuNjc5Mzc5LCAtMzIuOTAwMzY5XSwgWzExNS44MDE2NDUsIC0zMi4yMDUwNjJdLCBbMTE1LjY4OTYxMSwgLTMxLjYxMjQzN10sIFsxMTUuMTYwOTA5LCAtMzAuNjAxNTk0XSwgWzExNC45OTcwNDMsIC0zMC4wMzA3MjVdLCBbMTE1LjA0MDAzOCwgLTI5LjQ2MTA5NV0sIFsxMTQuNjQxOTc0LCAtMjguODEwMjMxXSwgWzExNC42MTY0OTgsIC0yOC41MTYzOTldLCBbMTE0LjE3MzU3OSwgLTI4LjExODA3N10sIFsxMTQuMDQ4ODg0LCAtMjcuMzM0NzY1XSwgWzExMy40Nzc0OTgsIC0yNi41NDMxMzRdLCBbMTEzLjMzODk1MywgLTI2LjExNjU0NV0sIFsxMTMuNzc4MzU4LCAtMjYuNTQ5MDI1XSwgWzExMy40NDA5NjIsIC0yNS42MjEyNzhdLCBbMTEzLjkzNjkwMSwgLTI1LjkxMTIzNV0sIFsxMTQuMjMyODUyLCAtMjYuMjk4NDQ2XSwgWzExNC4yMTYxNjEsIC0yNS43ODYyODFdLCBbMTEzLjcyMTI1NSwgLTI0Ljk5ODkzOV0sIFsxMTMuNjI1MzQ0LCAtMjQuNjgzOTcxXSwgWzExMy4zOTM1MjMsIC0yNC4zODQ3NjRdLCBbMTEzLjUwMjA0NCwgLTIzLjgwNjM1XSwgWzExMy43MDY5OTMsIC0yMy41NjAyMTVdLCBbMTEzLjg0MzQxOCwgLTIzLjA1OTk4N10sIFsxMTMuNzM2NTUyLCAtMjIuNDc1NDc1XSwgWzExNC4xNDk3NTYsIC0yMS43NTU4ODFdLCBbMTE0LjIyNTMwNywgLTIyLjUxNzQ4OF0sIFsxMTQuNjQ3NzYyLCAtMjEuODI5NTJdLCBbMTE1LjQ2MDE2NywgLTIxLjQ5NTE3M10sIFsxMTUuOTQ3MzczLCAtMjEuMDY4Njg4XSwgWzExNi43MTE2MTUsIC0yMC43MDE2ODJdLCBbMTE3LjE2NjMxNiwgLTIwLjYyMzU5OV0sIFsxMTcuNDQxNTQ1LCAtMjAuNzQ2ODk5XSwgWzExOC4yMjk1NTksIC0yMC4zNzQyMDhdLCBbMTE4LjgzNjA4NSwgLTIwLjI2MzMxMV0sIFsxMTguOTg3ODA3LCAtMjAuMDQ0MjAzXSwgWzExOS4yNTI0OTQsIC0xOS45NTI5NDJdLCBbMTE5LjgwNTIyNSwgLTE5Ljk3NjUwNl0sIFsxMjAuODU2MjIsIC0xOS42ODM3MDhdLCBbMTIxLjM5OTg1NiwgLTE5LjIzOTc1Nl0sIFsxMjEuNjU1MTM4LCAtMTguNzA1MzE4XSwgWzEyMi4yNDE2NjUsIC0xOC4xOTc2NDldLCBbMTIyLjI4NjYyNCwgLTE3Ljc5ODYwM10sIFsxMjIuMzEyNzcyLCAtMTcuMjU0OTY3XSwgWzEyMy4wMTI1NzQsIC0xNi40MDUyXSwgWzEyMy40MzM3ODksIC0xNy4yNjg1NThdLCBbMTIzLjg1OTM0NSwgLTE3LjA2OTAzNV0sIFsxMjMuNTAzMjQyLCAtMTYuNTk2NTA2XSwgWzEyMy44MTcwNzMsIC0xNi4xMTEzMTZdLCBbMTI0LjI1ODI4NywgLTE2LjMyNzk0NF0sIFsxMjQuMzc5NzI2LCAtMTUuNTY3MDZdLCBbMTI0LjkyNjE1MywgLTE1LjA3NTFdLCBbMTI1LjE2NzI3NSwgLTE0LjY4MDM5Nl0sIFsxMjUuNjcwMDg3LCAtMTQuNTEwMDddLCBbMTI1LjY4NTc5NiwgLTE0LjIzMDY1Nl0sIFsxMjYuMTI1MTQ5LCAtMTQuMzQ3MzQxXSwgWzEyNi4xNDI4MjMsIC0xNC4wOTU5ODddLCBbMTI2LjU4MjU4OSwgLTEzLjk1Mjc5MV0sIFsxMjcuMDY1ODY3LCAtMTMuODE3OTY4XSwgWzEyNy44MDQ2MzMsIC0xNC4yNzY5MDZdLCBbMTI4LjM1OTY5LCAtMTQuODY5MTddLCBbMTI4Ljk4NTU0MywgLTE0Ljg3NTk5MV0sIFsxMjkuNjIxNDczLCAtMTQuOTY5Nzg0XSwgWzEyOS40MDk2LCAtMTQuNDIwNjddLCBbMTI5Ljg4ODY0MSwgLTEzLjYxODcwM10sIFsxMzAuMzM5NDY2LCAtMTMuMzU3Mzc2XSwgWzEzMC4xODM1MDYsIC0xMy4xMDc1Ml0sIFsxMzAuNjE3Nzk1LCAtMTIuNTM2MzkyXSwgWzEzMS4yMjM0OTUsIC0xMi4xODM2NDldLCBbMTMxLjczNTA5MSwgLTEyLjMwMjQ1M10sIFsxMzIuNTc1Mjk4LCAtMTIuMTE0MDQxXSwgWzEzMi41NTcyMTIsIC0xMS42MDMwMTJdLCBbMTMxLjgyNDY5OCwgLTExLjI3Mzc4Ml0sIFsxMzIuMzU3MjI0LCAtMTEuMTI4NTE5XSwgWzEzMy4wMTk1NjEsIC0xMS4zNzY0MTFdLCBbMTMzLjU1MDg0NiwgLTExLjc4NjUxNV0sIFsxMzQuMzkzMDY4LCAtMTIuMDQyMzY1XSwgWzEzNC42Nzg2MzIsIC0xMS45NDExODNdLCBbMTM1LjI5ODQ5MSwgLTEyLjI0ODYwNl0sIFsxMzUuODgyNjkzLCAtMTEuOTYyMjY3XSwgWzEzNi4yNTgzODEsIC0xMi4wNDkzNDJdLCBbMTM2LjQ5MjQ3NSwgLTExLjg1NzIwOV0sIFsxMzYuOTUxNjIsIC0xMi4zNTE5NTldLCBbMTM2LjY4NTEyNSwgLTEyLjg4NzIyM10sIFsxMzYuMzA1NDA3LCAtMTMuMjkxMjNdLCBbMTM1Ljk2MTc1OCwgLTEzLjMyNDUwOV0sIFsxMzYuMDc3NjE3LCAtMTMuNzI0Mjc4XSwgWzEzNS43ODM4MzYsIC0xNC4yMjM5ODldLCBbMTM1LjQyODY2NCwgLTE0LjcxNTQzMl0sIFsxMzUuNTAwMTg0LCAtMTQuOTk3NzQxXSwgWzEzNi4yOTUxNzUsIC0xNS41NTAyNjVdLCBbMTM3LjA2NTM2LCAtMTUuODcwNzYyXSwgWzEzNy41ODA0NzEsIC0xNi4yMTUwODJdLCBbMTM4LjMwMzIxNywgLTE2LjgwNzYwNF0sIFsxMzguNTg1MTY0LCAtMTYuODA2NjIyXSwgWzEzOS4xMDg1NDMsIC0xNy4wNjI2NzldLCBbMTM5LjI2MDU3NSwgLTE3LjM3MTYwMV0sIFsxNDAuMjE1MjQ1LCAtMTcuNzEwODA1XSwgWzE0MC44NzU0NjMsIC0xNy4zNjkwNjldLCBbMTQxLjA3MTExLCAtMTYuODMyMDQ3XSwgWzE0MS4yNzQwOTUsIC0xNi4zODg4N10sIFsxNDEuMzk4MjIyLCAtMTUuODQwNTMyXSwgWzE0MS43MDIxODMsIC0xNS4wNDQ5MjFdLCBbMTQxLjU2MzM4LCAtMTQuNTYxMzMzXSwgWzE0MS42MzU1MiwgLTE0LjI3MDM5NV0sIFsxNDEuNTE5ODY5LCAtMTMuNjk4MDc4XSwgWzE0MS42NTA5MiwgLTEyLjk0NDY4OF0sIFsxNDEuODQyNjkxLCAtMTIuNzQxNTQ4XSwgWzE0MS42ODY5OSwgLTEyLjQwNzYxNF0sIFsxNDEuOTI4NjI5LCAtMTEuODc3NDY2XSwgWzE0Mi4xMTg0ODgsIC0xMS4zMjgwNDJdLCBbMTQyLjE0MzcwNiwgLTExLjA0MjczN10sIFsxNDIuNTE1MjYsIC0xMC42NjgxODZdLCBbMTQyLjc5NzMxLCAtMTEuMTU3MzU1XSwgWzE0Mi44NjY3NjMsIC0xMS43ODQ3MDddLCBbMTQzLjExNTk0NywgLTExLjkwNTYzXSwgWzE0My4xNTg2MzIsIC0xMi4zMjU2NTZdLCBbMTQzLjUyMjEyNCwgLTEyLjgzNDM1OF0sIFsxNDMuNTk3MTU4LCAtMTMuNDAwNDIyXSwgWzE0My41NjE4MTEsIC0xMy43NjM2NTZdXV1dLCAidHlwZSI6ICJNdWx0aVBvbHlnb24ifSwgImlkIjogIkFVUyIsICJwcm9wZXJ0aWVzIjogeyJoaWdobGlnaHQiOiB7fSwgIm5hbWUiOiAiQXVzdHJhbGlhIiwgInN0eWxlIjogeyJjb2xvciI6ICJncmF5IiwgImRhc2hBcnJheSI6ICIxLCAxIiwgImZpbGxDb2xvciI6ICIjMDAwMDAwIiwgImxpbmVPcGFjaXR5IjogMC45LCAid2VpZ2h0IjogMX19LCAidHlwZSI6ICJGZWF0dXJlIn0sIHsiZ2VvbWV0cnkiOiB7ImNvb3JkaW5hdGVzIjogW1tbMTYuOTc5NjY3LCA0OC4xMjM0OTddLCBbMTYuOTAzNzU0LCA0Ny43MTQ4NjZdLCBbMTYuMzQwNTg0LCA0Ny43MTI5MDJdLCBbMTYuNTM0MjY4LCA0Ny40OTYxNzFdLCBbMTYuMjAyMjk4LCA0Ni44NTIzODZdLCBbMTYuMDExNjY0LCA0Ni42ODM2MTFdLCBbMTUuMTM3MDkyLCA0Ni42NTg3MDNdLCBbMTQuNjMyNDcyLCA0Ni40MzE4MTddLCBbMTMuODA2NDc1LCA0Ni41MDkzMDZdLCBbMTIuMzc2NDg1LCA0Ni43Njc1NTldLCBbMTIuMTUzMDg4LCA0Ny4xMTUzOTNdLCBbMTEuMTY0ODI4LCA0Ni45NDE1NzldLCBbMTEuMDQ4NTU2LCA0Ni43NTEzNTldLCBbMTAuNDQyNzAxLCA0Ni44OTM1NDZdLCBbOS45MzI0NDgsIDQ2LjkyMDcyOF0sIFs5LjQ3OTk3LCA0Ny4xMDI4MV0sIFs5LjYzMjkzMiwgNDcuMzQ3NjAxXSwgWzkuNTk0MjI2LCA0Ny41MjUwNThdLCBbOS44OTYwNjgsIDQ3LjU4MDE5N10sIFsxMC40MDIwODQsIDQ3LjMwMjQ4OF0sIFsxMC41NDQ1MDQsIDQ3LjU2NjM5OV0sIFsxMS40MjY0MTQsIDQ3LjUyMzc2Nl0sIFsxMi4xNDEzNTcsIDQ3LjcwMzA4M10sIFsxMi42MjA3NiwgNDcuNjcyMzg4XSwgWzEyLjkzMjYyNywgNDcuNDY3NjQ2XSwgWzEzLjAyNTg1MSwgNDcuNjM3NTg0XSwgWzEyLjg4NDEwMywgNDguMjg5MTQ2XSwgWzEzLjI0MzM1NywgNDguNDE2MTE1XSwgWzEzLjU5NTk0NiwgNDguODc3MTcyXSwgWzE0LjMzODg5OCwgNDguNTU1MzA1XSwgWzE0LjkwMTQ0NywgNDguOTY0NDAyXSwgWzE1LjI1MzQxNiwgNDkuMDM5MDc0XSwgWzE2LjAyOTY0NywgNDguNzMzODk5XSwgWzE2LjQ5OTI4MywgNDguNzg1ODA4XSwgWzE2Ljk2MDI4OCwgNDguNTk2OTgyXSwgWzE2Ljg3OTk4MywgNDguNDcwMDEzXSwgWzE2Ljk3OTY2NywgNDguMTIzNDk3XV1dLCAidHlwZSI6ICJQb2x5Z29uIn0sICJpZCI6ICJBVVQiLCAicHJvcGVydGllcyI6IHsiaGlnaGxpZ2h0Ijoge30sICJuYW1lIjogIkF1c3RyaWEiLCAic3R5bGUiOiB7ImNvbG9yIjogImdyYXkiLCAiZGFzaEFycmF5IjogIjEsIDEiLCAiZmlsbENvbG9yIjogIiMwMDAwMDAiLCAibGluZU9wYWNpdHkiOiAwLjksICJ3ZWlnaHQiOiAxfX0sICJ0eXBlIjogIkZlYXR1cmUifSwgeyJnZW9tZXRyeSI6IHsiY29vcmRpbmF0ZXMiOiBbW1tbNDUuMDAxOTg3LCAzOS43NDAwMDRdLCBbNDUuMjk4MTQ1LCAzOS40NzE3NTFdLCBbNDUuNzM5OTc4LCAzOS40NzM5OTldLCBbNDUuNzM1Mzc5LCAzOS4zMTk3MTldLCBbNDYuMTQzNjIzLCAzOC43NDEyMDFdLCBbNDUuNDU3NzIyLCAzOC44NzQxMzldLCBbNDQuOTUyNjg4LCAzOS4zMzU3NjVdLCBbNDQuNzkzOTksIDM5LjcxMzAwM10sIFs0NS4wMDE5ODcsIDM5Ljc0MDAwNF1dXSwgW1tbNDcuMzczMzE1LCA0MS4yMTk3MzJdLCBbNDcuODE1NjY2LCA0MS4xNTE0MTZdLCBbNDcuOTg3MjgzLCA0MS40MDU4MTldLCBbNDguNTg0MzUzLCA0MS44MDg4N10sIFs0OS4xMTAyNjQsIDQxLjI4MjI4N10sIFs0OS42MTg5MTUsIDQwLjU3MjkyNF0sIFs1MC4wODQ4MywgNDAuNTI2MTU3XSwgWzUwLjM5MjgyMSwgNDAuMjU2NTYxXSwgWzQ5LjU2OTIwMiwgNDAuMTc2MTAxXSwgWzQ5LjM5NTI1OSwgMzkuMzk5NDgyXSwgWzQ5LjIyMzIyOCwgMzkuMDQ5MjE5XSwgWzQ4Ljg1NjUzMiwgMzguODE1NDg2XSwgWzQ4Ljg4MzI0OSwgMzguMzIwMjQ1XSwgWzQ4LjYzNDM3NSwgMzguMjcwMzc4XSwgWzQ4LjAxMDc0NCwgMzguNzk0MDE1XSwgWzQ4LjM1NTUyOSwgMzkuMjg4NzY1XSwgWzQ4LjA2MDA5NSwgMzkuNTgyMjM1XSwgWzQ3LjY4NTA3OSwgMzkuNTA4MzY0XSwgWzQ2LjUwNTcyLCAzOC43NzA2MDVdLCBbNDYuNDgzNDk5LCAzOS40NjQxNTVdLCBbNDYuMDM0NTM0LCAzOS42MjgwMjFdLCBbNDUuNjEwMDEyLCAzOS44OTk5OTRdLCBbNDUuODkxOTA3LCA0MC4yMTg0NzZdLCBbNDUuMzU5MTc1LCA0MC41NjE1MDRdLCBbNDUuNTYwMzUxLCA0MC44MTIyOV0sIFs0NS4xNzk0OTYsIDQwLjk4NTM1NF0sIFs0NC45NzI0OCwgNDEuMjQ4MTI5XSwgWzQ1LjIxNzQyNiwgNDEuNDExNDUyXSwgWzQ1Ljk2MjYwMSwgNDEuMTIzODczXSwgWzQ2LjUwMTYzNywgNDEuMDY0NDQ1XSwgWzQ2LjYzNzkwOCwgNDEuMTgxNjczXSwgWzQ2LjE0NTQzMiwgNDEuNzIyODAyXSwgWzQ2LjQwNDk1MSwgNDEuODYwNjc1XSwgWzQ2LjY4NjA3MSwgNDEuODI3MTM3XSwgWzQ3LjM3MzMxNSwgNDEuMjE5NzMyXV1dXSwgInR5cGUiOiAiTXVsdGlQb2x5Z29uIn0sICJpZCI6ICJBWkUiLCAicHJvcGVydGllcyI6IHsiaGlnaGxpZ2h0Ijoge30sICJuYW1lIjogIkF6ZXJiYWlqYW4iLCAic3R5bGUiOiB7ImNvbG9yIjogImdyYXkiLCAiZGFzaEFycmF5IjogIjEsIDEiLCAiZmlsbENvbG9yIjogIiMwMDAwMDAiLCAibGluZU9wYWNpdHkiOiAwLjksICJ3ZWlnaHQiOiAxfX0sICJ0eXBlIjogIkZlYXR1cmUifSwgeyJnZW9tZXRyeSI6IHsiY29vcmRpbmF0ZXMiOiBbW1syOS4zMzk5OTgsIC00LjQ5OTk4M10sIFsyOS4yNzYzODQsIC0zLjI5MzkwN10sIFsyOS4wMjQ5MjYsIC0yLjgzOTI1OF0sIFsyOS42MzIxNzYsIC0yLjkxNzg1OF0sIFsyOS45MzgzNTksIC0yLjM0ODQ4N10sIFszMC40Njk2OTYsIC0yLjQxMzg1OF0sIFszMC41Mjc2NzcsIC0yLjgwNzYzMl0sIFszMC43NDMwMTMsIC0zLjAzNDI4NV0sIFszMC43NTIyNjMsIC0zLjM1OTMzXSwgWzMwLjUwNTU2LCAtMy41Njg1NjddLCBbMzAuMTE2MzMzLCAtNC4wOTAxMzhdLCBbMjkuNzUzNTEyLCAtNC40NTIzODldLCBbMjkuMzM5OTk4LCAtNC40OTk5ODNdXV0sICJ0eXBlIjogIlBvbHlnb24ifSwgImlkIjogIkJESSIsICJwcm9wZXJ0aWVzIjogeyJoaWdobGlnaHQiOiB7fSwgIm5hbWUiOiAiQnVydW5kaSIsICJzdHlsZSI6IHsiY29sb3IiOiAiZ3JheSIsICJkYXNoQXJyYXkiOiAiMSwgMSIsICJmaWxsQ29sb3IiOiAiIzAwMDAwMCIsICJsaW5lT3BhY2l0eSI6IDAuOSwgIndlaWdodCI6IDF9fSwgInR5cGUiOiAiRmVhdHVyZSJ9LCB7Imdlb21ldHJ5IjogeyJjb29yZGluYXRlcyI6IFtbWzMuMzE0OTcxLCA1MS4zNDU3ODFdLCBbNC4wNDcwNzEsIDUxLjI2NzI1OV0sIFs0Ljk3Mzk5MSwgNTEuNDc1MDI0XSwgWzUuNjA2OTc2LCA1MS4wMzcyOThdLCBbNi4xNTY2NTgsIDUwLjgwMzcyMV0sIFs2LjA0MzA3MywgNTAuMTI4MDUyXSwgWzUuNzgyNDE3LCA1MC4wOTAzMjhdLCBbNS42NzQwNTIsIDQ5LjUyOTQ4NF0sIFs0Ljc5OTIyMiwgNDkuOTg1MzczXSwgWzQuMjg2MDIzLCA0OS45MDc0OTddLCBbMy41ODgxODQsIDUwLjM3ODk5Ml0sIFszLjEyMzI1MiwgNTAuNzgwMzYzXSwgWzIuNjU4NDIyLCA1MC43OTY4NDhdLCBbMi41MTM1NzMsIDUxLjE0ODUwNl0sIFszLjMxNDk3MSwgNTEuMzQ1NzgxXV1dLCAidHlwZSI6ICJQb2x5Z29uIn0sICJpZCI6ICJCRUwiLCAicHJvcGVydGllcyI6IHsiaGlnaGxpZ2h0Ijoge30sICJuYW1lIjogIkJlbGdpdW0iLCAic3R5bGUiOiB7ImNvbG9yIjogImdyYXkiLCAiZGFzaEFycmF5IjogIjEsIDEiLCAiZmlsbENvbG9yIjogIiNEMUUyRjMiLCAibGluZU9wYWNpdHkiOiAwLjksICJ3ZWlnaHQiOiAxfX0sICJ0eXBlIjogIkZlYXR1cmUifSwgeyJnZW9tZXRyeSI6IHsiY29vcmRpbmF0ZXMiOiBbW1syLjY5MTcwMiwgNi4yNTg4MTddLCBbMS44NjUyNDEsIDYuMTQyMTU4XSwgWzEuNjE4OTUxLCA2LjgzMjAzOF0sIFsxLjY2NDQ3OCwgOS4xMjg1OV0sIFsxLjQ2MzA0MywgOS4zMzQ2MjRdLCBbMS40MjUwNjEsIDkuODI1Mzk1XSwgWzEuMDc3Nzk1LCAxMC4xNzU2MDddLCBbMC43NzIzMzYsIDEwLjQ3MDgwOF0sIFswLjg5OTU2MywgMTAuOTk3MzM5XSwgWzEuMjQzNDcsIDExLjExMDUxMV0sIFsxLjQ0NzE3OCwgMTEuNTQ3NzE5XSwgWzEuOTM1OTg2LCAxMS42NDExNV0sIFsyLjE1NDQ3NCwgMTEuOTQwMTVdLCBbMi40OTAxNjQsIDEyLjIzMzA1Ml0sIFsyLjg0ODY0MywgMTIuMjM1NjM2XSwgWzMuNjExMTgsIDExLjY2MDE2N10sIFszLjU3MjIxNiwgMTEuMzI3OTM5XSwgWzMuNzk3MTEyLCAxMC43MzQ3NDZdLCBbMy42MDAwNywgMTAuMzMyMTg2XSwgWzMuNzA1NDM4LCAxMC4wNjMyMV0sIFszLjIyMDM1MiwgOS40NDQxNTNdLCBbMi45MTIzMDgsIDkuMTM3NjA4XSwgWzIuNzIzNzkzLCA4LjUwNjg0NV0sIFsyLjc0OTA2MywgNy44NzA3MzRdLCBbMi42OTE3MDIsIDYuMjU4ODE3XV1dLCAidHlwZSI6ICJQb2x5Z29uIn0sICJpZCI6ICJCRU4iLCAicHJvcGVydGllcyI6IHsiaGlnaGxpZ2h0Ijoge30sICJuYW1lIjogIkJlbmluIiwgInN0eWxlIjogeyJjb2xvciI6ICJncmF5IiwgImRhc2hBcnJheSI6ICIxLCAxIiwgImZpbGxDb2xvciI6ICIjMDAwMDAwIiwgImxpbmVPcGFjaXR5IjogMC45LCAid2VpZ2h0IjogMX19LCAidHlwZSI6ICJGZWF0dXJlIn0sIHsiZ2VvbWV0cnkiOiB7ImNvb3JkaW5hdGVzIjogW1tbLTIuODI3NDk2LCA5LjY0MjQ2MV0sIFstMy41MTE4OTksIDkuOTAwMzI2XSwgWy0zLjk4MDQ0OSwgOS44NjIzNDRdLCBbLTQuMzMwMjQ3LCA5LjYxMDgzNV0sIFstNC43Nzk4ODQsIDkuODIxOTg1XSwgWy00Ljk1NDY1MywgMTAuMTUyNzE0XSwgWy01LjQwNDM0MiwgMTAuMzcwNzM3XSwgWy01LjQ3MDU2NSwgMTAuOTUxMjddLCBbLTUuMTk3ODQzLCAxMS4zNzUxNDZdLCBbLTUuMjIwOTQyLCAxMS43MTM4NTldLCBbLTQuNDI3MTY2LCAxMi41NDI2NDZdLCBbLTQuMjgwNDA1LCAxMy4yMjg0NDRdLCBbLTQuMDA2MzkxLCAxMy40NzI0ODVdLCBbLTMuNTIyODAzLCAxMy4zMzc2NjJdLCBbLTMuMTAzNzA3LCAxMy41NDEyNjddLCBbLTIuOTY3Njk0LCAxMy43OTgxNV0sIFstMi4xOTE4MjUsIDE0LjI0NjQxOF0sIFstMi4wMDEwMzUsIDE0LjU1OTAwOF0sIFstMS4wNjYzNjMsIDE0Ljk3MzgxNV0sIFstMC41MTU4NTQsIDE1LjExNjE1OF0sIFstMC4yNjYyNTcsIDE0LjkyNDMwOV0sIFswLjM3NDg5MiwgMTQuOTI4OTA4XSwgWzAuMjk1NjQ2LCAxNC40NDQyMzVdLCBbMC40Mjk5MjgsIDEzLjk4ODczM10sIFswLjk5MzA0NiwgMTMuMzM1NzVdLCBbMS4wMjQxMDMsIDEyLjg1MTgyNl0sIFsyLjE3NzEwOCwgMTIuNjI1MDE4XSwgWzIuMTU0NDc0LCAxMS45NDAxNV0sIFsxLjkzNTk4NiwgMTEuNjQxMTVdLCBbMS40NDcxNzgsIDExLjU0NzcxOV0sIFsxLjI0MzQ3LCAxMS4xMTA1MTFdLCBbMC44OTk1NjMsIDEwLjk5NzMzOV0sIFswLjAyMzgwMywgMTEuMDE4NjgyXSwgWy0wLjQzODcwMiwgMTEuMDk4MzQxXSwgWy0wLjc2MTU3NiwgMTAuOTM2OTNdLCBbLTEuMjAzMzU4LCAxMS4wMDk4MTldLCBbLTIuOTQwNDA5LCAxMC45NjI2OV0sIFstMi45NjM4OTYsIDEwLjM5NTMzNV0sIFstMi44Mjc0OTYsIDkuNjQyNDYxXV1dLCAidHlwZSI6ICJQb2x5Z29uIn0sICJpZCI6ICJCRkEiLCAicHJvcGVydGllcyI6IHsiaGlnaGxpZ2h0Ijoge30sICJuYW1lIjogIkJ1cmtpbmEgRmFzbyIsICJzdHlsZSI6IHsiY29sb3IiOiAiZ3JheSIsICJkYXNoQXJyYXkiOiAiMSwgMSIsICJmaWxsQ29sb3IiOiAiIzAwMDAwMCIsICJsaW5lT3BhY2l0eSI6IDAuOSwgIndlaWdodCI6IDF9fSwgInR5cGUiOiAiRmVhdHVyZSJ9LCB7Imdlb21ldHJ5IjogeyJjb29yZGluYXRlcyI6IFtbWzkyLjY3MjcyMSwgMjIuMDQxMjM5XSwgWzkyLjY1MjI1NywgMjEuMzI0MDQ4XSwgWzkyLjMwMzIzNCwgMjEuNDc1NDg1XSwgWzkyLjM2ODU1NCwgMjAuNjcwODgzXSwgWzkyLjA4Mjg4NiwgMjEuMTkyMTk1XSwgWzkyLjAyNTIxNSwgMjEuNzAxNTddLCBbOTEuODM0ODkxLCAyMi4xODI5MzZdLCBbOTEuNDE3MDg3LCAyMi43NjUwMTldLCBbOTAuNDk2MDA2LCAyMi44MDUwMTddLCBbOTAuNTg2OTU3LCAyMi4zOTI3OTRdLCBbOTAuMjcyOTcxLCAyMS44MzYzNjhdLCBbODkuODQ3NDY3LCAyMi4wMzkxNDZdLCBbODkuNzAyMDUsIDIxLjg1NzExNl0sIFs4OS40MTg4NjMsIDIxLjk2NjE3OV0sIFs4OS4wMzE5NjEsIDIyLjA1NTcwOF0sIFs4OC44NzYzMTIsIDIyLjg3OTE0Nl0sIFs4OC41Mjk3NywgMjMuNjMxMTQyXSwgWzg4LjY5OTk0LCAyNC4yMzM3MTVdLCBbODguMDg0NDIyLCAyNC41MDE2NTddLCBbODguMzA2MzczLCAyNC44NjYwNzldLCBbODguOTMxNTU0LCAyNS4yMzg2OTJdLCBbODguMjA5Nzg5LCAyNS43NjgwNjZdLCBbODguNTYzMDQ5LCAyNi40NDY1MjZdLCBbODkuMzU1MDk0LCAyNi4wMTQ0MDddLCBbODkuODMyNDgxLCAyNS45NjUwODJdLCBbODkuOTIwNjkzLCAyNS4yNjk3NV0sIFs5MC44NzIyMTEsIDI1LjEzMjYwMV0sIFs5MS43OTk1OTYsIDI1LjE0NzQzMl0sIFs5Mi4zNzYyMDIsIDI0Ljk3NjY5M10sIFs5MS45MTUwOTMsIDI0LjEzMDQxNF0sIFs5MS40Njc3MywgMjQuMDcyNjM5XSwgWzkxLjE1ODk2MywgMjMuNTAzNTI3XSwgWzkxLjcwNjQ3NSwgMjIuOTg1MjY0XSwgWzkxLjg2OTkyOCwgMjMuNjI0MzQ2XSwgWzkyLjE0NjAzNSwgMjMuNjI3NDk5XSwgWzkyLjY3MjcyMSwgMjIuMDQxMjM5XV1dLCAidHlwZSI6ICJQb2x5Z29uIn0sICJpZCI6ICJCR0QiLCAicHJvcGVydGllcyI6IHsiaGlnaGxpZ2h0Ijoge30sICJuYW1lIjogIkJhbmdsYWRlc2giLCAic3R5bGUiOiB7ImNvbG9yIjogImdyYXkiLCAiZGFzaEFycmF5IjogIjEsIDEiLCAiZmlsbENvbG9yIjogIiMwMDAwMDAiLCAibGluZU9wYWNpdHkiOiAwLjksICJ3ZWlnaHQiOiAxfX0sICJ0eXBlIjogIkZlYXR1cmUifSwgeyJnZW9tZXRyeSI6IHsiY29vcmRpbmF0ZXMiOiBbW1syMi42NTcxNSwgNDQuMjM0OTIzXSwgWzIyLjk0NDgzMiwgNDMuODIzNzg1XSwgWzIzLjMzMjMwMiwgNDMuODk3MDExXSwgWzI0LjEwMDY3OSwgNDMuNzQxMDUxXSwgWzI1LjU2OTI3MiwgNDMuNjg4NDQ1XSwgWzI2LjA2NTE1OSwgNDMuOTQzNDk0XSwgWzI3LjI0MjQsIDQ0LjE3NTk4Nl0sIFsyNy45NzAxMDcsIDQzLjgxMjQ2OF0sIFsyOC41NTgwODEsIDQzLjcwNzQ2Ml0sIFsyOC4wMzkwOTUsIDQzLjI5MzE3Ml0sIFsyNy42NzM4OTgsIDQyLjU3Nzg5Ml0sIFsyNy45OTY3MiwgNDIuMDA3MzU5XSwgWzI3LjEzNTczOSwgNDIuMTQxNDg1XSwgWzI2LjExNzA0MiwgNDEuODI2OTA1XSwgWzI2LjEwNjEzOCwgNDEuMzI4ODk5XSwgWzI1LjE5NzIwMSwgNDEuMjM0NDg2XSwgWzI0LjQ5MjY0NSwgNDEuNTgzODk2XSwgWzIzLjY5MjA3NCwgNDEuMzA5MDgxXSwgWzIyLjk1MjM3NywgNDEuMzM3OTk0XSwgWzIyLjg4MTM3NCwgNDEuOTk5Mjk3XSwgWzIyLjM4MDUyNiwgNDIuMzIwMjZdLCBbMjIuNTQ1MDEyLCA0Mi40NjEzNjJdLCBbMjIuNDM2NTk1LCA0Mi41ODAzMjFdLCBbMjIuNjA0ODAxLCA0Mi44OTg1MTldLCBbMjIuOTg2MDE5LCA0My4yMTExNjFdLCBbMjIuNTAwMTU3LCA0My42NDI4MTRdLCBbMjIuNDEwNDQ2LCA0NC4wMDgwNjNdLCBbMjIuNjU3MTUsIDQ0LjIzNDkyM11dXSwgInR5cGUiOiAiUG9seWdvbiJ9LCAiaWQiOiAiQkdSIiwgInByb3BlcnRpZXMiOiB7ImhpZ2hsaWdodCI6IHt9LCAibmFtZSI6ICJCdWxnYXJpYSIsICJzdHlsZSI6IHsiY29sb3IiOiAiZ3JheSIsICJkYXNoQXJyYXkiOiAiMSwgMSIsICJmaWxsQ29sb3IiOiAiIzAwMDAwMCIsICJsaW5lT3BhY2l0eSI6IDAuOSwgIndlaWdodCI6IDF9fSwgInR5cGUiOiAiRmVhdHVyZSJ9LCB7Imdlb21ldHJ5IjogeyJjb29yZGluYXRlcyI6IFtbW1stNzcuNTM0NjYsIDIzLjc1OTc1XSwgWy03Ny43OCwgMjMuNzFdLCBbLTc4LjAzNDA1LCAyNC4yODYxNV0sIFstNzguNDA4NDgsIDI0LjU3NTY0XSwgWy03OC4xOTA4NywgMjUuMjEwM10sIFstNzcuODksIDI1LjE3XSwgWy03Ny41NCwgMjQuMzRdLCBbLTc3LjUzNDY2LCAyMy43NTk3NV1dXSwgW1tbLTc3LjgyLCAyNi41OF0sIFstNzguOTEsIDI2LjQyXSwgWy03OC45OCwgMjYuNzldLCBbLTc4LjUxLCAyNi44N10sIFstNzcuODUsIDI2Ljg0XSwgWy03Ny44MiwgMjYuNThdXV0sIFtbWy03NywgMjYuNTldLCBbLTc3LjE3MjU1LCAyNS44NzkxOF0sIFstNzcuMzU2NDEsIDI2LjAwNzM1XSwgWy03Ny4zNCwgMjYuNTNdLCBbLTc3Ljc4ODAyLCAyNi45MjUxNl0sIFstNzcuNzksIDI3LjA0XSwgWy03NywgMjYuNTldXV1dLCAidHlwZSI6ICJNdWx0aVBvbHlnb24ifSwgImlkIjogIkJIUyIsICJwcm9wZXJ0aWVzIjogeyJoaWdobGlnaHQiOiB7fSwgIm5hbWUiOiAiVGhlIEJhaGFtYXMiLCAic3R5bGUiOiB7ImNvbG9yIjogImdyYXkiLCAiZGFzaEFycmF5IjogIjEsIDEiLCAiZmlsbENvbG9yIjogIiMwMDAwMDAiLCAibGluZU9wYWNpdHkiOiAwLjksICJ3ZWlnaHQiOiAxfX0sICJ0eXBlIjogIkZlYXR1cmUifSwgeyJnZW9tZXRyeSI6IHsiY29vcmRpbmF0ZXMiOiBbW1sxOS4wMDU0ODYsIDQ0Ljg2MDIzNF0sIFsxOS4zNjgwMywgNDQuODYzXSwgWzE5LjExNzYxLCA0NC40MjMwN10sIFsxOS41OTk3NiwgNDQuMDM4NDddLCBbMTkuNDU0LCA0My41NjgxXSwgWzE5LjIxODUyLCA0My41MjM4NF0sIFsxOS4wMzE2NSwgNDMuNDMyNTNdLCBbMTguNzA2NDgsIDQzLjIwMDExXSwgWzE4LjU2LCA0Mi42NV0sIFsxNy42NzQ5MjIsIDQzLjAyODU2M10sIFsxNy4yOTczNzMsIDQzLjQ0NjM0MV0sIFsxNi45MTYxNTYsIDQzLjY2NzcyMl0sIFsxNi40NTY0NDMsIDQ0LjA0MTI0XSwgWzE2LjIzOTY2LCA0NC4zNTExNDNdLCBbMTUuNzUwMDI2LCA0NC44MTg3MTJdLCBbMTUuOTU5MzY3LCA0NS4yMzM3NzddLCBbMTYuMzE4MTU3LCA0NS4wMDQxMjddLCBbMTYuNTM0OTM5LCA0NS4yMTE2MDhdLCBbMTcuMDAyMTQ2LCA0NS4yMzM3NzddLCBbMTcuODYxNzgzLCA0NS4wNjc3NF0sIFsxOC41NTMyMTQsIDQ1LjA4MTU5XSwgWzE5LjAwNTQ4NiwgNDQuODYwMjM0XV1dLCAidHlwZSI6ICJQb2x5Z29uIn0sICJpZCI6ICJCSUgiLCAicHJvcGVydGllcyI6IHsiaGlnaGxpZ2h0Ijoge30sICJuYW1lIjogIkJvc25pYSBhbmQgSGVyemVnb3ZpbmEiLCAic3R5bGUiOiB7ImNvbG9yIjogImdyYXkiLCAiZGFzaEFycmF5IjogIjEsIDEiLCAiZmlsbENvbG9yIjogIiMwMDAwMDAiLCAibGluZU9wYWNpdHkiOiAwLjksICJ3ZWlnaHQiOiAxfX0sICJ0eXBlIjogIkZlYXR1cmUifSwgeyJnZW9tZXRyeSI6IHsiY29vcmRpbmF0ZXMiOiBbW1syMy40ODQxMjgsIDUzLjkxMjQ5OF0sIFsyNC40NTA2ODQsIDUzLjkwNTcwMl0sIFsyNS41MzYzNTQsIDU0LjI4MjQyM10sIFsyNS43Njg0MzMsIDU0Ljg0Njk2M10sIFsyNi41ODgyNzksIDU1LjE2NzE3Nl0sIFsyNi40OTQzMzEsIDU1LjYxNTEwN10sIFsyNy4xMDI0NiwgNTUuNzgzMzE0XSwgWzI4LjE3NjcwOSwgNTYuMTY5MTNdLCBbMjkuMjI5NTEzLCA1NS45MTgzNDRdLCBbMjkuMzcxNTcyLCA1NS42NzAwOTFdLCBbMjkuODk2Mjk0LCA1NS43ODk0NjNdLCBbMzAuODczOTA5LCA1NS41NTA5NzZdLCBbMzAuOTcxODM2LCA1NS4wODE1NDhdLCBbMzAuNzU3NTM0LCA1NC44MTE3NzFdLCBbMzEuMzg0NDcyLCA1NC4xNTcwNTZdLCBbMzEuNzkxNDI0LCA1My45NzQ2MzldLCBbMzEuNzMxMjczLCA1My43OTQwMjldLCBbMzIuNDA1NTk5LCA1My42MTgwNDVdLCBbMzIuNjkzNjQzLCA1My4zNTE0MjFdLCBbMzIuMzA0NTE5LCA1My4xMzI3MjZdLCBbMzEuNDk3NjQ0LCA1My4xNjc0MjddLCBbMzEuMzA1MjAxLCA1My4wNzM5OTZdLCBbMzEuNTQwMDE4LCA1Mi43NDIwNTJdLCBbMzEuNzg1OTk4LCA1Mi4xMDE2NzhdLCBbMzAuOTI3NTQ5LCA1Mi4wNDIzNTNdLCBbMzAuNjE5NDU0LCA1MS44MjI4MDZdLCBbMzAuNTU1MTE3LCA1MS4zMTk1MDNdLCBbMzAuMTU3MzY0LCA1MS40MTYxMzhdLCBbMjkuMjU0OTM4LCA1MS4zNjgyMzRdLCBbMjguOTkyODM1LCA1MS42MDIwNDRdLCBbMjguNjE3NjEzLCA1MS40Mjc3MTRdLCBbMjguMjQxNjE1LCA1MS41NzIyMjddLCBbMjcuNDU0MDY2LCA1MS41OTIzMDNdLCBbMjYuMzM3OTU5LCA1MS44MzIyODldLCBbMjUuMzI3Nzg4LCA1MS45MTA2NTZdLCBbMjQuNTUzMTA2LCA1MS44ODg0NjFdLCBbMjQuMDA1MDc4LCA1MS42MTc0NDRdLCBbMjMuNTI3MDcxLCA1MS41Nzg0NTRdLCBbMjMuNTA4MDAyLCA1Mi4wMjM2NDddLCBbMjMuMTk5NDk0LCA1Mi40ODY5NzddLCBbMjMuNzk5MTk5LCA1Mi42OTEwOTldLCBbMjMuODA0OTM1LCA1My4wODk3MzFdLCBbMjMuNTI3NTM2LCA1My40NzAxMjJdLCBbMjMuNDg0MTI4LCA1My45MTI0OThdXV0sICJ0eXBlIjogIlBvbHlnb24ifSwgImlkIjogIkJMUiIsICJwcm9wZXJ0aWVzIjogeyJoaWdobGlnaHQiOiB7fSwgIm5hbWUiOiAiQmVsYXJ1cyIsICJzdHlsZSI6IHsiY29sb3IiOiAiZ3JheSIsICJkYXNoQXJyYXkiOiAiMSwgMSIsICJmaWxsQ29sb3IiOiAiIzAwMDAwMCIsICJsaW5lT3BhY2l0eSI6IDAuOSwgIndlaWdodCI6IDF9fSwgInR5cGUiOiAiRmVhdHVyZSJ9LCB7Imdlb21ldHJ5IjogeyJjb29yZGluYXRlcyI6IFtbWy04OS4xNDMwOCwgMTcuODA4MzE5XSwgWy04OS4xNTA5MDksIDE3Ljk1NTQ2OF0sIFstODkuMDI5ODU3LCAxOC4wMDE1MTFdLCBbLTg4Ljg0ODM0NCwgMTcuODgzMTk4XSwgWy04OC40OTAxMjMsIDE4LjQ4NjgzMV0sIFstODguMzAwMDMxLCAxOC40OTk5ODJdLCBbLTg4LjI5NjMzNiwgMTguMzUzMjczXSwgWy04OC4xMDY4MTMsIDE4LjM0ODY3NF0sIFstODguMTIzNDc5LCAxOC4wNzY2NzVdLCBbLTg4LjI4NTM1NSwgMTcuNjQ0MTQzXSwgWy04OC4xOTc4NjcsIDE3LjQ4OTQ3NV0sIFstODguMzAyNjQxLCAxNy4xMzE2OTRdLCBbLTg4LjIzOTUxOCwgMTcuMDM2MDY2XSwgWy04OC4zNTU0MjgsIDE2LjUzMDc3NF0sIFstODguNTUxODI1LCAxNi4yNjU0NjddLCBbLTg4LjczMjQzNCwgMTYuMjMzNjM1XSwgWy04OC45MzA2MTMsIDE1Ljg4NzI3M10sIFstODkuMjI5MTIyLCAxNS44ODY5MzhdLCBbLTg5LjE1MDgwNiwgMTcuMDE1NTc3XSwgWy04OS4xNDMwOCwgMTcuODA4MzE5XV1dLCAidHlwZSI6ICJQb2x5Z29uIn0sICJpZCI6ICJCTFoiLCAicHJvcGVydGllcyI6IHsiaGlnaGxpZ2h0Ijoge30sICJuYW1lIjogIkJlbGl6ZSIsICJzdHlsZSI6IHsiY29sb3IiOiAiZ3JheSIsICJkYXNoQXJyYXkiOiAiMSwgMSIsICJmaWxsQ29sb3IiOiAiIzAwMDAwMCIsICJsaW5lT3BhY2l0eSI6IDAuOSwgIndlaWdodCI6IDF9fSwgInR5cGUiOiAiRmVhdHVyZSJ9LCB7Imdlb21ldHJ5IjogeyJjb29yZGluYXRlcyI6IFtbWy02NC43Nzk5NzM0MzMyOTk4LCAzMi4zMDcyMDAwNTgxODAyXSwgWy02NC43ODczMzE5MTgzMDYxLCAzMi4zMDM5MjM3MTQzNDI4XSwgWy02NC43OTQ2OTQyNzEwMTczLCAzMi4zMDMyNjgyNzAwMzg4XSwgWy02NC44MDk0Mjk3OTgxMjgzLCAzMi4zMDk4MTc1NzI4NDE0XSwgWy02NC44MTY3ODk2MzUyNDM3LCAzMi4zMDU4ODQ1NzE4NDY2XSwgWy02NC44MTAxOTY4MDI5NjQyLCAzMi4zMDIyODMzMTgwNTExXSwgWy02NC43OTYyMjkxNDY1NDg0LCAzMi4yOTM0NDA5NzMyNDI3XSwgWy02NC43ODE1MDg2MzM2OTc4LCAzMi4yODY4OTczMTE0NTE0XSwgWy02NC43OTk3MDI1NTEzNDM3LCAzMi4yNzk2ODk2NDE3MzI4XSwgWy02NC44MDY2NzA3NjkxMDg3LCAzMi4yNzQ3NzY3NTY5NDY1XSwgWy02NC44MjI1NTg3ODczNjgzLCAzMi4yNjY5MTExMjg5Mzk1XSwgWy02NC44Mjg3NTQ4ODQwMzA2LCAzMi4yNjY5MDc1NDczODE3XSwgWy02NC44MzA2NzMyMTQzNDk4LCAzMi4yNTgzOTQ0ODQwMjM1XSwgWy02NC44Mzk5OTI0ODU0OTcyLCAzMi4yNTQ3ODIyODIzMzZdLCBbLTY0Ljg1NjYwOTA0NjIzNTQsIDMyLjI1NDc3NDAzODc1MTRdLCBbLTY0Ljg2ODIyOTY3ODk0NDYsIDMyLjI2MTYzOTM2MTQzMjJdLCBbLTY0Ljg2MjgyNDE0NTk1NjMsIDMyLjI3MjQ0ODE5MzM5NTldLCBbLTY0Ljg3NDg2NTEzMzg5NTEsIDMyLjI3NTcxMjAyNjQ3NTNdLCBbLTY0Ljg3MTc3NTI4NTY2NDQsIDMyLjI4MTkzNzE1ODIwMjZdLCBbLTY0Ljg2NzE0MjIxMjcyOTUsIDMyLjI5MzA3NjA1NDc5ODldLCBbLTY0Ljg1NTkwNjg3NjQ0MzcsIDMyLjI5NjAzMjExODY0NzFdLCBbLTY0Ljg1OTc0MjkwNzIyNzksIDMyLjMwMTU4NDIwMjE5MzNdLCBbLTY0Ljg0MzkyMzM0ODY3MTcsIDMyLjMxNDA1NTM4NTI1NDNdLCBbLTY0LjgzNTAyNDIzMjkzMTEsIDMyLjMyNDIxNjE3NjAwMDZdLCBbLTY0LjgzMzg2OTA1OTM2NzIsIDMyLjMyOTQ1ODc1NjE1NTddLCBbLTY0Ljg1MjAyOTg2NTExNjQsIDMyLjMxMTA5MTE4Nzk5NTRdLCBbLTY0Ljg2MzU5MjI5MzI1NzMsIDMyLjMwNDg0Njk0MzMzNjNdLCBbLTY0Ljg2ODY2Njg5OTQwNzksIDMyLjMwOTEwNzQ1MDgzXSwgWy02NC44NzIxMzU0NTkzNDE1LCAzMi4zMDQxOTA4NjA2MzAxXSwgWy02NC44Nzc5NjY3MzI4NDg1LCAzMi4zMDM4NjMyODAwNDYyXSwgWy02NC44NzgwMDQ2ODQ0MzIxLCAzMi4yOTA3NzU3ODMxNjkyXSwgWy02NC44ODQ5Nzc2NjU4MjkyLCAzMi4yODE5MjYxMzY2MDA0XSwgWy02NC44NzgzMjMwMDA0NjI5LCAzMi4yNjEzMDAxNDE4NjgxXSwgWy02NC44NjMxOTQ5Njg4NzcsIDMyLjI0NjU3OTk0ODU4MDFdLCBbLTY0Ljg1MTk4MTk1NTU3MjIsIDMyLjI0ODU1MTkxMzQ2NjNdLCBbLTY0Ljg0MjMxMTk4MDA3NCwgMzIuMjQ5MjEyMzMxNzI5Nl0sIFstNjQuODM4ODI0MjYwNTIwOSwgMzIuMjQ3NTc3MzQ3MjUzNF0sIFstNjQuODMzNDAwMjU3NTUzMiwgMzIuMjQ2MjcxNDcxNDY5OF0sIFstNjQuODI1NjM4OTUzMDU4NCwgMzIuMjQ3MjYzNzM5ODU5NF0sIFstNjQuODIwNTY5NzU1NjAyNiwgMzIuMjUzMTY5ODg4MDMyOF0sIFstNjQuODEwNTA4NzI3NTU3OSwgMzIuMjU2MTIwODk3NDE1Nl0sIFstNjQuNzkwMDE3NzcyNzMzOCwgMzIuMjY1OTQ0NjkzNjk5Ml0sIFstNjQuNzc0NTQxNTk3MDQxNiwgMzIuMjcxODQxMzAyMzQyN10sIFstNjQuNzY0NDc0MjQzNjQyNiwgMzIuMjg1NTkzMTM1MzIxNF0sIFstNjQuNzU1MTgwMzQ0MjI3NiwgMzIuMjkwODMyNjcwMjUzMV0sIFstNjQuNzQyMzk4Mjk3MTQzNiwgMzIuMjk5NjczNDk5NDAyNF0sIFstNjQuNzIwNjk5MTc5NzY4MiwgMzIuMzEzNzU0MjIwMTI1OF0sIFstNjQuNzExNzg1MTI0NzEzNCwgMzIuMzE3NjgyMzM2MDgwNl0sIFstNjQuNjk2Mjc3ODgxMzEzMywgMzIuMzI3NTAyOTExNTUzMl0sIFstNjQuNjc2ODkyMTEyNzQ1MiwgMzIuMzMyNDA5NTM5NzU1NV0sIFstNjQuNjU2NzEzNjkyNzc3NywgMzIuMzQ1MTc3NjQ1ODQ2OV0sIFstNjQuNjUzMjE2ODgyMzQ5OSwgMzIuMzQ5NDM1NjYyNzk0MV0sIFstNjQuNjYwNTcyMDM4NDQyOSwgMzIuMzU4OTQyMzQ4Nzc2M10sIFstNjQuNjUxMjU4MTk0NzEsIDMyLjM2MTU2MDA5MDY0NjZdLCBbLTY0LjY0NjIwMTE2NzA4MTYsIDMyLjM2OTc1MTY5NzQ5XSwgWy02NC42NjEzMjI3NTEyODMyLCAzMi4zNzYzMTM1MDA4NzIxXSwgWy02NC42NjkwNjY2MDc0Mzk3LCAzMi4zODg0NDQ1NDM5MjRdLCBbLTY0LjY4MzQyNzA1NDg1OTUsIDMyLjM4NTQ5NjgzMTY3ODhdLCBbLTY0LjY5NTQ2MTc2NzI3MTQsIDMyLjM3NjMyMjEyODU4NjldLCBbLTY0LjcwNDM4Njg5NTY1LCAzMi4zNzA0MjU0NzYwNDY5XSwgWy02NC43MTE3NTY5OTgyNzk4LCAzMi4zNjgxMzI2MDAyNDldLCBbLTY0LjcwNjE3NjQ3NDQ0MDQsIDMyLjM2MDAxMTA1OTM1NTldLCBbLTY0LjcwMDUzMTU1MjY5NywgMzIuMzU5MDYwMTM1NjgxOF0sIFstNjQuNjk0MDM0ODAzMzk2NywgMzIuMzY0MDcwODY1OTgzNV0sIFstNjQuNjg5NTE2NDgyNjA4MiwgMzIuMzYzMzU5ODU3OTg2Nl0sIFstNjQuNjg2NDE1MDA5OTI1NSwgMzIuMzU0Nzc5NzU4NzI2Nl0sIFstNjQuNjgyNDYzNTk5NTUwNCwgMzIuMzU0MDYyODE3Njg0Nl0sIFstNjQuNjgzNTg3NjY1MjgzNSwgMzIuMzYyNjQ0NzY3Nzk2OF0sIFstNjQuNjgwMTk5ODY5NzQxNSwgMzIuMzYzMTE5OTA5Njk3OV0sIFstNjQuNjY3MjE3MDQ0NDY4NywgMzIuMzU5Nzc1MTYxNzQ3M10sIFstNjQuNjU5ODgxMTI2NDk3OCwgMzIuMzQ5NzYyNTc3MTc1NV0sIFstNjQuNjczNzMzMTIzNTM4NCwgMzIuMzM5MDI4MTg1MTYzNV0sIFstNjQuNjg4NzA5MDY0ODE4MywgMzIuMzM0MjQzOTQwODA1M10sIFstNjQuNzA2NzMyODU0NDQ2LCAzMi4zNDI5MDEwNzIzMDM2XSwgWy02NC43MTQ5MzAxNTc2MTEyLCAzMi4zNTUyMTg4NzUzNTEzXSwgWy02NC43MTg1OTY3NjY2NjY5LCAzMi4zNTUyMjM5MjEyMzk0XSwgWy02NC43MjE0MTg5ODQ3MzE0LCAzMi4zNTE4ODMwMjMxMzQyXSwgWy02NC43MjcwNjE2MDY3MjIyLCAzMi4zNDY2NDYxNzE1NDc1XSwgWy02NC43MzQ5NjI0NjA4ODIsIDMyLjM0NDI4MTk4MzA0OTldLCBbLTY0LjczODM1MjE1NDkwOTQsIDMyLjM0MDcyMTY1MTQ5MThdLCBbLTY0Ljc0MTE3Mjk5NzYzMzMsIDMyLjMzMTE3OTA4NjQ2MjddLCBbLTY0Ljc0MjMwMTkyMTY0ODUsIDMyLjMyMzMxMTU2MTIxM10sIFstNjQuNzQ2MjQ4MjM1NDI4MSwgMzIuMzE4NTM4NjExNTgxXSwgWy02NC43NTY2NzczNzM5NjEzLCAzMi4zMTMwNTA5MTMwMTc1XSwgWy02NC43Njg3MzgyMDA1NjMsIDMyLjMwODgzNjk4MTY1NzJdLCBbLTY0Ljc3OTk3MzQzMzI5OTgsIDMyLjMwNzIwMDA1ODE4MDJdXV0sICJ0eXBlIjogIlBvbHlnb24ifSwgImlkIjogIkJNVSIsICJwcm9wZXJ0aWVzIjogeyJoaWdobGlnaHQiOiB7fSwgIm5hbWUiOiAiQmVybXVkYSIsICJzdHlsZSI6IHsiY29sb3IiOiAiZ3JheSIsICJkYXNoQXJyYXkiOiAiMSwgMSIsICJmaWxsQ29sb3IiOiAiIzAwMDAwMCIsICJsaW5lT3BhY2l0eSI6IDAuOSwgIndlaWdodCI6IDF9fSwgInR5cGUiOiAiRmVhdHVyZSJ9LCB7Imdlb21ldHJ5IjogeyJjb29yZGluYXRlcyI6IFtbWy02Mi44NDY0NjgsIC0yMi4wMzQ5ODVdLCBbLTYzLjk4NjgzOCwgLTIxLjk5MzY0NF0sIFstNjQuMzc3MDIxLCAtMjIuNzk4MDkxXSwgWy02NC45NjQ4OTIsIC0yMi4wNzU4NjJdLCBbLTY2LjI3MzMzOSwgLTIxLjgzMjMxXSwgWy02Ny4xMDY2NzQsIC0yMi43MzU5MjVdLCBbLTY3LjgyODE4LCAtMjIuODcyOTE5XSwgWy02OC4yMTk5MTMsIC0yMS40OTQzNDddLCBbLTY4Ljc1NzE2NywgLTIwLjM3MjY1OF0sIFstNjguNDQyMjI1LCAtMTkuNDA1MDY4XSwgWy02OC45NjY4MTgsIC0xOC45ODE2ODNdLCBbLTY5LjEwMDI0NywgLTE4LjI2MDEyNV0sIFstNjkuNTkwNDI0LCAtMTcuNTgwMDEyXSwgWy02OC45NTk2MzUsIC0xNi41MDA2OThdLCBbLTY5LjM4OTc2NCwgLTE1LjY2MDEyOV0sIFstNjkuMTYwMzQ3LCAtMTUuMzIzOTc0XSwgWy02OS4zMzk1MzUsIC0xNC45NTMxOTVdLCBbLTY4Ljk0ODg4NywgLTE0LjQ1MzYzOV0sIFstNjguOTI5MjI0LCAtMTMuNjAyNjg0XSwgWy02OC44ODAwOCwgLTEyLjg5OTcyOV0sIFstNjguNjY1MDgsIC0xMi41NjEzXSwgWy02OS41Mjk2NzgsIC0xMC45NTE3MzRdLCBbLTY4Ljc4NjE1OCwgLTExLjAzNjM4XSwgWy02OC4yNzEyNTQsIC0xMS4wMTQ1MjFdLCBbLTY4LjA0ODE5MiwgLTEwLjcxMjA1OV0sIFstNjcuMTczODAxLCAtMTAuMzA2ODEyXSwgWy02Ni42NDY5MDgsIC05LjkzMTMzMV0sIFstNjUuMzM4NDM1LCAtOS43NjE5ODhdLCBbLTY1LjQ0NDgzNywgLTEwLjUxMTQ1MV0sIFstNjUuMzIxODk5LCAtMTAuODk1ODcyXSwgWy02NS40MDIyODEsIC0xMS41NjYyN10sIFstNjQuMzE2MzUzLCAtMTIuNDYxOTc4XSwgWy02My4xOTY0OTksIC0xMi42MjcwMzNdLCBbLTYyLjgwMzA2LCAtMTMuMDAwNjUzXSwgWy02Mi4xMjcwODEsIC0xMy4xOTg3ODFdLCBbLTYxLjcxMzIwNCwgLTEzLjQ4OTIwMl0sIFstNjEuMDg0MTIxLCAtMTMuNDc5Mzg0XSwgWy02MC41MDMzMDQsIC0xMy43NzU5NTVdLCBbLTYwLjQ1OTE5OCwgLTE0LjM1NDAwN10sIFstNjAuMjY0MzI2LCAtMTQuNjQ1OTc5XSwgWy02MC4yNTExNDksIC0xNS4wNzcyMTldLCBbLTYwLjU0Mjk2NiwgLTE1LjA5MzkxXSwgWy02MC4xNTgzOSwgLTE2LjI1ODI4NF0sIFstNTguMjQxMjIsIC0xNi4yOTk1NzNdLCBbLTU4LjM4ODA1OCwgLTE2Ljg3NzEwOV0sIFstNTguMjgwODA0LCAtMTcuMjcxNzFdLCBbLTU3LjczNDU1OCwgLTE3LjU1MjQ2OF0sIFstNTcuNDk4MzcxLCAtMTguMTc0MTg4XSwgWy01Ny42NzYwMDksIC0xOC45NjE4NF0sIFstNTcuOTQ5OTk3LCAtMTkuNDAwMDA0XSwgWy01Ny44NTM4MDIsIC0xOS45Njk5OTVdLCBbLTU4LjE2NjM5MiwgLTIwLjE3NjcwMV0sIFstNTguMTgzNDcxLCAtMTkuODY4Mzk5XSwgWy01OS4xMTUwNDIsIC0xOS4zNTY5MDZdLCBbLTYwLjA0MzU2NSwgLTE5LjM0Mjc0N10sIFstNjEuNzg2MzI2LCAtMTkuNjMzNzM3XSwgWy02Mi4yNjU5NjEsIC0yMC41MTM3MzVdLCBbLTYyLjI5MTE3OSwgLTIxLjA1MTYzNV0sIFstNjIuNjg1MDU3LCAtMjIuMjQ5MDI5XSwgWy02Mi44NDY0NjgsIC0yMi4wMzQ5ODVdXV0sICJ0eXBlIjogIlBvbHlnb24ifSwgImlkIjogIkJPTCIsICJwcm9wZXJ0aWVzIjogeyJoaWdobGlnaHQiOiB7fSwgIm5hbWUiOiAiQm9saXZpYSIsICJzdHlsZSI6IHsiY29sb3IiOiAiZ3JheSIsICJkYXNoQXJyYXkiOiAiMSwgMSIsICJmaWxsQ29sb3IiOiAiIzAwMDAwMCIsICJsaW5lT3BhY2l0eSI6IDAuOSwgIndlaWdodCI6IDF9fSwgInR5cGUiOiAiRmVhdHVyZSJ9LCB7Imdlb21ldHJ5IjogeyJjb29yZGluYXRlcyI6IFtbWy01Ny42MjUxMzMsIC0zMC4yMTYyOTVdLCBbLTU2LjI5MDksIC0yOC44NTI3NjFdLCBbLTU1LjE2MjI4NiwgLTI3Ljg4MTkxNV0sIFstNTQuNDkwNzI1LCAtMjcuNDc0NzU3XSwgWy01My42NDg3MzUsIC0yNi45MjM0NzNdLCBbLTUzLjYyODM0OSwgLTI2LjEyNDg2NV0sIFstNTQuMTMwMDUsIC0yNS41NDc2MzldLCBbLTU0LjYyNTI5MSwgLTI1LjczOTI1NV0sIFstNTQuNDI4OTQ2LCAtMjUuMTYyMTg1XSwgWy01NC4yOTM0NzYsIC0yNC41NzA4XSwgWy01NC4yOTI5NiwgLTI0LjAyMTAxNF0sIFstNTQuNjUyODM0LCAtMjMuODM5NTc4XSwgWy01NS4wMjc5MDIsIC0yNC4wMDEyNzRdLCBbLTU1LjQwMDc0NywgLTIzLjk1NjkzNV0sIFstNTUuNTE3NjM5LCAtMjMuNTcxOTk4XSwgWy01NS42MTA2ODMsIC0yMi42NTU2MTldLCBbLTU1Ljc5Nzk1OCwgLTIyLjM1NjkzXSwgWy01Ni40NzMzMTcsIC0yMi4wODYzXSwgWy01Ni44ODE1MSwgLTIyLjI4MjE1NF0sIFstNTcuOTM3MTU2LCAtMjIuMDkwMTc2XSwgWy01Ny44NzA2NzQsIC0yMC43MzI2ODhdLCBbLTU4LjE2NjM5MiwgLTIwLjE3NjcwMV0sIFstNTcuODUzODAyLCAtMTkuOTY5OTk1XSwgWy01Ny45NDk5OTcsIC0xOS40MDAwMDRdLCBbLTU3LjY3NjAwOSwgLTE4Ljk2MTg0XSwgWy01Ny40OTgzNzEsIC0xOC4xNzQxODhdLCBbLTU3LjczNDU1OCwgLTE3LjU1MjQ2OF0sIFstNTguMjgwODA0LCAtMTcuMjcxNzFdLCBbLTU4LjM4ODA1OCwgLTE2Ljg3NzEwOV0sIFstNTguMjQxMjIsIC0xNi4yOTk1NzNdLCBbLTYwLjE1ODM5LCAtMTYuMjU4Mjg0XSwgWy02MC41NDI5NjYsIC0xNS4wOTM5MV0sIFstNjAuMjUxMTQ5LCAtMTUuMDc3MjE5XSwgWy02MC4yNjQzMjYsIC0xNC42NDU5NzldLCBbLTYwLjQ1OTE5OCwgLTE0LjM1NDAwN10sIFstNjAuNTAzMzA0LCAtMTMuNzc1OTU1XSwgWy02MS4wODQxMjEsIC0xMy40NzkzODRdLCBbLTYxLjcxMzIwNCwgLTEzLjQ4OTIwMl0sIFstNjIuMTI3MDgxLCAtMTMuMTk4NzgxXSwgWy02Mi44MDMwNiwgLTEzLjAwMDY1M10sIFstNjMuMTk2NDk5LCAtMTIuNjI3MDMzXSwgWy02NC4zMTYzNTMsIC0xMi40NjE5NzhdLCBbLTY1LjQwMjI4MSwgLTExLjU2NjI3XSwgWy02NS4zMjE4OTksIC0xMC44OTU4NzJdLCBbLTY1LjQ0NDgzNywgLTEwLjUxMTQ1MV0sIFstNjUuMzM4NDM1LCAtOS43NjE5ODhdLCBbLTY2LjY0NjkwOCwgLTkuOTMxMzMxXSwgWy02Ny4xNzM4MDEsIC0xMC4zMDY4MTJdLCBbLTY4LjA0ODE5MiwgLTEwLjcxMjA1OV0sIFstNjguMjcxMjU0LCAtMTEuMDE0NTIxXSwgWy02OC43ODYxNTgsIC0xMS4wMzYzOF0sIFstNjkuNTI5Njc4LCAtMTAuOTUxNzM0XSwgWy03MC4wOTM3NTIsIC0xMS4xMjM5NzJdLCBbLTcwLjU0ODY4NiwgLTExLjAwOTE0N10sIFstNzAuNDgxODk0LCAtOS40OTAxMThdLCBbLTcxLjMwMjQxMiwgLTEwLjA3OTQzNl0sIFstNzIuMTg0ODkxLCAtMTAuMDUzNTk4XSwgWy03Mi41NjMwMzMsIC05LjUyMDE5NF0sIFstNzMuMjI2NzEzLCAtOS40NjIyMTNdLCBbLTczLjAxNTM4MywgLTkuMDMyODMzXSwgWy03My41NzEwNTksIC04LjQyNDQ0N10sIFstNzMuOTg3MjM1LCAtNy41MjM4M10sIFstNzMuNzIzNDAxLCAtNy4zNDA5OTldLCBbLTczLjcyNDQ4NywgLTYuOTE4NTk1XSwgWy03My4xMjAwMjcsIC02LjYyOTkzMV0sIFstNzMuMjE5NzExLCAtNi4wODkxODldLCBbLTcyLjk2NDUwNywgLTUuNzQxMjUxXSwgWy03Mi44OTE5MjgsIC01LjI3NDU2MV0sIFstNzEuNzQ4NDA2LCAtNC41OTM5ODNdLCBbLTcwLjkyODg0MywgLTQuNDAxNTkxXSwgWy03MC43OTQ3NjksIC00LjI1MTI2NV0sIFstNjkuODkzNjM1LCAtNC4yOTgxODddLCBbLTY5LjQ0NDEwMiwgLTEuNTU2Mjg3XSwgWy02OS40MjA0ODYsIC0xLjEyMjYxOV0sIFstNjkuNTc3MDY1LCAtMC41NDk5OTJdLCBbLTcwLjAyMDY1NiwgLTAuMTg1MTU2XSwgWy03MC4wMTU1NjYsIDAuNTQxNDE0XSwgWy02OS40NTIzOTYsIDAuNzA2MTU5XSwgWy02OS4yNTI0MzQsIDAuNjAyNjUxXSwgWy02OS4yMTg2MzgsIDAuOTg1Njc3XSwgWy02OS44MDQ1OTcsIDEuMDg5MDgxXSwgWy02OS44MTY5NzMsIDEuNzE0ODA1XSwgWy02Ny44Njg1NjUsIDEuNjkyNDU1XSwgWy02Ny41Mzc4MSwgMi4wMzcxNjNdLCBbLTY3LjI1OTk5OCwgMS43MTk5OTldLCBbLTY3LjA2NTA0OCwgMS4xMzAxMTJdLCBbLTY2Ljg3NjMyNiwgMS4yNTMzNjFdLCBbLTY2LjMyNTc2NSwgMC43MjQ0NTJdLCBbLTY1LjU0ODI2NywgMC43ODkyNTRdLCBbLTY1LjM1NDcxMywgMS4wOTUyODJdLCBbLTY0LjYxMTAxMiwgMS4zMjg3MzFdLCBbLTY0LjE5OTMwNiwgMS40OTI4NTVdLCBbLTY0LjA4MzA4NSwgMS45MTYzNjldLCBbLTYzLjM2ODc4OCwgMi4yMDA5XSwgWy02My40MjI4NjcsIDIuNDExMDY4XSwgWy02NC4yNjk5OTksIDIuNDk3MDA2XSwgWy02NC40MDg4MjgsIDMuMTI2Nzg2XSwgWy02NC4zNjg0OTQsIDMuNzk3MjFdLCBbLTY0LjgxNjA2NCwgNC4wNTY0NDVdLCBbLTY0LjYyODY1OSwgNC4xNDg0ODFdLCBbLTYzLjg4ODM0MywgNC4wMjA1M10sIFstNjMuMDkzMTk4LCAzLjc3MDU3MV0sIFstNjIuODA0NTMzLCA0LjAwNjk2NV0sIFstNjIuMDg1NDMsIDQuMTYyMTI0XSwgWy02MC45NjY4OTMsIDQuNTM2NDY4XSwgWy02MC42MDExNzksIDQuOTE4MDk4XSwgWy02MC43MzM1NzQsIDUuMjAwMjc3XSwgWy02MC4yMTM2ODMsIDUuMjQ0NDg2XSwgWy01OS45ODA5NTksIDUuMDE0MDYxXSwgWy02MC4xMTEwMDIsIDQuNTc0OTY3XSwgWy01OS43Njc0MDYsIDQuNDIzNTAzXSwgWy01OS41MzgwNCwgMy45NTg4MDNdLCBbLTU5LjgxNTQxMywgMy42MDY0OTldLCBbLTU5Ljk3NDUyNSwgMi43NTUyMzNdLCBbLTU5LjcxODU0NiwgMi4yNDk2M10sIFstNTkuNjQ2MDQ0LCAxLjc4Njg5NF0sIFstNTkuMDMwODYyLCAxLjMxNzY5OF0sIFstNTguNTQwMDEzLCAxLjI2ODA4OF0sIFstNTguNDI5NDc3LCAxLjQ2Mzk0Ml0sIFstNTguMTEzNDUsIDEuNTA3MTk1XSwgWy01Ny42NjA5NzEsIDEuNjgyNTg1XSwgWy01Ny4zMzU4MjMsIDEuOTQ4NTM4XSwgWy01Ni43ODI3MDQsIDEuODYzNzExXSwgWy01Ni41MzkzODYsIDEuODk5NTIzXSwgWy01NS45OTU2OTgsIDEuODE3NjY3XSwgWy01NS45MDU2LCAyLjAyMTk5Nl0sIFstNTYuMDczMzQyLCAyLjIyMDc5NV0sIFstNTUuOTczMzIyLCAyLjUxMDM2NF0sIFstNTUuNTY5NzU1LCAyLjQyMTUwNl0sIFstNTUuMDk3NTg3LCAyLjUyMzc0OF0sIFstNTQuNTI0NzU0LCAyLjMxMTg0OV0sIFstNTQuMDg4MDYzLCAyLjEwNTU1N10sIFstNTMuNzc4NTIxLCAyLjM3NjcwM10sIFstNTMuNTU0ODM5LCAyLjMzNDg5N10sIFstNTMuNDE4NDY1LCAyLjA1MzM4OV0sIFstNTIuOTM5NjU3LCAyLjEyNDg1OF0sIFstNTIuNTU2NDI1LCAyLjUwNDcwNV0sIFstNTIuMjQ5MzM4LCAzLjI0MTA5NF0sIFstNTEuNjU3Nzk3LCA0LjE1NjIzMl0sIFstNTEuMzE3MTQ2LCA0LjIwMzQ5MV0sIFstNTEuMDY5NzcxLCAzLjY1MDM5OF0sIFstNTAuNTA4ODc1LCAxLjkwMTU2NF0sIFstNDkuOTc0MDc2LCAxLjczNjQ4M10sIFstNDkuOTQ3MTAxLCAxLjA0NjE5XSwgWy01MC42OTkyNTEsIDAuMjIyOTg0XSwgWy01MC4zODgyMTEsIC0wLjA3ODQ0NV0sIFstNDguNjIwNTY3LCAtMC4yMzU0ODldLCBbLTQ4LjU4NDQ5NywgLTEuMjM3ODA1XSwgWy00Ny44MjQ5NTYsIC0wLjU4MTYxOF0sIFstNDYuNTY2NTg0LCAtMC45NDEwMjhdLCBbLTQ0LjkwNTcwMywgLTEuNTUxNzRdLCBbLTQ0LjQxNzYxOSwgLTIuMTM3NzVdLCBbLTQ0LjU4MTU4OSwgLTIuNjkxMzA4XSwgWy00My40MTg3OTEsIC0yLjM4MzExXSwgWy00MS40NzI2NTcsIC0yLjkxMjAxOF0sIFstMzkuOTc4NjY1LCAtMi44NzMwNTRdLCBbLTM4LjUwMDM4MywgLTMuNzAwNjUyXSwgWy0zNy4yMjMyNTIsIC00LjgyMDk0Nl0sIFstMzYuNDUyOTM3LCAtNS4xMDk0MDRdLCBbLTM1LjU5Nzc5NiwgLTUuMTQ5NTA0XSwgWy0zNS4yMzUzODksIC01LjQ2NDkzN10sIFstMzQuODk2MDMsIC02LjczODE5M10sIFstMzQuNzI5OTkzLCAtNy4zNDMyMjFdLCBbLTM1LjEyODIxMiwgLTguOTk2NDAxXSwgWy0zNS42MzY5NjcsIC05LjY0OTI4Ml0sIFstMzcuMDQ2NTE5LCAtMTEuMDQwNzIxXSwgWy0zNy42ODM2MTIsIC0xMi4xNzExOTVdLCBbLTM4LjQyMzg3NywgLTEzLjAzODExOV0sIFstMzguNjczODg3LCAtMTMuMDU3NjUyXSwgWy0zOC45NTMyNzYsIC0xMy43OTMzN10sIFstMzguODgyMjk4LCAtMTUuNjY3MDU0XSwgWy0zOS4xNjEwOTIsIC0xNy4yMDg0MDddLCBbLTM5LjI2NzMzOSwgLTE3Ljg2Nzc0Nl0sIFstMzkuNTgzNTIxLCAtMTguMjYyMjk2XSwgWy0zOS43NjA4MjMsIC0xOS41OTkxMTNdLCBbLTQwLjc3NDc0MSwgLTIwLjkwNDUxMl0sIFstNDAuOTQ0NzU2LCAtMjEuOTM3MzE3XSwgWy00MS43NTQxNjQsIC0yMi4zNzA2NzZdLCBbLTQxLjk4ODI4NCwgLTIyLjk3MDA3XSwgWy00My4wNzQ3MDQsIC0yMi45Njc2OTNdLCBbLTQ0LjY0NzgxMiwgLTIzLjM1MTk1OV0sIFstNDUuMzUyMTM2LCAtMjMuNzk2ODQyXSwgWy00Ni40NzIwOTMsIC0yNC4wODg5NjldLCBbLTQ3LjY0ODk3MiwgLTI0Ljg4NTE5OV0sIFstNDguNDk1NDU4LCAtMjUuODc3MDI1XSwgWy00OC42NDEwMDUsIC0yNi42MjM2OThdLCBbLTQ4LjQ3NDczNiwgLTI3LjE3NTkxMl0sIFstNDguNjYxNTIsIC0yOC4xODYxMzVdLCBbLTQ4Ljg4ODQ1NywgLTI4LjY3NDExNV0sIFstNDkuNTg3MzI5LCAtMjkuMjI0NDY5XSwgWy01MC42OTY4NzQsIC0zMC45ODQ0NjVdLCBbLTUxLjU3NjIyNiwgLTMxLjc3NzY5OF0sIFstNTIuMjU2MDgxLCAtMzIuMjQ1MzddLCBbLTUyLjcxMjEsIC0zMy4xOTY1NzhdLCBbLTUzLjM3MzY2MiwgLTMzLjc2ODM3OF0sIFstNTMuNjUwNTQ0LCAtMzMuMjAyMDA0XSwgWy01My4yMDk1ODksIC0zMi43Mjc2NjZdLCBbLTUzLjc4Nzk1MiwgLTMyLjA0NzI0M10sIFstNTQuNTcyNDUyLCAtMzEuNDk0NTExXSwgWy01NS42MDE1MSwgLTMwLjg1Mzg3OV0sIFstNTUuOTczMjQ1LCAtMzAuODgzMDc2XSwgWy01Ni45NzYwMjYsIC0zMC4xMDk2ODZdLCBbLTU3LjYyNTEzMywgLTMwLjIxNjI5NV1dXSwgInR5cGUiOiAiUG9seWdvbiJ9LCAiaWQiOiAiQlJBIiwgInByb3BlcnRpZXMiOiB7ImhpZ2hsaWdodCI6IHt9LCAibmFtZSI6ICJCcmF6aWwiLCAic3R5bGUiOiB7ImNvbG9yIjogImdyYXkiLCAiZGFzaEFycmF5IjogIjEsIDEiLCAiZmlsbENvbG9yIjogIiMwMDAwMDAiLCAibGluZU9wYWNpdHkiOiAwLjksICJ3ZWlnaHQiOiAxfX0sICJ0eXBlIjogIkZlYXR1cmUifSwgeyJnZW9tZXRyeSI6IHsiY29vcmRpbmF0ZXMiOiBbW1sxMTQuMjA0MDE3LCA0LjUyNTg3NF0sIFsxMTQuNTk5OTYxLCA0LjkwMDAxMV0sIFsxMTUuNDUwNzEsIDUuNDQ3NzNdLCBbMTE1LjQwNTcsIDQuOTU1MjI4XSwgWzExNS4zNDc0NjEsIDQuMzE2NjM2XSwgWzExNC44Njk1NTcsIDQuMzQ4MzE0XSwgWzExNC42NTk1OTYsIDQuMDA3NjM3XSwgWzExNC4yMDQwMTcsIDQuNTI1ODc0XV1dLCAidHlwZSI6ICJQb2x5Z29uIn0sICJpZCI6ICJCUk4iLCAicHJvcGVydGllcyI6IHsiaGlnaGxpZ2h0Ijoge30sICJuYW1lIjogIkJydW5laSIsICJzdHlsZSI6IHsiY29sb3IiOiAiZ3JheSIsICJkYXNoQXJyYXkiOiAiMSwgMSIsICJmaWxsQ29sb3IiOiAiIzAwMDAwMCIsICJsaW5lT3BhY2l0eSI6IDAuOSwgIndlaWdodCI6IDF9fSwgInR5cGUiOiAiRmVhdHVyZSJ9LCB7Imdlb21ldHJ5IjogeyJjb29yZGluYXRlcyI6IFtbWzkxLjY5NjY1NywgMjcuNzcxNzQyXSwgWzkyLjEwMzcxMiwgMjcuNDUyNjE0XSwgWzkyLjAzMzQ4NCwgMjYuODM4MzFdLCBbOTEuMjE3NTEzLCAyNi44MDg2NDhdLCBbOTAuMzczMjc1LCAyNi44NzU3MjRdLCBbODkuNzQ0NTI4LCAyNi43MTk0MDNdLCBbODguODM1NjQzLCAyNy4wOTg5NjZdLCBbODguODE0MjQ4LCAyNy4yOTkzMTZdLCBbODkuNDc1ODEsIDI4LjA0Mjc1OV0sIFs5MC4wMTU4MjksIDI4LjI5NjQzOV0sIFs5MC43MzA1MTQsIDI4LjA2NDk1NF0sIFs5MS4yNTg4NTQsIDI4LjA0MDYxNF0sIFs5MS42OTY2NTcsIDI3Ljc3MTc0Ml1dXSwgInR5cGUiOiAiUG9seWdvbiJ9LCAiaWQiOiAiQlROIiwgInByb3BlcnRpZXMiOiB7ImhpZ2hsaWdodCI6IHt9LCAibmFtZSI6ICJCaHV0YW4iLCAic3R5bGUiOiB7ImNvbG9yIjogImdyYXkiLCAiZGFzaEFycmF5IjogIjEsIDEiLCAiZmlsbENvbG9yIjogIiMwMDAwMDAiLCAibGluZU9wYWNpdHkiOiAwLjksICJ3ZWlnaHQiOiAxfX0sICJ0eXBlIjogIkZlYXR1cmUifSwgeyJnZW9tZXRyeSI6IHsiY29vcmRpbmF0ZXMiOiBbW1syNS42NDkxNjMsIC0xOC41MzYwMjZdLCBbMjUuODUwMzkxLCAtMTguNzE0NDEzXSwgWzI2LjE2NDc5MSwgLTE5LjI5MzA4Nl0sIFsyNy4yOTY1MDUsIC0yMC4zOTE1Ml0sIFsyNy43MjQ3NDcsIC0yMC40OTkwNTldLCBbMjcuNzI3MjI4LCAtMjAuODUxODAyXSwgWzI4LjAyMTM3LCAtMjEuNDg1OTc1XSwgWzI4Ljc5NDY1NiwgLTIxLjYzOTQ1NF0sIFsyOS40MzIxODgsIC0yMi4wOTEzMTNdLCBbMjguMDE3MjM2LCAtMjIuODI3NzU0XSwgWzI3LjExOTQxLCAtMjMuNTc0MzIzXSwgWzI2Ljc4NjQwNywgLTI0LjI0MDY5MV0sIFsyNi40ODU3NTMsIC0yNC42MTYzMjddLCBbMjUuOTQxNjUyLCAtMjQuNjk2MzczXSwgWzI1Ljc2NTg0OSwgLTI1LjE3NDg0NV0sIFsyNS42NjQ2NjYsIC0yNS40ODY4MTZdLCBbMjUuMDI1MTcxLCAtMjUuNzE5NjddLCBbMjQuMjExMjY3LCAtMjUuNjcwMjE2XSwgWzIzLjczMzU3LCAtMjUuMzkwMTI5XSwgWzIzLjMxMjA5NywgLTI1LjI2ODY5XSwgWzIyLjgyNDI3MSwgLTI1LjUwMDQ1OV0sIFsyMi41Nzk1MzIsIC0yNS45Nzk0NDhdLCBbMjIuMTA1OTY5LCAtMjYuMjgwMjU2XSwgWzIxLjYwNTg5NiwgLTI2LjcyNjUzNF0sIFsyMC44ODk2MDksIC0yNi44Mjg1NDNdLCBbMjAuNjY2NDcsIC0yNi40Nzc0NTNdLCBbMjAuNzU4NjA5LCAtMjUuODY4MTM2XSwgWzIwLjE2NTcyNiwgLTI0LjkxNzk2Ml0sIFsxOS44OTU3NjgsIC0yNC43Njc3OV0sIFsxOS44OTU0NTgsIC0yMS44NDkxNTddLCBbMjAuODgxMTM0LCAtMjEuODE0MzI3XSwgWzIwLjkxMDY0MSwgLTE4LjI1MjIxOV0sIFsyMS42NTUwNCwgLTE4LjIxOTE0Nl0sIFsyMy4xOTY4NTgsIC0xNy44NjkwMzhdLCBbMjMuNTc5MDA2LCAtMTguMjgxMjYxXSwgWzI0LjIxNzM2NSwgLTE3Ljg4OTM0N10sIFsyNC41MjA3MDUsIC0xNy44ODcxMjVdLCBbMjUuMDg0NDQzLCAtMTcuNjYxODE2XSwgWzI1LjI2NDIyNiwgLTE3LjczNjU0XSwgWzI1LjY0OTE2MywgLTE4LjUzNjAyNl1dXSwgInR5cGUiOiAiUG9seWdvbiJ9LCAiaWQiOiAiQldBIiwgInByb3BlcnRpZXMiOiB7ImhpZ2hsaWdodCI6IHt9LCAibmFtZSI6ICJCb3Rzd2FuYSIsICJzdHlsZSI6IHsiY29sb3IiOiAiZ3JheSIsICJkYXNoQXJyYXkiOiAiMSwgMSIsICJmaWxsQ29sb3IiOiAiIzAwMDAwMCIsICJsaW5lT3BhY2l0eSI6IDAuOSwgIndlaWdodCI6IDF9fSwgInR5cGUiOiAiRmVhdHVyZSJ9LCB7Imdlb21ldHJ5IjogeyJjb29yZGluYXRlcyI6IFtbWzE1LjI3OTQ2LCA3LjQyMTkyNV0sIFsxNi4xMDYyMzIsIDcuNDk3MDg4XSwgWzE2LjI5MDU2MiwgNy43NTQzMDddLCBbMTYuNDU2MTg1LCA3LjczNDc3NF0sIFsxNi43MDU5ODgsIDcuNTA4MzI4XSwgWzE3Ljk2NDkzLCA3Ljg5MDkxNF0sIFsxOC4zODk1NTUsIDguMjgxMzA0XSwgWzE4LjkxMTAyMiwgOC42MzA4OTVdLCBbMTguODEyMDEsIDguOTgyOTE1XSwgWzE5LjA5NDAwOCwgOS4wNzQ4NDddLCBbMjAuMDU5Njg1LCA5LjAxMjcwNl0sIFsyMS4wMDA4NjgsIDkuNDc1OTg1XSwgWzIxLjcyMzgyMiwgMTAuNTY3MDU2XSwgWzIyLjIzMTEyOSwgMTAuOTcxODg5XSwgWzIyLjg2NDE2NSwgMTEuMTQyMzk1XSwgWzIyLjk3NzU0NCwgMTAuNzE0NDYzXSwgWzIzLjU1NDMwNCwgMTAuMDg5MjU1XSwgWzIzLjU1NzI1LCA5LjY4MTIxOF0sIFsyMy4zOTQ3NzksIDkuMjY1MDY4XSwgWzIzLjQ1OTAxMywgOC45NTQyODZdLCBbMjMuODA1ODEzLCA4LjY2NjMxOV0sIFsyNC41NjczNjksIDguMjI5MTg4XSwgWzI1LjExNDkzMiwgNy44MjUxMDRdLCBbMjUuMTI0MTMxLCA3LjUwMDA4NV0sIFsyNS43OTY2NDgsIDYuOTc5MzE2XSwgWzI2LjIxMzQxOCwgNi41NDY2MDNdLCBbMjYuNDY1OTA5LCA1Ljk0NjcxN10sIFsyNy4yMTM0MDksIDUuNTUwOTUzXSwgWzI3LjM3NDIyNiwgNS4yMzM5NDRdLCBbMjcuMDQ0MDY1LCA1LjEyNzg1M10sIFsyNi40MDI3NjEsIDUuMTUwODc1XSwgWzI1LjY1MDQ1NSwgNS4yNTYwODhdLCBbMjUuMjc4Nzk4LCA1LjE3MDQwOF0sIFsyNS4xMjg4MzMsIDQuOTI3MjQ1XSwgWzI0LjgwNTAyOSwgNC44OTcyNDddLCBbMjQuNDEwNTMxLCA1LjEwODc4NF0sIFsyMy4yOTcyMTQsIDQuNjA5NjkzXSwgWzIyLjg0MTQ4LCA0LjcxMDEyNl0sIFsyMi43MDQxMjQsIDQuNjMzMDUxXSwgWzIyLjQwNTEyNCwgNC4wMjkxNl0sIFsyMS42NTkxMjMsIDQuMjI0MzQyXSwgWzIwLjkyNzU5MSwgNC4zMjI3ODZdLCBbMjAuMjkwNjc5LCA0LjY5MTY3OF0sIFsxOS40Njc3ODQsIDUuMDMxNTI4XSwgWzE4LjkzMjMxMiwgNC43MDk1MDZdLCBbMTguNTQyOTgyLCA0LjIwMTc4NV0sIFsxOC40NTMwNjUsIDMuNTA0Mzg2XSwgWzE3LjgwOTksIDMuNTYwMTk2XSwgWzE3LjEzMzA0MiwgMy43MjgxOTddLCBbMTYuNTM3MDU4LCAzLjE5ODI1NV0sIFsxNi4wMTI4NTIsIDIuMjY3NjRdLCBbMTUuOTA3MzgxLCAyLjU1NzM4OV0sIFsxNS44NjI3MzIsIDMuMDEzNTM3XSwgWzE1LjQwNTM5NiwgMy4zMzUzMDFdLCBbMTUuMDM2MjIsIDMuODUxMzY3XSwgWzE0Ljk1MDk1MywgNC4yMTAzODldLCBbMTQuNDc4MzcyLCA0LjczMjYwNV0sIFsxNC41NTg5MzYsIDUuMDMwNTk4XSwgWzE0LjQ1OTQwNywgNS40NTE3NjFdLCBbMTQuNTM2NTYsIDYuMjI2OTU5XSwgWzE0Ljc3NjU0NSwgNi40MDg0OThdLCBbMTUuMjc5NDYsIDcuNDIxOTI1XV1dLCAidHlwZSI6ICJQb2x5Z29uIn0sICJpZCI6ICJDQUYiLCAicHJvcGVydGllcyI6IHsiaGlnaGxpZ2h0Ijoge30sICJuYW1lIjogIkNlbnRyYWwgQWZyaWNhbiBSZXB1YmxpYyIsICJzdHlsZSI6IHsiY29sb3IiOiAiZ3JheSIsICJkYXNoQXJyYXkiOiAiMSwgMSIsICJmaWxsQ29sb3IiOiAiIzAwMDAwMCIsICJsaW5lT3BhY2l0eSI6IDAuOSwgIndlaWdodCI6IDF9fSwgInR5cGUiOiAiRmVhdHVyZSJ9LCB7Imdlb21ldHJ5IjogeyJjb29yZGluYXRlcyI6IFtbW1stNjMuNjY0NSwgNDYuNTUwMDFdLCBbLTYyLjkzOTMsIDQ2LjQxNTg3XSwgWy02Mi4wMTIwOCwgNDYuNDQzMTRdLCBbLTYyLjUwMzkxLCA0Ni4wMzMzOV0sIFstNjIuODc0MzMsIDQ1Ljk2ODE4XSwgWy02NC4xNDI4LCA0Ni4zOTI2NV0sIFstNjQuMzkyNjEsIDQ2LjcyNzQ3XSwgWy02NC4wMTQ4NiwgNDcuMDM2MDFdLCBbLTYzLjY2NDUsIDQ2LjU1MDAxXV1dLCBbW1stNjEuODA2MzA1LCA0OS4xMDUwNl0sIFstNjIuMjkzMTgsIDQ5LjA4NzE3XSwgWy02My41ODkyNiwgNDkuNDAwNjldLCBbLTY0LjUxOTEyLCA0OS44NzMwNF0sIFstNjQuMTczMjIsIDQ5Ljk1NzE4XSwgWy02Mi44NTgyOSwgNDkuNzA2NDFdLCBbLTYxLjgzNTU4NSwgNDkuMjg4NTVdLCBbLTYxLjgwNjMwNSwgNDkuMTA1MDZdXV0sIFtbWy0xMjMuNTEwMDAyLCA0OC41MTAwMTFdLCBbLTEyNC4wMTI4OTEsIDQ4LjM3MDg0Nl0sIFstMTI1LjY1NTAxMywgNDguODI1MDA1XSwgWy0xMjUuOTU0OTk0LCA0OS4xNzk5OTZdLCBbLTEyNi44NTAwMDQsIDQ5LjUzXSwgWy0xMjcuMDI5OTkzLCA0OS44MTQ5OTZdLCBbLTEyOC4wNTkzMzYsIDQ5Ljk5NDk1OV0sIFstMTI4LjQ0NDU4NCwgNTAuNTM5MTM4XSwgWy0xMjguMzU4NDE0LCA1MC43NzA2NDhdLCBbLTEyNy4zMDg1ODEsIDUwLjU1MjU3NF0sIFstMTI2LjY5NTAwMSwgNTAuNDAwOTAzXSwgWy0xMjUuNzU1MDA3LCA1MC4yOTUwMThdLCBbLTEyNS40MTUwMDIsIDQ5Ljk1MDAwMV0sIFstMTI0LjkyMDc2OCwgNDkuNDc1Mjc1XSwgWy0xMjMuOTIyNTA5LCA0OS4wNjI0ODRdLCBbLTEyMy41MTAwMDIsIDQ4LjUxMDAxMV1dXSwgW1tbLTU2LjEzNDAzNiwgNTAuNjg3MDFdLCBbLTU2Ljc5NTg4MiwgNDkuODEyMzA5XSwgWy01Ni4xNDMxMDUsIDUwLjE1MDExN10sIFstNTUuNDcxNDkyLCA0OS45MzU4MTVdLCBbLTU1LjgyMjQwMSwgNDkuNTg3MTI5XSwgWy01NC45MzUxNDMsIDQ5LjMxMzAxMV0sIFstNTQuNDczNzc1LCA0OS41NTY2OTFdLCBbLTUzLjQ3NjU0OSwgNDkuMjQ5MTM5XSwgWy01My43ODYwMTQsIDQ4LjUxNjc4MV0sIFstNTMuMDg2MTM0LCA0OC42ODc4MDRdLCBbLTUyLjk1ODY0OCwgNDguMTU3MTY0XSwgWy01Mi42NDgwOTksIDQ3LjUzNTU0OF0sIFstNTMuMDY5MTU4LCA0Ni42NTU0OTldLCBbLTUzLjUyMTQ1NiwgNDYuNjE4MjkyXSwgWy01NC4xNzg5MzYsIDQ2LjgwNzA2Nl0sIFstNTMuOTYxODY5LCA0Ny42MjUyMDddLCBbLTU0LjI0MDQ4MiwgNDcuNzUyMjc5XSwgWy01NS40MDA3NzMsIDQ2Ljg4NDk5NF0sIFstNTUuOTk3NDgxLCA0Ni45MTk3Ml0sIFstNTUuMjkxMjE5LCA0Ny4zODk1NjJdLCBbLTU2LjI1MDc5OSwgNDcuNjMyNTQ1XSwgWy01Ny4zMjUyMjksIDQ3LjU3MjgwN10sIFstNTkuMjY2MDE1LCA0Ny42MDMzNDhdLCBbLTU5LjQxOTQ5NCwgNDcuODk5NDU0XSwgWy01OC43OTY1ODYsIDQ4LjI1MTUyNV0sIFstNTkuMjMxNjI1LCA0OC41MjMxODhdLCBbLTU4LjM5MTgwNSwgNDkuMTI1NTgxXSwgWy01Ny4zNTg2OSwgNTAuNzE4Mjc0XSwgWy01Ni43Mzg2NSwgNTEuMjg3NDM4XSwgWy01NS44NzA5NzcsIDUxLjYzMjA5NF0sIFstNTUuNDA2OTc0LCA1MS41ODgyNzNdLCBbLTU1LjYwMDIxOCwgNTEuMzE3MDc1XSwgWy01Ni4xMzQwMzYsIDUwLjY4NzAxXV1dLCBbW1stMTMyLjcxMDAwOCwgNTQuMDQwMDA5XSwgWy0xMzEuNzQ5OTksIDU0LjEyMDAwNF0sIFstMTMyLjA0OTQ4LCA1Mi45ODQ2MjFdLCBbLTEzMS4xNzkwNDMsIDUyLjE4MDQzM10sIFstMTMxLjU3NzgzLCA1Mi4xODIzNzFdLCBbLTEzMi4xODA0MjgsIDUyLjYzOTcwN10sIFstMTMyLjU0OTk5MiwgNTMuMTAwMDE1XSwgWy0xMzMuMDU0NjExLCA1My40MTE0NjldLCBbLTEzMy4yMzk2NjQsIDUzLjg1MTA4XSwgWy0xMzMuMTgwMDA0LCA1NC4xNjk5NzVdLCBbLTEzMi43MTAwMDgsIDU0LjA0MDAwOV1dXSwgW1tbLTc5LjI2NTgyLCA2Mi4xNTg2NzVdLCBbLTc5LjY1NzUyLCA2MS42MzMwOF0sIFstODAuMDk5NTYsIDYxLjcxODFdLCBbLTgwLjM2MjE1LCA2Mi4wMTY0OV0sIFstODAuMzE1Mzk1LCA2Mi4wODU1NjVdLCBbLTc5LjkyOTM5LCA2Mi4zODU2XSwgWy03OS41MjAwMiwgNjIuMzYzNzFdLCBbLTc5LjI2NTgyLCA2Mi4xNTg2NzVdXV0sIFtbWy04MS44OTgyNSwgNjIuNzEwOF0sIFstODMuMDY4NTcsIDYyLjE1OTIyXSwgWy04My43NzQ2MiwgNjIuMTgyMzFdLCBbLTgzLjk5MzY3LCA2Mi40NTI4XSwgWy04My4yNTA0OCwgNjIuOTE0MDldLCBbLTgxLjg3Njk5LCA2Mi45MDQ1OF0sIFstODEuODk4MjUsIDYyLjcxMDhdXV0sIFtbWy04NS4xNjEzMDgsIDY1LjY1NzI4NV0sIFstODQuOTc1NzY0LCA2NS4yMTc1MThdLCBbLTg0LjQ2NDAxMiwgNjUuMzcxNzcyXSwgWy04My44ODI2MjYsIDY1LjEwOTYxOF0sIFstODIuNzg3NTc3LCA2NC43NjY2OTNdLCBbLTgxLjY0MjAxNCwgNjQuNDU1MTM2XSwgWy04MS41NTM0NCwgNjMuOTc5NjA5XSwgWy04MC44MTczNjEsIDY0LjA1NzQ4Nl0sIFstODAuMTAzNDUxLCA2My43MjU5ODFdLCBbLTgwLjk5MTAyLCA2My40MTEyNDZdLCBbLTgyLjU0NzE3OCwgNjMuNjUxNzIyXSwgWy04My4xMDg3OTgsIDY0LjEwMTg3Nl0sIFstODQuMTAwNDE3LCA2My41Njk3MTJdLCBbLTg1LjUyMzQwNSwgNjMuMDUyMzc5XSwgWy04NS44NjY3NjksIDYzLjYzNzI1M10sIFstODcuMjIxOTgzLCA2My41NDEyMzhdLCBbLTg2LjM1Mjc2LCA2NC4wMzU4MzNdLCBbLTg2LjIyNDg4NiwgNjQuODIyOTE3XSwgWy04NS44ODM4NDgsIDY1LjczODc3OF0sIFstODUuMTYxMzA4LCA2NS42NTcyODVdXV0sIFtbWy03NS44NjU4OCwgNjcuMTQ4ODZdLCBbLTc2Ljk4Njg3LCA2Ny4wOTg3M10sIFstNzcuMjM2NCwgNjcuNTg4MDldLCBbLTc2LjgxMTY2LCA2OC4xNDg1Nl0sIFstNzUuODk1MjEsIDY4LjI4NzIxXSwgWy03NS4xMTQ1LCA2OC4wMTAzNl0sIFstNzUuMTAzMzMsIDY3LjU4MjAyXSwgWy03NS4yMTU5NywgNjcuNDQ0MjVdLCBbLTc1Ljg2NTg4LCA2Ny4xNDg4Nl1dXSwgW1tbLTk1LjY0NzY4MSwgNjkuMTA3NjldLCBbLTk2LjI2OTUyMSwgNjguNzU3MDRdLCBbLTk3LjYxNzQwMSwgNjkuMDYwMDNdLCBbLTk4LjQzMTgwMSwgNjguOTUwN10sIFstOTkuNzk3NDAxLCA2OS40MDAwM10sIFstOTguOTE3NDAxLCA2OS43MTAwM10sIFstOTguMjE4MjYxLCA3MC4xNDM1NF0sIFstOTcuMTU3NDAxLCA2OS44NjAwM10sIFstOTYuNTU3NDAxLCA2OS42ODAwM10sIFstOTYuMjU3NDAxLCA2OS40OTAwM10sIFstOTUuNjQ3NjgxLCA2OS4xMDc2OV1dXSwgW1tbLTkwLjU0NzEsIDY5LjQ5NzY2XSwgWy05MC41NTE1MSwgNjguNDc0OTldLCBbLTg5LjIxNTE1LCA2OS4yNTg3M10sIFstODguMDE5NjYsIDY4LjYxNTA4XSwgWy04OC4zMTc0OSwgNjcuODczMzhdLCBbLTg3LjM1MDE3LCA2Ny4xOTg3Ml0sIFstODYuMzA2MDcsIDY3LjkyMTQ2XSwgWy04NS41NzY2NCwgNjguNzg0NTZdLCBbLTg1LjUyMTk3LCA2OS44ODIxMV0sIFstODQuMTAwODEsIDY5LjgwNTM5XSwgWy04Mi42MjI1OCwgNjkuNjU4MjZdLCBbLTgxLjI4MDQzLCA2OS4xNjIwMl0sIFstODEuMjIwMiwgNjguNjY1NjddLCBbLTgxLjk2NDM2LCA2OC4xMzI1M10sIFstODEuMjU5MjgsIDY3LjU5NzE2XSwgWy04MS4zODY1MywgNjcuMTEwNzhdLCBbLTgzLjM0NDU2LCA2Ni40MTE1NF0sIFstODQuNzM1NDIsIDY2LjI1NzNdLCBbLTg1Ljc2OTQzLCA2Ni41NTgzM10sIFstODYuMDY3NiwgNjYuMDU2MjVdLCBbLTg3LjAzMTQzLCA2NS4yMTI5N10sIFstODcuMzIzMjQsIDY0Ljc3NTYzXSwgWy04OC40ODI5NiwgNjQuMDk4OTddLCBbLTg5LjkxNDQ0LCA2NC4wMzI3M10sIFstOTAuNzAzOTgsIDYzLjYxMDE3XSwgWy05MC43NzAwNCwgNjIuOTYwMjFdLCBbLTkxLjkzMzQyLCA2Mi44MzUwOF0sIFstOTMuMTU2OTgsIDYyLjAyNDY5XSwgWy05NC4yNDE1MywgNjAuODk4NjVdLCBbLTk0LjYyOTMxLCA2MC4xMTAyMV0sIFstOTQuNjg0NiwgNTguOTQ4ODJdLCBbLTkzLjIxNTAyLCA1OC43ODIxMl0sIFstOTIuNzY0NjIsIDU3Ljg0NTcxXSwgWy05Mi4yOTcwMywgNTcuMDg3MDldLCBbLTkwLjg5NzY5LCA1Ny4yODQ2OF0sIFstODkuMDM5NTMsIDU2Ljg1MTcyXSwgWy04OC4wMzk3OCwgNTYuNDcxNjJdLCBbLTg3LjMyNDIxLCA1NS45OTkxNF0sIFstODYuMDcxMjEsIDU1LjcyMzgzXSwgWy04NS4wMTE4MSwgNTUuMzAyNl0sIFstODMuMzYwNTUsIDU1LjI0NDg5XSwgWy04Mi4yNzI4NSwgNTUuMTQ4MzJdLCBbLTgyLjQzNjIsIDU0LjI4MjI3XSwgWy04Mi4xMjUwMiwgNTMuMjc3MDNdLCBbLTgxLjQwMDc1LCA1Mi4xNTc4OF0sIFstNzkuOTEyODksIDUxLjIwODQyXSwgWy03OS4xNDMwMSwgNTEuNTMzOTNdLCBbLTc4LjYwMTkxLCA1Mi41NjIwOF0sIFstNzkuMTI0MjEsIDU0LjE0MTQ1XSwgWy03OS44Mjk1OCwgNTQuNjY3NzJdLCBbLTc4LjIyODc0LCA1NS4xMzY0NV0sIFstNzcuMDk1NiwgNTUuODM3NDFdLCBbLTc2LjU0MTM3LCA1Ni41MzQyM10sIFstNzYuNjIzMTksIDU3LjIwMjYzXSwgWy03Ny4zMDIyNiwgNTguMDUyMDldLCBbLTc4LjUxNjg4LCA1OC44MDQ1OF0sIFstNzcuMzM2NzYsIDU5Ljg1MjYxXSwgWy03Ny43NzI3MiwgNjAuNzU3ODhdLCBbLTc4LjEwNjg3LCA2Mi4zMTk2NF0sIFstNzcuNDEwNjcsIDYyLjU1MDUzXSwgWy03NS42OTYyMSwgNjIuMjc4NF0sIFstNzQuNjY4MiwgNjIuMTgxMTFdLCBbLTczLjgzOTg4LCA2Mi40NDM4XSwgWy03Mi45MDg1MywgNjIuMTA1MDddLCBbLTcxLjY3NzA4LCA2MS41MjUzNV0sIFstNzEuMzczNjksIDYxLjEzNzE3XSwgWy02OS41OTA0MiwgNjEuMDYxNDFdLCBbLTY5LjYyMDMzLCA2MC4yMjEyNV0sIFstNjkuMjg3OSwgNTguOTU3MzZdLCBbLTY4LjM3NDU1LCA1OC44MDEwNl0sIFstNjcuNjQ5NzYsIDU4LjIxMjA2XSwgWy02Ni4yMDE3OCwgNTguNzY3MzFdLCBbLTY1LjI0NTE3LCA1OS44NzA3MV0sIFstNjQuNTgzNTIsIDYwLjMzNTU4XSwgWy02My44MDQ3NSwgNTkuNDQyNl0sIFstNjIuNTAyMzYsIDU4LjE2NzA4XSwgWy02MS4zOTY1NSwgNTYuOTY3NDVdLCBbLTYxLjc5ODY2LCA1Ni4zMzk0NV0sIFstNjAuNDY4NTMsIDU1Ljc3NTQ4XSwgWy01OS41Njk2MiwgNTUuMjA0MDddLCBbLTU3Ljk3NTA4LCA1NC45NDU0OV0sIFstNTcuMzMzMiwgNTQuNjI2NV0sIFstNTYuOTM2ODksIDUzLjc4MDMyXSwgWy01Ni4xNTgxMSwgNTMuNjQ3NDldLCBbLTU1Ljc1NjMyLCA1My4yNzAzNl0sIFstNTUuNjgzMzgsIDUyLjE0NjY0XSwgWy01Ni40MDkxNiwgNTEuNzcwN10sIFstNTcuMTI2OTEsIDUxLjQxOTcyXSwgWy01OC43NzQ4MiwgNTEuMDY0M10sIFstNjAuMDMzMDksIDUwLjI0Mjc3XSwgWy02MS43MjM2NiwgNTAuMDgwNDZdLCBbLTYzLjg2MjUxLCA1MC4yOTA5OV0sIFstNjUuMzYzMzEsIDUwLjI5ODJdLCBbLTY2LjM5OTA1LCA1MC4yMjg5N10sIFstNjcuMjM2MzEsIDQ5LjUxMTU2XSwgWy02OC41MTExNCwgNDkuMDY4MzZdLCBbLTY5Ljk1MzYyLCA0Ny43NDQ4OF0sIFstNzEuMTA0NTgsIDQ2LjgyMTcxXSwgWy03MC4yNTUyMiwgNDYuOTg2MDZdLCBbLTY4LjY1LCA0OC4zXSwgWy02Ni41NTI0MywgNDkuMTMzMV0sIFstNjUuMDU2MjYsIDQ5LjIzMjc4XSwgWy02NC4xNzA5OSwgNDguNzQyNDhdLCBbLTY1LjExNTQ1LCA0OC4wNzA4NV0sIFstNjQuNzk4NTQsIDQ2Ljk5Mjk3XSwgWy02NC40NzIxOSwgNDYuMjM4NDldLCBbLTYzLjE3MzI5LCA0NS43MzkwMl0sIFstNjEuNTIwNzIsIDQ1Ljg4Mzc3XSwgWy02MC41MTgxNSwgNDcuMDA3OTNdLCBbLTYwLjQ0ODYsIDQ2LjI4MjY0XSwgWy01OS44MDI4NywgNDUuOTIwNF0sIFstNjEuMDM5ODgsIDQ1LjI2NTI1XSwgWy02My4yNTQ3MSwgNDQuNjcwMTRdLCBbLTY0LjI0NjU2LCA0NC4yNjU1M10sIFstNjUuMzY0MDYsIDQzLjU0NTIzXSwgWy02Ni4xMjM0LCA0My42MTg2N10sIFstNjYuMTYxNzMsIDQ0LjQ2NTEyXSwgWy02NC40MjU0OSwgNDUuMjkyMDRdLCBbLTY2LjAyNjA1LCA0NS4yNTkzMV0sIFstNjcuMTM3NDEsIDQ1LjEzNzUzXSwgWy02Ny43OTEzNCwgNDUuNzAyODFdLCBbLTY3Ljc5MDQ2LCA0Ny4wNjYzNl0sIFstNjguMjM0NDQsIDQ3LjM1NDg2XSwgWy02OC45MDUsIDQ3LjE4NV0sIFstNjkuMjM3MjE2LCA0Ny40NDc3ODFdLCBbLTY5Ljk5OTk3LCA0Ni42OTMwN10sIFstNzAuMzA1LCA0NS45MTVdLCBbLTcwLjY2LCA0NS40Nl0sIFstNzEuMDg0ODIsIDQ1LjMwNTI0XSwgWy03MS40MDUsIDQ1LjI1NV0sIFstNzEuNTA1MDYsIDQ1LjAwODJdLCBbLTczLjM0NzgzLCA0NS4wMDczOF0sIFstNzQuODY3LCA0NS4wMDA0OF0sIFstNzUuMzE4MjEsIDQ0LjgxNjQ1XSwgWy03Ni4zNzUsIDQ0LjA5NjMxXSwgWy03Ni41LCA0NC4wMTg0NTldLCBbLTc2LjgyMDAzNCwgNDMuNjI4Nzg0XSwgWy03Ny43Mzc4ODUsIDQzLjYyOTA1Nl0sIFstNzguNzIwMjgsIDQzLjYyNTA4OV0sIFstNzkuMTcxNjc0LCA0My40NjYzMzldLCBbLTc5LjAxLCA0My4yN10sIFstNzguOTIsIDQyLjk2NV0sIFstNzguOTM5MzYyLCA0Mi44NjM2MTFdLCBbLTgwLjI0NzQ0OCwgNDIuMzY2Ml0sIFstODEuMjc3NzQ3LCA0Mi4yMDkwMjZdLCBbLTgyLjQzOTI3OCwgNDEuNjc1MTA1XSwgWy04Mi42OTAwODksIDQxLjY3NTEwNV0sIFstODMuMDI5ODEsIDQxLjgzMjc5Nl0sIFstODMuMTQyLCA0MS45NzU2ODFdLCBbLTgzLjEyLCA0Mi4wOF0sIFstODIuOSwgNDIuNDNdLCBbLTgyLjQzLCA0Mi45OF0sIFstODIuMTM3NjQyLCA0My41NzEwODhdLCBbLTgyLjMzNzc2MywgNDQuNDRdLCBbLTgyLjU1MDkyNSwgNDUuMzQ3NTE3XSwgWy04My41OTI4NTEsIDQ1LjgxNjg5NF0sIFstODMuNDY5NTUxLCA0NS45OTQ2ODZdLCBbLTgzLjYxNjEzMSwgNDYuMTE2OTI3XSwgWy04My44OTA3NjUsIDQ2LjExNjkyN10sIFstODQuMDkxODUxLCA0Ni4yNzU0MTldLCBbLTg0LjE0MjEyLCA0Ni41MTIyMjZdLCBbLTg0LjMzNjcsIDQ2LjQwODc3XSwgWy04NC42MDQ5LCA0Ni40Mzk2XSwgWy04NC41NDM3NDksIDQ2LjUzODY4NF0sIFstODQuNzc5MjM4LCA0Ni42MzcxMDJdLCBbLTg0Ljg3NjA4LCA0Ni45MDAwODNdLCBbLTg1LjY1MjM2MywgNDcuMjIwMjE5XSwgWy04Ni40NjE5OTEsIDQ3LjU1MzMzOF0sIFstODcuNDM5NzkzLCA0Ny45NF0sIFstODguMzc4MTE0LCA0OC4zMDI5MThdLCBbLTg5LjI3MjkxNywgNDguMDE5ODA4XSwgWy04OS42LCA0OC4wMV0sIFstOTAuODMsIDQ4LjI3XSwgWy05MS42NCwgNDguMTRdLCBbLTkyLjYxLCA0OC40NV0sIFstOTMuNjMwODcsIDQ4LjYwOTI2XSwgWy05NC4zMjkxNCwgNDguNjcwNzRdLCBbLTk0LjY0LCA0OC44NF0sIFstOTQuODE3NTgsIDQ5LjM4OTA1XSwgWy05NS4xNTYwOSwgNDkuMzg0MjVdLCBbLTk1LjE1OTA3LCA0OV0sIFstOTcuMjI4NzIsIDQ5LjAwMDddLCBbLTEwMC42NSwgNDldLCBbLTEwNC4wNDgyNiwgNDguOTk5ODZdLCBbLTEwNy4wNSwgNDldLCBbLTExMC4wNSwgNDldLCBbLTExMywgNDldLCBbLTExNi4wNDgxOCwgNDldLCBbLTExNy4wMzEyMSwgNDldLCBbLTEyMCwgNDldLCBbLTEyMi44NCwgNDldLCBbLTEyMi45NzQyMSwgNDkuMDAyNTM4XSwgWy0xMjQuOTEwMjQsIDQ5Ljk4NDU2XSwgWy0xMjUuNjI0NjEsIDUwLjQxNjU2XSwgWy0xMjcuNDM1NjEsIDUwLjgzMDYxXSwgWy0xMjcuOTkyNzYsIDUxLjcxNTgzXSwgWy0xMjcuODUwMzIsIDUyLjMyOTYxXSwgWy0xMjkuMTI5NzksIDUyLjc1NTM4XSwgWy0xMjkuMzA1MjMsIDUzLjU2MTU5XSwgWy0xMzAuNTE0OTcsIDU0LjI4NzU3XSwgWy0xMzAuNTM2MTEsIDU0LjgwMjc4XSwgWy0xMjkuOTgsIDU1LjI4NV0sIFstMTMwLjAwNzc4LCA1NS45MTU4M10sIFstMTMxLjcwNzgxLCA1Ni41NTIxMl0sIFstMTMyLjczMDQyLCA1Ny42OTI4OV0sIFstMTMzLjM1NTU2LCA1OC40MTAyOF0sIFstMTM0LjI3MTExLCA1OC44NjExMV0sIFstMTM0Ljk0NSwgNTkuMjcwNTZdLCBbLTEzNS40NzU4MywgNTkuNzg3NzhdLCBbLTEzNi40Nzk3MiwgNTkuNDYzODldLCBbLTEzNy40NTI1LCA1OC45MDVdLCBbLTEzOC4zNDA4OSwgNTkuNTYyMTFdLCBbLTEzOS4wMzksIDYwXSwgWy0xNDAuMDEzLCA2MC4yNzY4Ml0sIFstMTQwLjk5Nzc4LCA2MC4zMDYzOV0sIFstMTQwLjk5MjUsIDY2LjAwMDAzXSwgWy0xNDAuOTg2LCA2OS43MTJdLCBbLTEzOS4xMjA1MiwgNjkuNDcxMDJdLCBbLTEzNy41NDYzNiwgNjguOTkwMDJdLCBbLTEzNi41MDM1OCwgNjguODk4MDRdLCBbLTEzNS42MjU3NiwgNjkuMzE1MTJdLCBbLTEzNC40MTQ2NCwgNjkuNjI3NDNdLCBbLTEzMi45MjkyNSwgNjkuNTA1MzRdLCBbLTEzMS40MzEzNiwgNjkuOTQ0NTFdLCBbLTEyOS43OTQ3MSwgNzAuMTkzNjldLCBbLTEyOS4xMDc3MywgNjkuNzc5MjddLCBbLTEyOC4zNjE1NiwgNzAuMDEyODZdLCBbLTEyOC4xMzgxNywgNzAuNDgzODRdLCBbLTEyNy40NDcxMiwgNzAuMzc3MjFdLCBbLTEyNS43NTYzMiwgNjkuNDgwNThdLCBbLTEyNC40MjQ4MywgNzAuMTU4NF0sIFstMTI0LjI4OTY4LCA2OS4zOTk2OV0sIFstMTIzLjA2MTA4LCA2OS41NjM3Ml0sIFstMTIyLjY4MzUsIDY5Ljg1NTUzXSwgWy0xMjEuNDcyMjYsIDY5Ljc5Nzc4XSwgWy0xMTkuOTQyODgsIDY5LjM3Nzg2XSwgWy0xMTcuNjAyNjgsIDY5LjAxMTI4XSwgWy0xMTYuMjI2NDMsIDY4Ljg0MTUxXSwgWy0xMTUuMjQ2OSwgNjguOTA1OTFdLCBbLTExMy44OTc5NCwgNjguMzk4OV0sIFstMTE1LjMwNDg5LCA2Ny45MDI2MV0sIFstMTEzLjQ5NzI3LCA2Ny42ODgxNV0sIFstMTEwLjc5OCwgNjcuODA2MTJdLCBbLTEwOS45NDYxOSwgNjcuOTgxMDRdLCBbLTEwOC44ODAyLCA2Ny4zODE0NF0sIFstMTA3Ljc5MjM5LCA2Ny44ODczNl0sIFstMTA4LjgxMjk5LCA2OC4zMTE2NF0sIFstMTA4LjE2NzIxLCA2OC42NTM5Ml0sIFstMTA2Ljk1LCA2OC43XSwgWy0xMDYuMTUsIDY4LjhdLCBbLTEwNS4zNDI4MiwgNjguNTYxMjJdLCBbLTEwNC4zMzc5MSwgNjguMDE4XSwgWy0xMDMuMjIxMTUsIDY4LjA5Nzc1XSwgWy0xMDEuNDU0MzMsIDY3LjY0Njg5XSwgWy05OS45MDE5NSwgNjcuODA1NjZdLCBbLTk4LjQ0MzIsIDY3Ljc4MTY1XSwgWy05OC41NTg2LCA2OC40MDM5NF0sIFstOTcuNjY5NDgsIDY4LjU3ODY0XSwgWy05Ni4xMTk5MSwgNjguMjM5MzldLCBbLTk2LjEyNTg4LCA2Ny4yOTMzOF0sIFstOTUuNDg5NDMsIDY4LjA5MDddLCBbLTk0LjY4NSwgNjguMDYzODNdLCBbLTk0LjIzMjgyLCA2OS4wNjkwM10sIFstOTUuMzA0MDgsIDY5LjY4NTcxXSwgWy05Ni40NzEzMSwgNzAuMDg5NzZdLCBbLTk2LjM5MTE1LCA3MS4xOTQ4Ml0sIFstOTUuMjA4OCwgNzEuOTIwNTNdLCBbLTkzLjg4OTk3LCA3MS43NjAxNV0sIFstOTIuODc4MTgsIDcxLjMxODY5XSwgWy05MS41MTk2NCwgNzAuMTkxMjldLCBbLTkyLjQwNjkyLCA2OS42OTk5N10sIFstOTAuNTQ3MSwgNjkuNDk3NjZdXV0sIFtbWy0xMTQuMTY3MTcsIDczLjEyMTQ1XSwgWy0xMTQuNjY2MzQsIDcyLjY1Mjc3XSwgWy0xMTIuNDQxMDIsIDcyLjk1NTRdLCBbLTExMS4wNTAzOSwgNzIuNDUwNF0sIFstMTA5LjkyMDM1LCA3Mi45NjExM10sIFstMTA5LjAwNjU0LCA3Mi42MzMzNV0sIFstMTA4LjE4ODM1LCA3MS42NTA4OV0sIFstMTA3LjY4NTk5LCA3Mi4wNjU0OF0sIFstMTA4LjM5NjM5LCA3My4wODk1M10sIFstMTA3LjUxNjQ1LCA3My4yMzU5OF0sIFstMTA2LjUyMjU5LCA3My4wNzYwMV0sIFstMTA1LjQwMjQ2LCA3Mi42NzI1OV0sIFstMTA0Ljc3NDg0LCA3MS42OTg0XSwgWy0xMDQuNDY0NzYsIDcwLjk5Mjk3XSwgWy0xMDIuNzg1MzcsIDcwLjQ5Nzc2XSwgWy0xMDAuOTgwNzgsIDcwLjAyNDMyXSwgWy0xMDEuMDg5MjksIDY5LjU4NDQ3XSwgWy0xMDIuNzMxMTYsIDY5LjUwNDAyXSwgWy0xMDIuMDkzMjksIDY5LjExOTYyXSwgWy0xMDIuNDMwMjQsIDY4Ljc1MjgyXSwgWy0xMDQuMjQsIDY4LjkxXSwgWy0xMDUuOTYsIDY5LjE4XSwgWy0xMDcuMTIyNTQsIDY5LjExOTIyXSwgWy0xMDksIDY4Ljc4XSwgWy0xMTEuNTM0MTQ5LCA2OC42MzAwNTldLCBbLTExMy4zMTMyLCA2OC41MzU1NF0sIFstMTEzLjg1NDk2LCA2OS4wMDc0NF0sIFstMTE1LjIyLCA2OS4yOF0sIFstMTE2LjEwNzk0LCA2OS4xNjgyMV0sIFstMTE3LjM0LCA2OS45Nl0sIFstMTE2LjY3NDczLCA3MC4wNjY1NV0sIFstMTE1LjEzMTEyLCA3MC4yMzczXSwgWy0xMTMuNzIxNDEsIDcwLjE5MjM3XSwgWy0xMTIuNDE2MSwgNzAuMzY2MzhdLCBbLTExNC4zNSwgNzAuNl0sIFstMTE2LjQ4Njg0LCA3MC41MjA0NV0sIFstMTE3LjkwNDgsIDcwLjU0MDU2XSwgWy0xMTguNDMyMzgsIDcwLjkwOTJdLCBbLTExNi4xMTMxMSwgNzEuMzA5MThdLCBbLTExNy42NTU2OCwgNzEuMjk1Ml0sIFstMTE5LjQwMTk5LCA3MS41NTg1OV0sIFstMTE4LjU2MjY3LCA3Mi4zMDc4NV0sIFstMTE3Ljg2NjQyLCA3Mi43MDU5NF0sIFstMTE1LjE4OTA5LCA3My4zMTQ1OV0sIFstMTE0LjE2NzE3LCA3My4xMjE0NV1dXSwgW1tbLTEwNC41LCA3My40Ml0sIFstMTA1LjM4LCA3Mi43Nl0sIFstMTA2Ljk0LCA3My40Nl0sIFstMTA2LjYsIDczLjZdLCBbLTEwNS4yNiwgNzMuNjRdLCBbLTEwNC41LCA3My40Ml1dXSwgW1tbLTc2LjM0LCA3My4xMDI2ODVdLCBbLTc2LjI1MTQwNCwgNzIuODI2Mzg1XSwgWy03Ny4zMTQ0MzgsIDcyLjg1NTU0NV0sIFstNzguMzkxNjcsIDcyLjg3NjY1Nl0sIFstNzkuNDg2MjUyLCA3Mi43NDIyMDNdLCBbLTc5Ljc3NTgzMywgNzIuODAyOTAyXSwgWy04MC44NzYwOTksIDczLjMzMzE4M10sIFstODAuODMzODg1LCA3My42OTMxODRdLCBbLTgwLjM1MzA1OCwgNzMuNzU5NzJdLCBbLTc4LjA2NDQzOCwgNzMuNjUxOTMyXSwgWy03Ni4zNCwgNzMuMTAyNjg1XV1dLCBbW1stODYuNTYyMTc5LCA3My4xNTc0NDddLCBbLTg1Ljc3NDM3MSwgNzIuNTM0MTI2XSwgWy04NC44NTAxMTIsIDczLjM0MDI3OF0sIFstODIuMzE1NTksIDczLjc1MDk1MV0sIFstODAuNjAwMDg4LCA3Mi43MTY1NDRdLCBbLTgwLjc0ODk0MiwgNzIuMDYxOTA3XSwgWy03OC43NzA2MzksIDcyLjM1MjE3M10sIFstNzcuODI0NjI0LCA3Mi43NDk2MTddLCBbLTc1LjYwNTg0NSwgNzIuMjQzNjc4XSwgWy03NC4yMjg2MTYsIDcxLjc2NzE0NF0sIFstNzQuMDk5MTQxLCA3MS4zMzA4NF0sIFstNzIuMjQyMjI2LCA3MS41NTY5MjVdLCBbLTcxLjIwMDAxNSwgNzAuOTIwMDEzXSwgWy02OC43ODYwNTQsIDcwLjUyNTAyNF0sIFstNjcuOTE0OTcsIDcwLjEyMTk0OF0sIFstNjYuOTY5MDMzLCA2OS4xODYwODddLCBbLTY4LjgwNTEyMywgNjguNzIwMTk4XSwgWy02Ni40NDk4NjYsIDY4LjA2NzE2M10sIFstNjQuODYyMzE0LCA2Ny44NDc1MzldLCBbLTYzLjQyNDkzNCwgNjYuOTI4NDczXSwgWy02MS44NTE5ODEsIDY2Ljg2MjEyMV0sIFstNjIuMTYzMTc3LCA2Ni4xNjAyNTFdLCBbLTYzLjkxODQ0NCwgNjQuOTk4NjY5XSwgWy02NS4xNDg4NiwgNjUuNDI2MDMzXSwgWy02Ni43MjEyMTksIDY2LjM4ODA0MV0sIFstNjguMDE1MDE2LCA2Ni4yNjI3MjZdLCBbLTY4LjE0MTI4NywgNjUuNjg5Nzg5XSwgWy02Ny4wODk2NDYsIDY1LjEwODQ1NV0sIFstNjUuNzMyMDgsIDY0LjY0ODQwNl0sIFstNjUuMzIwMTY4LCA2NC4zODI3MzddLCBbLTY0LjY2OTQwNiwgNjMuMzkyOTI3XSwgWy02NS4wMTM4MDQsIDYyLjY3NDE4NV0sIFstNjYuMjc1MDQ1LCA2Mi45NDUwOTldLCBbLTY4Ljc4MzE4NiwgNjMuNzQ1NjddLCBbLTY3LjM2OTY4MSwgNjIuODgzOTY2XSwgWy02Ni4zMjgyOTcsIDYyLjI4MDA3NV0sIFstNjYuMTY1NTY4LCA2MS45MzA4OTddLCBbLTY4Ljg3NzM2NywgNjIuMzMwMTQ5XSwgWy03MS4wMjM0MzcsIDYyLjkxMDcwOF0sIFstNzIuMjM1Mzc5LCA2My4zOTc4MzZdLCBbLTcxLjg4NjI3OCwgNjMuNjc5OTg5XSwgWy03My4zNzgzMDYsIDY0LjE5Mzk2M10sIFstNzQuODM0NDE5LCA2NC42NzkwNzZdLCBbLTc0LjgxODUwMywgNjQuMzg5MDkzXSwgWy03Ny43MDk5OCwgNjQuMjI5NTQyXSwgWy03OC41NTU5NDksIDY0LjU3MjkwNl0sIFstNzcuODk3MjgxLCA2NS4zMDkxOTJdLCBbLTc2LjAxODI3NCwgNjUuMzI2OTY5XSwgWy03My45NTk3OTUsIDY1LjQ1NDc2NV0sIFstNzQuMjkzODgzLCA2NS44MTE3NzFdLCBbLTczLjk0NDkxMiwgNjYuMzEwNTc4XSwgWy03Mi42NTExNjcsIDY3LjI4NDU3Nl0sIFstNzIuOTI2MDYsIDY3LjcyNjkyNl0sIFstNzMuMzExNjE4LCA2OC4wNjk0MzddLCBbLTc0Ljg0MzMwNywgNjguNTU0NjI3XSwgWy03Ni44NjkxMDEsIDY4Ljg5NDczNl0sIFstNzYuMjI4NjQ5LCA2OS4xNDc3NjldLCBbLTc3LjI4NzM3LCA2OS43Njk1NF0sIFstNzguMTY4NjM0LCA2OS44MjY0ODhdLCBbLTc4Ljk1NzI0MiwgNzAuMTY2ODhdLCBbLTc5LjQ5MjQ1NSwgNjkuODcxODA4XSwgWy04MS4zMDU0NzEsIDY5Ljc0MzE4NV0sIFstODQuOTQ0NzA2LCA2OS45NjY2MzRdLCBbLTg3LjA2MDAwMywgNzAuMjYwMDAxXSwgWy04OC42ODE3MTMsIDcwLjQxMDc0MV0sIFstODkuNTEzNDIsIDcwLjc2MjAzOF0sIFstODguNDY3NzIxLCA3MS4yMTgxODZdLCBbLTg5Ljg4ODE1MSwgNzEuMjIyNTUyXSwgWy05MC4yMDUxNiwgNzIuMjM1MDc0XSwgWy04OS40MzY1NzcsIDczLjEyOTQ2NF0sIFstODguNDA4MjQyLCA3My41Mzc4ODldLCBbLTg1LjgyNjE1MSwgNzMuODAzODE2XSwgWy04Ni41NjIxNzksIDczLjE1NzQ0N11dXSwgW1tbLTEwMC4zNTY0MiwgNzMuODQzODldLCBbLTk5LjE2Mzg3LCA3My42MzMzOV0sIFstOTcuMzgsIDczLjc2XSwgWy05Ny4xMiwgNzMuNDddLCBbLTk4LjA1MzU5LCA3Mi45OTA1Ml0sIFstOTYuNTQsIDcyLjU2XSwgWy05Ni43MiwgNzEuNjZdLCBbLTk4LjM1OTY2LCA3MS4yNzI4NV0sIFstOTkuMzIyODYsIDcxLjM1NjM5XSwgWy0xMDAuMDE0ODIsIDcxLjczODI3XSwgWy0xMDIuNSwgNzIuNTFdLCBbLTEwMi40OCwgNzIuODNdLCBbLTEwMC40MzgzNiwgNzIuNzA1ODhdLCBbLTEwMS41NCwgNzMuMzZdLCBbLTEwMC4zNTY0MiwgNzMuODQzODldXV0sIFtbWy05My4xOTYyOTYsIDcyLjc3MTk5Ml0sIFstOTQuMjY5MDQ3LCA3Mi4wMjQ1OTZdLCBbLTk1LjQwOTg1NiwgNzIuMDYxODgxXSwgWy05Ni4wMzM3NDUsIDcyLjk0MDI3N10sIFstOTYuMDE4MjY4LCA3My40Mzc0M10sIFstOTUuNDk1NzkzLCA3My44NjI0MTddLCBbLTk0LjUwMzY1OCwgNzQuMTM0OTA3XSwgWy05Mi40MjAwMTIsIDc0LjEwMDAyNV0sIFstOTAuNTA5NzkzLCA3My44NTY3MzJdLCBbLTkyLjAwMzk2NSwgNzIuOTY2MjQ0XSwgWy05My4xOTYyOTYsIDcyLjc3MTk5Ml1dXSwgW1tbLTEyMC40NiwgNzEuMzgzNjAyXSwgWy0xMjMuMDkyMTksIDcwLjkwMTY0XSwgWy0xMjMuNjIsIDcxLjM0XSwgWy0xMjUuOTI4OTQ5LCA3MS44Njg2ODhdLCBbLTEyNS41LCA3Mi4yOTIyNjFdLCBbLTEyNC44MDcyOSwgNzMuMDIyNTZdLCBbLTEyMy45NCwgNzMuNjhdLCBbLTEyNC45MTc3NSwgNzQuMjkyNzVdLCBbLTEyMS41Mzc4OCwgNzQuNDQ4OTNdLCBbLTEyMC4xMDk3OCwgNzQuMjQxMzVdLCBbLTExNy41NTU2NCwgNzQuMTg1NzddLCBbLTExNi41ODQ0MiwgNzMuODk2MDddLCBbLTExNS41MTA4MSwgNzMuNDc1MTldLCBbLTExNi43Njc5NCwgNzMuMjIyOTJdLCBbLTExOS4yMiwgNzIuNTJdLCBbLTEyMC40NiwgNzEuODJdLCBbLTEyMC40NiwgNzEuMzgzNjAyXV1dLCBbW1stOTMuNjEyNzU2LCA3NC45Nzk5OTddLCBbLTk0LjE1NjkwOSwgNzQuNTkyMzQ3XSwgWy05NS42MDg2ODEsIDc0LjY2Njg2NF0sIFstOTYuODIwOTMyLCA3NC45Mjc2MjNdLCBbLTk2LjI4ODU4NywgNzUuMzc3ODI4XSwgWy05NC44NTA4MiwgNzUuNjQ3MjE4XSwgWy05My45Nzc3NDcsIDc1LjI5NjQ5XSwgWy05My42MTI3NTYsIDc0Ljk3OTk5N11dXSwgW1tbLTk4LjUsIDc2LjcyXSwgWy05Ny43MzU1ODUsIDc2LjI1NjU2XSwgWy05Ny43MDQ0MTUsIDc1Ljc0MzQ0XSwgWy05OC4xNiwgNzVdLCBbLTk5LjgwODc0LCA3NC44OTc0NF0sIFstMTAwLjg4MzY2LCA3NS4wNTczNl0sIFstMTAwLjg2MjkyLCA3NS42NDA3NV0sIFstMTAyLjUwMjA5LCA3NS41NjM4XSwgWy0xMDIuNTY1NTIsIDc2LjMzNjZdLCBbLTEwMS40ODk3MywgNzYuMzA1MzddLCBbLTk5Ljk4MzQ5LCA3Ni42NDYzNF0sIFstOTguNTc2OTksIDc2LjU4ODU5XSwgWy05OC41LCA3Ni43Ml1dXSwgW1tbLTEwOC4yMTE0MSwgNzYuMjAxNjhdLCBbLTEwNy44MTk0MywgNzUuODQ1NTJdLCBbLTEwNi45Mjg5MywgNzYuMDEyODJdLCBbLTEwNS44ODEsIDc1Ljk2OTRdLCBbLTEwNS43MDQ5OCwgNzUuNDc5NTFdLCBbLTEwNi4zMTM0NywgNzUuMDA1MjddLCBbLTEwOS43LCA3NC44NV0sIFstMTEyLjIyMzA3LCA3NC40MTY5Nl0sIFstMTEzLjc0MzgxLCA3NC4zOTQyN10sIFstMTEzLjg3MTM1LCA3NC43MjAyOV0sIFstMTExLjc5NDIxLCA3NS4xNjI1XSwgWy0xMTYuMzEyMjEsIDc1LjA0MzQzXSwgWy0xMTcuNzEwNCwgNzUuMjIyMl0sIFstMTE2LjM0NjAyLCA3Ni4xOTkwM10sIFstMTE1LjQwNDg3LCA3Ni40Nzg4N10sIFstMTEyLjU5MDU2LCA3Ni4xNDEzNF0sIFstMTEwLjgxNDIyLCA3NS41NDkxOV0sIFstMTA5LjA2NzEsIDc1LjQ3MzIxXSwgWy0xMTAuNDk3MjYsIDc2LjQyOTgyXSwgWy0xMDkuNTgxMSwgNzYuNzk0MTddLCBbLTEwOC41NDg1OSwgNzYuNjc4MzJdLCBbLTEwOC4yMTE0MSwgNzYuMjAxNjhdXV0sIFtbWy05NC42ODQwODYsIDc3LjA5Nzg3OF0sIFstOTMuNTczOTIxLCA3Ni43NzYyOTZdLCBbLTkxLjYwNTAyMywgNzYuNzc4NTE4XSwgWy05MC43NDE4NDYsIDc2LjQ0OTU5N10sIFstOTAuOTY5NjYxLCA3Ni4wNzQwMTNdLCBbLTg5LjgyMjIzOCwgNzUuODQ3Nzc0XSwgWy04OS4xODcwODMsIDc1LjYxMDE2Nl0sIFstODcuODM4Mjc2LCA3NS41NjYxODldLCBbLTg2LjM3OTE5MiwgNzUuNDgyNDIxXSwgWy04NC43ODk2MjUsIDc1LjY5OTIwNF0sIFstODIuNzUzNDQ1LCA3NS43ODQzMTVdLCBbLTgxLjEyODUzMSwgNzUuNzEzOTgzXSwgWy04MC4wNTc1MTEsIDc1LjMzNjg0OV0sIFstNzkuODMzOTMzLCA3NC45MjMxMjddLCBbLTgwLjQ1Nzc3MSwgNzQuNjU3MzA0XSwgWy04MS45NDg4NDMsIDc0LjQ0MjQ1OV0sIFstODMuMjI4ODk0LCA3NC41NjQwMjhdLCBbLTg2LjA5NzQ1MiwgNzQuNDEwMDMyXSwgWy04OC4xNTAzNSwgNzQuMzkyMzA3XSwgWy04OS43NjQ3MjIsIDc0LjUxNTU1NV0sIFstOTIuNDIyNDQxLCA3NC44Mzc3NThdLCBbLTkyLjc2ODI4NSwgNzUuMzg2ODJdLCBbLTkyLjg4OTkwNiwgNzUuODgyNjU1XSwgWy05My44OTM4MjQsIDc2LjMxOTI0NF0sIFstOTUuOTYyNDU3LCA3Ni40NDEzODFdLCBbLTk3LjEyMTM3OSwgNzYuNzUxMDc4XSwgWy05Ni43NDUxMjMsIDc3LjE2MTM4OV0sIFstOTQuNjg0MDg2LCA3Ny4wOTc4NzhdXV0sIFtbWy0xMTYuMTk4NTg3LCA3Ny42NDUyODddLCBbLTExNi4zMzU4MTMsIDc2Ljg3Njk2Ml0sIFstMTE3LjEwNjA1MSwgNzYuNTMwMDMyXSwgWy0xMTguMDQwNDEyLCA3Ni40ODExNzJdLCBbLTExOS44OTkzMTgsIDc2LjA1MzIxM10sIFstMTIxLjQ5OTk5NSwgNzUuOTAwMDE5XSwgWy0xMjIuODU0OTI0LCA3Ni4xMTY1NDNdLCBbLTEyMi44NTQ5MjUsIDc2LjExNjU0M10sIFstMTIxLjE1NzUzNSwgNzYuODY0NTA4XSwgWy0xMTkuMTAzOTM5LCA3Ny41MTIyMl0sIFstMTE3LjU3MDEzMSwgNzcuNDk4MzE5XSwgWy0xMTYuMTk4NTg3LCA3Ny42NDUyODddXV0sIFtbWy05My44NDAwMDMsIDc3LjUxOTk5N10sIFstOTQuMjk1NjA4LCA3Ny40OTEzNDNdLCBbLTk2LjE2OTY1NCwgNzcuNTU1MTExXSwgWy05Ni40MzYzMDQsIDc3LjgzNDYyOV0sIFstOTQuNDIyNTc3LCA3Ny44MjAwMDVdLCBbLTkzLjcyMDY1NiwgNzcuNjM0MzMxXSwgWy05My44NDAwMDMsIDc3LjUxOTk5N11dXSwgW1tbLTExMC4xODY5MzgsIDc3LjY5NzAxNV0sIFstMTEyLjA1MTE5MSwgNzcuNDA5MjI5XSwgWy0xMTMuNTM0Mjc5LCA3Ny43MzIyMDddLCBbLTExMi43MjQ1ODcsIDc4LjA1MTA1XSwgWy0xMTEuMjY0NDQzLCA3OC4xNTI5NTZdLCBbLTEwOS44NTQ0NTIsIDc3Ljk5NjMyNV0sIFstMTEwLjE4NjkzOCwgNzcuNjk3MDE1XV1dLCBbW1stMTA5LjY2MzE0NiwgNzguNjAxOTczXSwgWy0xMTAuODgxMzE0LCA3OC40MDY5Ml0sIFstMTEyLjU0MjA5MSwgNzguNDA3OTAyXSwgWy0xMTIuNTI1ODkxLCA3OC41NTA1NTVdLCBbLTExMS41MDAwMSwgNzguODQ5OTk0XSwgWy0xMTAuOTYzNjYxLCA3OC44MDQ0NDFdLCBbLTEwOS42NjMxNDYsIDc4LjYwMTk3M11dXSwgW1tbLTk1LjgzMDI5NSwgNzguMDU2OTQxXSwgWy05Ny4zMDk4NDMsIDc3Ljg1MDU5N10sIFstOTguMTI0Mjg5LCA3OC4wODI4NTddLCBbLTk4LjU1Mjg2OCwgNzguNDU4MTA1XSwgWy05OC42MzE5ODQsIDc4Ljg3MTkzXSwgWy05Ny4zMzcyMzEsIDc4LjgzMTk4NF0sIFstOTYuNzU0Mzk5LCA3OC43NjU4MTNdLCBbLTk1LjU1OTI3OCwgNzguNDE4MzE1XSwgWy05NS44MzAyOTUsIDc4LjA1Njk0MV1dXSwgW1tbLTEwMC4wNjAxOTIsIDc4LjMyNDc1NF0sIFstOTkuNjcwOTM5LCA3Ny45MDc1NDVdLCBbLTEwMS4zMDM5NCwgNzguMDE4OTg1XSwgWy0xMDIuOTQ5ODA5LCA3OC4zNDMyMjldLCBbLTEwNS4xNzYxMzMsIDc4LjM4MDMzMl0sIFstMTA0LjIxMDQyOSwgNzguNjc3NDJdLCBbLTEwNS40MTk1OCwgNzguOTE4MzM2XSwgWy0xMDUuNDkyMjg5LCA3OS4zMDE1OTRdLCBbLTEwMy41MjkyODIsIDc5LjE2NTM0OV0sIFstMTAwLjgyNTE1OCwgNzguODAwNDYyXSwgWy0xMDAuMDYwMTkyLCA3OC4zMjQ3NTRdXV0sIFtbWy04Ny4wMiwgNzkuNjZdLCBbLTg1LjgxNDM1LCA3OS4zMzY5XSwgWy04Ny4xODc1NiwgNzkuMDM5M10sIFstODkuMDM1MzUsIDc4LjI4NzIzXSwgWy05MC44MDQzNiwgNzguMjE1MzNdLCBbLTkyLjg3NjY5LCA3OC4zNDMzM10sIFstOTMuOTUxMTYsIDc4Ljc1MDk5XSwgWy05My45MzU3NCwgNzkuMTEzNzNdLCBbLTkzLjE0NTI0LCA3OS4zODAxXSwgWy05NC45NzQsIDc5LjM3MjQ4XSwgWy05Ni4wNzYxNCwgNzkuNzA1MDJdLCBbLTk2LjcwOTcyLCA4MC4xNTc3N10sIFstOTYuMDE2NDQsIDgwLjYwMjMzXSwgWy05NS4zMjM0NSwgODAuOTA3MjldLCBbLTk0LjI5ODQzLCA4MC45NzcyN10sIFstOTQuNzM1NDIsIDgxLjIwNjQ2XSwgWy05Mi40MDk4NCwgODEuMjU3MzldLCBbLTkxLjEzMjg5LCA4MC43MjM0NV0sIFstODkuNDUsIDgwLjUwOTMyMl0sIFstODcuODEsIDgwLjMyXSwgWy04Ny4wMiwgNzkuNjZdXV0sIFtbWy02OC41LCA4My4xMDYzMjJdLCBbLTY1LjgyNzM1LCA4My4wMjgwMV0sIFstNjMuNjgsIDgyLjldLCBbLTYxLjg1LCA4Mi42Mjg2XSwgWy02MS44OTM4OCwgODIuMzYxNjVdLCBbLTY0LjMzNCwgODEuOTI3NzVdLCBbLTY2Ljc1MzQyLCA4MS43MjUyN10sIFstNjcuNjU3NTUsIDgxLjUwMTQxXSwgWy02NS40ODAzMSwgODEuNTA2NTddLCBbLTY3Ljg0LCA4MC45XSwgWy02OS40Njk3LCA4MC42MTY4M10sIFstNzEuMTgsIDc5LjhdLCBbLTczLjI0MjgsIDc5LjYzNDE1XSwgWy03My44OCwgNzkuNDMwMTYyXSwgWy03Ni45MDc3MywgNzkuMzIzMDldLCBbLTc1LjUyOTI0LCA3OS4xOTc2Nl0sIFstNzYuMjIwNDYsIDc5LjAxOTA3XSwgWy03NS4zOTM0NSwgNzguNTI1ODFdLCBbLTc2LjM0MzU0LCA3OC4xODI5Nl0sIFstNzcuODg4NTEsIDc3Ljg5OTkxXSwgWy03OC4zNjI2OSwgNzcuNTA4NTldLCBbLTc5Ljc1OTUxLCA3Ny4yMDk2OF0sIFstNzkuNjE5NjUsIDc2Ljk4MzM2XSwgWy03Ny45MTA4OSwgNzcuMDIyMDQ1XSwgWy03Ny44ODkxMSwgNzYuNzc3OTU1XSwgWy04MC41NjEyNSwgNzYuMTc4MTJdLCBbLTgzLjE3NDM5LCA3Ni40NTQwM10sIFstODYuMTExODQsIDc2LjI5OTAxXSwgWy04Ny42LCA3Ni40Ml0sIFstODkuNDkwNjgsIDc2LjQ3MjM5XSwgWy04OS42MTYxLCA3Ni45NTIxM10sIFstODcuNzY3MzksIDc3LjE3ODMzXSwgWy04OC4yNiwgNzcuOV0sIFstODcuNjUsIDc3Ljk3MDIyMl0sIFstODQuOTc2MzQsIDc3LjUzODczXSwgWy04Ni4zNCwgNzguMThdLCBbLTg3Ljk2MTkyLCA3OC4zNzE4MV0sIFstODcuMTUxOTgsIDc4Ljc1ODY3XSwgWy04NS4zNzg2OCwgNzguOTk2OV0sIFstODUuMDk0OTUsIDc5LjM0NTQzXSwgWy04Ni41MDczNCwgNzkuNzM2MjRdLCBbLTg2LjkzMTc5LCA4MC4yNTE0NV0sIFstODQuMTk4NDQsIDgwLjIwODM2XSwgWy04My40MDg2OTYsIDgwLjFdLCBbLTgxLjg0ODIzLCA4MC40NjQ0Ml0sIFstODQuMSwgODAuNThdLCBbLTg3LjU5ODk1LCA4MC41MTYyN10sIFstODkuMzY2NjMsIDgwLjg1NTY5XSwgWy05MC4yLCA4MS4yNl0sIFstOTEuMzY3ODYsIDgxLjU1MzFdLCBbLTkxLjU4NzAyLCA4MS44OTQyOV0sIFstOTAuMSwgODIuMDg1XSwgWy04OC45MzIyNywgODIuMTE3NTFdLCBbLTg2Ljk3MDI0LCA4Mi4yNzk2MV0sIFstODUuNSwgODIuNjUyMjczXSwgWy04NC4yNjAwMDUsIDgyLjZdLCBbLTgzLjE4LCA4Mi4zMl0sIFstODIuNDIsIDgyLjg2XSwgWy04MS4xLCA4My4wMl0sIFstNzkuMzA2NjQsIDgzLjEzMDU2XSwgWy03Ni4yNSwgODMuMTcyMDU5XSwgWy03NS43MTg3OCwgODMuMDY0MDRdLCBbLTcyLjgzMTUzLCA4My4yMzMyNF0sIFstNzAuNjY1NzY1LCA4My4xNjk3ODFdLCBbLTY4LjUsIDgzLjEwNjMyMl1dXV0sICJ0eXBlIjogIk11bHRpUG9seWdvbiJ9LCAiaWQiOiAiQ0FOIiwgInByb3BlcnRpZXMiOiB7ImhpZ2hsaWdodCI6IHt9LCAibmFtZSI6ICJDYW5hZGEiLCAic3R5bGUiOiB7ImNvbG9yIjogImdyYXkiLCAiZGFzaEFycmF5IjogIjEsIDEiLCAiZmlsbENvbG9yIjogIiMwMDAwMDAiLCAibGluZU9wYWNpdHkiOiAwLjksICJ3ZWlnaHQiOiAxfX0sICJ0eXBlIjogIkZlYXR1cmUifSwgeyJnZW9tZXRyeSI6IHsiY29vcmRpbmF0ZXMiOiBbW1s5LjU5NDIyNiwgNDcuNTI1MDU4XSwgWzkuNjMyOTMyLCA0Ny4zNDc2MDFdLCBbOS40Nzk5NywgNDcuMTAyODFdLCBbOS45MzI0NDgsIDQ2LjkyMDcyOF0sIFsxMC40NDI3MDEsIDQ2Ljg5MzU0Nl0sIFsxMC4zNjMzNzgsIDQ2LjQ4MzU3MV0sIFs5LjkyMjgzNywgNDYuMzE0ODk5XSwgWzkuMTgyODgyLCA0Ni40NDAyMTVdLCBbOC45NjYzMDYsIDQ2LjAzNjkzMl0sIFs4LjQ4OTk1MiwgNDYuMDA1MTUxXSwgWzguMzE2NjMsIDQ2LjE2MzY0Ml0sIFs3Ljc1NTk5MiwgNDUuODI0NDldLCBbNy4yNzM4NTEsIDQ1Ljc3Njk0OF0sIFs2Ljg0MzU5MywgNDUuOTkxMTQ3XSwgWzYuNTAwMSwgNDYuNDI5NjczXSwgWzYuMDIyNjA5LCA0Ni4yNzI5OV0sIFs2LjAzNzM4OSwgNDYuNzI1Nzc5XSwgWzYuNzY4NzE0LCA0Ny4yODc3MDhdLCBbNi43MzY1NzEsIDQ3LjU0MTgwMV0sIFs3LjE5MjIwMiwgNDcuNDQ5NzY2XSwgWzcuNDY2NzU5LCA0Ny42MjA1ODJdLCBbOC4zMTczMDEsIDQ3LjYxMzU4XSwgWzguNTIyNjEyLCA0Ny44MzA4MjhdLCBbOS41OTQyMjYsIDQ3LjUyNTA1OF1dXSwgInR5cGUiOiAiUG9seWdvbiJ9LCAiaWQiOiAiQ0hFIiwgInByb3BlcnRpZXMiOiB7ImhpZ2hsaWdodCI6IHt9LCAibmFtZSI6ICJTd2l0emVybGFuZCIsICJzdHlsZSI6IHsiY29sb3IiOiAiZ3JheSIsICJkYXNoQXJyYXkiOiAiMSwgMSIsICJmaWxsQ29sb3IiOiAiI0QxRTJGMyIsICJsaW5lT3BhY2l0eSI6IDAuOSwgIndlaWdodCI6IDF9fSwgInR5cGUiOiAiRmVhdHVyZSJ9LCB7Imdlb21ldHJ5IjogeyJjb29yZGluYXRlcyI6IFtbW1stNjguNjM0MDEsIC01Mi42MzYzN10sIFstNjguNjMzMzUsIC01NC44Njk1XSwgWy02Ny41NjI0NCwgLTU0Ljg3MDAxXSwgWy02Ni45NTk5MiwgLTU0Ljg5NjgxXSwgWy02Ny4yOTEwMywgLTU1LjMwMTI0XSwgWy02OC4xNDg2MywgLTU1LjYxMTgzXSwgWy02OC42Mzk5OTEsIC01NS41ODAwMThdLCBbLTY5LjIzMjEsIC01NS40OTkwNl0sIFstNjkuOTU4MDksIC01NS4xOTg0M10sIFstNzEuMDA1NjgsIC01NS4wNTM4M10sIFstNzIuMjYzOSwgLTU0LjQ5NTE0XSwgWy03My4yODUyLCAtNTMuOTU3NTJdLCBbLTc0LjY2MjUzLCAtNTIuODM3NDldLCBbLTczLjgzODEsIC01My4wNDc0M10sIFstNzIuNDM0MTgsIC01My43MTU0XSwgWy03MS4xMDc3MywgLTU0LjA3NDMzXSwgWy03MC41OTE3OCwgLTUzLjYxNTgzXSwgWy03MC4yNjc0OCwgLTUyLjkzMTIzXSwgWy02OS4zNDU2NSwgLTUyLjUxODNdLCBbLTY4LjYzNDAxLCAtNTIuNjM2MzddXV0sIFtbWy02OC4yMTk5MTMsIC0yMS40OTQzNDddLCBbLTY3LjgyODE4LCAtMjIuODcyOTE5XSwgWy02Ny4xMDY2NzQsIC0yMi43MzU5MjVdLCBbLTY2Ljk4NTIzNCwgLTIyLjk4NjM0OV0sIFstNjcuMzI4NDQzLCAtMjQuMDI1MzAzXSwgWy02OC40MTc2NTMsIC0yNC41MTg1NTVdLCBbLTY4LjM4NjAwMSwgLTI2LjE4NTAxNl0sIFstNjguNTk0OCwgLTI2LjUwNjkwOV0sIFstNjguMjk1NTQyLCAtMjYuODk5MzRdLCBbLTY5LjAwMTIzNSwgLTI3LjUyMTIxNF0sIFstNjkuNjU2MTMsIC0yOC40NTkxNDFdLCBbLTcwLjAxMzU1LCAtMjkuMzY3OTIzXSwgWy02OS45MTkwMDgsIC0zMC4zMzYzMzldLCBbLTcwLjUzNTA2OSwgLTMxLjM2NTAxXSwgWy03MC4wNzQzOTksIC0zMy4wOTEyMV0sIFstNjkuODE0Nzc3LCAtMzMuMjczODg2XSwgWy02OS44MTczMDksIC0zNC4xOTM1NzFdLCBbLTcwLjM4ODA0OSwgLTM1LjE2OTY4OF0sIFstNzAuMzY0NzY5LCAtMzYuMDA1MDg5XSwgWy03MS4xMjE4ODEsIC0zNi42NTgxMjRdLCBbLTcxLjExODYyNSwgLTM3LjU3NjgyN10sIFstNzAuODE0NjY0LCAtMzguNTUyOTk1XSwgWy03MS40MTM1MTcsIC0zOC45MTYwMjJdLCBbLTcxLjY4MDc2MSwgLTM5LjgwODE2NF0sIFstNzEuOTE1NzM0LCAtNDAuODMyMzM5XSwgWy03MS43NDY4MDQsIC00Mi4wNTEzODZdLCBbLTcyLjE0ODg5OCwgLTQyLjI1NDg4OF0sIFstNzEuOTE1NDI0LCAtNDMuNDA4NTY1XSwgWy03MS40NjQwNTYsIC00My43ODc2MTFdLCBbLTcxLjc5MzYyMywgLTQ0LjIwNzE3Ml0sIFstNzEuMzI5ODAxLCAtNDQuNDA3NTIyXSwgWy03MS4yMjI3NzksIC00NC43ODQyNDNdLCBbLTcxLjY1OTMxNiwgLTQ0Ljk3MzY4OV0sIFstNzEuNTUyMDA5LCAtNDUuNTYwNzMzXSwgWy03MS45MTcyNTgsIC00Ni44ODQ4MzhdLCBbLTcyLjQ0NzM1NSwgLTQ3LjczODUzM10sIFstNzIuMzMxMTYxLCAtNDguMjQ0MjM4XSwgWy03Mi42NDgyNDcsIC00OC44Nzg2MThdLCBbLTczLjQxNTQzNiwgLTQ5LjMxODQzNl0sIFstNzMuMzI4MDUxLCAtNTAuMzc4Nzg1XSwgWy03Mi45NzU3NDcsIC01MC43NDE0NV0sIFstNzIuMzA5OTc0LCAtNTAuNjc3MDFdLCBbLTcyLjMyOTQwNCwgLTUxLjQyNTk1Nl0sIFstNzEuOTE0ODA0LCAtNTIuMDA5MDIyXSwgWy02OS40OTgzNjIsIC01Mi4xNDI3NjFdLCBbLTY4LjU3MTU0NSwgLTUyLjI5OTQ0NF0sIFstNjkuNDYxMjg0LCAtNTIuMjkxOTUxXSwgWy02OS45NDI3OCwgLTUyLjUzNzkzMV0sIFstNzAuODQ1MTAyLCAtNTIuODk5MjAxXSwgWy03MS4wMDYzMzIsIC01My44MzMyNTJdLCBbLTcxLjQyOTc5NSwgLTUzLjg1NjQ1NV0sIFstNzIuNTU3OTQzLCAtNTMuNTMxNDFdLCBbLTczLjcwMjc1NywgLTUyLjgzNTA2OV0sIFstNzMuNzAyNzU3LCAtNTIuODM1MDddLCBbLTc0Ljk0Njc2MywgLTUyLjI2Mjc1NF0sIFstNzUuMjYwMDI2LCAtNTEuNjI5MzU1XSwgWy03NC45NzY2MzIsIC01MS4wNDMzOTZdLCBbLTc1LjQ3OTc1NCwgLTUwLjM3ODM3Ml0sIFstNzUuNjA4MDE1LCAtNDguNjczNzczXSwgWy03NS4xODI3NywgLTQ3LjcxMTkxOV0sIFstNzQuMTI2NTgxLCAtNDYuOTM5MjUzXSwgWy03NS42NDQzOTUsIC00Ni42NDc2NDNdLCBbLTc0LjY5MjE1NCwgLTQ1Ljc2Mzk3Nl0sIFstNzQuMzUxNzA5LCAtNDQuMTAzMDQ0XSwgWy03My4yNDAzNTYsIC00NC40NTQ5NjFdLCBbLTcyLjcxNzgwNCwgLTQyLjM4MzM1Nl0sIFstNzMuMzg4OSwgLTQyLjExNzUzMl0sIFstNzMuNzAxMzM2LCAtNDMuMzY1Nzc2XSwgWy03NC4zMzE5NDMsIC00My4yMjQ5NThdLCBbLTc0LjAxNzk1NywgLTQxLjc5NDgxM10sIFstNzMuNjc3MDk5LCAtMzkuOTQyMjEzXSwgWy03My4yMTc1OTMsIC0zOS4yNTg2ODldLCBbLTczLjUwNTU1OSwgLTM4LjI4Mjg4M10sIFstNzMuNTg4MDYxLCAtMzcuMTU2Mjg1XSwgWy03My4xNjY3MTcsIC0zNy4xMjM3OF0sIFstNzIuNTUzMTM3LCAtMzUuNTA4ODRdLCBbLTcxLjg2MTczMiwgLTMzLjkwOTA5M10sIFstNzEuNDM4NDUsIC0zMi40MTg4OTldLCBbLTcxLjY2ODcyMSwgLTMwLjkyMDY0NV0sIFstNzEuMzcwMDgzLCAtMzAuMDk1NjgyXSwgWy03MS40ODk4OTQsIC0yOC44NjE0NDJdLCBbLTcwLjkwNTEyNCwgLTI3LjY0MDM4XSwgWy03MC43MjQ5NTQsIC0yNS43MDU5MjRdLCBbLTcwLjQwMzk2NiwgLTIzLjYyODk5N10sIFstNzAuMDkxMjQ2LCAtMjEuMzkzMzE5XSwgWy03MC4xNjQ0MiwgLTE5Ljc1NjQ2OF0sIFstNzAuMzcyNTcyLCAtMTguMzQ3OTc1XSwgWy02OS44NTg0NDQsIC0xOC4wOTI2OTRdLCBbLTY5LjU5MDQyNCwgLTE3LjU4MDAxMl0sIFstNjkuMTAwMjQ3LCAtMTguMjYwMTI1XSwgWy02OC45NjY4MTgsIC0xOC45ODE2ODNdLCBbLTY4LjQ0MjIyNSwgLTE5LjQwNTA2OF0sIFstNjguNzU3MTY3LCAtMjAuMzcyNjU4XSwgWy02OC4yMTk5MTMsIC0yMS40OTQzNDddXV1dLCAidHlwZSI6ICJNdWx0aVBvbHlnb24ifSwgImlkIjogIkNITCIsICJwcm9wZXJ0aWVzIjogeyJoaWdobGlnaHQiOiB7fSwgIm5hbWUiOiAiQ2hpbGUiLCAic3R5bGUiOiB7ImNvbG9yIjogImdyYXkiLCAiZGFzaEFycmF5IjogIjEsIDEiLCAiZmlsbENvbG9yIjogIiMwMDAwMDAiLCAibGluZU9wYWNpdHkiOiAwLjksICJ3ZWlnaHQiOiAxfX0sICJ0eXBlIjogIkZlYXR1cmUifSwgeyJnZW9tZXRyeSI6IHsiY29vcmRpbmF0ZXMiOiBbW1tbMTEwLjMzOTE4OCwgMTguNjc4Mzk1XSwgWzEwOS40NzUyMSwgMTguMTk3NzAxXSwgWzEwOC42NTUyMDgsIDE4LjUwNzY4Ml0sIFsxMDguNjI2MjE3LCAxOS4zNjc4ODhdLCBbMTA5LjExOTA1NiwgMTkuODIxMDM5XSwgWzExMC4yMTE1OTksIDIwLjEwMTI1NF0sIFsxMTAuNzg2NTUxLCAyMC4wNzc1MzRdLCBbMTExLjAxMDA1MSwgMTkuNjk1OTNdLCBbMTEwLjU3MDY0NywgMTkuMjU1ODc5XSwgWzExMC4zMzkxODgsIDE4LjY3ODM5NV1dXSwgW1tbMTI3LjY1NzQwNywgNDkuNzYwMjddLCBbMTI5LjM5NzgxOCwgNDkuNDQwNl0sIFsxMzAuNTgyMjkzLCA0OC43Mjk2ODddLCBbMTMwLjk4NzI4MiwgNDcuNzkwMTMyXSwgWzEzMi41MDY2NzIsIDQ3Ljc4ODk3XSwgWzEzMy4zNzM1OTYsIDQ4LjE4MzQ0Ml0sIFsxMzUuMDI2MzExLCA0OC40NzgyM10sIFsxMzQuNTAwODE0LCA0Ny41Nzg0NF0sIFsxMzQuMTEyMzYyLCA0Ny4yMTI0NjddLCBbMTMzLjc2OTY0NCwgNDYuMTE2OTI3XSwgWzEzMy4wOTcxMjcsIDQ1LjE0NDA2Nl0sIFsxMzEuODgzNDU0LCA0NS4zMjExNjJdLCBbMTMxLjAyNTIxMiwgNDQuOTY3OTUzXSwgWzEzMS4yODg1NTUsIDQ0LjExMTUyXSwgWzEzMS4xNDQ2ODgsIDQyLjkyOTk5XSwgWzEzMC42MzM4NjYsIDQyLjkwMzAxNV0sIFsxMzAuNjQwMDE2LCA0Mi4zOTUwMDldLCBbMTI5Ljk5NDI2NywgNDIuOTg1Mzg3XSwgWzEyOS41OTY2NjksIDQyLjQyNDk4Ml0sIFsxMjguMDUyMjE1LCA0MS45OTQyODVdLCBbMTI4LjIwODQzMywgNDEuNDY2NzcyXSwgWzEyNy4zNDM3ODMsIDQxLjUwMzE1Ml0sIFsxMjYuODY5MDgzLCA0MS44MTY1NjldLCBbMTI2LjE4MjA0NSwgNDEuMTA3MzM2XSwgWzEyNS4wNzk5NDIsIDQwLjU2OTgyNF0sIFsxMjQuMjY1NjI1LCAzOS45Mjg0OTNdLCBbMTIyLjg2NzU3LCAzOS42Mzc3ODhdLCBbMTIyLjEzMTM4OCwgMzkuMTcwNDUyXSwgWzEyMS4wNTQ1NTQsIDM4Ljg5NzQ3MV0sIFsxMjEuNTg1OTk1LCAzOS4zNjA4NTRdLCBbMTIxLjM3Njc1NywgMzkuNzUwMjYxXSwgWzEyMi4xNjg1OTUsIDQwLjQyMjQ0M10sIFsxMjEuNjQwMzU5LCA0MC45NDYzOV0sIFsxMjAuNzY4NjI5LCA0MC41OTMzODhdLCBbMTE5LjYzOTYwMiwgMzkuODk4MDU2XSwgWzExOS4wMjM0NjQsIDM5LjI1MjMzM10sIFsxMTguMDQyNzQ5LCAzOS4yMDQyNzRdLCBbMTE3LjUzMjcwMiwgMzguNzM3NjM2XSwgWzExOC4wNTk2OTksIDM4LjA2MTQ3Nl0sIFsxMTguODc4MTUsIDM3Ljg5NzMyNV0sIFsxMTguOTExNjM2LCAzNy40NDg0NjRdLCBbMTE5LjcwMjgwMiwgMzcuMTU2Mzg5XSwgWzEyMC44MjM0NTcsIDM3Ljg3MDQyOF0sIFsxMjEuNzExMjU5LCAzNy40ODExMjNdLCBbMTIyLjM1NzkzNywgMzcuNDU0NDg0XSwgWzEyMi41MTk5OTUsIDM2LjkzMDYxNF0sIFsxMjEuMTA0MTY0LCAzNi42NTEzMjldLCBbMTIwLjYzNzAwOSwgMzYuMTExNDRdLCBbMTE5LjY2NDU2MiwgMzUuNjA5NzkxXSwgWzExOS4xNTEyMDgsIDM0LjkwOTg1OV0sIFsxMjAuMjI3NTI1LCAzNC4zNjAzMzJdLCBbMTIwLjYyMDM2OSwgMzMuMzc2NzIzXSwgWzEyMS4yMjkwMTQsIDMyLjQ2MDMxOV0sIFsxMjEuOTA4MTQ2LCAzMS42OTIxNzRdLCBbMTIxLjg5MTkxOSwgMzAuOTQ5MzUyXSwgWzEyMS4yNjQyNTcsIDMwLjY3NjI2N10sIFsxMjEuNTAzNTE5LCAzMC4xNDI5MTVdLCBbMTIyLjA5MjExNCwgMjkuODMyNTJdLCBbMTIxLjkzODQyOCwgMjkuMDE4MDIyXSwgWzEyMS42ODQ0MzksIDI4LjIyNTUxM10sIFsxMjEuMTI1NjYxLCAyOC4xMzU2NzNdLCBbMTIwLjM5NTQ3MywgMjcuMDUzMjA3XSwgWzExOS41ODU0OTcsIDI1Ljc0MDc4MV0sIFsxMTguNjU2ODcxLCAyNC41NDczOTFdLCBbMTE3LjI4MTYwNiwgMjMuNjI0NTAxXSwgWzExNS44OTA3MzUsIDIyLjc4Mjg3M10sIFsxMTQuNzYzODI3LCAyMi42NjgwNzRdLCBbMTE0LjE1MjU0NywgMjIuMjIzNzZdLCBbMTEzLjgwNjc4LCAyMi41NDgzNF0sIFsxMTMuMjQxMDc4LCAyMi4wNTEzNjddLCBbMTExLjg0MzU5MiwgMjEuNTUwNDk0XSwgWzExMC43ODU0NjYsIDIxLjM5NzE0NF0sIFsxMTAuNDQ0MDM5LCAyMC4zNDEwMzNdLCBbMTA5Ljg4OTg2MSwgMjAuMjgyNDU3XSwgWzEwOS42Mjc2NTUsIDIxLjAwODIyN10sIFsxMDkuODY0NDg4LCAyMS4zOTUwNTFdLCBbMTA4LjUyMjgxMywgMjEuNzE1MjEyXSwgWzEwOC4wNTAxOCwgMjEuNTUyMzhdLCBbMTA3LjA0MzQyLCAyMS44MTE4OTldLCBbMTA2LjU2NzI3MywgMjIuMjE4MjA1XSwgWzEwNi43MjU0MDMsIDIyLjc5NDI2OF0sIFsxMDUuODExMjQ3LCAyMi45NzY4OTJdLCBbMTA1LjMyOTIwOSwgMjMuMzUyMDYzXSwgWzEwNC40NzY4NTgsIDIyLjgxOTE1XSwgWzEwMy41MDQ1MTUsIDIyLjcwMzc1N10sIFsxMDIuNzA2OTkyLCAyMi43MDg3OTVdLCBbMTAyLjE3MDQzNiwgMjIuNDY0NzUzXSwgWzEwMS42NTIwMTgsIDIyLjMxODE5OV0sIFsxMDEuODAzMTIsIDIxLjE3NDM2N10sIFsxMDEuMjcwMDI2LCAyMS4yMDE2NTJdLCBbMTAxLjE4MDAwNSwgMjEuNDM2NTczXSwgWzEwMS4xNTAwMzMsIDIxLjg0OTk4NF0sIFsxMDAuNDE2NTM4LCAyMS41NTg4MzldLCBbOTkuOTgzNDg5LCAyMS43NDI5MzddLCBbOTkuMjQwODk5LCAyMi4xMTgzMTRdLCBbOTkuNTMxOTkyLCAyMi45NDkwMzldLCBbOTguODk4NzQ5LCAyMy4xNDI3MjJdLCBbOTguNjYwMjYyLCAyNC4wNjMyODZdLCBbOTcuNjA0NzIsIDIzLjg5NzQwNV0sIFs5Ny43MjQ2MDksIDI1LjA4MzYzN10sIFs5OC42NzE4MzgsIDI1LjkxODcwM10sIFs5OC43MTIwOTQsIDI2Ljc0MzUzNl0sIFs5OC42ODI2OSwgMjcuNTA4ODEyXSwgWzk4LjI0NjIzMSwgMjcuNzQ3MjIxXSwgWzk3LjkxMTk4OCwgMjguMzM1OTQ1XSwgWzk3LjMyNzExNCwgMjguMjYxNTgzXSwgWzk2LjI0ODgzMywgMjguNDExMDMxXSwgWzk2LjU4NjU5MSwgMjguODMwOThdLCBbOTYuMTE3Njc5LCAyOS40NTI4MDJdLCBbOTUuNDA0ODAyLCAyOS4wMzE3MTddLCBbOTQuNTY1OTksIDI5LjI3NzQzOF0sIFs5My40MTMzNDgsIDI4LjY0MDYyOV0sIFs5Mi41MDMxMTksIDI3Ljg5Njg3Nl0sIFs5MS42OTY2NTcsIDI3Ljc3MTc0Ml0sIFs5MS4yNTg4NTQsIDI4LjA0MDYxNF0sIFs5MC43MzA1MTQsIDI4LjA2NDk1NF0sIFs5MC4wMTU4MjksIDI4LjI5NjQzOV0sIFs4OS40NzU4MSwgMjguMDQyNzU5XSwgWzg4LjgxNDI0OCwgMjcuMjk5MzE2XSwgWzg4LjczMDMyNiwgMjguMDg2ODY1XSwgWzg4LjEyMDQ0MSwgMjcuODc2NTQyXSwgWzg2Ljk1NDUxNywgMjcuOTc0MjYyXSwgWzg1LjgyMzMyLCAyOC4yMDM1NzZdLCBbODUuMDExNjM4LCAyOC42NDI3NzRdLCBbODQuMjM0NTgsIDI4LjgzOTg5NF0sIFs4My44OTg5OTMsIDI5LjMyMDIyNl0sIFs4My4zMzcxMTUsIDI5LjQ2MzczMl0sIFs4Mi4zMjc1MTMsIDMwLjExNTI2OF0sIFs4MS41MjU4MDQsIDMwLjQyMjcxN10sIFs4MS4xMTEyNTYsIDMwLjE4MzQ4MV0sIFs3OS43MjEzNjcsIDMwLjg4MjcxNV0sIFs3OC43Mzg4OTQsIDMxLjUxNTkwNl0sIFs3OC40NTg0NDYsIDMyLjYxODE2NF0sIFs3OS4xNzYxMjksIDMyLjQ4Mzc4XSwgWzc5LjIwODg5MiwgMzIuOTk0Mzk1XSwgWzc4LjgxMTA4NiwgMzMuNTA2MTk4XSwgWzc4LjkxMjI2OSwgMzQuMzIxOTM2XSwgWzc3LjgzNzQ1MSwgMzUuNDk0MDFdLCBbNzYuMTkyODQ4LCAzNS44OTg0MDNdLCBbNzUuODk2ODk3LCAzNi42NjY4MDZdLCBbNzUuMTU4MDI4LCAzNy4xMzMwMzFdLCBbNzQuOTgwMDAyLCAzNy40MTk5OV0sIFs3NC44Mjk5ODYsIDM3Ljk5MDAwN10sIFs3NC44NjQ4MTYsIDM4LjM3ODg0Nl0sIFs3NC4yNTc1MTQsIDM4LjYwNjUwN10sIFs3My45Mjg4NTIsIDM4LjUwNTgxNV0sIFs3My42NzUzNzksIDM5LjQzMTIzN10sIFs3My45NjAwMTMsIDM5LjY2MDAwOF0sIFs3My44MjIyNDQsIDM5Ljg5Mzk3M10sIFs3NC43NzY4NjIsIDQwLjM2NjQyNV0sIFs3NS40Njc4MjgsIDQwLjU2MjA3Ml0sIFs3Ni41MjYzNjgsIDQwLjQyNzk0Nl0sIFs3Ni45MDQ0ODQsIDQxLjA2NjQ4Nl0sIFs3OC4xODcxOTcsIDQxLjE4NTMxNl0sIFs3OC41NDM2NjEsIDQxLjU4MjI0M10sIFs4MC4xMTk0MywgNDIuMTIzOTQxXSwgWzgwLjI1OTk5LCA0Mi4zNDk5OTldLCBbODAuMTgwMTUsIDQyLjkyMDA2OF0sIFs4MC44NjYyMDYsIDQzLjE4MDM2Ml0sIFs3OS45NjYxMDYsIDQ0LjkxNzUxN10sIFs4MS45NDcwNzEsIDQ1LjMxNzAyN10sIFs4Mi40NTg5MjYsIDQ1LjUzOTY1XSwgWzgzLjE4MDQ4NCwgNDcuMzMwMDMxXSwgWzg1LjE2NDI5LCA0Ny4wMDA5NTZdLCBbODUuNzIwNDg0LCA0Ny40NTI5NjldLCBbODUuNzY4MjMzLCA0OC40NTU3NTFdLCBbODYuNTk4Nzc2LCA0OC41NDkxODJdLCBbODcuMzU5OTcsIDQ5LjIxNDk4MV0sIFs4Ny43NTEyNjQsIDQ5LjI5NzE5OF0sIFs4OC4wMTM4MzIsIDQ4LjU5OTQ2M10sIFs4OC44NTQyOTgsIDQ4LjA2OTA4Ml0sIFs5MC4yODA4MjYsIDQ3LjY5MzU0OV0sIFs5MC45NzA4MDksIDQ2Ljg4ODE0Nl0sIFs5MC41ODU3NjgsIDQ1LjcxOTcxNl0sIFs5MC45NDU1NCwgNDUuMjg2MDczXSwgWzkyLjEzMzg5MSwgNDUuMTE1MDc2XSwgWzkzLjQ4MDczNCwgNDQuOTc1NDcyXSwgWzk0LjY4ODkyOSwgNDQuMzUyMzMyXSwgWzk1LjMwNjg3NSwgNDQuMjQxMzMxXSwgWzk1Ljc2MjQ1NSwgNDMuMzE5NDQ5XSwgWzk2LjM0OTM5NiwgNDIuNzI1NjM1XSwgWzk3LjQ1MTc1NywgNDIuNzQ4ODldLCBbOTkuNTE1ODE3LCA0Mi41MjQ2OTFdLCBbMTAwLjg0NTg2NiwgNDIuNjYzODA0XSwgWzEwMS44MzMwNCwgNDIuNTE0ODczXSwgWzEwMy4zMTIyNzgsIDQxLjkwNzQ2OF0sIFsxMDQuNTIyMjgyLCA0MS45MDgzNDddLCBbMTA0Ljk2NDk5NCwgNDEuNTk3NDFdLCBbMTA2LjEyOTMxNiwgNDIuMTM0MzI4XSwgWzEwNy43NDQ3NzMsIDQyLjQ4MTUxNl0sIFsxMDkuMjQzNTk2LCA0Mi41MTk0NDZdLCBbMTEwLjQxMjEwMywgNDIuODcxMjM0XSwgWzExMS4xMjk2ODIsIDQzLjQwNjgzNF0sIFsxMTEuODI5NTg4LCA0My43NDMxMThdLCBbMTExLjY2NzczNywgNDQuMDczMTc2XSwgWzExMS4zNDgzNzcsIDQ0LjQ1NzQ0Ml0sIFsxMTEuODczMzA2LCA0NS4xMDIwNzldLCBbMTEyLjQzNjA2MiwgNDUuMDExNjQ2XSwgWzExMy40NjM5MDcsIDQ0LjgwODg5M10sIFsxMTQuNDYwMzMyLCA0NS4zMzk4MTddLCBbMTE1Ljk4NTA5NiwgNDUuNzI3MjM1XSwgWzExNi43MTc4NjgsIDQ2LjM4ODIwMl0sIFsxMTcuNDIxNzAxLCA0Ni42NzI3MzNdLCBbMTE4Ljg3NDMyNiwgNDYuODA1NDEyXSwgWzExOS42NjMyNywgNDYuNjkyNjhdLCBbMTE5Ljc3MjgyNCwgNDcuMDQ4MDU5XSwgWzExOC44NjY1NzQsIDQ3Ljc0NzA2XSwgWzExOC4wNjQxNDMsIDQ4LjA2NjczXSwgWzExNy4yOTU1MDcsIDQ3LjY5NzcwOV0sIFsxMTYuMzA4OTUzLCA0Ny44NTM0MV0sIFsxMTUuNzQyODM3LCA0Ny43MjY1NDVdLCBbMTE1LjQ4NTI4MiwgNDguMTM1MzgzXSwgWzExNi4xOTE4MDIsIDQ5LjEzNDU5OF0sIFsxMTYuNjc4ODAxLCA0OS44ODg1MzFdLCBbMTE3Ljg3OTI0NCwgNDkuNTEwOTgzXSwgWzExOS4yODg0NjEsIDUwLjE0Mjg4M10sIFsxMTkuMjc5MzY2LCA1MC41ODI5MDhdLCBbMTIwLjE4MjA1LCA1MS42NDM1NjZdLCBbMTIwLjczODE5MSwgNTEuOTY0MTE1XSwgWzEyMC43MjU3ODksIDUyLjUxNjIyNl0sIFsxMjAuMTc3MDg5LCA1Mi43NTM4ODZdLCBbMTIxLjAwMzA4NSwgNTMuMjUxNDAxXSwgWzEyMi4yNDU3NDgsIDUzLjQzMTcyNl0sIFsxMjMuNTcxNTA3LCA1My40NTg4MDRdLCBbMTI1LjA2ODIxMSwgNTMuMTYxMDQ1XSwgWzEyNS45NDYzNDksIDUyLjc5Mjc5OV0sIFsxMjYuNTY0Mzk5LCA1MS43ODQyNTVdLCBbMTI2LjkzOTE1NywgNTEuMzUzODk0XSwgWzEyNy4yODc0NTYsIDUwLjczOTc5N10sIFsxMjcuNjU3NDA3LCA0OS43NjAyN11dXV0sICJ0eXBlIjogIk11bHRpUG9seWdvbiJ9LCAiaWQiOiAiQ0hOIiwgInByb3BlcnRpZXMiOiB7ImhpZ2hsaWdodCI6IHt9LCAibmFtZSI6ICJDaGluYSIsICJzdHlsZSI6IHsiY29sb3IiOiAiZ3JheSIsICJkYXNoQXJyYXkiOiAiMSwgMSIsICJmaWxsQ29sb3IiOiAiIzAwMDAwMCIsICJsaW5lT3BhY2l0eSI6IDAuOSwgIndlaWdodCI6IDF9fSwgInR5cGUiOiAiRmVhdHVyZSJ9LCB7Imdlb21ldHJ5IjogeyJjb29yZGluYXRlcyI6IFtbWy0yLjg1NjEyNSwgNC45OTQ0NzZdLCBbLTMuMzExMDg0LCA0Ljk4NDI5Nl0sIFstNC4wMDg4MiwgNS4xNzk4MTNdLCBbLTQuNjQ5OTE3LCA1LjE2ODI2NF0sIFstNS44MzQ0OTYsIDQuOTkzNzAxXSwgWy02LjUyODc2OSwgNC43MDUwODhdLCBbLTcuNTE4OTQxLCA0LjMzODI4OF0sIFstNy43MTIxNTksIDQuMzY0NTY2XSwgWy03LjYzNTM2OCwgNS4xODgxNTldLCBbLTcuNTM5NzE1LCA1LjMxMzM0NV0sIFstNy41NzAxNTMsIDUuNzA3MzUyXSwgWy03Ljk5MzY5MywgNi4xMjYxOV0sIFstOC4zMTEzNDgsIDYuMTkzMDMzXSwgWy04LjYwMjg4LCA2LjQ2NzU2NF0sIFstOC4zODU0NTIsIDYuOTExODAxXSwgWy04LjQ4NTQ0NiwgNy4zOTUyMDhdLCBbLTguNDM5Mjk4LCA3LjY4NjA0M10sIFstOC4yODA3MDMsIDcuNjg3MThdLCBbLTguMjIxNzkyLCA4LjEyMzMyOV0sIFstOC4yOTkwNDksIDguMzE2NDQ0XSwgWy04LjIwMzQ5OSwgOC40NTU0NTNdLCBbLTcuODMyMSwgOC41NzU3MDRdLCBbLTguMDc5MTE0LCA5LjM3NjIyNF0sIFstOC4zMDk2MTYsIDkuNzg5NTMyXSwgWy04LjIyOTMzNywgMTAuMTI5MDJdLCBbLTguMDI5OTQ0LCAxMC4yMDY1MzVdLCBbLTcuODk5NTksIDEwLjI5NzM4Ml0sIFstNy42MjI3NTksIDEwLjE0NzIzNl0sIFstNi44NTA1MDcsIDEwLjEzODk5NF0sIFstNi42NjY0NjEsIDEwLjQzMDgxMV0sIFstNi40OTM5NjUsIDEwLjQxMTMwM10sIFstNi4yMDUyMjMsIDEwLjUyNDA2MV0sIFstNi4wNTA0NTIsIDEwLjA5NjM2MV0sIFstNS44MTY5MjYsIDEwLjIyMjU1NV0sIFstNS40MDQzNDIsIDEwLjM3MDczN10sIFstNC45NTQ2NTMsIDEwLjE1MjcxNF0sIFstNC43Nzk4ODQsIDkuODIxOTg1XSwgWy00LjMzMDI0NywgOS42MTA4MzVdLCBbLTMuOTgwNDQ5LCA5Ljg2MjM0NF0sIFstMy41MTE4OTksIDkuOTAwMzI2XSwgWy0yLjgyNzQ5NiwgOS42NDI0NjFdLCBbLTIuNTYyMTksIDguMjE5NjI4XSwgWy0yLjk4MzU4NSwgNy4zNzk3MDVdLCBbLTMuMjQ0MzcsIDYuMjUwNDcyXSwgWy0yLjgxMDcwMSwgNS4zODkwNTFdLCBbLTIuODU2MTI1LCA0Ljk5NDQ3Nl1dXSwgInR5cGUiOiAiUG9seWdvbiJ9LCAiaWQiOiAiQ0lWIiwgInByb3BlcnRpZXMiOiB7ImhpZ2hsaWdodCI6IHt9LCAibmFtZSI6ICJJdm9yeSBDb2FzdCIsICJzdHlsZSI6IHsiY29sb3IiOiAiZ3JheSIsICJkYXNoQXJyYXkiOiAiMSwgMSIsICJmaWxsQ29sb3IiOiAiIzAwMDAwMCIsICJsaW5lT3BhY2l0eSI6IDAuOSwgIndlaWdodCI6IDF9fSwgInR5cGUiOiAiRmVhdHVyZSJ9LCB7Imdlb21ldHJ5IjogeyJjb29yZGluYXRlcyI6IFtbWzEzLjA3NTgyMiwgMi4yNjcwOTddLCBbMTIuOTUxMzM0LCAyLjMyMTYxNl0sIFsxMi4zNTkzOCwgMi4xOTI4MTJdLCBbMTEuNzUxNjY1LCAyLjMyNjc1OF0sIFsxMS4yNzY0NDksIDIuMjYxMDUxXSwgWzkuNjQ5MTU4LCAyLjI4Mzg2Nl0sIFs5Ljc5NTE5NiwgMy4wNzM0MDRdLCBbOS40MDQzNjcsIDMuNzM0NTI3XSwgWzguOTQ4MTE2LCAzLjkwNDEyOV0sIFs4Ljc0NDkyNCwgNC4zNTIyMTVdLCBbOC40ODg4MTYsIDQuNDk1NjE3XSwgWzguNTAwMjg4LCA0Ljc3MTk4M10sIFs4Ljc1NzUzMywgNS40Nzk2NjZdLCBbOS4yMzMxNjMsIDYuNDQ0NDkxXSwgWzkuNTIyNzA2LCA2LjQ1MzQ4Ml0sIFsxMC4xMTgyNzcsIDcuMDM4NzddLCBbMTAuNDk3Mzc1LCA3LjA1NTM1OF0sIFsxMS4wNTg3ODgsIDYuNjQ0NDI3XSwgWzExLjc0NTc3NCwgNi45ODEzODNdLCBbMTEuODM5MzA5LCA3LjM5NzA0Ml0sIFsxMi4wNjM5NDYsIDcuNzk5ODA4XSwgWzEyLjIxODg3MiwgOC4zMDU4MjRdLCBbMTIuNzUzNjcyLCA4LjcxNzc2M10sIFsxMi45NTU0NjgsIDkuNDE3NzcyXSwgWzEzLjE2NzYsIDkuNjQwNjI2XSwgWzEzLjMwODY3NiwgMTAuMTYwMzYyXSwgWzEzLjU3Mjk1LCAxMC43OTg1NjZdLCBbMTQuNDE1Mzc5LCAxMS41NzIzNjldLCBbMTQuNDY4MTkyLCAxMS45MDQ3NTJdLCBbMTQuNTc3MTc4LCAxMi4wODUzNjFdLCBbMTQuMTgxMzM2LCAxMi40ODM2NTddLCBbMTQuMjEzNTMxLCAxMi44MDIwMzVdLCBbMTQuNDk1Nzg3LCAxMi44NTkzOTZdLCBbMTQuODkzMzg2LCAxMi4yMTkwNDhdLCBbMTQuOTYwMTUyLCAxMS41NTU1NzRdLCBbMTQuOTIzNTY1LCAxMC44OTEzMjVdLCBbMTUuNDY3ODczLCA5Ljk4MjMzN10sIFsxNC45MDkzNTQsIDkuOTkyMTI5XSwgWzE0LjYyNzIwMSwgOS45MjA5MTldLCBbMTQuMTcxNDY2LCAxMC4wMjEzNzhdLCBbMTMuOTU0MjE4LCA5LjU0OTQ5NV0sIFsxNC41NDQ0NjcsIDguOTY1ODYxXSwgWzE0Ljk3OTk5NiwgOC43OTYxMDRdLCBbMTUuMTIwODY2LCA4LjM4MjE1XSwgWzE1LjQzNjA5MiwgNy42OTI4MTJdLCBbMTUuMjc5NDYsIDcuNDIxOTI1XSwgWzE0Ljc3NjU0NSwgNi40MDg0OThdLCBbMTQuNTM2NTYsIDYuMjI2OTU5XSwgWzE0LjQ1OTQwNywgNS40NTE3NjFdLCBbMTQuNTU4OTM2LCA1LjAzMDU5OF0sIFsxNC40NzgzNzIsIDQuNzMyNjA1XSwgWzE0Ljk1MDk1MywgNC4yMTAzODldLCBbMTUuMDM2MjIsIDMuODUxMzY3XSwgWzE1LjQwNTM5NiwgMy4zMzUzMDFdLCBbMTUuODYyNzMyLCAzLjAxMzUzN10sIFsxNS45MDczODEsIDIuNTU3Mzg5XSwgWzE2LjAxMjg1MiwgMi4yNjc2NF0sIFsxNS45NDA5MTksIDEuNzI3NjczXSwgWzE1LjE0NjM0MiwgMS45NjQwMTVdLCBbMTQuMzM3ODEzLCAyLjIyNzg3NV0sIFsxMy4wNzU4MjIsIDIuMjY3MDk3XV1dLCAidHlwZSI6ICJQb2x5Z29uIn0sICJpZCI6ICJDTVIiLCAicHJvcGVydGllcyI6IHsiaGlnaGxpZ2h0Ijoge30sICJuYW1lIjogIkNhbWVyb29uIiwgInN0eWxlIjogeyJjb2xvciI6ICJncmF5IiwgImRhc2hBcnJheSI6ICIxLCAxIiwgImZpbGxDb2xvciI6ICIjMDAwMDAwIiwgImxpbmVPcGFjaXR5IjogMC45LCAid2VpZ2h0IjogMX19LCAidHlwZSI6ICJGZWF0dXJlIn0sIHsiZ2VvbWV0cnkiOiB7ImNvb3JkaW5hdGVzIjogW1tbMzAuODMzODYsIDMuNTA5MTY2XSwgWzMwLjc3MzM0NywgMi4zMzk4ODNdLCBbMzEuMTc0MTQ5LCAyLjIwNDQ2NV0sIFszMC44NTI2NywgMS44NDkzOTZdLCBbMzAuNDY4NTA4LCAxLjU4MzgwNV0sIFszMC4wODYxNTQsIDEuMDYyMzEzXSwgWzI5Ljg3NTc3OSwgMC41OTczOF0sIFsyOS44MTk1MDMsIC0wLjIwNTMxXSwgWzI5LjU4NzgzOCwgLTAuNTg3NDA2XSwgWzI5LjU3OTQ2NiwgLTEuMzQxMzEzXSwgWzI5LjI5MTg4NywgLTEuNjIwMDU2XSwgWzI5LjI1NDgzNSwgLTIuMjE1MTFdLCBbMjkuMTE3NDc5LCAtMi4yOTIyMTFdLCBbMjkuMDI0OTI2LCAtMi44MzkyNThdLCBbMjkuMjc2Mzg0LCAtMy4yOTM5MDddLCBbMjkuMzM5OTk4LCAtNC40OTk5ODNdLCBbMjkuNTE5OTg3LCAtNS40MTk5NzldLCBbMjkuNDE5OTkzLCAtNS45Mzk5OTldLCBbMjkuNjIwMDMyLCAtNi41MjAwMTVdLCBbMzAuMTk5OTk3LCAtNy4wNzk5ODFdLCBbMzAuNzQwMDE1LCAtOC4zNDAwMDddLCBbMzAuMzQ2MDg2LCAtOC4yMzgyNTddLCBbMjkuMDAyOTEyLCAtOC40MDcwMzJdLCBbMjguNzM0ODY3LCAtOC41MjY1NTldLCBbMjguNDQ5ODcxLCAtOS4xNjQ5MThdLCBbMjguNjczNjgyLCAtOS42MDU5MjVdLCBbMjguNDk2MDcsIC0xMC43ODk4ODRdLCBbMjguMzcyMjUzLCAtMTEuNzkzNjQ3XSwgWzI4LjY0MjQxNywgLTExLjk3MTU2OV0sIFsyOS4zNDE1NDgsIC0xMi4zNjA3NDRdLCBbMjkuNjE2MDAxLCAtMTIuMTc4ODk1XSwgWzI5LjY5OTYxNCwgLTEzLjI1NzIyN10sIFsyOC45MzQyODYsIC0xMy4yNDg5NThdLCBbMjguNTIzNTYyLCAtMTIuNjk4NjA0XSwgWzI4LjE1NTEwOSwgLTEyLjI3MjQ4MV0sIFsyNy4zODg3OTksIC0xMi4xMzI3NDddLCBbMjcuMTY0NDIsIC0xMS42MDg3NDhdLCBbMjYuNTUzMDg4LCAtMTEuOTI0NDRdLCBbMjUuNzUyMzEsIC0xMS43ODQ5NjVdLCBbMjUuNDE4MTE4LCAtMTEuMzMwOTM2XSwgWzI0Ljc4MzE3LCAtMTEuMjM4Njk0XSwgWzI0LjMxNDUxNiwgLTExLjI2MjgyNl0sIFsyNC4yNTcxNTUsIC0xMC45NTE5OTNdLCBbMjMuOTEyMjE1LCAtMTAuOTI2ODI2XSwgWzIzLjQ1Njc5MSwgLTEwLjg2Nzg2M10sIFsyMi44MzczNDUsIC0xMS4wMTc2MjJdLCBbMjIuNDAyNzk4LCAtMTAuOTkzMDc1XSwgWzIyLjE1NTI2OCwgLTExLjA4NDgwMV0sIFsyMi4yMDg3NTMsIC05Ljg5NDc5Nl0sIFsyMS44NzUxODIsIC05LjUyMzcwOF0sIFsyMS44MDE4MDEsIC04LjkwODcwN10sIFsyMS45NDkxMzEsIC04LjMwNTkwMV0sIFsyMS43NDY0NTYsIC03LjkyMDA4NV0sIFsyMS43MjgxMTEsIC03LjI5MDg3Ml0sIFsyMC41MTQ3NDgsIC03LjI5OTYwNl0sIFsyMC42MDE4MjMsIC02LjkzOTMxOF0sIFsyMC4wOTE2MjIsIC02Ljk0MzA5XSwgWzIwLjAzNzcyMywgLTcuMTE2MzYxXSwgWzE5LjQxNzUwMiwgLTcuMTU1NDI5XSwgWzE5LjE2NjYxMywgLTcuNzM4MTg0XSwgWzE5LjAxNjc1MiwgLTcuOTg4MjQ2XSwgWzE4LjQ2NDE3NiwgLTcuODQ3MDE0XSwgWzE4LjEzNDIyMiwgLTcuOTg3Njc4XSwgWzE3LjQ3Mjk3LCAtOC4wNjg1NTFdLCBbMTcuMDg5OTk2LCAtNy41NDU2ODldLCBbMTYuODYwMTkxLCAtNy4yMjIyOThdLCBbMTYuNTczMTgsIC02LjYyMjY0NV0sIFsxNi4zMjY1MjgsIC01Ljg3NzQ3XSwgWzEzLjM3NTU5NywgLTUuODY0MjQxXSwgWzEzLjAyNDg2OSwgLTUuOTg0Mzg5XSwgWzEyLjczNTE3MSwgLTUuOTY1NjgyXSwgWzEyLjMyMjQzMiwgLTYuMTAwMDkyXSwgWzEyLjE4MjMzNywgLTUuNzg5OTMxXSwgWzEyLjQzNjY4OCwgLTUuNjg0MzA0XSwgWzEyLjQ2ODAwNCwgLTUuMjQ4MzYyXSwgWzEyLjYzMTYxMiwgLTQuOTkxMjcxXSwgWzEyLjk5NTUxNywgLTQuNzgxMTAzXSwgWzEzLjI1ODI0LCAtNC44ODI5NTddLCBbMTMuNjAwMjM1LCAtNC41MDAxMzhdLCBbMTQuMTQ0OTU2LCAtNC41MTAwMDldLCBbMTQuMjA5MDM1LCAtNC43OTMwOTJdLCBbMTQuNTgyNjA0LCAtNC45NzAyMzldLCBbMTUuMTcwOTkyLCAtNC4zNDM1MDddLCBbMTUuNzUzNTQsIC0zLjg1NTE2NV0sIFsxNi4wMDYyOSwgLTMuNTM1MTMzXSwgWzE1Ljk3MjgwMywgLTIuNzEyMzkyXSwgWzE2LjQwNzA5MiwgLTEuNzQwOTI3XSwgWzE2Ljg2NTMwNywgLTEuMjI1ODE2XSwgWzE3LjUyMzcxNiwgLTAuNzQzODNdLCBbMTcuNjM4NjQ1LCAtMC40MjQ4MzJdLCBbMTcuNjYzNTUzLCAtMC4wNTgwODRdLCBbMTcuODI2NTQsIDAuMjg4OTIzXSwgWzE3Ljc3NDE5MiwgMC44NTU2NTldLCBbMTcuODk4ODM1LCAxLjc0MTgzMl0sIFsxOC4wOTQyNzYsIDIuMzY1NzIyXSwgWzE4LjM5Mzc5MiwgMi45MDA0NDNdLCBbMTguNDUzMDY1LCAzLjUwNDM4Nl0sIFsxOC41NDI5ODIsIDQuMjAxNzg1XSwgWzE4LjkzMjMxMiwgNC43MDk1MDZdLCBbMTkuNDY3Nzg0LCA1LjAzMTUyOF0sIFsyMC4yOTA2NzksIDQuNjkxNjc4XSwgWzIwLjkyNzU5MSwgNC4zMjI3ODZdLCBbMjEuNjU5MTIzLCA0LjIyNDM0Ml0sIFsyMi40MDUxMjQsIDQuMDI5MTZdLCBbMjIuNzA0MTI0LCA0LjYzMzA1MV0sIFsyMi44NDE0OCwgNC43MTAxMjZdLCBbMjMuMjk3MjE0LCA0LjYwOTY5M10sIFsyNC40MTA1MzEsIDUuMTA4Nzg0XSwgWzI0LjgwNTAyOSwgNC44OTcyNDddLCBbMjUuMTI4ODMzLCA0LjkyNzI0NV0sIFsyNS4yNzg3OTgsIDUuMTcwNDA4XSwgWzI1LjY1MDQ1NSwgNS4yNTYwODhdLCBbMjYuNDAyNzYxLCA1LjE1MDg3NV0sIFsyNy4wNDQwNjUsIDUuMTI3ODUzXSwgWzI3LjM3NDIyNiwgNS4yMzM5NDRdLCBbMjcuOTc5OTc3LCA0LjQwODQxM10sIFsyOC40Mjg5OTQsIDQuMjg3MTU1XSwgWzI4LjY5NjY3OCwgNC40NTUwNzddLCBbMjkuMTU5MDc4LCA0LjM4OTI2N10sIFsyOS43MTU5OTUsIDQuNjAwODA1XSwgWzI5Ljk1MzUsIDQuMTczNjk5XSwgWzMwLjgzMzg2LCAzLjUwOTE2Nl1dXSwgInR5cGUiOiAiUG9seWdvbiJ9LCAiaWQiOiAiQ09EIiwgInByb3BlcnRpZXMiOiB7ImhpZ2hsaWdodCI6IHt9LCAibmFtZSI6ICJEZW1vY3JhdGljIFJlcHVibGljIG9mIHRoZSBDb25nbyIsICJzdHlsZSI6IHsiY29sb3IiOiAiZ3JheSIsICJkYXNoQXJyYXkiOiAiMSwgMSIsICJmaWxsQ29sb3IiOiAiIzAwMDAwMCIsICJsaW5lT3BhY2l0eSI6IDAuOSwgIndlaWdodCI6IDF9fSwgInR5cGUiOiAiRmVhdHVyZSJ9LCB7Imdlb21ldHJ5IjogeyJjb29yZGluYXRlcyI6IFtbWzEyLjk5NTUxNywgLTQuNzgxMTAzXSwgWzEyLjYyMDc2LCAtNC40MzgwMjNdLCBbMTIuMzE4NjA4LCAtNC42MDYyM10sIFsxMS45MTQ5NjMsIC01LjAzNzk4N10sIFsxMS4wOTM3NzMsIC0zLjk3ODgyN10sIFsxMS44NTUxMjIsIC0zLjQyNjg3MV0sIFsxMS40NzgwMzksIC0yLjc2NTYxOV0sIFsxMS44MjA5NjQsIC0yLjUxNDE2MV0sIFsxMi40OTU3MDMsIC0yLjM5MTY4OF0sIFsxMi41NzUyODQsIC0xLjk0ODUxMV0sIFsxMy4xMDk2MTksIC0yLjQyODc0XSwgWzEzLjk5MjQwNywgLTIuNDcwODA1XSwgWzE0LjI5OTIxLCAtMS45OTgyNzZdLCBbMTQuNDI1NDU2LCAtMS4zMzM0MDddLCBbMTQuMzE2NDE4LCAtMC41NTI2MjddLCBbMTMuODQzMzIxLCAwLjAzODc1OF0sIFsxNC4yNzYyNjYsIDEuMTk2OTNdLCBbMTQuMDI2NjY5LCAxLjM5NTY3N10sIFsxMy4yODI2MzEsIDEuMzE0MTg0XSwgWzEzLjAwMzExNCwgMS44MzA4OTZdLCBbMTMuMDc1ODIyLCAyLjI2NzA5N10sIFsxNC4zMzc4MTMsIDIuMjI3ODc1XSwgWzE1LjE0NjM0MiwgMS45NjQwMTVdLCBbMTUuOTQwOTE5LCAxLjcyNzY3M10sIFsxNi4wMTI4NTIsIDIuMjY3NjRdLCBbMTYuNTM3MDU4LCAzLjE5ODI1NV0sIFsxNy4xMzMwNDIsIDMuNzI4MTk3XSwgWzE3LjgwOTksIDMuNTYwMTk2XSwgWzE4LjQ1MzA2NSwgMy41MDQzODZdLCBbMTguMzkzNzkyLCAyLjkwMDQ0M10sIFsxOC4wOTQyNzYsIDIuMzY1NzIyXSwgWzE3Ljg5ODgzNSwgMS43NDE4MzJdLCBbMTcuNzc0MTkyLCAwLjg1NTY1OV0sIFsxNy44MjY1NCwgMC4yODg5MjNdLCBbMTcuNjYzNTUzLCAtMC4wNTgwODRdLCBbMTcuNjM4NjQ1LCAtMC40MjQ4MzJdLCBbMTcuNTIzNzE2LCAtMC43NDM4M10sIFsxNi44NjUzMDcsIC0xLjIyNTgxNl0sIFsxNi40MDcwOTIsIC0xLjc0MDkyN10sIFsxNS45NzI4MDMsIC0yLjcxMjM5Ml0sIFsxNi4wMDYyOSwgLTMuNTM1MTMzXSwgWzE1Ljc1MzU0LCAtMy44NTUxNjVdLCBbMTUuMTcwOTkyLCAtNC4zNDM1MDddLCBbMTQuNTgyNjA0LCAtNC45NzAyMzldLCBbMTQuMjA5MDM1LCAtNC43OTMwOTJdLCBbMTQuMTQ0OTU2LCAtNC41MTAwMDldLCBbMTMuNjAwMjM1LCAtNC41MDAxMzhdLCBbMTMuMjU4MjQsIC00Ljg4Mjk1N10sIFsxMi45OTU1MTcsIC00Ljc4MTEwM11dXSwgInR5cGUiOiAiUG9seWdvbiJ9LCAiaWQiOiAiQ09HIiwgInByb3BlcnRpZXMiOiB7ImhpZ2hsaWdodCI6IHt9LCAibmFtZSI6ICJSZXB1YmxpYyBvZiB0aGUgQ29uZ28iLCAic3R5bGUiOiB7ImNvbG9yIjogImdyYXkiLCAiZGFzaEFycmF5IjogIjEsIDEiLCAiZmlsbENvbG9yIjogIiMwMDAwMDAiLCAibGluZU9wYWNpdHkiOiAwLjksICJ3ZWlnaHQiOiAxfX0sICJ0eXBlIjogIkZlYXR1cmUifSwgeyJnZW9tZXRyeSI6IHsiY29vcmRpbmF0ZXMiOiBbW1stNzUuMzczMjIzLCAtMC4xNTIwMzJdLCBbLTc1LjgwMTQ2NiwgMC4wODQ4MDFdLCBbLTc2LjI5MjMxNCwgMC40MTYwNDddLCBbLTc2LjU3NjM4LCAwLjI1NjkzNl0sIFstNzcuNDI0OTg0LCAwLjM5NTY4N10sIFstNzcuNjY4NjEzLCAwLjgyNTg5M10sIFstNzcuODU1MDYxLCAwLjgwOTkyNV0sIFstNzguODU1MjU5LCAxLjM4MDkyNF0sIFstNzguOTkwOTM1LCAxLjY5MTM3XSwgWy03OC42MTc4MzEsIDEuNzY2NDA0XSwgWy03OC42NjIxMTgsIDIuMjY3MzU1XSwgWy03OC40Mjc2MSwgMi42Mjk1NTZdLCBbLTc3LjkzMTU0MywgMi42OTY2MDZdLCBbLTc3LjUxMDQzMSwgMy4zMjUwMTddLCBbLTc3LjEyNzY5LCAzLjg0OTYzNl0sIFstNzcuNDk2MjcyLCA0LjA4NzYwNl0sIFstNzcuMzA3NjAxLCA0LjY2Nzk4NF0sIFstNzcuNTMzMjIxLCA1LjU4MjgxMl0sIFstNzcuMzE4ODE1LCA1Ljg0NTM1NF0sIFstNzcuNDc2NjYxLCA2LjY5MTExNl0sIFstNzcuODgxNTcxLCA3LjIyMzc3MV0sIFstNzcuNzUzNDE0LCA3LjcwOTg0XSwgWy03Ny40MzExMDgsIDcuNjM4MDYxXSwgWy03Ny4yNDI1NjYsIDcuOTM1Mjc4XSwgWy03Ny40NzQ3MjMsIDguNTI0Mjg2XSwgWy03Ny4zNTMzNjEsIDguNjcwNTA1XSwgWy03Ni44MzY2NzQsIDguNjM4NzQ5XSwgWy03Ni4wODYzODQsIDkuMzM2ODIxXSwgWy03NS42NzQ2LCA5LjQ0MzI0OF0sIFstNzUuNjY0NzA0LCA5Ljc3NDAwM10sIFstNzUuNDgwNDI2LCAxMC42MTg5OV0sIFstNzQuOTA2ODk1LCAxMS4wODMwNDVdLCBbLTc0LjI3Njc1MywgMTEuMTAyMDM2XSwgWy03NC4xOTcyMjMsIDExLjMxMDQ3M10sIFstNzMuNDE0NzY0LCAxMS4yMjcwMTVdLCBbLTcyLjYyNzgzNSwgMTEuNzMxOTcyXSwgWy03Mi4yMzgxOTUsIDExLjk1NTU1XSwgWy03MS43NTQwOSwgMTIuNDM3MzAzXSwgWy03MS4zOTk4MjIsIDEyLjM3NjA0MV0sIFstNzEuMTM3NDYxLCAxMi4xMTI5ODJdLCBbLTcxLjMzMTU4NCwgMTEuNzc2Mjg0XSwgWy03MS45NzM5MjIsIDExLjYwODY3Ml0sIFstNzIuMjI3NTc1LCAxMS4xMDg3MDJdLCBbLTcyLjYxNDY1OCwgMTAuODIxOTc1XSwgWy03Mi45MDUyODYsIDEwLjQ1MDM0NF0sIFstNzMuMDI3NjA0LCA5LjczNjc3XSwgWy03My4zMDQ5NTIsIDkuMTUyXSwgWy03Mi43ODg3MywgOS4wODUwMjddLCBbLTcyLjY2MDQ5NSwgOC42MjUyODhdLCBbLTcyLjQzOTg2MiwgOC40MDUyNzVdLCBbLTcyLjM2MDkwMSwgOC4wMDI2MzhdLCBbLTcyLjQ3OTY3OSwgNy42MzI1MDZdLCBbLTcyLjQ0NDQ4NywgNy40MjM3ODVdLCBbLTcyLjE5ODM1MiwgNy4zNDA0MzFdLCBbLTcxLjk2MDE3NiwgNi45OTE2MTVdLCBbLTcwLjY3NDIzNCwgNy4wODc3ODVdLCBbLTcwLjA5MzMxMywgNi45NjAzNzZdLCBbLTY5LjM4OTQ4LCA2LjA5OTg2MV0sIFstNjguOTg1MzE5LCA2LjIwNjgwNV0sIFstNjguMjY1MDUyLCA2LjE1MzI2OF0sIFstNjcuNjk1MDg3LCA2LjI2NzMxOF0sIFstNjcuMzQxNDQsIDYuMDk1NDY4XSwgWy02Ny41MjE1MzIsIDUuNTU2ODddLCBbLTY3Ljc0NDY5NywgNS4yMjExMjldLCBbLTY3LjgyMzAxMiwgNC41MDM5MzddLCBbLTY3LjYyMTgzNiwgMy44Mzk0ODJdLCBbLTY3LjMzNzU2NCwgMy41NDIzNDJdLCBbLTY3LjMwMzE3MywgMy4zMTg0NTRdLCBbLTY3LjgwOTkzOCwgMi44MjA2NTVdLCBbLTY3LjQ0NzA5MiwgMi42MDAyODFdLCBbLTY3LjE4MTI5NCwgMi4yNTA2MzhdLCBbLTY2Ljg3NjMyNiwgMS4yNTMzNjFdLCBbLTY3LjA2NTA0OCwgMS4xMzAxMTJdLCBbLTY3LjI1OTk5OCwgMS43MTk5OTldLCBbLTY3LjUzNzgxLCAyLjAzNzE2M10sIFstNjcuODY4NTY1LCAxLjY5MjQ1NV0sIFstNjkuODE2OTczLCAxLjcxNDgwNV0sIFstNjkuODA0NTk3LCAxLjA4OTA4MV0sIFstNjkuMjE4NjM4LCAwLjk4NTY3N10sIFstNjkuMjUyNDM0LCAwLjYwMjY1MV0sIFstNjkuNDUyMzk2LCAwLjcwNjE1OV0sIFstNzAuMDE1NTY2LCAwLjU0MTQxNF0sIFstNzAuMDIwNjU2LCAtMC4xODUxNTZdLCBbLTY5LjU3NzA2NSwgLTAuNTQ5OTkyXSwgWy02OS40MjA0ODYsIC0xLjEyMjYxOV0sIFstNjkuNDQ0MTAyLCAtMS41NTYyODddLCBbLTY5Ljg5MzYzNSwgLTQuMjk4MTg3XSwgWy03MC4zOTQwNDQsIC0zLjc2NjU5MV0sIFstNzAuNjkyNjgyLCAtMy43NDI4NzJdLCBbLTcwLjA0NzcwOSwgLTIuNzI1MTU2XSwgWy03MC44MTM0NzYsIC0yLjI1Njg2NV0sIFstNzEuNDEzNjQ2LCAtMi4zNDI4MDJdLCBbLTcxLjc3NDc2MSwgLTIuMTY5NzldLCBbLTcyLjMyNTc4NywgLTIuNDM0MjE4XSwgWy03My4wNzAzOTIsIC0yLjMwODk1NF0sIFstNzMuNjU5NTA0LCAtMS4yNjA0OTFdLCBbLTc0LjEyMjM5NSwgLTEuMDAyODMzXSwgWy03NC40NDE2MDEsIC0wLjUzMDgyXSwgWy03NS4xMDY2MjUsIC0wLjA1NzIwNV0sIFstNzUuMzczMjIzLCAtMC4xNTIwMzJdXV0sICJ0eXBlIjogIlBvbHlnb24ifSwgImlkIjogIkNPTCIsICJwcm9wZXJ0aWVzIjogeyJoaWdobGlnaHQiOiB7fSwgIm5hbWUiOiAiQ29sb21iaWEiLCAic3R5bGUiOiB7ImNvbG9yIjogImdyYXkiLCAiZGFzaEFycmF5IjogIjEsIDEiLCAiZmlsbENvbG9yIjogIiMwMDAwMDAiLCAibGluZU9wYWNpdHkiOiAwLjksICJ3ZWlnaHQiOiAxfX0sICJ0eXBlIjogIkZlYXR1cmUifSwgeyJnZW9tZXRyeSI6IHsiY29vcmRpbmF0ZXMiOiBbW1stODIuOTY1NzgzLCA4LjIyNTAyOF0sIFstODMuNTA4NDM3LCA4LjQ0NjkyN10sIFstODMuNzExNDc0LCA4LjY1NjgzNl0sIFstODMuNTk2MzEzLCA4LjgzMDQ0M10sIFstODMuNjMyNjQyLCA5LjA1MTM4Nl0sIFstODMuOTA5ODg2LCA5LjI5MDgwM10sIFstODQuMzAzNDAyLCA5LjQ4NzM1NF0sIFstODQuNjQ3NjQ0LCA5LjYxNTUzN10sIFstODQuNzEzMzUxLCA5LjkwODA1Ml0sIFstODQuOTc1NjYsIDEwLjA4NjcyM10sIFstODQuOTExMzc1LCA5Ljc5NTk5Ml0sIFstODUuMTEwOTIzLCA5LjU1NzA0XSwgWy04NS4zMzk0ODgsIDkuODM0NTQyXSwgWy04NS42NjA3ODcsIDkuOTMzMzQ3XSwgWy04NS43OTc0NDUsIDEwLjEzNDg4Nl0sIFstODUuNzkxNzA5LCAxMC40MzkzMzddLCBbLTg1LjY1OTMxNCwgMTAuNzU0MzMxXSwgWy04NS45NDE3MjUsIDEwLjg5NTI3OF0sIFstODUuNzEyNTQsIDExLjA4ODQ0NV0sIFstODUuNTYxODUyLCAxMS4yMTcxMTldLCBbLTg0LjkwMzAwMywgMTAuOTUyMzAzXSwgWy04NC42NzMwNjksIDExLjA4MjY1N10sIFstODQuMzU1OTMxLCAxMC45OTkyMjZdLCBbLTg0LjE5MDE3OSwgMTAuNzkzNDVdLCBbLTgzLjg5NTA1NCwgMTAuNzI2ODM5XSwgWy04My42NTU2MTIsIDEwLjkzODc2NF0sIFstODMuNDAyMzIsIDEwLjM5NTQzOF0sIFstODMuMDE1Njc3LCA5Ljk5Mjk4Ml0sIFstODIuNTQ2MTk2LCA5LjU2NjEzNV0sIFstODIuOTMyODkxLCA5LjQ3NjgxMl0sIFstODIuOTI3MTU1LCA5LjA3NDMzXSwgWy04Mi43MTkxODMsIDguOTI1NzA5XSwgWy04Mi44Njg2NTcsIDguODA3MjY2XSwgWy04Mi44Mjk3NzEsIDguNjI2Mjk1XSwgWy04Mi45MTMxNzYsIDguNDIzNTE3XSwgWy04Mi45NjU3ODMsIDguMjI1MDI4XV1dLCAidHlwZSI6ICJQb2x5Z29uIn0sICJpZCI6ICJDUkkiLCAicHJvcGVydGllcyI6IHsiaGlnaGxpZ2h0Ijoge30sICJuYW1lIjogIkNvc3RhIFJpY2EiLCAic3R5bGUiOiB7ImNvbG9yIjogImdyYXkiLCAiZGFzaEFycmF5IjogIjEsIDEiLCAiZmlsbENvbG9yIjogIiMwMDAwMDAiLCAibGluZU9wYWNpdHkiOiAwLjksICJ3ZWlnaHQiOiAxfX0sICJ0eXBlIjogIkZlYXR1cmUifSwgeyJnZW9tZXRyeSI6IHsiY29vcmRpbmF0ZXMiOiBbW1stODIuMjY4MTUxLCAyMy4xODg2MTFdLCBbLTgxLjQwNDQ1NywgMjMuMTE3MjcxXSwgWy04MC42MTg3NjksIDIzLjEwNTk4XSwgWy03OS42Nzk1MjQsIDIyLjc2NTMwM10sIFstNzkuMjgxNDg2LCAyMi4zOTkyMDJdLCBbLTc4LjM0NzQzNCwgMjIuNTEyMTY2XSwgWy03Ny45OTMyOTYsIDIyLjI3NzE5NF0sIFstNzcuMTQ2NDIyLCAyMS42NTc4NTFdLCBbLTc2LjUyMzgyNSwgMjEuMjA2ODJdLCBbLTc2LjE5NDYyLCAyMS4yMjA1NjVdLCBbLTc1LjU5ODIyMiwgMjEuMDE2NjI0XSwgWy03NS42NzEwNiwgMjAuNzM1MDkxXSwgWy03NC45MzM4OTYsIDIwLjY5MzkwNV0sIFstNzQuMTc4MDI1LCAyMC4yODQ2MjhdLCBbLTc0LjI5NjY0OCwgMjAuMDUwMzc5XSwgWy03NC45NjE1OTUsIDE5LjkyMzQzNV0sIFstNzUuNjM0NjgsIDE5Ljg3Mzc3NF0sIFstNzYuMzIzNjU2LCAxOS45NTI4OTFdLCBbLTc3Ljc1NTQ4MSwgMTkuODU1NDgxXSwgWy03Ny4wODUxMDgsIDIwLjQxMzM1NF0sIFstNzcuNDkyNjU1LCAyMC42NzMxMDVdLCBbLTc4LjEzNzI5MiwgMjAuNzM5OTQ5XSwgWy03OC40ODI4MjcsIDIxLjAyODYxM10sIFstNzguNzE5ODY3LCAyMS41OTgxMTRdLCBbLTc5LjI4NSwgMjEuNTU5MTc1XSwgWy04MC4yMTc0NzUsIDIxLjgyNzMyNF0sIFstODAuNTE3NTM1LCAyMi4wMzcwNzldLCBbLTgxLjgyMDk0MywgMjIuMTkyMDU3XSwgWy04Mi4xNjk5OTIsIDIyLjM4NzEwOV0sIFstODEuNzk1MDAyLCAyMi42MzY5NjVdLCBbLTgyLjc3NTg5OCwgMjIuNjg4MTVdLCBbLTgzLjQ5NDQ1OSwgMjIuMTY4NTE4XSwgWy04My45MDg4LCAyMi4xNTQ1NjVdLCBbLTg0LjA1MjE1MSwgMjEuOTEwNTc1XSwgWy04NC41NDcwMywgMjEuODAxMjI4XSwgWy04NC45NzQ5MTEsIDIxLjg5NjAyOF0sIFstODQuNDQ3MDYyLCAyMi4yMDQ5NV0sIFstODQuMjMwMzU3LCAyMi41NjU3NTVdLCBbLTgzLjc3ODI0LCAyMi43ODgxMThdLCBbLTgzLjI2NzU0OCwgMjIuOTgzMDQyXSwgWy04Mi41MTA0MzYsIDIzLjA3ODc0N10sIFstODIuMjY4MTUxLCAyMy4xODg2MTFdXV0sICJ0eXBlIjogIlBvbHlnb24ifSwgImlkIjogIkNVQiIsICJwcm9wZXJ0aWVzIjogeyJoaWdobGlnaHQiOiB7fSwgIm5hbWUiOiAiQ3ViYSIsICJzdHlsZSI6IHsiY29sb3IiOiAiZ3JheSIsICJkYXNoQXJyYXkiOiAiMSwgMSIsICJmaWxsQ29sb3IiOiAiIzAwMDAwMCIsICJsaW5lT3BhY2l0eSI6IDAuOSwgIndlaWdodCI6IDF9fSwgInR5cGUiOiAiRmVhdHVyZSJ9LCB7Imdlb21ldHJ5IjogeyJjb29yZGluYXRlcyI6IFtbWzMzLjk3MzYxNywgMzUuMDU4NTA2XSwgWzM0LjAwNDg4MSwgMzQuOTc4MDk4XSwgWzMyLjk3OTgyNywgMzQuNTcxODY5XSwgWzMyLjQ5MDI5NiwgMzQuNzAxNjU1XSwgWzMyLjI1NjY2NywgMzUuMTAzMjMyXSwgWzMyLjczMTc4LCAzNS4xNDAwMjZdLCBbMzIuOTE5NTcyLCAzNS4wODc4MzNdLCBbMzMuMTkwOTc3LCAzNS4xNzMxMjVdLCBbMzMuMzgzODMzLCAzNS4xNjI3MTJdLCBbMzMuNDU1OTIyLCAzNS4xMDE0MjRdLCBbMzMuNDc1ODE3LCAzNS4wMDAzNDVdLCBbMzMuNTI1Njg1LCAzNS4wMzg2ODhdLCBbMzMuNjc1MzkyLCAzNS4wMTc4NjNdLCBbMzMuODY2NDQsIDM1LjA5MzU5NV0sIFszMy45NzM2MTcsIDM1LjA1ODUwNl1dXSwgInR5cGUiOiAiUG9seWdvbiJ9LCAiaWQiOiAiQ1lQIiwgInByb3BlcnRpZXMiOiB7ImhpZ2hsaWdodCI6IHt9LCAibmFtZSI6ICJDeXBydXMiLCAic3R5bGUiOiB7ImNvbG9yIjogImdyYXkiLCAiZGFzaEFycmF5IjogIjEsIDEiLCAiZmlsbENvbG9yIjogIiMwMDAwMDAiLCAibGluZU9wYWNpdHkiOiAwLjksICJ3ZWlnaHQiOiAxfX0sICJ0eXBlIjogIkZlYXR1cmUifSwgeyJnZW9tZXRyeSI6IHsiY29vcmRpbmF0ZXMiOiBbW1sxNi45NjAyODgsIDQ4LjU5Njk4Ml0sIFsxNi40OTkyODMsIDQ4Ljc4NTgwOF0sIFsxNi4wMjk2NDcsIDQ4LjczMzg5OV0sIFsxNS4yNTM0MTYsIDQ5LjAzOTA3NF0sIFsxNC45MDE0NDcsIDQ4Ljk2NDQwMl0sIFsxNC4zMzg4OTgsIDQ4LjU1NTMwNV0sIFsxMy41OTU5NDYsIDQ4Ljg3NzE3Ml0sIFsxMy4wMzEzMjksIDQ5LjMwNzA2OF0sIFsxMi41MjEwMjQsIDQ5LjU0NzQxNV0sIFsxMi40MTUxOTEsIDQ5Ljk2OTEyMV0sIFsxMi4yNDAxMTEsIDUwLjI2NjMzOF0sIFsxMi45NjY4MzcsIDUwLjQ4NDA3Nl0sIFsxMy4zMzgxMzIsIDUwLjczMzIzNF0sIFsxNC4wNTYyMjgsIDUwLjkyNjkxOF0sIFsxNC4zMDcwMTMsIDUxLjExNzI2OF0sIFsxNC41NzA3MTgsIDUxLjAwMjMzOV0sIFsxNS4wMTY5OTYsIDUxLjEwNjY3NF0sIFsxNS40OTA5NzIsIDUwLjc4NDczXSwgWzE2LjIzODYyNywgNTAuNjk3NzMzXSwgWzE2LjE3NjI1MywgNTAuNDIyNjA3XSwgWzE2LjcxOTQ3NiwgNTAuMjE1NzQ3XSwgWzE2Ljg2ODc2OSwgNTAuNDczOTc0XSwgWzE3LjU1NDU2NywgNTAuMzYyMTQ2XSwgWzE3LjY0OTQ0NSwgNTAuMDQ5MDM4XSwgWzE4LjM5MjkxNCwgNDkuOTg4NjI5XSwgWzE4Ljg1MzE0NCwgNDkuNDk2MjNdLCBbMTguNTU0OTcxLCA0OS40OTUwMTVdLCBbMTguMzk5OTk0LCA0OS4zMTUwMDFdLCBbMTguMTcwNDk4LCA0OS4yNzE1MTVdLCBbMTguMTA0OTczLCA0OS4wNDM5ODNdLCBbMTcuOTEzNTEyLCA0OC45OTY0OTNdLCBbMTcuODg2NDg1LCA0OC45MDM0NzVdLCBbMTcuNTQ1MDA3LCA0OC44MDAwMTldLCBbMTcuMTAxOTg1LCA0OC44MTY5NjldLCBbMTYuOTYwMjg4LCA0OC41OTY5ODJdXV0sICJ0eXBlIjogIlBvbHlnb24ifSwgImlkIjogIkNaRSIsICJwcm9wZXJ0aWVzIjogeyJoaWdobGlnaHQiOiB7fSwgIm5hbWUiOiAiQ3plY2ggUmVwdWJsaWMiLCAic3R5bGUiOiB7ImNvbG9yIjogImdyYXkiLCAiZGFzaEFycmF5IjogIjEsIDEiLCAiZmlsbENvbG9yIjogIiMwMDAwMDAiLCAibGluZU9wYWNpdHkiOiAwLjksICJ3ZWlnaHQiOiAxfX0sICJ0eXBlIjogIkZlYXR1cmUifSwgeyJnZW9tZXRyeSI6IHsiY29vcmRpbmF0ZXMiOiBbW1s5LjkyMTkwNiwgNTQuOTgzMTA0XSwgWzkuOTM5NTgsIDU0LjU5NjY0Ml0sIFsxMC45NTAxMTIsIDU0LjM2MzYwN10sIFsxMC45Mzk0NjcsIDU0LjAwODY5M10sIFsxMS45NTYyNTIsIDU0LjE5NjQ4Nl0sIFsxMi41MTg0NCwgNTQuNDcwMzcxXSwgWzEzLjY0NzQ2NywgNTQuMDc1NTExXSwgWzE0LjExOTY4NiwgNTMuNzU3MDI5XSwgWzE0LjM1MzMxNSwgNTMuMjQ4MTcxXSwgWzE0LjA3NDUyMSwgNTIuOTgxMjYzXSwgWzE0LjQzNzYsIDUyLjYyNDg1XSwgWzE0LjY4NTAyNiwgNTIuMDg5OTQ3XSwgWzE0LjYwNzA5OCwgNTEuNzQ1MTg4XSwgWzE1LjAxNjk5NiwgNTEuMTA2Njc0XSwgWzE0LjU3MDcxOCwgNTEuMDAyMzM5XSwgWzE0LjMwNzAxMywgNTEuMTE3MjY4XSwgWzE0LjA1NjIyOCwgNTAuOTI2OTE4XSwgWzEzLjMzODEzMiwgNTAuNzMzMjM0XSwgWzEyLjk2NjgzNywgNTAuNDg0MDc2XSwgWzEyLjI0MDExMSwgNTAuMjY2MzM4XSwgWzEyLjQxNTE5MSwgNDkuOTY5MTIxXSwgWzEyLjUyMTAyNCwgNDkuNTQ3NDE1XSwgWzEzLjAzMTMyOSwgNDkuMzA3MDY4XSwgWzEzLjU5NTk0NiwgNDguODc3MTcyXSwgWzEzLjI0MzM1NywgNDguNDE2MTE1XSwgWzEyLjg4NDEwMywgNDguMjg5MTQ2XSwgWzEzLjAyNTg1MSwgNDcuNjM3NTg0XSwgWzEyLjkzMjYyNywgNDcuNDY3NjQ2XSwgWzEyLjYyMDc2LCA0Ny42NzIzODhdLCBbMTIuMTQxMzU3LCA0Ny43MDMwODNdLCBbMTEuNDI2NDE0LCA0Ny41MjM3NjZdLCBbMTAuNTQ0NTA0LCA0Ny41NjYzOTldLCBbMTAuNDAyMDg0LCA0Ny4zMDI0ODhdLCBbOS44OTYwNjgsIDQ3LjU4MDE5N10sIFs5LjU5NDIyNiwgNDcuNTI1MDU4XSwgWzguNTIyNjEyLCA0Ny44MzA4MjhdLCBbOC4zMTczMDEsIDQ3LjYxMzU4XSwgWzcuNDY2NzU5LCA0Ny42MjA1ODJdLCBbNy41OTM2NzYsIDQ4LjMzMzAxOV0sIFs4LjA5OTI3OSwgNDkuMDE3Nzg0XSwgWzYuNjU4MjMsIDQ5LjIwMTk1OF0sIFs2LjE4NjMyLCA0OS40NjM4MDNdLCBbNi4yNDI3NTEsIDQ5LjkwMjIyNl0sIFs2LjA0MzA3MywgNTAuMTI4MDUyXSwgWzYuMTU2NjU4LCA1MC44MDM3MjFdLCBbNS45ODg2NTgsIDUxLjg1MTYxNl0sIFs2LjU4OTM5NywgNTEuODUyMDI5XSwgWzYuODQyODcsIDUyLjIyODQ0XSwgWzcuMDkyMDUzLCA1My4xNDQwNDNdLCBbNi45MDUxNCwgNTMuNDgyMTYyXSwgWzcuMTAwNDI1LCA1My42OTM5MzJdLCBbNy45MzYyMzksIDUzLjc0ODI5Nl0sIFs4LjEyMTcwNiwgNTMuNTI3NzkyXSwgWzguODAwNzM0LCA1NC4wMjA3ODZdLCBbOC41NzIxMTgsIDU0LjM5NTY0Nl0sIFs4LjUyNjIyOSwgNTQuOTYyNzQ0XSwgWzkuMjgyMDQ5LCA1NC44MzA4NjVdLCBbOS45MjE5MDYsIDU0Ljk4MzEwNF1dXSwgInR5cGUiOiAiUG9seWdvbiJ9LCAiaWQiOiAiREVVIiwgInByb3BlcnRpZXMiOiB7ImhpZ2hsaWdodCI6IHt9LCAibmFtZSI6ICJHZXJtYW55IiwgInN0eWxlIjogeyJjb2xvciI6ICJncmF5IiwgImRhc2hBcnJheSI6ICIxLCAxIiwgImZpbGxDb2xvciI6ICIjRDFFMkYzIiwgImxpbmVPcGFjaXR5IjogMC45LCAid2VpZ2h0IjogMX19LCAidHlwZSI6ICJGZWF0dXJlIn0sIHsiZ2VvbWV0cnkiOiB7ImNvb3JkaW5hdGVzIjogW1tbNDMuMDgxMjI2LCAxMi42OTk2MzldLCBbNDMuMzE3ODUyLCAxMi4zOTAxNDhdLCBbNDMuMjg2MzgxLCAxMS45NzQ5MjhdLCBbNDIuNzE1ODc0LCAxMS43MzU2NDFdLCBbNDMuMTQ1MzA1LCAxMS40NjIwNF0sIFs0Mi43NzY4NTIsIDEwLjkyNjg3OV0sIFs0Mi41NTQ5MywgMTEuMTA1MTFdLCBbNDIuMzE0MTQsIDExLjAzNDJdLCBbNDEuNzU1NTcsIDExLjA1MDkxXSwgWzQxLjczOTU5LCAxMS4zNTUxMV0sIFs0MS42NjE3NiwgMTEuNjMxMl0sIFs0MiwgMTIuMV0sIFs0Mi4zNTE1NiwgMTIuNTQyMjNdLCBbNDIuNzc5NjQyLCAxMi40NTU0MTZdLCBbNDMuMDgxMjI2LCAxMi42OTk2MzldXV0sICJ0eXBlIjogIlBvbHlnb24ifSwgImlkIjogIkRKSSIsICJwcm9wZXJ0aWVzIjogeyJoaWdobGlnaHQiOiB7fSwgIm5hbWUiOiAiRGppYm91dGkiLCAic3R5bGUiOiB7ImNvbG9yIjogImdyYXkiLCAiZGFzaEFycmF5IjogIjEsIDEiLCAiZmlsbENvbG9yIjogIiMwMDAwMDAiLCAibGluZU9wYWNpdHkiOiAwLjksICJ3ZWlnaHQiOiAxfX0sICJ0eXBlIjogIkZlYXR1cmUifSwgeyJnZW9tZXRyeSI6IHsiY29vcmRpbmF0ZXMiOiBbW1tbMTIuNjkwMDA2LCA1NS42MDk5OTFdLCBbMTIuMDg5OTkxLCA1NC44MDAwMTVdLCBbMTEuMDQzNTQzLCA1NS4zNjQ4NjRdLCBbMTAuOTAzOTE0LCA1NS43Nzk5NTVdLCBbMTIuMzcwOTA0LCA1Ni4xMTE0MDddLCBbMTIuNjkwMDA2LCA1NS42MDk5OTFdXV0sIFtbWzEwLjkxMjE4MiwgNTYuNDU4NjIxXSwgWzEwLjY2NzgwNCwgNTYuMDgxMzgzXSwgWzEwLjM2OTk5MywgNTYuMTkwMDA3XSwgWzkuNjQ5OTg1LCA1NS40Njk5OTldLCBbOS45MjE5MDYsIDU0Ljk4MzEwNF0sIFs5LjI4MjA0OSwgNTQuODMwODY1XSwgWzguNTI2MjI5LCA1NC45NjI3NDRdLCBbOC4xMjAzMTEsIDU1LjUxNzcyM10sIFs4LjA4OTk3NywgNTYuNTQwMDEyXSwgWzguMjU2NTgyLCA1Ni44MDk5NjldLCBbOC41NDM0MzgsIDU3LjExMDAwM10sIFs5LjQyNDQ2OSwgNTcuMTcyMDY2XSwgWzkuNzc1NTU5LCA1Ny40NDc5NDFdLCBbMTAuNTgwMDA2LCA1Ny43MzAwMTddLCBbMTAuNTQ2MTA2LCA1Ny4yMTU3MzNdLCBbMTAuMjUsIDU2Ljg5MDAxNl0sIFsxMC4zNjk5OTMsIDU2LjYwOTk4Ml0sIFsxMC45MTIxODIsIDU2LjQ1ODYyMV1dXV0sICJ0eXBlIjogIk11bHRpUG9seWdvbiJ9LCAiaWQiOiAiRE5LIiwgInByb3BlcnRpZXMiOiB7ImhpZ2hsaWdodCI6IHt9LCAibmFtZSI6ICJEZW5tYXJrIiwgInN0eWxlIjogeyJjb2xvciI6ICJncmF5IiwgImRhc2hBcnJheSI6ICIxLCAxIiwgImZpbGxDb2xvciI6ICIjMDAwMDAwIiwgImxpbmVPcGFjaXR5IjogMC45LCAid2VpZ2h0IjogMX19LCAidHlwZSI6ICJGZWF0dXJlIn0sIHsiZ2VvbWV0cnkiOiB7ImNvb3JkaW5hdGVzIjogW1tbLTcxLjcxMjM2MSwgMTkuNzE0NDU2XSwgWy03MS41ODczMDQsIDE5Ljg4NDkxMV0sIFstNzAuODA2NzA2LCAxOS44ODAyODZdLCBbLTcwLjIxNDM2NSwgMTkuNjIyODg1XSwgWy02OS45NTA4MTUsIDE5LjY0OF0sIFstNjkuNzY5MjUsIDE5LjI5MzI2N10sIFstNjkuMjIyMTI2LCAxOS4zMTMyMTRdLCBbLTY5LjI1NDM0NiwgMTkuMDE1MTk2XSwgWy02OC44MDk0MTIsIDE4Ljk3OTA3NF0sIFstNjguMzE3OTQzLCAxOC42MTIxOThdLCBbLTY4LjY4OTMxNiwgMTguMjA1MTQyXSwgWy02OS4xNjQ5NDYsIDE4LjQyMjY0OF0sIFstNjkuNjIzOTg4LCAxOC4zODA3MTNdLCBbLTY5Ljk1MjkzNCwgMTguNDI4MzA3XSwgWy03MC4xMzMyMzMsIDE4LjI0NTkxNV0sIFstNzAuNTE3MTM3LCAxOC4xODQyOTFdLCBbLTcwLjY2OTI5OCwgMTguNDI2ODg2XSwgWy03MC45OTk5NSwgMTguMjgzMzI5XSwgWy03MS40MDAyMSwgMTcuNTk4NTY0XSwgWy03MS42NTc2NjIsIDE3Ljc1NzU3M10sIFstNzEuNzA4MzA1LCAxOC4wNDQ5OTddLCBbLTcxLjY4NzczOCwgMTguMzE2NjZdLCBbLTcxLjk0NTExMiwgMTguNjE2OV0sIFstNzEuNzAxMzAzLCAxOC43ODU0MTddLCBbLTcxLjYyNDg3MywgMTkuMTY5ODM4XSwgWy03MS43MTIzNjEsIDE5LjcxNDQ1Nl1dXSwgInR5cGUiOiAiUG9seWdvbiJ9LCAiaWQiOiAiRE9NIiwgInByb3BlcnRpZXMiOiB7ImhpZ2hsaWdodCI6IHt9LCAibmFtZSI6ICJEb21pbmljYW4gUmVwdWJsaWMiLCAic3R5bGUiOiB7ImNvbG9yIjogImdyYXkiLCAiZGFzaEFycmF5IjogIjEsIDEiLCAiZmlsbENvbG9yIjogIiMwMDAwMDAiLCAibGluZU9wYWNpdHkiOiAwLjksICJ3ZWlnaHQiOiAxfX0sICJ0eXBlIjogIkZlYXR1cmUifSwgeyJnZW9tZXRyeSI6IHsiY29vcmRpbmF0ZXMiOiBbW1sxMS45OTk1MDYsIDIzLjQ3MTY2OF0sIFs4LjU3Mjg5MywgMjEuNTY1NjYxXSwgWzUuNjc3NTY2LCAxOS42MDEyMDddLCBbNC4yNjc0MTksIDE5LjE1NTI2NV0sIFszLjE1ODEzMywgMTkuMDU3MzY0XSwgWzMuMTQ2NjYxLCAxOS42OTM1NzldLCBbMi42ODM1ODgsIDE5Ljg1NjIzXSwgWzIuMDYwOTkxLCAyMC4xNDIyMzNdLCBbMS44MjMyMjgsIDIwLjYxMDgwOV0sIFstMS41NTAwNTUsIDIyLjc5MjY2Nl0sIFstNC45MjMzMzcsIDI0Ljk3NDU3NF0sIFstOC42ODQ0LCAyNy4zOTU3NDRdLCBbLTguNjY1MTI0LCAyNy41ODk0NzldLCBbLTguNjY1NTksIDI3LjY1NjQyNl0sIFstOC42NzQxMTYsIDI4Ljg0MTI4OV0sIFstNy4wNTkyMjgsIDI5LjU3OTIyOF0sIFstNi4wNjA2MzIsIDI5LjczMTddLCBbLTUuMjQyMTI5LCAzMC4wMDA0NDNdLCBbLTQuODU5NjQ2LCAzMC41MDExODhdLCBbLTMuNjkwNDQxLCAzMC44OTY5NTJdLCBbLTMuNjQ3NDk4LCAzMS42MzcyOTRdLCBbLTMuMDY4OTgsIDMxLjcyNDQ5OF0sIFstMi42MTY2MDUsIDMyLjA5NDM0Nl0sIFstMS4zMDc4OTksIDMyLjI2Mjg4OV0sIFstMS4xMjQ1NTEsIDMyLjY1MTUyMl0sIFstMS4zODgwNDksIDMyLjg2NDAxNV0sIFstMS43MzM0NTUsIDMzLjkxOTcxM10sIFstMS43OTI5ODYsIDM0LjUyNzkxOV0sIFstMi4xNjk5MTQsIDM1LjE2ODM5Nl0sIFstMS4yMDg2MDMsIDM1LjcxNDg0OV0sIFstMC4xMjc0NTQsIDM1Ljg4ODY2Ml0sIFswLjUwMzg3NywgMzYuMzAxMjczXSwgWzEuNDY2OTE5LCAzNi42MDU2NDddLCBbMy4xNjE2OTksIDM2Ljc4MzkwNV0sIFs0LjgxNTc1OCwgMzYuODY1MDM3XSwgWzUuMzIwMTIsIDM2LjcxNjUxOV0sIFs2LjI2MTgyLCAzNy4xMTA2NTVdLCBbNy4zMzAzODUsIDM3LjExODM4MV0sIFs3LjczNzA3OCwgMzYuODg1NzA4XSwgWzguNDIwOTY0LCAzNi45NDY0MjddLCBbOC4yMTc4MjQsIDM2LjQzMzE3N10sIFs4LjM3NjM2OCwgMzUuNDc5ODc2XSwgWzguMTQwOTgxLCAzNC42NTUxNDZdLCBbNy41MjQ0ODIsIDM0LjA5NzM3Nl0sIFs3LjYxMjY0MiwgMzMuMzQ0MTE1XSwgWzguNDMwNDczLCAzMi43NDgzMzddLCBbOC40MzkxMDMsIDMyLjUwNjI4NV0sIFs5LjA1NTYwMywgMzIuMTAyNjkyXSwgWzkuNDgyMTQsIDMwLjMwNzU1Nl0sIFs5LjgwNTYzNCwgMjkuNDI0NjM4XSwgWzkuODU5OTk4LCAyOC45NTk5OV0sIFs5LjY4Mzg4NSwgMjguMTQ0MTc0XSwgWzkuNzU2MTI4LCAyNy42ODgyNTldLCBbOS42MjkwNTYsIDI3LjE0MDk1M10sIFs5LjcxNjI4NiwgMjYuNTEyMjA2XSwgWzkuMzE5NDExLCAyNi4wOTQzMjVdLCBbOS45MTA2OTMsIDI1LjM2NTQ1NV0sIFs5Ljk0ODI2MSwgMjQuOTM2OTU0XSwgWzEwLjMwMzg0NywgMjQuMzc5MzEzXSwgWzEwLjc3MTM2NCwgMjQuNTYyNTMyXSwgWzExLjU2MDY2OSwgMjQuMDk3OTA5XSwgWzExLjk5OTUwNiwgMjMuNDcxNjY4XV1dLCAidHlwZSI6ICJQb2x5Z29uIn0sICJpZCI6ICJEWkEiLCAicHJvcGVydGllcyI6IHsiaGlnaGxpZ2h0Ijoge30sICJuYW1lIjogIkFsZ2VyaWEiLCAic3R5bGUiOiB7ImNvbG9yIjogImdyYXkiLCAiZGFzaEFycmF5IjogIjEsIDEiLCAiZmlsbENvbG9yIjogIiMwMDAwMDAiLCAibGluZU9wYWNpdHkiOiAwLjksICJ3ZWlnaHQiOiAxfX0sICJ0eXBlIjogIkZlYXR1cmUifSwgeyJnZW9tZXRyeSI6IHsiY29vcmRpbmF0ZXMiOiBbW1stODAuMzAyNTYxLCAtMy40MDQ4NTZdLCBbLTc5Ljc3MDI5MywgLTIuNjU3NTEyXSwgWy03OS45ODY1NTksIC0yLjIyMDc5NF0sIFstODAuMzY4Nzg0LCAtMi42ODUxNTldLCBbLTgwLjk2Nzc2NSwgLTIuMjQ2OTQzXSwgWy04MC43NjQ4MDYsIC0xLjk2NTA0OF0sIFstODAuOTMzNjU5LCAtMS4wNTc0NTVdLCBbLTgwLjU4MzM3LCAtMC45MDY2NjNdLCBbLTgwLjM5OTMyNSwgLTAuMjgzNzAzXSwgWy04MC4wMjA4OTgsIDAuMzYwMzRdLCBbLTgwLjA5MDYxLCAwLjc2ODQyOV0sIFstNzkuNTQyNzYyLCAwLjk4MjkzOF0sIFstNzguODU1MjU5LCAxLjM4MDkyNF0sIFstNzcuODU1MDYxLCAwLjgwOTkyNV0sIFstNzcuNjY4NjEzLCAwLjgyNTg5M10sIFstNzcuNDI0OTg0LCAwLjM5NTY4N10sIFstNzYuNTc2MzgsIDAuMjU2OTM2XSwgWy03Ni4yOTIzMTQsIDAuNDE2MDQ3XSwgWy03NS44MDE0NjYsIDAuMDg0ODAxXSwgWy03NS4zNzMyMjMsIC0wLjE1MjAzMl0sIFstNzUuMjMzNzIzLCAtMC45MTE0MTddLCBbLTc1LjU0NDk5NiwgLTEuNTYxNjFdLCBbLTc2LjYzNTM5NCwgLTIuNjA4Njc4XSwgWy03Ny44Mzc5MDUsIC0zLjAwMzAyMV0sIFstNzguNDUwNjg0LCAtMy44NzMwOTddLCBbLTc4LjYzOTg5NywgLTQuNTQ3Nzg0XSwgWy03OS4yMDUyODksIC00Ljk1OTEyOV0sIFstNzkuNjI0OTc5LCAtNC40NTQxOThdLCBbLTgwLjAyODkwOCwgLTQuMzQ2MDkxXSwgWy04MC40NDIyNDIsIC00LjQyNTcyNF0sIFstODAuNDY5Mjk1LCAtNC4wNTkyODddLCBbLTgwLjE4NDAxNSwgLTMuODIxMTYyXSwgWy04MC4zMDI1NjEsIC0zLjQwNDg1Nl1dXSwgInR5cGUiOiAiUG9seWdvbiJ9LCAiaWQiOiAiRUNVIiwgInByb3BlcnRpZXMiOiB7ImhpZ2hsaWdodCI6IHt9LCAibmFtZSI6ICJFY3VhZG9yIiwgInN0eWxlIjogeyJjb2xvciI6ICJncmF5IiwgImRhc2hBcnJheSI6ICIxLCAxIiwgImZpbGxDb2xvciI6ICIjMDAwMDAwIiwgImxpbmVPcGFjaXR5IjogMC45LCAid2VpZ2h0IjogMX19LCAidHlwZSI6ICJGZWF0dXJlIn0sIHsiZ2VvbWV0cnkiOiB7ImNvb3JkaW5hdGVzIjogW1tbMzQuOTIyNiwgMjkuNTAxMzNdLCBbMzQuNjQxNzQsIDI5LjA5OTQyXSwgWzM0LjQyNjU1LCAyOC4zNDM5OV0sIFszNC4xNTQ1MSwgMjcuODIzM10sIFszMy45MjEzNiwgMjcuNjQ4N10sIFszMy41ODgxMSwgMjcuOTcxMzZdLCBbMzMuMTM2NzYsIDI4LjQxNzY1XSwgWzMyLjQyMzIzLCAyOS44NTEwOF0sIFszMi4zMjA0NiwgMjkuNzYwNDNdLCBbMzIuNzM0ODIsIDI4LjcwNTIzXSwgWzMzLjM0ODc2LCAyNy42OTk4OV0sIFszNC4xMDQ1NSwgMjYuMTQyMjddLCBbMzQuNDczODcsIDI1LjU5ODU2XSwgWzM0Ljc5NTA3LCAyNS4wMzM3NV0sIFszNS42OTI0MSwgMjMuOTI2NzFdLCBbMzUuNDkzNzIsIDIzLjc1MjM3XSwgWzM1LjUyNTk4LCAyMy4xMDI0NF0sIFszNi42OTA2OSwgMjIuMjA0ODVdLCBbMzYuODY2MjMsIDIyXSwgWzMyLjksIDIyXSwgWzI5LjAyLCAyMl0sIFsyNSwgMjJdLCBbMjUsIDI1LjY4MjVdLCBbMjUsIDI5LjIzODY1NV0sIFsyNC43MDAwNywgMzAuMDQ0MTldLCBbMjQuOTU3NjIsIDMwLjY2MTZdLCBbMjQuODAyODcsIDMxLjA4OTI5XSwgWzI1LjE2NDgyLCAzMS41NjkxNV0sIFsyNi40OTUzMywgMzEuNTg1NjhdLCBbMjcuNDU3NjIsIDMxLjMyMTI2XSwgWzI4LjQ1MDQ4LCAzMS4wMjU3N10sIFsyOC45MTM1MywgMzAuODcwMDVdLCBbMjkuNjgzNDIsIDMxLjE4Njg2XSwgWzMwLjA5NTAzLCAzMS40NzM0XSwgWzMwLjk3NjkzLCAzMS41NTU4Nl0sIFszMS42ODc5NiwgMzEuNDI5Nl0sIFszMS45NjA0MSwgMzAuOTMzNl0sIFszMi4xOTI0NywgMzEuMjYwMzRdLCBbMzIuOTkzOTIsIDMxLjAyNDA3XSwgWzMzLjc3MzQsIDMwLjk2NzQ2XSwgWzM0LjI2NTQ0LCAzMS4yMTkzNl0sIFszNC45MjI2LCAyOS41MDEzM11dXSwgInR5cGUiOiAiUG9seWdvbiJ9LCAiaWQiOiAiRUdZIiwgInByb3BlcnRpZXMiOiB7ImhpZ2hsaWdodCI6IHt9LCAibmFtZSI6ICJFZ3lwdCIsICJzdHlsZSI6IHsiY29sb3IiOiAiZ3JheSIsICJkYXNoQXJyYXkiOiAiMSwgMSIsICJmaWxsQ29sb3IiOiAiIzAwMDAwMCIsICJsaW5lT3BhY2l0eSI6IDAuOSwgIndlaWdodCI6IDF9fSwgInR5cGUiOiAiRmVhdHVyZSJ9LCB7Imdlb21ldHJ5IjogeyJjb29yZGluYXRlcyI6IFtbWzQyLjM1MTU2LCAxMi41NDIyM10sIFs0Mi4wMDk3NSwgMTIuODY1ODJdLCBbNDEuNTk4NTYsIDEzLjQ1MjA5XSwgWzQxLjE1NTE5NCwgMTMuNzczMzJdLCBbNDAuODk2NiwgMTQuMTE4NjRdLCBbNDAuMDI2MjE5LCAxNC41MTk1NzldLCBbMzkuMzQwNjEsIDE0LjUzMTU1XSwgWzM5LjA5OTQsIDE0Ljc0MDY0XSwgWzM4LjUxMjk1LCAxNC41MDU0N10sIFszNy45MDYwNywgMTQuOTU5NDNdLCBbMzcuNTkzNzcsIDE0LjIxMzFdLCBbMzYuNDI5NTEsIDE0LjQyMjExXSwgWzM2LjMyMzE4OSwgMTQuODIyNDgxXSwgWzM2Ljc1Mzg2LCAxNi4yOTE4NzRdLCBbMzYuODUyNTMsIDE2Ljk1NjU1XSwgWzM3LjE2NzQ3LCAxNy4yNjMxNF0sIFszNy45MDQsIDE3LjQyNzU0XSwgWzM4LjQxMDA5LCAxNy45OTgzMDddLCBbMzguOTkwNjIzLCAxNi44NDA2MjZdLCBbMzkuMjY2MTEsIDE1LjkyMjcyM10sIFszOS44MTQyOTQsIDE1LjQzNTY0N10sIFs0MS4xNzkyNzUsIDE0LjQ5MTA4XSwgWzQxLjczNDk1MiwgMTMuOTIxMDM3XSwgWzQyLjI3NjgzMSwgMTMuMzQzOTkyXSwgWzQyLjU4OTU3NiwgMTMuMDAwNDIxXSwgWzQzLjA4MTIyNiwgMTIuNjk5NjM5XSwgWzQyLjc3OTY0MiwgMTIuNDU1NDE2XSwgWzQyLjM1MTU2LCAxMi41NDIyM11dXSwgInR5cGUiOiAiUG9seWdvbiJ9LCAiaWQiOiAiRVJJIiwgInByb3BlcnRpZXMiOiB7ImhpZ2hsaWdodCI6IHt9LCAibmFtZSI6ICJFcml0cmVhIiwgInN0eWxlIjogeyJjb2xvciI6ICJncmF5IiwgImRhc2hBcnJheSI6ICIxLCAxIiwgImZpbGxDb2xvciI6ICIjMDAwMDAwIiwgImxpbmVPcGFjaXR5IjogMC45LCAid2VpZ2h0IjogMX19LCAidHlwZSI6ICJGZWF0dXJlIn0sIHsiZ2VvbWV0cnkiOiB7ImNvb3JkaW5hdGVzIjogW1tbLTkuMDM0ODE4LCA0MS44ODA1NzFdLCBbLTguOTg0NDMzLCA0Mi41OTI3NzVdLCBbLTkuMzkyODg0LCA0My4wMjY2MjVdLCBbLTcuOTc4MTksIDQzLjc0ODMzOF0sIFstNi43NTQ0OTIsIDQzLjU2NzkwOV0sIFstNS40MTE4ODYsIDQzLjU3NDI0XSwgWy00LjM0Nzg0MywgNDMuNDAzNDQ5XSwgWy0zLjUxNzUzMiwgNDMuNDU1OTAxXSwgWy0xLjkwMTM1MSwgNDMuNDIyODAyXSwgWy0xLjUwMjc3MSwgNDMuMDM0MDE0XSwgWzAuMzM4MDQ3LCA0Mi41Nzk1NDZdLCBbMC43MDE1OTEsIDQyLjc5NTczNF0sIFsxLjgyNjc5MywgNDIuMzQzMzg1XSwgWzIuOTg1OTk5LCA0Mi40NzMwMTVdLCBbMy4wMzk0ODQsIDQxLjg5MjEyXSwgWzIuMDkxODQyLCA0MS4yMjYwODldLCBbMC44MTA1MjUsIDQxLjAxNDczMl0sIFswLjcyMTMzMSwgNDAuNjc4MzE4XSwgWzAuMTA2NjkyLCA0MC4xMjM5MzRdLCBbLTAuMjc4NzExLCAzOS4zMDk5NzhdLCBbMC4xMTEyOTEsIDM4LjczODUxNF0sIFstMC40NjcxMjQsIDM4LjI5MjM2Nl0sIFstMC42ODMzODksIDM3LjY0MjM1NF0sIFstMS40MzgzODIsIDM3LjQ0MzA2NF0sIFstMi4xNDY0NTMsIDM2LjY3NDE0NF0sIFstMy40MTU3ODEsIDM2LjY1ODldLCBbLTQuMzY4OTAxLCAzNi42Nzc4MzldLCBbLTQuOTk1MjE5LCAzNi4zMjQ3MDhdLCBbLTUuMzc3MTYsIDM1Ljk0Njg1XSwgWy01Ljg2NjQzMiwgMzYuMDI5ODE3XSwgWy02LjIzNjY5NCwgMzYuMzY3Njc3XSwgWy02LjUyMDE5MSwgMzYuOTQyOTEzXSwgWy03LjQ1MzcyNiwgMzcuMDk3Nzg4XSwgWy03LjUzNzEwNSwgMzcuNDI4OTA0XSwgWy03LjE2NjUwOCwgMzcuODAzODk0XSwgWy03LjAyOTI4MSwgMzguMDc1NzY0XSwgWy03LjM3NDA5MiwgMzguMzczMDU5XSwgWy03LjA5ODAzNywgMzkuMDMwMDczXSwgWy03LjQ5ODYzMiwgMzkuNjI5NTcxXSwgWy03LjA2NjU5MiwgMzkuNzExODkyXSwgWy03LjAyNjQxMywgNDAuMTg0NTI0XSwgWy02Ljg2NDAyLCA0MC4zMzA4NzJdLCBbLTYuODUxMTI3LCA0MS4xMTEwODNdLCBbLTYuMzg5MDg4LCA0MS4zODE4MTVdLCBbLTYuNjY4NjA2LCA0MS44ODMzODddLCBbLTcuMjUxMzA5LCA0MS45MTgzNDZdLCBbLTcuNDIyNTEzLCA0MS43OTIwNzVdLCBbLTguMDEzMTc1LCA0MS43OTA4ODZdLCBbLTguMjYzODU3LCA0Mi4yODA0NjldLCBbLTguNjcxOTQ2LCA0Mi4xMzQ2ODldLCBbLTkuMDM0ODE4LCA0MS44ODA1NzFdXV0sICJ0eXBlIjogIlBvbHlnb24ifSwgImlkIjogIkVTUCIsICJwcm9wZXJ0aWVzIjogeyJoaWdobGlnaHQiOiB7fSwgIm5hbWUiOiAiU3BhaW4iLCAic3R5bGUiOiB7ImNvbG9yIjogImdyYXkiLCAiZGFzaEFycmF5IjogIjEsIDEiLCAiZmlsbENvbG9yIjogIiNEMUUyRjMiLCAibGluZU9wYWNpdHkiOiAwLjksICJ3ZWlnaHQiOiAxfX0sICJ0eXBlIjogIkZlYXR1cmUifSwgeyJnZW9tZXRyeSI6IHsiY29vcmRpbmF0ZXMiOiBbW1syNC4zMTI4NjMsIDU3Ljc5MzQyNF0sIFsyNC40Mjg5MjgsIDU4LjM4MzQxM10sIFsyNC4wNjExOTgsIDU4LjI1NzM3NV0sIFsyMy40MjY1NiwgNTguNjEyNzUzXSwgWzIzLjMzOTc5NSwgNTkuMTg3MjRdLCBbMjQuNjA0MjE0LCA1OS40NjU4NTRdLCBbMjUuODY0MTg5LCA1OS42MTEwOV0sIFsyNi45NDkxMzYsIDU5LjQ0NTgwM10sIFsyNy45ODExMTQsIDU5LjQ3NTM4OF0sIFsyOC4xMzE2OTksIDU5LjMwMDgyNV0sIFsyNy40MjAxNjYsIDU4LjcyNDU4MV0sIFsyNy43MTY2ODYsIDU3Ljc5MTg5OV0sIFsyNy4yODgxODUsIDU3LjQ3NDUyOF0sIFsyNi40NjM1MzIsIDU3LjQ3NjM4OV0sIFsyNS42MDI4MSwgNTcuODQ3NTI5XSwgWzI1LjE2NDU5NCwgNTcuOTcwMTU3XSwgWzI0LjMxMjg2MywgNTcuNzkzNDI0XV1dLCAidHlwZSI6ICJQb2x5Z29uIn0sICJpZCI6ICJFU1QiLCAicHJvcGVydGllcyI6IHsiaGlnaGxpZ2h0Ijoge30sICJuYW1lIjogIkVzdG9uaWEiLCAic3R5bGUiOiB7ImNvbG9yIjogImdyYXkiLCAiZGFzaEFycmF5IjogIjEsIDEiLCAiZmlsbENvbG9yIjogIiMwMDAwMDAiLCAibGluZU9wYWNpdHkiOiAwLjksICJ3ZWlnaHQiOiAxfX0sICJ0eXBlIjogIkZlYXR1cmUifSwgeyJnZW9tZXRyeSI6IHsiY29vcmRpbmF0ZXMiOiBbW1szNy45MDYwNywgMTQuOTU5NDNdLCBbMzguNTEyOTUsIDE0LjUwNTQ3XSwgWzM5LjA5OTQsIDE0Ljc0MDY0XSwgWzM5LjM0MDYxLCAxNC41MzE1NV0sIFs0MC4wMjYyNSwgMTQuNTE5NTldLCBbNDAuODk2NiwgMTQuMTE4NjRdLCBbNDEuMTU1MiwgMTMuNzczMzNdLCBbNDEuNTk4NTYsIDEzLjQ1MjA5XSwgWzQyLjAwOTc1LCAxMi44NjU4Ml0sIFs0Mi4zNTE1NiwgMTIuNTQyMjNdLCBbNDIsIDEyLjFdLCBbNDEuNjYxNzYsIDExLjYzMTJdLCBbNDEuNzM5NTksIDExLjM1NTExXSwgWzQxLjc1NTU3LCAxMS4wNTA5MV0sIFs0Mi4zMTQxNCwgMTEuMDM0Ml0sIFs0Mi41NTQ5MywgMTEuMTA1MTFdLCBbNDIuNzc2ODUyLCAxMC45MjY4NzldLCBbNDIuNTU4NzYsIDEwLjU3MjU4XSwgWzQyLjkyODEyLCAxMC4wMjE5NF0sIFs0My4yOTY5OSwgOS41NDA0OF0sIFs0My42Nzg3NSwgOS4xODM1OF0sIFs0Ni45NDgzNCwgNy45OTY4OF0sIFs0Ny43ODk0MiwgOC4wMDNdLCBbNDQuOTYzNiwgNS4wMDE2Ml0sIFs0My42NjA4NywgNC45NTc1NV0sIFs0Mi43Njk2NywgNC4yNTI1OV0sIFs0Mi4xMjg2MSwgNC4yMzQxM10sIFs0MS44NTUwODMsIDMuOTE4OTEyXSwgWzQxLjE3MTgsIDMuOTE5MDldLCBbNDAuNzY4NDgsIDQuMjU3MDJdLCBbMzkuODU0OTQsIDMuODM4NzldLCBbMzkuNTU5Mzg0LCAzLjQyMjA2XSwgWzM4Ljg5MjUxLCAzLjUwMDc0XSwgWzM4LjY3MTE0LCAzLjYxNjA3XSwgWzM4LjQzNjk3LCAzLjU4ODUxXSwgWzM4LjEyMDkxNSwgMy41OTg2MDVdLCBbMzYuODU1MDkzLCA0LjQ0Nzg2NF0sIFszNi4xNTkwNzksIDQuNDQ3ODY0XSwgWzM1LjgxNzQ0OCwgNC43NzY5NjZdLCBbMzUuODE3NDQ4LCA1LjMzODIzMl0sIFszNS4yOTgwMDcsIDUuNTA2XSwgWzM0LjcwNzAyLCA2LjU5NDIyXSwgWzM0LjI1MDMyLCA2LjgyNjA3XSwgWzM0LjA3NTEsIDcuMjI1OTVdLCBbMzMuNTY4MjksIDcuNzEzMzRdLCBbMzIuOTU0MTgsIDcuNzg0OTddLCBbMzMuMjk0OCwgOC4zNTQ1OF0sIFszMy44MjU1LCA4LjM3OTE2XSwgWzMzLjk3NDk4LCA4LjY4NDU2XSwgWzMzLjk2MTYyLCA5LjU4MzU4XSwgWzM0LjI1NzQ1LCAxMC42MzAwOV0sIFszNC43MzExNSwgMTAuOTEwMTddLCBbMzQuODMxNjMsIDExLjMxODk2XSwgWzM1LjI2MDQ5LCAxMi4wODI4Nl0sIFszNS44NjM2MywgMTIuNTc4MjhdLCBbMzYuMjcwMjIsIDEzLjU2MzMzXSwgWzM2LjQyOTUxLCAxNC40MjIxMV0sIFszNy41OTM3NywgMTQuMjEzMV0sIFszNy45MDYwNywgMTQuOTU5NDNdXV0sICJ0eXBlIjogIlBvbHlnb24ifSwgImlkIjogIkVUSCIsICJwcm9wZXJ0aWVzIjogeyJoaWdobGlnaHQiOiB7fSwgIm5hbWUiOiAiRXRoaW9waWEiLCAic3R5bGUiOiB7ImNvbG9yIjogImdyYXkiLCAiZGFzaEFycmF5IjogIjEsIDEiLCAiZmlsbENvbG9yIjogIiMwMDAwMDAiLCAibGluZU9wYWNpdHkiOiAwLjksICJ3ZWlnaHQiOiAxfX0sICJ0eXBlIjogIkZlYXR1cmUifSwgeyJnZW9tZXRyeSI6IHsiY29vcmRpbmF0ZXMiOiBbW1syOC41OTE5MywgNjkuMDY0Nzc3XSwgWzI4LjQ0NTk0NCwgNjguMzY0NjEzXSwgWzI5Ljk3NzQyNiwgNjcuNjk4Mjk3XSwgWzI5LjA1NDU4OSwgNjYuOTQ0Mjg2XSwgWzMwLjIxNzY1LCA2NS44MDU5OF0sIFsyOS41NDQ0MywgNjQuOTQ4NjcyXSwgWzMwLjQ0NDY4NSwgNjQuMjA0NDUzXSwgWzMwLjAzNTg3MiwgNjMuNTUyODE0XSwgWzMxLjUxNjA5MiwgNjIuODY3Njg3XSwgWzMxLjEzOTk5MSwgNjIuMzU3NjkzXSwgWzMwLjIxMTEwNywgNjEuNzgwMDI4XSwgWzI4LjA2OTk5OCwgNjAuNTAzNTE3XSwgWzI2LjI1NTE3MywgNjAuNDIzOTYxXSwgWzI0LjQ5NjYyNCwgNjAuMDU3MzE2XSwgWzIyLjg2OTY5NSwgNTkuODQ2MzczXSwgWzIyLjI5MDc2NCwgNjAuMzkxOTIxXSwgWzIxLjMyMjI0NCwgNjAuNzIwMTddLCBbMjEuNTQ0ODY2LCA2MS43MDUzMjldLCBbMjEuMDU5MjExLCA2Mi42MDczOTNdLCBbMjEuNTM2MDI5LCA2My4xODk3MzVdLCBbMjIuNDQyNzQ0LCA2My44MTc4MV0sIFsyNC43MzA1MTIsIDY0LjkwMjM0NF0sIFsyNS4zOTgwNjgsIDY1LjExMTQyN10sIFsyNS4yOTQwNDMsIDY1LjUzNDM0Nl0sIFsyMy45MDMzNzksIDY2LjAwNjkyN10sIFsyMy41NjU4OCwgNjYuMzk2MDUxXSwgWzIzLjUzOTQ3MywgNjcuOTM2MDA5XSwgWzIxLjk3ODUzNSwgNjguNjE2ODQ2XSwgWzIwLjY0NTU5MywgNjkuMTA2MjQ3XSwgWzIxLjI0NDkzNiwgNjkuMzcwNDQzXSwgWzIyLjM1NjIzOCwgNjguODQxNzQxXSwgWzIzLjY2MjA1LCA2OC44OTEyNDddLCBbMjQuNzM1Njc5LCA2OC42NDk1NTddLCBbMjUuNjg5MjEzLCA2OS4wOTIxMTRdLCBbMjYuMTc5NjIyLCA2OS44MjUyOTldLCBbMjcuNzMyMjkyLCA3MC4xNjQxOTNdLCBbMjkuMDE1NTczLCA2OS43NjY0OTFdLCBbMjguNTkxOTMsIDY5LjA2NDc3N11dXSwgInR5cGUiOiAiUG9seWdvbiJ9LCAiaWQiOiAiRklOIiwgInByb3BlcnRpZXMiOiB7ImhpZ2hsaWdodCI6IHt9LCAibmFtZSI6ICJGaW5sYW5kIiwgInN0eWxlIjogeyJjb2xvciI6ICJncmF5IiwgImRhc2hBcnJheSI6ICIxLCAxIiwgImZpbGxDb2xvciI6ICIjMDAwMDAwIiwgImxpbmVPcGFjaXR5IjogMC45LCAid2VpZ2h0IjogMX19LCAidHlwZSI6ICJGZWF0dXJlIn0sIHsiZ2VvbWV0cnkiOiB7ImNvb3JkaW5hdGVzIjogW1tbWzE3OC4zNzM2LCAtMTcuMzM5OTJdLCBbMTc4LjcxODA2LCAtMTcuNjI4NDZdLCBbMTc4LjU1MjcxLCAtMTguMTUwNTldLCBbMTc3LjkzMjY2LCAtMTguMjg3OTldLCBbMTc3LjM4MTQ2LCAtMTguMTY0MzJdLCBbMTc3LjI4NTA0LCAtMTcuNzI0NjVdLCBbMTc3LjY3MDg3LCAtMTcuMzgxMTRdLCBbMTc4LjEyNTU3LCAtMTcuNTA0ODFdLCBbMTc4LjM3MzYsIC0xNy4zMzk5Ml1dXSwgW1tbMTc5LjM2NDE0MywgLTE2LjgwMTM1NF0sIFsxNzguNzI1MDU5LCAtMTcuMDEyMDQyXSwgWzE3OC41OTY4MzksIC0xNi42MzkxNV0sIFsxNzkuMDk2NjA5LCAtMTYuNDMzOTg0XSwgWzE3OS40MTM1MDksIC0xNi4zNzkwNTRdLCBbMTgwLCAtMTYuMDY3MTMzXSwgWzE4MCwgLTE2LjU1NTIxN10sIFsxNzkuMzY0MTQzLCAtMTYuODAxMzU0XV1dLCBbW1stMTc5LjkxNzM2OSwgLTE2LjUwMTc4M10sIFstMTgwLCAtMTYuNTU1MjE3XSwgWy0xODAsIC0xNi4wNjcxMzNdLCBbLTE3OS43OTMzMiwgLTE2LjAyMDg4Ml0sIFstMTc5LjkxNzM2OSwgLTE2LjUwMTc4M11dXV0sICJ0eXBlIjogIk11bHRpUG9seWdvbiJ9LCAiaWQiOiAiRkpJIiwgInByb3BlcnRpZXMiOiB7ImhpZ2hsaWdodCI6IHt9LCAibmFtZSI6ICJGaWppIiwgInN0eWxlIjogeyJjb2xvciI6ICJncmF5IiwgImRhc2hBcnJheSI6ICIxLCAxIiwgImZpbGxDb2xvciI6ICIjMDAwMDAwIiwgImxpbmVPcGFjaXR5IjogMC45LCAid2VpZ2h0IjogMX19LCAidHlwZSI6ICJGZWF0dXJlIn0sIHsiZ2VvbWV0cnkiOiB7ImNvb3JkaW5hdGVzIjogW1tbLTYxLjIsIC01MS44NV0sIFstNjAsIC01MS4yNV0sIFstNTkuMTUsIC01MS41XSwgWy01OC41NSwgLTUxLjFdLCBbLTU3Ljc1LCAtNTEuNTVdLCBbLTU4LjA1LCAtNTEuOV0sIFstNTkuNCwgLTUyLjJdLCBbLTU5Ljg1LCAtNTEuODVdLCBbLTYwLjcsIC01Mi4zXSwgWy02MS4yLCAtNTEuODVdXV0sICJ0eXBlIjogIlBvbHlnb24ifSwgImlkIjogIkZMSyIsICJwcm9wZXJ0aWVzIjogeyJoaWdobGlnaHQiOiB7fSwgIm5hbWUiOiAiRmFsa2xhbmQgSXNsYW5kcyIsICJzdHlsZSI6IHsiY29sb3IiOiAiZ3JheSIsICJkYXNoQXJyYXkiOiAiMSwgMSIsICJmaWxsQ29sb3IiOiAiIzAwMDAwMCIsICJsaW5lT3BhY2l0eSI6IDAuOSwgIndlaWdodCI6IDF9fSwgInR5cGUiOiAiRmVhdHVyZSJ9LCB7Imdlb21ldHJ5IjogeyJjb29yZGluYXRlcyI6IFtbW1s5LjU2MDAxNiwgNDIuMTUyNDkyXSwgWzkuMjI5NzUyLCA0MS4zODAwMDddLCBbOC43NzU3MjMsIDQxLjU4MzYxMl0sIFs4LjU0NDIxMywgNDIuMjU2NTE3XSwgWzguNzQ2MDA5LCA0Mi42MjgxMjJdLCBbOS4zOTAwMDEsIDQzLjAwOTk4NV0sIFs5LjU2MDAxNiwgNDIuMTUyNDkyXV1dLCBbW1szLjU4ODE4NCwgNTAuMzc4OTkyXSwgWzQuMjg2MDIzLCA0OS45MDc0OTddLCBbNC43OTkyMjIsIDQ5Ljk4NTM3M10sIFs1LjY3NDA1MiwgNDkuNTI5NDg0XSwgWzUuODk3NzU5LCA0OS40NDI2NjddLCBbNi4xODYzMiwgNDkuNDYzODAzXSwgWzYuNjU4MjMsIDQ5LjIwMTk1OF0sIFs4LjA5OTI3OSwgNDkuMDE3Nzg0XSwgWzcuNTkzNjc2LCA0OC4zMzMwMTldLCBbNy40NjY3NTksIDQ3LjYyMDU4Ml0sIFs3LjE5MjIwMiwgNDcuNDQ5NzY2XSwgWzYuNzM2NTcxLCA0Ny41NDE4MDFdLCBbNi43Njg3MTQsIDQ3LjI4NzcwOF0sIFs2LjAzNzM4OSwgNDYuNzI1Nzc5XSwgWzYuMDIyNjA5LCA0Ni4yNzI5OV0sIFs2LjUwMDEsIDQ2LjQyOTY3M10sIFs2Ljg0MzU5MywgNDUuOTkxMTQ3XSwgWzYuODAyMzU1LCA0NS43MDg1OF0sIFs3LjA5NjY1MiwgNDUuMzMzMDk5XSwgWzYuNzQ5OTU1LCA0NS4wMjg1MThdLCBbNy4wMDc1NjIsIDQ0LjI1NDc2N10sIFs3LjU0OTU5NiwgNDQuMTI3OTAxXSwgWzcuNDM1MTg1LCA0My42OTM4NDVdLCBbNi41MjkyNDUsIDQzLjEyODg5Ml0sIFs0LjU1Njk2MywgNDMuMzk5NjUxXSwgWzMuMTAwNDExLCA0My4wNzUyMDFdLCBbMi45ODU5OTksIDQyLjQ3MzAxNV0sIFsxLjgyNjc5MywgNDIuMzQzMzg1XSwgWzAuNzAxNTkxLCA0Mi43OTU3MzRdLCBbMC4zMzgwNDcsIDQyLjU3OTU0Nl0sIFstMS41MDI3NzEsIDQzLjAzNDAxNF0sIFstMS45MDEzNTEsIDQzLjQyMjgwMl0sIFstMS4zODQyMjUsIDQ0LjAyMjYxXSwgWy0xLjE5Mzc5OCwgNDYuMDE0OTE4XSwgWy0yLjIyNTcyNCwgNDcuMDY0MzYzXSwgWy0yLjk2MzI3NiwgNDcuNTcwMzI3XSwgWy00LjQ5MTU1NSwgNDcuOTU0OTU0XSwgWy00LjU5MjM1LCA0OC42ODQxNl0sIFstMy4yOTU4MTQsIDQ4LjkwMTY5Ml0sIFstMS42MTY1MTEsIDQ4LjY0NDQyMV0sIFstMS45MzM0OTQsIDQ5Ljc3NjM0Ml0sIFstMC45ODk0NjksIDQ5LjM0NzM3Nl0sIFsxLjMzODc2MSwgNTAuMTI3MTczXSwgWzEuNjM5MDAxLCA1MC45NDY2MDZdLCBbMi41MTM1NzMsIDUxLjE0ODUwNl0sIFsyLjY1ODQyMiwgNTAuNzk2ODQ4XSwgWzMuMTIzMjUyLCA1MC43ODAzNjNdLCBbMy41ODgxODQsIDUwLjM3ODk5Ml1dXV0sICJ0eXBlIjogIk11bHRpUG9seWdvbiJ9LCAiaWQiOiAiRlJBIiwgInByb3BlcnRpZXMiOiB7ImhpZ2hsaWdodCI6IHt9LCAibmFtZSI6ICJGcmFuY2UiLCAic3R5bGUiOiB7ImNvbG9yIjogImdyYXkiLCAiZGFzaEFycmF5IjogIjEsIDEiLCAiZmlsbENvbG9yIjogIiMwQjE0M0QiLCAibGluZU9wYWNpdHkiOiAwLjksICJ3ZWlnaHQiOiAxfX0sICJ0eXBlIjogIkZlYXR1cmUifSwgeyJnZW9tZXRyeSI6IHsiY29vcmRpbmF0ZXMiOiBbW1sxMS4wOTM3NzMsIC0zLjk3ODgyN10sIFsxMC4wNjYxMzUsIC0yLjk2OTQ4M10sIFs5LjQwNTI0NSwgLTIuMTQ0MzEzXSwgWzguNzk3OTk2LCAtMS4xMTEzMDFdLCBbOC44MzAwODcsIC0wLjc3OTA3NF0sIFs5LjA0ODQyLCAtMC40NTkzNTFdLCBbOS4yOTEzNTEsIDAuMjY4NjY2XSwgWzkuNDkyODg5LCAxLjAxMDEyXSwgWzkuODMwMjg0LCAxLjA2Nzg5NF0sIFsxMS4yODUwNzksIDEuMDU3NjYyXSwgWzExLjI3NjQ0OSwgMi4yNjEwNTFdLCBbMTEuNzUxNjY1LCAyLjMyNjc1OF0sIFsxMi4zNTkzOCwgMi4xOTI4MTJdLCBbMTIuOTUxMzM0LCAyLjMyMTYxNl0sIFsxMy4wNzU4MjIsIDIuMjY3MDk3XSwgWzEzLjAwMzExNCwgMS44MzA4OTZdLCBbMTMuMjgyNjMxLCAxLjMxNDE4NF0sIFsxNC4wMjY2NjksIDEuMzk1Njc3XSwgWzE0LjI3NjI2NiwgMS4xOTY5M10sIFsxMy44NDMzMjEsIDAuMDM4NzU4XSwgWzE0LjMxNjQxOCwgLTAuNTUyNjI3XSwgWzE0LjQyNTQ1NiwgLTEuMzMzNDA3XSwgWzE0LjI5OTIxLCAtMS45OTgyNzZdLCBbMTMuOTkyNDA3LCAtMi40NzA4MDVdLCBbMTMuMTA5NjE5LCAtMi40Mjg3NF0sIFsxMi41NzUyODQsIC0xLjk0ODUxMV0sIFsxMi40OTU3MDMsIC0yLjM5MTY4OF0sIFsxMS44MjA5NjQsIC0yLjUxNDE2MV0sIFsxMS40NzgwMzksIC0yLjc2NTYxOV0sIFsxMS44NTUxMjIsIC0zLjQyNjg3MV0sIFsxMS4wOTM3NzMsIC0zLjk3ODgyN11dXSwgInR5cGUiOiAiUG9seWdvbiJ9LCAiaWQiOiAiR0FCIiwgInByb3BlcnRpZXMiOiB7ImhpZ2hsaWdodCI6IHt9LCAibmFtZSI6ICJHYWJvbiIsICJzdHlsZSI6IHsiY29sb3IiOiAiZ3JheSIsICJkYXNoQXJyYXkiOiAiMSwgMSIsICJmaWxsQ29sb3IiOiAiIzAwMDAwMCIsICJsaW5lT3BhY2l0eSI6IDAuOSwgIndlaWdodCI6IDF9fSwgInR5cGUiOiAiRmVhdHVyZSJ9LCB7Imdlb21ldHJ5IjogeyJjb29yZGluYXRlcyI6IFtbW1stNS42NjE5NDksIDU0LjU1NDYwM10sIFstNi4xOTc4ODUsIDUzLjg2NzU2NV0sIFstNi45NTM3MywgNTQuMDczNzAyXSwgWy03LjU3MjE2OCwgNTQuMDU5OTU2XSwgWy03LjM2NjAzMSwgNTQuNTk1ODQxXSwgWy03LjU3MjE2OCwgNTUuMTMxNjIyXSwgWy02LjczMzg0NywgNTUuMTcyODZdLCBbLTUuNjYxOTQ5LCA1NC41NTQ2MDNdXV0sIFtbWy0zLjAwNTAwNSwgNTguNjM1XSwgWy00LjA3MzgyOCwgNTcuNTUzMDI1XSwgWy0zLjA1NTAwMiwgNTcuNjkwMDE5XSwgWy0xLjk1OTI4MSwgNTcuNjg0OF0sIFstMi4yMTk5ODgsIDU2Ljg3MDAxN10sIFstMy4xMTkwMDMsIDU1Ljk3Mzc5M10sIFstMi4wODUwMDksIDU1LjkwOTk5OF0sIFstMi4wMDU2NzYsIDU1LjgwNDkwM10sIFstMS4xMTQ5OTEsIDU0LjYyNDk4Nl0sIFstMC40MzA0ODUsIDU0LjQ2NDM3Nl0sIFswLjE4NDk4MSwgNTMuMzI1MDE0XSwgWzAuNDY5OTc3LCA1Mi45Mjk5OTldLCBbMS42ODE1MzEsIDUyLjczOTUyXSwgWzEuNTU5OTg4LCA1Mi4wOTk5OThdLCBbMS4wNTA1NjIsIDUxLjgwNjc2MV0sIFsxLjQ0OTg2NSwgNTEuMjg5NDI4XSwgWzAuNTUwMzM0LCA1MC43NjU3MzldLCBbLTAuNzg3NTE3LCA1MC43NzQ5ODldLCBbLTIuNDg5OTk4LCA1MC41MDAwMTldLCBbLTIuOTU2Mjc0LCA1MC42OTY4OF0sIFstMy42MTc0NDgsIDUwLjIyODM1Nl0sIFstNC41NDI1MDgsIDUwLjM0MTgzN10sIFstNS4yNDUwMjMsIDQ5Ljk2XSwgWy01Ljc3NjU2NywgNTAuMTU5Njc4XSwgWy00LjMwOTk5LCA1MS4yMTAwMDFdLCBbLTMuNDE0ODUxLCA1MS40MjYwMDldLCBbLTMuNDIyNzE5LCA1MS40MjY4NDhdLCBbLTQuOTg0MzY3LCA1MS41OTM0NjZdLCBbLTUuMjY3Mjk2LCA1MS45OTE0XSwgWy00LjIyMjM0NywgNTIuMzAxMzU2XSwgWy00Ljc3MDAxMywgNTIuODQwMDA1XSwgWy00LjU3OTk5OSwgNTMuNDk1MDA0XSwgWy0zLjA5MzgzMSwgNTMuNDA0NTQ3XSwgWy0zLjA5MjA4LCA1My40MDQ0NDFdLCBbLTIuOTQ1MDA5LCA1My45ODVdLCBbLTMuNjE0NzAxLCA1NC42MDA5MzddLCBbLTMuNjMwMDA1LCA1NC42MTUwMTNdLCBbLTQuODQ0MTY5LCA1NC43OTA5NzFdLCBbLTUuMDgyNTI3LCA1NS4wNjE2MDFdLCBbLTQuNzE5MTEyLCA1NS41MDg0NzNdLCBbLTUuMDQ3OTgxLCA1NS43ODM5ODZdLCBbLTUuNTg2Mzk4LCA1NS4zMTExNDZdLCBbLTUuNjQ0OTk5LCA1Ni4yNzUwMTVdLCBbLTYuMTQ5OTgxLCA1Ni43ODUwMV0sIFstNS43ODY4MjUsIDU3LjgxODg0OF0sIFstNS4wMDk5OTksIDU4LjYzMDAxM10sIFstNC4yMTE0OTUsIDU4LjU1MDg0NV0sIFstMy4wMDUwMDUsIDU4LjYzNV1dXV0sICJ0eXBlIjogIk11bHRpUG9seWdvbiJ9LCAiaWQiOiAiR0JSIiwgInByb3BlcnRpZXMiOiB7ImhpZ2hsaWdodCI6IHt9LCAibmFtZSI6ICJVbml0ZWQgS2luZ2RvbSIsICJzdHlsZSI6IHsiY29sb3IiOiAiZ3JheSIsICJkYXNoQXJyYXkiOiAiMSwgMSIsICJmaWxsQ29sb3IiOiAiI0QxRTJGMyIsICJsaW5lT3BhY2l0eSI6IDAuOSwgIndlaWdodCI6IDF9fSwgInR5cGUiOiAiRmVhdHVyZSJ9LCB7Imdlb21ldHJ5IjogeyJjb29yZGluYXRlcyI6IFtbWzQxLjU1NDA4NCwgNDEuNTM1NjU2XSwgWzQxLjcwMzE3MSwgNDEuOTYyOTQzXSwgWzQxLjQ1MzQ3LCA0Mi42NDUxMjNdLCBbNDAuODc1NDY5LCA0My4wMTM2MjhdLCBbNDAuMzIxMzk0LCA0My4xMjg2MzRdLCBbMzkuOTU1MDA5LCA0My40MzQ5OThdLCBbNDAuMDc2OTY1LCA0My41NTMxMDRdLCBbNDAuOTIyMTg1LCA0My4zODIxNTldLCBbNDIuMzk0Mzk1LCA0My4yMjAzMDhdLCBbNDMuNzU2MDE3LCA0Mi43NDA4MjhdLCBbNDMuOTMxMiwgNDIuNTU0OTc0XSwgWzQ0LjUzNzYyMywgNDIuNzExOTkzXSwgWzQ1LjQ3MDI3OSwgNDIuNTAyNzgxXSwgWzQ1Ljc3NjQxLCA0Mi4wOTI0NDRdLCBbNDYuNDA0OTUxLCA0MS44NjA2NzVdLCBbNDYuMTQ1NDMyLCA0MS43MjI4MDJdLCBbNDYuNjM3OTA4LCA0MS4xODE2NzNdLCBbNDYuNTAxNjM3LCA0MS4wNjQ0NDVdLCBbNDUuOTYyNjAxLCA0MS4xMjM4NzNdLCBbNDUuMjE3NDI2LCA0MS40MTE0NTJdLCBbNDQuOTcyNDgsIDQxLjI0ODEyOV0sIFs0My41ODI3NDYsIDQxLjA5MjE0M10sIFs0Mi42MTk1NDksIDQxLjU4MzE3M10sIFs0MS41NTQwODQsIDQxLjUzNTY1Nl1dXSwgInR5cGUiOiAiUG9seWdvbiJ9LCAiaWQiOiAiR0VPIiwgInByb3BlcnRpZXMiOiB7ImhpZ2hsaWdodCI6IHt9LCAibmFtZSI6ICJHZW9yZ2lhIiwgInN0eWxlIjogeyJjb2xvciI6ICJncmF5IiwgImRhc2hBcnJheSI6ICIxLCAxIiwgImZpbGxDb2xvciI6ICIjMDAwMDAwIiwgImxpbmVPcGFjaXR5IjogMC45LCAid2VpZ2h0IjogMX19LCAidHlwZSI6ICJGZWF0dXJlIn0sIHsiZ2VvbWV0cnkiOiB7ImNvb3JkaW5hdGVzIjogW1tbMS4wNjAxMjIsIDUuOTI4ODM3XSwgWy0wLjUwNzYzOCwgNS4zNDM0NzNdLCBbLTEuMDYzNjI1LCA1LjAwMDU0OF0sIFstMS45NjQ3MDcsIDQuNzEwNDYyXSwgWy0yLjg1NjEyNSwgNC45OTQ0NzZdLCBbLTIuODEwNzAxLCA1LjM4OTA1MV0sIFstMy4yNDQzNywgNi4yNTA0NzJdLCBbLTIuOTgzNTg1LCA3LjM3OTcwNV0sIFstMi41NjIxOSwgOC4yMTk2MjhdLCBbLTIuODI3NDk2LCA5LjY0MjQ2MV0sIFstMi45NjM4OTYsIDEwLjM5NTMzNV0sIFstMi45NDA0MDksIDEwLjk2MjY5XSwgWy0xLjIwMzM1OCwgMTEuMDA5ODE5XSwgWy0wLjc2MTU3NiwgMTAuOTM2OTNdLCBbLTAuNDM4NzAyLCAxMS4wOTgzNDFdLCBbMC4wMjM4MDMsIDExLjAxODY4Ml0sIFstMC4wNDk3ODUsIDEwLjcwNjkxOF0sIFswLjM2NzU4LCAxMC4xOTEyMTNdLCBbMC4zNjU5MDEsIDkuNDY1MDA0XSwgWzAuNDYxMTkyLCA4LjY3NzIyM10sIFswLjcxMjAyOSwgOC4zMTI0NjVdLCBbMC40OTA5NTcsIDcuNDExNzQ0XSwgWzAuNTcwMzg0LCA2LjkxNDM1OV0sIFswLjgzNjkzMSwgNi4yNzk5NzldLCBbMS4wNjAxMjIsIDUuOTI4ODM3XV1dLCAidHlwZSI6ICJQb2x5Z29uIn0sICJpZCI6ICJHSEEiLCAicHJvcGVydGllcyI6IHsiaGlnaGxpZ2h0Ijoge30sICJuYW1lIjogIkdoYW5hIiwgInN0eWxlIjogeyJjb2xvciI6ICJncmF5IiwgImRhc2hBcnJheSI6ICIxLCAxIiwgImZpbGxDb2xvciI6ICIjMDAwMDAwIiwgImxpbmVPcGFjaXR5IjogMC45LCAid2VpZ2h0IjogMX19LCAidHlwZSI6ICJGZWF0dXJlIn0sIHsiZ2VvbWV0cnkiOiB7ImNvb3JkaW5hdGVzIjogW1tbLTguNDM5Mjk4LCA3LjY4NjA0M10sIFstOC43MjIxMjQsIDcuNzExNjc0XSwgWy04LjkyNjA2NSwgNy4zMDkwMzddLCBbLTkuMjA4Nzg2LCA3LjMxMzkyMV0sIFstOS40MDMzNDgsIDcuNTI2OTA1XSwgWy05LjMzNzI4LCA3LjkyODUzNF0sIFstOS43NTUzNDIsIDguNTQxMDU1XSwgWy0xMC4wMTY1NjcsIDguNDI4NTA0XSwgWy0xMC4yMzAwOTQsIDguNDA2MjA2XSwgWy0xMC41MDU0NzcsIDguMzQ4ODk2XSwgWy0xMC40OTQzMTUsIDguNzE1NTQxXSwgWy0xMC42NTQ3NywgOC45NzcxNzhdLCBbLTEwLjYyMjM5NSwgOS4yNjc5MV0sIFstMTAuODM5MTUyLCA5LjY4ODI0Nl0sIFstMTEuMTE3NDgxLCAxMC4wNDU4NzNdLCBbLTExLjkxNzI3NywgMTAuMDQ2OTg0XSwgWy0xMi4xNTAzMzgsIDkuODU4NTcyXSwgWy0xMi40MjU5MjksIDkuODM1ODM0XSwgWy0xMi41OTY3MTksIDkuNjIwMTg4XSwgWy0xMi43MTE5NTgsIDkuMzQyNzEyXSwgWy0xMy4yNDY1NSwgOC45MDMwNDldLCBbLTEzLjY4NTE1NCwgOS40OTQ3NDRdLCBbLTE0LjA3NDA0NSwgOS44ODYxNjddLCBbLTE0LjMzMDA3NiwgMTAuMDE1NzJdLCBbLTE0LjU3OTY5OSwgMTAuMjE0NDY3XSwgWy0xNC42OTMyMzIsIDEwLjY1NjMwMV0sIFstMTQuODM5NTU0LCAxMC44NzY1NzJdLCBbLTE1LjEzMDMxMSwgMTEuMDQwNDEyXSwgWy0xNC42ODU2ODcsIDExLjUyNzgyNF0sIFstMTQuMzgyMTkyLCAxMS41MDkyNzJdLCBbLTE0LjEyMTQwNiwgMTEuNjc3MTE3XSwgWy0xMy45MDA4LCAxMS42Nzg3MTldLCBbLTEzLjc0MzE2MSwgMTEuODExMjY5XSwgWy0xMy44MjgyNzIsIDEyLjE0MjY0NF0sIFstMTMuNzE4NzQ0LCAxMi4yNDcxODZdLCBbLTEzLjcwMDQ3NiwgMTIuNTg2MTgzXSwgWy0xMy4yMTc4MTgsIDEyLjU3NTg3NF0sIFstMTIuNDk5MDUxLCAxMi4zMzIwOV0sIFstMTIuMjc4NTk5LCAxMi4zNTQ0NF0sIFstMTIuMjAzNTY1LCAxMi40NjU2NDhdLCBbLTExLjY1ODMwMSwgMTIuMzg2NTgzXSwgWy0xMS41MTM5NDMsIDEyLjQ0Mjk4OF0sIFstMTEuNDU2MTY5LCAxMi4wNzY4MzRdLCBbLTExLjI5NzU3NCwgMTIuMDc3OTcxXSwgWy0xMS4wMzY1NTYsIDEyLjIxMTI0NV0sIFstMTAuODcwODMsIDEyLjE3Nzg4N10sIFstMTAuNTkzMjI0LCAxMS45MjM5NzVdLCBbLTEwLjE2NTIxNCwgMTEuODQ0MDg0XSwgWy05Ljg5MDk5MywgMTIuMDYwNDc5XSwgWy05LjU2NzkxMiwgMTIuMTk0MjQzXSwgWy05LjMyNzYxNiwgMTIuMzM0Mjg2XSwgWy05LjEyNzQ3NCwgMTIuMzA4MDZdLCBbLTguOTA1MjY1LCAxMi4wODgzNThdLCBbLTguNzg2MDk5LCAxMS44MTI1NjFdLCBbLTguMzc2MzA1LCAxMS4zOTM2NDZdLCBbLTguNTgxMzA1LCAxMS4xMzYyNDZdLCBbLTguNjIwMzIxLCAxMC44MTA4OTFdLCBbLTguNDA3MzExLCAxMC45MDkyNTddLCBbLTguMjgyMzU3LCAxMC43OTI1OTddLCBbLTguMzM1Mzc3LCAxMC40OTQ4MTJdLCBbLTguMDI5OTQ0LCAxMC4yMDY1MzVdLCBbLTguMjI5MzM3LCAxMC4xMjkwMl0sIFstOC4zMDk2MTYsIDkuNzg5NTMyXSwgWy04LjA3OTExNCwgOS4zNzYyMjRdLCBbLTcuODMyMSwgOC41NzU3MDRdLCBbLTguMjAzNDk5LCA4LjQ1NTQ1M10sIFstOC4yOTkwNDksIDguMzE2NDQ0XSwgWy04LjIyMTc5MiwgOC4xMjMzMjldLCBbLTguMjgwNzAzLCA3LjY4NzE4XSwgWy04LjQzOTI5OCwgNy42ODYwNDNdXV0sICJ0eXBlIjogIlBvbHlnb24ifSwgImlkIjogIkdJTiIsICJwcm9wZXJ0aWVzIjogeyJoaWdobGlnaHQiOiB7fSwgIm5hbWUiOiAiR3VpbmVhIiwgInN0eWxlIjogeyJjb2xvciI6ICJncmF5IiwgImRhc2hBcnJheSI6ICIxLCAxIiwgImZpbGxDb2xvciI6ICIjMDAwMDAwIiwgImxpbmVPcGFjaXR5IjogMC45LCAid2VpZ2h0IjogMX19LCAidHlwZSI6ICJGZWF0dXJlIn0sIHsiZ2VvbWV0cnkiOiB7ImNvb3JkaW5hdGVzIjogW1tbLTE2Ljg0MTUyNSwgMTMuMTUxMzk0XSwgWy0xNi43MTM3MjksIDEzLjU5NDk1OV0sIFstMTUuNjI0NTk2LCAxMy42MjM1ODddLCBbLTE1LjM5ODc3LCAxMy44NjAzNjldLCBbLTE1LjA4MTczNSwgMTMuODc2NDkyXSwgWy0xNC42ODcwMzEsIDEzLjYzMDM1N10sIFstMTQuMzc2NzE0LCAxMy42MjU2OF0sIFstMTQuMDQ2OTkyLCAxMy43OTQwNjhdLCBbLTEzLjg0NDk2MywgMTMuNTA1MDQyXSwgWy0xNC4yNzc3MDIsIDEzLjI4MDU4NV0sIFstMTQuNzEyMTk3LCAxMy4yOTgyMDddLCBbLTE1LjE0MTE2MywgMTMuNTA5NTEyXSwgWy0xNS41MTE4MTMsIDEzLjI3ODU3XSwgWy0xNS42OTEwMDEsIDEzLjI3MDM1M10sIFstMTUuOTMxMjk2LCAxMy4xMzAyODRdLCBbLTE2Ljg0MTUyNSwgMTMuMTUxMzk0XV1dLCAidHlwZSI6ICJQb2x5Z29uIn0sICJpZCI6ICJHTUIiLCAicHJvcGVydGllcyI6IHsiaGlnaGxpZ2h0Ijoge30sICJuYW1lIjogIkdhbWJpYSIsICJzdHlsZSI6IHsiY29sb3IiOiAiZ3JheSIsICJkYXNoQXJyYXkiOiAiMSwgMSIsICJmaWxsQ29sb3IiOiAiIzAwMDAwMCIsICJsaW5lT3BhY2l0eSI6IDAuOSwgIndlaWdodCI6IDF9fSwgInR5cGUiOiAiRmVhdHVyZSJ9LCB7Imdlb21ldHJ5IjogeyJjb29yZGluYXRlcyI6IFtbWy0xNS4xMzAzMTEsIDExLjA0MDQxMl0sIFstMTUuNjY0MTgsIDExLjQ1ODQ3NF0sIFstMTYuMDg1MjE0LCAxMS41MjQ1OTRdLCBbLTE2LjMxNDc4NywgMTEuODA2NTE1XSwgWy0xNi4zMDg5NDcsIDExLjk1ODcwMl0sIFstMTYuNjEzODM4LCAxMi4xNzA5MTFdLCBbLTE2LjY3NzQ1MiwgMTIuMzg0ODUyXSwgWy0xNi4xNDc3MTcsIDEyLjU0Nzc2Ml0sIFstMTUuODE2NTc0LCAxMi41MTU1NjddLCBbLTE1LjU0ODQ3NywgMTIuNjI4MTddLCBbLTEzLjcwMDQ3NiwgMTIuNTg2MTgzXSwgWy0xMy43MTg3NDQsIDEyLjI0NzE4Nl0sIFstMTMuODI4MjcyLCAxMi4xNDI2NDRdLCBbLTEzLjc0MzE2MSwgMTEuODExMjY5XSwgWy0xMy45MDA4LCAxMS42Nzg3MTldLCBbLTE0LjEyMTQwNiwgMTEuNjc3MTE3XSwgWy0xNC4zODIxOTIsIDExLjUwOTI3Ml0sIFstMTQuNjg1Njg3LCAxMS41Mjc4MjRdLCBbLTE1LjEzMDMxMSwgMTEuMDQwNDEyXV1dLCAidHlwZSI6ICJQb2x5Z29uIn0sICJpZCI6ICJHTkIiLCAicHJvcGVydGllcyI6IHsiaGlnaGxpZ2h0Ijoge30sICJuYW1lIjogIkd1aW5lYSBCaXNzYXUiLCAic3R5bGUiOiB7ImNvbG9yIjogImdyYXkiLCAiZGFzaEFycmF5IjogIjEsIDEiLCAiZmlsbENvbG9yIjogIiMwMDAwMDAiLCAibGluZU9wYWNpdHkiOiAwLjksICJ3ZWlnaHQiOiAxfX0sICJ0eXBlIjogIkZlYXR1cmUifSwgeyJnZW9tZXRyeSI6IHsiY29vcmRpbmF0ZXMiOiBbW1s5LjQ5Mjg4OSwgMS4wMTAxMl0sIFs5LjMwNTYxMywgMS4xNjA5MTFdLCBbOS42NDkxNTgsIDIuMjgzODY2XSwgWzExLjI3NjQ0OSwgMi4yNjEwNTFdLCBbMTEuMjg1MDc5LCAxLjA1NzY2Ml0sIFs5LjgzMDI4NCwgMS4wNjc4OTRdLCBbOS40OTI4ODksIDEuMDEwMTJdXV0sICJ0eXBlIjogIlBvbHlnb24ifSwgImlkIjogIkdOUSIsICJwcm9wZXJ0aWVzIjogeyJoaWdobGlnaHQiOiB7fSwgIm5hbWUiOiAiRXF1YXRvcmlhbCBHdWluZWEiLCAic3R5bGUiOiB7ImNvbG9yIjogImdyYXkiLCAiZGFzaEFycmF5IjogIjEsIDEiLCAiZmlsbENvbG9yIjogIiMwMDAwMDAiLCAibGluZU9wYWNpdHkiOiAwLjksICJ3ZWlnaHQiOiAxfX0sICJ0eXBlIjogIkZlYXR1cmUifSwgeyJnZW9tZXRyeSI6IHsiY29vcmRpbmF0ZXMiOiBbW1tbMjMuNjk5OTgsIDM1LjcwNTAwNF0sIFsyNC4yNDY2NjUsIDM1LjM2ODAyMl0sIFsyNS4wMjUwMTUsIDM1LjQyNDk5Nl0sIFsyNS43NjkyMDgsIDM1LjM1NDAxOF0sIFsyNS43NDUwMjMsIDM1LjE3OTk5OF0sIFsyNi4yOTAwMDMsIDM1LjI5OTk5XSwgWzI2LjE2NDk5OCwgMzUuMDA0OTk1XSwgWzI0LjcyNDk4MiwgMzQuOTE5OTg4XSwgWzI0LjczNTAwNywgMzUuMDg0OTkxXSwgWzIzLjUxNDk3OCwgMzUuMjc5OTkyXSwgWzIzLjY5OTk4LCAzNS43MDUwMDRdXV0sIFtbWzI2LjYwNDE5NiwgNDEuNTYyMTE1XSwgWzI2LjI5NDYwMiwgNDAuOTM2MjYxXSwgWzI2LjA1Njk0MiwgNDAuODI0MTIzXSwgWzI1LjQ0NzY3NywgNDAuODUyNTQ1XSwgWzI0LjkyNTg0OCwgNDAuOTQ3MDYyXSwgWzIzLjcxNDgxMSwgNDAuNjg3MTI5XSwgWzI0LjQwNzk5OSwgNDAuMTI0OTkzXSwgWzIzLjg5OTk2OCwgMzkuOTYyMDA2XSwgWzIzLjM0Mjk5OSwgMzkuOTYwOTk4XSwgWzIyLjgxMzk4OCwgNDAuNDc2MDA1XSwgWzIyLjYyNjI5OSwgNDAuMjU2NTYxXSwgWzIyLjg0OTc0OCwgMzkuNjU5MzExXSwgWzIzLjM1MDAyNywgMzkuMTkwMDExXSwgWzIyLjk3MzA5OSwgMzguOTcwOTAzXSwgWzIzLjUzMDAxNiwgMzguNTEwMDAxXSwgWzI0LjAyNTAyNSwgMzguMjE5OTkzXSwgWzI0LjA0MDAxMSwgMzcuNjU1MDE1XSwgWzIzLjExNTAwMywgMzcuOTIwMDExXSwgWzIzLjQwOTk3MiwgMzcuNDA5OTkxXSwgWzIyLjc3NDk3MiwgMzcuMzA1MDFdLCBbMjMuMTU0MjI1LCAzNi40MjI1MDZdLCBbMjIuNDkwMDI4LCAzNi40MV0sIFsyMS42NzAwMjYsIDM2Ljg0NDk4Nl0sIFsyMS4yOTUwMTEsIDM3LjY0NDk4OV0sIFsyMS4xMjAwMzQsIDM4LjMxMDMyM10sIFsyMC43MzAwMzIsIDM4Ljc2OTk4NV0sIFsyMC4yMTc3MTIsIDM5LjM0MDIzNV0sIFsyMC4xNTAwMTYsIDM5LjYyNDk5OF0sIFsyMC42MTUsIDQwLjExMDAwN10sIFsyMC42NzQ5OTcsIDQwLjQzNV0sIFsyMC45OTk5OSwgNDAuNTgwMDA0XSwgWzIxLjAyMDA0LCA0MC44NDI3MjddLCBbMjEuNjc0MTYxLCA0MC45MzEyNzVdLCBbMjIuMDU1Mzc4LCA0MS4xNDk4NjZdLCBbMjIuNTk3MzA4LCA0MS4xMzA0ODddLCBbMjIuNzYxNzcsIDQxLjMwNDhdLCBbMjIuOTUyMzc3LCA0MS4zMzc5OTRdLCBbMjMuNjkyMDc0LCA0MS4zMDkwODFdLCBbMjQuNDkyNjQ1LCA0MS41ODM4OTZdLCBbMjUuMTk3MjAxLCA0MS4yMzQ0ODZdLCBbMjYuMTA2MTM4LCA0MS4zMjg4OTldLCBbMjYuMTE3MDQyLCA0MS44MjY5MDVdLCBbMjYuNjA0MTk2LCA0MS41NjIxMTVdXV1dLCAidHlwZSI6ICJNdWx0aVBvbHlnb24ifSwgImlkIjogIkdSQyIsICJwcm9wZXJ0aWVzIjogeyJoaWdobGlnaHQiOiB7fSwgIm5hbWUiOiAiR3JlZWNlIiwgInN0eWxlIjogeyJjb2xvciI6ICJncmF5IiwgImRhc2hBcnJheSI6ICIxLCAxIiwgImZpbGxDb2xvciI6ICIjMDAwMDAwIiwgImxpbmVPcGFjaXR5IjogMC45LCAid2VpZ2h0IjogMX19LCAidHlwZSI6ICJGZWF0dXJlIn0sIHsiZ2VvbWV0cnkiOiB7ImNvb3JkaW5hdGVzIjogW1tbLTQ2Ljc2Mzc5LCA4Mi42Mjc5Nl0sIFstNDMuNDA2NDQsIDgzLjIyNTE2XSwgWy0zOS44OTc1MywgODMuMTgwMThdLCBbLTM4LjYyMjE0LCA4My41NDkwNV0sIFstMzUuMDg3ODcsIDgzLjY0NTEzXSwgWy0yNy4xMDA0NiwgODMuNTE5NjZdLCBbLTIwLjg0NTM5LCA4Mi43MjY2OV0sIFstMjIuNjkxODIsIDgyLjM0MTY1XSwgWy0yNi41MTc1MywgODIuMjk3NjVdLCBbLTMxLjksIDgyLjJdLCBbLTMxLjM5NjQ2LCA4Mi4wMjE1NF0sIFstMjcuODU2NjYsIDgyLjEzMTc4XSwgWy0yNC44NDQ0OCwgODEuNzg2OTddLCBbLTIyLjkwMzI4LCA4Mi4wOTMxN10sIFstMjIuMDcxNzUsIDgxLjczNDQ5XSwgWy0yMy4xNjk2MSwgODEuMTUyNzFdLCBbLTIwLjYyMzYzLCA4MS41MjQ2Ml0sIFstMTUuNzY4MTgsIDgxLjkxMjQ1XSwgWy0xMi43NzAxOCwgODEuNzE4ODVdLCBbLTEyLjIwODU1LCA4MS4yOTE1NF0sIFstMTYuMjg1MzMsIDgwLjU4MDA0XSwgWy0xNi44NSwgODAuMzVdLCBbLTIwLjA0NjI0LCA4MC4xNzcwOF0sIFstMTcuNzMwMzUsIDgwLjEyOTEyXSwgWy0xOC45LCA3OS40XSwgWy0xOS43MDQ5OSwgNzguNzUxMjhdLCBbLTE5LjY3MzUzLCA3Ny42Mzg1OV0sIFstMTguNDcyODUsIDc2Ljk4NTY1XSwgWy0yMC4wMzUwMywgNzYuOTQ0MzRdLCBbLTIxLjY3OTQ0LCA3Ni42Mjc5NV0sIFstMTkuODM0MDcsIDc2LjA5ODA4XSwgWy0xOS41OTg5NiwgNzUuMjQ4MzhdLCBbLTIwLjY2ODE4LCA3NS4xNTU4NV0sIFstMTkuMzcyODEsIDc0LjI5NTYxXSwgWy0yMS41OTQyMiwgNzQuMjIzODJdLCBbLTIwLjQzNDU0LCA3My44MTcxM10sIFstMjAuNzYyMzQsIDczLjQ2NDM2XSwgWy0yMi4xNzIyMSwgNzMuMzA5NTVdLCBbLTIzLjU2NTkzLCA3My4zMDY2M10sIFstMjIuMzEzMTEsIDcyLjYyOTI4XSwgWy0yMi4yOTk1NCwgNzIuMTg0MDldLCBbLTI0LjI3ODM0LCA3Mi41OTc4OF0sIFstMjQuNzkyOTYsIDcyLjMzMDJdLCBbLTIzLjQ0Mjk2LCA3Mi4wODAxNl0sIFstMjIuMTMyODEsIDcxLjQ2ODk4XSwgWy0yMS43NTM1NiwgNzAuNjYzNjldLCBbLTIzLjUzNjAzLCA3MC40NzFdLCBbLTI0LjMwNzAyLCA3MC44NTY0OV0sIFstMjUuNTQzNDEsIDcxLjQzMDk0XSwgWy0yNS4yMDEzNSwgNzAuNzUyMjZdLCBbLTI2LjM2Mjc2LCA3MC4yMjY0Nl0sIFstMjMuNzI3NDIsIDcwLjE4NDAxXSwgWy0yMi4zNDkwMiwgNzAuMTI5NDZdLCBbLTI1LjAyOTI3LCA2OS4yNTg4XSwgWy0yNy43NDczNywgNjguNDcwNDZdLCBbLTMwLjY3MzcxLCA2OC4xMjUwM10sIFstMzEuNzc2NjUsIDY4LjEyMDc4XSwgWy0zMi44MTEwNSwgNjcuNzM1NDddLCBbLTM0LjIwMTk2LCA2Ni42Nzk3NF0sIFstMzYuMzUyODQsIDY1Ljk3ODldLCBbLTM3LjA0Mzc4LCA2NS45Mzc2OF0sIFstMzguMzc1MDUsIDY1LjY5MjEzXSwgWy0zOS44MTIyMiwgNjUuNDU4NDhdLCBbLTQwLjY2ODk5LCA2NC44Mzk5N10sIFstNDAuNjgyODEsIDY0LjEzOTAyXSwgWy00MS4xODg3LCA2My40ODI0Nl0sIFstNDIuODE5MzgsIDYyLjY4MjMzXSwgWy00Mi40MTY2NiwgNjEuOTAwOTNdLCBbLTQyLjg2NjE5LCA2MS4wNzQwNF0sIFstNDMuMzc4NCwgNjAuMDk3NzJdLCBbLTQ0Ljc4NzUsIDYwLjAzNjc2XSwgWy00Ni4yNjM2NCwgNjAuODUzMjhdLCBbLTQ4LjI2Mjk0LCA2MC44NTg0M10sIFstNDkuMjMzMDgsIDYxLjQwNjgxXSwgWy00OS45MDAzOSwgNjIuMzgzMzZdLCBbLTUxLjYzMzI1LCA2My42MjY5MV0sIFstNTIuMTQwMTQsIDY0LjI3ODQyXSwgWy01Mi4yNzY1OSwgNjUuMTc2N10sIFstNTMuNjYxNjYsIDY2LjA5OTU3XSwgWy01My4zMDE2MSwgNjYuODM2NV0sIFstNTMuOTY5MTEsIDY3LjE4ODk5XSwgWy01Mi45ODA0LCA2OC4zNTc1OV0sIFstNTEuNDc1MzYsIDY4LjcyOTU4XSwgWy01MS4wODA0MSwgNjkuMTQ3ODFdLCBbLTUwLjg3MTIyLCA2OS45MjkxXSwgWy01Mi4wMTM1ODUsIDY5LjU3NDkyNV0sIFstNTIuNTU3OTIsIDY5LjQyNjE2XSwgWy01My40NTYyOSwgNjkuMjgzNjI1XSwgWy01NC42ODMzNiwgNjkuNjEwMDNdLCBbLTU0Ljc1MDAxLCA3MC4yODkzMl0sIFstNTQuMzU4ODQsIDcwLjgyMTMxNV0sIFstNTMuNDMxMzE1LCA3MC44MzU3NTVdLCBbLTUxLjM5MDE0LCA3MC41Njk3OF0sIFstNTMuMTA5MzcsIDcxLjIwNDg1XSwgWy01NC4wMDQyMiwgNzEuNTQ3MTldLCBbLTU1LCA3MS40MDY1MzddLCBbLTU1LjgzNDY4LCA3MS42NTQ0NF0sIFstNTQuNzE4MTksIDcyLjU4NjI1XSwgWy01NS4zMjYzNCwgNzIuOTU4NjFdLCBbLTU2LjEyMDAzLCA3My42NDk3N10sIFstNTcuMzIzNjMsIDc0LjcxMDI2XSwgWy01OC41OTY3OSwgNzUuMDk4NjFdLCBbLTU4LjU4NTE2LCA3NS41MTcyN10sIFstNjEuMjY4NjEsIDc2LjEwMjM4XSwgWy02My4zOTE2NSwgNzYuMTc1Ml0sIFstNjYuMDY0MjcsIDc2LjEzNDg2XSwgWy02OC41MDQzOCwgNzYuMDYxNDFdLCBbLTY5LjY2NDg1LCA3Ni4zNzk3NV0sIFstNzEuNDAyNTcsIDc3LjAwODU3XSwgWy02OC43NzY3MSwgNzcuMzIzMTJdLCBbLTY2Ljc2Mzk3LCA3Ny4zNzU5NV0sIFstNzEuMDQyOTMsIDc3LjYzNTk1XSwgWy03My4yOTcsIDc4LjA0NDE5XSwgWy03My4xNTkzOCwgNzguNDMyNzFdLCBbLTY5LjM3MzQ1LCA3OC45MTM4OF0sIFstNjUuNzEwNywgNzkuMzk0MzZdLCBbLTY1LjMyMzksIDc5Ljc1ODE0XSwgWy02OC4wMjI5OCwgODAuMTE3MjFdLCBbLTY3LjE1MTI5LCA4MC41MTU4Ml0sIFstNjMuNjg5MjUsIDgxLjIxMzk2XSwgWy02Mi4yMzQ0NCwgODEuMzIxMV0sIFstNjIuNjUxMTYsIDgxLjc3MDQyXSwgWy02MC4yODI0OSwgODIuMDMzNjNdLCBbLTU3LjIwNzQ0LCA4Mi4xOTA3NF0sIFstNTQuMTM0NDIsIDgyLjE5OTYyXSwgWy01My4wNDMyOCwgODEuODg4MzNdLCBbLTUwLjM5MDYxLCA4Mi40Mzg4M10sIFstNDguMDAzODYsIDgyLjA2NDgxXSwgWy00Ni41OTk4NCwgODEuOTg1OTQ1XSwgWy00NC41MjMsIDgxLjY2MDddLCBbLTQ2LjkwMDcsIDgyLjE5OTc5XSwgWy00Ni43NjM3OSwgODIuNjI3OTZdXV0sICJ0eXBlIjogIlBvbHlnb24ifSwgImlkIjogIkdSTCIsICJwcm9wZXJ0aWVzIjogeyJoaWdobGlnaHQiOiB7fSwgIm5hbWUiOiAiR3JlZW5sYW5kIiwgInN0eWxlIjogeyJjb2xvciI6ICJncmF5IiwgImRhc2hBcnJheSI6ICIxLCAxIiwgImZpbGxDb2xvciI6ICIjMDAwMDAwIiwgImxpbmVPcGFjaXR5IjogMC45LCAid2VpZ2h0IjogMX19LCAidHlwZSI6ICJGZWF0dXJlIn0sIHsiZ2VvbWV0cnkiOiB7ImNvb3JkaW5hdGVzIjogW1tbLTkwLjA5NTU1NSwgMTMuNzM1MzM4XSwgWy05MC42MDg2MjQsIDEzLjkwOTc3MV0sIFstOTEuMjMyNDEsIDEzLjkyNzgzMl0sIFstOTEuNjg5NzQ3LCAxNC4xMjYyMThdLCBbLTkyLjIyNzc1LCAxNC41Mzg4MjldLCBbLTkyLjIwMzIzLCAxNC44MzAxMDNdLCBbLTkyLjA4NzIxNiwgMTUuMDY0NTg1XSwgWy05Mi4yMjkyNDksIDE1LjI1MTQ0N10sIFstOTEuNzQ3OTYsIDE2LjA2NjU2NV0sIFstOTAuNDY0NDczLCAxNi4wNjk1NjJdLCBbLTkwLjQzODg2NywgMTYuNDEwMTFdLCBbLTkwLjYwMDg0NywgMTYuNDcwNzc4XSwgWy05MC43MTE4MjIsIDE2LjY4NzQ4M10sIFstOTEuMDgxNjcsIDE2LjkxODQ3N10sIFstOTEuNDUzOTIxLCAxNy4yNTIxNzddLCBbLTkxLjAwMjI2OSwgMTcuMjU0NjU4XSwgWy05MS4wMDE1MiwgMTcuODE3NTk1XSwgWy05MC4wNjc5MzQsIDE3LjgxOTMyNl0sIFstODkuMTQzMDgsIDE3LjgwODMxOV0sIFstODkuMTUwODA2LCAxNy4wMTU1NzddLCBbLTg5LjIyOTEyMiwgMTUuODg2OTM4XSwgWy04OC45MzA2MTMsIDE1Ljg4NzI3M10sIFstODguNjA0NTg2LCAxNS43MDYzOF0sIFstODguNTE4MzY0LCAxNS44NTUzODldLCBbLTg4LjIyNTAyMywgMTUuNzI3NzIyXSwgWy04OC42ODA2OCwgMTUuMzQ2MjQ3XSwgWy04OS4xNTQ4MTEsIDE1LjA2NjQxOV0sIFstODkuMjI1MjIsIDE0Ljg3NDI4Nl0sIFstODkuMTQ1NTM1LCAxNC42NzgwMTldLCBbLTg5LjM1MzMyNiwgMTQuNDI0MTMzXSwgWy04OS41ODczNDMsIDE0LjM2MjU4Nl0sIFstODkuNTM0MjE5LCAxNC4yNDQ4MTZdLCBbLTg5LjcyMTkzNCwgMTQuMTM0MjI4XSwgWy05MC4wNjQ2NzgsIDEzLjg4MTk3XSwgWy05MC4wOTU1NTUsIDEzLjczNTMzOF1dXSwgInR5cGUiOiAiUG9seWdvbiJ9LCAiaWQiOiAiR1RNIiwgInByb3BlcnRpZXMiOiB7ImhpZ2hsaWdodCI6IHt9LCAibmFtZSI6ICJHdWF0ZW1hbGEiLCAic3R5bGUiOiB7ImNvbG9yIjogImdyYXkiLCAiZGFzaEFycmF5IjogIjEsIDEiLCAiZmlsbENvbG9yIjogIiMwMDAwMDAiLCAibGluZU9wYWNpdHkiOiAwLjksICJ3ZWlnaHQiOiAxfX0sICJ0eXBlIjogIkZlYXR1cmUifSwgeyJnZW9tZXRyeSI6IHsiY29vcmRpbmF0ZXMiOiBbW1stNTIuNTU2NDI1LCAyLjUwNDcwNV0sIFstNTIuOTM5NjU3LCAyLjEyNDg1OF0sIFstNTMuNDE4NDY1LCAyLjA1MzM4OV0sIFstNTMuNTU0ODM5LCAyLjMzNDg5N10sIFstNTMuNzc4NTIxLCAyLjM3NjcwM10sIFstNTQuMDg4MDYzLCAyLjEwNTU1N10sIFstNTQuNTI0NzU0LCAyLjMxMTg0OV0sIFstNTQuMjcxMjMsIDIuNzM4NzQ4XSwgWy01NC4xODQyODQsIDMuMTk0MTcyXSwgWy01NC4wMTE1MDQsIDMuNjIyNTddLCBbLTU0LjM5OTU0MiwgNC4yMTI2MTFdLCBbLTU0LjQ3ODYzMywgNC44OTY3NTZdLCBbLTUzLjk1ODA0NSwgNS43NTY1NDhdLCBbLTUzLjYxODQ1MywgNS42NDY1MjldLCBbLTUyLjg4MjE0MSwgNS40MDk4NTFdLCBbLTUxLjgyMzM0MywgNC41NjU3NjhdLCBbLTUxLjY1Nzc5NywgNC4xNTYyMzJdLCBbLTUyLjI0OTMzOCwgMy4yNDEwOTRdLCBbLTUyLjU1NjQyNSwgMi41MDQ3MDVdXV0sICJ0eXBlIjogIlBvbHlnb24ifSwgImlkIjogIkdVRiIsICJwcm9wZXJ0aWVzIjogeyJoaWdobGlnaHQiOiB7fSwgIm5hbWUiOiAiRnJlbmNoIEd1aWFuYSIsICJzdHlsZSI6IHsiY29sb3IiOiAiZ3JheSIsICJkYXNoQXJyYXkiOiAiMSwgMSIsICJmaWxsQ29sb3IiOiAiIzAwMDAwMCIsICJsaW5lT3BhY2l0eSI6IDAuOSwgIndlaWdodCI6IDF9fSwgInR5cGUiOiAiRmVhdHVyZSJ9LCB7Imdlb21ldHJ5IjogeyJjb29yZGluYXRlcyI6IFtbWy01OS43NTgyODUsIDguMzY3MDM1XSwgWy01OS4xMDE2ODQsIDcuOTk5MjAyXSwgWy01OC40ODI5NjIsIDcuMzQ3NjkxXSwgWy01OC40NTQ4NzYsIDYuODMyNzg3XSwgWy01OC4wNzgxMDMsIDYuODA5MDk0XSwgWy01Ny41NDIyMTksIDYuMzIxMjY4XSwgWy01Ny4xNDc0MzYsIDUuOTczMTVdLCBbLTU3LjMwNzI0NiwgNS4wNzM1NjddLCBbLTU3LjkxNDI4OSwgNC44MTI2MjZdLCBbLTU3Ljg2MDIxLCA0LjU3NjgwMV0sIFstNTguMDQ0Njk0LCA0LjA2MDg2NF0sIFstNTcuNjAxNTY5LCAzLjMzNDY1NV0sIFstNTcuMjgxNDMzLCAzLjMzMzQ5Ml0sIFstNTcuMTUwMDk4LCAyLjc2ODkyN10sIFstNTYuNTM5Mzg2LCAxLjg5OTUyM10sIFstNTYuNzgyNzA0LCAxLjg2MzcxMV0sIFstNTcuMzM1ODIzLCAxLjk0ODUzOF0sIFstNTcuNjYwOTcxLCAxLjY4MjU4NV0sIFstNTguMTEzNDUsIDEuNTA3MTk1XSwgWy01OC40Mjk0NzcsIDEuNDYzOTQyXSwgWy01OC41NDAwMTMsIDEuMjY4MDg4XSwgWy01OS4wMzA4NjIsIDEuMzE3Njk4XSwgWy01OS42NDYwNDQsIDEuNzg2ODk0XSwgWy01OS43MTg1NDYsIDIuMjQ5NjNdLCBbLTU5Ljk3NDUyNSwgMi43NTUyMzNdLCBbLTU5LjgxNTQxMywgMy42MDY0OTldLCBbLTU5LjUzODA0LCAzLjk1ODgwM10sIFstNTkuNzY3NDA2LCA0LjQyMzUwM10sIFstNjAuMTExMDAyLCA0LjU3NDk2N10sIFstNTkuOTgwOTU5LCA1LjAxNDA2MV0sIFstNjAuMjEzNjgzLCA1LjI0NDQ4Nl0sIFstNjAuNzMzNTc0LCA1LjIwMDI3N10sIFstNjEuNDEwMzAzLCA1Ljk1OTA2OF0sIFstNjEuMTM5NDE1LCA2LjIzNDI5N10sIFstNjEuMTU5MzM2LCA2LjY5NjA3N10sIFstNjAuNTQzOTk5LCA2Ljg1NjU4NF0sIFstNjAuMjk1NjY4LCA3LjA0MzkxMV0sIFstNjAuNjM3OTczLCA3LjQxNV0sIFstNjAuNTUwNTg4LCA3Ljc3OTYwM10sIFstNTkuNzU4Mjg1LCA4LjM2NzAzNV1dXSwgInR5cGUiOiAiUG9seWdvbiJ9LCAiaWQiOiAiR1VZIiwgInByb3BlcnRpZXMiOiB7ImhpZ2hsaWdodCI6IHt9LCAibmFtZSI6ICJHdXlhbmEiLCAic3R5bGUiOiB7ImNvbG9yIjogImdyYXkiLCAiZGFzaEFycmF5IjogIjEsIDEiLCAiZmlsbENvbG9yIjogIiMwMDAwMDAiLCAibGluZU9wYWNpdHkiOiAwLjksICJ3ZWlnaHQiOiAxfX0sICJ0eXBlIjogIkZlYXR1cmUifSwgeyJnZW9tZXRyeSI6IHsiY29vcmRpbmF0ZXMiOiBbW1stODcuMzE2NjU0LCAxMi45ODQ2ODZdLCBbLTg3LjQ4OTQwOSwgMTMuMjk3NTM1XSwgWy04Ny43OTMxMTEsIDEzLjM4NDQ4XSwgWy04Ny43MjM1MDMsIDEzLjc4NTA1XSwgWy04Ny44NTk1MTUsIDEzLjg5MzMxMl0sIFstODguMDY1MzQzLCAxMy45NjQ2MjZdLCBbLTg4LjUwMzk5OCwgMTMuODQ1NDg2XSwgWy04OC41NDEyMzEsIDEzLjk4MDE1NV0sIFstODguODQzMDczLCAxNC4xNDA1MDddLCBbLTg5LjA1ODUxMiwgMTQuMzQwMDI5XSwgWy04OS4zNTMzMjYsIDE0LjQyNDEzM10sIFstODkuMTQ1NTM1LCAxNC42NzgwMTldLCBbLTg5LjIyNTIyLCAxNC44NzQyODZdLCBbLTg5LjE1NDgxMSwgMTUuMDY2NDE5XSwgWy04OC42ODA2OCwgMTUuMzQ2MjQ3XSwgWy04OC4yMjUwMjMsIDE1LjcyNzcyMl0sIFstODguMTIxMTUzLCAxNS42ODg2NTVdLCBbLTg3LjkwMTgxMywgMTUuODY0NDU4XSwgWy04Ny42MTU2OCwgMTUuODc4Nzk5XSwgWy04Ny41MjI5MjEsIDE1Ljc5NzI3OV0sIFstODcuMzY3NzYyLCAxNS44NDY5NF0sIFstODYuOTAzMTkxLCAxNS43NTY3MTNdLCBbLTg2LjQ0MDk0NiwgMTUuNzgyODM1XSwgWy04Ni4xMTkyMzQsIDE1Ljg5MzQ0OV0sIFstODYuMDAxOTU0LCAxNi4wMDU0MDZdLCBbLTg1LjY4MzMxNywgMTUuOTUzNjUyXSwgWy04NS40NDQwMDQsIDE1Ljg4NTc0OV0sIFstODUuMTgyNDQ0LCAxNS45MDkxNThdLCBbLTg0Ljk4MzcyMiwgMTUuOTk1OTIzXSwgWy04NC41MjY5OCwgMTUuODU3MjI0XSwgWy04NC4zNjgyNTYsIDE1LjgzNTE1OF0sIFstODQuMDYzMDU1LCAxNS42NDgyNDRdLCBbLTgzLjc3Mzk3NywgMTUuNDI0MDcyXSwgWy04My40MTAzODEsIDE1LjI3MDkwM10sIFstODMuMTQ3MjE5LCAxNC45OTU4MjldLCBbLTgzLjQ4OTk4OSwgMTUuMDE2MjY3XSwgWy04My42Mjg1ODUsIDE0Ljg4MDA3NF0sIFstODMuOTc1NzIxLCAxNC43NDk0MzZdLCBbLTg0LjIyODM0MiwgMTQuNzQ4NzY0XSwgWy04NC40NDkzMzYsIDE0LjYyMTYxNF0sIFstODQuNjQ5NTgyLCAxNC42NjY4MDVdLCBbLTg0LjgyMDAzNywgMTQuODE5NTg3XSwgWy04NC45MjQ1MDEsIDE0Ljc5MDQ5M10sIFstODUuMDUyNzg3LCAxNC41NTE1NDFdLCBbLTg1LjE0ODc1MSwgMTQuNTYwMTk3XSwgWy04NS4xNjUzNjUsIDE0LjM1NDM3XSwgWy04NS41MTQ0MTMsIDE0LjA3OTAxMl0sIFstODUuNjk4NjY1LCAxMy45NjAwNzhdLCBbLTg1LjgwMTI5NSwgMTMuODM2MDU1XSwgWy04Ni4wOTYyNjQsIDE0LjAzODE4N10sIFstODYuMzEyMTQyLCAxMy43NzEzNTZdLCBbLTg2LjUyMDcwOCwgMTMuNzc4NDg3XSwgWy04Ni43NTUwODcsIDEzLjc1NDg0NV0sIFstODYuNzMzODIyLCAxMy4yNjMwOTNdLCBbLTg2Ljg4MDU1NywgMTMuMjU0MjA0XSwgWy04Ny4wMDU3NjksIDEzLjAyNTc5NF0sIFstODcuMzE2NjU0LCAxMi45ODQ2ODZdXV0sICJ0eXBlIjogIlBvbHlnb24ifSwgImlkIjogIkhORCIsICJwcm9wZXJ0aWVzIjogeyJoaWdobGlnaHQiOiB7fSwgIm5hbWUiOiAiSG9uZHVyYXMiLCAic3R5bGUiOiB7ImNvbG9yIjogImdyYXkiLCAiZGFzaEFycmF5IjogIjEsIDEiLCAiZmlsbENvbG9yIjogIiMwMDAwMDAiLCAibGluZU9wYWNpdHkiOiAwLjksICJ3ZWlnaHQiOiAxfX0sICJ0eXBlIjogIkZlYXR1cmUifSwgeyJnZW9tZXRyeSI6IHsiY29vcmRpbmF0ZXMiOiBbW1sxOC44Mjk4MzgsIDQ1LjkwODg3OF0sIFsxOS4wNzI3NjksIDQ1LjUyMTUxMV0sIFsxOS4zOTA0NzYsIDQ1LjIzNjUxNl0sIFsxOS4wMDU0ODYsIDQ0Ljg2MDIzNF0sIFsxOC41NTMyMTQsIDQ1LjA4MTU5XSwgWzE3Ljg2MTc4MywgNDUuMDY3NzRdLCBbMTcuMDAyMTQ2LCA0NS4yMzM3NzddLCBbMTYuNTM0OTM5LCA0NS4yMTE2MDhdLCBbMTYuMzE4MTU3LCA0NS4wMDQxMjddLCBbMTUuOTU5MzY3LCA0NS4yMzM3NzddLCBbMTUuNzUwMDI2LCA0NC44MTg3MTJdLCBbMTYuMjM5NjYsIDQ0LjM1MTE0M10sIFsxNi40NTY0NDMsIDQ0LjA0MTI0XSwgWzE2LjkxNjE1NiwgNDMuNjY3NzIyXSwgWzE3LjI5NzM3MywgNDMuNDQ2MzQxXSwgWzE3LjY3NDkyMiwgNDMuMDI4NTYzXSwgWzE4LjU2LCA0Mi42NV0sIFsxOC40NTAwMTYsIDQyLjQ3OTk5MV0sIFsxNy41MDk5NywgNDIuODQ5OTk1XSwgWzE2LjkzMDAwNiwgNDMuMjA5OTk4XSwgWzE2LjAxNTM4NSwgNDMuNTA3MjE1XSwgWzE1LjE3NDQ1NCwgNDQuMjQzMTkxXSwgWzE1LjM3NjI1LCA0NC4zMTc5MTVdLCBbMTQuOTIwMzA5LCA0NC43Mzg0ODRdLCBbMTQuOTAxNjAyLCA0NS4wNzYwNl0sIFsxNC4yNTg3NDgsIDQ1LjIzMzc3N10sIFsxMy45NTIyNTUsIDQ0LjgwMjEyNF0sIFsxMy42NTY5NzYsIDQ1LjEzNjkzNV0sIFsxMy42Nzk0MDMsIDQ1LjQ4NDE0OV0sIFsxMy43MTUwNiwgNDUuNTAwMzI0XSwgWzE0LjQxMTk2OCwgNDUuNDY2MTY2XSwgWzE0LjU5NTEwOSwgNDUuNjM0OTQxXSwgWzE0LjkzNTI0NCwgNDUuNDcxNjk1XSwgWzE1LjMyNzY3NSwgNDUuNDUyMzE2XSwgWzE1LjMyMzk1NCwgNDUuNzMxNzgzXSwgWzE1LjY3MTUzLCA0NS44MzQxNTRdLCBbMTUuNzY4NzMzLCA0Ni4yMzgxMDhdLCBbMTYuNTY0ODA4LCA0Ni41MDM3NTFdLCBbMTYuODgyNTE1LCA0Ni4zODA2MzJdLCBbMTcuNjMwMDY2LCA0NS45NTE3NjldLCBbMTguNDU2MDYyLCA0NS43NTk0ODFdLCBbMTguODI5ODM4LCA0NS45MDg4NzhdXV0sICJ0eXBlIjogIlBvbHlnb24ifSwgImlkIjogIkhSViIsICJwcm9wZXJ0aWVzIjogeyJoaWdobGlnaHQiOiB7fSwgIm5hbWUiOiAiQ3JvYXRpYSIsICJzdHlsZSI6IHsiY29sb3IiOiAiZ3JheSIsICJkYXNoQXJyYXkiOiAiMSwgMSIsICJmaWxsQ29sb3IiOiAiIzAwMDAwMCIsICJsaW5lT3BhY2l0eSI6IDAuOSwgIndlaWdodCI6IDF9fSwgInR5cGUiOiAiRmVhdHVyZSJ9LCB7Imdlb21ldHJ5IjogeyJjb29yZGluYXRlcyI6IFtbWy03My4xODk3OTEsIDE5LjkxNTY4NF0sIFstNzIuNTc5NjczLCAxOS44NzE1MDFdLCBbLTcxLjcxMjM2MSwgMTkuNzE0NDU2XSwgWy03MS42MjQ4NzMsIDE5LjE2OTgzOF0sIFstNzEuNzAxMzAzLCAxOC43ODU0MTddLCBbLTcxLjk0NTExMiwgMTguNjE2OV0sIFstNzEuNjg3NzM4LCAxOC4zMTY2Nl0sIFstNzEuNzA4MzA1LCAxOC4wNDQ5OTddLCBbLTcyLjM3MjQ3NiwgMTguMjE0OTYxXSwgWy03Mi44NDQ0MTEsIDE4LjE0NTYxMV0sIFstNzMuNDU0NTU1LCAxOC4yMTc5MDZdLCBbLTczLjkyMjQzMywgMTguMDMwOTkzXSwgWy03NC40NTgwMzQsIDE4LjM0MjU1XSwgWy03NC4zNjk5MjUsIDE4LjY2NDkwOF0sIFstNzMuNDQ5NTQyLCAxOC41MjYwNTNdLCBbLTcyLjY5NDkzNywgMTguNDQ1Nzk5XSwgWy03Mi4zMzQ4ODIsIDE4LjY2ODQyMl0sIFstNzIuNzkxNjUsIDE5LjEwMTYyNV0sIFstNzIuNzg0MTA1LCAxOS40ODM1OTFdLCBbLTczLjQxNTAyMiwgMTkuNjM5NTUxXSwgWy03My4xODk3OTEsIDE5LjkxNTY4NF1dXSwgInR5cGUiOiAiUG9seWdvbiJ9LCAiaWQiOiAiSFRJIiwgInByb3BlcnRpZXMiOiB7ImhpZ2hsaWdodCI6IHt9LCAibmFtZSI6ICJIYWl0aSIsICJzdHlsZSI6IHsiY29sb3IiOiAiZ3JheSIsICJkYXNoQXJyYXkiOiAiMSwgMSIsICJmaWxsQ29sb3IiOiAiIzAwMDAwMCIsICJsaW5lT3BhY2l0eSI6IDAuOSwgIndlaWdodCI6IDF9fSwgInR5cGUiOiAiRmVhdHVyZSJ9LCB7Imdlb21ldHJ5IjogeyJjb29yZGluYXRlcyI6IFtbWzE2LjIwMjI5OCwgNDYuODUyMzg2XSwgWzE2LjUzNDI2OCwgNDcuNDk2MTcxXSwgWzE2LjM0MDU4NCwgNDcuNzEyOTAyXSwgWzE2LjkwMzc1NCwgNDcuNzE0ODY2XSwgWzE2Ljk3OTY2NywgNDguMTIzNDk3XSwgWzE3LjQ4ODQ3MywgNDcuODY3NDY2XSwgWzE3Ljg1NzEzMywgNDcuNzU4NDI5XSwgWzE4LjY5NjUxMywgNDcuODgwOTU0XSwgWzE4Ljc3NzAyNSwgNDguMDgxNzY4XSwgWzE5LjE3NDM2NSwgNDguMTExMzc5XSwgWzE5LjY2MTM2NCwgNDguMjY2NjE1XSwgWzE5Ljc2OTQ3MSwgNDguMjAyNjkxXSwgWzIwLjIzOTA1NCwgNDguMzI3NTY3XSwgWzIwLjQ3MzU2MiwgNDguNTYyODVdLCBbMjAuODAxMjk0LCA0OC42MjM4NTRdLCBbMjEuODcyMjM2LCA0OC4zMTk5NzFdLCBbMjIuMDg1NjA4LCA0OC40MjIyNjRdLCBbMjIuNjQwODIsIDQ4LjE1MDI0XSwgWzIyLjcxMDUzMSwgNDcuODgyMTk0XSwgWzIyLjA5OTc2OCwgNDcuNjcyNDM5XSwgWzIxLjYyNjUxNSwgNDYuOTk0MjM4XSwgWzIxLjAyMTk1MiwgNDYuMzE2MDg4XSwgWzIwLjIyMDE5MiwgNDYuMTI3NDY5XSwgWzE5LjU5NjA0NSwgNDYuMTcxNzNdLCBbMTguODI5ODM4LCA0NS45MDg4NzhdLCBbMTguNDU2MDYyLCA0NS43NTk0ODFdLCBbMTcuNjMwMDY2LCA0NS45NTE3NjldLCBbMTYuODgyNTE1LCA0Ni4zODA2MzJdLCBbMTYuNTY0ODA4LCA0Ni41MDM3NTFdLCBbMTYuMzcwNTA1LCA0Ni44NDEzMjddLCBbMTYuMjAyMjk4LCA0Ni44NTIzODZdXV0sICJ0eXBlIjogIlBvbHlnb24ifSwgImlkIjogIkhVTiIsICJwcm9wZXJ0aWVzIjogeyJoaWdobGlnaHQiOiB7fSwgIm5hbWUiOiAiSHVuZ2FyeSIsICJzdHlsZSI6IHsiY29sb3IiOiAiZ3JheSIsICJkYXNoQXJyYXkiOiAiMSwgMSIsICJmaWxsQ29sb3IiOiAiIzAwMDAwMCIsICJsaW5lT3BhY2l0eSI6IDAuOSwgIndlaWdodCI6IDF9fSwgInR5cGUiOiAiRmVhdHVyZSJ9LCB7Imdlb21ldHJ5IjogeyJjb29yZGluYXRlcyI6IFtbW1sxMjAuNzE1NjA5LCAtMTAuMjM5NTgxXSwgWzEyMC4yOTUwMTQsIC0xMC4yNTg2NV0sIFsxMTguOTY3ODA4LCAtOS41NTc5NjldLCBbMTE5LjkwMDMxLCAtOS4zNjEzNF0sIFsxMjAuNDI1NzU2LCAtOS42NjU5MjFdLCBbMTIwLjc3NTUwMiwgLTkuOTY5Njc1XSwgWzEyMC43MTU2MDksIC0xMC4yMzk1ODFdXV0sIFtbWzEyNC40MzU5NSwgLTEwLjE0MDAwMV0sIFsxMjMuNTc5OTgyLCAtMTAuMzU5OTg3XSwgWzEyMy40NTk5ODksIC0xMC4yMzk5OTVdLCBbMTIzLjU1MDAwOSwgLTkuOTAwMDE2XSwgWzEyMy45ODAwMDksIC05LjI5MDAyN10sIFsxMjQuOTY4NjgyLCAtOC44OTI3OV0sIFsxMjUuMDcwMDIsIC05LjA4OTk4N10sIFsxMjUuMDg4NTIsIC05LjM5MzE3M10sIFsxMjQuNDM1OTUsIC0xMC4xNDAwMDFdXV0sIFtbWzExNy45MDAwMTgsIC04LjA5NTY4MV0sIFsxMTguMjYwNjE2LCAtOC4zNjIzODNdLCBbMTE4Ljg3ODQ2LCAtOC4yODA2ODNdLCBbMTE5LjEyNjUwNywgLTguNzA1ODI1XSwgWzExNy45NzA0MDIsIC04LjkwNjYzOV0sIFsxMTcuMjc3NzMxLCAtOS4wNDA4OTVdLCBbMTE2Ljc0MDE0MSwgLTkuMDMyOTM3XSwgWzExNy4wODM3MzcsIC04LjQ1NzE1OF0sIFsxMTcuNjMyMDI0LCAtOC40NDkzMDNdLCBbMTE3LjkwMDAxOCwgLTguMDk1NjgxXV1dLCBbW1sxMjIuOTAzNTM3LCAtOC4wOTQyMzRdLCBbMTIyLjc1Njk4MywgLTguNjQ5ODA4XSwgWzEyMS4yNTQ0OTEsIC04LjkzMzY2Nl0sIFsxMTkuOTI0MzkxLCAtOC44MTA0MThdLCBbMTE5LjkyMDkyOSwgLTguNDQ0ODU5XSwgWzEyMC43MTUwOTIsIC04LjIzNjk2NV0sIFsxMjEuMzQxNjY5LCAtOC41MzY3NF0sIFsxMjIuMDA3MzY1LCAtOC40NjA2Ml0sIFsxMjIuOTAzNTM3LCAtOC4wOTQyMzRdXV0sIFtbWzEwOC42MjM0NzksIC02Ljc3NzY3NF0sIFsxMTAuNTM5MjI3LCAtNi44NzczNThdLCBbMTEwLjc1OTU3NiwgLTYuNDY1MTg2XSwgWzExMi42MTQ4MTEsIC02Ljk0NjAzNl0sIFsxMTIuOTc4NzY4LCAtNy41OTQyMTNdLCBbMTE0LjQ3ODkzNSwgLTcuNzc2NTI4XSwgWzExNS43MDU1MjcsIC04LjM3MDgwN10sIFsxMTQuNTY0NTExLCAtOC43NTE4MTddLCBbMTEzLjQ2NDczNCwgLTguMzQ4OTQ3XSwgWzExMi41NTk2NzIsIC04LjM3NjE4MV0sIFsxMTEuNTIyMDYxLCAtOC4zMDIxMjldLCBbMTEwLjU4NjE1LCAtOC4xMjI2MDVdLCBbMTA5LjQyNzY2NywgLTcuNzQwNjY0XSwgWzEwOC42OTM2NTUsIC03LjY0MTZdLCBbMTA4LjI3Nzc2MywgLTcuNzY2NjU3XSwgWzEwNi40NTQxMDIsIC03LjM1NDldLCBbMTA2LjI4MDYyNCwgLTYuOTI0OV0sIFsxMDUuMzY1NDg2LCAtNi44NTE0MTZdLCBbMTA2LjA1MTY0NiwgLTUuODk1OTE5XSwgWzEwNy4yNjUwMDksIC01Ljk1NDk4NV0sIFsxMDguMDcyMDkxLCAtNi4zNDU3NjJdLCBbMTA4LjQ4Njg0NiwgLTYuNDIxOTg1XSwgWzEwOC42MjM0NzksIC02Ljc3NzY3NF1dXSwgW1tbMTM0LjcyNDYyNCwgLTYuMjE0NDAxXSwgWzEzNC4yMTAxMzQsIC02Ljg5NTIzOF0sIFsxMzQuMTEyNzc2LCAtNi4xNDI0NjddLCBbMTM0LjI5MDMzNiwgLTUuNzgzMDU4XSwgWzEzNC40OTk2MjUsIC01LjQ0NTA0Ml0sIFsxMzQuNzI3MDAyLCAtNS43Mzc1ODJdLCBbMTM0LjcyNDYyNCwgLTYuMjE0NDAxXV1dLCBbW1sxMjcuMjQ5MjE1LCAtMy40NTkwNjVdLCBbMTI2Ljg3NDkyMywgLTMuNzkwOTgzXSwgWzEyNi4xODM4MDIsIC0zLjYwNzM3Nl0sIFsxMjUuOTg5MDM0LCAtMy4xNzcyNzNdLCBbMTI3LjAwMDY1MSwgLTMuMTI5MzE4XSwgWzEyNy4yNDkyMTUsIC0zLjQ1OTA2NV1dXSwgW1tbMTMwLjQ3MTM0NCwgLTMuMDkzNzY0XSwgWzEzMC44MzQ4MzYsIC0zLjg1ODQ3Ml0sIFsxMjkuOTkwNTQ3LCAtMy40NDYzMDFdLCBbMTI5LjE1NTI0OSwgLTMuMzYyNjM3XSwgWzEyOC41OTA2ODQsIC0zLjQyODY3OV0sIFsxMjcuODk4ODkxLCAtMy4zOTM0MzZdLCBbMTI4LjEzNTg3OSwgLTIuODQzNjVdLCBbMTI5LjM3MDk5OCwgLTIuODAyMTU0XSwgWzEzMC40NzEzNDQsIC0zLjA5Mzc2NF1dXSwgW1tbMTM0LjE0MzM2OCwgLTEuMTUxODY3XSwgWzEzNC40MjI2MjcsIC0yLjc2OTE4NV0sIFsxMzUuNDU3NjAzLCAtMy4zNjc3NTNdLCBbMTM2LjI5MzMxNCwgLTIuMzA3MDQyXSwgWzEzNy40NDA3MzgsIC0xLjcwMzUxM10sIFsxMzguMzI5NzI3LCAtMS43MDI2ODZdLCBbMTM5LjE4NDkyMSwgLTIuMDUxMjk2XSwgWzEzOS45MjY2ODQsIC0yLjQwOTA1Ml0sIFsxNDEuMDAwMjEsIC0yLjYwMDE1MV0sIFsxNDEuMDE3MDU3LCAtNS44NTkwMjJdLCBbMTQxLjAzMzg1MiwgLTkuMTE3ODkzXSwgWzE0MC4xNDM0MTUsIC04LjI5NzE2OF0sIFsxMzkuMTI3NzY3LCAtOC4wOTYwNDNdLCBbMTM4Ljg4MTQ3NywgLTguMzgwOTM1XSwgWzEzNy42MTQ0NzQsIC04LjQxMTY4M10sIFsxMzguMDM5MDk5LCAtNy41OTc4ODJdLCBbMTM4LjY2ODYyMSwgLTcuMzIwMjI1XSwgWzEzOC40MDc5MTQsIC02LjIzMjg0OV0sIFsxMzcuOTI3ODQsIC01LjM5MzM2Nl0sIFsxMzUuOTg5MjUsIC00LjU0NjU0NF0sIFsxMzUuMTY0NTk4LCAtNC40NjI5MzFdLCBbMTMzLjY2Mjg4LCAtMy41Mzg4NTNdLCBbMTMzLjM2NzcwNSwgLTQuMDI0ODE5XSwgWzEzMi45ODM5NTYsIC00LjExMjk3OV0sIFsxMzIuNzU2OTQxLCAtMy43NDYyODNdLCBbMTMyLjc1Mzc4OSwgLTMuMzExNzg3XSwgWzEzMS45ODk4MDQsIC0yLjgyMDU1MV0sIFsxMzMuMDY2ODQ1LCAtMi40NjA0MThdLCBbMTMzLjc4MDAzMSwgLTIuNDc5ODQ4XSwgWzEzMy42OTYyMTIsIC0yLjIxNDU0Ml0sIFsxMzIuMjMyMzczLCAtMi4yMTI1MjZdLCBbMTMxLjgzNjIyMiwgLTEuNjE3MTYyXSwgWzEzMC45NDI4NCwgLTEuNDMyNTIyXSwgWzEzMC41MTk1NTgsIC0wLjkzNzcyXSwgWzEzMS44Njc1MzgsIC0wLjY5NTQ2MV0sIFsxMzIuMzgwMTE2LCAtMC4zNjk1MzhdLCBbMTMzLjk4NTU0OCwgLTAuNzgwMjFdLCBbMTM0LjE0MzM2OCwgLTEuMTUxODY3XV1dLCBbW1sxMjUuMjQwNTAxLCAxLjQxOTgzNl0sIFsxMjQuNDM3MDM1LCAwLjQyNzg4MV0sIFsxMjMuNjg1NTA1LCAwLjIzNTU5M10sIFsxMjIuNzIzMDgzLCAwLjQzMTEzN10sIFsxMjEuMDU2NzI1LCAwLjM4MTIxN10sIFsxMjAuMTgzMDgzLCAwLjIzNzI0N10sIFsxMjAuMDQwODcsIC0wLjUxOTY1OF0sIFsxMjAuOTM1OTA1LCAtMS40MDg5MDZdLCBbMTIxLjQ3NTgyMSwgLTAuOTU1OTYyXSwgWzEyMy4zNDA1NjUsIC0wLjYxNTY3M10sIFsxMjMuMjU4Mzk5LCAtMS4wNzYyMTNdLCBbMTIyLjgyMjcxNSwgLTAuOTMwOTUxXSwgWzEyMi4zODg1MywgLTEuNTE2ODU4XSwgWzEyMS41MDgyNzQsIC0xLjkwNDQ4M10sIFsxMjIuNDU0NTcyLCAtMy4xODYwNThdLCBbMTIyLjI3MTg5NiwgLTMuNTI5NV0sIFsxMjMuMTcwOTYzLCAtNC42ODM2OTNdLCBbMTIzLjE2MjMzMywgLTUuMzQwNjA0XSwgWzEyMi42Mjg1MTUsIC01LjYzNDU5MV0sIFsxMjIuMjM2Mzk0LCAtNS4yODI5MzNdLCBbMTIyLjcxOTU2OSwgLTQuNDY0MTcyXSwgWzEyMS43MzgyMzQsIC00Ljg1MTMzMV0sIFsxMjEuNDg5NDYzLCAtNC41NzQ1NTNdLCBbMTIxLjYxOTE3MSwgLTQuMTg4NDc4XSwgWzEyMC44OTgxODIsIC0zLjYwMjEwNV0sIFsxMjAuOTcyMzg5LCAtMi42Mjc2NDNdLCBbMTIwLjMwNTQ1MywgLTIuOTMxNjA0XSwgWzEyMC4zOTAwNDcsIC00LjA5NzU3OV0sIFsxMjAuNDMwNzE3LCAtNS41MjgyNDFdLCBbMTE5Ljc5NjU0MywgLTUuNjczNF0sIFsxMTkuMzY2OTA2LCAtNS4zNzk4NzhdLCBbMTE5LjY1MzYwNiwgLTQuNDU5NDE3XSwgWzExOS40OTg4MzUsIC0zLjQ5NDQxMl0sIFsxMTkuMDc4MzQ0LCAtMy40ODcwMjJdLCBbMTE4Ljc2Nzc2OSwgLTIuODAxOTk5XSwgWzExOS4xODA5NzQsIC0yLjE0NzEwNF0sIFsxMTkuMzIzMzk0LCAtMS4zNTMxNDddLCBbMTE5LjgyNTk5OSwgMC4xNTQyNTRdLCBbMTIwLjAzNTcwMiwgMC41NjY0NzddLCBbMTIwLjg4NTc3OSwgMS4zMDkyMjNdLCBbMTIxLjY2NjgxNywgMS4wMTM5NDRdLCBbMTIyLjkyNzU2NywgMC44NzUxOTJdLCBbMTI0LjA3NzUyMiwgMC45MTcxMDJdLCBbMTI1LjA2NTk4OSwgMS42NDMyNTldLCBbMTI1LjI0MDUwMSwgMS40MTk4MzZdXV0sIFtbWzEyOC42ODgyNDksIDEuMTMyMzg2XSwgWzEyOC42MzU5NTIsIDAuMjU4NDg2XSwgWzEyOC4xMjAxNywgMC4zNTY0MTNdLCBbMTI3Ljk2ODAzNCwgLTAuMjUyMDc3XSwgWzEyOC4zNzk5OTksIC0wLjc4MDAwNF0sIFsxMjguMTAwMDE2LCAtMC44OTk5OTZdLCBbMTI3LjY5NjQ3NSwgLTAuMjY2NTk4XSwgWzEyNy4zOTk0OSwgMS4wMTE3MjJdLCBbMTI3LjYwMDUxMiwgMS44MTA2OTFdLCBbMTI3LjkzMjM3OCwgMi4xNzQ1OTZdLCBbMTI4LjAwNDE1NiwgMS42Mjg1MzFdLCBbMTI4LjU5NDU1OSwgMS41NDA4MTFdLCBbMTI4LjY4ODI0OSwgMS4xMzIzODZdXV0sIFtbWzExNy44NzU2MjcsIDEuODI3NjQxXSwgWzExOC45OTY3NDcsIDAuOTAyMjE5XSwgWzExNy44MTE4NTgsIDAuNzg0MjQyXSwgWzExNy40NzgzMzksIDAuMTAyNDc1XSwgWzExNy41MjE2NDQsIC0wLjgwMzcyM10sIFsxMTYuNTYwMDQ4LCAtMS40ODc2NjFdLCBbMTE2LjUzMzc5NywgLTIuNDgzNTE3XSwgWzExNi4xNDgwODQsIC00LjAxMjcyNl0sIFsxMTYuMDAwODU4LCAtMy42NTcwMzddLCBbMTE0Ljg2NDgwMywgLTQuMTA2OTg0XSwgWzExNC40Njg2NTIsIC0zLjQ5NTcwNF0sIFsxMTMuNzU1NjcyLCAtMy40MzkxN10sIFsxMTMuMjU2OTk0LCAtMy4xMTg3NzZdLCBbMTEyLjA2ODEyNiwgLTMuNDc4MzkyXSwgWzExMS43MDMyOTEsIC0yLjk5NDQ0Ml0sIFsxMTEuMDQ4MjQsIC0zLjA0OTQyNl0sIFsxMTAuMjIzODQ2LCAtMi45MzQwMzJdLCBbMTEwLjA3MDkzNiwgLTEuNTkyODc0XSwgWzEwOS41NzE5NDgsIC0xLjMxNDkwN10sIFsxMDkuMDkxODc0LCAtMC40NTk1MDddLCBbMTA4Ljk1MjY1OCwgMC40MTUzNzVdLCBbMTA5LjA2OTEzNiwgMS4zNDE5MzRdLCBbMTA5LjY2MzI2LCAyLjAwNjQ2N10sIFsxMDkuODMwMjI3LCAxLjMzODEzNl0sIFsxMTAuNTE0MDYxLCAwLjc3MzEzMV0sIFsxMTEuMTU5MTM4LCAwLjk3NjQ3OF0sIFsxMTEuNzk3NTQ4LCAwLjkwNDQ0MV0sIFsxMTIuMzgwMjUyLCAxLjQxMDEyMV0sIFsxMTIuODU5ODA5LCAxLjQ5Nzc5XSwgWzExMy44MDU4NSwgMS4yMTc1NDldLCBbMTE0LjYyMTM1NSwgMS40MzA2ODhdLCBbMTE1LjEzNDAzNywgMi44MjE0ODJdLCBbMTE1LjUxOTA3OCwgMy4xNjkyMzhdLCBbMTE1Ljg2NTUxNywgNC4zMDY1NTldLCBbMTE3LjAxNTIxNCwgNC4zMDYwOTRdLCBbMTE3Ljg4MjAzNSwgNC4xMzc1NTFdLCBbMTE3LjMxMzIzMiwgMy4yMzQ0MjhdLCBbMTE4LjA0ODMzLCAyLjI4NzY5XSwgWzExNy44NzU2MjcsIDEuODI3NjQxXV1dLCBbW1sxMDUuODE3NjU1LCAtNS44NTIzNTZdLCBbMTA0LjcxMDM4NCwgLTUuODczMjg1XSwgWzEwMy44NjgyMTMsIC01LjAzNzMxNV0sIFsxMDIuNTg0MjYxLCAtNC4yMjAyNTldLCBbMTAyLjE1NjE3MywgLTMuNjE0MTQ2XSwgWzEwMS4zOTkxMTMsIC0yLjc5OTc3N10sIFsxMDAuOTAyNTAzLCAtMi4wNTAyNjJdLCBbMTAwLjE0MTk4MSwgLTAuNjUwMzQ4XSwgWzk5LjI2Mzc0LCAwLjE4MzE0Ml0sIFs5OC45NzAwMTEsIDEuMDQyODgyXSwgWzk4LjYwMTM1MSwgMS44MjM1MDddLCBbOTcuNjk5NTk4LCAyLjQ1MzE4NF0sIFs5Ny4xNzY5NDIsIDMuMzA4NzkxXSwgWzk2LjQyNDAxNywgMy44Njg4Nl0sIFs5NS4zODA4NzYsIDQuOTcwNzgyXSwgWzk1LjI5MzAyNiwgNS40Nzk4MjFdLCBbOTUuOTM2ODYzLCA1LjQzOTUxM10sIFs5Ny40ODQ4ODIsIDUuMjQ2MzIxXSwgWzk4LjM2OTE2OSwgNC4yNjgzN10sIFs5OS4xNDI1NTksIDMuNTkwMzVdLCBbOTkuNjkzOTk4LCAzLjE3NDMyOV0sIFsxMDAuNjQxNDM0LCAyLjA5OTM4MV0sIFsxMDEuNjU4MDEyLCAyLjA4MzY5N10sIFsxMDIuNDk4MjcxLCAxLjM5ODddLCBbMTAzLjA3Njg0LCAwLjU2MTM2MV0sIFsxMDMuODM4Mzk2LCAwLjEwNDU0Ml0sIFsxMDMuNDM3NjQ1LCAtMC43MTE5NDZdLCBbMTA0LjAxMDc4OSwgLTEuMDU5MjEyXSwgWzEwNC4zNjk5OTEsIC0xLjA4NDg0M10sIFsxMDQuNTM5NDksIC0xLjc4MjM3Ml0sIFsxMDQuODg3ODkzLCAtMi4zNDA0MjVdLCBbMTA1LjYyMjExMSwgLTIuNDI4ODQ0XSwgWzEwNi4xMDg1OTMsIC0zLjA2MTc3N10sIFsxMDUuODU3NDQ2LCAtNC4zMDU1MjVdLCBbMTA1LjgxNzY1NSwgLTUuODUyMzU2XV1dXSwgInR5cGUiOiAiTXVsdGlQb2x5Z29uIn0sICJpZCI6ICJJRE4iLCAicHJvcGVydGllcyI6IHsiaGlnaGxpZ2h0Ijoge30sICJuYW1lIjogIkluZG9uZXNpYSIsICJzdHlsZSI6IHsiY29sb3IiOiAiZ3JheSIsICJkYXNoQXJyYXkiOiAiMSwgMSIsICJmaWxsQ29sb3IiOiAiIzAwMDAwMCIsICJsaW5lT3BhY2l0eSI6IDAuOSwgIndlaWdodCI6IDF9fSwgInR5cGUiOiAiRmVhdHVyZSJ9LCB7Imdlb21ldHJ5IjogeyJjb29yZGluYXRlcyI6IFtbWzc3LjgzNzQ1MSwgMzUuNDk0MDFdLCBbNzguOTEyMjY5LCAzNC4zMjE5MzZdLCBbNzguODExMDg2LCAzMy41MDYxOThdLCBbNzkuMjA4ODkyLCAzMi45OTQzOTVdLCBbNzkuMTc2MTI5LCAzMi40ODM3OF0sIFs3OC40NTg0NDYsIDMyLjYxODE2NF0sIFs3OC43Mzg4OTQsIDMxLjUxNTkwNl0sIFs3OS43MjEzNjcsIDMwLjg4MjcxNV0sIFs4MS4xMTEyNTYsIDMwLjE4MzQ4MV0sIFs4MC40NzY3MjEsIDI5LjcyOTg2NV0sIFs4MC4wODg0MjUsIDI4Ljc5NDQ3XSwgWzgxLjA1NzIwMywgMjguNDE2MDk1XSwgWzgxLjk5OTk4NywgMjcuOTI1NDc5XSwgWzgzLjMwNDI0OSwgMjcuMzY0NTA2XSwgWzg0LjY3NTAxOCwgMjcuMjM0OTAxXSwgWzg1LjI1MTc3OSwgMjYuNzI2MTk4XSwgWzg2LjAyNDM5MywgMjYuNjMwOTg1XSwgWzg3LjIyNzQ3MiwgMjYuMzk3ODk4XSwgWzg4LjA2MDIzOCwgMjYuNDE0NjE1XSwgWzg4LjE3NDgwNCwgMjYuODEwNDA1XSwgWzg4LjA0MzEzMywgMjcuNDQ1ODE5XSwgWzg4LjEyMDQ0MSwgMjcuODc2NTQyXSwgWzg4LjczMDMyNiwgMjguMDg2ODY1XSwgWzg4LjgxNDI0OCwgMjcuMjk5MzE2XSwgWzg4LjgzNTY0MywgMjcuMDk4OTY2XSwgWzg5Ljc0NDUyOCwgMjYuNzE5NDAzXSwgWzkwLjM3MzI3NSwgMjYuODc1NzI0XSwgWzkxLjIxNzUxMywgMjYuODA4NjQ4XSwgWzkyLjAzMzQ4NCwgMjYuODM4MzFdLCBbOTIuMTAzNzEyLCAyNy40NTI2MTRdLCBbOTEuNjk2NjU3LCAyNy43NzE3NDJdLCBbOTIuNTAzMTE5LCAyNy44OTY4NzZdLCBbOTMuNDEzMzQ4LCAyOC42NDA2MjldLCBbOTQuNTY1OTksIDI5LjI3NzQzOF0sIFs5NS40MDQ4MDIsIDI5LjAzMTcxN10sIFs5Ni4xMTc2NzksIDI5LjQ1MjgwMl0sIFs5Ni41ODY1OTEsIDI4LjgzMDk4XSwgWzk2LjI0ODgzMywgMjguNDExMDMxXSwgWzk3LjMyNzExNCwgMjguMjYxNTgzXSwgWzk3LjQwMjU2MSwgMjcuODgyNTM2XSwgWzk3LjA1MTk4OSwgMjcuNjk5MDU5XSwgWzk3LjEzMzk5OSwgMjcuMDgzNzc0XSwgWzk2LjQxOTM2NiwgMjcuMjY0NTg5XSwgWzk1LjEyNDc2OCwgMjYuNTczNTcyXSwgWzk1LjE1NTE1MywgMjYuMDAxMzA3XSwgWzk0LjYwMzI0OSwgMjUuMTYyNDk1XSwgWzk0LjU1MjY1OCwgMjQuNjc1MjM4XSwgWzk0LjEwNjc0MiwgMjMuODUwNzQxXSwgWzkzLjMyNTE4OCwgMjQuMDc4NTU2XSwgWzkzLjI4NjMyNywgMjMuMDQzNjU4XSwgWzkzLjA2MDI5NCwgMjIuNzAzMTExXSwgWzkzLjE2NjEyOCwgMjIuMjc4NDZdLCBbOTIuNjcyNzIxLCAyMi4wNDEyMzldLCBbOTIuMTQ2MDM1LCAyMy42Mjc0OTldLCBbOTEuODY5OTI4LCAyMy42MjQzNDZdLCBbOTEuNzA2NDc1LCAyMi45ODUyNjRdLCBbOTEuMTU4OTYzLCAyMy41MDM1MjddLCBbOTEuNDY3NzMsIDI0LjA3MjYzOV0sIFs5MS45MTUwOTMsIDI0LjEzMDQxNF0sIFs5Mi4zNzYyMDIsIDI0Ljk3NjY5M10sIFs5MS43OTk1OTYsIDI1LjE0NzQzMl0sIFs5MC44NzIyMTEsIDI1LjEzMjYwMV0sIFs4OS45MjA2OTMsIDI1LjI2OTc1XSwgWzg5LjgzMjQ4MSwgMjUuOTY1MDgyXSwgWzg5LjM1NTA5NCwgMjYuMDE0NDA3XSwgWzg4LjU2MzA0OSwgMjYuNDQ2NTI2XSwgWzg4LjIwOTc4OSwgMjUuNzY4MDY2XSwgWzg4LjkzMTU1NCwgMjUuMjM4NjkyXSwgWzg4LjMwNjM3MywgMjQuODY2MDc5XSwgWzg4LjA4NDQyMiwgMjQuNTAxNjU3XSwgWzg4LjY5OTk0LCAyNC4yMzM3MTVdLCBbODguNTI5NzcsIDIzLjYzMTE0Ml0sIFs4OC44NzYzMTIsIDIyLjg3OTE0Nl0sIFs4OS4wMzE5NjEsIDIyLjA1NTcwOF0sIFs4OC44ODg3NjYsIDIxLjY5MDU4OF0sIFs4OC4yMDg0OTcsIDIxLjcwMzE3Ml0sIFs4Ni45NzU3MDQsIDIxLjQ5NTU2Ml0sIFs4Ny4wMzMxNjksIDIwLjc0MzMwOF0sIFs4Ni40OTkzNTEsIDIwLjE1MTYzOF0sIFs4NS4wNjAyNjYsIDE5LjQ3ODU3OV0sIFs4My45NDEwMDYsIDE4LjMwMjAxXSwgWzgzLjE4OTIxNywgMTcuNjcxMjIxXSwgWzgyLjE5Mjc5MiwgMTcuMDE2NjM2XSwgWzgyLjE5MTI0MiwgMTYuNTU2NjY0XSwgWzgxLjY5MjcxOSwgMTYuMzEwMjE5XSwgWzgwLjc5MTk5OSwgMTUuOTUxOTcyXSwgWzgwLjMyNDg5NiwgMTUuODk5MTg1XSwgWzgwLjAyNTA2OSwgMTUuMTM2NDE1XSwgWzgwLjIzMzI3NCwgMTMuODM1NzcxXSwgWzgwLjI4NjI5NCwgMTMuMDA2MjYxXSwgWzc5Ljg2MjU0NywgMTIuMDU2MjE1XSwgWzc5Ljg1Nzk5OSwgMTAuMzU3Mjc1XSwgWzc5LjM0MDUxMiwgMTAuMzA4ODU0XSwgWzc4Ljg4NTM0NSwgOS41NDYxMzZdLCBbNzkuMTg5NzIsIDkuMjE2NTQ0XSwgWzc4LjI3Nzk0MSwgOC45MzMwNDddLCBbNzcuOTQxMTY1LCA4LjI1Mjk1OV0sIFs3Ny41Mzk4OTgsIDcuOTY1NTM1XSwgWzc2LjU5Mjk3OSwgOC44OTkyNzZdLCBbNzYuMTMwMDYxLCAxMC4yOTk2M10sIFs3NS43NDY0NjcsIDExLjMwODI1MV0sIFs3NS4zOTYxMDEsIDExLjc4MTI0NV0sIFs3NC44NjQ4MTYsIDEyLjc0MTkzNl0sIFs3NC42MTY3MTcsIDEzLjk5MjU4M10sIFs3NC40NDM4NTksIDE0LjYxNzIyMl0sIFs3My41MzQxOTksIDE1Ljk5MDY1Ml0sIFs3My4xMTk5MDksIDE3LjkyODU3XSwgWzcyLjgyMDkwOSwgMTkuMjA4MjM0XSwgWzcyLjgyNDQ3NSwgMjAuNDE5NTAzXSwgWzcyLjYzMDUzMywgMjEuMzU2MDA5XSwgWzcxLjE3NTI3MywgMjAuNzU3NDQxXSwgWzcwLjQ3MDQ1OSwgMjAuODc3MzMxXSwgWzY5LjE2NDEzLCAyMi4wODkyOThdLCBbNjkuNjQ0OTI4LCAyMi40NTA3NzVdLCBbNjkuMzQ5NTk3LCAyMi44NDMxOF0sIFs2OC4xNzY2NDUsIDIzLjY5MTk2NV0sIFs2OC44NDI1OTksIDI0LjM1OTEzNF0sIFs3MS4wNDMyNCwgMjQuMzU2NTI0XSwgWzcwLjg0NDY5OSwgMjUuMjE1MTAyXSwgWzcwLjI4Mjg3MywgMjUuNzIyMjI5XSwgWzcwLjE2ODkyNywgMjYuNDkxODcyXSwgWzY5LjUxNDM5MywgMjYuOTQwOTY2XSwgWzcwLjYxNjQ5NiwgMjcuOTg5MTk2XSwgWzcxLjc3NzY2NiwgMjcuOTEzMThdLCBbNzIuODIzNzUyLCAyOC45NjE1OTJdLCBbNzMuNDUwNjM4LCAyOS45NzY0MTNdLCBbNzQuNDIxMzgsIDMwLjk3OTgxNV0sIFs3NC40MDU5MjksIDMxLjY5MjYzOV0sIFs3NS4yNTg2NDIsIDMyLjI3MTEwNV0sIFs3NC40NTE1NTksIDMyLjc2NDldLCBbNzQuMTA0Mjk0LCAzMy40NDE0NzNdLCBbNzMuNzQ5OTQ4LCAzNC4zMTc2OTldLCBbNzQuMjQwMjAzLCAzNC43NDg4ODddLCBbNzUuNzU3MDYxLCAzNC41MDQ5MjNdLCBbNzYuODcxNzIyLCAzNC42NTM1NDRdLCBbNzcuODM3NDUxLCAzNS40OTQwMV1dXSwgInR5cGUiOiAiUG9seWdvbiJ9LCAiaWQiOiAiSU5EIiwgInByb3BlcnRpZXMiOiB7ImhpZ2hsaWdodCI6IHt9LCAibmFtZSI6ICJJbmRpYSIsICJzdHlsZSI6IHsiY29sb3IiOiAiZ3JheSIsICJkYXNoQXJyYXkiOiAiMSwgMSIsICJmaWxsQ29sb3IiOiAiIzAwMDAwMCIsICJsaW5lT3BhY2l0eSI6IDAuOSwgIndlaWdodCI6IDF9fSwgInR5cGUiOiAiRmVhdHVyZSJ9LCB7Imdlb21ldHJ5IjogeyJjb29yZGluYXRlcyI6IFtbWy02LjE5Nzg4NSwgNTMuODY3NTY1XSwgWy02LjAzMjk4NSwgNTMuMTUzMTY0XSwgWy02Ljc4ODg1NywgNTIuMjYwMTE4XSwgWy04LjU2MTYxNywgNTEuNjY5MzAxXSwgWy05Ljk3NzA4NiwgNTEuODIwNDU1XSwgWy05LjE2NjI4MywgNTIuODY0NjI5XSwgWy05LjY4ODUyNSwgNTMuODgxMzYzXSwgWy04LjMyNzk4NywgNTQuNjY0NTE5XSwgWy03LjU3MjE2OCwgNTUuMTMxNjIyXSwgWy03LjM2NjAzMSwgNTQuNTk1ODQxXSwgWy03LjU3MjE2OCwgNTQuMDU5OTU2XSwgWy02Ljk1MzczLCA1NC4wNzM3MDJdLCBbLTYuMTk3ODg1LCA1My44Njc1NjVdXV0sICJ0eXBlIjogIlBvbHlnb24ifSwgImlkIjogIklSTCIsICJwcm9wZXJ0aWVzIjogeyJoaWdobGlnaHQiOiB7fSwgIm5hbWUiOiAiSXJlbGFuZCIsICJzdHlsZSI6IHsiY29sb3IiOiAiZ3JheSIsICJkYXNoQXJyYXkiOiAiMSwgMSIsICJmaWxsQ29sb3IiOiAiIzAwMDAwMCIsICJsaW5lT3BhY2l0eSI6IDAuOSwgIndlaWdodCI6IDF9fSwgInR5cGUiOiAiRmVhdHVyZSJ9LCB7Imdlb21ldHJ5IjogeyJjb29yZGluYXRlcyI6IFtbWzUzLjkyMTU5OCwgMzcuMTk4OTE4XSwgWzU0LjgwMDMwNCwgMzcuMzkyNDIxXSwgWzU1LjUxMTU3OCwgMzcuOTY0MTE3XSwgWzU2LjE4MDM3NSwgMzcuOTM1MTI3XSwgWzU2LjYxOTM2NiwgMzguMTIxMzk0XSwgWzU3LjMzMDQzNCwgMzguMDI5MjI5XSwgWzU4LjQzNjE1NCwgMzcuNTIyMzA5XSwgWzU5LjIzNDc2MiwgMzcuNDEyOTg4XSwgWzYwLjM3NzYzOCwgMzYuNTI3MzgzXSwgWzYxLjEyMzA3MSwgMzYuNDkxNTk3XSwgWzYxLjIxMDgxNywgMzUuNjUwMDcyXSwgWzYwLjgwMzE5MywgMzQuNDA0MTAyXSwgWzYwLjUyODQzLCAzMy42NzY0NDZdLCBbNjAuOTYzNywgMzMuNTI4ODMyXSwgWzYwLjUzNjA3OCwgMzIuOTgxMjY5XSwgWzYwLjg2MzY1NSwgMzIuMTgyOTJdLCBbNjAuOTQxOTQ1LCAzMS41NDgwNzVdLCBbNjEuNjk5MzE0LCAzMS4zNzk1MDZdLCBbNjEuNzgxMjIyLCAzMC43MzU4NV0sIFs2MC44NzQyNDgsIDI5LjgyOTIzOV0sIFs2MS4zNjkzMDksIDI5LjMwMzI3Nl0sIFs2MS43NzE4NjgsIDI4LjY5OTMzNF0sIFs2Mi43Mjc4MywgMjguMjU5NjQ1XSwgWzYyLjc1NTQyNiwgMjcuMzc4OTIzXSwgWzYzLjIzMzg5OCwgMjcuMjE3MDQ3XSwgWzYzLjMxNjYzMiwgMjYuNzU2NTMyXSwgWzYxLjg3NDE4NywgMjYuMjM5OTc1XSwgWzYxLjQ5NzM2MywgMjUuMDc4MjM3XSwgWzU5LjYxNjEzNCwgMjUuMzgwMTU3XSwgWzU4LjUyNTc2MSwgMjUuNjA5OTYyXSwgWzU3LjM5NzI1MSwgMjUuNzM5OTAyXSwgWzU2Ljk3MDc2NiwgMjYuOTY2MTA2XSwgWzU2LjQ5MjEzOSwgMjcuMTQzMzA1XSwgWzU1LjcyMzcxLCAyNi45NjQ2MzNdLCBbNTQuNzE1MDksIDI2LjQ4MDY1OF0sIFs1My40OTMwOTcsIDI2LjgxMjM2OV0sIFs1Mi40ODM1OTgsIDI3LjU4MDg0OV0sIFs1MS41MjA3NjMsIDI3Ljg2NTY5XSwgWzUwLjg1Mjk0OCwgMjguODE0NTIxXSwgWzUwLjExNTAwOSwgMzAuMTQ3NzczXSwgWzQ5LjU3Njg1LCAyOS45ODU3MTVdLCBbNDguOTQxMzMzLCAzMC4zMTcwOV0sIFs0OC41Njc5NzEsIDI5LjkyNjc3OF0sIFs0OC4wMTQ1NjgsIDMwLjQ1MjQ1N10sIFs0OC4wMDQ2OTgsIDMwLjk4NTEzN10sIFs0Ny42ODUyODYsIDMwLjk4NDg1M10sIFs0Ny44NDkyMDQsIDMxLjcwOTE3Nl0sIFs0Ny4zMzQ2NjEsIDMyLjQ2OTE1NV0sIFs0Ni4xMDkzNjIsIDMzLjAxNzI4N10sIFs0NS40MTY2OTEsIDMzLjk2Nzc5OF0sIFs0NS42NDg0NiwgMzQuNzQ4MTM4XSwgWzQ2LjE1MTc4OCwgMzUuMDkzMjU5XSwgWzQ2LjA3NjM0LCAzNS42NzczODNdLCBbNDUuNDIwNjE4LCAzNS45Nzc1NDZdLCBbNDQuNzcyNjcsIDM3LjE3MDQ1XSwgWzQ0LjIyNTc1NiwgMzcuOTcxNTg0XSwgWzQ0LjQyMTQwMywgMzguMjgxMjgxXSwgWzQ0LjEwOTIyNSwgMzkuNDI4MTM2XSwgWzQ0Ljc5Mzk5LCAzOS43MTMwMDNdLCBbNDQuOTUyNjg4LCAzOS4zMzU3NjVdLCBbNDUuNDU3NzIyLCAzOC44NzQxMzldLCBbNDYuMTQzNjIzLCAzOC43NDEyMDFdLCBbNDYuNTA1NzIsIDM4Ljc3MDYwNV0sIFs0Ny42ODUwNzksIDM5LjUwODM2NF0sIFs0OC4wNjAwOTUsIDM5LjU4MjIzNV0sIFs0OC4zNTU1MjksIDM5LjI4ODc2NV0sIFs0OC4wMTA3NDQsIDM4Ljc5NDAxNV0sIFs0OC42MzQzNzUsIDM4LjI3MDM3OF0sIFs0OC44ODMyNDksIDM4LjMyMDI0NV0sIFs0OS4xOTk2MTIsIDM3LjU4Mjg3NF0sIFs1MC4xNDc3NzEsIDM3LjM3NDU2N10sIFs1MC44NDIzNTQsIDM2Ljg3MjgxNF0sIFs1Mi4yNjQwMjUsIDM2LjcwMDQyMl0sIFs1My44MjU3OSwgMzYuOTY1MDMxXSwgWzUzLjkyMTU5OCwgMzcuMTk4OTE4XV1dLCAidHlwZSI6ICJQb2x5Z29uIn0sICJpZCI6ICJJUk4iLCAicHJvcGVydGllcyI6IHsiaGlnaGxpZ2h0Ijoge30sICJuYW1lIjogIklyYW4iLCAic3R5bGUiOiB7ImNvbG9yIjogImdyYXkiLCAiZGFzaEFycmF5IjogIjEsIDEiLCAiZmlsbENvbG9yIjogIiMwMDAwMDAiLCAibGluZU9wYWNpdHkiOiAwLjksICJ3ZWlnaHQiOiAxfX0sICJ0eXBlIjogIkZlYXR1cmUifSwgeyJnZW9tZXRyeSI6IHsiY29vcmRpbmF0ZXMiOiBbW1s0NS40MjA2MTgsIDM1Ljk3NzU0Nl0sIFs0Ni4wNzYzNCwgMzUuNjc3MzgzXSwgWzQ2LjE1MTc4OCwgMzUuMDkzMjU5XSwgWzQ1LjY0ODQ2LCAzNC43NDgxMzhdLCBbNDUuNDE2NjkxLCAzMy45Njc3OThdLCBbNDYuMTA5MzYyLCAzMy4wMTcyODddLCBbNDcuMzM0NjYxLCAzMi40NjkxNTVdLCBbNDcuODQ5MjA0LCAzMS43MDkxNzZdLCBbNDcuNjg1Mjg2LCAzMC45ODQ4NTNdLCBbNDguMDA0Njk4LCAzMC45ODUxMzddLCBbNDguMDE0NTY4LCAzMC40NTI0NTddLCBbNDguNTY3OTcxLCAyOS45MjY3NzhdLCBbNDcuOTc0NTE5LCAyOS45NzU4MTldLCBbNDcuMzAyNjIyLCAzMC4wNTkwN10sIFs0Ni41Njg3MTMsIDI5LjA5OTAyNV0sIFs0NC43MDk0OTksIDI5LjE3ODg5MV0sIFs0MS44ODk5ODEsIDMxLjE5MDAwOV0sIFs0MC4zOTk5OTQsIDMxLjg4OTk5Ml0sIFszOS4xOTU0NjgsIDMyLjE2MTAwOV0sIFszOC43OTIzNDEsIDMzLjM3ODY4Nl0sIFs0MS4wMDYxNTksIDM0LjQxOTM3Ml0sIFs0MS4zODM5NjUsIDM1LjYyODMxN10sIFs0MS4yODk3MDcsIDM2LjM1ODgxNV0sIFs0MS44MzcwNjQsIDM2LjYwNTg1NF0sIFs0Mi4zNDk1OTEsIDM3LjIyOTg3M10sIFs0Mi43NzkxMjYsIDM3LjM4NTI2NF0sIFs0My45NDIyNTksIDM3LjI1NjIyOF0sIFs0NC4yOTM0NTIsIDM3LjAwMTUxNF0sIFs0NC43NzI2OTksIDM3LjE3MDQ0NV0sIFs0NS40MjA2MTgsIDM1Ljk3NzU0Nl1dXSwgInR5cGUiOiAiUG9seWdvbiJ9LCAiaWQiOiAiSVJRIiwgInByb3BlcnRpZXMiOiB7ImhpZ2hsaWdodCI6IHt9LCAibmFtZSI6ICJJcmFxIiwgInN0eWxlIjogeyJjb2xvciI6ICJncmF5IiwgImRhc2hBcnJheSI6ICIxLCAxIiwgImZpbGxDb2xvciI6ICIjMDAwMDAwIiwgImxpbmVPcGFjaXR5IjogMC45LCAid2VpZ2h0IjogMX19LCAidHlwZSI6ICJGZWF0dXJlIn0sIHsiZ2VvbWV0cnkiOiB7ImNvb3JkaW5hdGVzIjogW1tbLTE0LjUwODY5NSwgNjYuNDU1ODkyXSwgWy0xNC43Mzk2MzcsIDY1LjgwODc0OF0sIFstMTMuNjA5NzMyLCA2NS4xMjY2NzFdLCBbLTE0LjkwOTgzNCwgNjQuMzY0MDgyXSwgWy0xNy43OTQ0MzgsIDYzLjY3ODc0OV0sIFstMTguNjU2MjQ2LCA2My40OTYzODNdLCBbLTE5Ljk3Mjc1NSwgNjMuNjQzNjM1XSwgWy0yMi43NjI5NzIsIDYzLjk2MDE3OV0sIFstMjEuNzc4NDg0LCA2NC40MDIxMTZdLCBbLTIzLjk1NTA0NCwgNjQuODkxMTNdLCBbLTIyLjE4NDQwMywgNjUuMDg0OTY4XSwgWy0yMi4yMjc0MjMsIDY1LjM3ODU5NF0sIFstMjQuMzI2MTg0LCA2NS42MTExODldLCBbLTIzLjY1MDUxNSwgNjYuMjYyNTE5XSwgWy0yMi4xMzQ5MjIsIDY2LjQxMDQ2OV0sIFstMjAuNTc2Mjg0LCA2NS43MzIxMTJdLCBbLTE5LjA1Njg0MiwgNjYuMjc2NjAxXSwgWy0xNy43OTg2MjQsIDY1Ljk5Mzg1M10sIFstMTYuMTY3ODE5LCA2Ni41MjY3OTJdLCBbLTE0LjUwODY5NSwgNjYuNDU1ODkyXV1dLCAidHlwZSI6ICJQb2x5Z29uIn0sICJpZCI6ICJJU0wiLCAicHJvcGVydGllcyI6IHsiaGlnaGxpZ2h0Ijoge30sICJuYW1lIjogIkljZWxhbmQiLCAic3R5bGUiOiB7ImNvbG9yIjogImdyYXkiLCAiZGFzaEFycmF5IjogIjEsIDEiLCAiZmlsbENvbG9yIjogIiMwMDAwMDAiLCAibGluZU9wYWNpdHkiOiAwLjksICJ3ZWlnaHQiOiAxfX0sICJ0eXBlIjogIkZlYXR1cmUifSwgeyJnZW9tZXRyeSI6IHsiY29vcmRpbmF0ZXMiOiBbW1szNS43MTk5MTgsIDMyLjcwOTE5Ml0sIFszNS41NDU2NjUsIDMyLjM5Mzk5Ml0sIFszNS4xODM5MywgMzIuNTMyNTExXSwgWzM0Ljk3NDY0MSwgMzEuODY2NTgyXSwgWzM1LjIyNTg5MiwgMzEuNzU0MzQxXSwgWzM0Ljk3MDUwNywgMzEuNjE2Nzc4XSwgWzM0LjkyNzQwOCwgMzEuMzUzNDM1XSwgWzM1LjM5NzU2MSwgMzEuNDg5MDg2XSwgWzM1LjQyMDkxOCwgMzEuMTAwMDY2XSwgWzM0LjkyMjYwMywgMjkuNTAxMzI2XSwgWzM0LjI2NTQzMywgMzEuMjE5MzYxXSwgWzM0LjU1NjM3MiwgMzEuNTQ4ODI0XSwgWzM0LjQ4ODEwNywgMzEuNjA1NTM5XSwgWzM0Ljc1MjU4NywgMzIuMDcyOTI2XSwgWzM0Ljk1NTQxNywgMzIuODI3Mzc2XSwgWzM1LjA5ODQ1NywgMzMuMDgwNTM5XSwgWzM1LjEyNjA1MywgMzMuMDkwOV0sIFszNS40NjA3MDksIDMzLjA4OTA0XSwgWzM1LjU1Mjc5NywgMzMuMjY0Mjc1XSwgWzM1LjgyMTEwMSwgMzMuMjc3NDI2XSwgWzM1LjgzNjM5NywgMzIuODY4MTIzXSwgWzM1LjcwMDc5OCwgMzIuNzE2MDE0XSwgWzM1LjcxOTkxOCwgMzIuNzA5MTkyXV1dLCAidHlwZSI6ICJQb2x5Z29uIn0sICJpZCI6ICJJU1IiLCAicHJvcGVydGllcyI6IHsiaGlnaGxpZ2h0Ijoge30sICJuYW1lIjogIklzcmFlbCIsICJzdHlsZSI6IHsiY29sb3IiOiAiZ3JheSIsICJkYXNoQXJyYXkiOiAiMSwgMSIsICJmaWxsQ29sb3IiOiAiIzAwMDAwMCIsICJsaW5lT3BhY2l0eSI6IDAuOSwgIndlaWdodCI6IDF9fSwgInR5cGUiOiAiRmVhdHVyZSJ9LCB7Imdlb21ldHJ5IjogeyJjb29yZGluYXRlcyI6IFtbW1sxNS41MjAzNzYsIDM4LjIzMTE1NV0sIFsxNS4xNjAyNDMsIDM3LjQ0NDA0Nl0sIFsxNS4zMDk4OTgsIDM3LjEzNDIxOV0sIFsxNS4wOTk5ODgsIDM2LjYxOTk4N10sIFsxNC4zMzUyMjksIDM2Ljk5NjYzMV0sIFsxMy44MjY3MzMsIDM3LjEwNDUzMV0sIFsxMi40MzEwMDQsIDM3LjYxMjk1XSwgWzEyLjU3MDk0NCwgMzguMTI2MzgxXSwgWzEzLjc0MTE1NiwgMzguMDM0OTY2XSwgWzE0Ljc2MTI0OSwgMzguMTQzODc0XSwgWzE1LjUyMDM3NiwgMzguMjMxMTU1XV1dLCBbW1s5LjIxMDAxMiwgNDEuMjA5OTkxXSwgWzkuODA5OTc1LCA0MC41MDAwMDldLCBbOS42Njk1MTksIDM5LjE3NzM3Nl0sIFs5LjIxNDgxOCwgMzkuMjQwNDczXSwgWzguODA2OTM2LCAzOC45MDY2MThdLCBbOC40MjgzMDIsIDM5LjE3MTg0N10sIFs4LjM4ODI1MywgNDAuMzc4MzExXSwgWzguMTU5OTk4LCA0MC45NTAwMDddLCBbOC43MDk5OTEsIDQwLjg5OTk4NF0sIFs5LjIxMDAxMiwgNDEuMjA5OTkxXV1dLCBbW1sxMi4zNzY0ODUsIDQ2Ljc2NzU1OV0sIFsxMy44MDY0NzUsIDQ2LjUwOTMwNl0sIFsxMy42OTgxMSwgNDYuMDE2Nzc4XSwgWzEzLjkzNzYzLCA0NS41OTEwMTZdLCBbMTMuMTQxNjA2LCA0NS43MzY2OTJdLCBbMTIuMzI4NTgxLCA0NS4zODE3NzhdLCBbMTIuMzgzODc1LCA0NC44ODUzNzRdLCBbMTIuMjYxNDUzLCA0NC42MDA0ODJdLCBbMTIuNTg5MjM3LCA0NC4wOTEzNjZdLCBbMTMuNTI2OTA2LCA0My41ODc3MjddLCBbMTQuMDI5ODIxLCA0Mi43NjEwMDhdLCBbMTUuMTQyNTcsIDQxLjk1NTE0XSwgWzE1LjkyNjE5MSwgNDEuOTYxMzE1XSwgWzE2LjE2OTg5NywgNDEuNzQwMjk1XSwgWzE1Ljg4OTM0NiwgNDEuNTQxMDgyXSwgWzE2Ljc4NTAwMiwgNDEuMTc5NjA2XSwgWzE3LjUxOTE2OSwgNDAuODc3MTQzXSwgWzE4LjM3NjY4NywgNDAuMzU1NjI1XSwgWzE4LjQ4MDI0NywgNDAuMTY4ODY2XSwgWzE4LjI5MzM4NSwgMzkuODEwNzc0XSwgWzE3LjczODM4LCA0MC4yNzc2NzFdLCBbMTYuODY5NTk2LCA0MC40NDIyMzVdLCBbMTYuNDQ4NzQzLCAzOS43OTU0MDFdLCBbMTcuMTcxNDksIDM5LjQyNDddLCBbMTcuMDUyODQxLCAzOC45MDI4NzFdLCBbMTYuNjM1MDg4LCAzOC44NDM1NzJdLCBbMTYuMTAwOTYxLCAzNy45ODU4OTldLCBbMTUuNjg0MDg3LCAzNy45MDg4NDldLCBbMTUuNjg3OTYzLCAzOC4yMTQ1OTNdLCBbMTUuODkxOTgxLCAzOC43NTA5NDJdLCBbMTYuMTA5MzMyLCAzOC45NjQ1NDddLCBbMTUuNzE4ODE0LCAzOS41NDQwNzJdLCBbMTUuNDEzNjEzLCA0MC4wNDgzNTddLCBbMTQuOTk4NDk2LCA0MC4xNzI5NDldLCBbMTQuNzAzMjY4LCA0MC42MDQ1NV0sIFsxNC4wNjA2NzIsIDQwLjc4NjM0OF0sIFsxMy42Mjc5ODUsIDQxLjE4ODI4N10sIFsxMi44ODgwODIsIDQxLjI1MzA5XSwgWzEyLjEwNjY4MywgNDEuNzA0NTM1XSwgWzExLjE5MTkwNiwgNDIuMzU1NDI1XSwgWzEwLjUxMTk0OCwgNDIuOTMxNDYzXSwgWzEwLjIwMDAyOSwgNDMuOTIwMDA3XSwgWzkuNzAyNDg4LCA0NC4wMzYyNzldLCBbOC44ODg5NDYsIDQ0LjM2NjMzNl0sIFs4LjQyODU2MSwgNDQuMjMxMjI4XSwgWzcuODUwNzY3LCA0My43NjcxNDhdLCBbNy40MzUxODUsIDQzLjY5Mzg0NV0sIFs3LjU0OTU5NiwgNDQuMTI3OTAxXSwgWzcuMDA3NTYyLCA0NC4yNTQ3NjddLCBbNi43NDk5NTUsIDQ1LjAyODUxOF0sIFs3LjA5NjY1MiwgNDUuMzMzMDk5XSwgWzYuODAyMzU1LCA0NS43MDg1OF0sIFs2Ljg0MzU5MywgNDUuOTkxMTQ3XSwgWzcuMjczODUxLCA0NS43NzY5NDhdLCBbNy43NTU5OTIsIDQ1LjgyNDQ5XSwgWzguMzE2NjMsIDQ2LjE2MzY0Ml0sIFs4LjQ4OTk1MiwgNDYuMDA1MTUxXSwgWzguOTY2MzA2LCA0Ni4wMzY5MzJdLCBbOS4xODI4ODIsIDQ2LjQ0MDIxNV0sIFs5LjkyMjgzNywgNDYuMzE0ODk5XSwgWzEwLjM2MzM3OCwgNDYuNDgzNTcxXSwgWzEwLjQ0MjcwMSwgNDYuODkzNTQ2XSwgWzExLjA0ODU1NiwgNDYuNzUxMzU5XSwgWzExLjE2NDgyOCwgNDYuOTQxNTc5XSwgWzEyLjE1MzA4OCwgNDcuMTE1MzkzXSwgWzEyLjM3NjQ4NSwgNDYuNzY3NTU5XV1dXSwgInR5cGUiOiAiTXVsdGlQb2x5Z29uIn0sICJpZCI6ICJJVEEiLCAicHJvcGVydGllcyI6IHsiaGlnaGxpZ2h0Ijoge30sICJuYW1lIjogIkl0YWx5IiwgInN0eWxlIjogeyJjb2xvciI6ICJncmF5IiwgImRhc2hBcnJheSI6ICIxLCAxIiwgImZpbGxDb2xvciI6ICIjMDAwMDAwIiwgImxpbmVPcGFjaXR5IjogMC45LCAid2VpZ2h0IjogMX19LCAidHlwZSI6ICJGZWF0dXJlIn0sIHsiZ2VvbWV0cnkiOiB7ImNvb3JkaW5hdGVzIjogW1tbLTc3LjU2OTYwMSwgMTguNDkwNTI1XSwgWy03Ni44OTY2MTksIDE4LjQwMDg2N10sIFstNzYuMzY1MzU5LCAxOC4xNjA3MDFdLCBbLTc2LjE5OTY1OSwgMTcuODg2ODY3XSwgWy03Ni45MDI1NjEsIDE3Ljg2ODIzOF0sIFstNzcuMjA2MzQxLCAxNy43MDExMTZdLCBbLTc3Ljc2NjAyMywgMTcuODYxNTk3XSwgWy03OC4zMzc3MTksIDE4LjIyNTk2OF0sIFstNzguMjE3NzI3LCAxOC40NTQ1MzNdLCBbLTc3Ljc5NzM2NSwgMTguNTI0MjE4XSwgWy03Ny41Njk2MDEsIDE4LjQ5MDUyNV1dXSwgInR5cGUiOiAiUG9seWdvbiJ9LCAiaWQiOiAiSkFNIiwgInByb3BlcnRpZXMiOiB7ImhpZ2hsaWdodCI6IHt9LCAibmFtZSI6ICJKYW1haWNhIiwgInN0eWxlIjogeyJjb2xvciI6ICJncmF5IiwgImRhc2hBcnJheSI6ICIxLCAxIiwgImZpbGxDb2xvciI6ICIjMDAwMDAwIiwgImxpbmVPcGFjaXR5IjogMC45LCAid2VpZ2h0IjogMX19LCAidHlwZSI6ICJGZWF0dXJlIn0sIHsiZ2VvbWV0cnkiOiB7ImNvb3JkaW5hdGVzIjogW1tbMzUuNTQ1NjY1LCAzMi4zOTM5OTJdLCBbMzUuNzE5OTE4LCAzMi43MDkxOTJdLCBbMzYuODM0MDYyLCAzMi4zMTI5MzhdLCBbMzguNzkyMzQxLCAzMy4zNzg2ODZdLCBbMzkuMTk1NDY4LCAzMi4xNjEwMDldLCBbMzkuMDA0ODg2LCAzMi4wMTAyMTddLCBbMzcuMDAyMTY2LCAzMS41MDg0MTNdLCBbMzcuOTk4ODQ5LCAzMC41MDg1XSwgWzM3LjY2ODEyLCAzMC4zMzg2NjVdLCBbMzcuNTAzNTgyLCAzMC4wMDM3NzZdLCBbMzYuNzQwNTI4LCAyOS44NjUyODNdLCBbMzYuNTAxMjE0LCAyOS41MDUyNTRdLCBbMzYuMDY4OTQxLCAyOS4xOTc0OTVdLCBbMzQuOTU2MDM3LCAyOS4zNTY1NTVdLCBbMzQuOTIyNjAzLCAyOS41MDEzMjZdLCBbMzUuNDIwOTE4LCAzMS4xMDAwNjZdLCBbMzUuMzk3NTYxLCAzMS40ODkwODZdLCBbMzUuNTQ1MjUyLCAzMS43ODI1MDVdLCBbMzUuNTQ1NjY1LCAzMi4zOTM5OTJdXV0sICJ0eXBlIjogIlBvbHlnb24ifSwgImlkIjogIkpPUiIsICJwcm9wZXJ0aWVzIjogeyJoaWdobGlnaHQiOiB7fSwgIm5hbWUiOiAiSm9yZGFuIiwgInN0eWxlIjogeyJjb2xvciI6ICJncmF5IiwgImRhc2hBcnJheSI6ICIxLCAxIiwgImZpbGxDb2xvciI6ICIjMDAwMDAwIiwgImxpbmVPcGFjaXR5IjogMC45LCAid2VpZ2h0IjogMX19LCAidHlwZSI6ICJGZWF0dXJlIn0sIHsiZ2VvbWV0cnkiOiB7ImNvb3JkaW5hdGVzIjogW1tbWzEzNC42Mzg0MjgsIDM0LjE0OTIzNF0sIFsxMzQuNzY2Mzc5LCAzMy44MDYzMzVdLCBbMTM0LjIwMzQxNiwgMzMuMjAxMTc4XSwgWzEzMy43OTI5NSwgMzMuNTIxOTg1XSwgWzEzMy4yODAyNjgsIDMzLjI4OTU3XSwgWzEzMy4wMTQ4NTgsIDMyLjcwNDU2N10sIFsxMzIuMzYzMTE1LCAzMi45ODkzODJdLCBbMTMyLjM3MTE3NiwgMzMuNDYzNjQyXSwgWzEzMi45MjQzNzMsIDM0LjA2MDI5OV0sIFsxMzMuNDkyOTY4LCAzMy45NDQ2MjFdLCBbMTMzLjkwNDEwNiwgMzQuMzY0OTMxXSwgWzEzNC42Mzg0MjgsIDM0LjE0OTIzNF1dXSwgW1tbMTQwLjk3NjM4OCwgMzcuMTQyMDc0XSwgWzE0MC41OTk3NywgMzYuMzQzOTgzXSwgWzE0MC43NzQwNzQsIDM1Ljg0Mjg3N10sIFsxNDAuMjUzMjc5LCAzNS4xMzgxMTRdLCBbMTM4Ljk3NTUyOCwgMzQuNjY3Nl0sIFsxMzcuMjE3NTk5LCAzNC42MDYyODZdLCBbMTM1Ljc5Mjk4MywgMzMuNDY0ODA1XSwgWzEzNS4xMjA5ODMsIDMzLjg0OTA3MV0sIFsxMzUuMDc5NDM1LCAzNC41OTY1NDVdLCBbMTMzLjM0MDMxNiwgMzQuMzc1OTM4XSwgWzEzMi4xNTY3NzEsIDMzLjkwNDkzM10sIFsxMzAuOTg2MTQ1LCAzMy44ODU3NjFdLCBbMTMyLjAwMDAzNiwgMzMuMTQ5OTkyXSwgWzEzMS4zMzI3OSwgMzEuNDUwMzU1XSwgWzEzMC42ODYzMTgsIDMxLjAyOTU3OV0sIFsxMzAuMjAyNDIsIDMxLjQxODIzOF0sIFsxMzAuNDQ3Njc2LCAzMi4zMTk0NzVdLCBbMTI5LjgxNDY5MiwgMzIuNjEwMzFdLCBbMTI5LjQwODQ2MywgMzMuMjk2MDU2XSwgWzEzMC4zNTM5MzUsIDMzLjYwNDE1MV0sIFsxMzAuODc4NDUxLCAzNC4yMzI3NDNdLCBbMTMxLjg4NDIyOSwgMzQuNzQ5NzE0XSwgWzEzMi42MTc2NzMsIDM1LjQzMzM5M10sIFsxMzQuNjA4MzAxLCAzNS43MzE2MThdLCBbMTM1LjY3NzUzOCwgMzUuNTI3MTM0XSwgWzEzNi43MjM4MzEsIDM3LjMwNDk4NF0sIFsxMzcuMzkwNjEyLCAzNi44MjczOTFdLCBbMTM4Ljg1NzYwMiwgMzcuODI3NDg1XSwgWzEzOS40MjY0MDUsIDM4LjIxNTk2Ml0sIFsxNDAuMDU0NzksIDM5LjQzODgwN10sIFsxMzkuODgzMzc5LCA0MC41NjMzMTJdLCBbMTQwLjMwNTc4MywgNDEuMTk1MDA1XSwgWzE0MS4zNjg5NzMsIDQxLjM3ODU2XSwgWzE0MS45MTQyNjMsIDM5Ljk5MTYxNl0sIFsxNDEuODg0NjAxLCAzOS4xODA4NjVdLCBbMTQwLjk1OTQ4OSwgMzguMTc0MDAxXSwgWzE0MC45NzYzODgsIDM3LjE0MjA3NF1dXSwgW1tbMTQzLjkxMDE2MiwgNDQuMTc0MV0sIFsxNDQuNjEzNDI3LCA0My45NjA4ODNdLCBbMTQ1LjMyMDgyNSwgNDQuMzg0NzMzXSwgWzE0NS41NDMxMzcsIDQzLjI2MjA4OF0sIFsxNDQuMDU5NjYyLCA0Mi45ODgzNThdLCBbMTQzLjE4Mzg1LCA0MS45OTUyMTVdLCBbMTQxLjYxMTQ5MSwgNDIuNjc4NzkxXSwgWzE0MS4wNjcyODYsIDQxLjU4NDU5NF0sIFsxMzkuOTU1MTA2LCA0MS41Njk1NTZdLCBbMTM5LjgxNzU0NCwgNDIuNTYzNzU5XSwgWzE0MC4zMTIwODcsIDQzLjMzMzI3M10sIFsxNDEuMzgwNTQ5LCA0My4zODg4MjVdLCBbMTQxLjY3MTk1MiwgNDQuNzcyMTI1XSwgWzE0MS45Njc2NDUsIDQ1LjU1MTQ4M10sIFsxNDMuMTQyODcsIDQ0LjUxMDM1OF0sIFsxNDMuOTEwMTYyLCA0NC4xNzQxXV1dXSwgInR5cGUiOiAiTXVsdGlQb2x5Z29uIn0sICJpZCI6ICJKUE4iLCAicHJvcGVydGllcyI6IHsiaGlnaGxpZ2h0Ijoge30sICJuYW1lIjogIkphcGFuIiwgInN0eWxlIjogeyJjb2xvciI6ICJncmF5IiwgImRhc2hBcnJheSI6ICIxLCAxIiwgImZpbGxDb2xvciI6ICIjMDAwMDAwIiwgImxpbmVPcGFjaXR5IjogMC45LCAid2VpZ2h0IjogMX19LCAidHlwZSI6ICJGZWF0dXJlIn0sIHsiZ2VvbWV0cnkiOiB7ImNvb3JkaW5hdGVzIjogW1tbNzAuOTYyMzE1LCA0Mi4yNjYxNTRdLCBbNzAuMzg4OTY1LCA0Mi4wODEzMDhdLCBbNjkuMDcwMDI3LCA0MS4zODQyNDRdLCBbNjguNjMyNDgzLCA0MC42Njg2ODFdLCBbNjguMjU5ODk2LCA0MC42NjIzMjVdLCBbNjcuOTg1ODU2LCA0MS4xMzU5OTFdLCBbNjYuNzE0MDQ3LCA0MS4xNjg0NDRdLCBbNjYuNTEwNjQ5LCA0MS45ODc2NDRdLCBbNjYuMDIzMzkyLCA0MS45OTQ2NDZdLCBbNjYuMDk4MDEyLCA0Mi45OTc2Nl0sIFs2NC45MDA4MjQsIDQzLjcyODA4MV0sIFs2My4xODU3ODcsIDQzLjY1MDA3NV0sIFs2Mi4wMTMzLCA0My41MDQ0NzddLCBbNjEuMDU4MzIsIDQ0LjQwNTgxN10sIFs2MC4yMzk5NzIsIDQ0Ljc4NDAzN10sIFs1OC42ODk5ODksIDQ1LjUwMDAxNF0sIFs1OC41MDMxMjcsIDQ1LjU4NjgwNF0sIFs1NS45Mjg5MTcsIDQ0Ljk5NTg1OF0sIFs1NS45NjgxOTEsIDQxLjMwODY0Ml0sIFs1NS40NTUyNTEsIDQxLjI1OTg1OV0sIFs1NC43NTUzNDUsIDQyLjA0Mzk3MV0sIFs1NC4wNzk0MTgsIDQyLjMyNDEwOV0sIFs1Mi45NDQyOTMsIDQyLjExNjAzNF0sIFs1Mi41MDI0NiwgNDEuNzgzMzE2XSwgWzUyLjQ0NjMzOSwgNDIuMDI3MTUxXSwgWzUyLjY5MjExMiwgNDIuNDQzODk1XSwgWzUyLjUwMTQyNiwgNDIuNzkyMjk4XSwgWzUxLjM0MjQyNywgNDMuMTMyOTc1XSwgWzUwLjg5MTI5MiwgNDQuMDMxMDM0XSwgWzUwLjMzOTEyOSwgNDQuMjg0MDE2XSwgWzUwLjMwNTY0MywgNDQuNjA5ODM2XSwgWzUxLjI3ODUwMywgNDQuNTE0ODU0XSwgWzUxLjMxNjg5OSwgNDUuMjQ1OTk4XSwgWzUyLjE2NzM5LCA0NS40MDgzOTFdLCBbNTMuMDQwODc2LCA0NS4yNTkwNDddLCBbNTMuMjIwODY2LCA0Ni4yMzQ2NDZdLCBbNTMuMDQyNzM3LCA0Ni44NTMwMDZdLCBbNTIuMDQyMDIzLCA0Ni44MDQ2MzddLCBbNTEuMTkxOTQ1LCA0Ny4wNDg3MDVdLCBbNTAuMDM0MDgzLCA0Ni42MDg5OV0sIFs0OS4xMDExNiwgNDYuMzk5MzNdLCBbNDguNTkzMjQxLCA0Ni41NjEwMzRdLCBbNDguNjk0NzM0LCA0Ny4wNzU2MjhdLCBbNDguMDU3MjUzLCA0Ny43NDM3NTNdLCBbNDcuMzE1MjMxLCA0Ny43MTU4NDddLCBbNDYuNDY2NDQ2LCA0OC4zOTQxNTJdLCBbNDcuMDQzNjcyLCA0OS4xNTIwMzldLCBbNDYuNzUxNTk2LCA0OS4zNTYwMDZdLCBbNDcuNTQ5NDgsIDUwLjQ1NDY5OF0sIFs0OC41Nzc4NDEsIDQ5Ljg3NDc2XSwgWzQ4LjcwMjM4MiwgNTAuNjA1MTI4XSwgWzUwLjc2NjY0OCwgNTEuNjkyNzYyXSwgWzUyLjMyODcyNCwgNTEuNzE4NjUyXSwgWzU0LjUzMjg3OCwgNTEuMDI2MjRdLCBbNTUuNzE2OTQxLCA1MC42MjE3MTddLCBbNTYuNzc3OTYxLCA1MS4wNDM1NTFdLCBbNTguMzYzMjkxLCA1MS4wNjM2NTNdLCBbNTkuNjQyMjgyLCA1MC41NDU0NDJdLCBbNTkuOTMyODA3LCA1MC44NDIxOTRdLCBbNjEuMzM3NDI0LCA1MC43OTkwN10sIFs2MS41ODgwMDMsIDUxLjI3MjY1OV0sIFs1OS45Njc1MzQsIDUxLjk2MDQyXSwgWzYwLjkyNzI2OSwgNTIuNDQ3NTQ4XSwgWzYwLjczOTk5MywgNTIuNzE5OTg2XSwgWzYxLjY5OTk4NiwgNTIuOTc5OTk2XSwgWzYwLjk3ODA2NiwgNTMuNjY0OTkzXSwgWzYxLjQzNjU5MSwgNTQuMDA2MjY1XSwgWzY1LjE3ODUzNCwgNTQuMzU0MjI4XSwgWzY1LjY2Njg3NiwgNTQuNjAxMjY3XSwgWzY4LjE2OTEsIDU0Ljk3MDM5Ml0sIFs2OS4wNjgxNjcsIDU1LjM4NTI1XSwgWzcwLjg2NTI2NywgNTUuMTY5NzM0XSwgWzcxLjE4MDEzMSwgNTQuMTMzMjg1XSwgWzcyLjIyNDE1LCA1NC4zNzY2NTVdLCBbNzMuNTA4NTE2LCA1NC4wMzU2MTddLCBbNzMuNDI1Njc5LCA1My40ODk4MV0sIFs3NC4zODQ4NDUsIDUzLjU0Njg2MV0sIFs3Ni44OTExLCA1NC40OTA1MjRdLCBbNzYuNTI1MTc5LCA1NC4xNzcwMDNdLCBbNzcuODAwOTE2LCA1My40MDQ0MTVdLCBbODAuMDM1NTYsIDUwLjg2NDc1MV0sIFs4MC41Njg0NDcsIDUxLjM4ODMzNl0sIFs4MS45NDU5ODYsIDUwLjgxMjE5Nl0sIFs4My4zODMwMDQsIDUxLjA2OTE4M10sIFs4My45MzUxMTUsIDUwLjg4OTI0Nl0sIFs4NC40MTYzNzcsIDUwLjMxMTRdLCBbODUuMTE1NTYsIDUwLjExNzMwM10sIFs4NS41NDEyNywgNDkuNjkyODU5XSwgWzg2LjgyOTM1NywgNDkuODI2Njc1XSwgWzg3LjM1OTk3LCA0OS4yMTQ5ODFdLCBbODYuNTk4Nzc2LCA0OC41NDkxODJdLCBbODUuNzY4MjMzLCA0OC40NTU3NTFdLCBbODUuNzIwNDg0LCA0Ny40NTI5NjldLCBbODUuMTY0MjksIDQ3LjAwMDk1Nl0sIFs4My4xODA0ODQsIDQ3LjMzMDAzMV0sIFs4Mi40NTg5MjYsIDQ1LjUzOTY1XSwgWzgxLjk0NzA3MSwgNDUuMzE3MDI3XSwgWzc5Ljk2NjEwNiwgNDQuOTE3NTE3XSwgWzgwLjg2NjIwNiwgNDMuMTgwMzYyXSwgWzgwLjE4MDE1LCA0Mi45MjAwNjhdLCBbODAuMjU5OTksIDQyLjM0OTk5OV0sIFs3OS42NDM2NDUsIDQyLjQ5NjY4M10sIFs3OS4xNDIxNzcsIDQyLjg1NjA5Ml0sIFs3Ny42NTgzOTIsIDQyLjk2MDY4Nl0sIFs3Ni4wMDAzNTQsIDQyLjk4ODAyMl0sIFs3NS42MzY5NjUsIDQyLjg3NzldLCBbNzQuMjEyODY2LCA0My4yOTgzMzldLCBbNzMuNjQ1MzA0LCA0My4wOTEyNzJdLCBbNzMuNDg5NzU4LCA0Mi41MDA4OTRdLCBbNzEuODQ0NjM4LCA0Mi44NDUzOTVdLCBbNzEuMTg2MjgxLCA0Mi43MDQyOTNdLCBbNzAuOTYyMzE1LCA0Mi4yNjYxNTRdXV0sICJ0eXBlIjogIlBvbHlnb24ifSwgImlkIjogIktBWiIsICJwcm9wZXJ0aWVzIjogeyJoaWdobGlnaHQiOiB7fSwgIm5hbWUiOiAiS2F6YWtoc3RhbiIsICJzdHlsZSI6IHsiY29sb3IiOiAiZ3JheSIsICJkYXNoQXJyYXkiOiAiMSwgMSIsICJmaWxsQ29sb3IiOiAiIzAwMDAwMCIsICJsaW5lT3BhY2l0eSI6IDAuOSwgIndlaWdodCI6IDF9fSwgInR5cGUiOiAiRmVhdHVyZSJ9LCB7Imdlb21ldHJ5IjogeyJjb29yZGluYXRlcyI6IFtbWzQwLjk5MywgLTAuODU4MjldLCBbNDEuNTg1MTMsIC0xLjY4MzI1XSwgWzQwLjg4NDc3LCAtMi4wODI1NV0sIFs0MC42Mzc4NSwgLTIuNDk5NzldLCBbNDAuMjYzMDQsIC0yLjU3MzA5XSwgWzQwLjEyMTE5LCAtMy4yNzc2OF0sIFszOS44MDAwNiwgLTMuNjgxMTZdLCBbMzkuNjA0ODksIC00LjM0NjUzXSwgWzM5LjIwMjIyLCAtNC42NzY3N10sIFszNy43NjY5LCAtMy42NzcxMl0sIFszNy42OTg2OSwgLTMuMDk2OTldLCBbMzQuMDcyNjIsIC0xLjA1OTgyXSwgWzMzLjkwMzcxMSwgLTAuOTVdLCBbMzMuODkzNTY5LCAwLjEwOTgxNF0sIFszNC4xOCwgMC41MTVdLCBbMzQuNjcyMSwgMS4xNzY5NF0sIFszNS4wMzU5OSwgMS45MDU4NF0sIFszNC41OTYwNywgMy4wNTM3NF0sIFszNC40NzkxMywgMy41NTU2XSwgWzM0LjAwNSwgNC4yNDk4ODVdLCBbMzQuNjIwMTk2LCA0Ljg0NzEyM10sIFszNS4yOTgwMDcsIDUuNTA2XSwgWzM1LjgxNzQ0OCwgNS4zMzgyMzJdLCBbMzUuODE3NDQ4LCA0Ljc3Njk2Nl0sIFszNi4xNTkwNzksIDQuNDQ3ODY0XSwgWzM2Ljg1NTA5MywgNC40NDc4NjRdLCBbMzguMTIwOTE1LCAzLjU5ODYwNV0sIFszOC40MzY5NywgMy41ODg1MV0sIFszOC42NzExNCwgMy42MTYwN10sIFszOC44OTI1MSwgMy41MDA3NF0sIFszOS41NTkzODQsIDMuNDIyMDZdLCBbMzkuODU0OTQsIDMuODM4NzldLCBbNDAuNzY4NDgsIDQuMjU3MDJdLCBbNDEuMTcxOCwgMy45MTkwOV0sIFs0MS44NTUwODMsIDMuOTE4OTEyXSwgWzQwLjk4MTA1LCAyLjc4NDUyXSwgWzQwLjk5MywgLTAuODU4MjldXV0sICJ0eXBlIjogIlBvbHlnb24ifSwgImlkIjogIktFTiIsICJwcm9wZXJ0aWVzIjogeyJoaWdobGlnaHQiOiB7fSwgIm5hbWUiOiAiS2VueWEiLCAic3R5bGUiOiB7ImNvbG9yIjogImdyYXkiLCAiZGFzaEFycmF5IjogIjEsIDEiLCAiZmlsbENvbG9yIjogIiMwMDAwMDAiLCAibGluZU9wYWNpdHkiOiAwLjksICJ3ZWlnaHQiOiAxfX0sICJ0eXBlIjogIkZlYXR1cmUifSwgeyJnZW9tZXRyeSI6IHsiY29vcmRpbmF0ZXMiOiBbW1s3MC45NjIzMTUsIDQyLjI2NjE1NF0sIFs3MS4xODYyODEsIDQyLjcwNDI5M10sIFs3MS44NDQ2MzgsIDQyLjg0NTM5NV0sIFs3My40ODk3NTgsIDQyLjUwMDg5NF0sIFs3My42NDUzMDQsIDQzLjA5MTI3Ml0sIFs3NC4yMTI4NjYsIDQzLjI5ODMzOV0sIFs3NS42MzY5NjUsIDQyLjg3NzldLCBbNzYuMDAwMzU0LCA0Mi45ODgwMjJdLCBbNzcuNjU4MzkyLCA0Mi45NjA2ODZdLCBbNzkuMTQyMTc3LCA0Mi44NTYwOTJdLCBbNzkuNjQzNjQ1LCA0Mi40OTY2ODNdLCBbODAuMjU5OTksIDQyLjM0OTk5OV0sIFs4MC4xMTk0MywgNDIuMTIzOTQxXSwgWzc4LjU0MzY2MSwgNDEuNTgyMjQzXSwgWzc4LjE4NzE5NywgNDEuMTg1MzE2XSwgWzc2LjkwNDQ4NCwgNDEuMDY2NDg2XSwgWzc2LjUyNjM2OCwgNDAuNDI3OTQ2XSwgWzc1LjQ2NzgyOCwgNDAuNTYyMDcyXSwgWzc0Ljc3Njg2MiwgNDAuMzY2NDI1XSwgWzczLjgyMjI0NCwgMzkuODkzOTczXSwgWzczLjk2MDAxMywgMzkuNjYwMDA4XSwgWzczLjY3NTM3OSwgMzkuNDMxMjM3XSwgWzcxLjc4NDY5NCwgMzkuMjc5NDYzXSwgWzcwLjU0OTE2MiwgMzkuNjA0MTk4XSwgWzY5LjQ2NDg4NywgMzkuNTI2NjgzXSwgWzY5LjU1OTYxLCA0MC4xMDMyMTFdLCBbNzAuNjQ4MDE5LCAzOS45MzU3NTRdLCBbNzEuMDE0MTk4LCA0MC4yNDQzNjZdLCBbNzEuNzc0ODc1LCA0MC4xNDU4NDRdLCBbNzMuMDU1NDE3LCA0MC44NjYwMzNdLCBbNzEuODcwMTE1LCA0MS4zOTI5XSwgWzcxLjE1Nzg1OSwgNDEuMTQzNTg3XSwgWzcwLjQyMDAyMiwgNDEuNTE5OTk4XSwgWzcxLjI1OTI0OCwgNDIuMTY3NzExXSwgWzcwLjk2MjMxNSwgNDIuMjY2MTU0XV1dLCAidHlwZSI6ICJQb2x5Z29uIn0sICJpZCI6ICJLR1oiLCAicHJvcGVydGllcyI6IHsiaGlnaGxpZ2h0Ijoge30sICJuYW1lIjogIkt5cmd5enN0YW4iLCAic3R5bGUiOiB7ImNvbG9yIjogImdyYXkiLCAiZGFzaEFycmF5IjogIjEsIDEiLCAiZmlsbENvbG9yIjogIiMwMDAwMDAiLCAibGluZU9wYWNpdHkiOiAwLjksICJ3ZWlnaHQiOiAxfX0sICJ0eXBlIjogIkZlYXR1cmUifSwgeyJnZW9tZXRyeSI6IHsiY29vcmRpbmF0ZXMiOiBbW1sxMDMuNDk3MjgsIDEwLjYzMjU1NV0sIFsxMDMuMDkwNjksIDExLjE1MzY2MV0sIFsxMDIuNTg0OTMyLCAxMi4xODY1OTVdLCBbMTAyLjM0ODA5OSwgMTMuMzk0MjQ3XSwgWzEwMi45ODg0MjIsIDE0LjIyNTcyMV0sIFsxMDQuMjgxNDE4LCAxNC40MTY3NDNdLCBbMTA1LjIxODc3NywgMTQuMjczMjEyXSwgWzEwNi4wNDM5NDYsIDEzLjg4MTA5MV0sIFsxMDYuNDk2MzczLCAxNC41NzA1ODRdLCBbMTA3LjM4MjcyNywgMTQuMjAyNDQxXSwgWzEwNy42MTQ1NDgsIDEzLjUzNTUzMV0sIFsxMDcuNDkxNDAzLCAxMi4zMzcyMDZdLCBbMTA1LjgxMDUyNCwgMTEuNTY3NjE1XSwgWzEwNi4yNDk2NywgMTAuOTYxODEyXSwgWzEwNS4xOTk5MTUsIDEwLjg4OTMxXSwgWzEwNC4zMzQzMzUsIDEwLjQ4NjU0NF0sIFsxMDMuNDk3MjgsIDEwLjYzMjU1NV1dXSwgInR5cGUiOiAiUG9seWdvbiJ9LCAiaWQiOiAiS0hNIiwgInByb3BlcnRpZXMiOiB7ImhpZ2hsaWdodCI6IHt9LCAibmFtZSI6ICJDYW1ib2RpYSIsICJzdHlsZSI6IHsiY29sb3IiOiAiZ3JheSIsICJkYXNoQXJyYXkiOiAiMSwgMSIsICJmaWxsQ29sb3IiOiAiIzAwMDAwMCIsICJsaW5lT3BhY2l0eSI6IDAuOSwgIndlaWdodCI6IDF9fSwgInR5cGUiOiAiRmVhdHVyZSJ9LCB7Imdlb21ldHJ5IjogeyJjb29yZGluYXRlcyI6IFtbWzEyOC4zNDk3MTYsIDM4LjYxMjI0M10sIFsxMjkuMjEyOTIsIDM3LjQzMjM5Ml0sIFsxMjkuNDYwNDUsIDM2Ljc4NDE4OV0sIFsxMjkuNDY4MzA0LCAzNS42MzIxNDFdLCBbMTI5LjA5MTM3NywgMzUuMDgyNDg0XSwgWzEyOC4xODU4NSwgMzQuODkwMzc3XSwgWzEyNy4zODY1MTksIDM0LjQ3NTY3NF0sIFsxMjYuNDg1NzQ4LCAzNC4zOTAwNDZdLCBbMTI2LjM3MzkyLCAzNC45MzQ1Nl0sIFsxMjYuNTU5MjMxLCAzNS42ODQ1NDFdLCBbMTI2LjExNzM5OCwgMzYuNzI1NDg1XSwgWzEyNi44NjAxNDMsIDM2Ljg5MzkyNF0sIFsxMjYuMTc0NzU5LCAzNy43NDk2ODZdLCBbMTI2LjIzNzMzOSwgMzcuODQwMzc4XSwgWzEyNi42ODM3MiwgMzcuODA0NzczXSwgWzEyNy4wNzMzMDksIDM4LjI1NjExNV0sIFsxMjcuNzgwMDM1LCAzOC4zMDQ1MzZdLCBbMTI4LjIwNTc0NiwgMzguMzcwMzk3XSwgWzEyOC4zNDk3MTYsIDM4LjYxMjI0M11dXSwgInR5cGUiOiAiUG9seWdvbiJ9LCAiaWQiOiAiS09SIiwgInByb3BlcnRpZXMiOiB7ImhpZ2hsaWdodCI6IHt9LCAibmFtZSI6ICJTb3V0aCBLb3JlYSIsICJzdHlsZSI6IHsiY29sb3IiOiAiZ3JheSIsICJkYXNoQXJyYXkiOiAiMSwgMSIsICJmaWxsQ29sb3IiOiAiIzAwMDAwMCIsICJsaW5lT3BhY2l0eSI6IDAuOSwgIndlaWdodCI6IDF9fSwgInR5cGUiOiAiRmVhdHVyZSJ9LCB7Imdlb21ldHJ5IjogeyJjb29yZGluYXRlcyI6IFtbWzQ3Ljk3NDUxOSwgMjkuOTc1ODE5XSwgWzQ4LjE4MzE4OSwgMjkuNTM0NDc3XSwgWzQ4LjA5Mzk0MywgMjkuMzA2Mjk5XSwgWzQ4LjQxNjA5NCwgMjguNTUyMDA0XSwgWzQ3LjcwODg1MSwgMjguNTI2MDYzXSwgWzQ3LjQ1OTgyMiwgMjkuMDAyNTE5XSwgWzQ2LjU2ODcxMywgMjkuMDk5MDI1XSwgWzQ3LjMwMjYyMiwgMzAuMDU5MDddLCBbNDcuOTc0NTE5LCAyOS45NzU4MTldXV0sICJ0eXBlIjogIlBvbHlnb24ifSwgImlkIjogIktXVCIsICJwcm9wZXJ0aWVzIjogeyJoaWdobGlnaHQiOiB7fSwgIm5hbWUiOiAiS3V3YWl0IiwgInN0eWxlIjogeyJjb2xvciI6ICJncmF5IiwgImRhc2hBcnJheSI6ICIxLCAxIiwgImZpbGxDb2xvciI6ICIjMDAwMDAwIiwgImxpbmVPcGFjaXR5IjogMC45LCAid2VpZ2h0IjogMX19LCAidHlwZSI6ICJGZWF0dXJlIn0sIHsiZ2VvbWV0cnkiOiB7ImNvb3JkaW5hdGVzIjogW1tbMTA1LjIxODc3NywgMTQuMjczMjEyXSwgWzEwNS41NDQzMzgsIDE0LjcyMzkzNF0sIFsxMDUuNTg5MDM5LCAxNS41NzAzMTZdLCBbMTA0Ljc3OTMyMSwgMTYuNDQxODY1XSwgWzEwNC43MTY5NDcsIDE3LjQyODg1OV0sIFsxMDMuOTU2NDc3LCAxOC4yNDA5NTRdLCBbMTAzLjIwMDE5MiwgMTguMzA5NjMyXSwgWzEwMi45OTg3MDYsIDE3Ljk2MTY5NV0sIFsxMDIuNDEzMDA1LCAxNy45MzI3ODJdLCBbMTAyLjExMzU5MiwgMTguMTA5MTAyXSwgWzEwMS4wNTk1NDgsIDE3LjUxMjQ5N10sIFsxMDEuMDM1OTMxLCAxOC40MDg5MjhdLCBbMTAxLjI4MjAxNSwgMTkuNDYyNTg1XSwgWzEwMC42MDYyOTQsIDE5LjUwODM0NF0sIFsxMDAuNTQ4ODgxLCAyMC4xMDkyMzhdLCBbMTAwLjExNTk4OCwgMjAuNDE3ODVdLCBbMTAwLjMyOTEwMSwgMjAuNzg2MTIyXSwgWzEwMS4xODAwMDUsIDIxLjQzNjU3M10sIFsxMDEuMjcwMDI2LCAyMS4yMDE2NTJdLCBbMTAxLjgwMzEyLCAyMS4xNzQzNjddLCBbMTAxLjY1MjAxOCwgMjIuMzE4MTk5XSwgWzEwMi4xNzA0MzYsIDIyLjQ2NDc1M10sIFsxMDIuNzU0ODk2LCAyMS42NzUxMzddLCBbMTAzLjIwMzg2MSwgMjAuNzY2NTYyXSwgWzEwNC40MzUsIDIwLjc1ODczM10sIFsxMDQuODIyNTc0LCAxOS44ODY2NDJdLCBbMTA0LjE4MzM4OCwgMTkuNjI0NjY4XSwgWzEwMy44OTY1MzIsIDE5LjI2NTE4MV0sIFsxMDUuMDk0NTk4LCAxOC42NjY5NzVdLCBbMTA1LjkyNTc2MiwgMTcuNDg1MzE1XSwgWzEwNi41NTYwMDgsIDE2LjYwNDI4NF0sIFsxMDcuMzEyNzA2LCAxNS45MDg1MzhdLCBbMTA3LjU2NDUyNSwgMTUuMjAyMTczXSwgWzEwNy4zODI3MjcsIDE0LjIwMjQ0MV0sIFsxMDYuNDk2MzczLCAxNC41NzA1ODRdLCBbMTA2LjA0Mzk0NiwgMTMuODgxMDkxXSwgWzEwNS4yMTg3NzcsIDE0LjI3MzIxMl1dXSwgInR5cGUiOiAiUG9seWdvbiJ9LCAiaWQiOiAiTEFPIiwgInByb3BlcnRpZXMiOiB7ImhpZ2hsaWdodCI6IHt9LCAibmFtZSI6ICJMYW9zIiwgInN0eWxlIjogeyJjb2xvciI6ICJncmF5IiwgImRhc2hBcnJheSI6ICIxLCAxIiwgImZpbGxDb2xvciI6ICIjMDAwMDAwIiwgImxpbmVPcGFjaXR5IjogMC45LCAid2VpZ2h0IjogMX19LCAidHlwZSI6ICJGZWF0dXJlIn0sIHsiZ2VvbWV0cnkiOiB7ImNvb3JkaW5hdGVzIjogW1tbMzUuODIxMTAxLCAzMy4yNzc0MjZdLCBbMzUuNTUyNzk3LCAzMy4yNjQyNzVdLCBbMzUuNDYwNzA5LCAzMy4wODkwNF0sIFszNS4xMjYwNTMsIDMzLjA5MDldLCBbMzUuNDgyMjA3LCAzMy45MDU0NV0sIFszNS45Nzk1OTIsIDM0LjYxMDA1OF0sIFszNS45OTg0MDMsIDM0LjY0NDkxNF0sIFszNi40NDgxOTQsIDM0LjU5MzkzNV0sIFszNi42MTE3NSwgMzQuMjAxNzg5XSwgWzM2LjA2NjQ2LCAzMy44MjQ5MTJdLCBbMzUuODIxMTAxLCAzMy4yNzc0MjZdXV0sICJ0eXBlIjogIlBvbHlnb24ifSwgImlkIjogIkxCTiIsICJwcm9wZXJ0aWVzIjogeyJoaWdobGlnaHQiOiB7fSwgIm5hbWUiOiAiTGViYW5vbiIsICJzdHlsZSI6IHsiY29sb3IiOiAiZ3JheSIsICJkYXNoQXJyYXkiOiAiMSwgMSIsICJmaWxsQ29sb3IiOiAiIzAwMDAwMCIsICJsaW5lT3BhY2l0eSI6IDAuOSwgIndlaWdodCI6IDF9fSwgInR5cGUiOiAiRmVhdHVyZSJ9LCB7Imdlb21ldHJ5IjogeyJjb29yZGluYXRlcyI6IFtbWy03LjcxMjE1OSwgNC4zNjQ1NjZdLCBbLTcuOTc0MTA3LCA0LjM1NTc1NV0sIFstOS4wMDQ3OTQsIDQuODMyNDE5XSwgWy05LjkxMzQyLCA1LjU5MzU2MV0sIFstMTAuNzY1Mzg0LCA2LjE0MDcxMV0sIFstMTEuNDM4Nzc5LCA2Ljc4NTkxN10sIFstMTEuMTk5ODAyLCA3LjEwNTg0Nl0sIFstMTEuMTQ2NzA0LCA3LjM5NjcwNl0sIFstMTAuNjk1NTk1LCA3LjkzOTQ2NF0sIFstMTAuMjMwMDk0LCA4LjQwNjIwNl0sIFstMTAuMDE2NTY3LCA4LjQyODUwNF0sIFstOS43NTUzNDIsIDguNTQxMDU1XSwgWy05LjMzNzI4LCA3LjkyODUzNF0sIFstOS40MDMzNDgsIDcuNTI2OTA1XSwgWy05LjIwODc4NiwgNy4zMTM5MjFdLCBbLTguOTI2MDY1LCA3LjMwOTAzN10sIFstOC43MjIxMjQsIDcuNzExNjc0XSwgWy04LjQzOTI5OCwgNy42ODYwNDNdLCBbLTguNDg1NDQ2LCA3LjM5NTIwOF0sIFstOC4zODU0NTIsIDYuOTExODAxXSwgWy04LjYwMjg4LCA2LjQ2NzU2NF0sIFstOC4zMTEzNDgsIDYuMTkzMDMzXSwgWy03Ljk5MzY5MywgNi4xMjYxOV0sIFstNy41NzAxNTMsIDUuNzA3MzUyXSwgWy03LjUzOTcxNSwgNS4zMTMzNDVdLCBbLTcuNjM1MzY4LCA1LjE4ODE1OV0sIFstNy43MTIxNTksIDQuMzY0NTY2XV1dLCAidHlwZSI6ICJQb2x5Z29uIn0sICJpZCI6ICJMQlIiLCAicHJvcGVydGllcyI6IHsiaGlnaGxpZ2h0Ijoge30sICJuYW1lIjogIkxpYmVyaWEiLCAic3R5bGUiOiB7ImNvbG9yIjogImdyYXkiLCAiZGFzaEFycmF5IjogIjEsIDEiLCAiZmlsbENvbG9yIjogIiMwMDAwMDAiLCAibGluZU9wYWNpdHkiOiAwLjksICJ3ZWlnaHQiOiAxfX0sICJ0eXBlIjogIkZlYXR1cmUifSwgeyJnZW9tZXRyeSI6IHsiY29vcmRpbmF0ZXMiOiBbW1sxNC44NTEzLCAyMi44NjI5NV0sIFsxNC4xNDM4NzEsIDIyLjQ5MTI4OV0sIFsxMy41ODE0MjUsIDIzLjA0MDUwNl0sIFsxMS45OTk1MDYsIDIzLjQ3MTY2OF0sIFsxMS41NjA2NjksIDI0LjA5NzkwOV0sIFsxMC43NzEzNjQsIDI0LjU2MjUzMl0sIFsxMC4zMDM4NDcsIDI0LjM3OTMxM10sIFs5Ljk0ODI2MSwgMjQuOTM2OTU0XSwgWzkuOTEwNjkzLCAyNS4zNjU0NTVdLCBbOS4zMTk0MTEsIDI2LjA5NDMyNV0sIFs5LjcxNjI4NiwgMjYuNTEyMjA2XSwgWzkuNjI5MDU2LCAyNy4xNDA5NTNdLCBbOS43NTYxMjgsIDI3LjY4ODI1OV0sIFs5LjY4Mzg4NSwgMjguMTQ0MTc0XSwgWzkuODU5OTk4LCAyOC45NTk5OV0sIFs5LjgwNTYzNCwgMjkuNDI0NjM4XSwgWzkuNDgyMTQsIDMwLjMwNzU1Nl0sIFs5Ljk3MDAxNywgMzAuNTM5MzI1XSwgWzEwLjA1NjU3NSwgMzAuOTYxODMxXSwgWzkuOTUwMjI1LCAzMS4zNzYwN10sIFsxMC42MzY5MDEsIDMxLjc2MTQyMV0sIFsxMC45NDQ3OSwgMzIuMDgxODE1XSwgWzExLjQzMjI1MywgMzIuMzY4OTAzXSwgWzExLjQ4ODc4NywgMzMuMTM2OTk2XSwgWzEyLjY2MzMxLCAzMi43OTI3OF0sIFsxMy4wODMyNiwgMzIuODc4ODJdLCBbMTMuOTE4NjgsIDMyLjcxMTk2XSwgWzE1LjI0NTYzLCAzMi4yNjUwOF0sIFsxNS43MTM5NCwgMzEuMzc2MjZdLCBbMTYuNjExNjIsIDMxLjE4MjE4XSwgWzE4LjAyMTA5LCAzMC43NjM1N10sIFsxOS4wODY0MSwgMzAuMjY2MzldLCBbMTkuNTc0MDQsIDMwLjUyNTgyXSwgWzIwLjA1MzM1LCAzMC45ODU3Nl0sIFsxOS44MjAzMywgMzEuNzUxNzldLCBbMjAuMTMzOTcsIDMyLjIzODJdLCBbMjAuODU0NTIsIDMyLjcwNjhdLCBbMjEuNTQyOTgsIDMyLjg0MzJdLCBbMjIuODk1NzYsIDMyLjYzODU4XSwgWzIzLjIzNjgsIDMyLjE5MTQ5XSwgWzIzLjYwOTEzLCAzMi4xODcyNl0sIFsyMy45Mjc1LCAzMi4wMTY2N10sIFsyNC45MjExNCwgMzEuODk5MzZdLCBbMjUuMTY0ODIsIDMxLjU2OTE1XSwgWzI0LjgwMjg3LCAzMS4wODkyOV0sIFsyNC45NTc2MiwgMzAuNjYxNl0sIFsyNC43MDAwNywgMzAuMDQ0MTldLCBbMjUsIDI5LjIzODY1NV0sIFsyNSwgMjUuNjgyNV0sIFsyNSwgMjJdLCBbMjUsIDIwLjAwMzA0XSwgWzIzLjg1LCAyMF0sIFsyMy44Mzc2NiwgMTkuNTgwNDddLCBbMTkuODQ5MjYsIDIxLjQ5NTA5XSwgWzE1Ljg2MDg1LCAyMy40MDk3Ml0sIFsxNC44NTEzLCAyMi44NjI5NV1dXSwgInR5cGUiOiAiUG9seWdvbiJ9LCAiaWQiOiAiTEJZIiwgInByb3BlcnRpZXMiOiB7ImhpZ2hsaWdodCI6IHt9LCAibmFtZSI6ICJMaWJ5YSIsICJzdHlsZSI6IHsiY29sb3IiOiAiZ3JheSIsICJkYXNoQXJyYXkiOiAiMSwgMSIsICJmaWxsQ29sb3IiOiAiIzAwMDAwMCIsICJsaW5lT3BhY2l0eSI6IDAuOSwgIndlaWdodCI6IDF9fSwgInR5cGUiOiAiRmVhdHVyZSJ9LCB7Imdlb21ldHJ5IjogeyJjb29yZGluYXRlcyI6IFtbWzgxLjc4Nzk1OSwgNy41MjMwNTVdLCBbODEuNjM3MzIyLCA2LjQ4MTc3NV0sIFs4MS4yMTgwMiwgNi4xOTcxNDFdLCBbODAuMzQ4MzU3LCA1Ljk2ODM3XSwgWzc5Ljg3MjQ2OSwgNi43NjM0NjNdLCBbNzkuNjk1MTY3LCA4LjIwMDg0M10sIFs4MC4xNDc4MDEsIDkuODI0MDc4XSwgWzgwLjgzODgxOCwgOS4yNjg0MjddLCBbODEuMzA0MzE5LCA4LjU2NDIwNl0sIFs4MS43ODc5NTksIDcuNTIzMDU1XV1dLCAidHlwZSI6ICJQb2x5Z29uIn0sICJpZCI6ICJMS0EiLCAicHJvcGVydGllcyI6IHsiaGlnaGxpZ2h0Ijoge30sICJuYW1lIjogIlNyaSBMYW5rYSIsICJzdHlsZSI6IHsiY29sb3IiOiAiZ3JheSIsICJkYXNoQXJyYXkiOiAiMSwgMSIsICJmaWxsQ29sb3IiOiAiIzAwMDAwMCIsICJsaW5lT3BhY2l0eSI6IDAuOSwgIndlaWdodCI6IDF9fSwgInR5cGUiOiAiRmVhdHVyZSJ9LCB7Imdlb21ldHJ5IjogeyJjb29yZGluYXRlcyI6IFtbWzI4Ljk3ODI2MywgLTI4Ljk1NTU5N10sIFsyOS4zMjUxNjYsIC0yOS4yNTczODddLCBbMjkuMDE4NDE1LCAtMjkuNzQzNzY2XSwgWzI4Ljg0ODQsIC0zMC4wNzAwNTFdLCBbMjguMjkxMDY5LCAtMzAuMjI2MjE3XSwgWzI4LjEwNzIwNSwgLTMwLjU0NTczMl0sIFsyNy43NDkzOTcsIC0zMC42NDUxMDZdLCBbMjYuOTk5MjYyLCAtMjkuODc1OTU0XSwgWzI3LjUzMjUxMSwgLTI5LjI0MjcxMV0sIFsyOC4wNzQzMzgsIC0yOC44NTE0NjldLCBbMjguNTQxNywgLTI4LjY0NzUwMl0sIFsyOC45NzgyNjMsIC0yOC45NTU1OTddXV0sICJ0eXBlIjogIlBvbHlnb24ifSwgImlkIjogIkxTTyIsICJwcm9wZXJ0aWVzIjogeyJoaWdobGlnaHQiOiB7fSwgIm5hbWUiOiAiTGVzb3RobyIsICJzdHlsZSI6IHsiY29sb3IiOiAiZ3JheSIsICJkYXNoQXJyYXkiOiAiMSwgMSIsICJmaWxsQ29sb3IiOiAiIzAwMDAwMCIsICJsaW5lT3BhY2l0eSI6IDAuOSwgIndlaWdodCI6IDF9fSwgInR5cGUiOiAiRmVhdHVyZSJ9LCB7Imdlb21ldHJ5IjogeyJjb29yZGluYXRlcyI6IFtbWzIyLjczMTA5OSwgNTQuMzI3NTM3XSwgWzIyLjY1MTA1MiwgNTQuNTgyNzQxXSwgWzIyLjc1Nzc2NCwgNTQuODU2NTc0XSwgWzIyLjMxNTcyNCwgNTUuMDE1Mjk5XSwgWzIxLjI2ODQ0OSwgNTUuMTkwNDgyXSwgWzIxLjA1NTgsIDU2LjAzMTA3Nl0sIFsyMi4yMDExNTcsIDU2LjMzNzgwMl0sIFsyMy44NzgyNjQsIDU2LjI3MzY3MV0sIFsyNC44NjA2ODQsIDU2LjM3MjUyOF0sIFsyNS4wMDA5MzQsIDU2LjE2NDUzMV0sIFsyNS41MzMwNDcsIDU2LjEwMDI5N10sIFsyNi40OTQzMzEsIDU1LjYxNTEwN10sIFsyNi41ODgyNzksIDU1LjE2NzE3Nl0sIFsyNS43Njg0MzMsIDU0Ljg0Njk2M10sIFsyNS41MzYzNTQsIDU0LjI4MjQyM10sIFsyNC40NTA2ODQsIDUzLjkwNTcwMl0sIFsyMy40ODQxMjgsIDUzLjkxMjQ5OF0sIFsyMy4yNDM5ODcsIDU0LjIyMDU2N10sIFsyMi43MzEwOTksIDU0LjMyNzUzN11dXSwgInR5cGUiOiAiUG9seWdvbiJ9LCAiaWQiOiAiTFRVIiwgInByb3BlcnRpZXMiOiB7ImhpZ2hsaWdodCI6IHt9LCAibmFtZSI6ICJMaXRodWFuaWEiLCAic3R5bGUiOiB7ImNvbG9yIjogImdyYXkiLCAiZGFzaEFycmF5IjogIjEsIDEiLCAiZmlsbENvbG9yIjogIiMwMDAwMDAiLCAibGluZU9wYWNpdHkiOiAwLjksICJ3ZWlnaHQiOiAxfX0sICJ0eXBlIjogIkZlYXR1cmUifSwgeyJnZW9tZXRyeSI6IHsiY29vcmRpbmF0ZXMiOiBbW1s2LjA0MzA3MywgNTAuMTI4MDUyXSwgWzYuMjQyNzUxLCA0OS45MDIyMjZdLCBbNi4xODYzMiwgNDkuNDYzODAzXSwgWzUuODk3NzU5LCA0OS40NDI2NjddLCBbNS42NzQwNTIsIDQ5LjUyOTQ4NF0sIFs1Ljc4MjQxNywgNTAuMDkwMzI4XSwgWzYuMDQzMDczLCA1MC4xMjgwNTJdXV0sICJ0eXBlIjogIlBvbHlnb24ifSwgImlkIjogIkxVWCIsICJwcm9wZXJ0aWVzIjogeyJoaWdobGlnaHQiOiB7fSwgIm5hbWUiOiAiTHV4ZW1ib3VyZyIsICJzdHlsZSI6IHsiY29sb3IiOiAiZ3JheSIsICJkYXNoQXJyYXkiOiAiMSwgMSIsICJmaWxsQ29sb3IiOiAiIzAwMDAwMCIsICJsaW5lT3BhY2l0eSI6IDAuOSwgIndlaWdodCI6IDF9fSwgInR5cGUiOiAiRmVhdHVyZSJ9LCB7Imdlb21ldHJ5IjogeyJjb29yZGluYXRlcyI6IFtbWzIxLjA1NTgsIDU2LjAzMTA3Nl0sIFsyMS4wOTA0MjQsIDU2Ljc4Mzg3M10sIFsyMS41ODE4NjYsIDU3LjQxMTg3MV0sIFsyMi41MjQzNDEsIDU3Ljc1MzM3NF0sIFsyMy4zMTg0NTMsIDU3LjAwNjIzNl0sIFsyNC4xMjA3MywgNTcuMDI1NjkzXSwgWzI0LjMxMjg2MywgNTcuNzkzNDI0XSwgWzI1LjE2NDU5NCwgNTcuOTcwMTU3XSwgWzI1LjYwMjgxLCA1Ny44NDc1MjldLCBbMjYuNDYzNTMyLCA1Ny40NzYzODldLCBbMjcuMjg4MTg1LCA1Ny40NzQ1MjhdLCBbMjcuNzcwMDE2LCA1Ny4yNDQyNThdLCBbMjcuODU1MjgyLCA1Ni43NTkzMjZdLCBbMjguMTc2NzA5LCA1Ni4xNjkxM10sIFsyNy4xMDI0NiwgNTUuNzgzMzE0XSwgWzI2LjQ5NDMzMSwgNTUuNjE1MTA3XSwgWzI1LjUzMzA0NywgNTYuMTAwMjk3XSwgWzI1LjAwMDkzNCwgNTYuMTY0NTMxXSwgWzI0Ljg2MDY4NCwgNTYuMzcyNTI4XSwgWzIzLjg3ODI2NCwgNTYuMjczNjcxXSwgWzIyLjIwMTE1NywgNTYuMzM3ODAyXSwgWzIxLjA1NTgsIDU2LjAzMTA3Nl1dXSwgInR5cGUiOiAiUG9seWdvbiJ9LCAiaWQiOiAiTFZBIiwgInByb3BlcnRpZXMiOiB7ImhpZ2hsaWdodCI6IHt9LCAibmFtZSI6ICJMYXR2aWEiLCAic3R5bGUiOiB7ImNvbG9yIjogImdyYXkiLCAiZGFzaEFycmF5IjogIjEsIDEiLCAiZmlsbENvbG9yIjogIiMwMDAwMDAiLCAibGluZU9wYWNpdHkiOiAwLjksICJ3ZWlnaHQiOiAxfX0sICJ0eXBlIjogIkZlYXR1cmUifSwgeyJnZW9tZXRyeSI6IHsiY29vcmRpbmF0ZXMiOiBbW1stNS4xOTM4NjMsIDM1Ljc1NTE4Ml0sIFstNC41OTEwMDYsIDM1LjMzMDcxMl0sIFstMy42NDAwNTcsIDM1LjM5OTg1NV0sIFstMi42MDQzMDYsIDM1LjE3OTA5M10sIFstMi4xNjk5MTQsIDM1LjE2ODM5Nl0sIFstMS43OTI5ODYsIDM0LjUyNzkxOV0sIFstMS43MzM0NTUsIDMzLjkxOTcxM10sIFstMS4zODgwNDksIDMyLjg2NDAxNV0sIFstMS4xMjQ1NTEsIDMyLjY1MTUyMl0sIFstMS4zMDc4OTksIDMyLjI2Mjg4OV0sIFstMi42MTY2MDUsIDMyLjA5NDM0Nl0sIFstMy4wNjg5OCwgMzEuNzI0NDk4XSwgWy0zLjY0NzQ5OCwgMzEuNjM3Mjk0XSwgWy0zLjY5MDQ0MSwgMzAuODk2OTUyXSwgWy00Ljg1OTY0NiwgMzAuNTAxMTg4XSwgWy01LjI0MjEyOSwgMzAuMDAwNDQzXSwgWy02LjA2MDYzMiwgMjkuNzMxN10sIFstNy4wNTkyMjgsIDI5LjU3OTIyOF0sIFstOC42NzQxMTYsIDI4Ljg0MTI4OV0sIFstOC42NjU1OSwgMjcuNjU2NDI2XSwgWy04LjgxNzgwOSwgMjcuNjU2NDI2XSwgWy04LjgxNzgyOCwgMjcuNjU2NDI2XSwgWy04Ljc5NDg4NCwgMjcuMTIwNjk2XSwgWy05LjQxMzAzNywgMjcuMDg4NDc2XSwgWy05LjczNTM0MywgMjYuODYwOTQ1XSwgWy0xMC4xODk0MjQsIDI2Ljg2MDk0NV0sIFstMTAuNTUxMjYzLCAyNi45OTA4MDhdLCBbLTExLjM5MjU1NSwgMjYuODgzNDI0XSwgWy0xMS43MTgyMiwgMjYuMTA0MDkyXSwgWy0xMi4wMzA3NTksIDI2LjAzMDg2Nl0sIFstMTIuNTAwOTYzLCAyNC43NzAxMTZdLCBbLTEzLjg5MTExLCAyMy42OTEwMDldLCBbLTE0LjIyMTE2OCwgMjIuMzEwMTYzXSwgWy0xNC42MzA4MzMsIDIxLjg2MDk0XSwgWy0xNC43NTA5NTUsIDIxLjUwMDZdLCBbLTE3LjAwMjk2MiwgMjEuNDIwNzM0XSwgWy0xNy4wMjA0MjgsIDIxLjQyMjMxXSwgWy0xNi45NzMyNDgsIDIxLjg4NTc0NV0sIFstMTYuNTg5MTM3LCAyMi4xNTgyMzRdLCBbLTE2LjI2MTkyMiwgMjIuNjc5MzRdLCBbLTE2LjMyNjQxNCwgMjMuMDE3NzY4XSwgWy0xNS45ODI2MTEsIDIzLjcyMzM1OF0sIFstMTUuNDI2MDA0LCAyNC4zNTkxMzRdLCBbLTE1LjA4OTMzMiwgMjQuNTIwMjYxXSwgWy0xNC44MjQ2NDUsIDI1LjEwMzUzM10sIFstMTQuODAwOTI2LCAyNS42MzYyNjVdLCBbLTE0LjQzOTk0LCAyNi4yNTQ0MThdLCBbLTEzLjc3MzgwNSwgMjYuNjE4ODkyXSwgWy0xMy4xMzk5NDIsIDI3LjY0MDE0OF0sIFstMTMuMTIxNjEzLCAyNy42NTQxNDhdLCBbLTEyLjYxODgzNywgMjguMDM4MTg2XSwgWy0xMS42ODg5MTksIDI4LjE0ODY0NF0sIFstMTAuOTAwOTU3LCAyOC44MzIxNDJdLCBbLTEwLjM5OTU5MiwgMjkuMDk4NTg2XSwgWy05LjU2NDgxMSwgMjkuOTMzNTc0XSwgWy05LjgxNDcxOCwgMzEuMTc3NzM2XSwgWy05LjQzNDc5MywgMzIuMDM4MDk2XSwgWy05LjMwMDY5MywgMzIuNTY0Njc5XSwgWy04LjY1NzQ3NiwgMzMuMjQwMjQ1XSwgWy03LjY1NDE3OCwgMzMuNjk3MDY1XSwgWy02LjkxMjU0NCwgMzQuMTEwNDc2XSwgWy02LjI0NDM0MiwgMzUuMTQ1ODY1XSwgWy01LjkyOTk5NCwgMzUuNzU5OTg4XSwgWy01LjE5Mzg2MywgMzUuNzU1MTgyXV1dLCAidHlwZSI6ICJQb2x5Z29uIn0sICJpZCI6ICJNQVIiLCAicHJvcGVydGllcyI6IHsiaGlnaGxpZ2h0Ijoge30sICJuYW1lIjogIk1vcm9jY28iLCAic3R5bGUiOiB7ImNvbG9yIjogImdyYXkiLCAiZGFzaEFycmF5IjogIjEsIDEiLCAiZmlsbENvbG9yIjogIiMwMDAwMDAiLCAibGluZU9wYWNpdHkiOiAwLjksICJ3ZWlnaHQiOiAxfX0sICJ0eXBlIjogIkZlYXR1cmUifSwgeyJnZW9tZXRyeSI6IHsiY29vcmRpbmF0ZXMiOiBbW1syNi42MTkzMzcsIDQ4LjIyMDcyNl0sIFsyNi44NTc4MjQsIDQ4LjM2ODIxMV0sIFsyNy41MjI1MzcsIDQ4LjQ2NzExOV0sIFsyOC4yNTk1NDcsIDQ4LjE1NTU2Ml0sIFsyOC42NzA4OTEsIDQ4LjExODE0OV0sIFsyOS4xMjI2OTgsIDQ3Ljg0OTA5NV0sIFsyOS4wNTA4NjgsIDQ3LjUxMDIyN10sIFsyOS40MTUxMzUsIDQ3LjM0NjY0NV0sIFsyOS41NTk2NzQsIDQ2LjkyODU4M10sIFsyOS45MDg4NTIsIDQ2LjY3NDM2MV0sIFsyOS44MzgyMSwgNDYuNTI1MzI2XSwgWzMwLjAyNDY1OSwgNDYuNDIzOTM3XSwgWzI5Ljc1OTk3MiwgNDYuMzQ5OTg4XSwgWzI5LjE3MDY1NCwgNDYuMzc5MjYyXSwgWzI5LjA3MjEwNywgNDYuNTE3Njc4XSwgWzI4Ljg2Mjk3MiwgNDYuNDM3ODg5XSwgWzI4LjkzMzcxNywgNDYuMjU4ODNdLCBbMjguNjU5OTg3LCA0NS45Mzk5ODddLCBbMjguNDg1MjY5LCA0NS41OTY5MDddLCBbMjguMjMzNTU0LCA0NS40ODgyODNdLCBbMjguMDU0NDQzLCA0NS45NDQ1ODZdLCBbMjguMTYwMDE4LCA0Ni4zNzE1NjNdLCBbMjguMTI4MDMsIDQ2LjgxMDQ3Nl0sIFsyNy41NTExNjYsIDQ3LjQwNTExN10sIFsyNy4yMzM4NzMsIDQ3LjgyNjc3MV0sIFsyNi45MjQxNzYsIDQ4LjEyMzI2NF0sIFsyNi42MTkzMzcsIDQ4LjIyMDcyNl1dXSwgInR5cGUiOiAiUG9seWdvbiJ9LCAiaWQiOiAiTURBIiwgInByb3BlcnRpZXMiOiB7ImhpZ2hsaWdodCI6IHt9LCAibmFtZSI6ICJNb2xkb3ZhIiwgInN0eWxlIjogeyJjb2xvciI6ICJncmF5IiwgImRhc2hBcnJheSI6ICIxLCAxIiwgImZpbGxDb2xvciI6ICIjMDAwMDAwIiwgImxpbmVPcGFjaXR5IjogMC45LCAid2VpZ2h0IjogMX19LCAidHlwZSI6ICJGZWF0dXJlIn0sIHsiZ2VvbWV0cnkiOiB7ImNvb3JkaW5hdGVzIjogW1tbNDkuNTQzNTE5LCAtMTIuNDY5ODMzXSwgWzQ5LjgwODk4MSwgLTEyLjg5NTI4NV0sIFs1MC4wNTY1MTEsIC0xMy41NTU3NjFdLCBbNTAuMjE3NDMxLCAtMTQuNzU4Nzg5XSwgWzUwLjQ3NjUzNywgLTE1LjIyNjUxMl0sIFs1MC4zNzcxMTEsIC0xNS43MDYwNjldLCBbNTAuMjAwMjc1LCAtMTYuMDAwMjYzXSwgWzQ5Ljg2MDYwNiwgLTE1LjQxNDI1M10sIFs0OS42NzI2MDcsIC0xNS43MTAyMDRdLCBbNDkuODYzMzQ0LCAtMTYuNDUxMDM3XSwgWzQ5Ljc3NDU2NCwgLTE2Ljg3NTA0Ml0sIFs0OS40OTg2MTIsIC0xNy4xMDYwMzZdLCBbNDkuNDM1NjE5LCAtMTcuOTUzMDY0XSwgWzQ5LjA0MTc5MiwgLTE5LjExODc4MV0sIFs0OC41NDg1NDEsIC0yMC40OTY4ODhdLCBbNDcuOTMwNzQ5LCAtMjIuMzkxNTAxXSwgWzQ3LjU0NzcyMywgLTIzLjc4MTk1OV0sIFs0Ny4wOTU3NjEsIC0yNC45NDE2M10sIFs0Ni4yODI0NzgsIC0yNS4xNzg0NjNdLCBbNDUuNDA5NTA4LCAtMjUuNjAxNDM0XSwgWzQ0LjgzMzU3NCwgLTI1LjM0NjEwMV0sIFs0NC4wMzk3MiwgLTI0Ljk4ODM0NV0sIFs0My43NjM3NjgsIC0yNC40NjA2NzddLCBbNDMuNjk3Nzc4LCAtMjMuNTc0MTE2XSwgWzQzLjM0NTY1NCwgLTIyLjc3NjkwNF0sIFs0My4yNTQxODcsIC0yMi4wNTc0MTNdLCBbNDMuNDMzMjk4LCAtMjEuMzM2NDc1XSwgWzQzLjg5MzY4MywgLTIxLjE2MzMwN10sIFs0My44OTYzNywgLTIwLjgzMDQ1OV0sIFs0NC4zNzQzMjUsIC0yMC4wNzIzNjZdLCBbNDQuNDY0Mzk3LCAtMTkuNDM1NDU0XSwgWzQ0LjIzMjQyMiwgLTE4Ljk2MTk5NV0sIFs0NC4wNDI5NzYsIC0xOC4zMzEzODddLCBbNDMuOTYzMDg0LCAtMTcuNDA5OTQ1XSwgWzQ0LjMxMjQ2OSwgLTE2Ljg1MDQ5Nl0sIFs0NC40NDY1MTcsIC0xNi4yMTYyMTldLCBbNDQuOTQ0OTM3LCAtMTYuMTc5Mzc0XSwgWzQ1LjUwMjczMiwgLTE1Ljk3NDM3M10sIFs0NS44NzI5OTQsIC0xNS43OTM0NTRdLCBbNDYuMzEyMjQzLCAtMTUuNzgwMDE4XSwgWzQ2Ljg4MjE4MywgLTE1LjIxMDE4Ml0sIFs0Ny43MDUxMywgLTE0LjU5NDMwM10sIFs0OC4wMDUyMTUsIC0xNC4wOTEyMzNdLCBbNDcuODY5MDQ3LCAtMTMuNjYzODY5XSwgWzQ4LjI5MzgyOCwgLTEzLjc4NDA2OF0sIFs0OC44NDUwNiwgLTEzLjA4OTE3NV0sIFs0OC44NjM1MDksIC0xMi40ODc4NjhdLCBbNDkuMTk0NjUxLCAtMTIuMDQwNTU3XSwgWzQ5LjU0MzUxOSwgLTEyLjQ2OTgzM11dXSwgInR5cGUiOiAiUG9seWdvbiJ9LCAiaWQiOiAiTURHIiwgInByb3BlcnRpZXMiOiB7ImhpZ2hsaWdodCI6IHt9LCAibmFtZSI6ICJNYWRhZ2FzY2FyIiwgInN0eWxlIjogeyJjb2xvciI6ICJncmF5IiwgImRhc2hBcnJheSI6ICIxLCAxIiwgImZpbGxDb2xvciI6ICIjMDAwMDAwIiwgImxpbmVPcGFjaXR5IjogMC45LCAid2VpZ2h0IjogMX19LCAidHlwZSI6ICJGZWF0dXJlIn0sIHsiZ2VvbWV0cnkiOiB7ImNvb3JkaW5hdGVzIjogW1tbLTk3LjE0MDAwOCwgMjUuODY5OTk3XSwgWy05Ny41MjgwNzIsIDI0Ljk5MjE0NF0sIFstOTcuNzAyOTQ2LCAyNC4yNzIzNDNdLCBbLTk3Ljc3NjA0MiwgMjIuOTMyNThdLCBbLTk3Ljg3MjM2NywgMjIuNDQ0MjEyXSwgWy05Ny42OTkwNDQsIDIxLjg5ODY4OV0sIFstOTcuMzg4OTYsIDIxLjQxMTAxOV0sIFstOTcuMTg5MzMzLCAyMC42MzU0MzNdLCBbLTk2LjUyNTU3NiwgMTkuODkwOTMxXSwgWy05Ni4yOTIxMjcsIDE5LjMyMDM3MV0sIFstOTUuOTAwODg1LCAxOC44MjgwMjRdLCBbLTk0LjgzOTA2MywgMTguNTYyNzE3XSwgWy05NC40MjU3MywgMTguMTQ0MzcxXSwgWy05My41NDg2NTEsIDE4LjQyMzgzN10sIFstOTIuNzg2MTE0LCAxOC41MjQ4MzldLCBbLTkyLjAzNzM0OCwgMTguNzA0NTY5XSwgWy05MS40MDc5MDMsIDE4Ljg3NjA4M10sIFstOTAuNzcxODcsIDE5LjI4NDEyXSwgWy05MC41MzM1OSwgMTkuODY3NDE4XSwgWy05MC40NTE0NzYsIDIwLjcwNzUyMl0sIFstOTAuMjc4NjE4LCAyMC45OTk4NTVdLCBbLTg5LjYwMTMyMSwgMjEuMjYxNzI2XSwgWy04OC41NDM4NjYsIDIxLjQ5MzY3NV0sIFstODcuNjU4NDE3LCAyMS40NTg4NDZdLCBbLTg3LjA1MTg5LCAyMS41NDM1NDNdLCBbLTg2LjgxMTk4MiwgMjEuMzMxNTE1XSwgWy04Ni44NDU5MDgsIDIwLjg0OTg2NV0sIFstODcuMzgzMjkxLCAyMC4yNTU0MDVdLCBbLTg3LjYyMTA1NCwgMTkuNjQ2NTUzXSwgWy04Ny40MzY3NSwgMTkuNDcyNDAzXSwgWy04Ny41ODY1NiwgMTkuMDQwMTNdLCBbLTg3LjgzNzE5MSwgMTguMjU5ODE2XSwgWy04OC4wOTA2NjQsIDE4LjUxNjY0OF0sIFstODguMzAwMDMxLCAxOC40OTk5ODJdLCBbLTg4LjQ5MDEyMywgMTguNDg2ODMxXSwgWy04OC44NDgzNDQsIDE3Ljg4MzE5OF0sIFstODkuMDI5ODU3LCAxOC4wMDE1MTFdLCBbLTg5LjE1MDkwOSwgMTcuOTU1NDY4XSwgWy04OS4xNDMwOCwgMTcuODA4MzE5XSwgWy05MC4wNjc5MzQsIDE3LjgxOTMyNl0sIFstOTEuMDAxNTIsIDE3LjgxNzU5NV0sIFstOTEuMDAyMjY5LCAxNy4yNTQ2NThdLCBbLTkxLjQ1MzkyMSwgMTcuMjUyMTc3XSwgWy05MS4wODE2NywgMTYuOTE4NDc3XSwgWy05MC43MTE4MjIsIDE2LjY4NzQ4M10sIFstOTAuNjAwODQ3LCAxNi40NzA3NzhdLCBbLTkwLjQzODg2NywgMTYuNDEwMTFdLCBbLTkwLjQ2NDQ3MywgMTYuMDY5NTYyXSwgWy05MS43NDc5NiwgMTYuMDY2NTY1XSwgWy05Mi4yMjkyNDksIDE1LjI1MTQ0N10sIFstOTIuMDg3MjE2LCAxNS4wNjQ1ODVdLCBbLTkyLjIwMzIzLCAxNC44MzAxMDNdLCBbLTkyLjIyNzc1LCAxNC41Mzg4MjldLCBbLTkzLjM1OTQ2NCwgMTUuNjE1NDNdLCBbLTkzLjg3NTE2OSwgMTUuOTQwMTY0XSwgWy05NC42OTE2NTYsIDE2LjIwMDk3NV0sIFstOTUuMjUwMjI3LCAxNi4xMjgzMThdLCBbLTk2LjA1MzM4MiwgMTUuNzUyMDg4XSwgWy05Ni41NTc0MzQsIDE1LjY1MzUxNV0sIFstOTcuMjYzNTkyLCAxNS45MTcwNjVdLCBbLTk4LjAxMzAzLCAxNi4xMDczMTJdLCBbLTk4Ljk0NzY3NiwgMTYuNTY2MDQzXSwgWy05OS42OTczOTcsIDE2LjcwNjE2NF0sIFstMTAwLjgyOTQ5OSwgMTcuMTcxMDcxXSwgWy0xMDEuNjY2MDg5LCAxNy42NDkwMjZdLCBbLTEwMS45MTg1MjgsIDE3LjkxNjA5XSwgWy0xMDIuNDc4MTMyLCAxNy45NzU3NTFdLCBbLTEwMy41MDA5OSwgMTguMjkyMjk1XSwgWy0xMDMuOTE3NTI3LCAxOC43NDg1NzJdLCBbLTEwNC45OTIwMSwgMTkuMzE2MTM0XSwgWy0xMDUuNDkzMDM4LCAxOS45NDY3NjddLCBbLTEwNS43MzEzOTYsIDIwLjQzNDEwMl0sIFstMTA1LjM5Nzc3MywgMjAuNTMxNzE5XSwgWy0xMDUuNTAwNjYxLCAyMC44MTY4OTVdLCBbLTEwNS4yNzA3NTIsIDIxLjA3NjI4NV0sIFstMTA1LjI2NTgxNywgMjEuNDIyMTA0XSwgWy0xMDUuNjAzMTYxLCAyMS44NzExNDZdLCBbLTEwNS42OTM0MTQsIDIyLjI2OTA4XSwgWy0xMDYuMDI4NzE2LCAyMi43NzM3NTJdLCBbLTEwNi45MDk5OCwgMjMuNzY3Nzc0XSwgWy0xMDcuOTE1NDQ5LCAyNC41NDg5MTVdLCBbLTEwOC40MDE5MDUsIDI1LjE3MjMxNF0sIFstMTA5LjI2MDE5OSwgMjUuNTgwNjA5XSwgWy0xMDkuNDQ0MDg5LCAyNS44MjQ4ODRdLCBbLTEwOS4yOTE2NDQsIDI2LjQ0MjkzNF0sIFstMTA5LjgwMTQ1OCwgMjYuNjc2MTc2XSwgWy0xMTAuMzkxNzMyLCAyNy4xNjIxMTVdLCBbLTExMC42NDEwMTksIDI3Ljg1OTg3Nl0sIFstMTExLjE3ODkxOSwgMjcuOTQxMjQxXSwgWy0xMTEuNzU5NjA3LCAyOC40Njc5NTNdLCBbLTExMi4yMjgyMzUsIDI4Ljk1NDQwOV0sIFstMTEyLjI3MTgyNCwgMjkuMjY2ODQ0XSwgWy0xMTIuODA5NTk0LCAzMC4wMjExMTRdLCBbLTExMy4xNjM4MTEsIDMwLjc4Njg4MV0sIFstMTEzLjE0ODY2OSwgMzEuMTcwOTY2XSwgWy0xMTMuODcxODgxLCAzMS41Njc2MDhdLCBbLTExNC4yMDU3MzcsIDMxLjUyNDA0NV0sIFstMTE0Ljc3NjQ1MSwgMzEuNzk5NTMyXSwgWy0xMTQuOTM2NywgMzEuMzkzNDg1XSwgWy0xMTQuNzcxMjMyLCAzMC45MTM2MTddLCBbLTExNC42NzM4OTksIDMwLjE2MjY4MV0sIFstMTE0LjMzMDk3NCwgMjkuNzUwNDMyXSwgWy0xMTMuNTg4ODc1LCAyOS4wNjE2MTFdLCBbLTExMy40MjQwNTMsIDI4LjgyNjE3NF0sIFstMTEzLjI3MTk2OSwgMjguNzU0NzgzXSwgWy0xMTMuMTQwMDM5LCAyOC40MTEyODldLCBbLTExMi45NjIyOTgsIDI4LjQyNTE5XSwgWy0xMTIuNzYxNTg3LCAyNy43ODAyMTddLCBbLTExMi40NTc5MTEsIDI3LjUyNTgxNF0sIFstMTEyLjI0NDk1MiwgMjcuMTcxNzI3XSwgWy0xMTEuNjE2NDg5LCAyNi42NjI4MTddLCBbLTExMS4yODQ2NzUsIDI1LjczMjU5XSwgWy0xMTAuOTg3ODE5LCAyNS4yOTQ2MDZdLCBbLTExMC43MTAwMDcsIDI0LjgyNjAwNF0sIFstMTEwLjY1NTA0OSwgMjQuMjk4NTk1XSwgWy0xMTAuMTcyODU2LCAyNC4yNjU1NDhdLCBbLTEwOS43NzE4NDcsIDIzLjgxMTE4M10sIFstMTA5LjQwOTEwNCwgMjMuMzY0NjcyXSwgWy0xMDkuNDMzMzkyLCAyMy4xODU1ODhdLCBbLTEwOS44NTQyMTksIDIyLjgxODI3Ml0sIFstMTEwLjAzMTM5MiwgMjIuODIzMDc4XSwgWy0xMTAuMjk1MDcxLCAyMy40MzA5NzNdLCBbLTExMC45NDk1MDEsIDI0LjAwMDk2NF0sIFstMTExLjY3MDU2OCwgMjQuNDg0NDIzXSwgWy0xMTIuMTgyMDM2LCAyNC43Mzg0MTNdLCBbLTExMi4xNDg5ODksIDI1LjQ3MDEyNV0sIFstMTEyLjMwMDcxMSwgMjYuMDEyMDA0XSwgWy0xMTIuNzc3Mjk3LCAyNi4zMjE5Nl0sIFstMTEzLjQ2NDY3MSwgMjYuNzY4MTg2XSwgWy0xMTMuNTk2NzMsIDI2LjYzOTQ2XSwgWy0xMTMuODQ4OTM3LCAyNi45MDAwNjRdLCBbLTExNC40NjU3NDcsIDI3LjE0MjA5XSwgWy0xMTUuMDU1MTQyLCAyNy43MjI3MjddLCBbLTExNC45ODIyNTMsIDI3Ljc5ODJdLCBbLTExNC41NzAzNjYsIDI3Ljc0MTQ4NV0sIFstMTE0LjE5OTMyOSwgMjguMTE1MDAzXSwgWy0xMTQuMTYyMDE4LCAyOC41NjYxMTJdLCBbLTExNC45MzE4NDIsIDI5LjI3OTQ3OV0sIFstMTE1LjUxODY1NCwgMjkuNTU2MzYyXSwgWy0xMTUuODg3MzY1LCAzMC4xODA3OTRdLCBbLTExNi4yNTgzNSwgMzAuODM2NDY0XSwgWy0xMTYuNzIxNTI2LCAzMS42MzU3NDRdLCBbLTExNy4xMjc3NiwgMzIuNTM1MzRdLCBbLTExNS45OTEzNSwgMzIuNjEyMzldLCBbLTExNC43MjEzOSwgMzIuNzIwODNdLCBbLTExNC44MTUsIDMyLjUyNTI4XSwgWy0xMTMuMzA0OTgsIDMyLjAzOTE0XSwgWy0xMTEuMDIzNjEsIDMxLjMzNDcyXSwgWy0xMDkuMDM1LCAzMS4zNDE5NF0sIFstMTA4LjI0MTk0LCAzMS4zNDIyMl0sIFstMTA4LjI0LCAzMS43NTQ4NTRdLCBbLTEwNi41MDc1OSwgMzEuNzU0NTJdLCBbLTEwNi4xNDI5LCAzMS4zOTk5NV0sIFstMTA1LjYzMTU5LCAzMS4wODM4M10sIFstMTA1LjAzNzM3LCAzMC42NDQwMl0sIFstMTA0LjcwNTc1LCAzMC4xMjE3M10sIFstMTA0LjQ1Njk3LCAyOS41NzE5Nl0sIFstMTAzLjk0LCAyOS4yN10sIFstMTAzLjExLCAyOC45N10sIFstMTAyLjQ4LCAyOS43Nl0sIFstMTAxLjY2MjQsIDI5Ljc3OTNdLCBbLTEwMC45NTc2LCAyOS4zODA3MV0sIFstMTAwLjQ1NTg0LCAyOC42OTYxMl0sIFstMTAwLjExLCAyOC4xMV0sIFstOTkuNTIsIDI3LjU0XSwgWy05OS4zLCAyNi44NF0sIFstOTkuMDIsIDI2LjM3XSwgWy05OC4yNCwgMjYuMDZdLCBbLTk3LjUzLCAyNS44NF0sIFstOTcuMTQwMDA4LCAyNS44Njk5OTddXV0sICJ0eXBlIjogIlBvbHlnb24ifSwgImlkIjogIk1FWCIsICJwcm9wZXJ0aWVzIjogeyJoaWdobGlnaHQiOiB7fSwgIm5hbWUiOiAiTWV4aWNvIiwgInN0eWxlIjogeyJjb2xvciI6ICJncmF5IiwgImRhc2hBcnJheSI6ICIxLCAxIiwgImZpbGxDb2xvciI6ICIjMDAwMDAwIiwgImxpbmVPcGFjaXR5IjogMC45LCAid2VpZ2h0IjogMX19LCAidHlwZSI6ICJGZWF0dXJlIn0sIHsiZ2VvbWV0cnkiOiB7ImNvb3JkaW5hdGVzIjogW1tbMjAuNTkwMjMsIDQxLjg1NTQxXSwgWzIwLjcxNzMxLCA0MS44NDcxMV0sIFsyMC43NjIxNiwgNDIuMDUxODZdLCBbMjEuMzUyNywgNDIuMjA2OF0sIFsyMS41NzY2MzYsIDQyLjI0NTIyNF0sIFsyMS45MTcwOCwgNDIuMzAzNjRdLCBbMjIuMzgwNTI2LCA0Mi4zMjAyNl0sIFsyMi44ODEzNzQsIDQxLjk5OTI5N10sIFsyMi45NTIzNzcsIDQxLjMzNzk5NF0sIFsyMi43NjE3NywgNDEuMzA0OF0sIFsyMi41OTczMDgsIDQxLjEzMDQ4N10sIFsyMi4wNTUzNzgsIDQxLjE0OTg2Nl0sIFsyMS42NzQxNjEsIDQwLjkzMTI3NV0sIFsyMS4wMjAwNCwgNDAuODQyNzI3XSwgWzIwLjYwNTE4LCA0MS4wODYyMl0sIFsyMC40NjMxNSwgNDEuNTE1MDldLCBbMjAuNTkwMjMsIDQxLjg1NTQxXV1dLCAidHlwZSI6ICJQb2x5Z29uIn0sICJpZCI6ICJNS0QiLCAicHJvcGVydGllcyI6IHsiaGlnaGxpZ2h0Ijoge30sICJuYW1lIjogIk1hY2Vkb25pYSIsICJzdHlsZSI6IHsiY29sb3IiOiAiZ3JheSIsICJkYXNoQXJyYXkiOiAiMSwgMSIsICJmaWxsQ29sb3IiOiAiIzAwMDAwMCIsICJsaW5lT3BhY2l0eSI6IDAuOSwgIndlaWdodCI6IDF9fSwgInR5cGUiOiAiRmVhdHVyZSJ9LCB7Imdlb21ldHJ5IjogeyJjb29yZGluYXRlcyI6IFtbWy0xMi4xNzA3NSwgMTQuNjE2ODM0XSwgWy0xMS44MzQyMDgsIDE0Ljc5OTA5N10sIFstMTEuNjY2MDc4LCAxNS4zODgyMDhdLCBbLTExLjM0OTA5NSwgMTUuNDExMjU2XSwgWy0xMC42NTA3OTEsIDE1LjEzMjc0Nl0sIFstMTAuMDg2ODQ2LCAxNS4zMzA0ODZdLCBbLTkuNzAwMjU1LCAxNS4yNjQxMDddLCBbLTkuNTUwMjM4LCAxNS40ODY0OTddLCBbLTUuNTM3NzQ0LCAxNS41MDE2OV0sIFstNS4zMTUyNzcsIDE2LjIwMTg1NF0sIFstNS40ODg1MjMsIDE2LjMyNTEwMl0sIFstNS45NzExMjksIDIwLjY0MDgzM10sIFstNi40NTM3ODcsIDI0Ljk1NjU5MV0sIFstNC45MjMzMzcsIDI0Ljk3NDU3NF0sIFstMS41NTAwNTUsIDIyLjc5MjY2Nl0sIFsxLjgyMzIyOCwgMjAuNjEwODA5XSwgWzIuMDYwOTkxLCAyMC4xNDIyMzNdLCBbMi42ODM1ODgsIDE5Ljg1NjIzXSwgWzMuMTQ2NjYxLCAxOS42OTM1NzldLCBbMy4xNTgxMzMsIDE5LjA1NzM2NF0sIFs0LjI2NzQxOSwgMTkuMTU1MjY1XSwgWzQuMjcwMjEsIDE2Ljg1MjIyN10sIFszLjcyMzQyMiwgMTYuMTg0Mjg0XSwgWzMuNjM4MjU5LCAxNS41NjgxMl0sIFsyLjc0OTk5MywgMTUuNDA5NTI1XSwgWzEuMzg1NTI4LCAxNS4zMjM1NjFdLCBbMS4wMTU3ODMsIDE0Ljk2ODE4Ml0sIFswLjM3NDg5MiwgMTQuOTI4OTA4XSwgWy0wLjI2NjI1NywgMTQuOTI0MzA5XSwgWy0wLjUxNTg1NCwgMTUuMTE2MTU4XSwgWy0xLjA2NjM2MywgMTQuOTczODE1XSwgWy0yLjAwMTAzNSwgMTQuNTU5MDA4XSwgWy0yLjE5MTgyNSwgMTQuMjQ2NDE4XSwgWy0yLjk2NzY5NCwgMTMuNzk4MTVdLCBbLTMuMTAzNzA3LCAxMy41NDEyNjddLCBbLTMuNTIyODAzLCAxMy4zMzc2NjJdLCBbLTQuMDA2MzkxLCAxMy40NzI0ODVdLCBbLTQuMjgwNDA1LCAxMy4yMjg0NDRdLCBbLTQuNDI3MTY2LCAxMi41NDI2NDZdLCBbLTUuMjIwOTQyLCAxMS43MTM4NTldLCBbLTUuMTk3ODQzLCAxMS4zNzUxNDZdLCBbLTUuNDcwNTY1LCAxMC45NTEyN10sIFstNS40MDQzNDIsIDEwLjM3MDczN10sIFstNS44MTY5MjYsIDEwLjIyMjU1NV0sIFstNi4wNTA0NTIsIDEwLjA5NjM2MV0sIFstNi4yMDUyMjMsIDEwLjUyNDA2MV0sIFstNi40OTM5NjUsIDEwLjQxMTMwM10sIFstNi42NjY0NjEsIDEwLjQzMDgxMV0sIFstNi44NTA1MDcsIDEwLjEzODk5NF0sIFstNy42MjI3NTksIDEwLjE0NzIzNl0sIFstNy44OTk1OSwgMTAuMjk3MzgyXSwgWy04LjAyOTk0NCwgMTAuMjA2NTM1XSwgWy04LjMzNTM3NywgMTAuNDk0ODEyXSwgWy04LjI4MjM1NywgMTAuNzkyNTk3XSwgWy04LjQwNzMxMSwgMTAuOTA5MjU3XSwgWy04LjYyMDMyMSwgMTAuODEwODkxXSwgWy04LjU4MTMwNSwgMTEuMTM2MjQ2XSwgWy04LjM3NjMwNSwgMTEuMzkzNjQ2XSwgWy04Ljc4NjA5OSwgMTEuODEyNTYxXSwgWy04LjkwNTI2NSwgMTIuMDg4MzU4XSwgWy05LjEyNzQ3NCwgMTIuMzA4MDZdLCBbLTkuMzI3NjE2LCAxMi4zMzQyODZdLCBbLTkuNTY3OTEyLCAxMi4xOTQyNDNdLCBbLTkuODkwOTkzLCAxMi4wNjA0NzldLCBbLTEwLjE2NTIxNCwgMTEuODQ0MDg0XSwgWy0xMC41OTMyMjQsIDExLjkyMzk3NV0sIFstMTAuODcwODMsIDEyLjE3Nzg4N10sIFstMTEuMDM2NTU2LCAxMi4yMTEyNDVdLCBbLTExLjI5NzU3NCwgMTIuMDc3OTcxXSwgWy0xMS40NTYxNjksIDEyLjA3NjgzNF0sIFstMTEuNTEzOTQzLCAxMi40NDI5ODhdLCBbLTExLjQ2Nzg5OSwgMTIuNzU0NTE5XSwgWy0xMS41NTMzOTgsIDEzLjE0MTIxNF0sIFstMTEuOTI3NzE2LCAxMy40MjIwNzVdLCBbLTEyLjEyNDg4NywgMTMuOTk0NzI3XSwgWy0xMi4xNzA3NSwgMTQuNjE2ODM0XV1dLCAidHlwZSI6ICJQb2x5Z29uIn0sICJpZCI6ICJNTEkiLCAicHJvcGVydGllcyI6IHsiaGlnaGxpZ2h0Ijoge30sICJuYW1lIjogIk1hbGkiLCAic3R5bGUiOiB7ImNvbG9yIjogImdyYXkiLCAiZGFzaEFycmF5IjogIjEsIDEiLCAiZmlsbENvbG9yIjogIiMwMDAwMDAiLCAibGluZU9wYWNpdHkiOiAwLjksICJ3ZWlnaHQiOiAxfX0sICJ0eXBlIjogIkZlYXR1cmUifSwgeyJnZW9tZXRyeSI6IHsiY29vcmRpbmF0ZXMiOiBbW1tbMTQuNTY2MTcxLCAzNS44NTI3MjFdLCBbMTQuNTMyNjg0LCAzNS44MjAxOTFdLCBbMTQuNDM2NDYzLCAzNS44MjE2NjRdLCBbMTQuMzUyMzM0LCAzNS44NzIyODFdLCBbMTQuMzUxMywgMzUuOTc4Mzk5XSwgWzE0LjQ0ODM0OCwgMzUuOTU3NDQ0XSwgWzE0LjUzNzAyNSwgMzUuODg2Mjg1XSwgWzE0LjU2NjE3MSwgMzUuODUyNzIxXV1dLCBbW1sxNC4zMTM0NzMsIDM2LjAyNzU2OV0sIFsxNC4yNTM2MzIsIDM2LjAxMjE0M10sIFsxNC4xOTQyMDQsIDM2LjA0MjI0NV0sIFsxNC4xODAzNTQsIDM2LjA2MDM4M10sIFsxNC4yNjMyNDMsIDM2LjA3NTgwOV0sIFsxNC4zMDM3NTgsIDM2LjA2MjI5NV0sIFsxNC4zMjA5MTQsIDM2LjAzNjI1XSwgWzE0LjMxMzQ3MywgMzYuMDI3NTY5XV1dXSwgInR5cGUiOiAiTXVsdGlQb2x5Z29uIn0sICJpZCI6ICJNTFQiLCAicHJvcGVydGllcyI6IHsiaGlnaGxpZ2h0Ijoge30sICJuYW1lIjogIk1hbHRhIiwgInN0eWxlIjogeyJjb2xvciI6ICJncmF5IiwgImRhc2hBcnJheSI6ICIxLCAxIiwgImZpbGxDb2xvciI6ICIjMDAwMDAwIiwgImxpbmVPcGFjaXR5IjogMC45LCAid2VpZ2h0IjogMX19LCAidHlwZSI6ICJGZWF0dXJlIn0sIHsiZ2VvbWV0cnkiOiB7ImNvb3JkaW5hdGVzIjogW1tbOTkuNTQzMzA5LCAyMC4xODY1OThdLCBbOTguOTU5Njc2LCAxOS43NTI5ODFdLCBbOTguMjUzNzI0LCAxOS43MDgyMDNdLCBbOTcuNzk3NzgzLCAxOC42MjcwOF0sIFs5Ny4zNzU4OTYsIDE4LjQ0NTQzOF0sIFs5Ny44NTkxMjMsIDE3LjU2Nzk0Nl0sIFs5OC40OTM3NjEsIDE2LjgzNzgzNl0sIFs5OC45MDMzNDgsIDE2LjE3NzgyNF0sIFs5OC41MzczNzYsIDE1LjMwODQ5N10sIFs5OC4xOTIwNzQsIDE1LjEyMzcwM10sIFs5OC40MzA4MTksIDE0LjYyMjAyOF0sIFs5OS4wOTc3NTUsIDEzLjgyNzUwM10sIFs5OS4yMTIwMTIsIDEzLjI2OTI5NF0sIFs5OS4xOTYzNTQsIDEyLjgwNDc0OF0sIFs5OS41ODcyODYsIDExLjg5Mjc2M10sIFs5OS4wMzgxMjEsIDEwLjk2MDU0Nl0sIFs5OC41NTM1NTEsIDkuOTMyOTZdLCBbOTguNDU3MTc0LCAxMC42NzUyNjZdLCBbOTguNzY0NTQ2LCAxMS40NDEyOTJdLCBbOTguNDI4MzM5LCAxMi4wMzI5ODddLCBbOTguNTA5NTc0LCAxMy4xMjIzNzhdLCBbOTguMTAzNjA0LCAxMy42NDA0Nl0sIFs5Ny43Nzc3MzIsIDE0LjgzNzI4Nl0sIFs5Ny41OTcwNzIsIDE2LjEwMDU2OF0sIFs5Ny4xNjQ1NCwgMTYuOTI4NzM0XSwgWzk2LjUwNTc2OSwgMTYuNDI3MjQxXSwgWzk1LjM2OTM1MiwgMTUuNzE0MzldLCBbOTQuODA4NDA1LCAxNS44MDM0NTRdLCBbOTQuMTg4ODA0LCAxNi4wMzc5MzZdLCBbOTQuNTMzNDg2LCAxNy4yNzcyNF0sIFs5NC4zMjQ4MTcsIDE4LjIxMzUxNF0sIFs5My41NDA5ODgsIDE5LjM2NjQ5M10sIFs5My42NjMyNTUsIDE5LjcyNjk2Ml0sIFs5My4wNzgyNzgsIDE5Ljg1NTE0NV0sIFs5Mi4zNjg1NTQsIDIwLjY3MDg4M10sIFs5Mi4zMDMyMzQsIDIxLjQ3NTQ4NV0sIFs5Mi42NTIyNTcsIDIxLjMyNDA0OF0sIFs5Mi42NzI3MjEsIDIyLjA0MTIzOV0sIFs5My4xNjYxMjgsIDIyLjI3ODQ2XSwgWzkzLjA2MDI5NCwgMjIuNzAzMTExXSwgWzkzLjI4NjMyNywgMjMuMDQzNjU4XSwgWzkzLjMyNTE4OCwgMjQuMDc4NTU2XSwgWzk0LjEwNjc0MiwgMjMuODUwNzQxXSwgWzk0LjU1MjY1OCwgMjQuNjc1MjM4XSwgWzk0LjYwMzI0OSwgMjUuMTYyNDk1XSwgWzk1LjE1NTE1MywgMjYuMDAxMzA3XSwgWzk1LjEyNDc2OCwgMjYuNTczNTcyXSwgWzk2LjQxOTM2NiwgMjcuMjY0NTg5XSwgWzk3LjEzMzk5OSwgMjcuMDgzNzc0XSwgWzk3LjA1MTk4OSwgMjcuNjk5MDU5XSwgWzk3LjQwMjU2MSwgMjcuODgyNTM2XSwgWzk3LjMyNzExNCwgMjguMjYxNTgzXSwgWzk3LjkxMTk4OCwgMjguMzM1OTQ1XSwgWzk4LjI0NjIzMSwgMjcuNzQ3MjIxXSwgWzk4LjY4MjY5LCAyNy41MDg4MTJdLCBbOTguNzEyMDk0LCAyNi43NDM1MzZdLCBbOTguNjcxODM4LCAyNS45MTg3MDNdLCBbOTcuNzI0NjA5LCAyNS4wODM2MzddLCBbOTcuNjA0NzIsIDIzLjg5NzQwNV0sIFs5OC42NjAyNjIsIDI0LjA2MzI4Nl0sIFs5OC44OTg3NDksIDIzLjE0MjcyMl0sIFs5OS41MzE5OTIsIDIyLjk0OTAzOV0sIFs5OS4yNDA4OTksIDIyLjExODMxNF0sIFs5OS45ODM0ODksIDIxLjc0MjkzN10sIFsxMDAuNDE2NTM4LCAyMS41NTg4MzldLCBbMTAxLjE1MDAzMywgMjEuODQ5OTg0XSwgWzEwMS4xODAwMDUsIDIxLjQzNjU3M10sIFsxMDAuMzI5MTAxLCAyMC43ODYxMjJdLCBbMTAwLjExNTk4OCwgMjAuNDE3ODVdLCBbOTkuNTQzMzA5LCAyMC4xODY1OThdXV0sICJ0eXBlIjogIlBvbHlnb24ifSwgImlkIjogIk1NUiIsICJwcm9wZXJ0aWVzIjogeyJoaWdobGlnaHQiOiB7fSwgIm5hbWUiOiAiTXlhbm1hciIsICJzdHlsZSI6IHsiY29sb3IiOiAiZ3JheSIsICJkYXNoQXJyYXkiOiAiMSwgMSIsICJmaWxsQ29sb3IiOiAiIzAwMDAwMCIsICJsaW5lT3BhY2l0eSI6IDAuOSwgIndlaWdodCI6IDF9fSwgInR5cGUiOiAiRmVhdHVyZSJ9LCB7Imdlb21ldHJ5IjogeyJjb29yZGluYXRlcyI6IFtbWzE5LjgwMTYxMywgNDIuNTAwMDkzXSwgWzE5LjczODA1MSwgNDIuNjg4MjQ3XSwgWzE5LjMwNDQ5LCA0Mi4xOTU3NF0sIFsxOS4zNzE3NywgNDEuODc3NTVdLCBbMTkuMTYyNDYsIDQxLjk1NTAyXSwgWzE4Ljg4MjE0LCA0Mi4yODE1MV0sIFsxOC40NSwgNDIuNDhdLCBbMTguNTYsIDQyLjY1XSwgWzE4LjcwNjQ4LCA0My4yMDAxMV0sIFsxOS4wMzE2NSwgNDMuNDMyNTNdLCBbMTkuMjE4NTIsIDQzLjUyMzg0XSwgWzE5LjQ4Mzg5LCA0My4zNTIyOV0sIFsxOS42MywgNDMuMjEzNzhdLCBbMTkuOTU4NTcsIDQzLjEwNjA0XSwgWzIwLjMzOTgsIDQyLjg5ODUyXSwgWzIwLjI1NzU4LCA0Mi44MTI3NV0sIFsyMC4wNzA3LCA0Mi41ODg2M10sIFsxOS44MDE2MTMsIDQyLjUwMDA5M11dXSwgInR5cGUiOiAiUG9seWdvbiJ9LCAiaWQiOiAiTU5FIiwgInByb3BlcnRpZXMiOiB7ImhpZ2hsaWdodCI6IHt9LCAibmFtZSI6ICJNb250ZW5lZ3JvIiwgInN0eWxlIjogeyJjb2xvciI6ICJncmF5IiwgImRhc2hBcnJheSI6ICIxLCAxIiwgImZpbGxDb2xvciI6ICIjMDAwMDAwIiwgImxpbmVPcGFjaXR5IjogMC45LCAid2VpZ2h0IjogMX19LCAidHlwZSI6ICJGZWF0dXJlIn0sIHsiZ2VvbWV0cnkiOiB7ImNvb3JkaW5hdGVzIjogW1tbODcuNzUxMjY0LCA0OS4yOTcxOThdLCBbODguODA1NTY3LCA0OS40NzA1MjFdLCBbOTAuNzEzNjY3LCA1MC4zMzE4MTJdLCBbOTIuMjM0NzEyLCA1MC44MDIxNzFdLCBbOTMuMTA0MjE5LCA1MC40OTUyOV0sIFs5NC4xNDc1NjYsIDUwLjQ4MDUzN10sIFs5NC44MTU5NDksIDUwLjAxMzQzM10sIFs5NS44MTQwMjgsIDQ5Ljk3NzQ2N10sIFs5Ny4yNTk3MjgsIDQ5LjcyNjA2MV0sIFs5OC4yMzE3NjIsIDUwLjQyMjQwMV0sIFs5Ny44MjU3NCwgNTEuMDEwOTk1XSwgWzk4Ljg2MTQ5MSwgNTIuMDQ3MzY2XSwgWzk5Ljk4MTczMiwgNTEuNjM0MDA2XSwgWzEwMC44ODk0OCwgNTEuNTE2ODU2XSwgWzEwMi4wNjUyMjMsIDUxLjI1OTkyMV0sIFsxMDIuMjU1OTA5LCA1MC41MTA1NjFdLCBbMTAzLjY3NjU0NSwgNTAuMDg5OTY2XSwgWzEwNC42MjE1NTIsIDUwLjI3NTMyOV0sIFsxMDUuODg2NTkxLCA1MC40MDYwMTldLCBbMTA2Ljg4ODgwNCwgNTAuMjc0Mjk2XSwgWzEwNy44NjgxNzYsIDQ5Ljc5MzcwNV0sIFsxMDguNDc1MTY3LCA0OS4yODI1NDhdLCBbMTA5LjQwMjQ0OSwgNDkuMjkyOTYxXSwgWzExMC42NjIwMTEsIDQ5LjEzMDEyOF0sIFsxMTEuNTgxMjMxLCA0OS4zNzc5NjhdLCBbMTEyLjg5Nzc0LCA0OS41NDM1NjVdLCBbMTE0LjM2MjQ1NiwgNTAuMjQ4MzAzXSwgWzExNC45NjIxMSwgNTAuMTQwMjQ3XSwgWzExNS40ODU2OTUsIDQ5LjgwNTE3N10sIFsxMTYuNjc4ODAxLCA0OS44ODg1MzFdLCBbMTE2LjE5MTgwMiwgNDkuMTM0NTk4XSwgWzExNS40ODUyODIsIDQ4LjEzNTM4M10sIFsxMTUuNzQyODM3LCA0Ny43MjY1NDVdLCBbMTE2LjMwODk1MywgNDcuODUzNDFdLCBbMTE3LjI5NTUwNywgNDcuNjk3NzA5XSwgWzExOC4wNjQxNDMsIDQ4LjA2NjczXSwgWzExOC44NjY1NzQsIDQ3Ljc0NzA2XSwgWzExOS43NzI4MjQsIDQ3LjA0ODA1OV0sIFsxMTkuNjYzMjcsIDQ2LjY5MjY4XSwgWzExOC44NzQzMjYsIDQ2LjgwNTQxMl0sIFsxMTcuNDIxNzAxLCA0Ni42NzI3MzNdLCBbMTE2LjcxNzg2OCwgNDYuMzg4MjAyXSwgWzExNS45ODUwOTYsIDQ1LjcyNzIzNV0sIFsxMTQuNDYwMzMyLCA0NS4zMzk4MTddLCBbMTEzLjQ2MzkwNywgNDQuODA4ODkzXSwgWzExMi40MzYwNjIsIDQ1LjAxMTY0Nl0sIFsxMTEuODczMzA2LCA0NS4xMDIwNzldLCBbMTExLjM0ODM3NywgNDQuNDU3NDQyXSwgWzExMS42Njc3MzcsIDQ0LjA3MzE3Nl0sIFsxMTEuODI5NTg4LCA0My43NDMxMThdLCBbMTExLjEyOTY4MiwgNDMuNDA2ODM0XSwgWzExMC40MTIxMDMsIDQyLjg3MTIzNF0sIFsxMDkuMjQzNTk2LCA0Mi41MTk0NDZdLCBbMTA3Ljc0NDc3MywgNDIuNDgxNTE2XSwgWzEwNi4xMjkzMTYsIDQyLjEzNDMyOF0sIFsxMDQuOTY0OTk0LCA0MS41OTc0MV0sIFsxMDQuNTIyMjgyLCA0MS45MDgzNDddLCBbMTAzLjMxMjI3OCwgNDEuOTA3NDY4XSwgWzEwMS44MzMwNCwgNDIuNTE0ODczXSwgWzEwMC44NDU4NjYsIDQyLjY2MzgwNF0sIFs5OS41MTU4MTcsIDQyLjUyNDY5MV0sIFs5Ny40NTE3NTcsIDQyLjc0ODg5XSwgWzk2LjM0OTM5NiwgNDIuNzI1NjM1XSwgWzk1Ljc2MjQ1NSwgNDMuMzE5NDQ5XSwgWzk1LjMwNjg3NSwgNDQuMjQxMzMxXSwgWzk0LjY4ODkyOSwgNDQuMzUyMzMyXSwgWzkzLjQ4MDczNCwgNDQuOTc1NDcyXSwgWzkyLjEzMzg5MSwgNDUuMTE1MDc2XSwgWzkwLjk0NTU0LCA0NS4yODYwNzNdLCBbOTAuNTg1NzY4LCA0NS43MTk3MTZdLCBbOTAuOTcwODA5LCA0Ni44ODgxNDZdLCBbOTAuMjgwODI2LCA0Ny42OTM1NDldLCBbODguODU0Mjk4LCA0OC4wNjkwODJdLCBbODguMDEzODMyLCA0OC41OTk0NjNdLCBbODcuNzUxMjY0LCA0OS4yOTcxOThdXV0sICJ0eXBlIjogIlBvbHlnb24ifSwgImlkIjogIk1ORyIsICJwcm9wZXJ0aWVzIjogeyJoaWdobGlnaHQiOiB7fSwgIm5hbWUiOiAiTW9uZ29saWEiLCAic3R5bGUiOiB7ImNvbG9yIjogImdyYXkiLCAiZGFzaEFycmF5IjogIjEsIDEiLCAiZmlsbENvbG9yIjogIiMwMDAwMDAiLCAibGluZU9wYWNpdHkiOiAwLjksICJ3ZWlnaHQiOiAxfX0sICJ0eXBlIjogIkZlYXR1cmUifSwgeyJnZW9tZXRyeSI6IHsiY29vcmRpbmF0ZXMiOiBbW1szNC41NTk5ODksIC0xMS41MjAwMl0sIFszNS4zMTIzOTgsIC0xMS40MzkxNDZdLCBbMzYuNTE0MDgyLCAtMTEuNzIwOTM4XSwgWzM2Ljc3NTE1MSwgLTExLjU5NDUzN10sIFszNy40NzEyODQsIC0xMS41Njg3NTFdLCBbMzcuODI3NjQ1LCAtMTEuMjY4NzY5XSwgWzM4LjQyNzU1NywgLTExLjI4NTIwMl0sIFszOS41MjEwMywgLTEwLjg5Njg1NF0sIFs0MC4zMTY1ODksIC0xMC4zMTcwOTZdLCBbNDAuNDc4Mzg3LCAtMTAuNzY1NDQxXSwgWzQwLjQzNzI1MywgLTExLjc2MTcxMV0sIFs0MC41NjA4MTEsIC0xMi42MzkxNzddLCBbNDAuNTk5NjIsIC0xNC4yMDE5NzVdLCBbNDAuNzc1NDc1LCAtMTQuNjkxNzY0XSwgWzQwLjQ3NzI1MSwgLTE1LjQwNjI5NF0sIFs0MC4wODkyNjQsIC0xNi4xMDA3NzRdLCBbMzkuNDUyNTU5LCAtMTYuNzIwODkxXSwgWzM4LjUzODM1MSwgLTE3LjEwMTAyM10sIFszNy40MTExMzMsIC0xNy41ODYzNjhdLCBbMzYuMjgxMjc5LCAtMTguNjU5Njg4XSwgWzM1Ljg5NjQ5NywgLTE4Ljg0MjI2XSwgWzM1LjE5ODQsIC0xOS41NTI4MTFdLCBbMzQuNzg2MzgzLCAtMTkuNzg0MDEyXSwgWzM0LjcwMTg5MywgLTIwLjQ5NzA0M10sIFszNS4xNzYxMjcsIC0yMS4yNTQzNjFdLCBbMzUuMzczNDI4LCAtMjEuODQwODM3XSwgWzM1LjM4NTg0OCwgLTIyLjE0XSwgWzM1LjU2MjU0NiwgLTIyLjA5XSwgWzM1LjUzMzkzNSwgLTIzLjA3MDc4OF0sIFszNS4zNzE3NzQsIC0yMy41MzUzNTldLCBbMzUuNjA3NDcsIC0yMy43MDY1NjNdLCBbMzUuNDU4NzQ2LCAtMjQuMTIyNjFdLCBbMzUuMDQwNzM1LCAtMjQuNDc4MzUxXSwgWzM0LjIxNTgyNCwgLTI0LjgxNjMxNF0sIFszMy4wMTMyMSwgLTI1LjM1NzU3M10sIFszMi41NzQ2MzIsIC0yNS43MjczMThdLCBbMzIuNjYwMzYzLCAtMjYuMTQ4NTg0XSwgWzMyLjkxNTk1NSwgLTI2LjIxNTg2N10sIFszMi44MzAxMiwgLTI2Ljc0MjE5Ml0sIFszMi4wNzE2NjUsIC0yNi43MzM4Ml0sIFszMS45ODU3NzksIC0yNi4yOTE3OF0sIFszMS44Mzc3NzgsIC0yNS44NDMzMzJdLCBbMzEuNzUyNDA4LCAtMjUuNDg0Mjg0XSwgWzMxLjkzMDU4OSwgLTI0LjM2OTQxN10sIFszMS42NzAzOTgsIC0yMy42NTg5NjldLCBbMzEuMTkxNDA5LCAtMjIuMjUxNTFdLCBbMzIuMjQ0OTg4LCAtMjEuMTE2NDg5XSwgWzMyLjUwODY5MywgLTIwLjM5NTI5Ml0sIFszMi42NTk3NDMsIC0yMC4zMDQyOV0sIFszMi43NzI3MDgsIC0xOS43MTU1OTJdLCBbMzIuNjExOTk0LCAtMTkuNDE5MzgzXSwgWzMyLjY1NDg4NiwgLTE4LjY3MjA5XSwgWzMyLjg0OTg2MSwgLTE3Ljk3OTA1N10sIFszMi44NDc2MzksIC0xNi43MTMzOThdLCBbMzIuMzI4MjM5LCAtMTYuMzkyMDc0XSwgWzMxLjg1MjA0MSwgLTE2LjMxOTQxN10sIFszMS42MzY0OTgsIC0xNi4wNzE5OV0sIFszMS4xNzMwNjQsIC0xNS44NjA5NDRdLCBbMzAuMzM4OTU1LCAtMTUuODgwODM5XSwgWzMwLjI3NDI1NiwgLTE1LjUwNzc4N10sIFszMC4xNzk0ODEsIC0xNC43OTYwOTldLCBbMzMuMjE0MDI1LCAtMTMuOTcxODZdLCBbMzMuNzg5NywgLTE0LjQ1MTgzMV0sIFszNC4wNjQ4MjUsIC0xNC4zNTk5NV0sIFszNC40NTk2MzMsIC0xNC42MTMwMV0sIFszNC41MTc2NjYsIC0xNS4wMTM3MDldLCBbMzQuMzA3MjkxLCAtMTUuNDc4NjQxXSwgWzM0LjM4MTI5MiwgLTE2LjE4MzU2XSwgWzM1LjAzMzgxLCAtMTYuODAxM10sIFszNS4zMzkwNjMsIC0xNi4xMDc0NF0sIFszNS43NzE5MDUsIC0xNS44OTY4NTldLCBbMzUuNjg2ODQ1LCAtMTQuNjExMDQ2XSwgWzM1LjI2Nzk1NiwgLTEzLjg4NzgzNF0sIFszNC45MDcxNTEsIC0xMy41NjU0MjVdLCBbMzQuNTU5OTg5LCAtMTMuNTc5OTk4XSwgWzM0LjI4MDAwNiwgLTEyLjI4MDAyNV0sIFszNC41NTk5ODksIC0xMS41MjAwMl1dXSwgInR5cGUiOiAiUG9seWdvbiJ9LCAiaWQiOiAiTU9aIiwgInByb3BlcnRpZXMiOiB7ImhpZ2hsaWdodCI6IHt9LCAibmFtZSI6ICJNb3phbWJpcXVlIiwgInN0eWxlIjogeyJjb2xvciI6ICJncmF5IiwgImRhc2hBcnJheSI6ICIxLCAxIiwgImZpbGxDb2xvciI6ICIjMDAwMDAwIiwgImxpbmVPcGFjaXR5IjogMC45LCAid2VpZ2h0IjogMX19LCAidHlwZSI6ICJGZWF0dXJlIn0sIHsiZ2VvbWV0cnkiOiB7ImNvb3JkaW5hdGVzIjogW1tbLTEyLjE3MDc1LCAxNC42MTY4MzRdLCBbLTEyLjgzMDY1OCwgMTUuMzAzNjkyXSwgWy0xMy40MzU3MzgsIDE2LjAzOTM4M10sIFstMTQuMDk5NTIxLCAxNi4zMDQzMDJdLCBbLTE0LjU3NzM0OCwgMTYuNTk4MjY0XSwgWy0xNS4xMzU3MzcsIDE2LjU4NzI4Ml0sIFstMTUuNjIzNjY2LCAxNi4zNjkzMzddLCBbLTE2LjEyMDY5LCAxNi40NTU2NjNdLCBbLTE2LjQ2MzA5OCwgMTYuMTM1MDM2XSwgWy0xNi41NDk3MDgsIDE2LjY3Mzg5Ml0sIFstMTYuMjcwNTUyLCAxNy4xNjY5NjNdLCBbLTE2LjE0NjM0NywgMTguMTA4NDgyXSwgWy0xNi4yNTY4ODMsIDE5LjA5NjcxNl0sIFstMTYuMzc3NjUxLCAxOS41OTM4MTddLCBbLTE2LjI3NzgzOCwgMjAuMDkyNTIxXSwgWy0xNi41MzYzMjQsIDIwLjU2Nzg2Nl0sIFstMTcuMDYzNDIzLCAyMC45OTk3NTJdLCBbLTE2Ljg0NTE5NCwgMjEuMzMzMzIzXSwgWy0xMi45MjkxMDIsIDIxLjMyNzA3MV0sIFstMTMuMTE4NzU0LCAyMi43NzEyMl0sIFstMTIuODc0MjIyLCAyMy4yODQ4MzJdLCBbLTExLjkzNzIyNCwgMjMuMzc0NTk0XSwgWy0xMS45Njk0MTksIDI1LjkzMzM1M10sIFstOC42ODcyOTQsIDI1Ljg4MTA1Nl0sIFstOC42ODQ0LCAyNy4zOTU3NDRdLCBbLTQuOTIzMzM3LCAyNC45NzQ1NzRdLCBbLTYuNDUzNzg3LCAyNC45NTY1OTFdLCBbLTUuOTcxMTI5LCAyMC42NDA4MzNdLCBbLTUuNDg4NTIzLCAxNi4zMjUxMDJdLCBbLTUuMzE1Mjc3LCAxNi4yMDE4NTRdLCBbLTUuNTM3NzQ0LCAxNS41MDE2OV0sIFstOS41NTAyMzgsIDE1LjQ4NjQ5N10sIFstOS43MDAyNTUsIDE1LjI2NDEwN10sIFstMTAuMDg2ODQ2LCAxNS4zMzA0ODZdLCBbLTEwLjY1MDc5MSwgMTUuMTMyNzQ2XSwgWy0xMS4zNDkwOTUsIDE1LjQxMTI1Nl0sIFstMTEuNjY2MDc4LCAxNS4zODgyMDhdLCBbLTExLjgzNDIwOCwgMTQuNzk5MDk3XSwgWy0xMi4xNzA3NSwgMTQuNjE2ODM0XV1dLCAidHlwZSI6ICJQb2x5Z29uIn0sICJpZCI6ICJNUlQiLCAicHJvcGVydGllcyI6IHsiaGlnaGxpZ2h0Ijoge30sICJuYW1lIjogIk1hdXJpdGFuaWEiLCAic3R5bGUiOiB7ImNvbG9yIjogImdyYXkiLCAiZGFzaEFycmF5IjogIjEsIDEiLCAiZmlsbENvbG9yIjogIiMwMDAwMDAiLCAibGluZU9wYWNpdHkiOiAwLjksICJ3ZWlnaHQiOiAxfX0sICJ0eXBlIjogIkZlYXR1cmUifSwgeyJnZW9tZXRyeSI6IHsiY29vcmRpbmF0ZXMiOiBbW1szNC41NTk5ODksIC0xMS41MjAwMl0sIFszNC4yODAwMDYsIC0xMi4yODAwMjVdLCBbMzQuNTU5OTg5LCAtMTMuNTc5OTk4XSwgWzM0LjkwNzE1MSwgLTEzLjU2NTQyNV0sIFszNS4yNjc5NTYsIC0xMy44ODc4MzRdLCBbMzUuNjg2ODQ1LCAtMTQuNjExMDQ2XSwgWzM1Ljc3MTkwNSwgLTE1Ljg5Njg1OV0sIFszNS4zMzkwNjMsIC0xNi4xMDc0NF0sIFszNS4wMzM4MSwgLTE2LjgwMTNdLCBbMzQuMzgxMjkyLCAtMTYuMTgzNTZdLCBbMzQuMzA3MjkxLCAtMTUuNDc4NjQxXSwgWzM0LjUxNzY2NiwgLTE1LjAxMzcwOV0sIFszNC40NTk2MzMsIC0xNC42MTMwMV0sIFszNC4wNjQ4MjUsIC0xNC4zNTk5NV0sIFszMy43ODk3LCAtMTQuNDUxODMxXSwgWzMzLjIxNDAyNSwgLTEzLjk3MTg2XSwgWzMyLjY4ODE2NSwgLTEzLjcxMjg1OF0sIFszMi45OTE3NjQsIC0xMi43ODM4NzFdLCBbMzMuMzA2NDIyLCAtMTIuNDM1Nzc4XSwgWzMzLjExNDI4OSwgLTExLjYwNzE5OF0sIFszMy4zMTUzMSwgLTEwLjc5NjU1XSwgWzMzLjQ4NTY4OCwgLTEwLjUyNTU1OV0sIFszMy4yMzEzODgsIC05LjY3NjcyMl0sIFszMi43NTkzNzUsIC05LjIzMDU5OV0sIFszMy43Mzk3MjksIC05LjQxNzE1MV0sIFszMy45NDA4MzgsIC05LjY5MzY3NF0sIFszNC4yODAwMDYsIC0xMC4xNl0sIFszNC41NTk5ODksIC0xMS41MjAwMl1dXSwgInR5cGUiOiAiUG9seWdvbiJ9LCAiaWQiOiAiTVdJIiwgInByb3BlcnRpZXMiOiB7ImhpZ2hsaWdodCI6IHt9LCAibmFtZSI6ICJNYWxhd2kiLCAic3R5bGUiOiB7ImNvbG9yIjogImdyYXkiLCAiZGFzaEFycmF5IjogIjEsIDEiLCAiZmlsbENvbG9yIjogIiMwMDAwMDAiLCAibGluZU9wYWNpdHkiOiAwLjksICJ3ZWlnaHQiOiAxfX0sICJ0eXBlIjogIkZlYXR1cmUifSwgeyJnZW9tZXRyeSI6IHsiY29vcmRpbmF0ZXMiOiBbW1tbMTAxLjA3NTUxNiwgNi4yMDQ4NjddLCBbMTAxLjE1NDIxOSwgNS42OTEzODRdLCBbMTAxLjgxNDI4MiwgNS44MTA4MDhdLCBbMTAyLjE0MTE4NywgNi4yMjE2MzZdLCBbMTAyLjM3MTE0NywgNi4xMjgyMDVdLCBbMTAyLjk2MTcwNSwgNS41MjQ0OTVdLCBbMTAzLjM4MTIxNSwgNC44NTUwMDFdLCBbMTAzLjQzODU3NSwgNC4xODE2MDZdLCBbMTAzLjMzMjEyMiwgMy43MjY2OThdLCBbMTAzLjQyOTQyOSwgMy4zODI4NjldLCBbMTAzLjUwMjQ0OCwgMi43OTEwMTldLCBbMTAzLjg1NDY3NCwgMi41MTU0NTRdLCBbMTA0LjI0NzkzMiwgMS42MzExNDFdLCBbMTA0LjIyODgxMSwgMS4yOTMwNDhdLCBbMTAzLjUxOTcwNywgMS4yMjYzMzRdLCBbMTAyLjU3MzYxNSwgMS45NjcxMTVdLCBbMTAxLjM5MDYzOCwgMi43NjA4MTRdLCBbMTAxLjI3MzU0LCAzLjI3MDI5Ml0sIFsxMDAuNjk1NDM1LCAzLjkzOTE0XSwgWzEwMC41NTc0MDgsIDQuNzY3MjhdLCBbMTAwLjE5NjcwNiwgNS4zMTI0OTNdLCBbMTAwLjMwNjI2LCA2LjA0MDU2Ml0sIFsxMDAuMDg1NzU3LCA2LjQ2NDQ4OV0sIFsxMDAuMjU5NTk2LCA2LjY0MjgyNV0sIFsxMDEuMDc1NTE2LCA2LjIwNDg2N11dXSwgW1tbMTE4LjYxODMyMSwgNC40NzgyMDJdLCBbMTE3Ljg4MjAzNSwgNC4xMzc1NTFdLCBbMTE3LjAxNTIxNCwgNC4zMDYwOTRdLCBbMTE1Ljg2NTUxNywgNC4zMDY1NTldLCBbMTE1LjUxOTA3OCwgMy4xNjkyMzhdLCBbMTE1LjEzNDAzNywgMi44MjE0ODJdLCBbMTE0LjYyMTM1NSwgMS40MzA2ODhdLCBbMTEzLjgwNTg1LCAxLjIxNzU0OV0sIFsxMTIuODU5ODA5LCAxLjQ5Nzc5XSwgWzExMi4zODAyNTIsIDEuNDEwMTIxXSwgWzExMS43OTc1NDgsIDAuOTA0NDQxXSwgWzExMS4xNTkxMzgsIDAuOTc2NDc4XSwgWzExMC41MTQwNjEsIDAuNzczMTMxXSwgWzEwOS44MzAyMjcsIDEuMzM4MTM2XSwgWzEwOS42NjMyNiwgMi4wMDY0NjddLCBbMTEwLjM5NjEzNSwgMS42NjM3NzVdLCBbMTExLjE2ODg1MywgMS44NTA2MzddLCBbMTExLjM3MDA4MSwgMi42OTczMDNdLCBbMTExLjc5NjkyOCwgMi44ODU4OTddLCBbMTEyLjk5NTYxNSwgMy4xMDIzOTVdLCBbMTEzLjcxMjkzNSwgMy44OTM1MDldLCBbMTE0LjIwNDAxNywgNC41MjU4NzRdLCBbMTE0LjY1OTU5NiwgNC4wMDc2MzddLCBbMTE0Ljg2OTU1NywgNC4zNDgzMTRdLCBbMTE1LjM0NzQ2MSwgNC4zMTY2MzZdLCBbMTE1LjQwNTcsIDQuOTU1MjI4XSwgWzExNS40NTA3MSwgNS40NDc3M10sIFsxMTYuMjIwNzQxLCA2LjE0MzE5MV0sIFsxMTYuNzI1MTAzLCA2LjkyNDc3MV0sIFsxMTcuMTI5NjI2LCA2LjkyODA1M10sIFsxMTcuNjQzMzkzLCA2LjQyMjE2Nl0sIFsxMTcuNjg5MDc1LCA1Ljk4NzQ5XSwgWzExOC4zNDc2OTEsIDUuNzA4Njk2XSwgWzExOS4xODE5MDQsIDUuNDA3ODM2XSwgWzExOS4xMTA2OTQsIDUuMDE2MTI4XSwgWzExOC40Mzk3MjcsIDQuOTY2NTE5XSwgWzExOC42MTgzMjEsIDQuNDc4MjAyXV1dXSwgInR5cGUiOiAiTXVsdGlQb2x5Z29uIn0sICJpZCI6ICJNWVMiLCAicHJvcGVydGllcyI6IHsiaGlnaGxpZ2h0Ijoge30sICJuYW1lIjogIk1hbGF5c2lhIiwgInN0eWxlIjogeyJjb2xvciI6ICJncmF5IiwgImRhc2hBcnJheSI6ICIxLCAxIiwgImZpbGxDb2xvciI6ICIjMDAwMDAwIiwgImxpbmVPcGFjaXR5IjogMC45LCAid2VpZ2h0IjogMX19LCAidHlwZSI6ICJGZWF0dXJlIn0sIHsiZ2VvbWV0cnkiOiB7ImNvb3JkaW5hdGVzIjogW1tbMTYuMzQ0OTc3LCAtMjguNTc2NzA1XSwgWzE1LjYwMTgxOCwgLTI3LjgyMTI0N10sIFsxNS4yMTA0NzIsIC0yNy4wOTA5NTZdLCBbMTQuOTg5NzExLCAtMjYuMTE3MzcyXSwgWzE0Ljc0MzIxNCwgLTI1LjM5MjkyXSwgWzE0LjQwODE0NCwgLTIzLjg1MzAxNF0sIFsxNC4zODU3MTcsIC0yMi42NTY2NTNdLCBbMTQuMjU3NzE0LCAtMjIuMTExMjA4XSwgWzEzLjg2ODY0MiwgLTIxLjY5OTAzN10sIFsxMy4zNTI0OTgsIC0yMC44NzI4MzRdLCBbMTIuODI2ODQ1LCAtMTkuNjczMTY2XSwgWzEyLjYwODU2NCwgLTE5LjA0NTM0OV0sIFsxMS43OTQ5MTksIC0xOC4wNjkxMjldLCBbMTEuNzM0MTk5LCAtMTcuMzAxODg5XSwgWzEyLjIxNTQ2MSwgLTE3LjExMTY2OF0sIFsxMi44MTQwODEsIC0xNi45NDEzNDNdLCBbMTMuNDYyMzYyLCAtMTYuOTcxMjEyXSwgWzE0LjA1ODUwMSwgLTE3LjQyMzM4MV0sIFsxNC4yMDk3MDcsIC0xNy4zNTMxMDFdLCBbMTguMjYzMzA5LCAtMTcuMzA5OTUxXSwgWzE4Ljk1NjE4NywgLTE3Ljc4OTA5NV0sIFsyMS4zNzcxNzYsIC0xNy45MzA2MzZdLCBbMjMuMjE1MDQ4LCAtMTcuNTIzMTE2XSwgWzI0LjAzMzg2MiwgLTE3LjI5NTg0M10sIFsyNC42ODIzNDksIC0xNy4zNTM0MTFdLCBbMjUuMDc2OTUsIC0xNy41Nzg4MjNdLCBbMjUuMDg0NDQzLCAtMTcuNjYxODE2XSwgWzI0LjUyMDcwNSwgLTE3Ljg4NzEyNV0sIFsyNC4yMTczNjUsIC0xNy44ODkzNDddLCBbMjMuNTc5MDA2LCAtMTguMjgxMjYxXSwgWzIzLjE5Njg1OCwgLTE3Ljg2OTAzOF0sIFsyMS42NTUwNCwgLTE4LjIxOTE0Nl0sIFsyMC45MTA2NDEsIC0xOC4yNTIyMTldLCBbMjAuODgxMTM0LCAtMjEuODE0MzI3XSwgWzE5Ljg5NTQ1OCwgLTIxLjg0OTE1N10sIFsxOS44OTU3NjgsIC0yNC43Njc3OV0sIFsxOS44OTQ3MzQsIC0yOC40NjExMDVdLCBbMTkuMDAyMTI3LCAtMjguOTcyNDQzXSwgWzE4LjQ2NDg5OSwgLTI5LjA0NTQ2Ml0sIFsxNy44MzYxNTIsIC0yOC44NTYzNzhdLCBbMTcuMzg3NDk3LCAtMjguNzgzNTE0XSwgWzE3LjIxODkyOSwgLTI4LjM1NTk0M10sIFsxNi44MjQwMTcsIC0yOC4wODIxNjJdLCBbMTYuMzQ0OTc3LCAtMjguNTc2NzA1XV1dLCAidHlwZSI6ICJQb2x5Z29uIn0sICJpZCI6ICJOQU0iLCAicHJvcGVydGllcyI6IHsiaGlnaGxpZ2h0Ijoge30sICJuYW1lIjogIk5hbWliaWEiLCAic3R5bGUiOiB7ImNvbG9yIjogImdyYXkiLCAiZGFzaEFycmF5IjogIjEsIDEiLCAiZmlsbENvbG9yIjogIiMwMDAwMDAiLCAibGluZU9wYWNpdHkiOiAwLjksICJ3ZWlnaHQiOiAxfX0sICJ0eXBlIjogIkZlYXR1cmUifSwgeyJnZW9tZXRyeSI6IHsiY29vcmRpbmF0ZXMiOiBbW1sxNjUuNzc5OTksIC0yMS4wODAwMDVdLCBbMTY2LjU5OTk5MSwgLTIxLjcwMDAxOV0sIFsxNjcuMTIwMDExLCAtMjIuMTU5OTkxXSwgWzE2Ni43NDAwMzUsIC0yMi4zOTk5NzZdLCBbMTY2LjE4OTczMiwgLTIyLjEyOTcwOF0sIFsxNjUuNDc0Mzc1LCAtMjEuNjc5NjA3XSwgWzE2NC44Mjk4MTUsIC0yMS4xNDk4Ml0sIFsxNjQuMTY3OTk1LCAtMjAuNDQ0NzQ3XSwgWzE2NC4wMjk2MDYsIC0yMC4xMDU2NDZdLCBbMTY0LjQ1OTk2NywgLTIwLjEyMDAxMl0sIFsxNjUuMDIwMDM2LCAtMjAuNDU5OTkxXSwgWzE2NS40NjAwMDksIC0yMC44MDAwMjJdLCBbMTY1Ljc3OTk5LCAtMjEuMDgwMDA1XV1dLCAidHlwZSI6ICJQb2x5Z29uIn0sICJpZCI6ICJOQ0wiLCAicHJvcGVydGllcyI6IHsiaGlnaGxpZ2h0Ijoge30sICJuYW1lIjogIk5ldyBDYWxlZG9uaWEiLCAic3R5bGUiOiB7ImNvbG9yIjogImdyYXkiLCAiZGFzaEFycmF5IjogIjEsIDEiLCAiZmlsbENvbG9yIjogIiMwMDAwMDAiLCAibGluZU9wYWNpdHkiOiAwLjksICJ3ZWlnaHQiOiAxfX0sICJ0eXBlIjogIkZlYXR1cmUifSwgeyJnZW9tZXRyeSI6IHsiY29vcmRpbmF0ZXMiOiBbW1syLjE1NDQ3NCwgMTEuOTQwMTVdLCBbMi4xNzcxMDgsIDEyLjYyNTAxOF0sIFsxLjAyNDEwMywgMTIuODUxODI2XSwgWzAuOTkzMDQ2LCAxMy4zMzU3NV0sIFswLjQyOTkyOCwgMTMuOTg4NzMzXSwgWzAuMjk1NjQ2LCAxNC40NDQyMzVdLCBbMC4zNzQ4OTIsIDE0LjkyODkwOF0sIFsxLjAxNTc4MywgMTQuOTY4MTgyXSwgWzEuMzg1NTI4LCAxNS4zMjM1NjFdLCBbMi43NDk5OTMsIDE1LjQwOTUyNV0sIFszLjYzODI1OSwgMTUuNTY4MTJdLCBbMy43MjM0MjIsIDE2LjE4NDI4NF0sIFs0LjI3MDIxLCAxNi44NTIyMjddLCBbNC4yNjc0MTksIDE5LjE1NTI2NV0sIFs1LjY3NzU2NiwgMTkuNjAxMjA3XSwgWzguNTcyODkzLCAyMS41NjU2NjFdLCBbMTEuOTk5NTA2LCAyMy40NzE2NjhdLCBbMTMuNTgxNDI1LCAyMy4wNDA1MDZdLCBbMTQuMTQzODcxLCAyMi40OTEyODldLCBbMTQuODUxMywgMjIuODYyOTVdLCBbMTUuMDk2ODg4LCAyMS4zMDg1MTldLCBbMTUuNDcxMDc3LCAyMS4wNDg0NTddLCBbMTUuNDg3MTQ4LCAyMC43MzA0MTVdLCBbMTUuOTAzMjQ3LCAyMC4zODc2MTldLCBbMTUuNjg1NzQxLCAxOS45NTcxOF0sIFsxNS4zMDA0NDEsIDE3LjkyNzk1XSwgWzE1LjI0NzczMSwgMTYuNjI3MzA2XSwgWzEzLjk3MjIwMiwgMTUuNjg0MzY2XSwgWzEzLjU0MDM5NCwgMTQuMzY3MTM0XSwgWzEzLjk1NjY5OSwgMTMuOTk2NjkxXSwgWzEzLjk1NDQ3NywgMTMuMzUzNDQ5XSwgWzE0LjU5NTc4MSwgMTMuMzMwNDI3XSwgWzE0LjQ5NTc4NywgMTIuODU5Mzk2XSwgWzE0LjIxMzUzMSwgMTIuODAyMDM1XSwgWzE0LjE4MTMzNiwgMTIuNDgzNjU3XSwgWzEzLjk5NTM1MywgMTIuNDYxNTY1XSwgWzEzLjMxODcwMiwgMTMuNTU2MzU2XSwgWzEzLjA4Mzk4NywgMTMuNTk2MTQ3XSwgWzEyLjMwMjA3MSwgMTMuMDM3MTg5XSwgWzExLjUyNzgwMywgMTMuMzI4OThdLCBbMTAuOTg5NTkzLCAxMy4zODczMjNdLCBbMTAuNzAxMDMyLCAxMy4yNDY5MThdLCBbMTAuMTE0ODE0LCAxMy4yNzcyNTJdLCBbOS41MjQ5MjgsIDEyLjg1MTEwMl0sIFs5LjAxNDkzMywgMTIuODI2NjU5XSwgWzcuODA0NjcxLCAxMy4zNDM1MjddLCBbNy4zMzA3NDcsIDEzLjA5ODAzOF0sIFs2LjgyMDQ0MiwgMTMuMTE1MDkxXSwgWzYuNDQ1NDI2LCAxMy40OTI3NjhdLCBbNS40NDMwNTgsIDEzLjg2NTkyNF0sIFs0LjM2ODM0NCwgMTMuNzQ3NDgyXSwgWzQuMTA3OTQ2LCAxMy41MzEyMTZdLCBbMy45NjcyODMsIDEyLjk1NjEwOV0sIFszLjY4MDYzNCwgMTIuNTUyOTAzXSwgWzMuNjExMTgsIDExLjY2MDE2N10sIFsyLjg0ODY0MywgMTIuMjM1NjM2XSwgWzIuNDkwMTY0LCAxMi4yMzMwNTJdLCBbMi4xNTQ0NzQsIDExLjk0MDE1XV1dLCAidHlwZSI6ICJQb2x5Z29uIn0sICJpZCI6ICJORVIiLCAicHJvcGVydGllcyI6IHsiaGlnaGxpZ2h0Ijoge30sICJuYW1lIjogIk5pZ2VyIiwgInN0eWxlIjogeyJjb2xvciI6ICJncmF5IiwgImRhc2hBcnJheSI6ICIxLCAxIiwgImZpbGxDb2xvciI6ICIjMDAwMDAwIiwgImxpbmVPcGFjaXR5IjogMC45LCAid2VpZ2h0IjogMX19LCAidHlwZSI6ICJGZWF0dXJlIn0sIHsiZ2VvbWV0cnkiOiB7ImNvb3JkaW5hdGVzIjogW1tbOC41MDAyODgsIDQuNzcxOTgzXSwgWzcuNDYyMTA4LCA0LjQxMjEwOF0sIFs3LjA4MjU5NiwgNC40NjQ2ODldLCBbNi42OTgwNzIsIDQuMjQwNTk0XSwgWzUuODk4MTczLCA0LjI2MjQ1M10sIFs1LjM2MjgwNSwgNC44ODc5NzFdLCBbNS4wMzM1NzQsIDUuNjExODAyXSwgWzQuMzI1NjA3LCA2LjI3MDY1MV0sIFszLjU3NDE4LCA2LjI1ODNdLCBbMi42OTE3MDIsIDYuMjU4ODE3XSwgWzIuNzQ5MDYzLCA3Ljg3MDczNF0sIFsyLjcyMzc5MywgOC41MDY4NDVdLCBbMi45MTIzMDgsIDkuMTM3NjA4XSwgWzMuMjIwMzUyLCA5LjQ0NDE1M10sIFszLjcwNTQzOCwgMTAuMDYzMjFdLCBbMy42MDAwNywgMTAuMzMyMTg2XSwgWzMuNzk3MTEyLCAxMC43MzQ3NDZdLCBbMy41NzIyMTYsIDExLjMyNzkzOV0sIFszLjYxMTE4LCAxMS42NjAxNjddLCBbMy42ODA2MzQsIDEyLjU1MjkwM10sIFszLjk2NzI4MywgMTIuOTU2MTA5XSwgWzQuMTA3OTQ2LCAxMy41MzEyMTZdLCBbNC4zNjgzNDQsIDEzLjc0NzQ4Ml0sIFs1LjQ0MzA1OCwgMTMuODY1OTI0XSwgWzYuNDQ1NDI2LCAxMy40OTI3NjhdLCBbNi44MjA0NDIsIDEzLjExNTA5MV0sIFs3LjMzMDc0NywgMTMuMDk4MDM4XSwgWzcuODA0NjcxLCAxMy4zNDM1MjddLCBbOS4wMTQ5MzMsIDEyLjgyNjY1OV0sIFs5LjUyNDkyOCwgMTIuODUxMTAyXSwgWzEwLjExNDgxNCwgMTMuMjc3MjUyXSwgWzEwLjcwMTAzMiwgMTMuMjQ2OTE4XSwgWzEwLjk4OTU5MywgMTMuMzg3MzIzXSwgWzExLjUyNzgwMywgMTMuMzI4OThdLCBbMTIuMzAyMDcxLCAxMy4wMzcxODldLCBbMTMuMDgzOTg3LCAxMy41OTYxNDddLCBbMTMuMzE4NzAyLCAxMy41NTYzNTZdLCBbMTMuOTk1MzUzLCAxMi40NjE1NjVdLCBbMTQuMTgxMzM2LCAxMi40ODM2NTddLCBbMTQuNTc3MTc4LCAxMi4wODUzNjFdLCBbMTQuNDY4MTkyLCAxMS45MDQ3NTJdLCBbMTQuNDE1Mzc5LCAxMS41NzIzNjldLCBbMTMuNTcyOTUsIDEwLjc5ODU2Nl0sIFsxMy4zMDg2NzYsIDEwLjE2MDM2Ml0sIFsxMy4xNjc2LCA5LjY0MDYyNl0sIFsxMi45NTU0NjgsIDkuNDE3NzcyXSwgWzEyLjc1MzY3MiwgOC43MTc3NjNdLCBbMTIuMjE4ODcyLCA4LjMwNTgyNF0sIFsxMi4wNjM5NDYsIDcuNzk5ODA4XSwgWzExLjgzOTMwOSwgNy4zOTcwNDJdLCBbMTEuNzQ1Nzc0LCA2Ljk4MTM4M10sIFsxMS4wNTg3ODgsIDYuNjQ0NDI3XSwgWzEwLjQ5NzM3NSwgNy4wNTUzNThdLCBbMTAuMTE4Mjc3LCA3LjAzODc3XSwgWzkuNTIyNzA2LCA2LjQ1MzQ4Ml0sIFs5LjIzMzE2MywgNi40NDQ0OTFdLCBbOC43NTc1MzMsIDUuNDc5NjY2XSwgWzguNTAwMjg4LCA0Ljc3MTk4M11dXSwgInR5cGUiOiAiUG9seWdvbiJ9LCAiaWQiOiAiTkdBIiwgInByb3BlcnRpZXMiOiB7ImhpZ2hsaWdodCI6IHt9LCAibmFtZSI6ICJOaWdlcmlhIiwgInN0eWxlIjogeyJjb2xvciI6ICJncmF5IiwgImRhc2hBcnJheSI6ICIxLCAxIiwgImZpbGxDb2xvciI6ICIjMDAwMDAwIiwgImxpbmVPcGFjaXR5IjogMC45LCAid2VpZ2h0IjogMX19LCAidHlwZSI6ICJGZWF0dXJlIn0sIHsiZ2VvbWV0cnkiOiB7ImNvb3JkaW5hdGVzIjogW1tbLTg1LjcxMjU0LCAxMS4wODg0NDVdLCBbLTg2LjA1ODQ4OCwgMTEuNDAzNDM5XSwgWy04Ni41MjU4NSwgMTEuODA2ODc3XSwgWy04Ni43NDU5OTIsIDEyLjE0Mzk2Ml0sIFstODcuMTY3NTE2LCAxMi40NTgyNThdLCBbLTg3LjY2ODQ5MywgMTIuOTA5OTFdLCBbLTg3LjU1NzQ2NywgMTMuMDY0NTUyXSwgWy04Ny4zOTIzODYsIDEyLjkxNDAxOF0sIFstODcuMzE2NjU0LCAxMi45ODQ2ODZdLCBbLTg3LjAwNTc2OSwgMTMuMDI1Nzk0XSwgWy04Ni44ODA1NTcsIDEzLjI1NDIwNF0sIFstODYuNzMzODIyLCAxMy4yNjMwOTNdLCBbLTg2Ljc1NTA4NywgMTMuNzU0ODQ1XSwgWy04Ni41MjA3MDgsIDEzLjc3ODQ4N10sIFstODYuMzEyMTQyLCAxMy43NzEzNTZdLCBbLTg2LjA5NjI2NCwgMTQuMDM4MTg3XSwgWy04NS44MDEyOTUsIDEzLjgzNjA1NV0sIFstODUuNjk4NjY1LCAxMy45NjAwNzhdLCBbLTg1LjUxNDQxMywgMTQuMDc5MDEyXSwgWy04NS4xNjUzNjUsIDE0LjM1NDM3XSwgWy04NS4xNDg3NTEsIDE0LjU2MDE5N10sIFstODUuMDUyNzg3LCAxNC41NTE1NDFdLCBbLTg0LjkyNDUwMSwgMTQuNzkwNDkzXSwgWy04NC44MjAwMzcsIDE0LjgxOTU4N10sIFstODQuNjQ5NTgyLCAxNC42NjY4MDVdLCBbLTg0LjQ0OTMzNiwgMTQuNjIxNjE0XSwgWy04NC4yMjgzNDIsIDE0Ljc0ODc2NF0sIFstODMuOTc1NzIxLCAxNC43NDk0MzZdLCBbLTgzLjYyODU4NSwgMTQuODgwMDc0XSwgWy04My40ODk5ODksIDE1LjAxNjI2N10sIFstODMuMTQ3MjE5LCAxNC45OTU4MjldLCBbLTgzLjIzMzIzNCwgMTQuODk5ODY2XSwgWy04My4yODQxNjIsIDE0LjY3NjYyNF0sIFstODMuMTgyMTI2LCAxNC4zMTA3MDNdLCBbLTgzLjQxMjUsIDEzLjk3MDA3OF0sIFstODMuNTE5ODMyLCAxMy41Njc2OTldLCBbLTgzLjU1MjIwNywgMTMuMTI3MDU0XSwgWy04My40OTg1MTUsIDEyLjg2OTI5Ml0sIFstODMuNDczMzIzLCAxMi40MTkwODddLCBbLTgzLjYyNjEwNCwgMTIuMzIwODVdLCBbLTgzLjcxOTYxMywgMTEuODkzMTI0XSwgWy04My42NTA4NTgsIDExLjYyOTAzMl0sIFstODMuODU1NDcsIDExLjM3MzMxMV0sIFstODMuODA4OTM2LCAxMS4xMDMwNDRdLCBbLTgzLjY1NTYxMiwgMTAuOTM4NzY0XSwgWy04My44OTUwNTQsIDEwLjcyNjgzOV0sIFstODQuMTkwMTc5LCAxMC43OTM0NV0sIFstODQuMzU1OTMxLCAxMC45OTkyMjZdLCBbLTg0LjY3MzA2OSwgMTEuMDgyNjU3XSwgWy04NC45MDMwMDMsIDEwLjk1MjMwM10sIFstODUuNTYxODUyLCAxMS4yMTcxMTldLCBbLTg1LjcxMjU0LCAxMS4wODg0NDVdXV0sICJ0eXBlIjogIlBvbHlnb24ifSwgImlkIjogIk5JQyIsICJwcm9wZXJ0aWVzIjogeyJoaWdobGlnaHQiOiB7fSwgIm5hbWUiOiAiTmljYXJhZ3VhIiwgInN0eWxlIjogeyJjb2xvciI6ICJncmF5IiwgImRhc2hBcnJheSI6ICIxLCAxIiwgImZpbGxDb2xvciI6ICIjMDAwMDAwIiwgImxpbmVPcGFjaXR5IjogMC45LCAid2VpZ2h0IjogMX19LCAidHlwZSI6ICJGZWF0dXJlIn0sIHsiZ2VvbWV0cnkiOiB7ImNvb3JkaW5hdGVzIjogW1tbNi4wNzQxODMsIDUzLjUxMDQwM10sIFs2LjkwNTE0LCA1My40ODIxNjJdLCBbNy4wOTIwNTMsIDUzLjE0NDA0M10sIFs2Ljg0Mjg3LCA1Mi4yMjg0NF0sIFs2LjU4OTM5NywgNTEuODUyMDI5XSwgWzUuOTg4NjU4LCA1MS44NTE2MTZdLCBbNi4xNTY2NTgsIDUwLjgwMzcyMV0sIFs1LjYwNjk3NiwgNTEuMDM3Mjk4XSwgWzQuOTczOTkxLCA1MS40NzUwMjRdLCBbNC4wNDcwNzEsIDUxLjI2NzI1OV0sIFszLjMxNDk3MSwgNTEuMzQ1NzU1XSwgWzMuODMwMjg5LCA1MS42MjA1NDVdLCBbNC43MDU5OTcsIDUzLjA5MTc5OF0sIFs2LjA3NDE4MywgNTMuNTEwNDAzXV1dLCAidHlwZSI6ICJQb2x5Z29uIn0sICJpZCI6ICJOTEQiLCAicHJvcGVydGllcyI6IHsiaGlnaGxpZ2h0Ijoge30sICJuYW1lIjogIk5ldGhlcmxhbmRzIiwgInN0eWxlIjogeyJjb2xvciI6ICJncmF5IiwgImRhc2hBcnJheSI6ICIxLCAxIiwgImZpbGxDb2xvciI6ICIjMDAwMDAwIiwgImxpbmVPcGFjaXR5IjogMC45LCAid2VpZ2h0IjogMX19LCAidHlwZSI6ICJGZWF0dXJlIn0sIHsiZ2VvbWV0cnkiOiB7ImNvb3JkaW5hdGVzIjogW1tbWzI4LjE2NTU0NywgNzEuMTg1NDc0XSwgWzMxLjI5MzQxOCwgNzAuNDUzNzg4XSwgWzMwLjAwNTQzNSwgNzAuMTg2MjU5XSwgWzMxLjEwMTA3OSwgNjkuNTU4MDhdLCBbMjkuMzk5NTgxLCA2OS4xNTY5MTZdLCBbMjguNTkxOTMsIDY5LjA2NDc3N10sIFsyOS4wMTU1NzMsIDY5Ljc2NjQ5MV0sIFsyNy43MzIyOTIsIDcwLjE2NDE5M10sIFsyNi4xNzk2MjIsIDY5LjgyNTI5OV0sIFsyNS42ODkyMTMsIDY5LjA5MjExNF0sIFsyNC43MzU2NzksIDY4LjY0OTU1N10sIFsyMy42NjIwNSwgNjguODkxMjQ3XSwgWzIyLjM1NjIzOCwgNjguODQxNzQxXSwgWzIxLjI0NDkzNiwgNjkuMzcwNDQzXSwgWzIwLjY0NTU5MywgNjkuMTA2MjQ3XSwgWzIwLjAyNTI2OSwgNjkuMDY1MTM5XSwgWzE5Ljg3ODU2LCA2OC40MDcxOTRdLCBbMTcuOTkzODY4LCA2OC41NjczOTFdLCBbMTcuNzI5MTgyLCA2OC4wMTA1NTJdLCBbMTYuNzY4ODc5LCA2OC4wMTM5MzddLCBbMTYuMTA4NzEyLCA2Ny4zMDI0NTZdLCBbMTUuMTA4NDExLCA2Ni4xOTM4NjddLCBbMTMuNTU1NjksIDY0Ljc4NzAyOF0sIFsxMy45MTk5MDUsIDY0LjQ0NTQyMV0sIFsxMy41NzE5MTYsIDY0LjA0OTExNF0sIFsxMi41Nzk5MzUsIDY0LjA2NjIxOV0sIFsxMS45MzA1NjksIDYzLjEyODMxOF0sIFsxMS45OTIwNjQsIDYxLjgwMDM2Ml0sIFsxMi42MzExNDcsIDYxLjI5MzU3Ml0sIFsxMi4zMDAzNjYsIDYwLjExNzkzM10sIFsxMS40NjgyNzIsIDU5LjQzMjM5M10sIFsxMS4wMjczNjksIDU4Ljg1NjE0OV0sIFsxMC4zNTY1NTcsIDU5LjQ2OTgwN10sIFs4LjM4MiwgNTguMzEzMjg4XSwgWzcuMDQ4NzQ4LCA1OC4wNzg4ODRdLCBbNS42NjU4MzUsIDU4LjU4ODE1NV0sIFs1LjMwODIzNCwgNTkuNjYzMjMyXSwgWzQuOTkyMDc4LCA2MS45NzA5OThdLCBbNS45MTI5LCA2Mi42MTQ0NzNdLCBbOC41NTM0MTEsIDYzLjQ1NDAwOF0sIFsxMC41Mjc3MDksIDY0LjQ4NjAzOF0sIFsxMi4zNTgzNDcsIDY1Ljg3OTcyNl0sIFsxNC43NjExNDYsIDY3LjgxMDY0Ml0sIFsxNi40MzU5MjcsIDY4LjU2MzIwNV0sIFsxOS4xODQwMjgsIDY5LjgxNzQ0NF0sIFsyMS4zNzg0MTYsIDcwLjI1NTE2OV0sIFsyMy4wMjM3NDIsIDcwLjIwMjA3Ml0sIFsyNC41NDY1NDMsIDcxLjAzMDQ5N10sIFsyNi4zNzAwNSwgNzAuOTg2MjYyXSwgWzI4LjE2NTU0NywgNzEuMTg1NDc0XV1dLCBbW1syNC43MjQxMiwgNzcuODUzODVdLCBbMjIuNDkwMzIsIDc3LjQ0NDkzXSwgWzIwLjcyNjAxLCA3Ny42NzcwNF0sIFsyMS40MTYxMSwgNzcuOTM1MDRdLCBbMjAuODExOSwgNzguMjU0NjNdLCBbMjIuODg0MjYsIDc4LjQ1NDk0XSwgWzIzLjI4MTM0LCA3OC4wNzk1NF0sIFsyNC43MjQxMiwgNzcuODUzODVdXV0sIFtbWzE4LjI1MTgzLCA3OS43MDE3NV0sIFsyMS41NDM4MywgNzguOTU2MTFdLCBbMTkuMDI3MzcsIDc4LjU2MjZdLCBbMTguNDcxNzIsIDc3LjgyNjY5XSwgWzE3LjU5NDQxLCA3Ny42Mzc5Nl0sIFsxNy4xMTgyLCA3Ni44MDk0MV0sIFsxNS45MTMxNSwgNzYuNzcwNDVdLCBbMTMuNzYyNTksIDc3LjM4MDM1XSwgWzE0LjY2OTU2LCA3Ny43MzU2NV0sIFsxMy4xNzA2LCA3OC4wMjQ5M10sIFsxMS4yMjIzMSwgNzguODY5M10sIFsxMC40NDQ1MywgNzkuNjUyMzldLCBbMTMuMTcwNzcsIDgwLjAxMDQ2XSwgWzEzLjcxODUyLCA3OS42NjAzOV0sIFsxNS4xNDI4MiwgNzkuNjc0MzFdLCBbMTUuNTIyNTUsIDgwLjAxNjA4XSwgWzE2Ljk5MDg1LCA4MC4wNTA4Nl0sIFsxOC4yNTE4MywgNzkuNzAxNzVdXV0sIFtbWzI1LjQ0NzYyNSwgODAuNDA3MzRdLCBbMjcuNDA3NTA2LCA4MC4wNTY0MDZdLCBbMjUuOTI0NjUxLCA3OS41MTc4MzRdLCBbMjMuMDI0NDY2LCA3OS40MDAwMTJdLCBbMjAuMDc1MTg4LCA3OS41NjY4MjNdLCBbMTkuODk3MjY2LCA3OS44NDIzNjJdLCBbMTguNDYyMjY0LCA3OS44NTk4OF0sIFsxNy4zNjgwMTUsIDgwLjMxODg5Nl0sIFsyMC40NTU5OTIsIDgwLjU5ODE1Nl0sIFsyMS45MDc5NDUsIDgwLjM1NzY3OV0sIFsyMi45MTkyNTMsIDgwLjY1NzE0NF0sIFsyNS40NDc2MjUsIDgwLjQwNzM0XV1dXSwgInR5cGUiOiAiTXVsdGlQb2x5Z29uIn0sICJpZCI6ICJOT1IiLCAicHJvcGVydGllcyI6IHsiaGlnaGxpZ2h0Ijoge30sICJuYW1lIjogIk5vcndheSIsICJzdHlsZSI6IHsiY29sb3IiOiAiZ3JheSIsICJkYXNoQXJyYXkiOiAiMSwgMSIsICJmaWxsQ29sb3IiOiAiIzAwMDAwMCIsICJsaW5lT3BhY2l0eSI6IDAuOSwgIndlaWdodCI6IDF9fSwgInR5cGUiOiAiRmVhdHVyZSJ9LCB7Imdlb21ldHJ5IjogeyJjb29yZGluYXRlcyI6IFtbWzg4LjEyMDQ0MSwgMjcuODc2NTQyXSwgWzg4LjA0MzEzMywgMjcuNDQ1ODE5XSwgWzg4LjE3NDgwNCwgMjYuODEwNDA1XSwgWzg4LjA2MDIzOCwgMjYuNDE0NjE1XSwgWzg3LjIyNzQ3MiwgMjYuMzk3ODk4XSwgWzg2LjAyNDM5MywgMjYuNjMwOTg1XSwgWzg1LjI1MTc3OSwgMjYuNzI2MTk4XSwgWzg0LjY3NTAxOCwgMjcuMjM0OTAxXSwgWzgzLjMwNDI0OSwgMjcuMzY0NTA2XSwgWzgxLjk5OTk4NywgMjcuOTI1NDc5XSwgWzgxLjA1NzIwMywgMjguNDE2MDk1XSwgWzgwLjA4ODQyNSwgMjguNzk0NDddLCBbODAuNDc2NzIxLCAyOS43Mjk4NjVdLCBbODEuMTExMjU2LCAzMC4xODM0ODFdLCBbODEuNTI1ODA0LCAzMC40MjI3MTddLCBbODIuMzI3NTEzLCAzMC4xMTUyNjhdLCBbODMuMzM3MTE1LCAyOS40NjM3MzJdLCBbODMuODk4OTkzLCAyOS4zMjAyMjZdLCBbODQuMjM0NTgsIDI4LjgzOTg5NF0sIFs4NS4wMTE2MzgsIDI4LjY0Mjc3NF0sIFs4NS44MjMzMiwgMjguMjAzNTc2XSwgWzg2Ljk1NDUxNywgMjcuOTc0MjYyXSwgWzg4LjEyMDQ0MSwgMjcuODc2NTQyXV1dLCAidHlwZSI6ICJQb2x5Z29uIn0sICJpZCI6ICJOUEwiLCAicHJvcGVydGllcyI6IHsiaGlnaGxpZ2h0Ijoge30sICJuYW1lIjogIk5lcGFsIiwgInN0eWxlIjogeyJjb2xvciI6ICJncmF5IiwgImRhc2hBcnJheSI6ICIxLCAxIiwgImZpbGxDb2xvciI6ICIjMDAwMDAwIiwgImxpbmVPcGFjaXR5IjogMC45LCAid2VpZ2h0IjogMX19LCAidHlwZSI6ICJGZWF0dXJlIn0sIHsiZ2VvbWV0cnkiOiB7ImNvb3JkaW5hdGVzIjogW1tbWzE3My4wMjAzNzUsIC00MC45MTkwNTJdLCBbMTczLjI0NzIzNCwgLTQxLjMzMTk5OV0sIFsxNzMuOTU4NDA1LCAtNDAuOTI2NzAxXSwgWzE3NC4yNDc1ODcsIC00MS4zNDkxNTVdLCBbMTc0LjI0ODUxNywgLTQxLjc3MDAwOF0sIFsxNzMuODc2NDQ3LCAtNDIuMjMzMTg0XSwgWzE3My4yMjI3NCwgLTQyLjk3MDAzOF0sIFsxNzIuNzExMjQ2LCAtNDMuMzcyMjg4XSwgWzE3My4wODAxMTMsIC00My44NTMzNDRdLCBbMTcyLjMwODU4NCwgLTQzLjg2NTY5NF0sIFsxNzEuNDUyOTI1LCAtNDQuMjQyNTE5XSwgWzE3MS4xODUxMzgsIC00NC44OTcxMDRdLCBbMTcwLjYxNjY5NywgLTQ1LjkwODkyOV0sIFsxNjkuODMxNDIyLCAtNDYuMzU1Nzc1XSwgWzE2OS4zMzIzMzEsIC00Ni42NDEyMzVdLCBbMTY4LjQxMTM1NCwgLTQ2LjYxOTk0NV0sIFsxNjcuNzYzNzQ1LCAtNDYuMjkwMTk3XSwgWzE2Ni42NzY4ODYsIC00Ni4yMTk5MTddLCBbMTY2LjUwOTE0NCwgLTQ1Ljg1MjcwNV0sIFsxNjcuMDQ2NDI0LCAtNDUuMTEwOTQxXSwgWzE2OC4zMDM3NjMsIC00NC4xMjM5NzNdLCBbMTY4Ljk0OTQwOSwgLTQzLjkzNTgxOV0sIFsxNjkuNjY3ODE1LCAtNDMuNTU1MzI2XSwgWzE3MC41MjQ5MiwgLTQzLjAzMTY4OF0sIFsxNzEuMTI1MDksIC00Mi41MTI3NTRdLCBbMTcxLjU2OTcxNCwgLTQxLjc2NzQyNF0sIFsxNzEuOTQ4NzA5LCAtNDEuNTE0NDE3XSwgWzE3Mi4wOTcyMjcsIC00MC45NTYxMDRdLCBbMTcyLjc5ODU4LCAtNDAuNDkzOTYyXSwgWzE3My4wMjAzNzUsIC00MC45MTkwNTJdXV0sIFtbWzE3NC42MTIwMDksIC0zNi4xNTYzOTddLCBbMTc1LjMzNjYxNiwgLTM3LjIwOTA5OF0sIFsxNzUuMzU3NTk2LCAtMzYuNTI2MTk0XSwgWzE3NS44MDg4ODcsIC0zNi43OTg5NDJdLCBbMTc1Ljk1ODQ5LCAtMzcuNTU1MzgyXSwgWzE3Ni43NjMxOTUsIC0zNy44ODEyNTNdLCBbMTc3LjQzODgxMywgLTM3Ljk2MTI0OF0sIFsxNzguMDEwMzU0LCAtMzcuNTc5ODI1XSwgWzE3OC41MTcwOTQsIC0zNy42OTUzNzNdLCBbMTc4LjI3NDczMSwgLTM4LjU4MjgxM10sIFsxNzcuOTcwNDYsIC0zOS4xNjYzNDNdLCBbMTc3LjIwNjk5MywgLTM5LjE0NTc3Nl0sIFsxNzYuOTM5OTgxLCAtMzkuNDQ5NzM2XSwgWzE3Ny4wMzI5NDYsIC0zOS44Nzk5NDNdLCBbMTc2Ljg4NTgyNCwgLTQwLjA2NTk3OF0sIFsxNzYuNTA4MDE3LCAtNDAuNjA0ODA4XSwgWzE3Ni4wMTI0NCwgLTQxLjI4OTYyNF0sIFsxNzUuMjM5NTY3LCAtNDEuNjg4MzA4XSwgWzE3NS4wNjc4OTgsIC00MS40MjU4OTVdLCBbMTc0LjY1MDk3MywgLTQxLjI4MTgyMV0sIFsxNzUuMjI3NjMsIC00MC40NTkyMzZdLCBbMTc0LjkwMDE1NywgLTM5LjkwODkzM10sIFsxNzMuODI0MDQ3LCAtMzkuNTA4ODU0XSwgWzE3My44NTIyNjIsIC0zOS4xNDY2MDJdLCBbMTc0LjU3NDgwMiwgLTM4Ljc5NzY4M10sIFsxNzQuNzQzNDc0LCAtMzguMDI3ODA4XSwgWzE3NC42OTcwMTcsIC0zNy4zODExMjldLCBbMTc0LjI5MjAyOCwgLTM2LjcxMTA5Ml0sIFsxNzQuMzE5MDA0LCAtMzYuNTM0ODI0XSwgWzE3My44NDA5OTcsIC0zNi4xMjE5ODFdLCBbMTczLjA1NDE3MSwgLTM1LjIzNzEyNV0sIFsxNzIuNjM2MDA1LCAtMzQuNTI5MTA3XSwgWzE3My4wMDcwNDIsIC0zNC40NTA2NjJdLCBbMTczLjU1MTI5OCwgLTM1LjAwNjE4M10sIFsxNzQuMzI5MzksIC0zNS4yNjU0OTZdLCBbMTc0LjYxMjAwOSwgLTM2LjE1NjM5N11dXV0sICJ0eXBlIjogIk11bHRpUG9seWdvbiJ9LCAiaWQiOiAiTlpMIiwgInByb3BlcnRpZXMiOiB7ImhpZ2hsaWdodCI6IHt9LCAibmFtZSI6ICJOZXcgWmVhbGFuZCIsICJzdHlsZSI6IHsiY29sb3IiOiAiZ3JheSIsICJkYXNoQXJyYXkiOiAiMSwgMSIsICJmaWxsQ29sb3IiOiAiIzAwMDAwMCIsICJsaW5lT3BhY2l0eSI6IDAuOSwgIndlaWdodCI6IDF9fSwgInR5cGUiOiAiRmVhdHVyZSJ9LCB7Imdlb21ldHJ5IjogeyJjb29yZGluYXRlcyI6IFtbW1s1OC44NjExNDEsIDIxLjExNDAzNV0sIFs1OC40ODc5ODYsIDIwLjQyODk4Nl0sIFs1OC4wMzQzMTgsIDIwLjQ4MTQzN10sIFs1Ny44MjYzNzMsIDIwLjI0MzAwMl0sIFs1Ny42NjU3NjIsIDE5LjczNjAwNV0sIFs1Ny43ODg3LCAxOS4wNjc1N10sIFs1Ny42OTQzOTEsIDE4Ljk0NDcxXSwgWzU3LjIzNDI2NCwgMTguOTQ3OTkxXSwgWzU2LjYwOTY1MSwgMTguNTc0MjY3XSwgWzU2LjUxMjE4OSwgMTguMDg3MTEzXSwgWzU2LjI4MzUyMSwgMTcuODc2MDY3XSwgWzU1LjY2MTQ5MiwgMTcuODg0MTI4XSwgWzU1LjI2OTkzOSwgMTcuNjMyMzA5XSwgWzU1LjI3NDksIDE3LjIyODM1NF0sIFs1NC43OTEwMDIsIDE2Ljk1MDY5N10sIFs1NC4yMzkyNTMsIDE3LjA0NDk4MV0sIFs1My41NzA1MDgsIDE2LjcwNzY2M10sIFs1My4xMDg1NzMsIDE2LjY1MTA1MV0sIFs1Mi43ODIxODQsIDE3LjM0OTc0Ml0sIFs1Mi4wMDAwMSwgMTkuMDAwMDAzXSwgWzU0Ljk5OTk4MiwgMTkuOTk5OTk0XSwgWzU1LjY2NjY1OSwgMjIuMDAwMDAxXSwgWzU1LjIwODM0MSwgMjIuNzA4MzNdLCBbNTUuMjM0NDg5LCAyMy4xMTA5OTNdLCBbNTUuNTI1ODQxLCAyMy41MjQ4NjldLCBbNTUuNTI4NjMyLCAyMy45MzM2MDRdLCBbNTUuOTgxMjE0LCAyNC4xMzA1NDNdLCBbNTUuODA0MTE5LCAyNC4yNjk2MDRdLCBbNTUuODg2MjMzLCAyNC45MjA4MzFdLCBbNTYuMzk2ODQ3LCAyNC45MjQ3MzJdLCBbNTYuODQ1MTQsIDI0LjI0MTY3M10sIFs1Ny40MDM0NTMsIDIzLjg3ODU5NF0sIFs1OC4xMzY5NDgsIDIzLjc0NzkzMV0sIFs1OC43MjkyMTEsIDIzLjU2NTY2OF0sIFs1OS4xODA1MDIsIDIyLjk5MjM5NV0sIFs1OS40NTAwOTgsIDIyLjY2MDI3MV0sIFs1OS44MDgwNiwgMjIuNTMzNjEyXSwgWzU5LjgwNjE0OCwgMjIuMzEwNTI1XSwgWzU5LjQ0MjE5MSwgMjEuNzE0NTQxXSwgWzU5LjI4MjQwOCwgMjEuNDMzODg2XSwgWzU4Ljg2MTE0MSwgMjEuMTE0MDM1XV1dLCBbW1s1Ni4zOTE0MjEsIDI1Ljg5NTk5MV0sIFs1Ni4yNjEwNDIsIDI1LjcxNDYwNl0sIFs1Ni4wNzA4MjEsIDI2LjA1NTQ2NF0sIFs1Ni4zNjIwMTcsIDI2LjM5NTkzNF0sIFs1Ni40ODU2NzksIDI2LjMwOTExOF0sIFs1Ni4zOTE0MjEsIDI1Ljg5NTk5MV1dXV0sICJ0eXBlIjogIk11bHRpUG9seWdvbiJ9LCAiaWQiOiAiT01OIiwgInByb3BlcnRpZXMiOiB7ImhpZ2hsaWdodCI6IHt9LCAibmFtZSI6ICJPbWFuIiwgInN0eWxlIjogeyJjb2xvciI6ICJncmF5IiwgImRhc2hBcnJheSI6ICIxLCAxIiwgImZpbGxDb2xvciI6ICIjMDAwMDAwIiwgImxpbmVPcGFjaXR5IjogMC45LCAid2VpZ2h0IjogMX19LCAidHlwZSI6ICJGZWF0dXJlIn0sIHsiZ2VvbWV0cnkiOiB7ImNvb3JkaW5hdGVzIjogW1tbNzUuMTU4MDI4LCAzNy4xMzMwMzFdLCBbNzUuODk2ODk3LCAzNi42NjY4MDZdLCBbNzYuMTkyODQ4LCAzNS44OTg0MDNdLCBbNzcuODM3NDUxLCAzNS40OTQwMV0sIFs3Ni44NzE3MjIsIDM0LjY1MzU0NF0sIFs3NS43NTcwNjEsIDM0LjUwNDkyM10sIFs3NC4yNDAyMDMsIDM0Ljc0ODg4N10sIFs3My43NDk5NDgsIDM0LjMxNzY5OV0sIFs3NC4xMDQyOTQsIDMzLjQ0MTQ3M10sIFs3NC40NTE1NTksIDMyLjc2NDldLCBbNzUuMjU4NjQyLCAzMi4yNzExMDVdLCBbNzQuNDA1OTI5LCAzMS42OTI2MzldLCBbNzQuNDIxMzgsIDMwLjk3OTgxNV0sIFs3My40NTA2MzgsIDI5Ljk3NjQxM10sIFs3Mi44MjM3NTIsIDI4Ljk2MTU5Ml0sIFs3MS43Nzc2NjYsIDI3LjkxMzE4XSwgWzcwLjYxNjQ5NiwgMjcuOTg5MTk2XSwgWzY5LjUxNDM5MywgMjYuOTQwOTY2XSwgWzcwLjE2ODkyNywgMjYuNDkxODcyXSwgWzcwLjI4Mjg3MywgMjUuNzIyMjI5XSwgWzcwLjg0NDY5OSwgMjUuMjE1MTAyXSwgWzcxLjA0MzI0LCAyNC4zNTY1MjRdLCBbNjguODQyNTk5LCAyNC4zNTkxMzRdLCBbNjguMTc2NjQ1LCAyMy42OTE5NjVdLCBbNjcuNDQzNjY3LCAyMy45NDQ4NDRdLCBbNjcuMTQ1NDQyLCAyNC42NjM2MTFdLCBbNjYuMzcyODI4LCAyNS40MjUxNDFdLCBbNjQuNTMwNDA4LCAyNS4yMzcwMzldLCBbNjIuOTA1NzAxLCAyNS4yMTg0MDldLCBbNjEuNDk3MzYzLCAyNS4wNzgyMzddLCBbNjEuODc0MTg3LCAyNi4yMzk5NzVdLCBbNjMuMzE2NjMyLCAyNi43NTY1MzJdLCBbNjMuMjMzODk4LCAyNy4yMTcwNDddLCBbNjIuNzU1NDI2LCAyNy4zNzg5MjNdLCBbNjIuNzI3ODMsIDI4LjI1OTY0NV0sIFs2MS43NzE4NjgsIDI4LjY5OTMzNF0sIFs2MS4zNjkzMDksIDI5LjMwMzI3Nl0sIFs2MC44NzQyNDgsIDI5LjgyOTIzOV0sIFs2Mi41NDk4NTcsIDI5LjMxODU3Ml0sIFs2My41NTAyNjEsIDI5LjQ2ODMzMV0sIFs2NC4xNDgwMDIsIDI5LjM0MDgxOV0sIFs2NC4zNTA0MTksIDI5LjU2MDAzMV0sIFs2NS4wNDY4NjIsIDI5LjQ3MjE4MV0sIFs2Ni4zNDY0NzMsIDI5Ljg4Nzk0M10sIFs2Ni4zODE0NTgsIDMwLjczODg5OV0sIFs2Ni45Mzg4OTEsIDMxLjMwNDkxMV0sIFs2Ny42ODMzOTQsIDMxLjMwMzE1NF0sIFs2Ny43OTI2ODksIDMxLjU4MjkzXSwgWzY4LjU1NjkzMiwgMzEuNzEzMzFdLCBbNjguOTI2Njc3LCAzMS42MjAxODldLCBbNjkuMzE3NzY0LCAzMS45MDE0MTJdLCBbNjkuMjYyNTIyLCAzMi41MDE5NDRdLCBbNjkuNjg3MTQ3LCAzMy4xMDU0OTldLCBbNzAuMzIzNTk0LCAzMy4zNTg1MzNdLCBbNjkuOTMwNTQzLCAzNC4wMjAxMl0sIFs3MC44ODE4MDMsIDMzLjk4ODg1Nl0sIFs3MS4xNTY3NzMsIDM0LjM0ODkxMV0sIFs3MS4xMTUwMTksIDM0LjczMzEyNl0sIFs3MS42MTMwNzYsIDM1LjE1MzIwM10sIFs3MS40OTg3NjgsIDM1LjY1MDU2M10sIFs3MS4yNjIzNDgsIDM2LjA3NDM4OF0sIFs3MS44NDYyOTIsIDM2LjUwOTk0Ml0sIFs3Mi45MjAwMjUsIDM2LjcyMDAwN10sIFs3NC4wNjc1NTIsIDM2LjgzNjE3Nl0sIFs3NC41NzU4OTMsIDM3LjAyMDg0MV0sIFs3NS4xNTgwMjgsIDM3LjEzMzAzMV1dXSwgInR5cGUiOiAiUG9seWdvbiJ9LCAiaWQiOiAiUEFLIiwgInByb3BlcnRpZXMiOiB7ImhpZ2hsaWdodCI6IHt9LCAibmFtZSI6ICJQYWtpc3RhbiIsICJzdHlsZSI6IHsiY29sb3IiOiAiZ3JheSIsICJkYXNoQXJyYXkiOiAiMSwgMSIsICJmaWxsQ29sb3IiOiAiIzAwMDAwMCIsICJsaW5lT3BhY2l0eSI6IDAuOSwgIndlaWdodCI6IDF9fSwgInR5cGUiOiAiRmVhdHVyZSJ9LCB7Imdlb21ldHJ5IjogeyJjb29yZGluYXRlcyI6IFtbWy03Ny44ODE1NzEsIDcuMjIzNzcxXSwgWy03OC4yMTQ5MzYsIDcuNTEyMjU1XSwgWy03OC40MjkxNjEsIDguMDUyMDQxXSwgWy03OC4xODIwOTYsIDguMzE5MTgyXSwgWy03OC40MzU0NjUsIDguMzg3NzA1XSwgWy03OC42MjIxMjEsIDguNzE4MTI0XSwgWy03OS4xMjAzMDcsIDguOTk2MDkyXSwgWy03OS41NTc4NzcsIDguOTMyMzc1XSwgWy03OS43NjA1NzgsIDguNTg0NTE1XSwgWy04MC4xNjQ0ODEsIDguMzMzMzE2XSwgWy04MC4zODI2NTksIDguMjk4NDA5XSwgWy04MC40ODA2ODksIDguMDkwMzA4XSwgWy04MC4wMDM2OSwgNy41NDc1MjRdLCBbLTgwLjI3NjY3MSwgNy40MTk3NTRdLCBbLTgwLjQyMTE1OCwgNy4yNzE1NzJdLCBbLTgwLjg4NjQwMSwgNy4yMjA1NDFdLCBbLTgxLjA1OTU0MywgNy44MTc5MjFdLCBbLTgxLjE4OTcxNiwgNy42NDc5MDZdLCBbLTgxLjUxOTUxNSwgNy43MDY2MV0sIFstODEuNzIxMzExLCA4LjEwODk2M10sIFstODIuMTMxNDQxLCA4LjE3NTM5M10sIFstODIuMzkwOTM0LCA4LjI5MjM2Ml0sIFstODIuODIwMDgxLCA4LjI5MDg2NF0sIFstODIuODUwOTU4LCA4LjA3MzgyM10sIFstODIuOTY1NzgzLCA4LjIyNTAyOF0sIFstODIuOTEzMTc2LCA4LjQyMzUxN10sIFstODIuODI5NzcxLCA4LjYyNjI5NV0sIFstODIuODY4NjU3LCA4LjgwNzI2Nl0sIFstODIuNzE5MTgzLCA4LjkyNTcwOV0sIFstODIuOTI3MTU1LCA5LjA3NDMzXSwgWy04Mi45MzI4OTEsIDkuNDc2ODEyXSwgWy04Mi41NDYxOTYsIDkuNTY2MTM1XSwgWy04Mi4xODcxMjMsIDkuMjA3NDQ5XSwgWy04Mi4yMDc1ODYsIDguOTk1NTc1XSwgWy04MS44MDg1NjcsIDguOTUwNjE3XSwgWy04MS43MTQxNTQsIDkuMDMxOTU1XSwgWy04MS40MzkyODcsIDguNzg2MjM0XSwgWy04MC45NDczMDIsIDguODU4NTA0XSwgWy04MC41MjE5MDEsIDkuMTExMDcyXSwgWy03OS45MTQ2LCA5LjMxMjc2NV0sIFstNzkuNTczMzAzLCA5LjYxMTYxXSwgWy03OS4wMjExOTIsIDkuNTUyOTMxXSwgWy03OS4wNTg0NSwgOS40NTQ1NjVdLCBbLTc4LjUwMDg4OCwgOS40MjA0NTldLCBbLTc4LjA1NTkyOCwgOS4yNDc3M10sIFstNzcuNzI5NTE0LCA4Ljk0Njg0NF0sIFstNzcuMzUzMzYxLCA4LjY3MDUwNV0sIFstNzcuNDc0NzIzLCA4LjUyNDI4Nl0sIFstNzcuMjQyNTY2LCA3LjkzNTI3OF0sIFstNzcuNDMxMTA4LCA3LjYzODA2MV0sIFstNzcuNzUzNDE0LCA3LjcwOTg0XSwgWy03Ny44ODE1NzEsIDcuMjIzNzcxXV1dLCAidHlwZSI6ICJQb2x5Z29uIn0sICJpZCI6ICJQQU4iLCAicHJvcGVydGllcyI6IHsiaGlnaGxpZ2h0Ijoge30sICJuYW1lIjogIlBhbmFtYSIsICJzdHlsZSI6IHsiY29sb3IiOiAiZ3JheSIsICJkYXNoQXJyYXkiOiAiMSwgMSIsICJmaWxsQ29sb3IiOiAiIzAwMDAwMCIsICJsaW5lT3BhY2l0eSI6IDAuOSwgIndlaWdodCI6IDF9fSwgInR5cGUiOiAiRmVhdHVyZSJ9LCB7Imdlb21ldHJ5IjogeyJjb29yZGluYXRlcyI6IFtbWy02OS41OTA0MjQsIC0xNy41ODAwMTJdLCBbLTY5Ljg1ODQ0NCwgLTE4LjA5MjY5NF0sIFstNzAuMzcyNTcyLCAtMTguMzQ3OTc1XSwgWy03MS4zNzUyNSwgLTE3Ljc3Mzc5OV0sIFstNzEuNDYyMDQxLCAtMTcuMzYzNDg4XSwgWy03My40NDQ1MywgLTE2LjM1OTM2M10sIFstNzUuMjM3ODgzLCAtMTUuMjY1NjgzXSwgWy03Ni4wMDkyMDUsIC0xNC42NDkyODZdLCBbLTc2LjQyMzQ2OSwgLTEzLjgyMzE4N10sIFstNzYuMjU5MjQyLCAtMTMuNTM1MDM5XSwgWy03Ny4xMDYxOTIsIC0xMi4yMjI3MTZdLCBbLTc4LjA5MjE1MywgLTEwLjM3NzcxMl0sIFstNzkuMDM2OTUzLCAtOC4zODY1NjhdLCBbLTc5LjQ0NTkyLCAtNy45MzA4MzNdLCBbLTc5Ljc2MDU3OCwgLTcuMTk0MzQxXSwgWy04MC41Mzc0ODIsIC02LjU0MTY2OF0sIFstODEuMjQ5OTk2LCAtNi4xMzY4MzRdLCBbLTgwLjkyNjM0NywgLTUuNjkwNTU3XSwgWy04MS40MTA5NDMsIC00LjczNjc2NV0sIFstODEuMDk5NjcsIC00LjAzNjM5NF0sIFstODAuMzAyNTYxLCAtMy40MDQ4NTZdLCBbLTgwLjE4NDAxNSwgLTMuODIxMTYyXSwgWy04MC40NjkyOTUsIC00LjA1OTI4N10sIFstODAuNDQyMjQyLCAtNC40MjU3MjRdLCBbLTgwLjAyODkwOCwgLTQuMzQ2MDkxXSwgWy03OS42MjQ5NzksIC00LjQ1NDE5OF0sIFstNzkuMjA1Mjg5LCAtNC45NTkxMjldLCBbLTc4LjYzOTg5NywgLTQuNTQ3Nzg0XSwgWy03OC40NTA2ODQsIC0zLjg3MzA5N10sIFstNzcuODM3OTA1LCAtMy4wMDMwMjFdLCBbLTc2LjYzNTM5NCwgLTIuNjA4Njc4XSwgWy03NS41NDQ5OTYsIC0xLjU2MTYxXSwgWy03NS4yMzM3MjMsIC0wLjkxMTQxN10sIFstNzUuMzczMjIzLCAtMC4xNTIwMzJdLCBbLTc1LjEwNjYyNSwgLTAuMDU3MjA1XSwgWy03NC40NDE2MDEsIC0wLjUzMDgyXSwgWy03NC4xMjIzOTUsIC0xLjAwMjgzM10sIFstNzMuNjU5NTA0LCAtMS4yNjA0OTFdLCBbLTczLjA3MDM5MiwgLTIuMzA4OTU0XSwgWy03Mi4zMjU3ODcsIC0yLjQzNDIxOF0sIFstNzEuNzc0NzYxLCAtMi4xNjk3OV0sIFstNzEuNDEzNjQ2LCAtMi4zNDI4MDJdLCBbLTcwLjgxMzQ3NiwgLTIuMjU2ODY1XSwgWy03MC4wNDc3MDksIC0yLjcyNTE1Nl0sIFstNzAuNjkyNjgyLCAtMy43NDI4NzJdLCBbLTcwLjM5NDA0NCwgLTMuNzY2NTkxXSwgWy02OS44OTM2MzUsIC00LjI5ODE4N10sIFstNzAuNzk0NzY5LCAtNC4yNTEyNjVdLCBbLTcwLjkyODg0MywgLTQuNDAxNTkxXSwgWy03MS43NDg0MDYsIC00LjU5Mzk4M10sIFstNzIuODkxOTI4LCAtNS4yNzQ1NjFdLCBbLTcyLjk2NDUwNywgLTUuNzQxMjUxXSwgWy03My4yMTk3MTEsIC02LjA4OTE4OV0sIFstNzMuMTIwMDI3LCAtNi42Mjk5MzFdLCBbLTczLjcyNDQ4NywgLTYuOTE4NTk1XSwgWy03My43MjM0MDEsIC03LjM0MDk5OV0sIFstNzMuOTg3MjM1LCAtNy41MjM4M10sIFstNzMuNTcxMDU5LCAtOC40MjQ0NDddLCBbLTczLjAxNTM4MywgLTkuMDMyODMzXSwgWy03My4yMjY3MTMsIC05LjQ2MjIxM10sIFstNzIuNTYzMDMzLCAtOS41MjAxOTRdLCBbLTcyLjE4NDg5MSwgLTEwLjA1MzU5OF0sIFstNzEuMzAyNDEyLCAtMTAuMDc5NDM2XSwgWy03MC40ODE4OTQsIC05LjQ5MDExOF0sIFstNzAuNTQ4Njg2LCAtMTEuMDA5MTQ3XSwgWy03MC4wOTM3NTIsIC0xMS4xMjM5NzJdLCBbLTY5LjUyOTY3OCwgLTEwLjk1MTczNF0sIFstNjguNjY1MDgsIC0xMi41NjEzXSwgWy02OC44ODAwOCwgLTEyLjg5OTcyOV0sIFstNjguOTI5MjI0LCAtMTMuNjAyNjg0XSwgWy02OC45NDg4ODcsIC0xNC40NTM2MzldLCBbLTY5LjMzOTUzNSwgLTE0Ljk1MzE5NV0sIFstNjkuMTYwMzQ3LCAtMTUuMzIzOTc0XSwgWy02OS4zODk3NjQsIC0xNS42NjAxMjldLCBbLTY4Ljk1OTYzNSwgLTE2LjUwMDY5OF0sIFstNjkuNTkwNDI0LCAtMTcuNTgwMDEyXV1dLCAidHlwZSI6ICJQb2x5Z29uIn0sICJpZCI6ICJQRVIiLCAicHJvcGVydGllcyI6IHsiaGlnaGxpZ2h0Ijoge30sICJuYW1lIjogIlBlcnUiLCAic3R5bGUiOiB7ImNvbG9yIjogImdyYXkiLCAiZGFzaEFycmF5IjogIjEsIDEiLCAiZmlsbENvbG9yIjogIiMwMDAwMDAiLCAibGluZU9wYWNpdHkiOiAwLjksICJ3ZWlnaHQiOiAxfX0sICJ0eXBlIjogIkZlYXR1cmUifSwgeyJnZW9tZXRyeSI6IHsiY29vcmRpbmF0ZXMiOiBbW1tbMTI2LjM3NjgxNCwgOC40MTQ3MDZdLCBbMTI2LjQ3ODUxMywgNy43NTAzNTRdLCBbMTI2LjUzNzQyNCwgNy4xODkzODFdLCBbMTI2LjE5Njc3MywgNi4yNzQyOTRdLCBbMTI1LjgzMTQyMSwgNy4yOTM3MTVdLCBbMTI1LjM2Mzg1MiwgNi43ODY0ODVdLCBbMTI1LjY4MzE2MSwgNi4wNDk2NTddLCBbMTI1LjM5NjUxMiwgNS41ODEwMDNdLCBbMTI0LjIxOTc4OCwgNi4xNjEzNTVdLCBbMTIzLjkzODcyLCA2Ljg4NTEzNl0sIFsxMjQuMjQzNjYyLCA3LjM2MDYxXSwgWzEyMy42MTAyMTIsIDcuODMzNTI3XSwgWzEyMy4yOTYwNzEsIDcuNDE4ODc2XSwgWzEyMi44MjU1MDYsIDcuNDU3Mzc1XSwgWzEyMi4wODU0OTksIDYuODk5NDI0XSwgWzEyMS45MTk5MjgsIDcuMTkyMTE5XSwgWzEyMi4zMTIzNTksIDguMDM0OTYyXSwgWzEyMi45NDIzOTgsIDguMzE2MjM3XSwgWzEyMy40ODc2ODgsIDguNjkzMDFdLCBbMTIzLjg0MTE1NCwgOC4yNDAzMjRdLCBbMTI0LjYwMTQ3LCA4LjUxNDE1OF0sIFsxMjQuNzY0NjEyLCA4Ljk2MDQwOV0sIFsxMjUuNDcxMzkxLCA4Ljk4Njk5N10sIFsxMjUuNDEyMTE4LCA5Ljc2MDMzNV0sIFsxMjYuMjIyNzE0LCA5LjI4NjA3NF0sIFsxMjYuMzA2NjM3LCA4Ljc4MjQ4N10sIFsxMjYuMzc2ODE0LCA4LjQxNDcwNl1dXSwgW1tbMTIzLjk4MjQzOCwgMTAuMjc4Nzc5XSwgWzEyMy42MjMxODMsIDkuOTUwMDkxXSwgWzEyMy4zMDk5MjEsIDkuMzE4MjY5XSwgWzEyMi45OTU4ODMsIDkuMDIyMTg5XSwgWzEyMi4zODAwNTUsIDkuNzEzMzYxXSwgWzEyMi41ODYwODksIDkuOTgxMDQ1XSwgWzEyMi44MzcwODEsIDEwLjI2MTE1N10sIFsxMjIuOTQ3NDExLCAxMC44ODE4NjhdLCBbMTIzLjQ5ODg1LCAxMC45NDA2MjRdLCBbMTIzLjMzNzc3NCwgMTAuMjY3Mzg0XSwgWzEyNC4wNzc5MzYsIDExLjIzMjcyNl0sIFsxMjMuOTgyNDM4LCAxMC4yNzg3NzldXV0sIFtbWzExOC41MDQ1ODEsIDkuMzE2MzgzXSwgWzExNy4xNzQyNzUsIDguMzY3NV0sIFsxMTcuNjY0NDc3LCA5LjA2Njg4OV0sIFsxMTguMzg2OTE0LCA5LjY4NDVdLCBbMTE4Ljk4NzM0MiwgMTAuMzc2MjkyXSwgWzExOS41MTE0OTYsIDExLjM2OTY2OF0sIFsxMTkuNjg5Njc3LCAxMC41NTQyOTFdLCBbMTE5LjAyOTQ1OCwgMTAuMDAzNjUzXSwgWzExOC41MDQ1ODEsIDkuMzE2MzgzXV1dLCBbW1sxMjEuODgzNTQ4LCAxMS44OTE3NTVdLCBbMTIyLjQ4MzgyMSwgMTEuNTgyMTg3XSwgWzEyMy4xMjAyMTcsIDExLjU4MzY2XSwgWzEyMy4xMDA4MzgsIDExLjE2NTkzNF0sIFsxMjIuNjM3NzE0LCAxMC43NDEzMDhdLCBbMTIyLjAwMjYxLCAxMC40NDEwMTddLCBbMTIxLjk2NzM2NywgMTAuOTA1NjkxXSwgWzEyMi4wMzgzNywgMTEuNDE1ODQxXSwgWzEyMS44ODM1NDgsIDExLjg5MTc1NV1dXSwgW1tbMTI1LjUwMjU1MiwgMTIuMTYyNjk1XSwgWzEyNS43ODM0NjUsIDExLjA0NjEyMl0sIFsxMjUuMDExODg0LCAxMS4zMTE0NTVdLCBbMTI1LjAzMjc2MSwgMTAuOTc1ODE2XSwgWzEyNS4yNzc0NDksIDEwLjM1ODcyMl0sIFsxMjQuODAxODE5LCAxMC4xMzQ2NzldLCBbMTI0Ljc2MDE2OCwgMTAuODM3OTk1XSwgWzEyNC40NTkxMDEsIDEwLjg4OTkzXSwgWzEyNC4zMDI1MjIsIDExLjQ5NTM3MV0sIFsxMjQuODkxMDEzLCAxMS40MTU1ODNdLCBbMTI0Ljg3Nzk5LCAxMS43OTQxOV0sIFsxMjQuMjY2NzYyLCAxMi41NTc3NjFdLCBbMTI1LjIyNzExNiwgMTIuNTM1NzIxXSwgWzEyNS41MDI1NTIsIDEyLjE2MjY5NV1dXSwgW1tbMTIxLjUyNzM5NCwgMTMuMDY5NTldLCBbMTIxLjI2MjE5LCAxMi4yMDU1Nl0sIFsxMjAuODMzODk2LCAxMi43MDQ0OTZdLCBbMTIwLjMyMzQzNiwgMTMuNDY2NDEzXSwgWzEyMS4xODAxMjgsIDEzLjQyOTY5N10sIFsxMjEuNTI3Mzk0LCAxMy4wNjk1OV1dXSwgW1tbMTIxLjMyMTMwOCwgMTguNTA0MDY1XSwgWzEyMS45Mzc2MDEsIDE4LjIxODU1Ml0sIFsxMjIuMjQ2MDA2LCAxOC40Nzg5NV0sIFsxMjIuMzM2OTU3LCAxOC4yMjQ4ODNdLCBbMTIyLjE3NDI3OSwgMTcuODEwMjgzXSwgWzEyMi41MTU2NTQsIDE3LjA5MzUwNV0sIFsxMjIuMjUyMzExLCAxNi4yNjI0NDRdLCBbMTIxLjY2Mjc4NiwgMTUuOTMxMDE4XSwgWzEyMS41MDUwNywgMTUuMTI0ODE0XSwgWzEyMS43Mjg4MjksIDE0LjMyODM3Nl0sIFsxMjIuMjU4OTI1LCAxNC4yMTgyMDJdLCBbMTIyLjcwMTI3NiwgMTQuMzM2NTQxXSwgWzEyMy45NTAyOTUsIDEzLjc4MjEzMV0sIFsxMjMuODU1MTA3LCAxMy4yMzc3NzFdLCBbMTI0LjE4MTI4OSwgMTIuOTk3NTI3XSwgWzEyNC4wNzc0MTksIDEyLjUzNjY3N10sIFsxMjMuMjk4MDM1LCAxMy4wMjc1MjZdLCBbMTIyLjkyODY1MiwgMTMuNTUyOTJdLCBbMTIyLjY3MTM1NSwgMTMuMTg1ODM2XSwgWzEyMi4wMzQ2NSwgMTMuNzg0NDgyXSwgWzEyMS4xMjYzODUsIDEzLjYzNjY4N10sIFsxMjAuNjI4NjM3LCAxMy44NTc2NTZdLCBbMTIwLjY3OTM4NCwgMTQuMjcxMDE2XSwgWzEyMC45OTE4MTksIDE0LjUyNTM5M10sIFsxMjAuNjkzMzM2LCAxNC43NTY2NzFdLCBbMTIwLjU2NDE0NSwgMTQuMzk2Mjc5XSwgWzEyMC4wNzA0MjksIDE0Ljk3MDg2OV0sIFsxMTkuOTIwOTI5LCAxNS40MDYzNDddLCBbMTE5Ljg4Mzc3MywgMTYuMzYzNzA0XSwgWzEyMC4yODY0ODgsIDE2LjAzNDYyOV0sIFsxMjAuMzkwMDQ3LCAxNy41OTkwODFdLCBbMTIwLjcxNTg2NywgMTguNTA1MjI3XSwgWzEyMS4zMjEzMDgsIDE4LjUwNDA2NV1dXV0sICJ0eXBlIjogIk11bHRpUG9seWdvbiJ9LCAiaWQiOiAiUEhMIiwgInByb3BlcnRpZXMiOiB7ImhpZ2hsaWdodCI6IHt9LCAibmFtZSI6ICJQaGlsaXBwaW5lcyIsICJzdHlsZSI6IHsiY29sb3IiOiAiZ3JheSIsICJkYXNoQXJyYXkiOiAiMSwgMSIsICJmaWxsQ29sb3IiOiAiIzAwMDAwMCIsICJsaW5lT3BhY2l0eSI6IDAuOSwgIndlaWdodCI6IDF9fSwgInR5cGUiOiAiRmVhdHVyZSJ9LCB7Imdlb21ldHJ5IjogeyJjb29yZGluYXRlcyI6IFtbW1sxNTUuODgwMDI2LCAtNi44MTk5OTddLCBbMTU1LjU5OTk5MSwgLTYuOTE5OTkxXSwgWzE1NS4xNjY5OTQsIC02LjUzNTkzMV0sIFsxNTQuNzI5MTkyLCAtNS45MDA4MjhdLCBbMTU0LjUxNDExNCwgLTUuMTM5MTE4XSwgWzE1NC42NTI1MDQsIC01LjA0MjQzMV0sIFsxNTQuNzU5OTkxLCAtNS4zMzk5ODRdLCBbMTU1LjA2MjkxOCwgLTUuNTY2NzkyXSwgWzE1NS41NDc3NDYsIC02LjIwMDY1NV0sIFsxNTYuMDE5OTY1LCAtNi41NDAwMTRdLCBbMTU1Ljg4MDAyNiwgLTYuODE5OTk3XV1dLCBbW1sxNTEuOTgyNzk2LCAtNS40NzgwNjNdLCBbMTUxLjQ1OTEwNywgLTUuNTYwMjhdLCBbMTUxLjMwMTM5LCAtNS44NDA3MjhdLCBbMTUwLjc1NDQ0NywgLTYuMDgzNzYzXSwgWzE1MC4yNDExOTcsIC02LjMxNzc1NF0sIFsxNDkuNzA5OTYzLCAtNi4zMTY1MTNdLCBbMTQ4Ljg5MDA2NSwgLTYuMDI2MDRdLCBbMTQ4LjMxODkzNywgLTUuNzQ3MTQyXSwgWzE0OC40MDE4MjYsIC01LjQzNzc1Nl0sIFsxNDkuMjk4NDEyLCAtNS41ODM3NDJdLCBbMTQ5Ljg0NTU2MiwgLTUuNTA1NTAzXSwgWzE0OS45OTYyNSwgLTUuMDI2MTAxXSwgWzE1MC4xMzk3NTYsIC01LjAwMTM0OF0sIFsxNTAuMjM2OTA4LCAtNS41MzIyMl0sIFsxNTAuODA3NDY3LCAtNS40NTU4NDJdLCBbMTUxLjA4OTY3MiwgLTUuMTEzNjkzXSwgWzE1MS42NDc4ODEsIC00Ljc1NzA3NF0sIFsxNTEuNTM3ODYyLCAtNC4xNjc4MDddLCBbMTUyLjEzNjc5MiwgLTQuMTQ4NzldLCBbMTUyLjMzODc0MywgLTQuMzEyOTY2XSwgWzE1Mi4zMTg2OTMsIC00Ljg2NzY2MV0sIFsxNTEuOTgyNzk2LCAtNS40NzgwNjNdXV0sIFtbWzE0Ny4xOTE4NzQsIC03LjM4ODAyNF0sIFsxNDguMDg0NjM2LCAtOC4wNDQxMDhdLCBbMTQ4LjczNDEwNSwgLTkuMTA0NjY0XSwgWzE0OS4zMDY4MzUsIC05LjA3MTQzNl0sIFsxNDkuMjY2NjMxLCAtOS41MTQ0MDZdLCBbMTUwLjAzODcyOCwgLTkuNjg0MzE4XSwgWzE0OS43Mzg3OTgsIC05Ljg3MjkzN10sIFsxNTAuODAxNjI4LCAtMTAuMjkzNjg3XSwgWzE1MC42OTA1NzUsIC0xMC41ODI3MTNdLCBbMTUwLjAyODM5MywgLTEwLjY1MjQ3Nl0sIFsxNDkuNzgyMzEsIC0xMC4zOTMyNjddLCBbMTQ4LjkyMzEzOCwgLTEwLjI4MDkyM10sIFsxNDcuOTEzMDE4LCAtMTAuMTMwNDQxXSwgWzE0Ny4xMzU0NDMsIC05LjQ5MjQ0NF0sIFsxNDYuNTY3ODgxLCAtOC45NDI1NTVdLCBbMTQ2LjA0ODQ4MSwgLTguMDY3NDE0XSwgWzE0NC43NDQxNjgsIC03LjYzMDEyOF0sIFsxNDMuODk3MDg4LCAtNy45MTUzM10sIFsxNDMuMjg2Mzc2LCAtOC4yNDU0OTFdLCBbMTQzLjQxMzkxMywgLTguOTgzMDY5XSwgWzE0Mi42Mjg0MzEsIC05LjMyNjgyMV0sIFsxNDIuMDY4MjU5LCAtOS4xNTk1OTZdLCBbMTQxLjAzMzg1MiwgLTkuMTE3ODkzXSwgWzE0MS4wMTcwNTcsIC01Ljg1OTAyMl0sIFsxNDEuMDAwMjEsIC0yLjYwMDE1MV0sIFsxNDIuNzM1MjQ3LCAtMy4yODkxNTNdLCBbMTQ0LjU4Mzk3MSwgLTMuODYxNDE4XSwgWzE0NS4yNzMxOCwgLTQuMzczNzM4XSwgWzE0NS44Mjk3ODYsIC00Ljg3NjQ5OF0sIFsxNDUuOTgxOTIyLCAtNS40NjU2MDldLCBbMTQ3LjY0ODA3MywgLTYuMDgzNjU5XSwgWzE0Ny44OTExMDgsIC02LjYxNDAxNV0sIFsxNDYuOTcwOTA1LCAtNi43MjE2NTddLCBbMTQ3LjE5MTg3NCwgLTcuMzg4MDI0XV1dLCBbW1sxNTMuMTQwMDM4LCAtNC40OTk5ODNdLCBbMTUyLjgyNzI5MiwgLTQuNzY2NDI3XSwgWzE1Mi42Mzg2NzMsIC00LjE3NjEyN10sIFsxNTIuNDA2MDI2LCAtMy43ODk3NDNdLCBbMTUxLjk1MzIzNywgLTMuNDYyMDYyXSwgWzE1MS4zODQyNzksIC0zLjAzNTQyMl0sIFsxNTAuNjYyMDUsIC0yLjc0MTQ4Nl0sIFsxNTAuOTM5OTY1LCAtMi41MDAwMDJdLCBbMTUxLjQ3OTk4NCwgLTIuNzc5OTg1XSwgWzE1MS44MjAwMTUsIC0yLjk5OTk3Ml0sIFsxNTIuMjM5OTg5LCAtMy4yNDAwMDldLCBbMTUyLjY0MDAxNywgLTMuNjU5OTgzXSwgWzE1My4wMTk5OTQsIC0zLjk4MDAxNV0sIFsxNTMuMTQwMDM4LCAtNC40OTk5ODNdXV1dLCAidHlwZSI6ICJNdWx0aVBvbHlnb24ifSwgImlkIjogIlBORyIsICJwcm9wZXJ0aWVzIjogeyJoaWdobGlnaHQiOiB7fSwgIm5hbWUiOiAiUGFwdWEgTmV3IEd1aW5lYSIsICJzdHlsZSI6IHsiY29sb3IiOiAiZ3JheSIsICJkYXNoQXJyYXkiOiAiMSwgMSIsICJmaWxsQ29sb3IiOiAiIzAwMDAwMCIsICJsaW5lT3BhY2l0eSI6IDAuOSwgIndlaWdodCI6IDF9fSwgInR5cGUiOiAiRmVhdHVyZSJ9LCB7Imdlb21ldHJ5IjogeyJjb29yZGluYXRlcyI6IFtbWzE1LjAxNjk5NiwgNTEuMTA2Njc0XSwgWzE0LjYwNzA5OCwgNTEuNzQ1MTg4XSwgWzE0LjY4NTAyNiwgNTIuMDg5OTQ3XSwgWzE0LjQzNzYsIDUyLjYyNDg1XSwgWzE0LjA3NDUyMSwgNTIuOTgxMjYzXSwgWzE0LjM1MzMxNSwgNTMuMjQ4MTcxXSwgWzE0LjExOTY4NiwgNTMuNzU3MDI5XSwgWzE0LjgwMjksIDU0LjA1MDcwNl0sIFsxNi4zNjM0NzcsIDU0LjUxMzE1OV0sIFsxNy42MjI4MzIsIDU0Ljg1MTUzNl0sIFsxOC42MjA4NTksIDU0LjY4MjYwNl0sIFsxOC42OTYyNTUsIDU0LjQzODcxOV0sIFsxOS42NjA2NCwgNTQuNDI2MDg0XSwgWzIwLjg5MjI0NSwgNTQuMzEyNTI1XSwgWzIyLjczMTA5OSwgNTQuMzI3NTM3XSwgWzIzLjI0Mzk4NywgNTQuMjIwNTY3XSwgWzIzLjQ4NDEyOCwgNTMuOTEyNDk4XSwgWzIzLjUyNzUzNiwgNTMuNDcwMTIyXSwgWzIzLjgwNDkzNSwgNTMuMDg5NzMxXSwgWzIzLjc5OTE5OSwgNTIuNjkxMDk5XSwgWzIzLjE5OTQ5NCwgNTIuNDg2OTc3XSwgWzIzLjUwODAwMiwgNTIuMDIzNjQ3XSwgWzIzLjUyNzA3MSwgNTEuNTc4NDU0XSwgWzI0LjAyOTk4NiwgNTAuNzA1NDA3XSwgWzIzLjkyMjc1NywgNTAuNDI0ODgxXSwgWzIzLjQyNjUwOCwgNTAuMzA4NTA2XSwgWzIyLjUxODQ1LCA0OS40NzY3NzRdLCBbMjIuNzc2NDE5LCA0OS4wMjczOTVdLCBbMjIuNTU4MTM4LCA0OS4wODU3MzhdLCBbMjEuNjA3ODA4LCA0OS40NzAxMDddLCBbMjAuODg3OTU1LCA0OS4zMjg3NzJdLCBbMjAuNDE1ODM5LCA0OS40MzE0NTNdLCBbMTkuODI1MDIzLCA0OS4yMTcxMjVdLCBbMTkuMzIwNzEzLCA0OS41NzE1NzRdLCBbMTguOTA5NTc1LCA0OS40MzU4NDZdLCBbMTguODUzMTQ0LCA0OS40OTYyM10sIFsxOC4zOTI5MTQsIDQ5Ljk4ODYyOV0sIFsxNy42NDk0NDUsIDUwLjA0OTAzOF0sIFsxNy41NTQ1NjcsIDUwLjM2MjE0Nl0sIFsxNi44Njg3NjksIDUwLjQ3Mzk3NF0sIFsxNi43MTk0NzYsIDUwLjIxNTc0N10sIFsxNi4xNzYyNTMsIDUwLjQyMjYwN10sIFsxNi4yMzg2MjcsIDUwLjY5NzczM10sIFsxNS40OTA5NzIsIDUwLjc4NDczXSwgWzE1LjAxNjk5NiwgNTEuMTA2Njc0XV1dLCAidHlwZSI6ICJQb2x5Z29uIn0sICJpZCI6ICJQT0wiLCAicHJvcGVydGllcyI6IHsiaGlnaGxpZ2h0Ijoge30sICJuYW1lIjogIlBvbGFuZCIsICJzdHlsZSI6IHsiY29sb3IiOiAiZ3JheSIsICJkYXNoQXJyYXkiOiAiMSwgMSIsICJmaWxsQ29sb3IiOiAiIzAwMDAwMCIsICJsaW5lT3BhY2l0eSI6IDAuOSwgIndlaWdodCI6IDF9fSwgInR5cGUiOiAiRmVhdHVyZSJ9LCB7Imdlb21ldHJ5IjogeyJjb29yZGluYXRlcyI6IFtbWy02Ni4yODI0MzQsIDE4LjUxNDc2Ml0sIFstNjUuNzcxMzAzLCAxOC40MjY2NzldLCBbLTY1LjU5MTAwNCwgMTguMjI4MDM1XSwgWy02NS44NDcxNjQsIDE3Ljk3NTkwNl0sIFstNjYuNTk5OTM0LCAxNy45ODE4MjNdLCBbLTY3LjE4NDE2MiwgMTcuOTQ2NTUzXSwgWy02Ny4yNDI0MjgsIDE4LjM3NDQ2XSwgWy02Ny4xMDA2NzksIDE4LjUyMDYwMV0sIFstNjYuMjgyNDM0LCAxOC41MTQ3NjJdXV0sICJ0eXBlIjogIlBvbHlnb24ifSwgImlkIjogIlBSSSIsICJwcm9wZXJ0aWVzIjogeyJoaWdobGlnaHQiOiB7fSwgIm5hbWUiOiAiUHVlcnRvIFJpY28iLCAic3R5bGUiOiB7ImNvbG9yIjogImdyYXkiLCAiZGFzaEFycmF5IjogIjEsIDEiLCAiZmlsbENvbG9yIjogIiMwMDAwMDAiLCAibGluZU9wYWNpdHkiOiAwLjksICJ3ZWlnaHQiOiAxfX0sICJ0eXBlIjogIkZlYXR1cmUifSwgeyJnZW9tZXRyeSI6IHsiY29vcmRpbmF0ZXMiOiBbW1sxMzAuNjQwMDE2LCA0Mi4zOTUwMDldLCBbMTMwLjc4MDAwNywgNDIuMjIwMDA3XSwgWzEzMC40MDAwMzEsIDQyLjI4MDAwNF0sIFsxMjkuOTY1OTQ5LCA0MS45NDEzNjhdLCBbMTI5LjY2NzM2MiwgNDEuNjAxMTA0XSwgWzEyOS43MDUxODksIDQwLjg4MjgyOF0sIFsxMjkuMTg4MTE1LCA0MC42NjE4MDhdLCBbMTI5LjAxMDQsIDQwLjQ4NTQzNl0sIFsxMjguNjMzMzY4LCA0MC4xODk4NDddLCBbMTI3Ljk2NzQxNCwgNDAuMDI1NDEzXSwgWzEyNy41MzM0MzYsIDM5Ljc1Njg1XSwgWzEyNy41MDIxMiwgMzkuMzIzOTMxXSwgWzEyNy4zODU0MzQsIDM5LjIxMzQ3Ml0sIFsxMjcuNzgzMzQzLCAzOS4wNTA4OThdLCBbMTI4LjM0OTcxNiwgMzguNjEyMjQzXSwgWzEyOC4yMDU3NDYsIDM4LjM3MDM5N10sIFsxMjcuNzgwMDM1LCAzOC4zMDQ1MzZdLCBbMTI3LjA3MzMwOSwgMzguMjU2MTE1XSwgWzEyNi42ODM3MiwgMzcuODA0NzczXSwgWzEyNi4yMzczMzksIDM3Ljg0MDM3OF0sIFsxMjYuMTc0NzU5LCAzNy43NDk2ODZdLCBbMTI1LjY4OTEwNCwgMzcuOTQwMDFdLCBbMTI1LjU2ODQzOSwgMzcuNzUyMDg5XSwgWzEyNS4yNzUzMywgMzcuNjY5MDcxXSwgWzEyNS4yNDAwODcsIDM3Ljg1NzIyNF0sIFsxMjQuOTgxMDMzLCAzNy45NDg4MjFdLCBbMTI0LjcxMjE2MSwgMzguMTA4MzQ2XSwgWzEyNC45ODU5OTQsIDM4LjU0ODQ3NF0sIFsxMjUuMjIxOTQ5LCAzOC42NjU4NTddLCBbMTI1LjEzMjg1OSwgMzguODQ4NTU5XSwgWzEyNS4zODY1OSwgMzkuMzg3OTU4XSwgWzEyNS4zMjExMTYsIDM5LjU1MTM4NV0sIFsxMjQuNzM3NDgyLCAzOS42NjAzNDRdLCBbMTI0LjI2NTYyNSwgMzkuOTI4NDkzXSwgWzEyNS4wNzk5NDIsIDQwLjU2OTgyNF0sIFsxMjYuMTgyMDQ1LCA0MS4xMDczMzZdLCBbMTI2Ljg2OTA4MywgNDEuODE2NTY5XSwgWzEyNy4zNDM3ODMsIDQxLjUwMzE1Ml0sIFsxMjguMjA4NDMzLCA0MS40NjY3NzJdLCBbMTI4LjA1MjIxNSwgNDEuOTk0Mjg1XSwgWzEyOS41OTY2NjksIDQyLjQyNDk4Ml0sIFsxMjkuOTk0MjY3LCA0Mi45ODUzODddLCBbMTMwLjY0MDAxNiwgNDIuMzk1MDA5XV1dLCAidHlwZSI6ICJQb2x5Z29uIn0sICJpZCI6ICJQUksiLCAicHJvcGVydGllcyI6IHsiaGlnaGxpZ2h0Ijoge30sICJuYW1lIjogIk5vcnRoIEtvcmVhIiwgInN0eWxlIjogeyJjb2xvciI6ICJncmF5IiwgImRhc2hBcnJheSI6ICIxLCAxIiwgImZpbGxDb2xvciI6ICIjMDAwMDAwIiwgImxpbmVPcGFjaXR5IjogMC45LCAid2VpZ2h0IjogMX19LCAidHlwZSI6ICJGZWF0dXJlIn0sIHsiZ2VvbWV0cnkiOiB7ImNvb3JkaW5hdGVzIjogW1tbLTkuMDM0ODE4LCA0MS44ODA1NzFdLCBbLTguNjcxOTQ2LCA0Mi4xMzQ2ODldLCBbLTguMjYzODU3LCA0Mi4yODA0NjldLCBbLTguMDEzMTc1LCA0MS43OTA4ODZdLCBbLTcuNDIyNTEzLCA0MS43OTIwNzVdLCBbLTcuMjUxMzA5LCA0MS45MTgzNDZdLCBbLTYuNjY4NjA2LCA0MS44ODMzODddLCBbLTYuMzg5MDg4LCA0MS4zODE4MTVdLCBbLTYuODUxMTI3LCA0MS4xMTEwODNdLCBbLTYuODY0MDIsIDQwLjMzMDg3Ml0sIFstNy4wMjY0MTMsIDQwLjE4NDUyNF0sIFstNy4wNjY1OTIsIDM5LjcxMTg5Ml0sIFstNy40OTg2MzIsIDM5LjYyOTU3MV0sIFstNy4wOTgwMzcsIDM5LjAzMDA3M10sIFstNy4zNzQwOTIsIDM4LjM3MzA1OV0sIFstNy4wMjkyODEsIDM4LjA3NTc2NF0sIFstNy4xNjY1MDgsIDM3LjgwMzg5NF0sIFstNy41MzcxMDUsIDM3LjQyODkwNF0sIFstNy40NTM3MjYsIDM3LjA5Nzc4OF0sIFstNy44NTU2MTMsIDM2LjgzODI2OV0sIFstOC4zODI4MTYsIDM2Ljk3ODg4XSwgWy04Ljg5ODg1NywgMzYuODY4ODA5XSwgWy04Ljc0NjEwMSwgMzcuNjUxMzQ2XSwgWy04LjgzOTk5OCwgMzguMjY2MjQzXSwgWy05LjI4NzQ2NCwgMzguMzU4NDg2XSwgWy05LjUyNjU3MSwgMzguNzM3NDI5XSwgWy05LjQ0Njk4OSwgMzkuMzkyMDY2XSwgWy05LjA0ODMwNSwgMzkuNzU1MDkzXSwgWy04Ljk3NzM1MywgNDAuMTU5MzA2XSwgWy04Ljc2ODY4NCwgNDAuNzYwNjM5XSwgWy04Ljc5MDg1MywgNDEuMTg0MzM0XSwgWy04Ljk5MDc4OSwgNDEuNTQzNDU5XSwgWy05LjAzNDgxOCwgNDEuODgwNTcxXV1dLCAidHlwZSI6ICJQb2x5Z29uIn0sICJpZCI6ICJQUlQiLCAicHJvcGVydGllcyI6IHsiaGlnaGxpZ2h0Ijoge30sICJuYW1lIjogIlBvcnR1Z2FsIiwgInN0eWxlIjogeyJjb2xvciI6ICJncmF5IiwgImRhc2hBcnJheSI6ICIxLCAxIiwgImZpbGxDb2xvciI6ICIjMDAwMDAwIiwgImxpbmVPcGFjaXR5IjogMC45LCAid2VpZ2h0IjogMX19LCAidHlwZSI6ICJGZWF0dXJlIn0sIHsiZ2VvbWV0cnkiOiB7ImNvb3JkaW5hdGVzIjogW1tbLTYyLjY4NTA1NywgLTIyLjI0OTAyOV0sIFstNjIuMjkxMTc5LCAtMjEuMDUxNjM1XSwgWy02Mi4yNjU5NjEsIC0yMC41MTM3MzVdLCBbLTYxLjc4NjMyNiwgLTE5LjYzMzczN10sIFstNjAuMDQzNTY1LCAtMTkuMzQyNzQ3XSwgWy01OS4xMTUwNDIsIC0xOS4zNTY5MDZdLCBbLTU4LjE4MzQ3MSwgLTE5Ljg2ODM5OV0sIFstNTguMTY2MzkyLCAtMjAuMTc2NzAxXSwgWy01Ny44NzA2NzQsIC0yMC43MzI2ODhdLCBbLTU3LjkzNzE1NiwgLTIyLjA5MDE3Nl0sIFstNTYuODgxNTEsIC0yMi4yODIxNTRdLCBbLTU2LjQ3MzMxNywgLTIyLjA4NjNdLCBbLTU1Ljc5Nzk1OCwgLTIyLjM1NjkzXSwgWy01NS42MTA2ODMsIC0yMi42NTU2MTldLCBbLTU1LjUxNzYzOSwgLTIzLjU3MTk5OF0sIFstNTUuNDAwNzQ3LCAtMjMuOTU2OTM1XSwgWy01NS4wMjc5MDIsIC0yNC4wMDEyNzRdLCBbLTU0LjY1MjgzNCwgLTIzLjgzOTU3OF0sIFstNTQuMjkyOTYsIC0yNC4wMjEwMTRdLCBbLTU0LjI5MzQ3NiwgLTI0LjU3MDhdLCBbLTU0LjQyODk0NiwgLTI1LjE2MjE4NV0sIFstNTQuNjI1MjkxLCAtMjUuNzM5MjU1XSwgWy01NC43ODg3OTUsIC0yNi42MjE3ODZdLCBbLTU1LjY5NTg0NiwgLTI3LjM4NzgzN10sIFstNTYuNDg2NzAyLCAtMjcuNTQ4NDk5XSwgWy01Ny42MDk3NiwgLTI3LjM5NTg5OV0sIFstNTguNjE4MTc0LCAtMjcuMTIzNzE5XSwgWy01Ny42MzM2NiwgLTI1LjYwMzY1N10sIFstNTcuNzc3MjE3LCAtMjUuMTYyMzRdLCBbLTU4LjgwNzEyOCwgLTI0Ljc3MTQ1OV0sIFstNjAuMDI4OTY2LCAtMjQuMDMyNzk2XSwgWy02MC44NDY1NjUsIC0yMy44ODA3MTNdLCBbLTYyLjY4NTA1NywgLTIyLjI0OTAyOV1dXSwgInR5cGUiOiAiUG9seWdvbiJ9LCAiaWQiOiAiUFJZIiwgInByb3BlcnRpZXMiOiB7ImhpZ2hsaWdodCI6IHt9LCAibmFtZSI6ICJQYXJhZ3VheSIsICJzdHlsZSI6IHsiY29sb3IiOiAiZ3JheSIsICJkYXNoQXJyYXkiOiAiMSwgMSIsICJmaWxsQ29sb3IiOiAiIzAwMDAwMCIsICJsaW5lT3BhY2l0eSI6IDAuOSwgIndlaWdodCI6IDF9fSwgInR5cGUiOiAiRmVhdHVyZSJ9LCB7Imdlb21ldHJ5IjogeyJjb29yZGluYXRlcyI6IFtbWzUwLjgxMDEwOCwgMjQuNzU0NzQzXSwgWzUwLjc0MzkxMSwgMjUuNDgyNDI0XSwgWzUxLjAxMzM1MiwgMjYuMDA2OTkyXSwgWzUxLjI4NjQ2MiwgMjYuMTE0NTgyXSwgWzUxLjU4OTA3OSwgMjUuODAxMTEzXSwgWzUxLjYwNjcsIDI1LjIxNTY3XSwgWzUxLjM4OTYwOCwgMjQuNjI3Mzg2XSwgWzUxLjExMjQxNSwgMjQuNTU2MzMxXSwgWzUwLjgxMDEwOCwgMjQuNzU0NzQzXV1dLCAidHlwZSI6ICJQb2x5Z29uIn0sICJpZCI6ICJRQVQiLCAicHJvcGVydGllcyI6IHsiaGlnaGxpZ2h0Ijoge30sICJuYW1lIjogIlFhdGFyIiwgInN0eWxlIjogeyJjb2xvciI6ICJncmF5IiwgImRhc2hBcnJheSI6ICIxLCAxIiwgImZpbGxDb2xvciI6ICIjMDAwMDAwIiwgImxpbmVPcGFjaXR5IjogMC45LCAid2VpZ2h0IjogMX19LCAidHlwZSI6ICJGZWF0dXJlIn0sIHsiZ2VvbWV0cnkiOiB7ImNvb3JkaW5hdGVzIjogW1tbMjIuNzEwNTMxLCA0Ny44ODIxOTRdLCBbMjMuMTQyMjM2LCA0OC4wOTYzNDFdLCBbMjMuNzYwOTU4LCA0Ny45ODU1OThdLCBbMjQuNDAyMDU2LCA0Ny45ODE4NzhdLCBbMjQuODY2MzE3LCA0Ny43Mzc1MjZdLCBbMjUuMjA3NzQzLCA0Ny44OTEwNTZdLCBbMjUuOTQ1OTQxLCA0Ny45ODcxNDldLCBbMjYuMTk3NDUsIDQ4LjIyMDg4MV0sIFsyNi42MTkzMzcsIDQ4LjIyMDcyNl0sIFsyNi45MjQxNzYsIDQ4LjEyMzI2NF0sIFsyNy4yMzM4NzMsIDQ3LjgyNjc3MV0sIFsyNy41NTExNjYsIDQ3LjQwNTExN10sIFsyOC4xMjgwMywgNDYuODEwNDc2XSwgWzI4LjE2MDAxOCwgNDYuMzcxNTYzXSwgWzI4LjA1NDQ0MywgNDUuOTQ0NTg2XSwgWzI4LjIzMzU1NCwgNDUuNDg4MjgzXSwgWzI4LjY3OTc3OSwgNDUuMzA0MDMxXSwgWzI5LjE0OTcyNSwgNDUuNDY0OTI1XSwgWzI5LjYwMzI4OSwgNDUuMjkzMzA4XSwgWzI5LjYyNjU0MywgNDUuMDM1MzkxXSwgWzI5LjE0MTYxMiwgNDQuODIwMjFdLCBbMjguODM3ODU4LCA0NC45MTM4NzRdLCBbMjguNTU4MDgxLCA0My43MDc0NjJdLCBbMjcuOTcwMTA3LCA0My44MTI0NjhdLCBbMjcuMjQyNCwgNDQuMTc1OTg2XSwgWzI2LjA2NTE1OSwgNDMuOTQzNDk0XSwgWzI1LjU2OTI3MiwgNDMuNjg4NDQ1XSwgWzI0LjEwMDY3OSwgNDMuNzQxMDUxXSwgWzIzLjMzMjMwMiwgNDMuODk3MDExXSwgWzIyLjk0NDgzMiwgNDMuODIzNzg1XSwgWzIyLjY1NzE1LCA0NC4yMzQ5MjNdLCBbMjIuNDc0MDA4LCA0NC40MDkyMjhdLCBbMjIuNzA1NzI2LCA0NC41NzgwMDNdLCBbMjIuNDU5MDIyLCA0NC43MDI1MTddLCBbMjIuMTQ1MDg4LCA0NC40Nzg0MjJdLCBbMjEuNTYyMDIzLCA0NC43Njg5NDddLCBbMjEuNDgzNTI2LCA0NS4xODExN10sIFsyMC44NzQzMTMsIDQ1LjQxNjM3NV0sIFsyMC43NjIxNzUsIDQ1LjczNDU3M10sIFsyMC4yMjAxOTIsIDQ2LjEyNzQ2OV0sIFsyMS4wMjE5NTIsIDQ2LjMxNjA4OF0sIFsyMS42MjY1MTUsIDQ2Ljk5NDIzOF0sIFsyMi4wOTk3NjgsIDQ3LjY3MjQzOV0sIFsyMi43MTA1MzEsIDQ3Ljg4MjE5NF1dXSwgInR5cGUiOiAiUG9seWdvbiJ9LCAiaWQiOiAiUk9VIiwgInByb3BlcnRpZXMiOiB7ImhpZ2hsaWdodCI6IHt9LCAibmFtZSI6ICJSb21hbmlhIiwgInN0eWxlIjogeyJjb2xvciI6ICJncmF5IiwgImRhc2hBcnJheSI6ICIxLCAxIiwgImZpbGxDb2xvciI6ICIjMDAwMDAwIiwgImxpbmVPcGFjaXR5IjogMC45LCAid2VpZ2h0IjogMX19LCAidHlwZSI6ICJGZWF0dXJlIn0sIHsiZ2VvbWV0cnkiOiB7ImNvb3JkaW5hdGVzIjogW1tbWzE0My42NDgwMDcsIDUwLjc0NzZdLCBbMTQ0LjY1NDE0OCwgNDguOTc2MzkxXSwgWzE0My4xNzM5MjgsIDQ5LjMwNjU1MV0sIFsxNDIuNTU4NjY4LCA0Ny44NjE1NzVdLCBbMTQzLjUzMzQ5MiwgNDYuODM2NzI4XSwgWzE0My41MDUyNzcsIDQ2LjEzNzkwOF0sIFsxNDIuNzQ3NzAxLCA0Ni43NDA3NjVdLCBbMTQyLjA5MjAzLCA0NS45NjY3NTVdLCBbMTQxLjkwNjkyNSwgNDYuODA1OTI5XSwgWzE0Mi4wMTg0NDMsIDQ3Ljc4MDEzM10sIFsxNDEuOTA0NDQ1LCA0OC44NTkxODldLCBbMTQyLjEzNTgsIDQ5LjYxNTE2M10sIFsxNDIuMTc5OTgzLCA1MC45NTIzNDJdLCBbMTQxLjU5NDA3NiwgNTEuOTM1NDM1XSwgWzE0MS42ODI1NDYsIDUzLjMwMTk2Nl0sIFsxNDIuNjA2OTM0LCA1My43NjIxNDVdLCBbMTQyLjIwOTc0OSwgNTQuMjI1NDc2XSwgWzE0Mi42NTQ3ODYsIDU0LjM2NTg4MV0sIFsxNDIuOTE0NjE2LCA1My43MDQ1NzhdLCBbMTQzLjI2MDg0OCwgNTIuNzQwNzZdLCBbMTQzLjIzNTI2OCwgNTEuNzU2NjZdLCBbMTQzLjY0ODAwNywgNTAuNzQ3Nl1dXSwgW1tbMjIuNzMxMDk5LCA1NC4zMjc1MzddLCBbMjAuODkyMjQ1LCA1NC4zMTI1MjVdLCBbMTkuNjYwNjQsIDU0LjQyNjA4NF0sIFsxOS44ODg0ODEsIDU0Ljg2NjE2XSwgWzIxLjI2ODQ0OSwgNTUuMTkwNDgyXSwgWzIyLjMxNTcyNCwgNTUuMDE1Mjk5XSwgWzIyLjc1Nzc2NCwgNTQuODU2NTc0XSwgWzIyLjY1MTA1MiwgNTQuNTgyNzQxXSwgWzIyLjczMTA5OSwgNTQuMzI3NTM3XV1dLCBbW1stMTc1LjAxNDI1LCA2Ni41ODQzNV0sIFstMTc0LjMzOTgzLCA2Ni4zMzU1Nl0sIFstMTc0LjU3MTgyLCA2Ny4wNjIxOV0sIFstMTcxLjg1NzMxLCA2Ni45MTMwOF0sIFstMTY5Ljg5OTU4LCA2NS45NzcyNF0sIFstMTcwLjg5MTA3LCA2NS41NDEzOV0sIFstMTcyLjUzMDI1LCA2NS40Mzc5MV0sIFstMTcyLjU1NSwgNjQuNDYwNzldLCBbLTE3Mi45NTUzMywgNjQuMjUyNjldLCBbLTE3My44OTE4NCwgNjQuMjgyNl0sIFstMTc0LjY1MzkyLCA2NC42MzEyNV0sIFstMTc1Ljk4MzUzLCA2NC45MjI4OF0sIFstMTc2LjIwNzE2LCA2NS4zNTY2N10sIFstMTc3LjIyMjY2LCA2NS41MjAyNF0sIFstMTc4LjM1OTkzLCA2NS4zOTA1Ml0sIFstMTc4LjkwMzMyLCA2NS43NDA0NF0sIFstMTc4LjY4NjExLCA2Ni4xMTIxMV0sIFstMTc5Ljg4Mzc3LCA2NS44NzQ1Nl0sIFstMTc5LjQzMjY4LCA2NS40MDQxMV0sIFstMTgwLCA2NC45Nzk3MDldLCBbLTE4MCwgNjguOTYzNjM2XSwgWy0xNzcuNTUsIDY4LjJdLCBbLTE3NC45MjgyNSwgNjcuMjA1ODldLCBbLTE3NS4wMTQyNSwgNjYuNTg0MzVdXV0sIFtbWzE4MCwgNzAuODMyMTk5XSwgWzE3OC45MDM0MjUsIDcwLjc4MTE0XSwgWzE3OC43MjUzLCA3MS4wOTg4XSwgWzE4MCwgNzEuNTE1NzE0XSwgWzE4MCwgNzAuODMyMTk5XV1dLCBbW1stMTc4LjY5Mzc4LCA3MC44OTMwMl0sIFstMTgwLCA3MC44MzIxOTldLCBbLTE4MCwgNzEuNTE1NzE0XSwgWy0xNzkuODcxODc1LCA3MS41NTc2Ml0sIFstMTc5LjAyNDMzLCA3MS41NTU1M10sIFstMTc3LjU3Nzk0NSwgNzEuMjY5NDhdLCBbLTE3Ny42NjM1NzUsIDcxLjEzMjc3XSwgWy0xNzguNjkzNzgsIDcwLjg5MzAyXV1dLCBbW1sxNDMuNjAzODUsIDczLjIxMjQ0XSwgWzE0Mi4wODc2MywgNzMuMjA1NDRdLCBbMTQwLjAzODE1NSwgNzMuMzE2OTJdLCBbMTM5Ljg2MzEyLCA3My4zNjk4M10sIFsxNDAuODExNzEsIDczLjc2NTA2XSwgWzE0Mi4wNjIwNywgNzMuODU3NThdLCBbMTQzLjQ4MjgzLCA3My40NzUyNV0sIFsxNDMuNjAzODUsIDczLjIxMjQ0XV1dLCBbW1sxNTAuNzMxNjcsIDc1LjA4NDA2XSwgWzE0OS41NzU5MjUsIDc0LjY4ODkyXSwgWzE0Ny45Nzc0NjUsIDc0Ljc3ODM1NV0sIFsxNDYuMTE5MTksIDc1LjE3Mjk4XSwgWzE0Ni4zNTg0ODUsIDc1LjQ5NjgyXSwgWzE0OC4yMjIyMywgNzUuMzQ1ODQ1XSwgWzE1MC43MzE2NywgNzUuMDg0MDZdXV0sIFtbWzE0NS4wODYyODUsIDc1LjU2MjYyNV0sIFsxNDQuMywgNzQuODJdLCBbMTQwLjYxMzgxLCA3NC44NDc2OF0sIFsxMzguOTU1NDQsIDc0LjYxMTQ4XSwgWzEzNi45NzQzOSwgNzUuMjYxNjddLCBbMTM3LjUxMTc2LCA3NS45NDkxN10sIFsxMzguODMxMDc1LCA3Ni4xMzY3Nl0sIFsxNDEuNDcxNjE1LCA3Ni4wOTI4OV0sIFsxNDUuMDg2Mjg1LCA3NS41NjI2MjVdXV0sIFtbWzU3LjUzNTY5MywgNzAuNzIwNDY0XSwgWzU2Ljk0NDk3OSwgNzAuNjMyNzQzXSwgWzUzLjY3NzM3NSwgNzAuNzYyNjU4XSwgWzUzLjQxMjAxNywgNzEuMjA2NjYyXSwgWzUxLjYwMTg5NSwgNzEuNDc0NzU5XSwgWzUxLjQ1NTc1NCwgNzIuMDE0ODgxXSwgWzUyLjQ3ODI3NSwgNzIuMjI5NDQyXSwgWzUyLjQ0NDE2OSwgNzIuNzc0NzMxXSwgWzU0LjQyNzYxNCwgNzMuNjI3NTQ4XSwgWzUzLjUwODI5LCA3My43NDk4MTRdLCBbNTUuOTAyNDU5LCA3NC42Mjc0ODZdLCBbNTUuNjMxOTMzLCA3NS4wODE0MTJdLCBbNTcuODY4NjQ0LCA3NS42MDkzOV0sIFs2MS4xNzAwNDQsIDc2LjI1MTg4M10sIFs2NC40OTgzNjgsIDc2LjQzOTA1NV0sIFs2Ni4yMTA5NzcsIDc2LjgwOTc4Ml0sIFs2OC4xNTcwNiwgNzYuOTM5Njk3XSwgWzY4Ljg1MjIxMSwgNzYuNTQ0ODExXSwgWzY4LjE4MDU3MywgNzYuMjMzNjQyXSwgWzY0LjYzNzMyNiwgNzUuNzM3NzU1XSwgWzYxLjU4MzUwOCwgNzUuMjYwODg1XSwgWzU4LjQ3NzA4MiwgNzQuMzA5MDU2XSwgWzU2Ljk4Njc4NiwgNzMuMzMzMDQ0XSwgWzU1LjQxOTMzNiwgNzIuMzcxMjY4XSwgWzU1LjYyMjgzOCwgNzEuNTQwNTk1XSwgWzU3LjUzNTY5MywgNzAuNzIwNDY0XV1dLCBbW1sxMDYuOTcwMTMsIDc2Ljk3NDE5XSwgWzEwNy4yNCwgNzYuNDhdLCBbMTA4LjE1MzgsIDc2LjcyMzM1XSwgWzExMS4wNzcyNiwgNzYuNzFdLCBbMTEzLjMzMTUxLCA3Ni4yMjIyNF0sIFsxMTQuMTM0MTcsIDc1Ljg0NzY0XSwgWzExMy44ODUzOSwgNzUuMzI3NzldLCBbMTEyLjc3OTE4LCA3NS4wMzE4Nl0sIFsxMTAuMTUxMjUsIDc0LjQ3NjczXSwgWzEwOS40LCA3NC4xOF0sIFsxMTAuNjQsIDc0LjA0XSwgWzExMi4xMTkxOSwgNzMuNzg3NzRdLCBbMTEzLjAxOTU0LCA3My45NzY5M10sIFsxMTMuNTI5NTgsIDczLjMzNTA1XSwgWzExMy45Njg4MSwgNzMuNTk0ODhdLCBbMTE1LjU2NzgyLCA3My43NTI4NV0sIFsxMTguNzc2MzMsIDczLjU4NzcyXSwgWzExOS4wMiwgNzMuMTJdLCBbMTIzLjIwMDY2LCA3Mi45NzEyMl0sIFsxMjMuMjU3NzcsIDczLjczNTAzXSwgWzEyNS4zOCwgNzMuNTZdLCBbMTI2Ljk3NjQ0LCA3My41NjU0OV0sIFsxMjguNTkxMjYsIDczLjAzODcxXSwgWzEyOS4wNTE1NywgNzIuMzk4NzJdLCBbMTI4LjQ2LCA3MS45OF0sIFsxMjkuNzE1OTksIDcxLjE5MzA0XSwgWzEzMS4yODg1OCwgNzAuNzg2OTldLCBbMTMyLjI1MzUsIDcxLjgzNjNdLCBbMTMzLjg1NzY2LCA3MS4zODY0Ml0sIFsxMzUuNTYxOTMsIDcxLjY1NTI1XSwgWzEzNy40OTc1NSwgNzEuMzQ3NjNdLCBbMTM4LjIzNDA5LCA3MS42MjgwM10sIFsxMzkuODY5ODMsIDcxLjQ4NzgzXSwgWzEzOS4xNDc5MSwgNzIuNDE2MTldLCBbMTQwLjQ2ODE3LCA3Mi44NDk0MV0sIFsxNDkuNSwgNzIuMl0sIFsxNTAuMzUxMTgsIDcxLjYwNjQzXSwgWzE1Mi45Njg5LCA3MC44NDIyMl0sIFsxNTcuMDA2ODgsIDcxLjAzMTQxXSwgWzE1OC45OTc3OSwgNzAuODY2NzJdLCBbMTU5LjgzMDMxLCA3MC40NTMyNF0sIFsxNTkuNzA4NjYsIDY5LjcyMTk4XSwgWzE2MC45NDA1MywgNjkuNDM3MjhdLCBbMTYyLjI3OTA3LCA2OS42NDIwNF0sIFsxNjQuMDUyNDgsIDY5LjY2ODIzXSwgWzE2NS45NDAzNywgNjkuNDcxOTldLCBbMTY3LjgzNTY3LCA2OS41ODI2OV0sIFsxNjkuNTc3NjMsIDY4LjY5MzhdLCBbMTcwLjgxNjg4LCA2OS4wMTM2M10sIFsxNzAuMDA4MiwgNjkuNjUyNzZdLCBbMTcwLjQ1MzQ1LCA3MC4wOTcwM10sIFsxNzMuNjQzOTEsIDY5LjgxNzQzXSwgWzE3NS43MjQwMywgNjkuODc3MjVdLCBbMTc4LjYsIDY5LjRdLCBbMTgwLCA2OC45NjM2MzZdLCBbMTgwLCA2NC45Nzk3MDldLCBbMTc5Ljk5MjgxLCA2NC45NzQzM10sIFsxNzguNzA3MiwgNjQuNTM0OTNdLCBbMTc3LjQxMTI4LCA2NC42MDgyMV0sIFsxNzguMzEzLCA2NC4wNzU5M10sIFsxNzguOTA4MjUsIDYzLjI1MTk3XSwgWzE3OS4zNzAzNCwgNjIuOTgyNjJdLCBbMTc5LjQ4NjM2LCA2Mi41Njg5NF0sIFsxNzkuMjI4MjUsIDYyLjMwNDFdLCBbMTc3LjM2NDMsIDYyLjUyMTldLCBbMTc0LjU2OTI5LCA2MS43NjkxNV0sIFsxNzMuNjgwMTMsIDYxLjY1MjYxXSwgWzE3Mi4xNSwgNjAuOTVdLCBbMTcwLjY5ODUsIDYwLjMzNjE4XSwgWzE3MC4zMzA4NSwgNTkuODgxNzddLCBbMTY4LjkwMDQ2LCA2MC41NzM1NV0sIFsxNjYuMjk0OTgsIDU5Ljc4ODU1XSwgWzE2NS44NCwgNjAuMTZdLCBbMTY0Ljg3Njc0LCA1OS43MzE2XSwgWzE2My41MzkyOSwgNTkuODY4NzFdLCBbMTYzLjIxNzExLCA1OS4yMTEwMV0sIFsxNjIuMDE3MzMsIDU4LjI0MzI4XSwgWzE2Mi4wNTI5NywgNTcuODM5MTJdLCBbMTYzLjE5MTkxLCA1Ny42MTUwM10sIFsxNjMuMDU3OTQsIDU2LjE1OTI0XSwgWzE2Mi4xMjk1OCwgNTYuMTIyMTldLCBbMTYxLjcwMTQ2LCA1NS4yODU2OF0sIFsxNjIuMTE3NDksIDU0Ljg1NTE0XSwgWzE2MC4zNjg3NywgNTQuMzQ0MzNdLCBbMTYwLjAyMTczLCA1My4yMDI1N10sIFsxNTguNTMwOTQsIDUyLjk1ODY4XSwgWzE1OC4yMzExOCwgNTEuOTQyNjldLCBbMTU2Ljc4OTc5LCA1MS4wMTEwNV0sIFsxNTYuNDIsIDUxLjddLCBbMTU1Ljk5MTgyLCA1My4xNTg5NV0sIFsxNTUuNDMzNjYsIDU1LjM4MTAzXSwgWzE1NS45MTQ0MiwgNTYuNzY3OTJdLCBbMTU2Ljc1ODE1LCA1Ny4zNjQ3XSwgWzE1Ni44MTAzNSwgNTcuODMyMDRdLCBbMTU4LjM2NDMzLCA1OC4wNTU3NV0sIFsxNjAuMTUwNjQsIDU5LjMxNDc3XSwgWzE2MS44NzIwNCwgNjAuMzQzXSwgWzE2My42Njk2OSwgNjEuMTQwOV0sIFsxNjQuNDczNTUsIDYyLjU1MDYxXSwgWzE2My4yNTg0MiwgNjIuNDY2MjddLCBbMTYyLjY1NzkxLCA2MS42NDI1XSwgWzE2MC4xMjE0OCwgNjAuNTQ0MjNdLCBbMTU5LjMwMjMyLCA2MS43NzM5Nl0sIFsxNTYuNzIwNjgsIDYxLjQzNDQyXSwgWzE1NC4yMTgwNiwgNTkuNzU4MThdLCBbMTU1LjA0Mzc1LCA1OS4xNDQ5NV0sIFsxNTIuODExODUsIDU4Ljg4Mzg1XSwgWzE1MS4yNjU3MywgNTguNzgwODldLCBbMTUxLjMzODE1LCA1OS41MDM5Nl0sIFsxNDkuNzgzNzEsIDU5LjY1NTczXSwgWzE0OC41NDQ4MSwgNTkuMTY0NDhdLCBbMTQ1LjQ4NzIyLCA1OS4zMzYzN10sIFsxNDIuMTk3ODIsIDU5LjAzOTk4XSwgWzEzOC45NTg0OCwgNTcuMDg4MDVdLCBbMTM1LjEyNjE5LCA1NC43Mjk1OV0sIFsxMzYuNzAxNzEsIDU0LjYwMzU1XSwgWzEzNy4xOTM0MiwgNTMuOTc3MzJdLCBbMTM4LjE2NDcsIDUzLjc1NTAxXSwgWzEzOC44MDQ2MywgNTQuMjU0NTVdLCBbMTM5LjkwMTUxLCA1NC4xODk2OF0sIFsxNDEuMzQ1MzEsIDUzLjA4OTU3XSwgWzE0MS4zNzkyMywgNTIuMjM4NzddLCBbMTQwLjU5NzQyLCA1MS4yMzk2N10sIFsxNDAuNTEzMDgsIDUwLjA0NTUzXSwgWzE0MC4wNjE5MywgNDguNDQ2NzFdLCBbMTM4LjU1NDcyLCA0Ni45OTk2NV0sIFsxMzguMjE5NzEsIDQ2LjMwNzk1XSwgWzEzNi44NjIzMiwgNDUuMTQzNV0sIFsxMzUuNTE1MzUsIDQzLjk4OV0sIFsxMzQuODY5MzksIDQzLjM5ODIxXSwgWzEzMy41MzY4NywgNDIuODExNDddLCBbMTMyLjkwNjI3LCA0Mi43OTg0OV0sIFsxMzIuMjc4MDcsIDQzLjI4NDU2XSwgWzEzMC45MzU4NywgNDIuNTUyNzRdLCBbMTMwLjc4LCA0Mi4yMl0sIFsxMzAuNjQsIDQyLjM5NV0sIFsxMzAuNjMzODY2LCA0Mi45MDMwMTVdLCBbMTMxLjE0NDY4OCwgNDIuOTI5OTldLCBbMTMxLjI4ODU1NSwgNDQuMTExNTJdLCBbMTMxLjAyNTE5LCA0NC45Njc5Nl0sIFsxMzEuODgzNDU0LCA0NS4zMjExNjJdLCBbMTMzLjA5NzEyLCA0NS4xNDQwOV0sIFsxMzMuNzY5NjQ0LCA0Ni4xMTY5MjddLCBbMTM0LjExMjM1LCA0Ny4yMTI0OF0sIFsxMzQuNTAwODEsIDQ3LjU3ODQ1XSwgWzEzNS4wMjYzMTEsIDQ4LjQ3ODIzXSwgWzEzMy4zNzM1OTYsIDQ4LjE4MzQ0Ml0sIFsxMzIuNTA2NjksIDQ3Ljc4ODk2XSwgWzEzMC45ODcyNiwgNDcuNzkwMTNdLCBbMTMwLjU4MjI5MywgNDguNzI5Njg3XSwgWzEyOS4zOTc4MTgsIDQ5LjQ0MDZdLCBbMTI3LjY1NzQsIDQ5Ljc2MDI3XSwgWzEyNy4yODc0NTYsIDUwLjczOTc5N10sIFsxMjYuOTM5MTU3LCA1MS4zNTM4OTRdLCBbMTI2LjU2NDM5OSwgNTEuNzg0MjU1XSwgWzEyNS45NDYzNDksIDUyLjc5Mjc5OV0sIFsxMjUuMDY4MjExLCA1My4xNjEwNDVdLCBbMTIzLjU3MTQ3LCA1My40NTg4XSwgWzEyMi4yNDU3NDgsIDUzLjQzMTcyNl0sIFsxMjEuMDAzMDg1LCA1My4yNTE0MDFdLCBbMTIwLjE3NzA4OSwgNTIuNzUzODg2XSwgWzEyMC43MjU3ODksIDUyLjUxNjIyNl0sIFsxMjAuNzM4MiwgNTEuOTY0MTFdLCBbMTIwLjE4MjA4LCA1MS42NDM1NV0sIFsxMTkuMjc5MzksIDUwLjU4MjkyXSwgWzExOS4yODg0NjEsIDUwLjE0Mjg4M10sIFsxMTcuODc5MjQ0LCA0OS41MTA5ODNdLCBbMTE2LjY3ODgwMSwgNDkuODg4NTMxXSwgWzExNS40ODU2OTUsIDQ5LjgwNTE3N10sIFsxMTQuOTYyMTEsIDUwLjE0MDI0N10sIFsxMTQuMzYyNDU2LCA1MC4yNDgzMDNdLCBbMTEyLjg5Nzc0LCA0OS41NDM1NjVdLCBbMTExLjU4MTIzMSwgNDkuMzc3OTY4XSwgWzExMC42NjIwMTEsIDQ5LjEzMDEyOF0sIFsxMDkuNDAyNDQ5LCA0OS4yOTI5NjFdLCBbMTA4LjQ3NTE2NywgNDkuMjgyNTQ4XSwgWzEwNy44NjgxNzYsIDQ5Ljc5MzcwNV0sIFsxMDYuODg4ODA0LCA1MC4yNzQyOTZdLCBbMTA1Ljg4NjU5MSwgNTAuNDA2MDE5XSwgWzEwNC42MjE1OCwgNTAuMjc1MzJdLCBbMTAzLjY3NjU0NSwgNTAuMDg5OTY2XSwgWzEwMi4yNTU4OSwgNTAuNTEwNTZdLCBbMTAyLjA2NTIxLCA1MS4yNTk5MV0sIFsxMDAuODg5NDgsIDUxLjUxNjg1Nl0sIFs5OS45ODE3MzIsIDUxLjYzNDAwNl0sIFs5OC44NjE0OTEsIDUyLjA0NzM2Nl0sIFs5Ny44MjU3NCwgNTEuMDEwOTk1XSwgWzk4LjIzMTc2MiwgNTAuNDIyNDAxXSwgWzk3LjI1OTc2LCA0OS43MjYwNV0sIFs5NS44MTQwMiwgNDkuOTc3NDZdLCBbOTQuODE1OTQ5LCA1MC4wMTM0MzNdLCBbOTQuMTQ3NTY2LCA1MC40ODA1MzddLCBbOTMuMTA0MjEsIDUwLjQ5NTI5XSwgWzkyLjIzNDcxMiwgNTAuODAyMTcxXSwgWzkwLjcxMzY2NywgNTAuMzMxODEyXSwgWzg4LjgwNTU2NywgNDkuNDcwNTIxXSwgWzg3Ljc1MTI2NCwgNDkuMjk3MTk4XSwgWzg3LjM1OTk3LCA0OS4yMTQ5ODFdLCBbODYuODI5MzU3LCA0OS44MjY2NzVdLCBbODUuNTQxMjcsIDQ5LjY5Mjg1OV0sIFs4NS4xMTU1NiwgNTAuMTE3MzAzXSwgWzg0LjQxNjM3NywgNTAuMzExNF0sIFs4My45MzUxMTUsIDUwLjg4OTI0Nl0sIFs4My4zODMwMDQsIDUxLjA2OTE4M10sIFs4MS45NDU5ODYsIDUwLjgxMjE5Nl0sIFs4MC41Njg0NDcsIDUxLjM4ODMzNl0sIFs4MC4wMzU1NiwgNTAuODY0NzUxXSwgWzc3LjgwMDkxNiwgNTMuNDA0NDE1XSwgWzc2LjUyNTE3OSwgNTQuMTc3MDAzXSwgWzc2Ljg5MTEsIDU0LjQ5MDUyNF0sIFs3NC4zODQ4MiwgNTMuNTQ2ODVdLCBbNzMuNDI1Njc5LCA1My40ODk4MV0sIFs3My41MDg1MTYsIDU0LjAzNTYxN10sIFs3Mi4yMjQxNSwgNTQuMzc2NjU1XSwgWzcxLjE4MDEzMSwgNTQuMTMzMjg1XSwgWzcwLjg2NTI2NywgNTUuMTY5NzM0XSwgWzY5LjA2ODE2NywgNTUuMzg1MjVdLCBbNjguMTY5MSwgNTQuOTcwMzkyXSwgWzY1LjY2Njg3LCA1NC42MDEyNV0sIFs2NS4xNzg1MzQsIDU0LjM1NDIyOF0sIFs2MS40MzY2LCA1NC4wMDYyNV0sIFs2MC45NzgwNjYsIDUzLjY2NDk5M10sIFs2MS42OTk5ODYsIDUyLjk3OTk5Nl0sIFs2MC43Mzk5OTMsIDUyLjcxOTk4Nl0sIFs2MC45MjcyNjksIDUyLjQ0NzU0OF0sIFs1OS45Njc1MzQsIDUxLjk2MDQyXSwgWzYxLjU4ODAwMywgNTEuMjcyNjU5XSwgWzYxLjMzNzQyNCwgNTAuNzk5MDddLCBbNTkuOTMyODA3LCA1MC44NDIxOTRdLCBbNTkuNjQyMjgyLCA1MC41NDU0NDJdLCBbNTguMzYzMzIsIDUxLjA2MzY0XSwgWzU2Ljc3Nzk4LCA1MS4wNDM1NV0sIFs1NS43MTY5NCwgNTAuNjIxNzFdLCBbNTQuNTMyODc4LCA1MS4wMjYyNF0sIFs1Mi4zMjg3MjQsIDUxLjcxODY1Ml0sIFs1MC43NjY2NDgsIDUxLjY5Mjc2Ml0sIFs0OC43MDIzODIsIDUwLjYwNTEyOF0sIFs0OC41Nzc4NDEsIDQ5Ljg3NDc2XSwgWzQ3LjU0OTQ4LCA1MC40NTQ2OThdLCBbNDYuNzUxNTk2LCA0OS4zNTYwMDZdLCBbNDcuMDQzNjcyLCA0OS4xNTIwMzldLCBbNDYuNDY2NDQ2LCA0OC4zOTQxNTJdLCBbNDcuMzE1MjQsIDQ3LjcxNTg1XSwgWzQ4LjA1NzI1LCA0Ny43NDM3N10sIFs0OC42OTQ3MzQsIDQ3LjA3NTYyOF0sIFs0OC41OTMyNSwgNDYuNTYxMDRdLCBbNDkuMTAxMTYsIDQ2LjM5OTMzXSwgWzQ4LjY0NTQxLCA0NS44MDYyOV0sIFs0Ny42NzU5MSwgNDUuNjQxNDldLCBbNDYuNjgyMDEsIDQ0LjYwOTJdLCBbNDcuNTkwOTQsIDQzLjY2MDE2XSwgWzQ3LjQ5MjUyLCA0Mi45ODY1OF0sIFs0OC41ODQzNywgNDEuODA4ODhdLCBbNDcuOTg3MjgzLCA0MS40MDU4MTldLCBbNDcuODE1NjY2LCA0MS4xNTE0MTZdLCBbNDcuMzczMzE1LCA0MS4yMTk3MzJdLCBbNDYuNjg2MDcxLCA0MS44MjcxMzddLCBbNDYuNDA0OTUxLCA0MS44NjA2NzVdLCBbNDUuNzc2NCwgNDIuMDkyNDRdLCBbNDUuNDcwMjc5LCA0Mi41MDI3ODFdLCBbNDQuNTM3NjIzLCA0Mi43MTE5OTNdLCBbNDMuOTMxMjEsIDQyLjU1NDk2XSwgWzQzLjc1NTk5LCA0Mi43NDA4M10sIFs0Mi4zOTQ0LCA0My4yMjAzXSwgWzQwLjkyMjE5LCA0My4zODIxNV0sIFs0MC4wNzY5NjUsIDQzLjU1MzEwNF0sIFszOS45NTUwMDksIDQzLjQzNDk5OF0sIFszOC42OCwgNDQuMjhdLCBbMzcuNTM5MTIsIDQ0LjY1NzIxXSwgWzM2LjY3NTQ2LCA0NS4yNDQ2OV0sIFszNy40MDMxNywgNDUuNDA0NTFdLCBbMzguMjMyOTUsIDQ2LjI0MDg3XSwgWzM3LjY3MzcyLCA0Ni42MzY1N10sIFszOS4xNDc2NywgNDcuMDQ0NzVdLCBbMzkuMTIxMiwgNDcuMjYzMzZdLCBbMzguMjIzNTM4LCA0Ny4xMDIxOV0sIFszOC4yNTUxMTIsIDQ3LjU0NjRdLCBbMzguNzcwNTcsIDQ3LjgyNTYyXSwgWzM5LjczODI3OCwgNDcuODk4OTM3XSwgWzM5Ljg5NTYyLCA0OC4yMzI0MV0sIFszOS42NzQ2NSwgNDguNzgzODJdLCBbNDAuMDgwNzg5LCA0OS4zMDc0M10sIFs0MC4wNjkwNCwgNDkuNjAxMDVdLCBbMzguNTk0OTg4LCA0OS45MjY0NjJdLCBbMzguMDEwNjMxLCA0OS45MTU2NjJdLCBbMzcuMzkzNDYsIDUwLjM4Mzk1M10sIFszNi42MjYxNjgsIDUwLjIyNTU5MV0sIFszNS4zNTYxMTYsIDUwLjU3NzE5N10sIFszNS4zNzc5MSwgNTAuNzczOTRdLCBbMzUuMDIyMTgzLCA1MS4yMDc1NzJdLCBbMzQuMjI0ODE2LCA1MS4yNTU5OTNdLCBbMzQuMTQxOTc4LCA1MS41NjY0MTNdLCBbMzQuMzkxNzMxLCA1MS43Njg4ODJdLCBbMzMuNzUyNywgNTIuMzM1MDc1XSwgWzMyLjcxNTc2MSwgNTIuMjM4NDY1XSwgWzMyLjQxMjA1OCwgNTIuMjg4Njk1XSwgWzMyLjE1OTQ0LCA1Mi4wNjEyNV0sIFszMS43ODU5NywgNTIuMTAxNjhdLCBbMzEuNTQwMDE4LCA1Mi43NDIwNTJdLCBbMzEuMzA1MjAxLCA1My4wNzM5OTZdLCBbMzEuNDk3NjQsIDUzLjE2NzQzXSwgWzMyLjMwNDUxOSwgNTMuMTMyNzI2XSwgWzMyLjY5MzY0MywgNTMuMzUxNDIxXSwgWzMyLjQwNTU5OSwgNTMuNjE4MDQ1XSwgWzMxLjczMTI3MywgNTMuNzk0MDI5XSwgWzMxLjc5MTQyNCwgNTMuOTc0NjM5XSwgWzMxLjM4NDQ3MiwgNTQuMTU3MDU2XSwgWzMwLjc1NzUzNCwgNTQuODExNzcxXSwgWzMwLjk3MTgzNiwgNTUuMDgxNTQ4XSwgWzMwLjg3MzkwOSwgNTUuNTUwOTc2XSwgWzI5Ljg5NjI5NCwgNTUuNzg5NDYzXSwgWzI5LjM3MTU3MiwgNTUuNjcwMDkxXSwgWzI5LjIyOTUxMywgNTUuOTE4MzQ0XSwgWzI4LjE3NjcwOSwgNTYuMTY5MTNdLCBbMjcuODU1MjgyLCA1Ni43NTkzMjZdLCBbMjcuNzcwMDE2LCA1Ny4yNDQyNThdLCBbMjcuMjg4MTg1LCA1Ny40NzQ1MjhdLCBbMjcuNzE2Njg2LCA1Ny43OTE4OTldLCBbMjcuNDIwMTUsIDU4LjcyNDU3XSwgWzI4LjEzMTY5OSwgNTkuMzAwODI1XSwgWzI3Ljk4MTEyLCA1OS40NzUzN10sIFsyOS4xMTc3LCA2MC4wMjgwNV0sIFsyOC4wNywgNjAuNTAzNTJdLCBbMzAuMjExMTA3LCA2MS43ODAwMjhdLCBbMzEuMTM5OTkxLCA2Mi4zNTc2OTNdLCBbMzEuNTE2MDkyLCA2Mi44Njc2ODddLCBbMzAuMDM1ODcyLCA2My41NTI4MTRdLCBbMzAuNDQ0Njg1LCA2NC4yMDQ0NTNdLCBbMjkuNTQ0NDMsIDY0Ljk0ODY3Ml0sIFszMC4yMTc2NSwgNjUuODA1OThdLCBbMjkuMDU0NTg5LCA2Ni45NDQyODZdLCBbMjkuOTc3NDI2LCA2Ny42OTgyOTddLCBbMjguNDQ1OTQ0LCA2OC4zNjQ2MTNdLCBbMjguNTkxOTMsIDY5LjA2NDc3N10sIFsyOS4zOTk1NSwgNjkuMTU2OTJdLCBbMzEuMTAxMDgsIDY5LjU1ODExXSwgWzMyLjEzMjcyLCA2OS45MDU5NV0sIFszMy43NzU0NywgNjkuMzAxNDJdLCBbMzYuNTEzOTYsIDY5LjA2MzQyXSwgWzQwLjI5MjM0LCA2Ny45MzI0XSwgWzQxLjA1OTg3LCA2Ny40NTcxM10sIFs0MS4xMjU5NSwgNjYuNzkxNThdLCBbNDAuMDE1ODMsIDY2LjI2NjE4XSwgWzM4LjM4Mjk1LCA2NS45OTk1M10sIFszMy45MTg3MSwgNjYuNzU5NjFdLCBbMzMuMTg0NDQsIDY2LjYzMjUzXSwgWzM0LjgxNDc3LCA2NS45MDAxNV0sIFszNC44Nzg1NzQsIDY1LjQzNjIxM10sIFszNC45NDM5MSwgNjQuNDE0MzddLCBbMzYuMjMxMjksIDY0LjEwOTQ1XSwgWzM3LjAxMjczLCA2My44NDk4M10sIFszNy4xNDE5NywgNjQuMzM0NzFdLCBbMzYuNTM5NTc5LCA2NC43NjQ0Nl0sIFszNy4xNzYwNCwgNjUuMTQzMjJdLCBbMzkuNTkzNDUsIDY0LjUyMDc5XSwgWzQwLjQzNTYsIDY0Ljc2NDQ2XSwgWzM5Ljc2MjYsIDY1LjQ5NjgyXSwgWzQyLjA5MzA5LCA2Ni40NzYyM10sIFs0My4wMTYwNCwgNjYuNDE4NThdLCBbNDMuOTQ5NzUsIDY2LjA2OTA4XSwgWzQ0LjUzMjI2LCA2Ni43NTYzNF0sIFs0My42OTgzOSwgNjcuMzUyNDVdLCBbNDQuMTg3OTUsIDY3Ljk1MDUxXSwgWzQzLjQ1MjgyLCA2OC41NzA3OV0sIFs0Ni4yNSwgNjguMjVdLCBbNDYuODIxMzQsIDY3LjY4OTk3XSwgWzQ1LjU1NTE3LCA2Ny41NjY1Ml0sIFs0NS41NjIwMiwgNjcuMDEwMDVdLCBbNDYuMzQ5MTUsIDY2LjY2NzY3XSwgWzQ3Ljg5NDE2LCA2Ni44ODQ1NV0sIFs0OC4xMzg3NiwgNjcuNTIyMzhdLCBbNTAuMjI3NjYsIDY3Ljk5ODY3XSwgWzUzLjcxNzQzLCA2OC44NTczOF0sIFs1NC40NzE3MSwgNjguODA4MTVdLCBbNTMuNDg1ODIsIDY4LjIwMTMxXSwgWzU0LjcyNjI4LCA2OC4wOTcwMl0sIFs1NS40NDI2OCwgNjguNDM4NjZdLCBbNTcuMzE3MDIsIDY4LjQ2NjI4XSwgWzU4LjgwMiwgNjguODgwODJdLCBbNTkuOTQxNDIsIDY4LjI3ODQ0XSwgWzYxLjA3Nzg0LCA2OC45NDA2OV0sIFs2MC4wMywgNjkuNTJdLCBbNjAuNTUsIDY5Ljg1XSwgWzYzLjUwNCwgNjkuNTQ3MzldLCBbNjQuODg4MTE1LCA2OS4yMzQ4MzVdLCBbNjguNTEyMTYsIDY4LjA5MjMzXSwgWzY5LjE4MDY4LCA2OC42MTU2M10sIFs2OC4xNjQ0NCwgNjkuMTQ0MzZdLCBbNjguMTM1MjIsIDY5LjM1NjQ5XSwgWzY2LjkzMDA4LCA2OS40NTQ2MV0sIFs2Ny4yNTk3NiwgNjkuOTI4NzNdLCBbNjYuNzI0OTIsIDcwLjcwODg5XSwgWzY2LjY5NDY2LCA3MS4wMjg5N10sIFs2OC41NDAwNiwgNzEuOTM0NV0sIFs2OS4xOTYzNiwgNzIuODQzMzZdLCBbNjkuOTQsIDczLjA0XSwgWzcyLjU4NzU0LCA3Mi43NzYyOV0sIFs3Mi43OTYwMywgNzIuMjIwMDZdLCBbNzEuODQ4MTEsIDcxLjQwODk4XSwgWzcyLjQ3MDExLCA3MS4wOTAxOV0sIFs3Mi43OTE4OCwgNzAuMzkxMTRdLCBbNzIuNTY0NywgNjkuMDIwODVdLCBbNzMuNjY3ODcsIDY4LjQwNzldLCBbNzMuMjM4NywgNjcuNzQwNF0sIFs3MS4yOCwgNjYuMzJdLCBbNzIuNDIzMDEsIDY2LjE3MjY3XSwgWzcyLjgyMDc3LCA2Ni41MzI2N10sIFs3My45MjA5OSwgNjYuNzg5NDZdLCBbNzQuMTg2NTEsIDY3LjI4NDI5XSwgWzc1LjA1MiwgNjcuNzYwNDddLCBbNzQuNDY5MjYsIDY4LjMyODk5XSwgWzc0LjkzNTg0LCA2OC45ODkxOF0sIFs3My44NDIzNiwgNjkuMDcxNDZdLCBbNzMuNjAxODcsIDY5LjYyNzYzXSwgWzc0LjM5OTgsIDcwLjYzMTc1XSwgWzczLjEwMTEsIDcxLjQ0NzE3XSwgWzc0Ljg5MDgyLCA3Mi4xMjExOV0sIFs3NC42NTkyNiwgNzIuODMyMjddLCBbNzUuMTU4MDEsIDcyLjg1NDk3XSwgWzc1LjY4MzUxLCA3Mi4zMDA1Nl0sIFs3NS4yODg5OCwgNzEuMzM1NTZdLCBbNzYuMzU5MTEsIDcxLjE1Mjg3XSwgWzc1LjkwMzEzLCA3MS44NzQwMV0sIFs3Ny41NzY2NSwgNzIuMjY3MTddLCBbNzkuNjUyMDIsIDcyLjMyMDExXSwgWzgxLjUsIDcxLjc1XSwgWzgwLjYxMDcxLCA3Mi41ODI4NV0sIFs4MC41MTEwOSwgNzMuNjQ4Ml0sIFs4Mi4yNSwgNzMuODVdLCBbODQuNjU1MjYsIDczLjgwNTkxXSwgWzg2LjgyMjMsIDczLjkzNjg4XSwgWzg2LjAwOTU2LCA3NC40NTk2N10sIFs4Ny4xNjY4MiwgNzUuMTE2NDNdLCBbODguMzE1NzEsIDc1LjE0MzkzXSwgWzkwLjI2LCA3NS42NF0sIFs5Mi45MDA1OCwgNzUuNzczMzNdLCBbOTMuMjM0MjEsIDc2LjA0NzJdLCBbOTUuODYsIDc2LjE0XSwgWzk2LjY3ODIxLCA3NS45MTU0OF0sIFs5OC45MjI1NCwgNzYuNDQ2ODldLCBbMTAwLjc1OTY3LCA3Ni40MzAyOF0sIFsxMDEuMDM1MzIsIDc2Ljg2MTg5XSwgWzEwMS45OTA4NCwgNzcuMjg3NTRdLCBbMTA0LjM1MTYsIDc3LjY5NzkyXSwgWzEwNi4wNjY2NCwgNzcuMzczODldLCBbMTA0LjcwNSwgNzcuMTI3NF0sIFsxMDYuOTcwMTMsIDc2Ljk3NDE5XV1dLCBbW1sxMDUuMDc1NDcsIDc4LjMwNjg5XSwgWzk5LjQzODE0LCA3Ny45MjFdLCBbMTAxLjI2NDksIDc5LjIzMzk5XSwgWzEwMi4wODYzNSwgNzkuMzQ2NDFdLCBbMTAyLjgzNzgxNSwgNzkuMjgxMjldLCBbMTA1LjM3MjQzLCA3OC43MTMzNF0sIFsxMDUuMDc1NDcsIDc4LjMwNjg5XV1dLCBbW1s1MS4xMzYxODcsIDgwLjU0NzI4XSwgWzQ5Ljc5MzY4NSwgODAuNDE1NDI4XSwgWzQ4Ljg5NDQxMSwgODAuMzM5NTY3XSwgWzQ4Ljc1NDkzNywgODAuMTc1NDY4XSwgWzQ3LjU4NjExOSwgODAuMDEwMTgxXSwgWzQ2LjUwMjgyNiwgODAuMjQ3MjQ3XSwgWzQ3LjA3MjQ1NSwgODAuNTU5NDI0XSwgWzQ0Ljg0Njk1OCwgODAuNTg5ODFdLCBbNDYuNzk5MTM5LCA4MC43NzE5MThdLCBbNDguMzE4NDc3LCA4MC43ODQwMV0sIFs0OC41MjI4MDYsIDgwLjUxNDU2OV0sIFs0OS4wOTcxOSwgODAuNzUzOTg2XSwgWzUwLjAzOTc2OCwgODAuOTE4ODg1XSwgWzUxLjUyMjkzMywgODAuNjk5NzI2XSwgWzUxLjEzNjE4NywgODAuNTQ3MjhdXV0sIFtbWzk5LjkzOTc2LCA3OC44ODA5NF0sIFs5Ny43NTc5NCwgNzguNzU2Ml0sIFs5NC45NzI1OSwgNzkuMDQ0NzQ1XSwgWzkzLjMxMjg4LCA3OS40MjY1XSwgWzkyLjU0NTQsIDgwLjE0Mzc5XSwgWzkxLjE4MTA3LCA4MC4zNDE0Nl0sIFs5My43Nzc2NiwgODEuMDI0Nl0sIFs5NS45NDA4OTUsIDgxLjI1MDRdLCBbOTcuODgzODUsIDgwLjc0Njk3NV0sIFsxMDAuMTg2NjU1LCA3OS43ODAxMzVdLCBbOTkuOTM5NzYsIDc4Ljg4MDk0XV1dXSwgInR5cGUiOiAiTXVsdGlQb2x5Z29uIn0sICJpZCI6ICJSVVMiLCAicHJvcGVydGllcyI6IHsiaGlnaGxpZ2h0Ijoge30sICJuYW1lIjogIlJ1c3NpYSIsICJzdHlsZSI6IHsiY29sb3IiOiAiZ3JheSIsICJkYXNoQXJyYXkiOiAiMSwgMSIsICJmaWxsQ29sb3IiOiAiIzAwMDAwMCIsICJsaW5lT3BhY2l0eSI6IDAuOSwgIndlaWdodCI6IDF9fSwgInR5cGUiOiAiRmVhdHVyZSJ9LCB7Imdlb21ldHJ5IjogeyJjb29yZGluYXRlcyI6IFtbWzMwLjQxOTEwNSwgLTEuMTM0NjU5XSwgWzMwLjgxNjEzNSwgLTEuNjk4OTE0XSwgWzMwLjc1ODMwOSwgLTIuMjg3MjVdLCBbMzAuNDY5Njk2LCAtMi40MTM4NThdLCBbMjkuOTM4MzU5LCAtMi4zNDg0ODddLCBbMjkuNjMyMTc2LCAtMi45MTc4NThdLCBbMjkuMDI0OTI2LCAtMi44MzkyNThdLCBbMjkuMTE3NDc5LCAtMi4yOTIyMTFdLCBbMjkuMjU0ODM1LCAtMi4yMTUxMV0sIFsyOS4yOTE4ODcsIC0xLjYyMDA1Nl0sIFsyOS41Nzk0NjYsIC0xLjM0MTMxM10sIFsyOS44MjE1MTksIC0xLjQ0MzMyMl0sIFszMC40MTkxMDUsIC0xLjEzNDY1OV1dXSwgInR5cGUiOiAiUG9seWdvbiJ9LCAiaWQiOiAiUldBIiwgInByb3BlcnRpZXMiOiB7ImhpZ2hsaWdodCI6IHt9LCAibmFtZSI6ICJSd2FuZGEiLCAic3R5bGUiOiB7ImNvbG9yIjogImdyYXkiLCAiZGFzaEFycmF5IjogIjEsIDEiLCAiZmlsbENvbG9yIjogIiMwMDAwMDAiLCAibGluZU9wYWNpdHkiOiAwLjksICJ3ZWlnaHQiOiAxfX0sICJ0eXBlIjogIkZlYXR1cmUifSwgeyJnZW9tZXRyeSI6IHsiY29vcmRpbmF0ZXMiOiBbW1stOC43OTQ4ODQsIDI3LjEyMDY5Nl0sIFstOC44MTc4MjgsIDI3LjY1NjQyNl0sIFstOC42NjU1OSwgMjcuNjU2NDI2XSwgWy04LjY2NTEyNCwgMjcuNTg5NDc5XSwgWy04LjY4NDQsIDI3LjM5NTc0NF0sIFstOC42ODcyOTQsIDI1Ljg4MTA1Nl0sIFstMTEuOTY5NDE5LCAyNS45MzMzNTNdLCBbLTExLjkzNzIyNCwgMjMuMzc0NTk0XSwgWy0xMi44NzQyMjIsIDIzLjI4NDgzMl0sIFstMTMuMTE4NzU0LCAyMi43NzEyMl0sIFstMTIuOTI5MTAyLCAyMS4zMjcwNzFdLCBbLTE2Ljg0NTE5NCwgMjEuMzMzMzIzXSwgWy0xNy4wNjM0MjMsIDIwLjk5OTc1Ml0sIFstMTcuMDIwNDI4LCAyMS40MjIzMV0sIFstMTcuMDAyOTYyLCAyMS40MjA3MzRdLCBbLTE0Ljc1MDk1NSwgMjEuNTAwNl0sIFstMTQuNjMwODMzLCAyMS44NjA5NF0sIFstMTQuMjIxMTY4LCAyMi4zMTAxNjNdLCBbLTEzLjg5MTExLCAyMy42OTEwMDldLCBbLTEyLjUwMDk2MywgMjQuNzcwMTE2XSwgWy0xMi4wMzA3NTksIDI2LjAzMDg2Nl0sIFstMTEuNzE4MjIsIDI2LjEwNDA5Ml0sIFstMTEuMzkyNTU1LCAyNi44ODM0MjRdLCBbLTEwLjU1MTI2MywgMjYuOTkwODA4XSwgWy0xMC4xODk0MjQsIDI2Ljg2MDk0NV0sIFstOS43MzUzNDMsIDI2Ljg2MDk0NV0sIFstOS40MTMwMzcsIDI3LjA4ODQ3Nl0sIFstOC43OTQ4ODQsIDI3LjEyMDY5Nl1dXSwgInR5cGUiOiAiUG9seWdvbiJ9LCAiaWQiOiAiRVNIIiwgInByb3BlcnRpZXMiOiB7ImhpZ2hsaWdodCI6IHt9LCAibmFtZSI6ICJXZXN0ZXJuIFNhaGFyYSIsICJzdHlsZSI6IHsiY29sb3IiOiAiZ3JheSIsICJkYXNoQXJyYXkiOiAiMSwgMSIsICJmaWxsQ29sb3IiOiAiIzAwMDAwMCIsICJsaW5lT3BhY2l0eSI6IDAuOSwgIndlaWdodCI6IDF9fSwgInR5cGUiOiAiRmVhdHVyZSJ9LCB7Imdlb21ldHJ5IjogeyJjb29yZGluYXRlcyI6IFtbWzQyLjc3OTMzMiwgMTYuMzQ3ODkxXSwgWzQyLjY0OTU3MywgMTYuNzc0NjM1XSwgWzQyLjM0Nzk4OSwgMTcuMDc1ODA2XSwgWzQyLjI3MDg4OCwgMTcuNDc0NzIyXSwgWzQxLjc1NDM4MiwgMTcuODMzMDQ2XSwgWzQxLjIyMTM5MSwgMTguNjcxNl0sIFs0MC45MzkzNDEsIDE5LjQ4NjQ4NV0sIFs0MC4yNDc2NTIsIDIwLjE3NDYzNV0sIFszOS44MDE2ODUsIDIwLjMzODg2Ml0sIFszOS4xMzkzOTksIDIxLjI5MTkwNV0sIFszOS4wMjM2OTYsIDIxLjk4Njg3NV0sIFszOS4wNjYzMjksIDIyLjU3OTY1Nl0sIFszOC40OTI3NzIsIDIzLjY4ODQ1MV0sIFszOC4wMjM4NiwgMjQuMDc4Njg2XSwgWzM3LjQ4MzYzNSwgMjQuMjg1NDk1XSwgWzM3LjE1NDgxOCwgMjQuODU4NDgzXSwgWzM3LjIwOTQ5MSwgMjUuMDg0NTQyXSwgWzM2LjkzMTYyNywgMjUuNjAyOTU5XSwgWzM2LjYzOTYwNCwgMjUuODI2MjI4XSwgWzM2LjI0OTEzNywgMjYuNTcwMTM2XSwgWzM1LjY0MDE4MiwgMjcuMzc2NTJdLCBbMzUuMTMwMTg3LCAyOC4wNjMzNTJdLCBbMzQuNjMyMzM2LCAyOC4wNTg1NDZdLCBbMzQuNzg3Nzc5LCAyOC42MDc0MjddLCBbMzQuODMyMjIsIDI4Ljk1NzQ4M10sIFszNC45NTYwMzcsIDI5LjM1NjU1NV0sIFszNi4wNjg5NDEsIDI5LjE5NzQ5NV0sIFszNi41MDEyMTQsIDI5LjUwNTI1NF0sIFszNi43NDA1MjgsIDI5Ljg2NTI4M10sIFszNy41MDM1ODIsIDMwLjAwMzc3Nl0sIFszNy42NjgxMiwgMzAuMzM4NjY1XSwgWzM3Ljk5ODg0OSwgMzAuNTA4NV0sIFszNy4wMDIxNjYsIDMxLjUwODQxM10sIFszOS4wMDQ4ODYsIDMyLjAxMDIxN10sIFszOS4xOTU0NjgsIDMyLjE2MTAwOV0sIFs0MC4zOTk5OTQsIDMxLjg4OTk5Ml0sIFs0MS44ODk5ODEsIDMxLjE5MDAwOV0sIFs0NC43MDk0OTksIDI5LjE3ODg5MV0sIFs0Ni41Njg3MTMsIDI5LjA5OTAyNV0sIFs0Ny40NTk4MjIsIDI5LjAwMjUxOV0sIFs0Ny43MDg4NTEsIDI4LjUyNjA2M10sIFs0OC40MTYwOTQsIDI4LjU1MjAwNF0sIFs0OC44MDc1OTUsIDI3LjY4OTYyOF0sIFs0OS4yOTk1NTQsIDI3LjQ2MTIxOF0sIFs0OS40NzA5MTQsIDI3LjEwOTk5OV0sIFs1MC4xNTI0MjIsIDI2LjY4OTY2M10sIFs1MC4yMTI5MzUsIDI2LjI3NzAyN10sIFs1MC4xMTMzMDMsIDI1Ljk0Mzk3Ml0sIFs1MC4yMzk4NTksIDI1LjYwODA1XSwgWzUwLjUyNzM4NywgMjUuMzI3ODA4XSwgWzUwLjY2MDU1NywgMjQuOTk5ODk2XSwgWzUwLjgxMDEwOCwgMjQuNzU0NzQzXSwgWzUxLjExMjQxNSwgMjQuNTU2MzMxXSwgWzUxLjM4OTYwOCwgMjQuNjI3Mzg2XSwgWzUxLjU3OTUxOSwgMjQuMjQ1NDk3XSwgWzUxLjYxNzcwOCwgMjQuMDE0MjE5XSwgWzUyLjAwMDczMywgMjMuMDAxMTU0XSwgWzU1LjAwNjgwMywgMjIuNDk2OTQ4XSwgWzU1LjIwODM0MSwgMjIuNzA4MzNdLCBbNTUuNjY2NjU5LCAyMi4wMDAwMDFdLCBbNTQuOTk5OTgyLCAxOS45OTk5OTRdLCBbNTIuMDAwMDEsIDE5LjAwMDAwM10sIFs0OS4xMTY2NzIsIDE4LjYxNjY2OF0sIFs0OC4xODMzNDQsIDE4LjE2NjY2OV0sIFs0Ny40NjY2OTUsIDE3LjExNjY4Ml0sIFs0Ny4wMDAwMDUsIDE2Ljk0OTk5OV0sIFs0Ni43NDk5OTQsIDE3LjI4MzMzOF0sIFs0Ni4zNjY2NTksIDE3LjIzMzMxNV0sIFs0NS4zOTk5OTksIDE3LjMzMzMzNV0sIFs0NS4yMTY2NTEsIDE3LjQzMzMyOV0sIFs0NC4wNjI2MTMsIDE3LjQxMDM1OV0sIFs0My43OTE1MTksIDE3LjMxOTk3N10sIFs0My4zODA3OTQsIDE3LjU3OTk4N10sIFs0My4xMTU3OTgsIDE3LjA4ODQ0XSwgWzQzLjIxODM3NSwgMTYuNjY2ODldLCBbNDIuNzc5MzMyLCAxNi4zNDc4OTFdXV0sICJ0eXBlIjogIlBvbHlnb24ifSwgImlkIjogIlNBVSIsICJwcm9wZXJ0aWVzIjogeyJoaWdobGlnaHQiOiB7fSwgIm5hbWUiOiAiU2F1ZGkgQXJhYmlhIiwgInN0eWxlIjogeyJjb2xvciI6ICJncmF5IiwgImRhc2hBcnJheSI6ICIxLCAxIiwgImZpbGxDb2xvciI6ICIjMDAwMDAwIiwgImxpbmVPcGFjaXR5IjogMC45LCAid2VpZ2h0IjogMX19LCAidHlwZSI6ICJGZWF0dXJlIn0sIHsiZ2VvbWV0cnkiOiB7ImNvb3JkaW5hdGVzIjogW1tbMzMuOTYzMzkzLCA5LjQ2NDI4NV0sIFszMy44MjQ5NjMsIDkuNDg0MDYxXSwgWzMzLjg0MjEzMSwgOS45ODE5MTVdLCBbMzMuNzIxOTU5LCAxMC4zMjUyNjJdLCBbMzMuMjA2OTM4LCAxMC43MjAxMTJdLCBbMzMuMDg2NzY2LCAxMS40NDExNDFdLCBbMzMuMjA2OTM4LCAxMi4xNzkzMzhdLCBbMzIuNzQzNDE5LCAxMi4yNDgwMDhdLCBbMzIuNjc0NzUsIDEyLjAyNDgzMl0sIFszMi4wNzM4OTIsIDExLjk3MzMzXSwgWzMyLjMxNDIzNSwgMTEuNjgxNDg0XSwgWzMyLjQwMDA3MiwgMTEuMDgwNjI2XSwgWzMxLjg1MDcxNiwgMTAuNTMxMjcxXSwgWzMxLjM1Mjg2MiwgOS44MTAyNDFdLCBbMzAuODM3ODQxLCA5LjcwNzIzN10sIFsyOS45OTY2MzksIDEwLjI5MDkyN10sIFsyOS42MTg5NTcsIDEwLjA4NDkxOV0sIFsyOS41MTU5NTMsIDkuNzkzMDc0XSwgWzI5LjAwMDkzMiwgOS42MDQyMzJdLCBbMjguOTY2NTk3LCA5LjM5ODIyNF0sIFsyNy45NzA4OSwgOS4zOTgyMjRdLCBbMjcuODMzNTUxLCA5LjYwNDIzMl0sIFsyNy4xMTI1MjEsIDkuNjM4NTY3XSwgWzI2Ljc1MjAwNiwgOS40NjY4OTNdLCBbMjYuNDc3MzI4LCA5LjU1MjczXSwgWzI1Ljk2MjMwNywgMTAuMTM2NDIxXSwgWzI1Ljc5MDYzMywgMTAuNDExMDk5XSwgWzI1LjA2OTYwNCwgMTAuMjczNzZdLCBbMjQuNzk0OTI2LCA5LjgxMDI0MV0sIFsyNC41Mzc0MTUsIDguOTE3NTM4XSwgWzI0LjE5NDA2OCwgOC43Mjg2OTZdLCBbMjMuODg2OTgsIDguNjE5NzNdLCBbMjMuODA1ODEzLCA4LjY2NjMxOV0sIFsyMy40NTkwMTMsIDguOTU0Mjg2XSwgWzIzLjM5NDc3OSwgOS4yNjUwNjhdLCBbMjMuNTU3MjUsIDkuNjgxMjE4XSwgWzIzLjU1NDMwNCwgMTAuMDg5MjU1XSwgWzIyLjk3NzU0NCwgMTAuNzE0NDYzXSwgWzIyLjg2NDE2NSwgMTEuMTQyMzk1XSwgWzIyLjg3NjIyLCAxMS4zODQ2MV0sIFsyMi41MDg2OSwgMTEuNjc5MzZdLCBbMjIuNDk3NjIsIDEyLjI2MDI0XSwgWzIyLjI4ODAxLCAxMi42NDYwNV0sIFsyMS45MzY4MSwgMTIuNTg4MThdLCBbMjIuMDM3NTksIDEyLjk1NTQ2XSwgWzIyLjI5NjU4LCAxMy4zNzIzMl0sIFsyMi4xODMyOSwgMTMuNzg2NDhdLCBbMjIuNTEyMDIsIDE0LjA5MzE4XSwgWzIyLjMwMzUxLCAxNC4zMjY4Ml0sIFsyMi41Njc5NSwgMTQuOTQ0MjldLCBbMjMuMDI0NTksIDE1LjY4MDcyXSwgWzIzLjg4Njg5LCAxNS42MTA4NF0sIFsyMy44Mzc2NiwgMTkuNTgwNDddLCBbMjMuODUsIDIwXSwgWzI1LCAyMC4wMDMwNF0sIFsyNSwgMjJdLCBbMjkuMDIsIDIyXSwgWzMyLjksIDIyXSwgWzM2Ljg2NjIzLCAyMl0sIFszNy4xODg3MiwgMjEuMDE4ODVdLCBbMzYuOTY5NDEsIDIwLjgzNzQ0XSwgWzM3LjExNDcsIDE5LjgwNzk2XSwgWzM3LjQ4MTc5LCAxOC42MTQwOV0sIFszNy44NjI3NiwgMTguMzY3ODZdLCBbMzguNDEwMDksIDE3Ljk5ODMwN10sIFszNy45MDQsIDE3LjQyNzU0XSwgWzM3LjE2NzQ3LCAxNy4yNjMxNF0sIFszNi44NTI1MywgMTYuOTU2NTVdLCBbMzYuNzUzODksIDE2LjI5MTg2XSwgWzM2LjMyMzIyLCAxNC44MjI0OV0sIFszNi40Mjk1MSwgMTQuNDIyMTFdLCBbMzYuMjcwMjIsIDEzLjU2MzMzXSwgWzM1Ljg2MzYzLCAxMi41NzgyOF0sIFszNS4yNjA0OSwgMTIuMDgyODZdLCBbMzQuODMxNjMsIDExLjMxODk2XSwgWzM0LjczMTE1LCAxMC45MTAxN10sIFszNC4yNTc0NSwgMTAuNjMwMDldLCBbMzMuOTYxNjIsIDkuNTgzNThdLCBbMzMuOTYzMzkzLCA5LjQ2NDI4NV1dXSwgInR5cGUiOiAiUG9seWdvbiJ9LCAiaWQiOiAiU0ROIiwgInByb3BlcnRpZXMiOiB7ImhpZ2hsaWdodCI6IHt9LCAibmFtZSI6ICJTdWRhbiIsICJzdHlsZSI6IHsiY29sb3IiOiAiZ3JheSIsICJkYXNoQXJyYXkiOiAiMSwgMSIsICJmaWxsQ29sb3IiOiAiIzAwMDAwMCIsICJsaW5lT3BhY2l0eSI6IDAuOSwgIndlaWdodCI6IDF9fSwgInR5cGUiOiAiRmVhdHVyZSJ9LCB7Imdlb21ldHJ5IjogeyJjb29yZGluYXRlcyI6IFtbWzMzLjk2MzM5MywgOS40NjQyODVdLCBbMzMuOTc0OTgsIDguNjg0NTZdLCBbMzMuODI1NSwgOC4zNzkxNl0sIFszMy4yOTQ4LCA4LjM1NDU4XSwgWzMyLjk1NDE4LCA3Ljc4NDk3XSwgWzMzLjU2ODI5LCA3LjcxMzM0XSwgWzM0LjA3NTEsIDcuMjI1OTVdLCBbMzQuMjUwMzIsIDYuODI2MDddLCBbMzQuNzA3MDIsIDYuNTk0MjJdLCBbMzUuMjk4MDA3LCA1LjUwNl0sIFszNC42MjAxOTYsIDQuODQ3MTIzXSwgWzM0LjAwNSwgNC4yNDk4ODVdLCBbMzMuMzksIDMuNzldLCBbMzIuNjg2NDIsIDMuNzkyMzJdLCBbMzEuODgxNDUsIDMuNTU4MjddLCBbMzEuMjQ1NTYsIDMuNzgxOV0sIFszMC44MzM4NSwgMy41MDkxN10sIFsyOS45NTM0OSwgNC4xNzM3XSwgWzI5LjcxNTk5NSwgNC42MDA4MDVdLCBbMjkuMTU5MDc4LCA0LjM4OTI2N10sIFsyOC42OTY2NzgsIDQuNDU1MDc3XSwgWzI4LjQyODk5NCwgNC4yODcxNTVdLCBbMjcuOTc5OTc3LCA0LjQwODQxM10sIFsyNy4zNzQyMjYsIDUuMjMzOTQ0XSwgWzI3LjIxMzQwOSwgNS41NTA5NTNdLCBbMjYuNDY1OTA5LCA1Ljk0NjcxN10sIFsyNi4yMTM0MTgsIDYuNTQ2NjAzXSwgWzI1Ljc5NjY0OCwgNi45NzkzMTZdLCBbMjUuMTI0MTMxLCA3LjUwMDA4NV0sIFsyNS4xMTQ5MzIsIDcuODI1MTA0XSwgWzI0LjU2NzM2OSwgOC4yMjkxODhdLCBbMjMuODg2OTgsIDguNjE5NzNdLCBbMjQuMTk0MDY4LCA4LjcyODY5Nl0sIFsyNC41Mzc0MTUsIDguOTE3NTM4XSwgWzI0Ljc5NDkyNiwgOS44MTAyNDFdLCBbMjUuMDY5NjA0LCAxMC4yNzM3Nl0sIFsyNS43OTA2MzMsIDEwLjQxMTA5OV0sIFsyNS45NjIzMDcsIDEwLjEzNjQyMV0sIFsyNi40NzczMjgsIDkuNTUyNzNdLCBbMjYuNzUyMDA2LCA5LjQ2Njg5M10sIFsyNy4xMTI1MjEsIDkuNjM4NTY3XSwgWzI3LjgzMzU1MSwgOS42MDQyMzJdLCBbMjcuOTcwODksIDkuMzk4MjI0XSwgWzI4Ljk2NjU5NywgOS4zOTgyMjRdLCBbMjkuMDAwOTMyLCA5LjYwNDIzMl0sIFsyOS41MTU5NTMsIDkuNzkzMDc0XSwgWzI5LjYxODk1NywgMTAuMDg0OTE5XSwgWzI5Ljk5NjYzOSwgMTAuMjkwOTI3XSwgWzMwLjgzNzg0MSwgOS43MDcyMzddLCBbMzEuMzUyODYyLCA5LjgxMDI0MV0sIFszMS44NTA3MTYsIDEwLjUzMTI3MV0sIFszMi40MDAwNzIsIDExLjA4MDYyNl0sIFszMi4zMTQyMzUsIDExLjY4MTQ4NF0sIFszMi4wNzM4OTIsIDExLjk3MzMzXSwgWzMyLjY3NDc1LCAxMi4wMjQ4MzJdLCBbMzIuNzQzNDE5LCAxMi4yNDgwMDhdLCBbMzMuMjA2OTM4LCAxMi4xNzkzMzhdLCBbMzMuMDg2NzY2LCAxMS40NDExNDFdLCBbMzMuMjA2OTM4LCAxMC43MjAxMTJdLCBbMzMuNzIxOTU5LCAxMC4zMjUyNjJdLCBbMzMuODQyMTMxLCA5Ljk4MTkxNV0sIFszMy44MjQ5NjMsIDkuNDg0MDYxXSwgWzMzLjk2MzM5MywgOS40NjQyODVdXV0sICJ0eXBlIjogIlBvbHlnb24ifSwgImlkIjogIlNTRCIsICJwcm9wZXJ0aWVzIjogeyJoaWdobGlnaHQiOiB7fSwgIm5hbWUiOiAiU291dGggU3VkYW4iLCAic3R5bGUiOiB7ImNvbG9yIjogImdyYXkiLCAiZGFzaEFycmF5IjogIjEsIDEiLCAiZmlsbENvbG9yIjogIiMwMDAwMDAiLCAibGluZU9wYWNpdHkiOiAwLjksICJ3ZWlnaHQiOiAxfX0sICJ0eXBlIjogIkZlYXR1cmUifSwgeyJnZW9tZXRyeSI6IHsiY29vcmRpbmF0ZXMiOiBbW1stMTYuNzEzNzI5LCAxMy41OTQ5NTldLCBbLTE3LjEyNjEwNywgMTQuMzczNTE2XSwgWy0xNy42MjUwNDMsIDE0LjcyOTU0MV0sIFstMTcuMTg1MTczLCAxNC45MTk0NzddLCBbLTE2LjcwMDcwNiwgMTUuNjIxNTI3XSwgWy0xNi40NjMwOTgsIDE2LjEzNTAzNl0sIFstMTYuMTIwNjksIDE2LjQ1NTY2M10sIFstMTUuNjIzNjY2LCAxNi4zNjkzMzddLCBbLTE1LjEzNTczNywgMTYuNTg3MjgyXSwgWy0xNC41NzczNDgsIDE2LjU5ODI2NF0sIFstMTQuMDk5NTIxLCAxNi4zMDQzMDJdLCBbLTEzLjQzNTczOCwgMTYuMDM5MzgzXSwgWy0xMi44MzA2NTgsIDE1LjMwMzY5Ml0sIFstMTIuMTcwNzUsIDE0LjYxNjgzNF0sIFstMTIuMTI0ODg3LCAxMy45OTQ3MjddLCBbLTExLjkyNzcxNiwgMTMuNDIyMDc1XSwgWy0xMS41NTMzOTgsIDEzLjE0MTIxNF0sIFstMTEuNDY3ODk5LCAxMi43NTQ1MTldLCBbLTExLjUxMzk0MywgMTIuNDQyOTg4XSwgWy0xMS42NTgzMDEsIDEyLjM4NjU4M10sIFstMTIuMjAzNTY1LCAxMi40NjU2NDhdLCBbLTEyLjI3ODU5OSwgMTIuMzU0NDRdLCBbLTEyLjQ5OTA1MSwgMTIuMzMyMDldLCBbLTEzLjIxNzgxOCwgMTIuNTc1ODc0XSwgWy0xMy43MDA0NzYsIDEyLjU4NjE4M10sIFstMTUuNTQ4NDc3LCAxMi42MjgxN10sIFstMTUuODE2NTc0LCAxMi41MTU1NjddLCBbLTE2LjE0NzcxNywgMTIuNTQ3NzYyXSwgWy0xNi42Nzc0NTIsIDEyLjM4NDg1Ml0sIFstMTYuODQxNTI1LCAxMy4xNTEzOTRdLCBbLTE1LjkzMTI5NiwgMTMuMTMwMjg0XSwgWy0xNS42OTEwMDEsIDEzLjI3MDM1M10sIFstMTUuNTExODEzLCAxMy4yNzg1N10sIFstMTUuMTQxMTYzLCAxMy41MDk1MTJdLCBbLTE0LjcxMjE5NywgMTMuMjk4MjA3XSwgWy0xNC4yNzc3MDIsIDEzLjI4MDU4NV0sIFstMTMuODQ0OTYzLCAxMy41MDUwNDJdLCBbLTE0LjA0Njk5MiwgMTMuNzk0MDY4XSwgWy0xNC4zNzY3MTQsIDEzLjYyNTY4XSwgWy0xNC42ODcwMzEsIDEzLjYzMDM1N10sIFstMTUuMDgxNzM1LCAxMy44NzY0OTJdLCBbLTE1LjM5ODc3LCAxMy44NjAzNjldLCBbLTE1LjYyNDU5NiwgMTMuNjIzNTg3XSwgWy0xNi43MTM3MjksIDEzLjU5NDk1OV1dXSwgInR5cGUiOiAiUG9seWdvbiJ9LCAiaWQiOiAiU0VOIiwgInByb3BlcnRpZXMiOiB7ImhpZ2hsaWdodCI6IHt9LCAibmFtZSI6ICJTZW5lZ2FsIiwgInN0eWxlIjogeyJjb2xvciI6ICJncmF5IiwgImRhc2hBcnJheSI6ICIxLCAxIiwgImZpbGxDb2xvciI6ICIjMDAwMDAwIiwgImxpbmVPcGFjaXR5IjogMC45LCAid2VpZ2h0IjogMX19LCAidHlwZSI6ICJGZWF0dXJlIn0sIHsiZ2VvbWV0cnkiOiB7ImNvb3JkaW5hdGVzIjogW1tbWzE2Mi4xMTkwMjUsIC0xMC40ODI3MTldLCBbMTYyLjM5ODY0NiwgLTEwLjgyNjM2N10sIFsxNjEuNzAwMDMyLCAtMTAuODIwMDExXSwgWzE2MS4zMTk3OTcsIC0xMC4yMDQ3NTFdLCBbMTYxLjkxNzM4MywgLTEwLjQ0NjcwMV0sIFsxNjIuMTE5MDI1LCAtMTAuNDgyNzE5XV1dLCBbW1sxNjAuODUyMjI5LCAtOS44NzI5MzddLCBbMTYwLjQ2MjU4OCwgLTkuODk1MjFdLCBbMTU5Ljg0OTQ0NywgLTkuNzk0MDI3XSwgWzE1OS42NDAwMDMsIC05LjYzOTk4XSwgWzE1OS43MDI5NDUsIC05LjI0Mjk1XSwgWzE2MC4zNjI5NTYsIC05LjQwMDMwNF0sIFsxNjAuNjg4NTE4LCAtOS42MTAxNjJdLCBbMTYwLjg1MjIyOSwgLTkuODcyOTM3XV1dLCBbW1sxNjEuNjc5OTgyLCAtOS41OTk5ODJdLCBbMTYxLjUyOTM5NywgLTkuNzg0MzEyXSwgWzE2MC43ODgyNTMsIC04LjkxNzU0M10sIFsxNjAuNTc5OTk3LCAtOC4zMjAwMDldLCBbMTYwLjkyMDAyOCwgLTguMzIwMDA5XSwgWzE2MS4yODAwMDYsIC05LjEyMDAxMV0sIFsxNjEuNjc5OTgyLCAtOS41OTk5ODJdXV0sIFtbWzE1OS44NzUwMjcsIC04LjMzNzMyXSwgWzE1OS45MTc0MDIsIC04LjUzODI5XSwgWzE1OS4xMzM2NzcsIC04LjExNDE4MV0sIFsxNTguNTg2MTE0LCAtNy43NTQ4MjRdLCBbMTU4LjIxMTE1LCAtNy40MjE4NzJdLCBbMTU4LjM1OTk3OCwgLTcuMzIwMDE4XSwgWzE1OC44MjAwMDEsIC03LjU2MDAwM10sIFsxNTkuNjQwMDAzLCAtOC4wMjAwMjddLCBbMTU5Ljg3NTAyNywgLTguMzM3MzJdXV0sIFtbWzE1Ny41Mzg0MjYsIC03LjM0NzgyXSwgWzE1Ny4zMzk0MiwgLTcuNDA0NzY3XSwgWzE1Ni45MDIwMywgLTcuMTc2ODc0XSwgWzE1Ni40OTEzNTgsIC02Ljc2NTk0M10sIFsxNTYuNTQyODI4LCAtNi41OTkzMzhdLCBbMTU3LjE0LCAtNy4wMjE2MzhdLCBbMTU3LjUzODQyNiwgLTcuMzQ3ODJdXV1dLCAidHlwZSI6ICJNdWx0aVBvbHlnb24ifSwgImlkIjogIlNMQiIsICJwcm9wZXJ0aWVzIjogeyJoaWdobGlnaHQiOiB7fSwgIm5hbWUiOiAiU29sb21vbiBJc2xhbmRzIiwgInN0eWxlIjogeyJjb2xvciI6ICJncmF5IiwgImRhc2hBcnJheSI6ICIxLCAxIiwgImZpbGxDb2xvciI6ICIjMDAwMDAwIiwgImxpbmVPcGFjaXR5IjogMC45LCAid2VpZ2h0IjogMX19LCAidHlwZSI6ICJGZWF0dXJlIn0sIHsiZ2VvbWV0cnkiOiB7ImNvb3JkaW5hdGVzIjogW1tbLTExLjQzODc3OSwgNi43ODU5MTddLCBbLTExLjcwODE5NSwgNi44NjAwOThdLCBbLTEyLjQyODA5OSwgNy4yNjI5NDJdLCBbLTEyLjk0OTA0OSwgNy43OTg2NDZdLCBbLTEzLjEyNDAyNSwgOC4xNjM5NDZdLCBbLTEzLjI0NjU1LCA4LjkwMzA0OV0sIFstMTIuNzExOTU4LCA5LjM0MjcxMl0sIFstMTIuNTk2NzE5LCA5LjYyMDE4OF0sIFstMTIuNDI1OTI5LCA5LjgzNTgzNF0sIFstMTIuMTUwMzM4LCA5Ljg1ODU3Ml0sIFstMTEuOTE3Mjc3LCAxMC4wNDY5ODRdLCBbLTExLjExNzQ4MSwgMTAuMDQ1ODczXSwgWy0xMC44MzkxNTIsIDkuNjg4MjQ2XSwgWy0xMC42MjIzOTUsIDkuMjY3OTFdLCBbLTEwLjY1NDc3LCA4Ljk3NzE3OF0sIFstMTAuNDk0MzE1LCA4LjcxNTU0MV0sIFstMTAuNTA1NDc3LCA4LjM0ODg5Nl0sIFstMTAuMjMwMDk0LCA4LjQwNjIwNl0sIFstMTAuNjk1NTk1LCA3LjkzOTQ2NF0sIFstMTEuMTQ2NzA0LCA3LjM5NjcwNl0sIFstMTEuMTk5ODAyLCA3LjEwNTg0Nl0sIFstMTEuNDM4Nzc5LCA2Ljc4NTkxN11dXSwgInR5cGUiOiAiUG9seWdvbiJ9LCAiaWQiOiAiU0xFIiwgInByb3BlcnRpZXMiOiB7ImhpZ2hsaWdodCI6IHt9LCAibmFtZSI6ICJTaWVycmEgTGVvbmUiLCAic3R5bGUiOiB7ImNvbG9yIjogImdyYXkiLCAiZGFzaEFycmF5IjogIjEsIDEiLCAiZmlsbENvbG9yIjogIiMwMDAwMDAiLCAibGluZU9wYWNpdHkiOiAwLjksICJ3ZWlnaHQiOiAxfX0sICJ0eXBlIjogIkZlYXR1cmUifSwgeyJnZW9tZXRyeSI6IHsiY29vcmRpbmF0ZXMiOiBbW1stODcuNzkzMTExLCAxMy4zODQ0OF0sIFstODcuOTA0MTEyLCAxMy4xNDkwMTddLCBbLTg4LjQ4MzMwMiwgMTMuMTYzOTUxXSwgWy04OC44NDMyMjgsIDEzLjI1OTczNF0sIFstODkuMjU2NzQzLCAxMy40NTg1MzNdLCBbLTg5LjgxMjM5NCwgMTMuNTIwNjIyXSwgWy05MC4wOTU1NTUsIDEzLjczNTMzOF0sIFstOTAuMDY0Njc4LCAxMy44ODE5N10sIFstODkuNzIxOTM0LCAxNC4xMzQyMjhdLCBbLTg5LjUzNDIxOSwgMTQuMjQ0ODE2XSwgWy04OS41ODczNDMsIDE0LjM2MjU4Nl0sIFstODkuMzUzMzI2LCAxNC40MjQxMzNdLCBbLTg5LjA1ODUxMiwgMTQuMzQwMDI5XSwgWy04OC44NDMwNzMsIDE0LjE0MDUwN10sIFstODguNTQxMjMxLCAxMy45ODAxNTVdLCBbLTg4LjUwMzk5OCwgMTMuODQ1NDg2XSwgWy04OC4wNjUzNDMsIDEzLjk2NDYyNl0sIFstODcuODU5NTE1LCAxMy44OTMzMTJdLCBbLTg3LjcyMzUwMywgMTMuNzg1MDVdLCBbLTg3Ljc5MzExMSwgMTMuMzg0NDhdXV0sICJ0eXBlIjogIlBvbHlnb24ifSwgImlkIjogIlNMViIsICJwcm9wZXJ0aWVzIjogeyJoaWdobGlnaHQiOiB7fSwgIm5hbWUiOiAiRWwgU2FsdmFkb3IiLCAic3R5bGUiOiB7ImNvbG9yIjogImdyYXkiLCAiZGFzaEFycmF5IjogIjEsIDEiLCAiZmlsbENvbG9yIjogIiMwMDAwMDAiLCAibGluZU9wYWNpdHkiOiAwLjksICJ3ZWlnaHQiOiAxfX0sICJ0eXBlIjogIkZlYXR1cmUifSwgeyJnZW9tZXRyeSI6IHsiY29vcmRpbmF0ZXMiOiBbW1s0OS43Mjg2MiwgMTEuNTc4OV0sIFs1MC4yNTg3OCwgMTEuNjc5NTddLCBbNTAuNzMyMDIsIDEyLjAyMTldLCBbNTEuMTExMiwgMTIuMDI0NjRdLCBbNTEuMTMzODcsIDExLjc0ODE1XSwgWzUxLjA0MTUzLCAxMS4xNjY1MV0sIFs1MS4wNDUzMSwgMTAuNjQwOV0sIFs1MC44MzQxOCwgMTAuMjc5NzJdLCBbNTAuNTUyMzksIDkuMTk4NzRdLCBbNTAuMDcwOTIsIDguMDgxNzNdLCBbNDkuNDUyNywgNi44MDQ2Nl0sIFs0OC41OTQ1NSwgNS4zMzkxMV0sIFs0Ny43NDA3OSwgNC4yMTk0XSwgWzQ2LjU2NDc2LCAyLjg1NTI5XSwgWzQ1LjU2Mzk5LCAyLjA0NTc2XSwgWzQ0LjA2ODE1LCAxLjA1MjgzXSwgWzQzLjEzNTk3LCAwLjI5MjJdLCBbNDIuMDQxNTcsIC0wLjkxOTE2XSwgWzQxLjgxMDk1LCAtMS40NDY0N10sIFs0MS41ODUxMywgLTEuNjgzMjVdLCBbNDAuOTkzLCAtMC44NTgyOV0sIFs0MC45ODEwNSwgMi43ODQ1Ml0sIFs0MS44NTUwODMsIDMuOTE4OTEyXSwgWzQyLjEyODYxLCA0LjIzNDEzXSwgWzQyLjc2OTY3LCA0LjI1MjU5XSwgWzQzLjY2MDg3LCA0Ljk1NzU1XSwgWzQ0Ljk2MzYsIDUuMDAxNjJdLCBbNDcuNzg5NDIsIDguMDAzXSwgWzQ4LjQ4NjczNiwgOC44Mzc2MjZdLCBbNDguOTM4MTMsIDkuNDUxNzQ5XSwgWzQ4LjkzODIzMywgOS45NzM1XSwgWzQ4LjkzODQ5MSwgMTAuOTgyMzI3XSwgWzQ4Ljk0MjAwNSwgMTEuMzk0MjY2XSwgWzQ4Ljk0ODIwNSwgMTEuNDEwNjE3XSwgWzQ5LjI2Nzc2LCAxMS40MzAzM10sIFs0OS43Mjg2MiwgMTEuNTc4OV1dXSwgInR5cGUiOiAiUG9seWdvbiJ9LCAiaWQiOiAiU09NIiwgInByb3BlcnRpZXMiOiB7ImhpZ2hsaWdodCI6IHt9LCAibmFtZSI6ICJTb21hbGlhIiwgInN0eWxlIjogeyJjb2xvciI6ICJncmF5IiwgImRhc2hBcnJheSI6ICIxLCAxIiwgImZpbGxDb2xvciI6ICIjMDAwMDAwIiwgImxpbmVPcGFjaXR5IjogMC45LCAid2VpZ2h0IjogMX19LCAidHlwZSI6ICJGZWF0dXJlIn0sIHsiZ2VvbWV0cnkiOiB7ImNvb3JkaW5hdGVzIjogW1tbMjAuODc0MzEzLCA0NS40MTYzNzVdLCBbMjEuNDgzNTI2LCA0NS4xODExN10sIFsyMS41NjIwMjMsIDQ0Ljc2ODk0N10sIFsyMi4xNDUwODgsIDQ0LjQ3ODQyMl0sIFsyMi40NTkwMjIsIDQ0LjcwMjUxN10sIFsyMi43MDU3MjYsIDQ0LjU3ODAwM10sIFsyMi40NzQwMDgsIDQ0LjQwOTIyOF0sIFsyMi42NTcxNSwgNDQuMjM0OTIzXSwgWzIyLjQxMDQ0NiwgNDQuMDA4MDYzXSwgWzIyLjUwMDE1NywgNDMuNjQyODE0XSwgWzIyLjk4NjAxOSwgNDMuMjExMTYxXSwgWzIyLjYwNDgwMSwgNDIuODk4NTE5XSwgWzIyLjQzNjU5NSwgNDIuNTgwMzIxXSwgWzIyLjU0NTAxMiwgNDIuNDYxMzYyXSwgWzIyLjM4MDUyNiwgNDIuMzIwMjZdLCBbMjEuOTE3MDgsIDQyLjMwMzY0XSwgWzIxLjU3NjYzNiwgNDIuMjQ1MjI0XSwgWzIxLjU0MzMyLCA0Mi4zMjAyNV0sIFsyMS42NjI5MiwgNDIuNDM5MjJdLCBbMjEuNzc1MDUsIDQyLjY4MjddLCBbMjEuNjMzMDIsIDQyLjY3NzE3XSwgWzIxLjQzODY2LCA0Mi44NjI1NV0sIFsyMS4yNzQyMSwgNDIuOTA5NTldLCBbMjEuMTQzMzk1LCA0My4wNjg2ODVdLCBbMjAuOTU2NTEsIDQzLjEzMDk0XSwgWzIwLjgxNDQ4LCA0My4yNzIwNV0sIFsyMC42MzUwOCwgNDMuMjE2NzFdLCBbMjAuNDk2NzksIDQyLjg4NDY5XSwgWzIwLjI1NzU4LCA0Mi44MTI3NV0sIFsyMC4zMzk4LCA0Mi44OTg1Ml0sIFsxOS45NTg1NywgNDMuMTA2MDRdLCBbMTkuNjMsIDQzLjIxMzc4XSwgWzE5LjQ4Mzg5LCA0My4zNTIyOV0sIFsxOS4yMTg1MiwgNDMuNTIzODRdLCBbMTkuNDU0LCA0My41NjgxXSwgWzE5LjU5OTc2LCA0NC4wMzg0N10sIFsxOS4xMTc2MSwgNDQuNDIzMDddLCBbMTkuMzY4MDMsIDQ0Ljg2M10sIFsxOS4wMDU0OCwgNDQuODYwMjNdLCBbMTkuMzkwNDc2LCA0NS4yMzY1MTZdLCBbMTkuMDcyNzY5LCA0NS41MjE1MTFdLCBbMTguODI5ODIsIDQ1LjkwODg4XSwgWzE5LjU5NjA0NSwgNDYuMTcxNzNdLCBbMjAuMjIwMTkyLCA0Ni4xMjc0NjldLCBbMjAuNzYyMTc1LCA0NS43MzQ1NzNdLCBbMjAuODc0MzEzLCA0NS40MTYzNzVdXV0sICJ0eXBlIjogIlBvbHlnb24ifSwgImlkIjogIlNSQiIsICJwcm9wZXJ0aWVzIjogeyJoaWdobGlnaHQiOiB7fSwgIm5hbWUiOiAiUmVwdWJsaWMgb2YgU2VyYmlhIiwgInN0eWxlIjogeyJjb2xvciI6ICJncmF5IiwgImRhc2hBcnJheSI6ICIxLCAxIiwgImZpbGxDb2xvciI6ICIjMDAwMDAwIiwgImxpbmVPcGFjaXR5IjogMC45LCAid2VpZ2h0IjogMX19LCAidHlwZSI6ICJGZWF0dXJlIn0sIHsiZ2VvbWV0cnkiOiB7ImNvb3JkaW5hdGVzIjogW1tbLTU3LjE0NzQzNiwgNS45NzMxNV0sIFstNTUuOTQ5MzE4LCA1Ljc3Mjg3OF0sIFstNTUuODQxNzgsIDUuOTUzMTI1XSwgWy01NS4wMzMyNSwgNi4wMjUyOTFdLCBbLTUzLjk1ODA0NSwgNS43NTY1NDhdLCBbLTU0LjQ3ODYzMywgNC44OTY3NTZdLCBbLTU0LjM5OTU0MiwgNC4yMTI2MTFdLCBbLTU0LjAwNjkzMSwgMy42MjAwMzhdLCBbLTU0LjE4MTcyNiwgMy4xODk3OF0sIFstNTQuMjY5NzA1LCAyLjczMjM5Ml0sIFstNTQuNTI0NzU0LCAyLjMxMTg0OV0sIFstNTUuMDk3NTg3LCAyLjUyMzc0OF0sIFstNTUuNTY5NzU1LCAyLjQyMTUwNl0sIFstNTUuOTczMzIyLCAyLjUxMDM2NF0sIFstNTYuMDczMzQyLCAyLjIyMDc5NV0sIFstNTUuOTA1NiwgMi4wMjE5OTZdLCBbLTU1Ljk5NTY5OCwgMS44MTc2NjddLCBbLTU2LjUzOTM4NiwgMS44OTk1MjNdLCBbLTU3LjE1MDA5OCwgMi43Njg5MjddLCBbLTU3LjI4MTQzMywgMy4zMzM0OTJdLCBbLTU3LjYwMTU2OSwgMy4zMzQ2NTVdLCBbLTU4LjA0NDY5NCwgNC4wNjA4NjRdLCBbLTU3Ljg2MDIxLCA0LjU3NjgwMV0sIFstNTcuOTE0Mjg5LCA0LjgxMjYyNl0sIFstNTcuMzA3MjQ2LCA1LjA3MzU2N10sIFstNTcuMTQ3NDM2LCA1Ljk3MzE1XV1dLCAidHlwZSI6ICJQb2x5Z29uIn0sICJpZCI6ICJTVVIiLCAicHJvcGVydGllcyI6IHsiaGlnaGxpZ2h0Ijoge30sICJuYW1lIjogIlN1cmluYW1lIiwgInN0eWxlIjogeyJjb2xvciI6ICJncmF5IiwgImRhc2hBcnJheSI6ICIxLCAxIiwgImZpbGxDb2xvciI6ICIjMDAwMDAwIiwgImxpbmVPcGFjaXR5IjogMC45LCAid2VpZ2h0IjogMX19LCAidHlwZSI6ICJGZWF0dXJlIn0sIHsiZ2VvbWV0cnkiOiB7ImNvb3JkaW5hdGVzIjogW1tbMTguODUzMTQ0LCA0OS40OTYyM10sIFsxOC45MDk1NzUsIDQ5LjQzNTg0Nl0sIFsxOS4zMjA3MTMsIDQ5LjU3MTU3NF0sIFsxOS44MjUwMjMsIDQ5LjIxNzEyNV0sIFsyMC40MTU4MzksIDQ5LjQzMTQ1M10sIFsyMC44ODc5NTUsIDQ5LjMyODc3Ml0sIFsyMS42MDc4MDgsIDQ5LjQ3MDEwN10sIFsyMi41NTgxMzgsIDQ5LjA4NTczOF0sIFsyMi4yODA4NDIsIDQ4LjgyNTM5Ml0sIFsyMi4wODU2MDgsIDQ4LjQyMjI2NF0sIFsyMS44NzIyMzYsIDQ4LjMxOTk3MV0sIFsyMC44MDEyOTQsIDQ4LjYyMzg1NF0sIFsyMC40NzM1NjIsIDQ4LjU2Mjg1XSwgWzIwLjIzOTA1NCwgNDguMzI3NTY3XSwgWzE5Ljc2OTQ3MSwgNDguMjAyNjkxXSwgWzE5LjY2MTM2NCwgNDguMjY2NjE1XSwgWzE5LjE3NDM2NSwgNDguMTExMzc5XSwgWzE4Ljc3NzAyNSwgNDguMDgxNzY4XSwgWzE4LjY5NjUxMywgNDcuODgwOTU0XSwgWzE3Ljg1NzEzMywgNDcuNzU4NDI5XSwgWzE3LjQ4ODQ3MywgNDcuODY3NDY2XSwgWzE2Ljk3OTY2NywgNDguMTIzNDk3XSwgWzE2Ljg3OTk4MywgNDguNDcwMDEzXSwgWzE2Ljk2MDI4OCwgNDguNTk2OTgyXSwgWzE3LjEwMTk4NSwgNDguODE2OTY5XSwgWzE3LjU0NTAwNywgNDguODAwMDE5XSwgWzE3Ljg4NjQ4NSwgNDguOTAzNDc1XSwgWzE3LjkxMzUxMiwgNDguOTk2NDkzXSwgWzE4LjEwNDk3MywgNDkuMDQzOTgzXSwgWzE4LjE3MDQ5OCwgNDkuMjcxNTE1XSwgWzE4LjM5OTk5NCwgNDkuMzE1MDAxXSwgWzE4LjU1NDk3MSwgNDkuNDk1MDE1XSwgWzE4Ljg1MzE0NCwgNDkuNDk2MjNdXV0sICJ0eXBlIjogIlBvbHlnb24ifSwgImlkIjogIlNWSyIsICJwcm9wZXJ0aWVzIjogeyJoaWdobGlnaHQiOiB7fSwgIm5hbWUiOiAiU2xvdmFraWEiLCAic3R5bGUiOiB7ImNvbG9yIjogImdyYXkiLCAiZGFzaEFycmF5IjogIjEsIDEiLCAiZmlsbENvbG9yIjogIiMwMDAwMDAiLCAibGluZU9wYWNpdHkiOiAwLjksICJ3ZWlnaHQiOiAxfX0sICJ0eXBlIjogIkZlYXR1cmUifSwgeyJnZW9tZXRyeSI6IHsiY29vcmRpbmF0ZXMiOiBbW1sxMy44MDY0NzUsIDQ2LjUwOTMwNl0sIFsxNC42MzI0NzIsIDQ2LjQzMTgxN10sIFsxNS4xMzcwOTIsIDQ2LjY1ODcwM10sIFsxNi4wMTE2NjQsIDQ2LjY4MzYxMV0sIFsxNi4yMDIyOTgsIDQ2Ljg1MjM4Nl0sIFsxNi4zNzA1MDUsIDQ2Ljg0MTMyN10sIFsxNi41NjQ4MDgsIDQ2LjUwMzc1MV0sIFsxNS43Njg3MzMsIDQ2LjIzODEwOF0sIFsxNS42NzE1MywgNDUuODM0MTU0XSwgWzE1LjMyMzk1NCwgNDUuNzMxNzgzXSwgWzE1LjMyNzY3NSwgNDUuNDUyMzE2XSwgWzE0LjkzNTI0NCwgNDUuNDcxNjk1XSwgWzE0LjU5NTEwOSwgNDUuNjM0OTQxXSwgWzE0LjQxMTk2OCwgNDUuNDY2MTY2XSwgWzEzLjcxNTA2LCA0NS41MDAzMjRdLCBbMTMuOTM3NjMsIDQ1LjU5MTAxNl0sIFsxMy42OTgxMSwgNDYuMDE2Nzc4XSwgWzEzLjgwNjQ3NSwgNDYuNTA5MzA2XV1dLCAidHlwZSI6ICJQb2x5Z29uIn0sICJpZCI6ICJTVk4iLCAicHJvcGVydGllcyI6IHsiaGlnaGxpZ2h0Ijoge30sICJuYW1lIjogIlNsb3ZlbmlhIiwgInN0eWxlIjogeyJjb2xvciI6ICJncmF5IiwgImRhc2hBcnJheSI6ICIxLCAxIiwgImZpbGxDb2xvciI6ICIjMDAwMDAwIiwgImxpbmVPcGFjaXR5IjogMC45LCAid2VpZ2h0IjogMX19LCAidHlwZSI6ICJGZWF0dXJlIn0sIHsiZ2VvbWV0cnkiOiB7ImNvb3JkaW5hdGVzIjogW1tbWzIyLjE4MzE3MywgNjUuNzIzNzQxXSwgWzIxLjIxMzUxNywgNjUuMDI2MDA1XSwgWzIxLjM2OTYzMSwgNjQuNDEzNTg4XSwgWzE5Ljc3ODg3NiwgNjMuNjA5NTU0XSwgWzE3Ljg0Nzc3OSwgNjIuNzQ5NF0sIFsxNy4xMTk1NTUsIDYxLjM0MTE2Nl0sIFsxNy44MzEzNDYsIDYwLjYzNjU4M10sIFsxOC43ODc3MjIsIDYwLjA4MTkxNF0sIFsxNy44NjkyMjUsIDU4Ljk1Mzc2Nl0sIFsxNi44MjkxODUsIDU4LjcxOTgyN10sIFsxNi40NDc3MSwgNTcuMDQxMTE4XSwgWzE1Ljg3OTc4NiwgNTYuMTA0MzAyXSwgWzE0LjY2NjY4MSwgNTYuMjAwODg1XSwgWzE0LjEwMDcyMSwgNTUuNDA3NzgxXSwgWzEyLjk0MjkxMSwgNTUuMzYxNzM3XSwgWzEyLjYyNTEwMSwgNTYuMzA3MDhdLCBbMTEuNzg3OTQyLCA1Ny40NDE4MTddLCBbMTEuMDI3MzY5LCA1OC44NTYxNDldLCBbMTEuNDY4MjcyLCA1OS40MzIzOTNdLCBbMTIuMzAwMzY2LCA2MC4xMTc5MzNdLCBbMTIuNjMxMTQ3LCA2MS4yOTM1NzJdLCBbMTEuOTkyMDY0LCA2MS44MDAzNjJdLCBbMTEuOTMwNTY5LCA2My4xMjgzMThdLCBbMTIuNTc5OTM1LCA2NC4wNjYyMTldLCBbMTMuNTcxOTE2LCA2NC4wNDkxMTRdLCBbMTMuOTE5OTA1LCA2NC40NDU0MjFdLCBbMTMuNTU1NjksIDY0Ljc4NzAyOF0sIFsxNS4xMDg0MTEsIDY2LjE5Mzg2N10sIFsxNi4xMDg3MTIsIDY3LjMwMjQ1Nl0sIFsxNi43Njg4NzksIDY4LjAxMzkzN10sIFsxNy43MjkxODIsIDY4LjAxMDU1Ml0sIFsxNy45OTM4NjgsIDY4LjU2NzM5MV0sIFsxOS44Nzg1NiwgNjguNDA3MTk0XSwgWzIwLjAyNTI2OSwgNjkuMDY1MTM5XSwgWzIwLjY0NTU5MywgNjkuMTA2MjQ3XSwgWzIxLjk3ODUzNSwgNjguNjE2ODQ2XSwgWzIzLjUzOTQ3MywgNjcuOTM2MDA5XSwgWzIzLjU2NTg4LCA2Ni4zOTYwNTFdLCBbMjMuOTAzMzc5LCA2Ni4wMDY5MjddLCBbMjIuMTgzMTczLCA2NS43MjM3NDFdXSwgW1sxNy4wNjE3NjcsIDU3LjM4NTc4M10sIFsxNy4yMTAwODMsIDU3LjMyNjUyMV0sIFsxNi40MzAwNTMsIDU2LjE3OTE5Nl0sIFsxNi4zNjQxMzUsIDU2LjU1NjQ1NV0sIFsxNy4wNjE3NjcsIDU3LjM4NTc4M11dLCBbWzE5LjM1NzkxLCA1Ny45NTg1ODhdLCBbMTguODAzMSwgNTcuNjUxMjc5XSwgWzE4LjgyNTA3MywgNTcuNDQ0OTQ5XSwgWzE4Ljk5NTM2MSwgNTcuNDQxOTkzXSwgWzE4Ljk1MTQxNiwgNTcuMzcwOTc2XSwgWzE4LjY5MzIzNywgNTcuMzA1NzU2XSwgWzE4LjcwOTcxNiwgNTcuMjA0NzM0XSwgWzE4LjQ2MjUyNCwgNTcuMTI3Mjk1XSwgWzE4LjMxOTcwMiwgNTYuOTI2OTkyXSwgWzE4LjEwNTQ2OCwgNTYuODkxMDAzXSwgWzE4LjE4Nzg2NiwgNTcuMTA5NDAyXSwgWzE4LjA3MjUwOSwgNTcuMjY3MTYzXSwgWzE4LjE1NDkwNywgNTcuMzk0NjY0XSwgWzE4LjA5NDQ4MiwgNTcuNTQ1MzEyXSwgWzE4LjY2MDI3OCwgNTcuOTI5NDM0XSwgWzE5LjAzOTMwNiwgNTcuOTQxMDk4XSwgWzE5LjEwNTIyNCwgNTcuOTkzNTQzXSwgWzE5LjM3NDM4OSwgNTcuOTk2NDU0XSwgWzE5LjM1NzkxLCA1Ny45NTg1ODhdXSwgW1syMC44NDY1NTcsIDYzLjgyMzcxXSwgWzIxLjA2NjI4NCwgNjMuODI5NzY4XSwgWzIwLjk3MjksIDYzLjcxNTY3XSwgWzIwLjgyNDU4NCwgNjMuNTc5MTIxXSwgWzIwLjY5NTQ5NSwgNjMuNTkxMzRdLCBbMjAuODE5MDkxLCA2My43MTQ0NTRdLCBbMjAuNzk5ODY1LCA2My43ODAwNTldLCBbMjAuODQ2NTU3LCA2My44MjM3MV1dXV0sICJ0eXBlIjogIk11bHRpUG9seWdvbiJ9LCAiaWQiOiAiU1dFIiwgInByb3BlcnRpZXMiOiB7ImhpZ2hsaWdodCI6IHt9LCAibmFtZSI6ICJTd2VkZW4iLCAic3R5bGUiOiB7ImNvbG9yIjogImdyYXkiLCAiZGFzaEFycmF5IjogIjEsIDEiLCAiZmlsbENvbG9yIjogIiMwMDAwMDAiLCAibGluZU9wYWNpdHkiOiAwLjksICJ3ZWlnaHQiOiAxfX0sICJ0eXBlIjogIkZlYXR1cmUifSwgeyJnZW9tZXRyeSI6IHsiY29vcmRpbmF0ZXMiOiBbW1szMi4wNzE2NjUsIC0yNi43MzM4Ml0sIFszMS44NjgwNiwgLTI3LjE3NzkyN10sIFszMS4yODI3NzMsIC0yNy4yODU4NzldLCBbMzAuNjg1OTYyLCAtMjYuNzQzODQ1XSwgWzMwLjY3NjYwOSwgLTI2LjM5ODA3OF0sIFszMC45NDk2NjcsIC0yNi4wMjI2NDldLCBbMzEuMDQ0MDgsIC0yNS43MzE0NTJdLCBbMzEuMzMzMTU4LCAtMjUuNjYwMTkxXSwgWzMxLjgzNzc3OCwgLTI1Ljg0MzMzMl0sIFszMS45ODU3NzksIC0yNi4yOTE3OF0sIFszMi4wNzE2NjUsIC0yNi43MzM4Ml1dXSwgInR5cGUiOiAiUG9seWdvbiJ9LCAiaWQiOiAiU1daIiwgInByb3BlcnRpZXMiOiB7ImhpZ2hsaWdodCI6IHt9LCAibmFtZSI6ICJTd2F6aWxhbmQiLCAic3R5bGUiOiB7ImNvbG9yIjogImdyYXkiLCAiZGFzaEFycmF5IjogIjEsIDEiLCAiZmlsbENvbG9yIjogIiMwMDAwMDAiLCAibGluZU9wYWNpdHkiOiAwLjksICJ3ZWlnaHQiOiAxfX0sICJ0eXBlIjogIkZlYXR1cmUifSwgeyJnZW9tZXRyeSI6IHsiY29vcmRpbmF0ZXMiOiBbW1szOC43OTIzNDEsIDMzLjM3ODY4Nl0sIFszNi44MzQwNjIsIDMyLjMxMjkzOF0sIFszNS43MTk5MTgsIDMyLjcwOTE5Ml0sIFszNS43MDA3OTgsIDMyLjcxNjAxNF0sIFszNS44MzYzOTcsIDMyLjg2ODEyM10sIFszNS44MjExMDEsIDMzLjI3NzQyNl0sIFszNi4wNjY0NiwgMzMuODI0OTEyXSwgWzM2LjYxMTc1LCAzNC4yMDE3ODldLCBbMzYuNDQ4MTk0LCAzNC41OTM5MzVdLCBbMzUuOTk4NDAzLCAzNC42NDQ5MTRdLCBbMzUuOTA1MDIzLCAzNS40MTAwMDldLCBbMzYuMTQ5NzYzLCAzNS44MjE1MzVdLCBbMzYuNDE3NTUsIDM2LjA0MDYxN10sIFszNi42ODUzODksIDM2LjI1OTY5OV0sIFszNi43Mzk0OTQsIDM2LjgxNzUyXSwgWzM3LjA2Njc2MSwgMzYuNjIzMDM2XSwgWzM4LjE2NzcyNywgMzYuOTAxMjFdLCBbMzguNjk5ODkxLCAzNi43MTI5MjddLCBbMzkuNTIyNTgsIDM2LjcxNjA1NF0sIFs0MC42NzMyNTksIDM3LjA5MTI3Nl0sIFs0MS4yMTIwODksIDM3LjA3NDM1Ml0sIFs0Mi4zNDk1OTEsIDM3LjIyOTg3M10sIFs0MS44MzcwNjQsIDM2LjYwNTg1NF0sIFs0MS4yODk3MDcsIDM2LjM1ODgxNV0sIFs0MS4zODM5NjUsIDM1LjYyODMxN10sIFs0MS4wMDYxNTksIDM0LjQxOTM3Ml0sIFszOC43OTIzNDEsIDMzLjM3ODY4Nl1dXSwgInR5cGUiOiAiUG9seWdvbiJ9LCAiaWQiOiAiU1lSIiwgInByb3BlcnRpZXMiOiB7ImhpZ2hsaWdodCI6IHt9LCAibmFtZSI6ICJTeXJpYSIsICJzdHlsZSI6IHsiY29sb3IiOiAiZ3JheSIsICJkYXNoQXJyYXkiOiAiMSwgMSIsICJmaWxsQ29sb3IiOiAiIzAwMDAwMCIsICJsaW5lT3BhY2l0eSI6IDAuOSwgIndlaWdodCI6IDF9fSwgInR5cGUiOiAiRmVhdHVyZSJ9LCB7Imdlb21ldHJ5IjogeyJjb29yZGluYXRlcyI6IFtbWzE0LjQ5NTc4NywgMTIuODU5Mzk2XSwgWzE0LjU5NTc4MSwgMTMuMzMwNDI3XSwgWzEzLjk1NDQ3NywgMTMuMzUzNDQ5XSwgWzEzLjk1NjY5OSwgMTMuOTk2NjkxXSwgWzEzLjU0MDM5NCwgMTQuMzY3MTM0XSwgWzEzLjk3MjE3LCAxNS42ODQzN10sIFsxNS4yNDc3MzEsIDE2LjYyNzMwNl0sIFsxNS4zMDA0NDEsIDE3LjkyNzk1XSwgWzE1LjY4NTc0MSwgMTkuOTU3MThdLCBbMTUuOTAzMjQ3LCAyMC4zODc2MTldLCBbMTUuNDg3MTQ4LCAyMC43MzA0MTVdLCBbMTUuNDcxMDYsIDIxLjA0ODQ1XSwgWzE1LjA5Njg4OCwgMjEuMzA4NTE5XSwgWzE0Ljg1MTMsIDIyLjg2Mjk1XSwgWzE1Ljg2MDg1LCAyMy40MDk3Ml0sIFsxOS44NDkyNiwgMjEuNDk1MDldLCBbMjMuODM3NjYsIDE5LjU4MDQ3XSwgWzIzLjg4Njg5LCAxNS42MTA4NF0sIFsyMy4wMjQ1OSwgMTUuNjgwNzJdLCBbMjIuNTY3OTUsIDE0Ljk0NDI5XSwgWzIyLjMwMzUxLCAxNC4zMjY4Ml0sIFsyMi41MTIwMiwgMTQuMDkzMThdLCBbMjIuMTgzMjksIDEzLjc4NjQ4XSwgWzIyLjI5NjU4LCAxMy4zNzIzMl0sIFsyMi4wMzc1OSwgMTIuOTU1NDZdLCBbMjEuOTM2ODEsIDEyLjU4ODE4XSwgWzIyLjI4ODAxLCAxMi42NDYwNV0sIFsyMi40OTc2MiwgMTIuMjYwMjRdLCBbMjIuNTA4NjksIDExLjY3OTM2XSwgWzIyLjg3NjIyLCAxMS4zODQ2MV0sIFsyMi44NjQxNjUsIDExLjE0MjM5NV0sIFsyMi4yMzExMjksIDEwLjk3MTg4OV0sIFsyMS43MjM4MjIsIDEwLjU2NzA1Nl0sIFsyMS4wMDA4NjgsIDkuNDc1OTg1XSwgWzIwLjA1OTY4NSwgOS4wMTI3MDZdLCBbMTkuMDk0MDA4LCA5LjA3NDg0N10sIFsxOC44MTIwMSwgOC45ODI5MTVdLCBbMTguOTExMDIyLCA4LjYzMDg5NV0sIFsxOC4zODk1NTUsIDguMjgxMzA0XSwgWzE3Ljk2NDkzLCA3Ljg5MDkxNF0sIFsxNi43MDU5ODgsIDcuNTA4MzI4XSwgWzE2LjQ1NjE4NSwgNy43MzQ3NzRdLCBbMTYuMjkwNTYyLCA3Ljc1NDMwN10sIFsxNi4xMDYyMzIsIDcuNDk3MDg4XSwgWzE1LjI3OTQ2LCA3LjQyMTkyNV0sIFsxNS40MzYwOTIsIDcuNjkyODEyXSwgWzE1LjEyMDg2NiwgOC4zODIxNV0sIFsxNC45Nzk5OTYsIDguNzk2MTA0XSwgWzE0LjU0NDQ2NywgOC45NjU4NjFdLCBbMTMuOTU0MjE4LCA5LjU0OTQ5NV0sIFsxNC4xNzE0NjYsIDEwLjAyMTM3OF0sIFsxNC42MjcyMDEsIDkuOTIwOTE5XSwgWzE0LjkwOTM1NCwgOS45OTIxMjldLCBbMTUuNDY3ODczLCA5Ljk4MjMzN10sIFsxNC45MjM1NjUsIDEwLjg5MTMyNV0sIFsxNC45NjAxNTIsIDExLjU1NTU3NF0sIFsxNC44OTMzNiwgMTIuMjE5MDVdLCBbMTQuNDk1Nzg3LCAxMi44NTkzOTZdXV0sICJ0eXBlIjogIlBvbHlnb24ifSwgImlkIjogIlRDRCIsICJwcm9wZXJ0aWVzIjogeyJoaWdobGlnaHQiOiB7fSwgIm5hbWUiOiAiQ2hhZCIsICJzdHlsZSI6IHsiY29sb3IiOiAiZ3JheSIsICJkYXNoQXJyYXkiOiAiMSwgMSIsICJmaWxsQ29sb3IiOiAiIzAwMDAwMCIsICJsaW5lT3BhY2l0eSI6IDAuOSwgIndlaWdodCI6IDF9fSwgInR5cGUiOiAiRmVhdHVyZSJ9LCB7Imdlb21ldHJ5IjogeyJjb29yZGluYXRlcyI6IFtbWzEuODY1MjQxLCA2LjE0MjE1OF0sIFsxLjA2MDEyMiwgNS45Mjg4MzddLCBbMC44MzY5MzEsIDYuMjc5OTc5XSwgWzAuNTcwMzg0LCA2LjkxNDM1OV0sIFswLjQ5MDk1NywgNy40MTE3NDRdLCBbMC43MTIwMjksIDguMzEyNDY1XSwgWzAuNDYxMTkyLCA4LjY3NzIyM10sIFswLjM2NTkwMSwgOS40NjUwMDRdLCBbMC4zNjc1OCwgMTAuMTkxMjEzXSwgWy0wLjA0OTc4NSwgMTAuNzA2OTE4XSwgWzAuMDIzODAzLCAxMS4wMTg2ODJdLCBbMC44OTk1NjMsIDEwLjk5NzMzOV0sIFswLjc3MjMzNiwgMTAuNDcwODA4XSwgWzEuMDc3Nzk1LCAxMC4xNzU2MDddLCBbMS40MjUwNjEsIDkuODI1Mzk1XSwgWzEuNDYzMDQzLCA5LjMzNDYyNF0sIFsxLjY2NDQ3OCwgOS4xMjg1OV0sIFsxLjYxODk1MSwgNi44MzIwMzhdLCBbMS44NjUyNDEsIDYuMTQyMTU4XV1dLCAidHlwZSI6ICJQb2x5Z29uIn0sICJpZCI6ICJUR08iLCAicHJvcGVydGllcyI6IHsiaGlnaGxpZ2h0Ijoge30sICJuYW1lIjogIlRvZ28iLCAic3R5bGUiOiB7ImNvbG9yIjogImdyYXkiLCAiZGFzaEFycmF5IjogIjEsIDEiLCAiZmlsbENvbG9yIjogIiMwMDAwMDAiLCAibGluZU9wYWNpdHkiOiAwLjksICJ3ZWlnaHQiOiAxfX0sICJ0eXBlIjogIkZlYXR1cmUifSwgeyJnZW9tZXRyeSI6IHsiY29vcmRpbmF0ZXMiOiBbW1sxMDIuNTg0OTMyLCAxMi4xODY1OTVdLCBbMTAxLjY4NzE1OCwgMTIuNjQ1NzRdLCBbMTAwLjgzMTgxLCAxMi42MjcwODVdLCBbMTAwLjk3ODQ2NywgMTMuNDEyNzIyXSwgWzEwMC4wOTc3OTcsIDEzLjQwNjg1Nl0sIFsxMDAuMDE4NzMzLCAxMi4zMDcwMDFdLCBbOTkuNDc4OTIxLCAxMC44NDYzNjddLCBbOTkuMTUzNzcyLCA5Ljk2MzA2MV0sIFs5OS4yMjIzOTksIDkuMjM5MjU1XSwgWzk5Ljg3MzgzMiwgOS4yMDc4NjJdLCBbMTAwLjI3OTY0NywgOC4yOTUxNTNdLCBbMTAwLjQ1OTI3NCwgNy40Mjk1NzNdLCBbMTAxLjAxNzMyOCwgNi44NTY4NjldLCBbMTAxLjYyMzA3OSwgNi43NDA2MjJdLCBbMTAyLjE0MTE4NywgNi4yMjE2MzZdLCBbMTAxLjgxNDI4MiwgNS44MTA4MDhdLCBbMTAxLjE1NDIxOSwgNS42OTEzODRdLCBbMTAxLjA3NTUxNiwgNi4yMDQ4NjddLCBbMTAwLjI1OTU5NiwgNi42NDI4MjVdLCBbMTAwLjA4NTc1NywgNi40NjQ0ODldLCBbOTkuNjkwNjkxLCA2Ljg0ODIxM10sIFs5OS41MTk2NDIsIDcuMzQzNDU0XSwgWzk4Ljk4ODI1MywgNy45MDc5OTNdLCBbOTguNTAzNzg2LCA4LjM4MjMwNV0sIFs5OC4zMzk2NjIsIDcuNzk0NTEyXSwgWzk4LjE1MDAwOSwgOC4zNTAwMDddLCBbOTguMjU5MTUsIDguOTczOTIzXSwgWzk4LjU1MzU1MSwgOS45MzI5Nl0sIFs5OS4wMzgxMjEsIDEwLjk2MDU0Nl0sIFs5OS41ODcyODYsIDExLjg5Mjc2M10sIFs5OS4xOTYzNTQsIDEyLjgwNDc0OF0sIFs5OS4yMTIwMTIsIDEzLjI2OTI5NF0sIFs5OS4wOTc3NTUsIDEzLjgyNzUwM10sIFs5OC40MzA4MTksIDE0LjYyMjAyOF0sIFs5OC4xOTIwNzQsIDE1LjEyMzcwM10sIFs5OC41MzczNzYsIDE1LjMwODQ5N10sIFs5OC45MDMzNDgsIDE2LjE3NzgyNF0sIFs5OC40OTM3NjEsIDE2LjgzNzgzNl0sIFs5Ny44NTkxMjMsIDE3LjU2Nzk0Nl0sIFs5Ny4zNzU4OTYsIDE4LjQ0NTQzOF0sIFs5Ny43OTc3ODMsIDE4LjYyNzA4XSwgWzk4LjI1MzcyNCwgMTkuNzA4MjAzXSwgWzk4Ljk1OTY3NiwgMTkuNzUyOTgxXSwgWzk5LjU0MzMwOSwgMjAuMTg2NTk4XSwgWzEwMC4xMTU5ODgsIDIwLjQxNzg1XSwgWzEwMC41NDg4ODEsIDIwLjEwOTIzOF0sIFsxMDAuNjA2Mjk0LCAxOS41MDgzNDRdLCBbMTAxLjI4MjAxNSwgMTkuNDYyNTg1XSwgWzEwMS4wMzU5MzEsIDE4LjQwODkyOF0sIFsxMDEuMDU5NTQ4LCAxNy41MTI0OTddLCBbMTAyLjExMzU5MiwgMTguMTA5MTAyXSwgWzEwMi40MTMwMDUsIDE3LjkzMjc4Ml0sIFsxMDIuOTk4NzA2LCAxNy45NjE2OTVdLCBbMTAzLjIwMDE5MiwgMTguMzA5NjMyXSwgWzEwMy45NTY0NzcsIDE4LjI0MDk1NF0sIFsxMDQuNzE2OTQ3LCAxNy40Mjg4NTldLCBbMTA0Ljc3OTMyMSwgMTYuNDQxODY1XSwgWzEwNS41ODkwMzksIDE1LjU3MDMxNl0sIFsxMDUuNTQ0MzM4LCAxNC43MjM5MzRdLCBbMTA1LjIxODc3NywgMTQuMjczMjEyXSwgWzEwNC4yODE0MTgsIDE0LjQxNjc0M10sIFsxMDIuOTg4NDIyLCAxNC4yMjU3MjFdLCBbMTAyLjM0ODA5OSwgMTMuMzk0MjQ3XSwgWzEwMi41ODQ5MzIsIDEyLjE4NjU5NV1dXSwgInR5cGUiOiAiUG9seWdvbiJ9LCAiaWQiOiAiVEhBIiwgInByb3BlcnRpZXMiOiB7ImhpZ2hsaWdodCI6IHt9LCAibmFtZSI6ICJUaGFpbGFuZCIsICJzdHlsZSI6IHsiY29sb3IiOiAiZ3JheSIsICJkYXNoQXJyYXkiOiAiMSwgMSIsICJmaWxsQ29sb3IiOiAiIzAwMDAwMCIsICJsaW5lT3BhY2l0eSI6IDAuOSwgIndlaWdodCI6IDF9fSwgInR5cGUiOiAiRmVhdHVyZSJ9LCB7Imdlb21ldHJ5IjogeyJjb29yZGluYXRlcyI6IFtbWzcxLjAxNDE5OCwgNDAuMjQ0MzY2XSwgWzcwLjY0ODAxOSwgMzkuOTM1NzU0XSwgWzY5LjU1OTYxLCA0MC4xMDMyMTFdLCBbNjkuNDY0ODg3LCAzOS41MjY2ODNdLCBbNzAuNTQ5MTYyLCAzOS42MDQxOThdLCBbNzEuNzg0Njk0LCAzOS4yNzk0NjNdLCBbNzMuNjc1Mzc5LCAzOS40MzEyMzddLCBbNzMuOTI4ODUyLCAzOC41MDU4MTVdLCBbNzQuMjU3NTE0LCAzOC42MDY1MDddLCBbNzQuODY0ODE2LCAzOC4zNzg4NDZdLCBbNzQuODI5OTg2LCAzNy45OTAwMDddLCBbNzQuOTgwMDAyLCAzNy40MTk5OV0sIFs3My45NDg2OTYsIDM3LjQyMTU2Nl0sIFs3My4yNjAwNTYsIDM3LjQ5NTI1N10sIFs3Mi42MzY4OSwgMzcuMDQ3NTU4XSwgWzcyLjE5MzA0MSwgMzYuOTQ4Mjg4XSwgWzcxLjg0NDYzOCwgMzYuNzM4MTcxXSwgWzcxLjQ0ODY5MywgMzcuMDY1NjQ1XSwgWzcxLjU0MTkxOCwgMzcuOTA1Nzc0XSwgWzcxLjIzOTQwNCwgMzcuOTUzMjY1XSwgWzcxLjM0ODEzMSwgMzguMjU4OTA1XSwgWzcwLjgwNjgyMSwgMzguNDg2MjgyXSwgWzcwLjM3NjMwNCwgMzguMTM4Mzk2XSwgWzcwLjI3MDU3NCwgMzcuNzM1MTY1XSwgWzcwLjExNjU3OCwgMzcuNTg4MjIzXSwgWzY5LjUxODc4NSwgMzcuNjA4OTk3XSwgWzY5LjE5NjI3MywgMzcuMTUxMTQ0XSwgWzY4Ljg1OTQ0NiwgMzcuMzQ0MzM2XSwgWzY4LjEzNTU2MiwgMzcuMDIzMTE1XSwgWzY3LjgzLCAzNy4xNDQ5OTRdLCBbNjguMzkyMDMzLCAzOC4xNTcwMjVdLCBbNjguMTc2MDI1LCAzOC45MDE1NTNdLCBbNjcuNDQyMjIsIDM5LjE0MDE0NF0sIFs2Ny43MDE0MjksIDM5LjU4MDQ3OF0sIFs2OC41MzY0MTYsIDM5LjUzMzQ1M10sIFs2OS4wMTE2MzMsIDQwLjA4NjE1OF0sIFs2OS4zMjk0OTUsIDQwLjcyNzgyNF0sIFs3MC42NjY2MjIsIDQwLjk2MDIxM10sIFs3MC40NTgxNiwgNDAuNDk2NDk1XSwgWzcwLjYwMTQwNywgNDAuMjE4NTI3XSwgWzcxLjAxNDE5OCwgNDAuMjQ0MzY2XV1dLCAidHlwZSI6ICJQb2x5Z29uIn0sICJpZCI6ICJUSksiLCAicHJvcGVydGllcyI6IHsiaGlnaGxpZ2h0Ijoge30sICJuYW1lIjogIlRhamlraXN0YW4iLCAic3R5bGUiOiB7ImNvbG9yIjogImdyYXkiLCAiZGFzaEFycmF5IjogIjEsIDEiLCAiZmlsbENvbG9yIjogIiMwMDAwMDAiLCAibGluZU9wYWNpdHkiOiAwLjksICJ3ZWlnaHQiOiAxfX0sICJ0eXBlIjogIkZlYXR1cmUifSwgeyJnZW9tZXRyeSI6IHsiY29vcmRpbmF0ZXMiOiBbW1s2MS4yMTA4MTcsIDM1LjY1MDA3Ml0sIFs2MS4xMjMwNzEsIDM2LjQ5MTU5N10sIFs2MC4zNzc2MzgsIDM2LjUyNzM4M10sIFs1OS4yMzQ3NjIsIDM3LjQxMjk4OF0sIFs1OC40MzYxNTQsIDM3LjUyMjMwOV0sIFs1Ny4zMzA0MzQsIDM4LjAyOTIyOV0sIFs1Ni42MTkzNjYsIDM4LjEyMTM5NF0sIFs1Ni4xODAzNzUsIDM3LjkzNTEyN10sIFs1NS41MTE1NzgsIDM3Ljk2NDExN10sIFs1NC44MDAzMDQsIDM3LjM5MjQyMV0sIFs1My45MjE1OTgsIDM3LjE5ODkxOF0sIFs1My43MzU1MTEsIDM3LjkwNjEzNl0sIFs1My44ODA5MjksIDM4Ljk1MjA5M10sIFs1My4xMDEwMjgsIDM5LjI5MDU3NF0sIFs1My4zNTc4MDgsIDM5Ljk3NTI4Nl0sIFs1Mi42OTM5NzMsIDQwLjAzMzYyOV0sIFs1Mi45MTUyNTEsIDQwLjg3NjUyM10sIFs1My44NTgxMzksIDQwLjYzMTAzNF0sIFs1NC43MzY4NDUsIDQwLjk1MTAxNV0sIFs1NC4wMDgzMTEsIDQxLjU1MTIxMV0sIFs1My43MjE3MTMsIDQyLjEyMzE5MV0sIFs1Mi45MTY3NSwgNDEuODY4MTE3XSwgWzUyLjgxNDY4OSwgNDEuMTM1MzcxXSwgWzUyLjUwMjQ2LCA0MS43ODMzMTZdLCBbNTIuOTQ0MjkzLCA0Mi4xMTYwMzRdLCBbNTQuMDc5NDE4LCA0Mi4zMjQxMDldLCBbNTQuNzU1MzQ1LCA0Mi4wNDM5NzFdLCBbNTUuNDU1MjUxLCA0MS4yNTk4NTldLCBbNTUuOTY4MTkxLCA0MS4zMDg2NDJdLCBbNTcuMDk2MzkxLCA0MS4zMjIzMV0sIFs1Ni45MzIyMTUsIDQxLjgyNjAyNl0sIFs1Ny43ODY1MywgNDIuMTcwNTUzXSwgWzU4LjYyOTAxMSwgNDIuNzUxNTUxXSwgWzU5Ljk3NjQyMiwgNDIuMjIzMDgyXSwgWzYwLjA4MzM0MSwgNDEuNDI1MTQ2XSwgWzYwLjQ2NTk1MywgNDEuMjIwMzI3XSwgWzYxLjU0NzE3OSwgNDEuMjY2MzddLCBbNjEuODgyNzE0LCA0MS4wODQ4NTddLCBbNjIuMzc0MjYsIDQwLjA1Mzg4Nl0sIFs2My41MTgwMTUsIDM5LjM2MzI1N10sIFs2NC4xNzAyMjMsIDM4Ljg5MjQwN10sIFs2NS4yMTU5OTksIDM4LjQwMjY5NV0sIFs2Ni41NDYxNSwgMzcuOTc0Njg1XSwgWzY2LjUxODYwNywgMzcuMzYyNzg0XSwgWzY2LjIxNzM4NSwgMzcuMzkzNzldLCBbNjUuNzQ1NjMxLCAzNy42NjExNjRdLCBbNjUuNTg4OTQ4LCAzNy4zMDUyMTddLCBbNjQuNzQ2MTA1LCAzNy4xMTE4MThdLCBbNjQuNTQ2NDc5LCAzNi4zMTIwNzNdLCBbNjMuOTgyODk2LCAzNi4wMDc5NTddLCBbNjMuMTkzNTM4LCAzNS44NTcxNjZdLCBbNjIuOTg0NjYyLCAzNS40MDQwNDFdLCBbNjIuMjMwNjUxLCAzNS4yNzA2NjRdLCBbNjEuMjEwODE3LCAzNS42NTAwNzJdXV0sICJ0eXBlIjogIlBvbHlnb24ifSwgImlkIjogIlRLTSIsICJwcm9wZXJ0aWVzIjogeyJoaWdobGlnaHQiOiB7fSwgIm5hbWUiOiAiVHVya21lbmlzdGFuIiwgInN0eWxlIjogeyJjb2xvciI6ICJncmF5IiwgImRhc2hBcnJheSI6ICIxLCAxIiwgImZpbGxDb2xvciI6ICIjMDAwMDAwIiwgImxpbmVPcGFjaXR5IjogMC45LCAid2VpZ2h0IjogMX19LCAidHlwZSI6ICJGZWF0dXJlIn0sIHsiZ2VvbWV0cnkiOiB7ImNvb3JkaW5hdGVzIjogW1tbMTI0Ljk2ODY4MiwgLTguODkyNzldLCBbMTI1LjA4NjI0NiwgLTguNjU2ODg3XSwgWzEyNS45NDcwNzIsIC04LjQzMjA5NV0sIFsxMjYuNjQ0NzA0LCAtOC4zOTgyNDddLCBbMTI2Ljk1NzI0MywgLTguMjczMzQ1XSwgWzEyNy4zMzU5MjgsIC04LjM5NzMxN10sIFsxMjYuOTY3OTkyLCAtOC42NjgyNTZdLCBbMTI1LjkyNTg4NSwgLTkuMTA2MDA3XSwgWzEyNS4wODg1MiwgLTkuMzkzMTczXSwgWzEyNS4wNzAwMiwgLTkuMDg5OTg3XSwgWzEyNC45Njg2ODIsIC04Ljg5Mjc5XV1dLCAidHlwZSI6ICJQb2x5Z29uIn0sICJpZCI6ICJUTFMiLCAicHJvcGVydGllcyI6IHsiaGlnaGxpZ2h0Ijoge30sICJuYW1lIjogIkVhc3QgVGltb3IiLCAic3R5bGUiOiB7ImNvbG9yIjogImdyYXkiLCAiZGFzaEFycmF5IjogIjEsIDEiLCAiZmlsbENvbG9yIjogIiMwMDAwMDAiLCAibGluZU9wYWNpdHkiOiAwLjksICJ3ZWlnaHQiOiAxfX0sICJ0eXBlIjogIkZlYXR1cmUifSwgeyJnZW9tZXRyeSI6IHsiY29vcmRpbmF0ZXMiOiBbW1stNjEuNjgsIDEwLjc2XSwgWy02MS4xMDUsIDEwLjg5XSwgWy02MC44OTUsIDEwLjg1NV0sIFstNjAuOTM1LCAxMC4xMV0sIFstNjEuNzcsIDEwXSwgWy02MS45NSwgMTAuMDldLCBbLTYxLjY2LCAxMC4zNjVdLCBbLTYxLjY4LCAxMC43Nl1dXSwgInR5cGUiOiAiUG9seWdvbiJ9LCAiaWQiOiAiVFRPIiwgInByb3BlcnRpZXMiOiB7ImhpZ2hsaWdodCI6IHt9LCAibmFtZSI6ICJUcmluaWRhZCBhbmQgVG9iYWdvIiwgInN0eWxlIjogeyJjb2xvciI6ICJncmF5IiwgImRhc2hBcnJheSI6ICIxLCAxIiwgImZpbGxDb2xvciI6ICIjMDAwMDAwIiwgImxpbmVPcGFjaXR5IjogMC45LCAid2VpZ2h0IjogMX19LCAidHlwZSI6ICJGZWF0dXJlIn0sIHsiZ2VvbWV0cnkiOiB7ImNvb3JkaW5hdGVzIjogW1tbOS40ODIxNCwgMzAuMzA3NTU2XSwgWzkuMDU1NjAzLCAzMi4xMDI2OTJdLCBbOC40MzkxMDMsIDMyLjUwNjI4NV0sIFs4LjQzMDQ3MywgMzIuNzQ4MzM3XSwgWzcuNjEyNjQyLCAzMy4zNDQxMTVdLCBbNy41MjQ0ODIsIDM0LjA5NzM3Nl0sIFs4LjE0MDk4MSwgMzQuNjU1MTQ2XSwgWzguMzc2MzY4LCAzNS40Nzk4NzZdLCBbOC4yMTc4MjQsIDM2LjQzMzE3N10sIFs4LjQyMDk2NCwgMzYuOTQ2NDI3XSwgWzkuNTA5OTk0LCAzNy4zNDk5OTRdLCBbMTAuMjEwMDAyLCAzNy4yMzAwMDJdLCBbMTAuMTgwNjUsIDM2LjcyNDAzOF0sIFsxMS4wMjg4NjcsIDM3LjA5MjEwM10sIFsxMS4xMDAwMjYsIDM2Ljg5OTk5Nl0sIFsxMC42MDAwMDUsIDM2LjQxXSwgWzEwLjU5MzI4NywgMzUuOTQ3NDQ0XSwgWzEwLjkzOTUxOSwgMzUuNjk4OTg0XSwgWzEwLjgwNzg0NywgMzQuODMzNTA3XSwgWzEwLjE0OTU5MywgMzQuMzMwNzczXSwgWzEwLjMzOTY1OSwgMzMuNzg1NzQyXSwgWzEwLjg1NjgzNiwgMzMuNzY4NzRdLCBbMTEuMTA4NTAxLCAzMy4yOTMzNDNdLCBbMTEuNDg4Nzg3LCAzMy4xMzY5OTZdLCBbMTEuNDMyMjUzLCAzMi4zNjg5MDNdLCBbMTAuOTQ0NzksIDMyLjA4MTgxNV0sIFsxMC42MzY5MDEsIDMxLjc2MTQyMV0sIFs5Ljk1MDIyNSwgMzEuMzc2MDddLCBbMTAuMDU2NTc1LCAzMC45NjE4MzFdLCBbOS45NzAwMTcsIDMwLjUzOTMyNV0sIFs5LjQ4MjE0LCAzMC4zMDc1NTZdXV0sICJ0eXBlIjogIlBvbHlnb24ifSwgImlkIjogIlRVTiIsICJwcm9wZXJ0aWVzIjogeyJoaWdobGlnaHQiOiB7fSwgIm5hbWUiOiAiVHVuaXNpYSIsICJzdHlsZSI6IHsiY29sb3IiOiAiZ3JheSIsICJkYXNoQXJyYXkiOiAiMSwgMSIsICJmaWxsQ29sb3IiOiAiIzAwMDAwMCIsICJsaW5lT3BhY2l0eSI6IDAuOSwgIndlaWdodCI6IDF9fSwgInR5cGUiOiAiRmVhdHVyZSJ9LCB7Imdlb21ldHJ5IjogeyJjb29yZGluYXRlcyI6IFtbW1szNi45MTMxMjcsIDQxLjMzNTM1OF0sIFszOC4zNDc2NjUsIDQwLjk0ODU4Nl0sIFszOS41MTI2MDcsIDQxLjEwMjc2M10sIFs0MC4zNzM0MzMsIDQxLjAxMzY3M10sIFs0MS41NTQwODQsIDQxLjUzNTY1Nl0sIFs0Mi42MTk1NDksIDQxLjU4MzE3M10sIFs0My41ODI3NDYsIDQxLjA5MjE0M10sIFs0My43NTI2NTgsIDQwLjc0MDIwMV0sIFs0My42NTY0MzYsIDQwLjI1MzU2NF0sIFs0NC40MDAwMDksIDQwLjAwNV0sIFs0NC43OTM5OSwgMzkuNzEzMDAzXSwgWzQ0LjEwOTIyNSwgMzkuNDI4MTM2XSwgWzQ0LjQyMTQwMywgMzguMjgxMjgxXSwgWzQ0LjIyNTc1NiwgMzcuOTcxNTg0XSwgWzQ0Ljc3MjY5OSwgMzcuMTcwNDQ1XSwgWzQ0LjI5MzQ1MiwgMzcuMDAxNTE0XSwgWzQzLjk0MjI1OSwgMzcuMjU2MjI4XSwgWzQyLjc3OTEyNiwgMzcuMzg1MjY0XSwgWzQyLjM0OTU5MSwgMzcuMjI5ODczXSwgWzQxLjIxMjA4OSwgMzcuMDc0MzUyXSwgWzQwLjY3MzI1OSwgMzcuMDkxMjc2XSwgWzM5LjUyMjU4LCAzNi43MTYwNTRdLCBbMzguNjk5ODkxLCAzNi43MTI5MjddLCBbMzguMTY3NzI3LCAzNi45MDEyMV0sIFszNy4wNjY3NjEsIDM2LjYyMzAzNl0sIFszNi43Mzk0OTQsIDM2LjgxNzUyXSwgWzM2LjY4NTM4OSwgMzYuMjU5Njk5XSwgWzM2LjQxNzU1LCAzNi4wNDA2MTddLCBbMzYuMTQ5NzYzLCAzNS44MjE1MzVdLCBbMzUuNzgyMDg1LCAzNi4yNzQ5OTVdLCBbMzYuMTYwODIyLCAzNi42NTA2MDZdLCBbMzUuNTUwOTM2LCAzNi41NjU0NDNdLCBbMzQuNzE0NTUzLCAzNi43OTU1MzJdLCBbMzQuMDI2ODk1LCAzNi4yMTk5Nl0sIFszMi41MDkxNTgsIDM2LjEwNzU2NF0sIFszMS42OTk1OTUsIDM2LjY0NDI3NV0sIFszMC42MjE2MjUsIDM2LjY3Nzg2NV0sIFszMC4zOTEwOTYsIDM2LjI2Mjk4MV0sIFsyOS42OTk5NzYsIDM2LjE0NDM1N10sIFsyOC43MzI5MDMsIDM2LjY3NjgzMV0sIFsyNy42NDExODcsIDM2LjY1ODgyMl0sIFsyNy4wNDg3NjgsIDM3LjY1MzM2MV0sIFsyNi4zMTgyMTgsIDM4LjIwODEzM10sIFsyNi44MDQ3LCAzOC45ODU3Nl0sIFsyNi4xNzA3ODUsIDM5LjQ2MzYxMl0sIFsyNy4yODAwMiwgNDAuNDIwMDE0XSwgWzI4LjgxOTk3OCwgNDAuNDYwMDExXSwgWzI5LjI0MDAwNCwgNDEuMjE5OTkxXSwgWzMxLjE0NTkzNCwgNDEuMDg3NjIyXSwgWzMyLjM0Nzk3OSwgNDEuNzM2MjY0XSwgWzMzLjUxMzI4MywgNDIuMDE4OTZdLCBbMzUuMTY3NzA0LCA0Mi4wNDAyMjVdLCBbMzYuOTEzMTI3LCA0MS4zMzUzNThdXV0sIFtbWzI3LjE5MjM3NywgNDAuNjkwNTY2XSwgWzI2LjM1ODAwOSwgNDAuMTUxOTk0XSwgWzI2LjA0MzM1MSwgNDAuNjE3NzU0XSwgWzI2LjA1Njk0MiwgNDAuODI0MTIzXSwgWzI2LjI5NDYwMiwgNDAuOTM2MjYxXSwgWzI2LjYwNDE5NiwgNDEuNTYyMTE1XSwgWzI2LjExNzA0MiwgNDEuODI2OTA1XSwgWzI3LjEzNTczOSwgNDIuMTQxNDg1XSwgWzI3Ljk5NjcyLCA0Mi4wMDczNTldLCBbMjguMTE1NTI1LCA0MS42MjI4ODZdLCBbMjguOTg4NDQzLCA0MS4yOTk5MzRdLCBbMjguODA2NDM4LCA0MS4wNTQ5NjJdLCBbMjcuNjE5MDE3LCA0MC45OTk4MjNdLCBbMjcuMTkyMzc3LCA0MC42OTA1NjZdXV1dLCAidHlwZSI6ICJNdWx0aVBvbHlnb24ifSwgImlkIjogIlRVUiIsICJwcm9wZXJ0aWVzIjogeyJoaWdobGlnaHQiOiB7fSwgIm5hbWUiOiAiVHVya2V5IiwgInN0eWxlIjogeyJjb2xvciI6ICJncmF5IiwgImRhc2hBcnJheSI6ICIxLCAxIiwgImZpbGxDb2xvciI6ICIjMDAwMDAwIiwgImxpbmVPcGFjaXR5IjogMC45LCAid2VpZ2h0IjogMX19LCAidHlwZSI6ICJGZWF0dXJlIn0sIHsiZ2VvbWV0cnkiOiB7ImNvb3JkaW5hdGVzIjogW1tbMTIxLjc3NzgxOCwgMjQuMzk0Mjc0XSwgWzEyMS4xNzU2MzIsIDIyLjc5MDg1N10sIFsxMjAuNzQ3MDgsIDIxLjk3MDU3MV0sIFsxMjAuMjIwMDgzLCAyMi44MTQ4NjFdLCBbMTIwLjEwNjE4OSwgMjMuNTU2MjYzXSwgWzEyMC42OTQ2OCwgMjQuNTM4NDUxXSwgWzEyMS40OTUwNDQsIDI1LjI5NTQ1OV0sIFsxMjEuOTUxMjQ0LCAyNC45OTc1OTZdLCBbMTIxLjc3NzgxOCwgMjQuMzk0Mjc0XV1dLCAidHlwZSI6ICJQb2x5Z29uIn0sICJpZCI6ICJUV04iLCAicHJvcGVydGllcyI6IHsiaGlnaGxpZ2h0Ijoge30sICJuYW1lIjogIlRhaXdhbiIsICJzdHlsZSI6IHsiY29sb3IiOiAiZ3JheSIsICJkYXNoQXJyYXkiOiAiMSwgMSIsICJmaWxsQ29sb3IiOiAiIzAwMDAwMCIsICJsaW5lT3BhY2l0eSI6IDAuOSwgIndlaWdodCI6IDF9fSwgInR5cGUiOiAiRmVhdHVyZSJ9LCB7Imdlb21ldHJ5IjogeyJjb29yZGluYXRlcyI6IFtbWzMzLjkwMzcxMSwgLTAuOTVdLCBbMzQuMDcyNjIsIC0xLjA1OTgyXSwgWzM3LjY5ODY5LCAtMy4wOTY5OV0sIFszNy43NjY5LCAtMy42NzcxMl0sIFszOS4yMDIyMiwgLTQuNjc2NzddLCBbMzguNzQwNTQsIC01LjkwODk1XSwgWzM4Ljc5OTc3LCAtNi40NzU2Nl0sIFszOS40NCwgLTYuODRdLCBbMzkuNDcsIC03LjFdLCBbMzkuMTk0NjksIC03LjcwMzldLCBbMzkuMjUyMDMsIC04LjAwNzgxXSwgWzM5LjE4NjUyLCAtOC40ODU1MV0sIFszOS41MzU3NCwgLTkuMTEyMzddLCBbMzkuOTQ5NiwgLTEwLjA5ODRdLCBbNDAuMzE2NTksIC0xMC4zMTcxXSwgWzM5LjUyMSwgLTEwLjg5Njg4XSwgWzM4LjQyNzU1NywgLTExLjI4NTIwMl0sIFszNy44Mjc2NCwgLTExLjI2ODc5XSwgWzM3LjQ3MTI5LCAtMTEuNTY4NzZdLCBbMzYuNzc1MTUxLCAtMTEuNTk0NTM3XSwgWzM2LjUxNDA4MiwgLTExLjcyMDkzOF0sIFszNS4zMTIzOTgsIC0xMS40MzkxNDZdLCBbMzQuNTU5OTg5LCAtMTEuNTIwMDJdLCBbMzQuMjgsIC0xMC4xNl0sIFszMy45NDA4MzgsIC05LjY5MzY3NF0sIFszMy43Mzk3MiwgLTkuNDE3MTVdLCBbMzIuNzU5Mzc1LCAtOS4yMzA1OTldLCBbMzIuMTkxODY1LCAtOC45MzAzNTldLCBbMzEuNTU2MzQ4LCAtOC43NjIwNDldLCBbMzEuMTU3NzUxLCAtOC41OTQ1NzldLCBbMzAuNzQsIC04LjM0XSwgWzMwLjIsIC03LjA4XSwgWzI5LjYyLCAtNi41Ml0sIFsyOS40MTk5OTMsIC01LjkzOTk5OV0sIFsyOS41MTk5ODcsIC01LjQxOTk3OV0sIFsyOS4zMzk5OTgsIC00LjQ5OTk4M10sIFsyOS43NTM1MTIsIC00LjQ1MjM4OV0sIFszMC4xMTYzMiwgLTQuMDkwMTJdLCBbMzAuNTA1NTQsIC0zLjU2ODU4XSwgWzMwLjc1MjI0LCAtMy4zNTkzMV0sIFszMC43NDMwMSwgLTMuMDM0MzFdLCBbMzAuNTI3NjYsIC0yLjgwNzYyXSwgWzMwLjQ2OTY3LCAtMi40MTM4M10sIFszMC43NTgzMDksIC0yLjI4NzI1XSwgWzMwLjgxNjEzNSwgLTEuNjk4OTE0XSwgWzMwLjQxOTEwNSwgLTEuMTM0NjU5XSwgWzMwLjc2OTg2LCAtMS4wMTQ1NV0sIFszMS44NjYxNywgLTEuMDI3MzZdLCBbMzMuOTAzNzExLCAtMC45NV1dXSwgInR5cGUiOiAiUG9seWdvbiJ9LCAiaWQiOiAiVFpBIiwgInByb3BlcnRpZXMiOiB7ImhpZ2hsaWdodCI6IHt9LCAibmFtZSI6ICJVbml0ZWQgUmVwdWJsaWMgb2YgVGFuemFuaWEiLCAic3R5bGUiOiB7ImNvbG9yIjogImdyYXkiLCAiZGFzaEFycmF5IjogIjEsIDEiLCAiZmlsbENvbG9yIjogIiMwMDAwMDAiLCAibGluZU9wYWNpdHkiOiAwLjksICJ3ZWlnaHQiOiAxfX0sICJ0eXBlIjogIkZlYXR1cmUifSwgeyJnZW9tZXRyeSI6IHsiY29vcmRpbmF0ZXMiOiBbW1szMS44NjYxNywgLTEuMDI3MzZdLCBbMzAuNzY5ODYsIC0xLjAxNDU1XSwgWzMwLjQxOTEwNSwgLTEuMTM0NjU5XSwgWzI5LjgyMTUxOSwgLTEuNDQzMzIyXSwgWzI5LjU3OTQ2NiwgLTEuMzQxMzEzXSwgWzI5LjU4NzgzOCwgLTAuNTg3NDA2XSwgWzI5LjgxOTUsIC0wLjIwNTNdLCBbMjkuODc1Nzc5LCAwLjU5NzM4XSwgWzMwLjA4NjE1NCwgMS4wNjIzMTNdLCBbMzAuNDY4NTA4LCAxLjU4MzgwNV0sIFszMC44NTI2NywgMS44NDkzOTZdLCBbMzEuMTc0MTQ5LCAyLjIwNDQ2NV0sIFszMC43NzMzMiwgMi4zMzk4OV0sIFszMC44MzM4NSwgMy41MDkxN10sIFszMS4yNDU1NiwgMy43ODE5XSwgWzMxLjg4MTQ1LCAzLjU1ODI3XSwgWzMyLjY4NjQyLCAzLjc5MjMyXSwgWzMzLjM5LCAzLjc5XSwgWzM0LjAwNSwgNC4yNDk4ODVdLCBbMzQuNDc5MTMsIDMuNTU1Nl0sIFszNC41OTYwNywgMy4wNTM3NF0sIFszNS4wMzU5OSwgMS45MDU4NF0sIFszNC42NzIxLCAxLjE3Njk0XSwgWzM0LjE4LCAwLjUxNV0sIFszMy44OTM1NjksIDAuMTA5ODE0XSwgWzMzLjkwMzcxMSwgLTAuOTVdLCBbMzEuODY2MTcsIC0xLjAyNzM2XV1dLCAidHlwZSI6ICJQb2x5Z29uIn0sICJpZCI6ICJVR0EiLCAicHJvcGVydGllcyI6IHsiaGlnaGxpZ2h0Ijoge30sICJuYW1lIjogIlVnYW5kYSIsICJzdHlsZSI6IHsiY29sb3IiOiAiZ3JheSIsICJkYXNoQXJyYXkiOiAiMSwgMSIsICJmaWxsQ29sb3IiOiAiIzAwMDAwMCIsICJsaW5lT3BhY2l0eSI6IDAuOSwgIndlaWdodCI6IDF9fSwgInR5cGUiOiAiRmVhdHVyZSJ9LCB7Imdlb21ldHJ5IjogeyJjb29yZGluYXRlcyI6IFtbWzMxLjc4NTk5OCwgNTIuMTAxNjc4XSwgWzMyLjE1OTQxMiwgNTIuMDYxMjY3XSwgWzMyLjQxMjA1OCwgNTIuMjg4Njk1XSwgWzMyLjcxNTc2MSwgNTIuMjM4NDY1XSwgWzMzLjc1MjcsIDUyLjMzNTA3NV0sIFszNC4zOTE3MzEsIDUxLjc2ODg4Ml0sIFszNC4xNDE5NzgsIDUxLjU2NjQxM10sIFszNC4yMjQ4MTYsIDUxLjI1NTk5M10sIFszNS4wMjIxODMsIDUxLjIwNzU3Ml0sIFszNS4zNzc5MjQsIDUwLjc3Mzk1NV0sIFszNS4zNTYxMTYsIDUwLjU3NzE5N10sIFszNi42MjYxNjgsIDUwLjIyNTU5MV0sIFszNy4zOTM0NiwgNTAuMzgzOTUzXSwgWzM4LjAxMDYzMSwgNDkuOTE1NjYyXSwgWzM4LjU5NDk4OCwgNDkuOTI2NDYyXSwgWzQwLjA2OTA1OCwgNDkuNjAxMDU1XSwgWzQwLjA4MDc4OSwgNDkuMzA3NDNdLCBbMzkuNjc0NjY0LCA0OC43ODM4MThdLCBbMzkuODk1NjMyLCA0OC4yMzI0MDVdLCBbMzkuNzM4Mjc4LCA0Ny44OTg5MzddLCBbMzguNzcwNTg1LCA0Ny44MjU2MDhdLCBbMzguMjU1MTEyLCA0Ny41NDY0XSwgWzM4LjIyMzUzOCwgNDcuMTAyMTldLCBbMzcuNDI1MTM3LCA0Ny4wMjIyMjFdLCBbMzYuNzU5ODU1LCA0Ni42OTg3XSwgWzM1LjgyMzY4NSwgNDYuNjQ1OTY0XSwgWzM0Ljk2MjM0MiwgNDYuMjczMTk3XSwgWzM1LjAyMDc4OCwgNDUuNjUxMjE5XSwgWzM1LjUxMDAwOSwgNDUuNDA5OTkzXSwgWzM2LjUyOTk5OCwgNDUuNDY5OTldLCBbMzYuMzM0NzEzLCA0NS4xMTMyMTZdLCBbMzUuMjM5OTk5LCA0NC45Mzk5OTZdLCBbMzMuODgyNTExLCA0NC4zNjE0NzldLCBbMzMuMzI2NDIxLCA0NC41NjQ4NzddLCBbMzMuNTQ2OTI0LCA0NS4wMzQ3NzFdLCBbMzIuNDU0MTc0LCA0NS4zMjc0NjZdLCBbMzIuNjMwODA0LCA0NS41MTkxODZdLCBbMzMuNTg4MTYyLCA0NS44NTE1NjldLCBbMzMuMjk4NTY3LCA0Ni4wODA1OThdLCBbMzEuNzQ0MTQsIDQ2LjMzMzM0OF0sIFszMS42NzUzMDcsIDQ2LjcwNjI0NV0sIFszMC43NDg3NDksIDQ2LjU4MzFdLCBbMzAuMzc3NjA5LCA0Ni4wMzI0MV0sIFsyOS42MDMyODksIDQ1LjI5MzMwOF0sIFsyOS4xNDk3MjUsIDQ1LjQ2NDkyNV0sIFsyOC42Nzk3NzksIDQ1LjMwNDAzMV0sIFsyOC4yMzM1NTQsIDQ1LjQ4ODI4M10sIFsyOC40ODUyNjksIDQ1LjU5NjkwN10sIFsyOC42NTk5ODcsIDQ1LjkzOTk4N10sIFsyOC45MzM3MTcsIDQ2LjI1ODgzXSwgWzI4Ljg2Mjk3MiwgNDYuNDM3ODg5XSwgWzI5LjA3MjEwNywgNDYuNTE3Njc4XSwgWzI5LjE3MDY1NCwgNDYuMzc5MjYyXSwgWzI5Ljc1OTk3MiwgNDYuMzQ5OTg4XSwgWzMwLjAyNDY1OSwgNDYuNDIzOTM3XSwgWzI5LjgzODIxLCA0Ni41MjUzMjZdLCBbMjkuOTA4ODUyLCA0Ni42NzQzNjFdLCBbMjkuNTU5Njc0LCA0Ni45Mjg1ODNdLCBbMjkuNDE1MTM1LCA0Ny4zNDY2NDVdLCBbMjkuMDUwODY4LCA0Ny41MTAyMjddLCBbMjkuMTIyNjk4LCA0Ny44NDkwOTVdLCBbMjguNjcwODkxLCA0OC4xMTgxNDldLCBbMjguMjU5NTQ3LCA0OC4xNTU1NjJdLCBbMjcuNTIyNTM3LCA0OC40NjcxMTldLCBbMjYuODU3ODI0LCA0OC4zNjgyMTFdLCBbMjYuNjE5MzM3LCA0OC4yMjA3MjZdLCBbMjYuMTk3NDUsIDQ4LjIyMDg4MV0sIFsyNS45NDU5NDEsIDQ3Ljk4NzE0OV0sIFsyNS4yMDc3NDMsIDQ3Ljg5MTA1Nl0sIFsyNC44NjYzMTcsIDQ3LjczNzUyNl0sIFsyNC40MDIwNTYsIDQ3Ljk4MTg3OF0sIFsyMy43NjA5NTgsIDQ3Ljk4NTU5OF0sIFsyMy4xNDIyMzYsIDQ4LjA5NjM0MV0sIFsyMi43MTA1MzEsIDQ3Ljg4MjE5NF0sIFsyMi42NDA4MiwgNDguMTUwMjRdLCBbMjIuMDg1NjA4LCA0OC40MjIyNjRdLCBbMjIuMjgwODQyLCA0OC44MjUzOTJdLCBbMjIuNTU4MTM4LCA0OS4wODU3MzhdLCBbMjIuNzc2NDE5LCA0OS4wMjczOTVdLCBbMjIuNTE4NDUsIDQ5LjQ3Njc3NF0sIFsyMy40MjY1MDgsIDUwLjMwODUwNl0sIFsyMy45MjI3NTcsIDUwLjQyNDg4MV0sIFsyNC4wMjk5ODYsIDUwLjcwNTQwN10sIFsyMy41MjcwNzEsIDUxLjU3ODQ1NF0sIFsyNC4wMDUwNzgsIDUxLjYxNzQ0NF0sIFsyNC41NTMxMDYsIDUxLjg4ODQ2MV0sIFsyNS4zMjc3ODgsIDUxLjkxMDY1Nl0sIFsyNi4zMzc5NTksIDUxLjgzMjI4OV0sIFsyNy40NTQwNjYsIDUxLjU5MjMwM10sIFsyOC4yNDE2MTUsIDUxLjU3MjIyN10sIFsyOC42MTc2MTMsIDUxLjQyNzcxNF0sIFsyOC45OTI4MzUsIDUxLjYwMjA0NF0sIFsyOS4yNTQ5MzgsIDUxLjM2ODIzNF0sIFszMC4xNTczNjQsIDUxLjQxNjEzOF0sIFszMC41NTUxMTcsIDUxLjMxOTUwM10sIFszMC42MTk0NTQsIDUxLjgyMjgwNl0sIFszMC45Mjc1NDksIDUyLjA0MjM1M10sIFszMS43ODU5OTgsIDUyLjEwMTY3OF1dXSwgInR5cGUiOiAiUG9seWdvbiJ9LCAiaWQiOiAiVUtSIiwgInByb3BlcnRpZXMiOiB7ImhpZ2hsaWdodCI6IHt9LCAibmFtZSI6ICJVa3JhaW5lIiwgInN0eWxlIjogeyJjb2xvciI6ICJncmF5IiwgImRhc2hBcnJheSI6ICIxLCAxIiwgImZpbGxDb2xvciI6ICIjMDAwMDAwIiwgImxpbmVPcGFjaXR5IjogMC45LCAid2VpZ2h0IjogMX19LCAidHlwZSI6ICJGZWF0dXJlIn0sIHsiZ2VvbWV0cnkiOiB7ImNvb3JkaW5hdGVzIjogW1tbLTU3LjYyNTEzMywgLTMwLjIxNjI5NV0sIFstNTYuOTc2MDI2LCAtMzAuMTA5Njg2XSwgWy01NS45NzMyNDUsIC0zMC44ODMwNzZdLCBbLTU1LjYwMTUxLCAtMzAuODUzODc5XSwgWy01NC41NzI0NTIsIC0zMS40OTQ1MTFdLCBbLTUzLjc4Nzk1MiwgLTMyLjA0NzI0M10sIFstNTMuMjA5NTg5LCAtMzIuNzI3NjY2XSwgWy01My42NTA1NDQsIC0zMy4yMDIwMDRdLCBbLTUzLjM3MzY2MiwgLTMzLjc2ODM3OF0sIFstNTMuODA2NDI2LCAtMzQuMzk2ODE1XSwgWy01NC45MzU4NjYsIC0zNC45NTI2NDddLCBbLTU1LjY3NDA5LCAtMzQuNzUyNjU5XSwgWy01Ni4yMTUyOTcsIC0zNC44NTk4MzZdLCBbLTU3LjEzOTY4NSwgLTM0LjQzMDQ1Nl0sIFstNTcuODE3ODYxLCAtMzQuNDYyNTQ3XSwgWy01OC40MjcwNzQsIC0zMy45MDk0NTRdLCBbLTU4LjM0OTYxMSwgLTMzLjI2MzE4OV0sIFstNTguMTMyNjQ4LCAtMzMuMDQwNTY3XSwgWy01OC4xNDI0NCwgLTMyLjA0NDUwNF0sIFstNTcuODc0OTM3LCAtMzEuMDE2NTU2XSwgWy01Ny42MjUxMzMsIC0zMC4yMTYyOTVdXV0sICJ0eXBlIjogIlBvbHlnb24ifSwgImlkIjogIlVSWSIsICJwcm9wZXJ0aWVzIjogeyJoaWdobGlnaHQiOiB7fSwgIm5hbWUiOiAiVXJ1Z3VheSIsICJzdHlsZSI6IHsiY29sb3IiOiAiZ3JheSIsICJkYXNoQXJyYXkiOiAiMSwgMSIsICJmaWxsQ29sb3IiOiAiIzAwMDAwMCIsICJsaW5lT3BhY2l0eSI6IDAuOSwgIndlaWdodCI6IDF9fSwgInR5cGUiOiAiRmVhdHVyZSJ9LCB7Imdlb21ldHJ5IjogeyJjb29yZGluYXRlcyI6IFtbW1stMTU1LjU0MjExLCAxOS4wODM0OF0sIFstMTU1LjY4ODE3LCAxOC45MTYxOV0sIFstMTU1LjkzNjY1LCAxOS4wNTkzOV0sIFstMTU1LjkwODA2LCAxOS4zMzg4OF0sIFstMTU2LjA3MzQ3LCAxOS43MDI5NF0sIFstMTU2LjAyMzY4LCAxOS44MTQyMl0sIFstMTU1Ljg1MDA4LCAxOS45NzcyOV0sIFstMTU1LjkxOTA3LCAyMC4xNzM5NV0sIFstMTU1Ljg2MTA4LCAyMC4yNjcyMV0sIFstMTU1Ljc4NTA1LCAyMC4yNDg3XSwgWy0xNTUuNDAyMTQsIDIwLjA3OTc1XSwgWy0xNTUuMjI0NTIsIDE5Ljk5MzAyXSwgWy0xNTUuMDYyMjYsIDE5Ljg1OTFdLCBbLTE1NC44MDc0MSwgMTkuNTA4NzFdLCBbLTE1NC44MzE0NywgMTkuNDUzMjhdLCBbLTE1NS4yMjIxNywgMTkuMjM5NzJdLCBbLTE1NS41NDIxMSwgMTkuMDgzNDhdXV0sIFtbWy0xNTYuMDc5MjYsIDIwLjY0Mzk3XSwgWy0xNTYuNDE0NDUsIDIwLjU3MjQxXSwgWy0xNTYuNTg2NzMsIDIwLjc4M10sIFstMTU2LjcwMTY3LCAyMC44NjQzXSwgWy0xNTYuNzEwNTUsIDIwLjkyNjc2XSwgWy0xNTYuNjEyNTgsIDIxLjAxMjQ5XSwgWy0xNTYuMjU3MTEsIDIwLjkxNzQ1XSwgWy0xNTUuOTk1NjYsIDIwLjc2NDA0XSwgWy0xNTYuMDc5MjYsIDIwLjY0Mzk3XV1dLCBbW1stMTU2Ljc1ODI0LCAyMS4xNzY4NF0sIFstMTU2Ljc4OTMzLCAyMS4wNjg3M10sIFstMTU3LjMyNTIxLCAyMS4wOTc3N10sIFstMTU3LjI1MDI3LCAyMS4yMTk1OF0sIFstMTU2Ljc1ODI0LCAyMS4xNzY4NF1dXSwgW1tbLTE1Ny42NTI4MywgMjEuMzIyMTddLCBbLTE1Ny43MDcwMywgMjEuMjY0NDJdLCBbLTE1Ny43Nzg2LCAyMS4yNzcyOV0sIFstMTU4LjEyNjY3LCAyMS4zMTI0NF0sIFstMTU4LjI1MzgsIDIxLjUzOTE5XSwgWy0xNTguMjkyNjUsIDIxLjU3OTEyXSwgWy0xNTguMDI1MiwgMjEuNzE2OTZdLCBbLTE1Ny45NDE2MSwgMjEuNjUyNzJdLCBbLTE1Ny42NTI4MywgMjEuMzIyMTddXV0sIFtbWy0xNTkuMzQ1MTIsIDIxLjk4Ml0sIFstMTU5LjQ2MzcyLCAyMS44ODI5OV0sIFstMTU5LjgwMDUxLCAyMi4wNjUzM10sIFstMTU5Ljc0ODc3LCAyMi4xMzgyXSwgWy0xNTkuNTk2MiwgMjIuMjM2MThdLCBbLTE1OS4zNjU2OSwgMjIuMjE0OTRdLCBbLTE1OS4zNDUxMiwgMjEuOTgyXV1dLCBbW1stOTQuODE3NTgsIDQ5LjM4OTA1XSwgWy05NC42NCwgNDguODRdLCBbLTk0LjMyOTE0LCA0OC42NzA3NF0sIFstOTMuNjMwODcsIDQ4LjYwOTI2XSwgWy05Mi42MSwgNDguNDVdLCBbLTkxLjY0LCA0OC4xNF0sIFstOTAuODMsIDQ4LjI3XSwgWy04OS42LCA0OC4wMV0sIFstODkuMjcyOTE3LCA0OC4wMTk4MDhdLCBbLTg4LjM3ODExNCwgNDguMzAyOTE4XSwgWy04Ny40Mzk3OTMsIDQ3Ljk0XSwgWy04Ni40NjE5OTEsIDQ3LjU1MzMzOF0sIFstODUuNjUyMzYzLCA0Ny4yMjAyMTldLCBbLTg0Ljg3NjA4LCA0Ni45MDAwODNdLCBbLTg0Ljc3OTIzOCwgNDYuNjM3MTAyXSwgWy04NC41NDM3NDksIDQ2LjUzODY4NF0sIFstODQuNjA0OSwgNDYuNDM5Nl0sIFstODQuMzM2NywgNDYuNDA4NzddLCBbLTg0LjE0MjEyLCA0Ni41MTIyMjZdLCBbLTg0LjA5MTg1MSwgNDYuMjc1NDE5XSwgWy04My44OTA3NjUsIDQ2LjExNjkyN10sIFstODMuNjE2MTMxLCA0Ni4xMTY5MjddLCBbLTgzLjQ2OTU1MSwgNDUuOTk0Njg2XSwgWy04My41OTI4NTEsIDQ1LjgxNjg5NF0sIFstODIuNTUwOTI1LCA0NS4zNDc1MTddLCBbLTgyLjMzNzc2MywgNDQuNDRdLCBbLTgyLjEzNzY0MiwgNDMuNTcxMDg4XSwgWy04Mi40MywgNDIuOThdLCBbLTgyLjksIDQyLjQzXSwgWy04My4xMiwgNDIuMDhdLCBbLTgzLjE0MiwgNDEuOTc1NjgxXSwgWy04My4wMjk4MSwgNDEuODMyNzk2XSwgWy04Mi42OTAwODksIDQxLjY3NTEwNV0sIFstODIuNDM5Mjc4LCA0MS42NzUxMDVdLCBbLTgxLjI3Nzc0NywgNDIuMjA5MDI2XSwgWy04MC4yNDc0NDgsIDQyLjM2NjJdLCBbLTc4LjkzOTM2MiwgNDIuODYzNjExXSwgWy03OC45MiwgNDIuOTY1XSwgWy03OS4wMSwgNDMuMjddLCBbLTc5LjE3MTY3NCwgNDMuNDY2MzM5XSwgWy03OC43MjAyOCwgNDMuNjI1MDg5XSwgWy03Ny43Mzc4ODUsIDQzLjYyOTA1Nl0sIFstNzYuODIwMDM0LCA0My42Mjg3ODRdLCBbLTc2LjUsIDQ0LjAxODQ1OV0sIFstNzYuMzc1LCA0NC4wOTYzMV0sIFstNzUuMzE4MjEsIDQ0LjgxNjQ1XSwgWy03NC44NjcsIDQ1LjAwMDQ4XSwgWy03My4zNDc4MywgNDUuMDA3MzhdLCBbLTcxLjUwNTA2LCA0NS4wMDgyXSwgWy03MS40MDUsIDQ1LjI1NV0sIFstNzEuMDg0ODIsIDQ1LjMwNTI0XSwgWy03MC42NiwgNDUuNDZdLCBbLTcwLjMwNSwgNDUuOTE1XSwgWy02OS45OTk5NywgNDYuNjkzMDddLCBbLTY5LjIzNzIxNiwgNDcuNDQ3NzgxXSwgWy02OC45MDUsIDQ3LjE4NV0sIFstNjguMjM0NDQsIDQ3LjM1NDg2XSwgWy02Ny43OTA0NiwgNDcuMDY2MzZdLCBbLTY3Ljc5MTM0LCA0NS43MDI4MV0sIFstNjcuMTM3NDEsIDQ1LjEzNzUzXSwgWy02Ni45NjQ2NiwgNDQuODA5N10sIFstNjguMDMyNTIsIDQ0LjMyNTJdLCBbLTY5LjA2LCA0My45OF0sIFstNzAuMTE2MTcsIDQzLjY4NDA1XSwgWy03MC42NDU0NzYsIDQzLjA5MDIzOF0sIFstNzAuODE0ODksIDQyLjg2NTNdLCBbLTcwLjgyNSwgNDIuMzM1XSwgWy03MC40OTUsIDQxLjgwNV0sIFstNzAuMDgsIDQxLjc4XSwgWy03MC4xODUsIDQyLjE0NV0sIFstNjkuODg0OTcsIDQxLjkyMjgzXSwgWy02OS45NjUwMywgNDEuNjM3MTddLCBbLTcwLjY0LCA0MS40NzVdLCBbLTcxLjEyMDM5LCA0MS40OTQ0NV0sIFstNzEuODYsIDQxLjMyXSwgWy03Mi4yOTUsIDQxLjI3XSwgWy03Mi44NzY0MywgNDEuMjIwNjVdLCBbLTczLjcxLCA0MC45MzExMDJdLCBbLTcyLjI0MTI2LCA0MS4xMTk0OF0sIFstNzEuOTQ1LCA0MC45M10sIFstNzMuMzQ1LCA0MC42M10sIFstNzMuOTgyLCA0MC42MjhdLCBbLTczLjk1MjMyNSwgNDAuNzUwNzVdLCBbLTc0LjI1NjcxLCA0MC40NzM1MV0sIFstNzMuOTYyNDQsIDQwLjQyNzYzXSwgWy03NC4xNzgzOCwgMzkuNzA5MjZdLCBbLTc0LjkwNjA0LCAzOC45Mzk1NF0sIFstNzQuOTgwNDEsIDM5LjE5NjRdLCBbLTc1LjIwMDAyLCAzOS4yNDg0NV0sIFstNzUuNTI4MDUsIDM5LjQ5ODVdLCBbLTc1LjMyLCAzOC45Nl0sIFstNzUuMDcxODM1LCAzOC43ODIwMzJdLCBbLTc1LjA1NjczLCAzOC40MDQxMl0sIFstNzUuMzc3NDcsIDM4LjAxNTUxXSwgWy03NS45NDAyMywgMzcuMjE2ODldLCBbLTc2LjAzMTI3LCAzNy4yNTY2XSwgWy03NS43MjIwNSwgMzcuOTM3MDVdLCBbLTc2LjIzMjg3LCAzOC4zMTkyMTVdLCBbLTc2LjM1LCAzOS4xNV0sIFstNzYuNTQyNzI1LCAzOC43MTc2MTVdLCBbLTc2LjMyOTMzLCAzOC4wODMyNl0sIFstNzYuOTg5OTk4LCAzOC4yMzk5OTJdLCBbLTc2LjMwMTYyLCAzNy45MTc5NDVdLCBbLTc2LjI1ODc0LCAzNi45NjY0XSwgWy03NS45NzE4LCAzNi44OTcyNl0sIFstNzUuODY4MDQsIDM2LjU1MTI1XSwgWy03NS43Mjc0OSwgMzUuNTUwNzRdLCBbLTc2LjM2MzE4LCAzNC44MDg1NF0sIFstNzcuMzk3NjM1LCAzNC41MTIwMV0sIFstNzguMDU0OTYsIDMzLjkyNTQ3XSwgWy03OC41NTQzNSwgMzMuODYxMzNdLCBbLTc5LjA2MDY3LCAzMy40OTM5NV0sIFstNzkuMjAzNTcsIDMzLjE1ODM5XSwgWy04MC4zMDEzMjUsIDMyLjUwOTM1NV0sIFstODAuODY0OTgsIDMyLjAzMzNdLCBbLTgxLjMzNjI5LCAzMS40NDA0OV0sIFstODEuNDkwNDIsIDMwLjcyOTk5XSwgWy04MS4zMTM3MSwgMzAuMDM1NTJdLCBbLTgwLjk4LCAyOS4xOF0sIFstODAuNTM1NTg1LCAyOC40NzIxM10sIFstODAuNTMsIDI4LjA0XSwgWy04MC4wNTY1MzksIDI2Ljg4XSwgWy04MC4wODgwMTUsIDI2LjIwNTc2NV0sIFstODAuMTMxNTYsIDI1LjgxNjc3NV0sIFstODAuMzgxMDMsIDI1LjIwNjE2XSwgWy04MC42OCwgMjUuMDhdLCBbLTgxLjE3MjEzLCAyNS4yMDEyNl0sIFstODEuMzMsIDI1LjY0XSwgWy04MS43MSwgMjUuODddLCBbLTgyLjI0LCAyNi43M10sIFstODIuNzA1MTUsIDI3LjQ5NTA0XSwgWy04Mi44NTUyNiwgMjcuODg2MjRdLCBbLTgyLjY1LCAyOC41NV0sIFstODIuOTMsIDI5LjFdLCBbLTgzLjcwOTU5LCAyOS45MzY1Nl0sIFstODQuMSwgMzAuMDldLCBbLTg1LjEwODgyLCAyOS42MzYxNV0sIFstODUuMjg3ODQsIDI5LjY4NjEyXSwgWy04NS43NzMxLCAzMC4xNTI2MV0sIFstODYuNCwgMzAuNF0sIFstODcuNTMwMzYsIDMwLjI3NDMzXSwgWy04OC40MTc4MiwgMzAuMzg0OV0sIFstODkuMTgwNDksIDMwLjMxNTk4XSwgWy04OS41OTM4MzEsIDMwLjE1OTk5NF0sIFstODkuNDEzNzM1LCAyOS44OTQxOV0sIFstODkuNDMsIDI5LjQ4ODY0XSwgWy04OS4yMTc2NywgMjkuMjkxMDhdLCBbLTg5LjQwODIzLCAyOS4xNTk2MV0sIFstODkuNzc5MjgsIDI5LjMwNzE0XSwgWy05MC4xNTQ2MywgMjkuMTE3NDNdLCBbLTkwLjg4MDIyNSwgMjkuMTQ4NTM1XSwgWy05MS42MjY3ODUsIDI5LjY3N10sIFstOTIuNDk5MDYsIDI5LjU1MjNdLCBbLTkzLjIyNjM3LCAyOS43ODM3NV0sIFstOTMuODQ4NDIsIDI5LjcxMzYzXSwgWy05NC42OSwgMjkuNDhdLCBbLTk1LjYwMDI2LCAyOC43Mzg2M10sIFstOTYuNTk0MDQsIDI4LjMwNzQ4XSwgWy05Ny4xNCwgMjcuODNdLCBbLTk3LjM3LCAyNy4zOF0sIFstOTcuMzgsIDI2LjY5XSwgWy05Ny4zMywgMjYuMjFdLCBbLTk3LjE0LCAyNS44N10sIFstOTcuNTMsIDI1Ljg0XSwgWy05OC4yNCwgMjYuMDZdLCBbLTk5LjAyLCAyNi4zN10sIFstOTkuMywgMjYuODRdLCBbLTk5LjUyLCAyNy41NF0sIFstMTAwLjExLCAyOC4xMV0sIFstMTAwLjQ1NTg0LCAyOC42OTYxMl0sIFstMTAwLjk1NzYsIDI5LjM4MDcxXSwgWy0xMDEuNjYyNCwgMjkuNzc5M10sIFstMTAyLjQ4LCAyOS43Nl0sIFstMTAzLjExLCAyOC45N10sIFstMTAzLjk0LCAyOS4yN10sIFstMTA0LjQ1Njk3LCAyOS41NzE5Nl0sIFstMTA0LjcwNTc1LCAzMC4xMjE3M10sIFstMTA1LjAzNzM3LCAzMC42NDQwMl0sIFstMTA1LjYzMTU5LCAzMS4wODM4M10sIFstMTA2LjE0MjksIDMxLjM5OTk1XSwgWy0xMDYuNTA3NTksIDMxLjc1NDUyXSwgWy0xMDguMjQsIDMxLjc1NDg1NF0sIFstMTA4LjI0MTk0LCAzMS4zNDIyMl0sIFstMTA5LjAzNSwgMzEuMzQxOTRdLCBbLTExMS4wMjM2MSwgMzEuMzM0NzJdLCBbLTExMy4zMDQ5OCwgMzIuMDM5MTRdLCBbLTExNC44MTUsIDMyLjUyNTI4XSwgWy0xMTQuNzIxMzksIDMyLjcyMDgzXSwgWy0xMTUuOTkxMzUsIDMyLjYxMjM5XSwgWy0xMTcuMTI3NzYsIDMyLjUzNTM0XSwgWy0xMTcuMjk1OTM4LCAzMy4wNDYyMjVdLCBbLTExNy45NDQsIDMzLjYyMTIzNl0sIFstMTE4LjQxMDYwMiwgMzMuNzQwOTA5XSwgWy0xMTguNTE5ODk1LCAzNC4wMjc3ODJdLCBbLTExOS4wODEsIDM0LjA3OF0sIFstMTE5LjQzODg0MSwgMzQuMzQ4NDc3XSwgWy0xMjAuMzY3NzgsIDM0LjQ0NzExXSwgWy0xMjAuNjIyODYsIDM0LjYwODU1XSwgWy0xMjAuNzQ0MzMsIDM1LjE1Njg2XSwgWy0xMjEuNzE0NTcsIDM2LjE2MTUzXSwgWy0xMjIuNTQ3NDcsIDM3LjU1MTc2XSwgWy0xMjIuNTEyMDEsIDM3Ljc4MzM5XSwgWy0xMjIuOTUzMTksIDM4LjExMzcxXSwgWy0xMjMuNzI3MiwgMzguOTUxNjZdLCBbLTEyMy44NjUxNywgMzkuNzY2OTldLCBbLTEyNC4zOTgwNywgNDAuMzEzMl0sIFstMTI0LjE3ODg2LCA0MS4xNDIwMl0sIFstMTI0LjIxMzcsIDQxLjk5OTY0XSwgWy0xMjQuNTMyODQsIDQyLjc2NTk5XSwgWy0xMjQuMTQyMTQsIDQzLjcwODM4XSwgWy0xMjQuMDIwNTM1LCA0NC42MTU4OTVdLCBbLTEyMy44OTg5MywgNDUuNTIzNDFdLCBbLTEyNC4wNzk2MzUsIDQ2Ljg2NDc1XSwgWy0xMjQuMzk1NjcsIDQ3LjcyMDE3XSwgWy0xMjQuNjg3MjEsIDQ4LjE4NDQzM10sIFstMTI0LjU2NjEwMSwgNDguMzc5NzE1XSwgWy0xMjMuMTIsIDQ4LjA0XSwgWy0xMjIuNTg3MzYsIDQ3LjA5Nl0sIFstMTIyLjM0LCA0Ny4zNl0sIFstMTIyLjUsIDQ4LjE4XSwgWy0xMjIuODQsIDQ5XSwgWy0xMjAsIDQ5XSwgWy0xMTcuMDMxMjEsIDQ5XSwgWy0xMTYuMDQ4MTgsIDQ5XSwgWy0xMTMsIDQ5XSwgWy0xMTAuMDUsIDQ5XSwgWy0xMDcuMDUsIDQ5XSwgWy0xMDQuMDQ4MjYsIDQ4Ljk5OTg2XSwgWy0xMDAuNjUsIDQ5XSwgWy05Ny4yMjg3MiwgNDkuMDAwN10sIFstOTUuMTU5MDcsIDQ5XSwgWy05NS4xNTYwOSwgNDkuMzg0MjVdLCBbLTk0LjgxNzU4LCA0OS4zODkwNV1dXSwgW1tbLTE1My4wMDYzMTQsIDU3LjExNTg0Ml0sIFstMTU0LjAwNTA5LCA1Ni43MzQ2NzddLCBbLTE1NC41MTY0MDMsIDU2Ljk5Mjc0OV0sIFstMTU0LjY3MDk5MywgNTcuNDYxMTk2XSwgWy0xNTMuNzYyNzgsIDU3LjgxNjU3NV0sIFstMTUzLjIyODcyOSwgNTcuOTY4OTY4XSwgWy0xNTIuNTY0NzkxLCA1Ny45MDE0MjddLCBbLTE1Mi4xNDExNDcsIDU3LjU5MTA1OV0sIFstMTUzLjAwNjMxNCwgNTcuMTE1ODQyXV1dLCBbW1stMTY1LjU3OTE2NCwgNTkuOTA5OTg3XSwgWy0xNjYuMTkyNzcsIDU5Ljc1NDQ0MV0sIFstMTY2Ljg0ODMzNywgNTkuOTQxNDA2XSwgWy0xNjcuNDU1Mjc3LCA2MC4yMTMwNjldLCBbLTE2Ni40Njc3OTIsIDYwLjM4NDE3XSwgWy0xNjUuNjc0NDMsIDYwLjI5MzYwN10sIFstMTY1LjU3OTE2NCwgNTkuOTA5OTg3XV1dLCBbW1stMTcxLjczMTY1NywgNjMuNzgyNTE1XSwgWy0xNzEuMTE0NDM0LCA2My41OTIxOTFdLCBbLTE3MC40OTExMTIsIDYzLjY5NDk3NV0sIFstMTY5LjY4MjUwNSwgNjMuNDMxMTE2XSwgWy0xNjguNjg5NDM5LCA2My4yOTc1MDZdLCBbLTE2OC43NzE5NDEsIDYzLjE4ODU5OF0sIFstMTY5LjUyOTQ0LCA2Mi45NzY5MzFdLCBbLTE3MC4yOTA1NTYsIDYzLjE5NDQzOF0sIFstMTcwLjY3MTM4NiwgNjMuMzc1ODIyXSwgWy0xNzEuNTUzMDYzLCA2My4zMTc3ODldLCBbLTE3MS43OTExMTEsIDYzLjQwNTg0Nl0sIFstMTcxLjczMTY1NywgNjMuNzgyNTE1XV1dLCBbW1stMTU1LjA2Nzc5LCA3MS4xNDc3NzZdLCBbLTE1NC4zNDQxNjUsIDcwLjY5NjQwOV0sIFstMTUzLjkwMDAwNiwgNzAuODg5OTg5XSwgWy0xNTIuMjEwMDA2LCA3MC44Mjk5OTJdLCBbLTE1Mi4yNzAwMDIsIDcwLjYwMDAwNl0sIFstMTUwLjczOTk5MiwgNzAuNDMwMDE3XSwgWy0xNDkuNzIwMDAzLCA3MC41MzAwMV0sIFstMTQ3LjYxMzM2MiwgNzAuMjE0MDM1XSwgWy0xNDUuNjg5OTksIDcwLjEyMDAxXSwgWy0xNDQuOTIwMDExLCA2OS45ODk5OTJdLCBbLTE0My41ODk0NDYsIDcwLjE1MjUxNF0sIFstMTQyLjA3MjUxLCA2OS44NTE5MzhdLCBbLTE0MC45ODU5ODgsIDY5LjcxMTk5OF0sIFstMTQwLjk5MjQ5OSwgNjYuMDAwMDI5XSwgWy0xNDAuOTk3NzcsIDYwLjMwNjM5N10sIFstMTQwLjAxMjk5OCwgNjAuMjc2ODM4XSwgWy0xMzkuMDM5LCA2MC4wMDAwMDddLCBbLTEzOC4zNDA4OSwgNTkuNTYyMTFdLCBbLTEzNy40NTI1LCA1OC45MDVdLCBbLTEzNi40Nzk3MiwgNTkuNDYzODldLCBbLTEzNS40NzU4MywgNTkuNzg3NzhdLCBbLTEzNC45NDUsIDU5LjI3MDU2XSwgWy0xMzQuMjcxMTEsIDU4Ljg2MTExXSwgWy0xMzMuMzU1NTQ5LCA1OC40MTAyODVdLCBbLTEzMi43MzA0MiwgNTcuNjkyODldLCBbLTEzMS43MDc4MSwgNTYuNTUyMTJdLCBbLTEzMC4wMDc3OCwgNTUuOTE1ODNdLCBbLTEyOS45Nzk5OTQsIDU1LjI4NDk5OF0sIFstMTMwLjUzNjExLCA1NC44MDI3NTNdLCBbLTEzMS4wODU4MTgsIDU1LjE3ODkwNl0sIFstMTMxLjk2NzIxMSwgNTUuNDk3Nzc2XSwgWy0xMzIuMjUwMDExLCA1Ni4zNjk5OTZdLCBbLTEzMy41MzkxODEsIDU3LjE3ODg4N10sIFstMTM0LjA3ODA2MywgNTguMTIzMDY4XSwgWy0xMzUuMDM4MjExLCA1OC4xODc3MTVdLCBbLTEzNi42MjgwNjIsIDU4LjIxMjIwOV0sIFstMTM3LjgwMDAwNiwgNTguNDk5OTk1XSwgWy0xMzkuODY3Nzg3LCA1OS41Mzc3NjJdLCBbLTE0MC44MjUyNzQsIDU5LjcyNzUxN10sIFstMTQyLjU3NDQ0NCwgNjAuMDg0NDQ3XSwgWy0xNDMuOTU4ODgxLCA1OS45OTkxOF0sIFstMTQ1LjkyNTU1NywgNjAuNDU4NjFdLCBbLTE0Ny4xMTQzNzQsIDYwLjg4NDY1Nl0sIFstMTQ4LjIyNDMwNiwgNjAuNjcyOTg5XSwgWy0xNDguMDE4MDY2LCA1OS45NzgzMjldLCBbLTE0OC41NzA4MjMsIDU5LjkxNDE3M10sIFstMTQ5LjcyNzg1OCwgNTkuNzA1NjU4XSwgWy0xNTAuNjA4MjQzLCA1OS4zNjgyMTFdLCBbLTE1MS43MTYzOTMsIDU5LjE1NTgyMV0sIFstMTUxLjg1OTQzMywgNTkuNzQ0OTg0XSwgWy0xNTEuNDA5NzE5LCA2MC43MjU4MDNdLCBbLTE1MC4zNDY5NDEsIDYxLjAzMzU4OF0sIFstMTUwLjYyMTExMSwgNjEuMjg0NDI1XSwgWy0xNTEuODk1ODM5LCA2MC43MjcxOThdLCBbLTE1Mi41NzgzMywgNjAuMDYxNjU3XSwgWy0xNTQuMDE5MTcyLCA1OS4zNTAyNzldLCBbLTE1My4yODc1MTEsIDU4Ljg2NDcyOF0sIFstMTU0LjIzMjQ5MiwgNTguMTQ2Mzc0XSwgWy0xNTUuMzA3NDkxLCA1Ny43Mjc3OTVdLCBbLTE1Ni4zMDgzMzUsIDU3LjQyMjc3NF0sIFstMTU2LjU1NjA5NywgNTYuOTc5OTg1XSwgWy0xNTguMTE3MjE3LCA1Ni40NjM2MDhdLCBbLTE1OC40MzMzMjEsIDU1Ljk5NDE1NF0sIFstMTU5LjYwMzMyNywgNTUuNTY2Njg2XSwgWy0xNjAuMjg5NzIsIDU1LjY0MzU4MV0sIFstMTYxLjIyMzA0OCwgNTUuMzY0NzM1XSwgWy0xNjIuMjM3NzY2LCA1NS4wMjQxODddLCBbLTE2My4wNjk0NDcsIDU0LjY4OTczN10sIFstMTY0Ljc4NTU2OSwgNTQuNDA0MTczXSwgWy0xNjQuOTQyMjI2LCA1NC41NzIyMjVdLCBbLTE2My44NDgzNCwgNTUuMDM5NDMxXSwgWy0xNjIuODcwMDAxLCA1NS4zNDgwNDNdLCBbLTE2MS44MDQxNzUsIDU1Ljg5NDk4Nl0sIFstMTYwLjU2MzYwNSwgNTYuMDA4MDU1XSwgWy0xNjAuMDcwNTYsIDU2LjQxODA1NV0sIFstMTU4LjY4NDQ0MywgNTcuMDE2Njc1XSwgWy0xNTguNDYxMDk3LCA1Ny4yMTY5MjFdLCBbLTE1Ny43MjI3NywgNTcuNTcwMDAxXSwgWy0xNTcuNTUwMjc0LCA1OC4zMjgzMjZdLCBbLTE1Ny4wNDE2NzUsIDU4LjkxODg4NV0sIFstMTU4LjE5NDczMSwgNTguNjE1ODAyXSwgWy0xNTguNTE3MjE4LCA1OC43ODc3ODFdLCBbLTE1OS4wNTg2MDYsIDU4LjQyNDE4Nl0sIFstMTU5LjcxMTY2NywgNTguOTMxMzldLCBbLTE1OS45ODEyODksIDU4LjU3MjU0OV0sIFstMTYwLjM1NTI3MSwgNTkuMDcxMTIzXSwgWy0xNjEuMzU1MDAzLCA1OC42NzA4MzhdLCBbLTE2MS45Njg4OTQsIDU4LjY3MTY2NV0sIFstMTYyLjA1NDk4NywgNTkuMjY2OTI1XSwgWy0xNjEuODc0MTcxLCA1OS42MzM2MjFdLCBbLTE2Mi41MTgwNTksIDU5Ljk4OTcyNF0sIFstMTYzLjgxODM0MSwgNTkuNzk4MDU2XSwgWy0xNjQuNjYyMjE4LCA2MC4yNjc0ODRdLCBbLTE2NS4zNDYzODgsIDYwLjUwNzQ5Nl0sIFstMTY1LjM1MDgzMiwgNjEuMDczODk1XSwgWy0xNjYuMTIxMzc5LCA2MS41MDAwMTldLCBbLTE2NS43MzQ0NTIsIDYyLjA3NDk5N10sIFstMTY0LjkxOTE3OSwgNjIuNjMzMDc2XSwgWy0xNjQuNTYyNTA4LCA2My4xNDYzNzhdLCBbLTE2My43NTMzMzIsIDYzLjIxOTQ0OV0sIFstMTYzLjA2NzIyNCwgNjMuMDU5NDU5XSwgWy0xNjIuMjYwNTU1LCA2My41NDE5MzZdLCBbLTE2MS41MzQ0NSwgNjMuNDU1ODE3XSwgWy0xNjAuNzcyNTA3LCA2My43NjYxMDhdLCBbLTE2MC45NTgzMzUsIDY0LjIyMjc5OV0sIFstMTYxLjUxODA2OCwgNjQuNDAyNzg4XSwgWy0xNjAuNzc3Nzc4LCA2NC43ODg2MDRdLCBbLTE2MS4zOTE5MjYsIDY0Ljc3NzIzNV0sIFstMTYyLjQ1MzA1LCA2NC41NTk0NDVdLCBbLTE2Mi43NTc3ODYsIDY0LjMzODYwNV0sIFstMTYzLjU0NjM5NCwgNjQuNTU5MTZdLCBbLTE2NC45NjA4MywgNjQuNDQ2OTQ1XSwgWy0xNjYuNDI1Mjg4LCA2NC42ODY2NzJdLCBbLTE2Ni44NDUwMDQsIDY1LjA4ODg5Nl0sIFstMTY4LjExMDU2LCA2NS42Njk5OTddLCBbLTE2Ni43MDUyNzEsIDY2LjA4ODMxOF0sIFstMTY0LjQ3NDcxLCA2Ni41NzY2Nl0sIFstMTYzLjY1MjUxMiwgNjYuNTc2NjZdLCBbLTE2My43ODg2MDIsIDY2LjA3NzIwN10sIFstMTYxLjY3Nzc3NCwgNjYuMTE2MTJdLCBbLTE2Mi40ODk3MTUsIDY2LjczNTU2NV0sIFstMTYzLjcxOTcxNywgNjcuMTE2Mzk1XSwgWy0xNjQuNDMwOTkxLCA2Ny42MTYzMzhdLCBbLTE2NS4zOTAyODcsIDY4LjA0Mjc3Ml0sIFstMTY2Ljc2NDQ0MSwgNjguMzU4ODc3XSwgWy0xNjYuMjA0NzA3LCA2OC44ODMwMzFdLCBbLTE2NC40MzA4MTEsIDY4LjkxNTUzNV0sIFstMTYzLjE2ODYxNCwgNjkuMzcxMTE1XSwgWy0xNjIuOTMwNTY2LCA2OS44NTgwNjJdLCBbLTE2MS45MDg4OTcsIDcwLjMzMzMzXSwgWy0xNjAuOTM0Nzk3LCA3MC40NDc2OV0sIFstMTU5LjAzOTE3NiwgNzAuODkxNjQyXSwgWy0xNTguMTE5NzIzLCA3MC44MjQ3MjFdLCBbLTE1Ni41ODA4MjUsIDcxLjM1Nzc2NF0sIFstMTU1LjA2Nzc5LCA3MS4xNDc3NzZdXV1dLCAidHlwZSI6ICJNdWx0aVBvbHlnb24ifSwgImlkIjogIlVTQSIsICJwcm9wZXJ0aWVzIjogeyJoaWdobGlnaHQiOiB7fSwgIm5hbWUiOiAiVW5pdGVkIFN0YXRlcyBvZiBBbWVyaWNhIiwgInN0eWxlIjogeyJjb2xvciI6ICJncmF5IiwgImRhc2hBcnJheSI6ICIxLCAxIiwgImZpbGxDb2xvciI6ICIjMzA3NEIwIiwgImxpbmVPcGFjaXR5IjogMC45LCAid2VpZ2h0IjogMX19LCAidHlwZSI6ICJGZWF0dXJlIn0sIHsiZ2VvbWV0cnkiOiB7ImNvb3JkaW5hdGVzIjogW1tbNjYuNTE4NjA3LCAzNy4zNjI3ODRdLCBbNjYuNTQ2MTUsIDM3Ljk3NDY4NV0sIFs2NS4yMTU5OTksIDM4LjQwMjY5NV0sIFs2NC4xNzAyMjMsIDM4Ljg5MjQwN10sIFs2My41MTgwMTUsIDM5LjM2MzI1N10sIFs2Mi4zNzQyNiwgNDAuMDUzODg2XSwgWzYxLjg4MjcxNCwgNDEuMDg0ODU3XSwgWzYxLjU0NzE3OSwgNDEuMjY2MzddLCBbNjAuNDY1OTUzLCA0MS4yMjAzMjddLCBbNjAuMDgzMzQxLCA0MS40MjUxNDZdLCBbNTkuOTc2NDIyLCA0Mi4yMjMwODJdLCBbNTguNjI5MDExLCA0Mi43NTE1NTFdLCBbNTcuNzg2NTMsIDQyLjE3MDU1M10sIFs1Ni45MzIyMTUsIDQxLjgyNjAyNl0sIFs1Ny4wOTYzOTEsIDQxLjMyMjMxXSwgWzU1Ljk2ODE5MSwgNDEuMzA4NjQyXSwgWzU1LjkyODkxNywgNDQuOTk1ODU4XSwgWzU4LjUwMzEyNywgNDUuNTg2ODA0XSwgWzU4LjY4OTk4OSwgNDUuNTAwMDE0XSwgWzYwLjIzOTk3MiwgNDQuNzg0MDM3XSwgWzYxLjA1ODMyLCA0NC40MDU4MTddLCBbNjIuMDEzMywgNDMuNTA0NDc3XSwgWzYzLjE4NTc4NywgNDMuNjUwMDc1XSwgWzY0LjkwMDgyNCwgNDMuNzI4MDgxXSwgWzY2LjA5ODAxMiwgNDIuOTk3NjZdLCBbNjYuMDIzMzkyLCA0MS45OTQ2NDZdLCBbNjYuNTEwNjQ5LCA0MS45ODc2NDRdLCBbNjYuNzE0MDQ3LCA0MS4xNjg0NDRdLCBbNjcuOTg1ODU2LCA0MS4xMzU5OTFdLCBbNjguMjU5ODk2LCA0MC42NjIzMjVdLCBbNjguNjMyNDgzLCA0MC42Njg2ODFdLCBbNjkuMDcwMDI3LCA0MS4zODQyNDRdLCBbNzAuMzg4OTY1LCA0Mi4wODEzMDhdLCBbNzAuOTYyMzE1LCA0Mi4yNjYxNTRdLCBbNzEuMjU5MjQ4LCA0Mi4xNjc3MTFdLCBbNzAuNDIwMDIyLCA0MS41MTk5OThdLCBbNzEuMTU3ODU5LCA0MS4xNDM1ODddLCBbNzEuODcwMTE1LCA0MS4zOTI5XSwgWzczLjA1NTQxNywgNDAuODY2MDMzXSwgWzcxLjc3NDg3NSwgNDAuMTQ1ODQ0XSwgWzcxLjAxNDE5OCwgNDAuMjQ0MzY2XSwgWzcwLjYwMTQwNywgNDAuMjE4NTI3XSwgWzcwLjQ1ODE2LCA0MC40OTY0OTVdLCBbNzAuNjY2NjIyLCA0MC45NjAyMTNdLCBbNjkuMzI5NDk1LCA0MC43Mjc4MjRdLCBbNjkuMDExNjMzLCA0MC4wODYxNThdLCBbNjguNTM2NDE2LCAzOS41MzM0NTNdLCBbNjcuNzAxNDI5LCAzOS41ODA0NzhdLCBbNjcuNDQyMjIsIDM5LjE0MDE0NF0sIFs2OC4xNzYwMjUsIDM4LjkwMTU1M10sIFs2OC4zOTIwMzMsIDM4LjE1NzAyNV0sIFs2Ny44MywgMzcuMTQ0OTk0XSwgWzY3LjA3NTc4MiwgMzcuMzU2MTQ0XSwgWzY2LjUxODYwNywgMzcuMzYyNzg0XV1dLCAidHlwZSI6ICJQb2x5Z29uIn0sICJpZCI6ICJVWkIiLCAicHJvcGVydGllcyI6IHsiaGlnaGxpZ2h0Ijoge30sICJuYW1lIjogIlV6YmVraXN0YW4iLCAic3R5bGUiOiB7ImNvbG9yIjogImdyYXkiLCAiZGFzaEFycmF5IjogIjEsIDEiLCAiZmlsbENvbG9yIjogIiMwMDAwMDAiLCAibGluZU9wYWNpdHkiOiAwLjksICJ3ZWlnaHQiOiAxfX0sICJ0eXBlIjogIkZlYXR1cmUifSwgeyJnZW9tZXRyeSI6IHsiY29vcmRpbmF0ZXMiOiBbW1stNzEuMzMxNTg0LCAxMS43NzYyODRdLCBbLTcxLjM2MDAwNiwgMTEuNTM5OTk0XSwgWy03MS45NDcwNSwgMTEuNDIzMjgyXSwgWy03MS42MjA4NjgsIDEwLjk2OTQ2XSwgWy03MS42MzMwNjQsIDEwLjQ0NjQ5NF0sIFstNzIuMDc0MTc0LCA5Ljg2NTY1MV0sIFstNzEuNjk1NjQ0LCA5LjA3MjI2M10sIFstNzEuMjY0NTU5LCA5LjEzNzE5NV0sIFstNzEuMDM5OTk5LCA5Ljg1OTk5M10sIFstNzEuMzUwMDg0LCAxMC4yMTE5MzVdLCBbLTcxLjQwMDYyMywgMTAuOTY4OTY5XSwgWy03MC4xNTUyOTksIDExLjM3NTQ4Ml0sIFstNzAuMjkzODQzLCAxMS44NDY4MjJdLCBbLTY5Ljk0MzI0NSwgMTIuMTYyMzA3XSwgWy02OS41ODQzLCAxMS40NTk2MTFdLCBbLTY4Ljg4Mjk5OSwgMTEuNDQzMzg1XSwgWy02OC4yMzMyNzEsIDEwLjg4NTc0NF0sIFstNjguMTk0MTI3LCAxMC41NTQ2NTNdLCBbLTY3LjI5NjI0OSwgMTAuNTQ1ODY4XSwgWy02Ni4yMjc4NjQsIDEwLjY0ODYyN10sIFstNjUuNjU1MjM4LCAxMC4yMDA3OTldLCBbLTY0Ljg5MDQ1MiwgMTAuMDc3MjE1XSwgWy02NC4zMjk0NzksIDEwLjM4OTU5OV0sIFstNjQuMzE4MDA3LCAxMC42NDE0MThdLCBbLTYzLjA3OTMyMiwgMTAuNzAxNzI0XSwgWy02MS44ODA5NDYsIDEwLjcxNTYyNV0sIFstNjIuNzMwMTE5LCAxMC40MjAyNjldLCBbLTYyLjM4ODUxMiwgOS45NDgyMDRdLCBbLTYxLjU4ODc2NywgOS44NzMwNjddLCBbLTYwLjgzMDU5NywgOS4zODEzNF0sIFstNjAuNjcxMjUyLCA4LjU4MDE3NF0sIFstNjAuMTUwMDk2LCA4LjYwMjc1N10sIFstNTkuNzU4Mjg1LCA4LjM2NzAzNV0sIFstNjAuNTUwNTg4LCA3Ljc3OTYwM10sIFstNjAuNjM3OTczLCA3LjQxNV0sIFstNjAuMjk1NjY4LCA3LjA0MzkxMV0sIFstNjAuNTQzOTk5LCA2Ljg1NjU4NF0sIFstNjEuMTU5MzM2LCA2LjY5NjA3N10sIFstNjEuMTM5NDE1LCA2LjIzNDI5N10sIFstNjEuNDEwMzAzLCA1Ljk1OTA2OF0sIFstNjAuNzMzNTc0LCA1LjIwMDI3N10sIFstNjAuNjAxMTc5LCA0LjkxODA5OF0sIFstNjAuOTY2ODkzLCA0LjUzNjQ2OF0sIFstNjIuMDg1NDMsIDQuMTYyMTI0XSwgWy02Mi44MDQ1MzMsIDQuMDA2OTY1XSwgWy02My4wOTMxOTgsIDMuNzcwNTcxXSwgWy02My44ODgzNDMsIDQuMDIwNTNdLCBbLTY0LjYyODY1OSwgNC4xNDg0ODFdLCBbLTY0LjgxNjA2NCwgNC4wNTY0NDVdLCBbLTY0LjM2ODQ5NCwgMy43OTcyMV0sIFstNjQuNDA4ODI4LCAzLjEyNjc4Nl0sIFstNjQuMjY5OTk5LCAyLjQ5NzAwNl0sIFstNjMuNDIyODY3LCAyLjQxMTA2OF0sIFstNjMuMzY4Nzg4LCAyLjIwMDldLCBbLTY0LjA4MzA4NSwgMS45MTYzNjldLCBbLTY0LjE5OTMwNiwgMS40OTI4NTVdLCBbLTY0LjYxMTAxMiwgMS4zMjg3MzFdLCBbLTY1LjM1NDcxMywgMS4wOTUyODJdLCBbLTY1LjU0ODI2NywgMC43ODkyNTRdLCBbLTY2LjMyNTc2NSwgMC43MjQ0NTJdLCBbLTY2Ljg3NjMyNiwgMS4yNTMzNjFdLCBbLTY3LjE4MTI5NCwgMi4yNTA2MzhdLCBbLTY3LjQ0NzA5MiwgMi42MDAyODFdLCBbLTY3LjgwOTkzOCwgMi44MjA2NTVdLCBbLTY3LjMwMzE3MywgMy4zMTg0NTRdLCBbLTY3LjMzNzU2NCwgMy41NDIzNDJdLCBbLTY3LjYyMTgzNiwgMy44Mzk0ODJdLCBbLTY3LjgyMzAxMiwgNC41MDM5MzddLCBbLTY3Ljc0NDY5NywgNS4yMjExMjldLCBbLTY3LjUyMTUzMiwgNS41NTY4N10sIFstNjcuMzQxNDQsIDYuMDk1NDY4XSwgWy02Ny42OTUwODcsIDYuMjY3MzE4XSwgWy02OC4yNjUwNTIsIDYuMTUzMjY4XSwgWy02OC45ODUzMTksIDYuMjA2ODA1XSwgWy02OS4zODk0OCwgNi4wOTk4NjFdLCBbLTcwLjA5MzMxMywgNi45NjAzNzZdLCBbLTcwLjY3NDIzNCwgNy4wODc3ODVdLCBbLTcxLjk2MDE3NiwgNi45OTE2MTVdLCBbLTcyLjE5ODM1MiwgNy4zNDA0MzFdLCBbLTcyLjQ0NDQ4NywgNy40MjM3ODVdLCBbLTcyLjQ3OTY3OSwgNy42MzI1MDZdLCBbLTcyLjM2MDkwMSwgOC4wMDI2MzhdLCBbLTcyLjQzOTg2MiwgOC40MDUyNzVdLCBbLTcyLjY2MDQ5NSwgOC42MjUyODhdLCBbLTcyLjc4ODczLCA5LjA4NTAyN10sIFstNzMuMzA0OTUyLCA5LjE1Ml0sIFstNzMuMDI3NjA0LCA5LjczNjc3XSwgWy03Mi45MDUyODYsIDEwLjQ1MDM0NF0sIFstNzIuNjE0NjU4LCAxMC44MjE5NzVdLCBbLTcyLjIyNzU3NSwgMTEuMTA4NzAyXSwgWy03MS45NzM5MjIsIDExLjYwODY3Ml0sIFstNzEuMzMxNTg0LCAxMS43NzYyODRdXV0sICJ0eXBlIjogIlBvbHlnb24ifSwgImlkIjogIlZFTiIsICJwcm9wZXJ0aWVzIjogeyJoaWdobGlnaHQiOiB7fSwgIm5hbWUiOiAiVmVuZXp1ZWxhIiwgInN0eWxlIjogeyJjb2xvciI6ICJncmF5IiwgImRhc2hBcnJheSI6ICIxLCAxIiwgImZpbGxDb2xvciI6ICIjMDAwMDAwIiwgImxpbmVPcGFjaXR5IjogMC45LCAid2VpZ2h0IjogMX19LCAidHlwZSI6ICJGZWF0dXJlIn0sIHsiZ2VvbWV0cnkiOiB7ImNvb3JkaW5hdGVzIjogW1tbMTA4LjA1MDE4LCAyMS41NTIzOF0sIFsxMDYuNzE1MDY4LCAyMC42OTY4NTFdLCBbMTA1Ljg4MTY4MiwgMTkuNzUyMDVdLCBbMTA1LjY2MjAwNiwgMTkuMDU4MTY1XSwgWzEwNi40MjY4MTcsIDE4LjAwNDEyMV0sIFsxMDcuMzYxOTU0LCAxNi42OTc0NTddLCBbMTA4LjI2OTQ5NSwgMTYuMDc5NzQyXSwgWzEwOC44NzcxMDcsIDE1LjI3NjY5MV0sIFsxMDkuMzM1MjcsIDEzLjQyNjAyOF0sIFsxMDkuMjAwMTM2LCAxMS42NjY4NTldLCBbMTA4LjM2NjEzLCAxMS4wMDgzMjFdLCBbMTA3LjIyMDkyOSwgMTAuMzY0NDg0XSwgWzEwNi40MDUxMTMsIDkuNTMwODRdLCBbMTA1LjE1ODI2NCwgOC41OTk3Nl0sIFsxMDQuNzk1MTg1LCA5LjI0MTAzOF0sIFsxMDUuMDc2MjAyLCA5LjkxODQ5MV0sIFsxMDQuMzM0MzM1LCAxMC40ODY1NDRdLCBbMTA1LjE5OTkxNSwgMTAuODg5MzFdLCBbMTA2LjI0OTY3LCAxMC45NjE4MTJdLCBbMTA1LjgxMDUyNCwgMTEuNTY3NjE1XSwgWzEwNy40OTE0MDMsIDEyLjMzNzIwNl0sIFsxMDcuNjE0NTQ4LCAxMy41MzU1MzFdLCBbMTA3LjM4MjcyNywgMTQuMjAyNDQxXSwgWzEwNy41NjQ1MjUsIDE1LjIwMjE3M10sIFsxMDcuMzEyNzA2LCAxNS45MDg1MzhdLCBbMTA2LjU1NjAwOCwgMTYuNjA0Mjg0XSwgWzEwNS45MjU3NjIsIDE3LjQ4NTMxNV0sIFsxMDUuMDk0NTk4LCAxOC42NjY5NzVdLCBbMTAzLjg5NjUzMiwgMTkuMjY1MTgxXSwgWzEwNC4xODMzODgsIDE5LjYyNDY2OF0sIFsxMDQuODIyNTc0LCAxOS44ODY2NDJdLCBbMTA0LjQzNSwgMjAuNzU4NzMzXSwgWzEwMy4yMDM4NjEsIDIwLjc2NjU2Ml0sIFsxMDIuNzU0ODk2LCAyMS42NzUxMzddLCBbMTAyLjE3MDQzNiwgMjIuNDY0NzUzXSwgWzEwMi43MDY5OTIsIDIyLjcwODc5NV0sIFsxMDMuNTA0NTE1LCAyMi43MDM3NTddLCBbMTA0LjQ3Njg1OCwgMjIuODE5MTVdLCBbMTA1LjMyOTIwOSwgMjMuMzUyMDYzXSwgWzEwNS44MTEyNDcsIDIyLjk3Njg5Ml0sIFsxMDYuNzI1NDAzLCAyMi43OTQyNjhdLCBbMTA2LjU2NzI3MywgMjIuMjE4MjA1XSwgWzEwNy4wNDM0MiwgMjEuODExODk5XSwgWzEwOC4wNTAxOCwgMjEuNTUyMzhdXV0sICJ0eXBlIjogIlBvbHlnb24ifSwgImlkIjogIlZOTSIsICJwcm9wZXJ0aWVzIjogeyJoaWdobGlnaHQiOiB7fSwgIm5hbWUiOiAiVmlldG5hbSIsICJzdHlsZSI6IHsiY29sb3IiOiAiZ3JheSIsICJkYXNoQXJyYXkiOiAiMSwgMSIsICJmaWxsQ29sb3IiOiAiIzAwMDAwMCIsICJsaW5lT3BhY2l0eSI6IDAuOSwgIndlaWdodCI6IDF9fSwgInR5cGUiOiAiRmVhdHVyZSJ9LCB7Imdlb21ldHJ5IjogeyJjb29yZGluYXRlcyI6IFtbW1sxNjcuODQ0ODc3LCAtMTYuNDY2MzMzXSwgWzE2Ny41MTUxODEsIC0xNi41OTc4NV0sIFsxNjcuMTgwMDA4LCAtMTYuMTU5OTk1XSwgWzE2Ny4yMTY4MDEsIC0xNS44OTE4NDZdLCBbMTY3Ljg0NDg3NywgLTE2LjQ2NjMzM11dXSwgW1tbMTY3LjEwNzcxMiwgLTE0LjkzMzkyXSwgWzE2Ny4yNzAwMjgsIC0xNS43NDAwMjFdLCBbMTY3LjAwMTIwNywgLTE1LjYxNDYwMl0sIFsxNjYuNzkzMTU4LCAtMTUuNjY4ODExXSwgWzE2Ni42NDk4NTksIC0xNS4zOTI3MDRdLCBbMTY2LjYyOTEzNywgLTE0LjYyNjQ5N10sIFsxNjcuMTA3NzEyLCAtMTQuOTMzOTJdXV1dLCAidHlwZSI6ICJNdWx0aVBvbHlnb24ifSwgImlkIjogIlZVVCIsICJwcm9wZXJ0aWVzIjogeyJoaWdobGlnaHQiOiB7fSwgIm5hbWUiOiAiVmFudWF0dSIsICJzdHlsZSI6IHsiY29sb3IiOiAiZ3JheSIsICJkYXNoQXJyYXkiOiAiMSwgMSIsICJmaWxsQ29sb3IiOiAiIzAwMDAwMCIsICJsaW5lT3BhY2l0eSI6IDAuOSwgIndlaWdodCI6IDF9fSwgInR5cGUiOiAiRmVhdHVyZSJ9LCB7Imdlb21ldHJ5IjogeyJjb29yZGluYXRlcyI6IFtbWzM1LjU0NTY2NSwgMzIuMzkzOTkyXSwgWzM1LjU0NTI1MiwgMzEuNzgyNTA1XSwgWzM1LjM5NzU2MSwgMzEuNDg5MDg2XSwgWzM0LjkyNzQwOCwgMzEuMzUzNDM1XSwgWzM0Ljk3MDUwNywgMzEuNjE2Nzc4XSwgWzM1LjIyNTg5MiwgMzEuNzU0MzQxXSwgWzM0Ljk3NDY0MSwgMzEuODY2NTgyXSwgWzM1LjE4MzkzLCAzMi41MzI1MTFdLCBbMzUuNTQ1NjY1LCAzMi4zOTM5OTJdXV0sICJ0eXBlIjogIlBvbHlnb24ifSwgImlkIjogIlBTRSIsICJwcm9wZXJ0aWVzIjogeyJoaWdobGlnaHQiOiB7fSwgIm5hbWUiOiAiV2VzdCBCYW5rIiwgInN0eWxlIjogeyJjb2xvciI6ICJncmF5IiwgImRhc2hBcnJheSI6ICIxLCAxIiwgImZpbGxDb2xvciI6ICIjMDAwMDAwIiwgImxpbmVPcGFjaXR5IjogMC45LCAid2VpZ2h0IjogMX19LCAidHlwZSI6ICJGZWF0dXJlIn0sIHsiZ2VvbWV0cnkiOiB7ImNvb3JkaW5hdGVzIjogW1tbNTMuMTA4NTczLCAxNi42NTEwNTFdLCBbNTIuMzg1MjA2LCAxNi4zODI0MTFdLCBbNTIuMTkxNzI5LCAxNS45Mzg0MzNdLCBbNTIuMTY4MTY1LCAxNS41OTc0Ml0sIFs1MS4xNzI1MTUsIDE1LjE3NTI1XSwgWzQ5LjU3NDU3NiwgMTQuNzA4NzY3XSwgWzQ4LjY3OTIzMSwgMTQuMDAzMjAyXSwgWzQ4LjIzODk0NywgMTMuOTQ4MDldLCBbNDcuOTM4OTE0LCAxNC4wMDcyMzNdLCBbNDcuMzU0NDU0LCAxMy41OTIyMl0sIFs0Ni43MTcwNzYsIDEzLjM5OTY5OV0sIFs0NS44Nzc1OTMsIDEzLjM0Nzc2NF0sIFs0NS42MjUwNSwgMTMuMjkwOTQ2XSwgWzQ1LjQwNjQ1OSwgMTMuMDI2OTA1XSwgWzQ1LjE0NDM1NiwgMTIuOTUzOTM4XSwgWzQ0Ljk4OTUzMywgMTIuNjk5NTg3XSwgWzQ0LjQ5NDU3NiwgMTIuNzIxNjUzXSwgWzQ0LjE3NTExMywgMTIuNTg1OTVdLCBbNDMuNDgyOTU5LCAxMi42MzY4XSwgWzQzLjIyMjg3MSwgMTMuMjIwOTVdLCBbNDMuMjUxNDQ4LCAxMy43Njc1ODRdLCBbNDMuMDg3OTQ0LCAxNC4wNjI2M10sIFs0Mi44OTIyNDUsIDE0LjgwMjI0OV0sIFs0Mi42MDQ4NzMsIDE1LjIxMzMzNV0sIFs0Mi44MDUwMTUsIDE1LjI2MTk2M10sIFs0Mi43MDI0MzgsIDE1LjcxODg4Nl0sIFs0Mi44MjM2NzEsIDE1LjkxMTc0Ml0sIFs0Mi43NzkzMzIsIDE2LjM0Nzg5MV0sIFs0My4yMTgzNzUsIDE2LjY2Njg5XSwgWzQzLjExNTc5OCwgMTcuMDg4NDRdLCBbNDMuMzgwNzk0LCAxNy41Nzk5ODddLCBbNDMuNzkxNTE5LCAxNy4zMTk5NzddLCBbNDQuMDYyNjEzLCAxNy40MTAzNTldLCBbNDUuMjE2NjUxLCAxNy40MzMzMjldLCBbNDUuMzk5OTk5LCAxNy4zMzMzMzVdLCBbNDYuMzY2NjU5LCAxNy4yMzMzMTVdLCBbNDYuNzQ5OTk0LCAxNy4yODMzMzhdLCBbNDcuMDAwMDA1LCAxNi45NDk5OTldLCBbNDcuNDY2Njk1LCAxNy4xMTY2ODJdLCBbNDguMTgzMzQ0LCAxOC4xNjY2NjldLCBbNDkuMTE2NjcyLCAxOC42MTY2NjhdLCBbNTIuMDAwMDEsIDE5LjAwMDAwM10sIFs1Mi43ODIxODQsIDE3LjM0OTc0Ml0sIFs1My4xMDg1NzMsIDE2LjY1MTA1MV1dXSwgInR5cGUiOiAiUG9seWdvbiJ9LCAiaWQiOiAiWUVNIiwgInByb3BlcnRpZXMiOiB7ImhpZ2hsaWdodCI6IHt9LCAibmFtZSI6ICJZZW1lbiIsICJzdHlsZSI6IHsiY29sb3IiOiAiZ3JheSIsICJkYXNoQXJyYXkiOiAiMSwgMSIsICJmaWxsQ29sb3IiOiAiIzAwMDAwMCIsICJsaW5lT3BhY2l0eSI6IDAuOSwgIndlaWdodCI6IDF9fSwgInR5cGUiOiAiRmVhdHVyZSJ9LCB7Imdlb21ldHJ5IjogeyJjb29yZGluYXRlcyI6IFtbWzMxLjUyMTAwMSwgLTI5LjI1NzM4N10sIFszMS4zMjU1NjEsIC0yOS40MDE5NzhdLCBbMzAuOTAxNzYzLCAtMjkuOTA5OTU3XSwgWzMwLjYyMjgxMywgLTMwLjQyMzc3Nl0sIFszMC4wNTU3MTYsIC0zMS4xNDAyNjldLCBbMjguOTI1NTUzLCAtMzIuMTcyMDQxXSwgWzI4LjIxOTc1NiwgLTMyLjc3MTk1M10sIFsyNy40NjQ2MDgsIC0zMy4yMjY5NjRdLCBbMjYuNDE5NDUyLCAtMzMuNjE0OTVdLCBbMjUuOTA5NjY0LCAtMzMuNjY3MDRdLCBbMjUuNzgwNjI4LCAtMzMuOTQ0NjQ2XSwgWzI1LjE3Mjg2MiwgLTMzLjc5Njg1MV0sIFsyNC42Nzc4NTMsIC0zMy45ODcxNzZdLCBbMjMuNTk0MDQzLCAtMzMuNzk0NDc0XSwgWzIyLjk4ODE4OSwgLTMzLjkxNjQzMV0sIFsyMi41NzQxNTcsIC0zMy44NjQwODNdLCBbMjEuNTQyNzk5LCAtMzQuMjU4ODM5XSwgWzIwLjY4OTA1MywgLTM0LjQxNzE3NV0sIFsyMC4wNzEyNjEsIC0zNC43OTUxMzddLCBbMTkuNjE2NDA1LCAtMzQuODE5MTY2XSwgWzE5LjE5MzI3OCwgLTM0LjQ2MjU5OV0sIFsxOC44NTUzMTUsIC0zNC40NDQzMDZdLCBbMTguNDI0NjQzLCAtMzMuOTk3ODczXSwgWzE4LjM3NzQxMSwgLTM0LjEzNjUyMV0sIFsxOC4yNDQ0OTksIC0zMy44Njc3NTJdLCBbMTguMjUwMDgsIC0zMy4yODE0MzFdLCBbMTcuOTI1MTksIC0zMi42MTEyOTFdLCBbMTguMjQ3OTEsIC0zMi40MjkxMzFdLCBbMTguMjIxNzYyLCAtMzEuNjYxNjMzXSwgWzE3LjU2NjkxOCwgLTMwLjcyNTcyMV0sIFsxNy4wNjQ0MTYsIC0yOS44Nzg2NDFdLCBbMTcuMDYyOTE4LCAtMjkuODc1OTU0XSwgWzE2LjM0NDk3NywgLTI4LjU3NjcwNV0sIFsxNi44MjQwMTcsIC0yOC4wODIxNjJdLCBbMTcuMjE4OTI5LCAtMjguMzU1OTQzXSwgWzE3LjM4NzQ5NywgLTI4Ljc4MzUxNF0sIFsxNy44MzYxNTIsIC0yOC44NTYzNzhdLCBbMTguNDY0ODk5LCAtMjkuMDQ1NDYyXSwgWzE5LjAwMjEyNywgLTI4Ljk3MjQ0M10sIFsxOS44OTQ3MzQsIC0yOC40NjExMDVdLCBbMTkuODk1NzY4LCAtMjQuNzY3NzldLCBbMjAuMTY1NzI2LCAtMjQuOTE3OTYyXSwgWzIwLjc1ODYwOSwgLTI1Ljg2ODEzNl0sIFsyMC42NjY0NywgLTI2LjQ3NzQ1M10sIFsyMC44ODk2MDksIC0yNi44Mjg1NDNdLCBbMjEuNjA1ODk2LCAtMjYuNzI2NTM0XSwgWzIyLjEwNTk2OSwgLTI2LjI4MDI1Nl0sIFsyMi41Nzk1MzIsIC0yNS45Nzk0NDhdLCBbMjIuODI0MjcxLCAtMjUuNTAwNDU5XSwgWzIzLjMxMjA5NywgLTI1LjI2ODY5XSwgWzIzLjczMzU3LCAtMjUuMzkwMTI5XSwgWzI0LjIxMTI2NywgLTI1LjY3MDIxNl0sIFsyNS4wMjUxNzEsIC0yNS43MTk2N10sIFsyNS42NjQ2NjYsIC0yNS40ODY4MTZdLCBbMjUuNzY1ODQ5LCAtMjUuMTc0ODQ1XSwgWzI1Ljk0MTY1MiwgLTI0LjY5NjM3M10sIFsyNi40ODU3NTMsIC0yNC42MTYzMjddLCBbMjYuNzg2NDA3LCAtMjQuMjQwNjkxXSwgWzI3LjExOTQxLCAtMjMuNTc0MzIzXSwgWzI4LjAxNzIzNiwgLTIyLjgyNzc1NF0sIFsyOS40MzIxODgsIC0yMi4wOTEzMTNdLCBbMjkuODM5MDM3LCAtMjIuMTAyMjE2XSwgWzMwLjMyMjg4MywgLTIyLjI3MTYxMl0sIFszMC42NTk4NjUsIC0yMi4xNTE1NjddLCBbMzEuMTkxNDA5LCAtMjIuMjUxNTFdLCBbMzEuNjcwMzk4LCAtMjMuNjU4OTY5XSwgWzMxLjkzMDU4OSwgLTI0LjM2OTQxN10sIFszMS43NTI0MDgsIC0yNS40ODQyODRdLCBbMzEuODM3Nzc4LCAtMjUuODQzMzMyXSwgWzMxLjMzMzE1OCwgLTI1LjY2MDE5MV0sIFszMS4wNDQwOCwgLTI1LjczMTQ1Ml0sIFszMC45NDk2NjcsIC0yNi4wMjI2NDldLCBbMzAuNjc2NjA5LCAtMjYuMzk4MDc4XSwgWzMwLjY4NTk2MiwgLTI2Ljc0Mzg0NV0sIFszMS4yODI3NzMsIC0yNy4yODU4NzldLCBbMzEuODY4MDYsIC0yNy4xNzc5MjddLCBbMzIuMDcxNjY1LCAtMjYuNzMzODJdLCBbMzIuODMwMTIsIC0yNi43NDIxOTJdLCBbMzIuNTgwMjY1LCAtMjcuNDcwMTU4XSwgWzMyLjQ2MjEzMywgLTI4LjMwMTAxMV0sIFszMi4yMDMzODksIC0yOC43NTI0MDVdLCBbMzEuNTIxMDAxLCAtMjkuMjU3Mzg3XV0sIFtbMjguOTc4MjYzLCAtMjguOTU1NTk3XSwgWzI4LjU0MTcsIC0yOC42NDc1MDJdLCBbMjguMDc0MzM4LCAtMjguODUxNDY5XSwgWzI3LjUzMjUxMSwgLTI5LjI0MjcxMV0sIFsyNi45OTkyNjIsIC0yOS44NzU5NTRdLCBbMjcuNzQ5Mzk3LCAtMzAuNjQ1MTA2XSwgWzI4LjEwNzIwNSwgLTMwLjU0NTczMl0sIFsyOC4yOTEwNjksIC0zMC4yMjYyMTddLCBbMjguODQ4NCwgLTMwLjA3MDA1MV0sIFsyOS4wMTg0MTUsIC0yOS43NDM3NjZdLCBbMjkuMzI1MTY2LCAtMjkuMjU3Mzg3XSwgWzI4Ljk3ODI2MywgLTI4Ljk1NTU5N11dXSwgInR5cGUiOiAiUG9seWdvbiJ9LCAiaWQiOiAiWkFGIiwgInByb3BlcnRpZXMiOiB7ImhpZ2hsaWdodCI6IHt9LCAibmFtZSI6ICJTb3V0aCBBZnJpY2EiLCAic3R5bGUiOiB7ImNvbG9yIjogImdyYXkiLCAiZGFzaEFycmF5IjogIjEsIDEiLCAiZmlsbENvbG9yIjogIiMwMDAwMDAiLCAibGluZU9wYWNpdHkiOiAwLjksICJ3ZWlnaHQiOiAxfX0sICJ0eXBlIjogIkZlYXR1cmUifSwgeyJnZW9tZXRyeSI6IHsiY29vcmRpbmF0ZXMiOiBbW1szMi43NTkzNzUsIC05LjIzMDU5OV0sIFszMy4yMzEzODgsIC05LjY3NjcyMl0sIFszMy40ODU2ODgsIC0xMC41MjU1NTldLCBbMzMuMzE1MzEsIC0xMC43OTY1NV0sIFszMy4xMTQyODksIC0xMS42MDcxOThdLCBbMzMuMzA2NDIyLCAtMTIuNDM1Nzc4XSwgWzMyLjk5MTc2NCwgLTEyLjc4Mzg3MV0sIFszMi42ODgxNjUsIC0xMy43MTI4NThdLCBbMzMuMjE0MDI1LCAtMTMuOTcxODZdLCBbMzAuMTc5NDgxLCAtMTQuNzk2MDk5XSwgWzMwLjI3NDI1NiwgLTE1LjUwNzc4N10sIFsyOS41MTY4MzQsIC0xNS42NDQ2NzhdLCBbMjguOTQ3NDYzLCAtMTYuMDQzMDUxXSwgWzI4LjgyNTg2OSwgLTE2LjM4OTc0OV0sIFsyOC40Njc5MDYsIC0xNi40Njg0XSwgWzI3LjU5ODI0MywgLTE3LjI5MDgzMV0sIFsyNy4wNDQ0MjcsIC0xNy45MzgwMjZdLCBbMjYuNzA2NzczLCAtMTcuOTYxMjI5XSwgWzI2LjM4MTkzNSwgLTE3Ljg0NjA0Ml0sIFsyNS4yNjQyMjYsIC0xNy43MzY1NF0sIFsyNS4wODQ0NDMsIC0xNy42NjE4MTZdLCBbMjUuMDc2OTUsIC0xNy41Nzg4MjNdLCBbMjQuNjgyMzQ5LCAtMTcuMzUzNDExXSwgWzI0LjAzMzg2MiwgLTE3LjI5NTg0M10sIFsyMy4yMTUwNDgsIC0xNy41MjMxMTZdLCBbMjIuNTYyNDc4LCAtMTYuODk4NDUxXSwgWzIxLjg4Nzg0MywgLTE2LjA4MDMxXSwgWzIxLjkzMzg4NiwgLTEyLjg5ODQzN10sIFsyNC4wMTYxMzcsIC0xMi45MTEwNDZdLCBbMjMuOTMwOTIyLCAtMTIuNTY1ODQ4XSwgWzI0LjA3OTkwNSwgLTEyLjE5MTI5N10sIFsyMy45MDQxNTQsIC0xMS43MjIyODJdLCBbMjQuMDE3ODk0LCAtMTEuMjM3Mjk4XSwgWzIzLjkxMjIxNSwgLTEwLjkyNjgyNl0sIFsyNC4yNTcxNTUsIC0xMC45NTE5OTNdLCBbMjQuMzE0NTE2LCAtMTEuMjYyODI2XSwgWzI0Ljc4MzE3LCAtMTEuMjM4Njk0XSwgWzI1LjQxODExOCwgLTExLjMzMDkzNl0sIFsyNS43NTIzMSwgLTExLjc4NDk2NV0sIFsyNi41NTMwODgsIC0xMS45MjQ0NF0sIFsyNy4xNjQ0MiwgLTExLjYwODc0OF0sIFsyNy4zODg3OTksIC0xMi4xMzI3NDddLCBbMjguMTU1MTA5LCAtMTIuMjcyNDgxXSwgWzI4LjUyMzU2MiwgLTEyLjY5ODYwNF0sIFsyOC45MzQyODYsIC0xMy4yNDg5NThdLCBbMjkuNjk5NjE0LCAtMTMuMjU3MjI3XSwgWzI5LjYxNjAwMSwgLTEyLjE3ODg5NV0sIFsyOS4zNDE1NDgsIC0xMi4zNjA3NDRdLCBbMjguNjQyNDE3LCAtMTEuOTcxNTY5XSwgWzI4LjM3MjI1MywgLTExLjc5MzY0N10sIFsyOC40OTYwNywgLTEwLjc4OTg4NF0sIFsyOC42NzM2ODIsIC05LjYwNTkyNV0sIFsyOC40NDk4NzEsIC05LjE2NDkxOF0sIFsyOC43MzQ4NjcsIC04LjUyNjU1OV0sIFsyOS4wMDI5MTIsIC04LjQwNzAzMl0sIFszMC4zNDYwODYsIC04LjIzODI1N10sIFszMC43NDAwMTUsIC04LjM0MDAwN10sIFszMS4xNTc3NTEsIC04LjU5NDU3OV0sIFszMS41NTYzNDgsIC04Ljc2MjA0OV0sIFszMi4xOTE4NjUsIC04LjkzMDM1OV0sIFszMi43NTkzNzUsIC05LjIzMDU5OV1dXSwgInR5cGUiOiAiUG9seWdvbiJ9LCAiaWQiOiAiWk1CIiwgInByb3BlcnRpZXMiOiB7ImhpZ2hsaWdodCI6IHt9LCAibmFtZSI6ICJaYW1iaWEiLCAic3R5bGUiOiB7ImNvbG9yIjogImdyYXkiLCAiZGFzaEFycmF5IjogIjEsIDEiLCAiZmlsbENvbG9yIjogIiMwMDAwMDAiLCAibGluZU9wYWNpdHkiOiAwLjksICJ3ZWlnaHQiOiAxfX0sICJ0eXBlIjogIkZlYXR1cmUifSwgeyJnZW9tZXRyeSI6IHsiY29vcmRpbmF0ZXMiOiBbW1szMS4xOTE0MDksIC0yMi4yNTE1MV0sIFszMC42NTk4NjUsIC0yMi4xNTE1NjddLCBbMzAuMzIyODgzLCAtMjIuMjcxNjEyXSwgWzI5LjgzOTAzNywgLTIyLjEwMjIxNl0sIFsyOS40MzIxODgsIC0yMi4wOTEzMTNdLCBbMjguNzk0NjU2LCAtMjEuNjM5NDU0XSwgWzI4LjAyMTM3LCAtMjEuNDg1OTc1XSwgWzI3LjcyNzIyOCwgLTIwLjg1MTgwMl0sIFsyNy43MjQ3NDcsIC0yMC40OTkwNTldLCBbMjcuMjk2NTA1LCAtMjAuMzkxNTJdLCBbMjYuMTY0NzkxLCAtMTkuMjkzMDg2XSwgWzI1Ljg1MDM5MSwgLTE4LjcxNDQxM10sIFsyNS42NDkxNjMsIC0xOC41MzYwMjZdLCBbMjUuMjY0MjI2LCAtMTcuNzM2NTRdLCBbMjYuMzgxOTM1LCAtMTcuODQ2MDQyXSwgWzI2LjcwNjc3MywgLTE3Ljk2MTIyOV0sIFsyNy4wNDQ0MjcsIC0xNy45MzgwMjZdLCBbMjcuNTk4MjQzLCAtMTcuMjkwODMxXSwgWzI4LjQ2NzkwNiwgLTE2LjQ2ODRdLCBbMjguODI1ODY5LCAtMTYuMzg5NzQ5XSwgWzI4Ljk0NzQ2MywgLTE2LjA0MzA1MV0sIFsyOS41MTY4MzQsIC0xNS42NDQ2NzhdLCBbMzAuMjc0MjU2LCAtMTUuNTA3Nzg3XSwgWzMwLjMzODk1NSwgLTE1Ljg4MDgzOV0sIFszMS4xNzMwNjQsIC0xNS44NjA5NDRdLCBbMzEuNjM2NDk4LCAtMTYuMDcxOTldLCBbMzEuODUyMDQxLCAtMTYuMzE5NDE3XSwgWzMyLjMyODIzOSwgLTE2LjM5MjA3NF0sIFszMi44NDc2MzksIC0xNi43MTMzOThdLCBbMzIuODQ5ODYxLCAtMTcuOTc5MDU3XSwgWzMyLjY1NDg4NiwgLTE4LjY3MjA5XSwgWzMyLjYxMTk5NCwgLTE5LjQxOTM4M10sIFszMi43NzI3MDgsIC0xOS43MTU1OTJdLCBbMzIuNjU5NzQzLCAtMjAuMzA0MjldLCBbMzIuNTA4NjkzLCAtMjAuMzk1MjkyXSwgWzMyLjI0NDk4OCwgLTIxLjExNjQ4OV0sIFszMS4xOTE0MDksIC0yMi4yNTE1MV1dXSwgInR5cGUiOiAiUG9seWdvbiJ9LCAiaWQiOiAiWldFIiwgInByb3BlcnRpZXMiOiB7ImhpZ2hsaWdodCI6IHt9LCAibmFtZSI6ICJaaW1iYWJ3ZSIsICJzdHlsZSI6IHsiY29sb3IiOiAiZ3JheSIsICJkYXNoQXJyYXkiOiAiMSwgMSIsICJmaWxsQ29sb3IiOiAiIzAwMDAwMCIsICJsaW5lT3BhY2l0eSI6IDAuOSwgIndlaWdodCI6IDF9fSwgInR5cGUiOiAiRmVhdHVyZSJ9XSwgInR5cGUiOiAiRmVhdHVyZUNvbGxlY3Rpb24ifQogICAgICAgICAgICAKICAgICAgICAgICAgKS5hZGRUbyhtYXBfZWU3ZWIxNmI2OWFjNDc2NDk5MjI3MDVjN2U0NDc1YTcpOwogICAgICAgIGdlb19qc29uXzk2YzNjODVhNjVjZDQ0N2E5Njg4YWZhNTg0MzkzMmUxLnNldFN0eWxlKGZ1bmN0aW9uKGZlYXR1cmUpIHtyZXR1cm4gZmVhdHVyZS5wcm9wZXJ0aWVzLnN0eWxlO30pOwogICAgICAgIAo8L3NjcmlwdD4=\" style=\"position:absolute;width:100%;height:100%;left:0;top:0;border:none !important;\" allowfullscreen webkitallowfullscreen mozallowfullscreen></iframe></div></div>"
      ],
      "text/plain": [
       "<folium.folium.Map at 0x2a25372a6d8>"
      ]
     },
     "execution_count": 24,
     "metadata": {},
     "output_type": "execute_result"
    }
   ],
   "source": [
    "results_map = folium.Map([46,8], tiles='cartodbpositron', zoom_start=2)\n",
    "folium.GeoJson(\n",
    "    geo_json_data,\n",
    "    style_function=lambda feature: {\n",
    "        'fillColor': get_country_map_color(feature['id']),\n",
    "        'color': 'gray',\n",
    "        'weight' : 1,\n",
    "        'dashArray' : '1, 1',\n",
    "        'lineOpacity' : 0.9\n",
    "        }\n",
    "    ).add_to(results_map)\n",
    "\n",
    "print('\\nTop Largest Country per percentage of product\\n\\n')\n",
    "results_map"
   ]
  },
  {
   "cell_type": "markdown",
   "metadata": {},
   "source": [
    "**Top Largest Countries**\n",
    "\n",
    "It's clear, by looking on the map, that data for only few countries have been fulfilled.\n",
    "Based of this, we can say that most of the products are assigned to\n",
    "- **France**  with 409'951 products (~60%)\n",
    "- **United States of America**  with 174'494 products (~25%)\n",
    "- **Switzerland**  with 13'543 products (~1.98%)\n",
    "- **Germany**  with 11'629 products (~1.70%)\n",
    "\n",
    "- All others Countries have less than 1% each of representativity\n",
    "\n",
    "<img src=\"http://openfoodfacts.funspirit.ch/MapTop10Countries.JPG\"></img>"
   ]
  },
  {
   "cell_type": "markdown",
   "metadata": {},
   "source": [
    "<div class=\"alert alert-block alert-success\">\n",
    "\n",
    "<b>1.5 UNDERSTANDING THE DATA - Origins</b><br>\n",
    "<i>We are looking what are the origins (count/percentage/emtpy)</i>\n",
    "<hr>\n",
    "<b>Remarks</b><br>\n",
    "<i>\n",
    "Most of the products (94%) do not have any origin.\n",
    "    \n",
    "There is misspelling like 'Union Européenne' and 'Union européenne'\n",
    "\n",
    "</i>\n",
    "<br>\n",
    "</div>"
   ]
  },
  {
   "cell_type": "code",
   "execution_count": 25,
   "metadata": {},
   "outputs": [
    {
     "name": "stdout",
     "output_type": "stream",
     "text": [
      "\n",
      "Top 10 origins (Counts & Percentage)\n",
      "               origins  counts  percentage\n",
      "2043            France   10849    1.591691\n",
      "5760  Union Européenne    1507    0.221097\n",
      "3136            Italie     927    0.136003\n",
      "1703           Espagne     856    0.125586\n",
      "1753            España     667    0.097858\n",
      "3896            México     636    0.093310\n",
      "5825  Union européenne     469    0.068808\n",
      "604          Australia     462    0.067781\n",
      "5394            Suisse     372    0.054577\n",
      "1470       Deutschland     349    0.051203\n"
     ]
    },
    {
     "data": {
      "image/png": "[encoded data removed]",
      "text/plain": [
       "<Figure size 1080x720 with 1 Axes>"
      ]
     },
     "metadata": {},
     "output_type": "display_data"
    },
    {
     "name": "stdout",
     "output_type": "stream",
     "text": [
      "Number of empty records for origins: 640812 (94.01556920314201%)\n",
      "nunique      7407\n",
      "count       40790\n",
      "size       681602\n",
      "Name: origins, dtype: int64\n"
     ]
    }
   ],
   "source": [
    "##### Get top 10 Origins\n",
    "df_10_origins = get_top_10(df_food, 'origins')\n",
    "\n",
    "##### Show Result\n",
    "print('\\nTop 10 origins (Counts & Percentage)')\n",
    "print(df_10_origins)    \n",
    "show_plot(df_10_origins, 'origins')\n",
    "\n",
    "##### Show Information about empty records\n",
    "print_stats(df_food, 'origins')"
   ]
  },
  {
   "cell_type": "markdown",
   "metadata": {},
   "source": [
    "The origins is very denormalized and may contain as value a country a region or a continent,... 7407 unique values are far much than list of potential countries.\n",
    "\n",
    "This is making the usage of this field difficult."
   ]
  },
  {
   "cell_type": "markdown",
   "metadata": {},
   "source": [
    "<div class=\"alert alert-block alert-success\">\n",
    "\n",
    "<b>1.6 UNDERSTANDING THE DATA - Main Category</b><br>\n",
    "<i>We are looking what are the Main Category (count/percentage/emtpy)</i>\n",
    "<hr>\n",
    "<b>Remarks</b><br>\n",
    "<i>\n",
    "Most of the products (74%) do not have any Main Category.\n",
    "    \n",
    "To check if category changes by country, brands,...\n",
    "\n",
    "</i>\n",
    "<br>\n",
    "</div>"
   ]
  },
  {
   "cell_type": "code",
   "execution_count": 26,
   "metadata": {},
   "outputs": [
    {
     "name": "stdout",
     "output_type": "stream",
     "text": [
      "\n",
      "Top 10 main_category_en (Counts & Percentage)\n",
      "                     main_category_en  counts  percentage\n",
      "1289  Plant-based foods and beverages   37312    5.474162\n",
      "143                         Beverages   25368    3.721820\n",
      "1624                    Sugary snacks   23588    3.460671\n",
      "541                           Dairies   15580    2.285791\n",
      "1081                            Meats    9589    1.406833\n",
      "849                         Groceries    9390    1.377637\n",
      "1076                            Meals    7669    1.125143\n",
      "1599                          Spreads    4355    0.638936\n",
      "714                      Frozen foods    3093    0.453784\n",
      "750                      Fruit juices    3065    0.449676\n"
     ]
    },
    {
     "data": {
      "image/png": "[encoded data removed]",
      "text/plain": [
       "<Figure size 1080x720 with 1 Axes>"
      ]
     },
     "metadata": {},
     "output_type": "display_data"
    },
    {
     "name": "stdout",
     "output_type": "stream",
     "text": [
      "Number of empty records for main_category_en: 507880 (74.51269215759343%)\n",
      "nunique      6589\n",
      "count      173722\n",
      "size       681602\n",
      "Name: main_category_en, dtype: int64\n"
     ]
    }
   ],
   "source": [
    "##### Get top 10 Main Category en\n",
    "df_10_main_category_en = get_top_10(df_food, 'main_category_en')\n",
    "\n",
    "##### Show Result\n",
    "print('\\nTop 10 main_category_en (Counts & Percentage)')\n",
    "print(df_10_main_category_en)    \n",
    "show_plot(df_10_main_category_en, 'main_category_en')\n",
    "\n",
    "##### Show Information about empty records\n",
    "print_stats(df_food, 'main_category_en')"
   ]
  },
  {
   "cell_type": "markdown",
   "metadata": {},
   "source": [
    "It seems that 74% of the Products does not have any 'category'. Furthermore the first and second categories contain both 'Beverages'. "
   ]
  },
  {
   "cell_type": "markdown",
   "metadata": {},
   "source": [
    "<div class=\"alert alert-block alert-success\">\n",
    "\n",
    "<b>1.7 UNDERSTANDING THE DATA - EXTRA Anomalies</b><br>\n",
    "<i>We are looking if there are some more anomalies in data. We are looking about the Data Quality to understand what could be used for further analysis</i>\n",
    "<hr>\n",
    "<b>Remarks</b><br>\n",
    "<i>\n",
    "#Arrh, some product seems to be duplicated...  <br>\n",
    "#Think about to check first-last Product per Contributors !<br>\n",
    "#Think about to check per Country !<br>\n",
    "</i>\n",
    "<br>\n",
    "</div>\n"
   ]
  },
  {
   "cell_type": "markdown",
   "metadata": {},
   "source": [
    "We identified some duplicates as shown below, which should be cleaned/removed, once clearly identified."
   ]
  },
  {
   "cell_type": "code",
   "execution_count": 27,
   "metadata": {},
   "outputs": [
    {
     "data": {
      "text/html": [
       "<div>\n",
       "<style scoped>\n",
       "    .dataframe tbody tr th:only-of-type {\n",
       "        vertical-align: middle;\n",
       "    }\n",
       "\n",
       "    .dataframe tbody tr th {\n",
       "        vertical-align: top;\n",
       "    }\n",
       "\n",
       "    .dataframe thead th {\n",
       "        text-align: right;\n",
       "    }\n",
       "</style>\n",
       "<table border=\"1\" class=\"dataframe\">\n",
       "  <thead>\n",
       "    <tr style=\"text-align: right;\">\n",
       "      <th></th>\n",
       "      <th>code</th>\n",
       "      <th>url</th>\n",
       "      <th>creator</th>\n",
       "      <th>created_t</th>\n",
       "      <th>created_datetime</th>\n",
       "      <th>last_modified_t</th>\n",
       "      <th>last_modified_datetime</th>\n",
       "      <th>product_name</th>\n",
       "      <th>generic_name</th>\n",
       "      <th>quantity</th>\n",
       "      <th>...</th>\n",
       "      <th>carbon-footprint_100g</th>\n",
       "      <th>nutrition-score-fr_100g</th>\n",
       "      <th>nutrition-score-uk_100g</th>\n",
       "      <th>glycemic-index_100g</th>\n",
       "      <th>water-hardness_100g</th>\n",
       "      <th>choline_100g</th>\n",
       "      <th>phylloquinone_100g</th>\n",
       "      <th>beta-glucan_100g</th>\n",
       "      <th>inositol_100g</th>\n",
       "      <th>carnitine_100g</th>\n",
       "    </tr>\n",
       "  </thead>\n",
       "  <tbody>\n",
       "    <tr>\n",
       "      <th>112013</th>\n",
       "      <td>0084253269827</td>\n",
       "      <td>http://world-en.openfoodfacts.org/product/0084...</td>\n",
       "      <td>usda-ndb-import</td>\n",
       "      <td>1489143569</td>\n",
       "      <td>2017-03-10T10:59:29Z</td>\n",
       "      <td>1489143570</td>\n",
       "      <td>2017-03-10T10:59:30Z</td>\n",
       "      <td>Dream, Coffee+Almond Drink, Latte Mocha</td>\n",
       "      <td>NaN</td>\n",
       "      <td>NaN</td>\n",
       "      <td>...</td>\n",
       "      <td>NaN</td>\n",
       "      <td>NaN</td>\n",
       "      <td>NaN</td>\n",
       "      <td>NaN</td>\n",
       "      <td>NaN</td>\n",
       "      <td>NaN</td>\n",
       "      <td>NaN</td>\n",
       "      <td>NaN</td>\n",
       "      <td>NaN</td>\n",
       "      <td>NaN</td>\n",
       "    </tr>\n",
       "    <tr>\n",
       "      <th>644435</th>\n",
       "      <td>84253269827</td>\n",
       "      <td>http://world-en.openfoodfacts.org/product/8425...</td>\n",
       "      <td>usda-ndb-import</td>\n",
       "      <td>1489142713</td>\n",
       "      <td>2017-03-10T10:45:13Z</td>\n",
       "      <td>1489142713</td>\n",
       "      <td>2017-03-10T10:45:13Z</td>\n",
       "      <td>Coffee+Almond Drink</td>\n",
       "      <td>NaN</td>\n",
       "      <td>NaN</td>\n",
       "      <td>...</td>\n",
       "      <td>NaN</td>\n",
       "      <td>NaN</td>\n",
       "      <td>NaN</td>\n",
       "      <td>NaN</td>\n",
       "      <td>NaN</td>\n",
       "      <td>NaN</td>\n",
       "      <td>NaN</td>\n",
       "      <td>NaN</td>\n",
       "      <td>NaN</td>\n",
       "      <td>NaN</td>\n",
       "    </tr>\n",
       "  </tbody>\n",
       "</table>\n",
       "<p>2 rows × 173 columns</p>\n",
       "</div>"
      ],
      "text/plain": [
       "                 code                                                url  \\\n",
       "112013  0084253269827  http://world-en.openfoodfacts.org/product/0084...   \n",
       "644435    84253269827  http://world-en.openfoodfacts.org/product/8425...   \n",
       "\n",
       "                creator   created_t      created_datetime last_modified_t  \\\n",
       "112013  usda-ndb-import  1489143569  2017-03-10T10:59:29Z      1489143570   \n",
       "644435  usda-ndb-import  1489142713  2017-03-10T10:45:13Z      1489142713   \n",
       "\n",
       "       last_modified_datetime                             product_name  \\\n",
       "112013   2017-03-10T10:59:30Z  Dream, Coffee+Almond Drink, Latte Mocha   \n",
       "644435   2017-03-10T10:45:13Z                      Coffee+Almond Drink   \n",
       "\n",
       "       generic_name quantity      ...       carbon-footprint_100g  \\\n",
       "112013          NaN      NaN      ...                         NaN   \n",
       "644435          NaN      NaN      ...                         NaN   \n",
       "\n",
       "       nutrition-score-fr_100g nutrition-score-uk_100g glycemic-index_100g  \\\n",
       "112013                     NaN                     NaN                 NaN   \n",
       "644435                     NaN                     NaN                 NaN   \n",
       "\n",
       "       water-hardness_100g choline_100g phylloquinone_100g beta-glucan_100g  \\\n",
       "112013                 NaN          NaN                NaN              NaN   \n",
       "644435                 NaN          NaN                NaN              NaN   \n",
       "\n",
       "       inositol_100g carnitine_100g  \n",
       "112013           NaN            NaN  \n",
       "644435           NaN            NaN  \n",
       "\n",
       "[2 rows x 173 columns]"
      ]
     },
     "execution_count": 27,
     "metadata": {},
     "output_type": "execute_result"
    }
   ],
   "source": [
    "##### Duplicate Products with different product_name, see an example below !\n",
    "df_food.query(\"code.str.endswith('84253269827')==True\")\n",
    "    "
   ]
  },
  {
   "cell_type": "code",
   "execution_count": null,
   "metadata": {},
   "outputs": [],
   "source": []
  },
  {
   "cell_type": "code",
   "execution_count": null,
   "metadata": {},
   "outputs": [],
   "source": []
  },
  {
   "cell_type": "markdown",
   "metadata": {},
   "source": [
    "<div class=\"alert alert-info\">\n",
    "\n",
    "<b>2.0 DATA CLEANING</b><br><i>\n",
    "This part, in <b>blue</b>, contains all the Data Cleaning's activities, performed on the en.openfoodfacts.org.products.csv. The goal of this part is to clean the data and enrich them based on the required activities.\n",
    "    \n",
    "To perform this Data Cleaning, we decided to:\n",
    "- 2.1 Clean Product Name<br>\n",
    "- 2.2 Clean/Enrich with Product Category 1 and Product Category 2 \n",
    "\n",
    "Before doing any analysis, It's indeed important to have a proper consolidated Dataset. Indeed, we discover that the Dataset requires a lot of cleaning activities and that the data quality is sometimes poor. This is the main reason we would like to focus to <b>openfood-import-ch</b> and <b>usda-nb-import</b>.\n",
    "</i></div>"
   ]
  },
  {
   "cell_type": "markdown",
   "metadata": {},
   "source": [
    "## Restrict to some columns"
   ]
  },
  {
   "cell_type": "code",
   "execution_count": 28,
   "metadata": {},
   "outputs": [],
   "source": [
    "columns_to_keep = ['code', \\\n",
    "                   'url' ,\\\n",
    "                   'creator',\\\n",
    "                   'created_t',\\\n",
    "                   'created_datetime',\\\n",
    "                   'last_modified_t',\\\n",
    "                   'product_name',\\\n",
    "                   'brands',\\\n",
    "                   'brands_tags',\\\n",
    "                   'main_category_en',\\\n",
    "                   'categories_en',\\\n",
    "                   'origins',\\\n",
    "                   'countries_en',\n",
    "                   'ingredients_text',\\\n",
    "                   'quantity',\\\n",
    "                   'serving_size',\\\n",
    "                   'serving_quantity',\\\n",
    "                   'additives_en',\\\n",
    "                   'sugars_100g',\\\n",
    "                   'salt_100g',\\\n",
    "                   'fat_100g',\\\n",
    "                   'sodium_100g',\\\n",
    "                   'energy_100g',\\\n",
    "                   'nutrition-score-fr_100g',\\\n",
    "                   'nutrition-score-uk_100g']"
   ]
  },
  {
   "cell_type": "code",
   "execution_count": 29,
   "metadata": {},
   "outputs": [
    {
     "data": {
      "text/html": [
       "<div>\n",
       "<style scoped>\n",
       "    .dataframe tbody tr th:only-of-type {\n",
       "        vertical-align: middle;\n",
       "    }\n",
       "\n",
       "    .dataframe tbody tr th {\n",
       "        vertical-align: top;\n",
       "    }\n",
       "\n",
       "    .dataframe thead th {\n",
       "        text-align: right;\n",
       "    }\n",
       "</style>\n",
       "<table border=\"1\" class=\"dataframe\">\n",
       "  <thead>\n",
       "    <tr style=\"text-align: right;\">\n",
       "      <th></th>\n",
       "      <th>code</th>\n",
       "      <th>url</th>\n",
       "      <th>creator</th>\n",
       "      <th>created_t</th>\n",
       "      <th>created_datetime</th>\n",
       "      <th>last_modified_t</th>\n",
       "      <th>product_name</th>\n",
       "      <th>brands</th>\n",
       "      <th>brands_tags</th>\n",
       "      <th>main_category_en</th>\n",
       "      <th>...</th>\n",
       "      <th>serving_size</th>\n",
       "      <th>serving_quantity</th>\n",
       "      <th>additives_en</th>\n",
       "      <th>sugars_100g</th>\n",
       "      <th>salt_100g</th>\n",
       "      <th>fat_100g</th>\n",
       "      <th>sodium_100g</th>\n",
       "      <th>energy_100g</th>\n",
       "      <th>nutrition-score-fr_100g</th>\n",
       "      <th>nutrition-score-uk_100g</th>\n",
       "    </tr>\n",
       "  </thead>\n",
       "  <tbody>\n",
       "    <tr>\n",
       "      <th>0</th>\n",
       "      <td>0000000000017</td>\n",
       "      <td>http://world-en.openfoodfacts.org/product/0000...</td>\n",
       "      <td>kiliweb</td>\n",
       "      <td>1529059080</td>\n",
       "      <td>2018-06-15T10:38:00Z</td>\n",
       "      <td>1529059204</td>\n",
       "      <td>Vitória crackers</td>\n",
       "      <td>NaN</td>\n",
       "      <td>NaN</td>\n",
       "      <td>NaN</td>\n",
       "      <td>...</td>\n",
       "      <td>NaN</td>\n",
       "      <td>0</td>\n",
       "      <td>NaN</td>\n",
       "      <td>15.0</td>\n",
       "      <td>1.40</td>\n",
       "      <td>7.0</td>\n",
       "      <td>0.551181</td>\n",
       "      <td>1569.0</td>\n",
       "      <td>NaN</td>\n",
       "      <td>NaN</td>\n",
       "    </tr>\n",
       "    <tr>\n",
       "      <th>1</th>\n",
       "      <td>0000000000031</td>\n",
       "      <td>http://world-en.openfoodfacts.org/product/0000...</td>\n",
       "      <td>isagoofy</td>\n",
       "      <td>1539464774</td>\n",
       "      <td>2018-10-13T21:06:14Z</td>\n",
       "      <td>1539464817</td>\n",
       "      <td>Cacao</td>\n",
       "      <td>NaN</td>\n",
       "      <td>NaN</td>\n",
       "      <td>NaN</td>\n",
       "      <td>...</td>\n",
       "      <td>NaN</td>\n",
       "      <td>0</td>\n",
       "      <td>NaN</td>\n",
       "      <td>NaN</td>\n",
       "      <td>NaN</td>\n",
       "      <td>NaN</td>\n",
       "      <td>NaN</td>\n",
       "      <td>NaN</td>\n",
       "      <td>NaN</td>\n",
       "      <td>NaN</td>\n",
       "    </tr>\n",
       "    <tr>\n",
       "      <th>2</th>\n",
       "      <td>0000000000123</td>\n",
       "      <td>http://world-en.openfoodfacts.org/product/0000...</td>\n",
       "      <td>kiliweb</td>\n",
       "      <td>1535737982</td>\n",
       "      <td>2018-08-31T17:53:02Z</td>\n",
       "      <td>1535737986</td>\n",
       "      <td>Sauce Sweety chili 0%</td>\n",
       "      <td>NaN</td>\n",
       "      <td>NaN</td>\n",
       "      <td>NaN</td>\n",
       "      <td>...</td>\n",
       "      <td>NaN</td>\n",
       "      <td>0</td>\n",
       "      <td>NaN</td>\n",
       "      <td>0.4</td>\n",
       "      <td>2.04</td>\n",
       "      <td>0.0</td>\n",
       "      <td>0.803150</td>\n",
       "      <td>88.0</td>\n",
       "      <td>NaN</td>\n",
       "      <td>NaN</td>\n",
       "    </tr>\n",
       "    <tr>\n",
       "      <th>3</th>\n",
       "      <td>0000000000291</td>\n",
       "      <td>http://world-en.openfoodfacts.org/product/0000...</td>\n",
       "      <td>kiliweb</td>\n",
       "      <td>1534239669</td>\n",
       "      <td>2018-08-14T09:41:09Z</td>\n",
       "      <td>1534239732</td>\n",
       "      <td>Mendiants</td>\n",
       "      <td>NaN</td>\n",
       "      <td>NaN</td>\n",
       "      <td>NaN</td>\n",
       "      <td>...</td>\n",
       "      <td>NaN</td>\n",
       "      <td>0</td>\n",
       "      <td>NaN</td>\n",
       "      <td>NaN</td>\n",
       "      <td>NaN</td>\n",
       "      <td>NaN</td>\n",
       "      <td>NaN</td>\n",
       "      <td>NaN</td>\n",
       "      <td>NaN</td>\n",
       "      <td>NaN</td>\n",
       "    </tr>\n",
       "    <tr>\n",
       "      <th>4</th>\n",
       "      <td>0000000000949</td>\n",
       "      <td>http://world-en.openfoodfacts.org/product/0000...</td>\n",
       "      <td>kiliweb</td>\n",
       "      <td>1523440813</td>\n",
       "      <td>2018-04-11T10:00:13Z</td>\n",
       "      <td>1523440823</td>\n",
       "      <td>Salade de carottes râpées</td>\n",
       "      <td>NaN</td>\n",
       "      <td>NaN</td>\n",
       "      <td>NaN</td>\n",
       "      <td>...</td>\n",
       "      <td>NaN</td>\n",
       "      <td>0</td>\n",
       "      <td>NaN</td>\n",
       "      <td>3.9</td>\n",
       "      <td>0.42</td>\n",
       "      <td>0.3</td>\n",
       "      <td>0.165354</td>\n",
       "      <td>134.0</td>\n",
       "      <td>NaN</td>\n",
       "      <td>NaN</td>\n",
       "    </tr>\n",
       "  </tbody>\n",
       "</table>\n",
       "<p>5 rows × 25 columns</p>\n",
       "</div>"
      ],
      "text/plain": [
       "            code                                                url   creator  \\\n",
       "0  0000000000017  http://world-en.openfoodfacts.org/product/0000...   kiliweb   \n",
       "1  0000000000031  http://world-en.openfoodfacts.org/product/0000...  isagoofy   \n",
       "2  0000000000123  http://world-en.openfoodfacts.org/product/0000...   kiliweb   \n",
       "3  0000000000291  http://world-en.openfoodfacts.org/product/0000...   kiliweb   \n",
       "4  0000000000949  http://world-en.openfoodfacts.org/product/0000...   kiliweb   \n",
       "\n",
       "    created_t      created_datetime last_modified_t  \\\n",
       "0  1529059080  2018-06-15T10:38:00Z      1529059204   \n",
       "1  1539464774  2018-10-13T21:06:14Z      1539464817   \n",
       "2  1535737982  2018-08-31T17:53:02Z      1535737986   \n",
       "3  1534239669  2018-08-14T09:41:09Z      1534239732   \n",
       "4  1523440813  2018-04-11T10:00:13Z      1523440823   \n",
       "\n",
       "                product_name brands brands_tags main_category_en  \\\n",
       "0           Vitória crackers    NaN         NaN              NaN   \n",
       "1                      Cacao    NaN         NaN              NaN   \n",
       "2      Sauce Sweety chili 0%    NaN         NaN              NaN   \n",
       "3                  Mendiants    NaN         NaN              NaN   \n",
       "4  Salade de carottes râpées    NaN         NaN              NaN   \n",
       "\n",
       "            ...            serving_size serving_quantity additives_en  \\\n",
       "0           ...                     NaN                0          NaN   \n",
       "1           ...                     NaN                0          NaN   \n",
       "2           ...                     NaN                0          NaN   \n",
       "3           ...                     NaN                0          NaN   \n",
       "4           ...                     NaN                0          NaN   \n",
       "\n",
       "  sugars_100g salt_100g fat_100g sodium_100g energy_100g  \\\n",
       "0        15.0      1.40      7.0    0.551181      1569.0   \n",
       "1         NaN       NaN      NaN         NaN         NaN   \n",
       "2         0.4      2.04      0.0    0.803150        88.0   \n",
       "3         NaN       NaN      NaN         NaN         NaN   \n",
       "4         3.9      0.42      0.3    0.165354       134.0   \n",
       "\n",
       "   nutrition-score-fr_100g  nutrition-score-uk_100g  \n",
       "0                      NaN                      NaN  \n",
       "1                      NaN                      NaN  \n",
       "2                      NaN                      NaN  \n",
       "3                      NaN                      NaN  \n",
       "4                      NaN                      NaN  \n",
       "\n",
       "[5 rows x 25 columns]"
      ]
     },
     "execution_count": 29,
     "metadata": {},
     "output_type": "execute_result"
    }
   ],
   "source": [
    "df_food_clean = df_food[columns_to_keep]\n",
    "df_food_clean.head()"
   ]
  },
  {
   "cell_type": "markdown",
   "metadata": {},
   "source": [
    "## Filter/Split Data (CH & USDA)"
   ]
  },
  {
   "cell_type": "code",
   "execution_count": 30,
   "metadata": {},
   "outputs": [],
   "source": [
    "df_food_clean_ch = df_food_clean.query(\"creator == 'openfood-ch-import'\")"
   ]
  },
  {
   "cell_type": "code",
   "execution_count": 31,
   "metadata": {},
   "outputs": [],
   "source": [
    "df_food_clean_usda = df_food_clean.query(\"creator == 'usda-ndb-import'\")"
   ]
  },
  {
   "cell_type": "markdown",
   "metadata": {},
   "source": [
    "<div class=\"alert alert-block alert-info\">\n",
    "\n",
    "<b>2.1 DATA CLEANING - Product Name</b><br>\n",
    "<i>Clean Product Name</i>\n",
    "<hr>\n",
    "<b>Remarks</b><br>\n",
    "<i>\n",
    "In order to have a proper data set, we decided to<br>\n",
    "    - Replace NaN value for Product_name, brands_tags and categories_en<br>\n",
    "    - Remove Products which do not have a Product Name, Category and a Brand<br>\n",
    "    - Replace empty Product Name by Category or Brand<br>\n",
    "</i>\n",
    "<br>\n",
    "</div>"
   ]
  },
  {
   "cell_type": "markdown",
   "metadata": {},
   "source": [
    "## Concept"
   ]
  },
  {
   "cell_type": "markdown",
   "metadata": {},
   "source": [
    "**Removing all products** which do not have any product's name, Category and Brands."
   ]
  },
  {
   "cell_type": "markdown",
   "metadata": {},
   "source": [
    "## Functions"
   ]
  },
  {
   "cell_type": "markdown",
   "metadata": {},
   "source": [
    "The function **check_if_exist** check if a current/specific value exists and returns 'Others' if it does not exist-"
   ]
  },
  {
   "cell_type": "code",
   "execution_count": 32,
   "metadata": {},
   "outputs": [],
   "source": [
    "def check_if_exist(curr_value, values):\n",
    "    \n",
    "    if (curr_value in values):        \n",
    "        return curr_value\n",
    "    else:\n",
    "        return 'Others'\n",
    "    \n",
    "    return 'Others'"
   ]
  },
  {
   "cell_type": "markdown",
   "metadata": {},
   "source": [
    "The function **replace_nan** replace all nan value for brands_tag and categories_en"
   ]
  },
  {
   "cell_type": "code",
   "execution_count": 33,
   "metadata": {},
   "outputs": [],
   "source": [
    "def replace_nan(df):\n",
    "    df.product_name.fillna('', inplace=True)\n",
    "    df.brands_tags.fillna('', inplace=True)\n",
    "    df.categories_en.fillna('', inplace=True)    \n",
    "    "
   ]
  },
  {
   "cell_type": "markdown",
   "metadata": {},
   "source": [
    "The function **show_product_without_name_category_brand** shows all the products which do not have:\n",
    "- any Product Name\n",
    "- any categories\n",
    "- any Brands"
   ]
  },
  {
   "cell_type": "code",
   "execution_count": 34,
   "metadata": {},
   "outputs": [],
   "source": [
    "def show_product_without_name_category_brand(df):\n",
    "    conditions = 'product_name.str.len() + categories_en.str.len() + brands_tags.str.len() == 0'\n",
    "    \n",
    "    df_to_clean = df.query(conditions)\n",
    "    \n",
    "    print('Products without Product name, Category and Brands: ' + str(df_to_clean.shape[0]))\n",
    "    print(df_to_clean[['code','product_name','brands','categories_en', 'sugars_100g']].head(10))\n"
   ]
  },
  {
   "cell_type": "markdown",
   "metadata": {},
   "source": [
    "The function **remove_product_without_name_category_brand** remove product which are not having any:\n",
    "- Product Name\n",
    "- Category\n",
    "- Brands"
   ]
  },
  {
   "cell_type": "code",
   "execution_count": 35,
   "metadata": {},
   "outputs": [],
   "source": [
    "def remove_product_without_name_category_brand(df):\n",
    "    conditions = 'product_name.str.len() + categories_en.str.len() + brands_tags.str.len() == 0'\n",
    "    \n",
    "    df_to_clean = df.drop(df.query(conditions).index, inplace=True)\n",
    "    "
   ]
  },
  {
   "cell_type": "markdown",
   "metadata": {},
   "source": [
    "The function **clean_product_name** ensure that the product_name is not empty by replacing empty product name with brands and/or category. "
   ]
  },
  {
   "cell_type": "code",
   "execution_count": 36,
   "metadata": {},
   "outputs": [],
   "source": [
    "def clean_product_name(df):\n",
    "    \n",
    "    #### This is not the optimal approach, \n",
    "    #### but it's quite flexible and could be improved accordingly.\n",
    "    for index, row in df.iterrows():        \n",
    "        product_name = str(row['product_name'])\n",
    "        categories_en = str(row['categories_en'])\n",
    "        brands_tags = str(row['brands_tags'])\n",
    "        \n",
    "        if (len(product_name)==0):\n",
    "        \n",
    "            if (len(brands_tags)>0):\n",
    "                product_name = brands_tags\n",
    "            elif (len(categories_en)>0):\n",
    "                product_name = categories_en\n",
    "            else:\n",
    "                product_name = 'Undefined'\n",
    "                \n",
    "            df.loc[index,'product_name'] = product_name            "
   ]
  },
  {
   "cell_type": "markdown",
   "metadata": {},
   "source": [
    "## Clean Product Name (CH)"
   ]
  },
  {
   "cell_type": "markdown",
   "metadata": {},
   "source": [
    "**Remove all nan values** for product_name, brands_tags and categories_en and replace them by an **empty string**."
   ]
  },
  {
   "cell_type": "code",
   "execution_count": 37,
   "metadata": {},
   "outputs": [
    {
     "name": "stdout",
     "output_type": "stream",
     "text": [
      "Products without Product name, Category and Brands: 2072\n",
      "                code product_name brands categories_en  sugars_100g\n",
      "29602  0030800009736                 NaN                       99.0\n",
      "39626  0039047010277                 NaN                       25.8\n",
      "72990  0059527551564                 NaN                       31.0\n",
      "77645  0070177010652                 NaN                        NaN\n",
      "77646  0070177010768                 NaN                        NaN\n",
      "77650  0070177011604                 NaN                        NaN\n",
      "77697  0070177094904                 NaN                        NaN\n",
      "77736  0070177171438                 NaN                        NaN\n",
      "77761  0070177196592                 NaN                        NaN\n",
      "77765  0070177212469                 NaN                        NaN\n"
     ]
    }
   ],
   "source": [
    "replace_nan(df_food_clean_ch)\n",
    "show_product_without_name_category_brand(df_food_clean_ch)"
   ]
  },
  {
   "cell_type": "code",
   "execution_count": 38,
   "metadata": {},
   "outputs": [],
   "source": [
    "remove_product_without_name_category_brand(df_food_clean_ch)"
   ]
  },
  {
   "cell_type": "markdown",
   "metadata": {},
   "source": [
    "**Clean Product Name** and ensure that it contains a value (replaced by category or brands if the Product's Name is empty)"
   ]
  },
  {
   "cell_type": "code",
   "execution_count": 39,
   "metadata": {},
   "outputs": [],
   "source": [
    "clean_product_name(df_food_clean_ch)"
   ]
  },
  {
   "cell_type": "markdown",
   "metadata": {},
   "source": [
    "Show all Product's name smaller than 3 characters"
   ]
  },
  {
   "cell_type": "code",
   "execution_count": 40,
   "metadata": {},
   "outputs": [
    {
     "data": {
      "text/html": [
       "<div>\n",
       "<style scoped>\n",
       "    .dataframe tbody tr th:only-of-type {\n",
       "        vertical-align: middle;\n",
       "    }\n",
       "\n",
       "    .dataframe tbody tr th {\n",
       "        vertical-align: top;\n",
       "    }\n",
       "\n",
       "    .dataframe thead th {\n",
       "        text-align: right;\n",
       "    }\n",
       "</style>\n",
       "<table border=\"1\" class=\"dataframe\">\n",
       "  <thead>\n",
       "    <tr style=\"text-align: right;\">\n",
       "      <th></th>\n",
       "      <th>code</th>\n",
       "      <th>product_name</th>\n",
       "      <th>categories_en</th>\n",
       "      <th>brands_tags</th>\n",
       "    </tr>\n",
       "  </thead>\n",
       "  <tbody>\n",
       "    <tr>\n",
       "      <th>231475</th>\n",
       "      <td>22139559</td>\n",
       "      <td>Ei</td>\n",
       "      <td>Farming products,Bird eggs,Eggs,Free-range eggs</td>\n",
       "      <td></td>\n",
       "    </tr>\n",
       "  </tbody>\n",
       "</table>\n",
       "</div>"
      ],
      "text/plain": [
       "            code product_name  \\\n",
       "231475  22139559           Ei   \n",
       "\n",
       "                                          categories_en brands_tags  \n",
       "231475  Farming products,Bird eggs,Eggs,Free-range eggs              "
      ]
     },
     "execution_count": 40,
     "metadata": {},
     "output_type": "execute_result"
    }
   ],
   "source": [
    "df_short_product_names_ch = df_food_clean_ch[df_food_clean_ch['product_name'].str.len() < 3]\n",
    "df_short_product_names_ch[['code','product_name','categories_en','brands_tags']]"
   ]
  },
  {
   "cell_type": "code",
   "execution_count": 41,
   "metadata": {},
   "outputs": [
    {
     "data": {
      "text/plain": [
       "(9387, 25)"
      ]
     },
     "execution_count": 41,
     "metadata": {},
     "output_type": "execute_result"
    }
   ],
   "source": [
    "df_food_clean_ch.shape"
   ]
  },
  {
   "cell_type": "markdown",
   "metadata": {},
   "source": [
    "## Clean Product Name (USDA)"
   ]
  },
  {
   "cell_type": "markdown",
   "metadata": {},
   "source": [
    "**Remove all nan values** for product_name, brands_tags and categories_en and replace them by an **empty string**."
   ]
  },
  {
   "cell_type": "code",
   "execution_count": 42,
   "metadata": {},
   "outputs": [
    {
     "name": "stdout",
     "output_type": "stream",
     "text": [
      "Products without Product name, Category and Brands: 0\n",
      "Empty DataFrame\n",
      "Columns: [code, product_name, brands, categories_en, sugars_100g]\n",
      "Index: []\n"
     ]
    }
   ],
   "source": [
    "replace_nan(df_food_clean_usda)\n",
    "show_product_without_name_category_brand(df_food_clean_usda)"
   ]
  },
  {
   "cell_type": "code",
   "execution_count": 43,
   "metadata": {},
   "outputs": [],
   "source": [
    "remove_product_without_name_category_brand(df_food_clean_usda)"
   ]
  },
  {
   "cell_type": "markdown",
   "metadata": {},
   "source": [
    "**Clean Product Name** and ensure that it contains a value (replaced by category or brands if the Product's Name is empty)"
   ]
  },
  {
   "cell_type": "code",
   "execution_count": 44,
   "metadata": {},
   "outputs": [],
   "source": [
    "clean_product_name(df_food_clean_usda)"
   ]
  },
  {
   "cell_type": "markdown",
   "metadata": {},
   "source": [
    "Show all Product's name smaller than 3 characters"
   ]
  },
  {
   "cell_type": "code",
   "execution_count": 45,
   "metadata": {},
   "outputs": [
    {
     "data": {
      "text/html": [
       "<div>\n",
       "<style scoped>\n",
       "    .dataframe tbody tr th:only-of-type {\n",
       "        vertical-align: middle;\n",
       "    }\n",
       "\n",
       "    .dataframe tbody tr th {\n",
       "        vertical-align: top;\n",
       "    }\n",
       "\n",
       "    .dataframe thead th {\n",
       "        text-align: right;\n",
       "    }\n",
       "</style>\n",
       "<table border=\"1\" class=\"dataframe\">\n",
       "  <thead>\n",
       "    <tr style=\"text-align: right;\">\n",
       "      <th></th>\n",
       "      <th>code</th>\n",
       "      <th>product_name</th>\n",
       "      <th>categories_en</th>\n",
       "      <th>brands_tags</th>\n",
       "    </tr>\n",
       "  </thead>\n",
       "  <tbody>\n",
       "    <tr>\n",
       "      <th>65066</th>\n",
       "      <td>0049022804920</td>\n",
       "      <td>19</td>\n",
       "      <td>Christmas foods and drinks,Advent calendars</td>\n",
       "      <td></td>\n",
       "    </tr>\n",
       "    <tr>\n",
       "      <th>200080</th>\n",
       "      <td>0869934000124</td>\n",
       "      <td>O</td>\n",
       "      <td></td>\n",
       "      <td>market-5201-llc</td>\n",
       "    </tr>\n",
       "    <tr>\n",
       "      <th>535139</th>\n",
       "      <td>5051379998097</td>\n",
       "      <td>C</td>\n",
       "      <td></td>\n",
       "      <td>fresh-easy</td>\n",
       "    </tr>\n",
       "  </tbody>\n",
       "</table>\n",
       "</div>"
      ],
      "text/plain": [
       "                 code product_name  \\\n",
       "65066   0049022804920           19   \n",
       "200080  0869934000124            O   \n",
       "535139  5051379998097            C   \n",
       "\n",
       "                                      categories_en      brands_tags  \n",
       "65066   Christmas foods and drinks,Advent calendars                   \n",
       "200080                                               market-5201-llc  \n",
       "535139                                                    fresh-easy  "
      ]
     },
     "execution_count": 45,
     "metadata": {},
     "output_type": "execute_result"
    }
   ],
   "source": [
    "df_short_product_names_usda = df_food_clean_usda[df_food_clean_usda['product_name'].str.len() < 3]\n",
    "df_short_product_names_usda[['code','product_name','categories_en','brands_tags']]"
   ]
  },
  {
   "cell_type": "code",
   "execution_count": 46,
   "metadata": {},
   "outputs": [
    {
     "data": {
      "text/plain": [
       "(169861, 25)"
      ]
     },
     "execution_count": 46,
     "metadata": {},
     "output_type": "execute_result"
    }
   ],
   "source": [
    "df_food_clean_usda.shape"
   ]
  },
  {
   "cell_type": "markdown",
   "metadata": {},
   "source": [
    "<div class=\"alert alert-block alert-info\">\n",
    "\n",
    "<b>2.2 DATA CLEANING - Enrich Data 'CATEGORY'</b><br>\n",
    "<i>Clean/Enrich Product Category 1 and Product Category 2</i>\n",
    "<hr>\n",
    "<b>Remarks</b><br>\n",
    "<i>\n",
    "Based on the analysis done above, and the overall bad quality of the data which make them difficult to compare. We decided to focus on swiss data (as we may have some knowledge of the products) and on USDA (provided by US government) which seems to be the most trustable.\n",
    "    \n",
    "In order to have a proper data set, we decided to: <br>\n",
    "Assign all orphan products to a category called 'Undefined'<br>\n",
    "Assign all products to category_1 and category_2(based on the columns categories_en)<br>\n",
    "Assign all products, belonging to category having less than 10 products, to a category called 'Others'\n",
    "</i>\n",
    "<br>\n",
    "</div>"
   ]
  },
  {
   "cell_type": "markdown",
   "metadata": {},
   "source": [
    "## Concept"
   ]
  },
  {
   "cell_type": "markdown",
   "metadata": {},
   "source": [
    "Create two generic categories (**category_1**: for Category of level 1 and **Category_2**: for Category of level 2)\n",
    "\n",
    "As there are many products without category, or categories which only contains few products, we decided to:\n",
    "- Assign all orphan products to a category called 'Undefined'\n",
    "- Assgin all products to category_1 and category_2 (based of the columns categories_en)\n",
    "- Assign all products, belonging to category having less than 10 products, to a category called 'Others'\n"
   ]
  },
  {
   "cell_type": "markdown",
   "metadata": {},
   "source": [
    "## Functions"
   ]
  },
  {
   "cell_type": "markdown",
   "metadata": {},
   "source": [
    "The function **enrich_with_meta_category** create a meta category composed of\n",
    "- category_1 : Category at the first level, notice that category, containing less than 10 products, are replaced by 'Others'\n",
    "- category_2 : Sub Category of Category 1"
   ]
  },
  {
   "cell_type": "code",
   "execution_count": 47,
   "metadata": {},
   "outputs": [],
   "source": [
    "def enrich_with_meta_category(df):\n",
    "    \n",
    "    df['category_1'] = 'Undefined'\n",
    "    df['category_2'] = 'Undefined'\n",
    "    \n",
    "    for index, row in df.iterrows():        \n",
    "        categories = str(row['categories_en'])\n",
    "        categories = categories.replace('fr:','')\n",
    "        \n",
    "        category_1 = categories\n",
    "        category_2 = ''\n",
    "        \n",
    "        \n",
    "        category_list = categories.split(\",\")\n",
    "        \n",
    "        if (len(category_list)>0):\n",
    "            category_1 = category_list[0]\n",
    "            \n",
    "            if len(category_1)>0:\n",
    "                df.loc[index,'category_1'] = category_1\n",
    "        \n",
    "            \n",
    "            if (len(category_list)>1):\n",
    "                category_2 = category_list[1]\n",
    "                \n",
    "                if len(category_2) > 0:\n",
    "                    df.loc[index,'category_2'] = category_2\n",
    "        \n",
    "          \n",
    "\n",
    "            \n",
    "    main_category1 = df.groupby(['category_1'], as_index = False)['code'].count()\n",
    "    main_category1 = main_category1.query('code>=10').sort_values(by='code', ascending=False)\n",
    "\n",
    "\n",
    "    df['category_1'] =  df.apply(lambda z: check_if_exist(z.category_1, \\\n",
    "                                 main_category1['category_1'].values), axis='columns')\n",
    "\n",
    "            "
   ]
  },
  {
   "cell_type": "markdown",
   "metadata": {},
   "source": [
    "## Enrich META CATEGORY (CH)"
   ]
  },
  {
   "cell_type": "code",
   "execution_count": 48,
   "metadata": {},
   "outputs": [],
   "source": [
    "enrich_with_meta_category(df_food_clean_ch)"
   ]
  },
  {
   "cell_type": "code",
   "execution_count": 49,
   "metadata": {},
   "outputs": [
    {
     "data": {
      "text/plain": [
       "array(['Undefined', 'Plant-based foods and beverages', 'Sugary snacks',\n",
       "       'Tees', 'Beverages', 'Groceries', 'Seafood', 'Meats', 'Dairies',\n",
       "       'Others', 'Farming products', 'Kaugummis', 'Meals', 'Spreads',\n",
       "       'Fruhstucke', 'Canned foods', 'Nudeln', 'Desserts', 'Salty snacks',\n",
       "       'Schokoladen', 'Pralinen', 'Baby foods', 'Joghurt', 'Kaffees',\n",
       "       'Fleisch'], dtype=object)"
      ]
     },
     "execution_count": 49,
     "metadata": {},
     "output_type": "execute_result"
    }
   ],
   "source": [
    "df_food_clean_ch['category_1'].unique()"
   ]
  },
  {
   "cell_type": "code",
   "execution_count": 50,
   "metadata": {},
   "outputs": [
    {
     "data": {
      "text/plain": [
       "category_1\n",
       "Undefined                          7514\n",
       "Plant-based foods and beverages     425\n",
       "Sugary snacks                       298\n",
       "Beverages                           279\n",
       "Others                              242\n",
       "Dairies                             102\n",
       "Meals                                77\n",
       "Groceries                            62\n",
       "Nudeln                               40\n",
       "Salty snacks                         38\n",
       "Desserts                             34\n",
       "Spreads                              32\n",
       "Tees                                 29\n",
       "Farming products                     27\n",
       "Kaffees                              27\n",
       "Meats                                25\n",
       "Joghurt                              25\n",
       "Seafood                              22\n",
       "Baby foods                           18\n",
       "Name: code, dtype: int64"
      ]
     },
     "execution_count": 50,
     "metadata": {},
     "output_type": "execute_result"
    }
   ],
   "source": [
    "df_food_clean_ch.groupby('category_1')['code'].count().sort_values(ascending=False).head(19)\n"
   ]
  },
  {
   "cell_type": "markdown",
   "metadata": {},
   "source": [
    "## Enrich META CATEGORY (USDA)"
   ]
  },
  {
   "cell_type": "code",
   "execution_count": 51,
   "metadata": {},
   "outputs": [],
   "source": [
    "enrich_with_meta_category(df_food_clean_usda)"
   ]
  },
  {
   "cell_type": "code",
   "execution_count": 52,
   "metadata": {},
   "outputs": [
    {
     "data": {
      "text/plain": [
       "array(['Undefined', 'Pains-bagel', 'Others',\n",
       "       'Plant-based foods and beverages', 'Sugary snacks', 'Groceries',\n",
       "       'Beverages', 'Goat-milk-cheese', 'Dairies', 'Substituts-de-viande'],\n",
       "      dtype=object)"
      ]
     },
     "execution_count": 52,
     "metadata": {},
     "output_type": "execute_result"
    }
   ],
   "source": [
    "df_food_clean_usda['category_1'].unique()"
   ]
  },
  {
   "cell_type": "code",
   "execution_count": 53,
   "metadata": {},
   "outputs": [
    {
     "data": {
      "text/plain": [
       "category_1\n",
       "Undefined                          168417\n",
       "Plant-based foods and beverages       556\n",
       "Groceries                             326\n",
       "Sugary snacks                         238\n",
       "Others                                193\n",
       "Pains-bagel                            50\n",
       "Dairies                                29\n",
       "Beverages                              27\n",
       "Substituts-de-viande                   15\n",
       "Goat-milk-cheese                       10\n",
       "Name: code, dtype: int64"
      ]
     },
     "execution_count": 53,
     "metadata": {},
     "output_type": "execute_result"
    }
   ],
   "source": [
    "df_food_clean_usda.groupby('category_1')['code'].count().sort_values(ascending=False).head(19)"
   ]
  },
  {
   "cell_type": "markdown",
   "metadata": {},
   "source": [
    "<div class=\"alert alert-block alert-info\">\n",
    "\n",
    "<b>2.3 DATA CLEANING - Enrich Data</b><br>\n",
    "<i>Clean/Enrich data META_BRAND</i>\n",
    "<hr>\n",
    "<b>Remarks</b><br>\n",
    "<i>\n",
    "In order to have a proper data set, we decided to<br>\n",
    "    - Get list of Brands from WIKIPEDIA<br>\n",
    "    - Clean brands_tag and only select the first brand<br>\n",
    "    - Assign NaN brands_tags to a brand called 'undefined'\n",
    "    - Extende the Dataset an map to Company & Brands with information retrieved from WikiPedia\n",
    "</i>\n",
    "<br>\n",
    "</div>"
   ]
  },
  {
   "cell_type": "markdown",
   "metadata": {},
   "source": [
    "## Concept"
   ]
  },
  {
   "cell_type": "markdown",
   "metadata": {},
   "source": [
    "The idea is to get all the brand from wikipedia and organized them as shown in the below picture.\n",
    "\n",
    "<br>\n",
    "<img src=\"http://fan-tas-tic.com/wp-content/uploads/2012/04/the-illusion-of-choice-all-brands-belongs-to-one-company2.jpg\"></img>\n",
    "\n",
    "\n",
    "\n",
    "To reach this goal, we may need to parser below wikipedia pages:\n",
    "- https://en.wikipedia.org/wiki/Category:Nestlé_brands\n",
    "- https://en.wikipedia.org/wiki/Category:Procter_%26_Gamble_brands\n",
    "- https://en.wikipedia.org/wiki/Category:Johnson_%26_Johnson_brands\n",
    "- https://en.wikipedia.org/wiki/List_of_Unilever_brands\n",
    "- https://en.wikipedia.org/wiki/Category:Mars_brands\n",
    "- https://en.wikipedia.org/wiki/Category:Kellogg%27s_brands\n",
    "- https://fr.wikipedia.org/wiki/Catégorie:Marque_du_groupe_PepsiCo\n",
    "- https://en.wikipedia.org/wiki/Category:Coca-Cola_brands\n",
    "- https://en.wikipedia.org/wiki/Category:Wrigley_Company_brands\n",
    "- https://en.wikipedia.org/wiki/Category:Kraft_Foods_brands\n",
    "\n",
    "\n",
    "This may let the possibility to compare products per company or per brands. As shown in the analysis above, tha data quality of OpenFoodFacts is not having the expected quality. Maybe are we reaching here the limitation of an open community ?\n",
    "Even if we are able to retrieve all those brands from wikipedia, we are not sure to be able to join them with the one from OpenFoodFact.\n",
    "\n",
    "See below how to retrieve information from an unstructured web site:"
   ]
  },
  {
   "cell_type": "markdown",
   "metadata": {},
   "source": [
    "## Functions"
   ]
  },
  {
   "cell_type": "markdown",
   "metadata": {},
   "source": [
    "The Functions **get_brand** download from wikipedia all the brands of one Company"
   ]
  },
  {
   "cell_type": "code",
   "execution_count": 54,
   "metadata": {},
   "outputs": [],
   "source": [
    "def get_brand(company_name, company_url, starts_with, ends_with):\n",
    "    \n",
    "    is_start_item_founded = False\n",
    "    \n",
    "    r = requests.get(company_url)\n",
    "    \n",
    "\n",
    "    page_body = r.text\n",
    "    soup = BeautifulSoup(page_body, 'html.parser')\n",
    "    all_li = soup.find_all('li')\n",
    "\n",
    "    linkCompanyName= []\n",
    "    linkCompanyUrl=[]\n",
    "    linkTexts = []\n",
    "    linkUrls =[]\n",
    "\n",
    "    for li in all_li:\n",
    "        #print(li.contents)\n",
    "        a = li.find('a')\n",
    "        if (    a is not None \\\n",
    "            and a.has_attr('href') \\\n",
    "            and a.has_attr('title') \\\n",
    "            and len(a.text)>0 ):\n",
    "        \n",
    "            if(a.text[0].isdigit() == False and a.text.startswith('href') == False):\n",
    "                #print(str(a.text) + '-https://en.wikipedia.org' + str(a['href']))        \n",
    "            \n",
    "                if(a.text.startswith(starts_with)):\n",
    "                    is_start_item_founded = True\n",
    "                    \n",
    "                if (is_start_item_founded==True):\n",
    "                    linkCompanyName.append(company_name)\n",
    "                    linkCompanyUrl.append(company_url)\n",
    "                    linkTexts.append(a.text)\n",
    "                    linkUrls.append('https://en.wikipedia.org' + str(a['href']))\n",
    "            \n",
    "                #Exit after last Food Companies\n",
    "                if(a.text.startswith(ends_with)):\n",
    "                    break\n",
    "            \n",
    "        \n",
    "    df = pd.DataFrame(list(zip(linkCompanyName, linkCompanyUrl, linkTexts, linkUrls)), columns=['company_name', 'company_url', 'brand_name', 'brand_url'])\n",
    "    \n",
    "    return df\n",
    "\n"
   ]
  },
  {
   "cell_type": "markdown",
   "metadata": {},
   "source": [
    "The Functions **get_brands** return information from all main Food Companies"
   ]
  },
  {
   "cell_type": "code",
   "execution_count": 55,
   "metadata": {
    "scrolled": true
   },
   "outputs": [],
   "source": [
    "def get_brands():\n",
    "    df_kraft = get_brand('Kraft Foods', 'https://en.wikipedia.org/wiki/Category:Kraft_Foods_brands', 'A.1', 'Vigroids')\n",
    "    df_wrigley = get_brand('Wrigley','https://en.wikipedia.org/wiki/Category:Wrigley_Company_brands', 'Air', 'Wrigley')\n",
    "    df_coca = get_brand('Coca-Cola', 'https://en.wikipedia.org/wiki/Category:Coca-Cola_brands', 'AdeS', 'Yoli')\n",
    "    df_pepsi = get_brand('Pepsi-co', 'https://fr.wikipedia.org/wiki/Catégorie:Marque_du_groupe_PepsiCo', 'Aqua', 'Tropicana')\n",
    "    df_kelloggs = get_brand('Kellogs','https://en.wikipedia.org/wiki/Category:Kellogg%27s_brands', 'Bear', 'Wheatables' )\n",
    "    df_mars = get_brand('Mars', 'https://en.wikipedia.org/wiki/Category:Mars_brands', 'Altoids', 'Whistle')\n",
    "    df_unilever = get_brand('Unilever', 'https://en.wikipedia.org/wiki/List_of_Unilever_brands', 'Ben', 'Weis')\n",
    "    df_johnson = get_brand('Johnson', 'https://en.wikipedia.org/wiki/Category:Johnson_%26_Johnson_brands', 'Aciphex', 'Zytiga')\n",
    "    df_procter = get_brand('Procter & Gamble', 'https://en.wikipedia.org/wiki/Category:Procter_%26_Gamble_brands', 'Always', 'Wella')\n",
    "    df_nestle = get_brand('Nestlé', 'https://en.wikipedia.org/wiki/Category:Nestlé_brands', 'Abuelita', 'Zephyrhills')    \n",
    "\n",
    "    df_brands = pd.concat([df_kraft, df_wrigley, df_coca, df_pepsi, df_kelloggs, df_mars, df_unilever, df_johnson, df_procter, df_nestle])\n",
    "    df_brands.set_index = 'brand_name'\n",
    "    df_brands['brand_name']=df_brands['brand_name'].str.lower()\n",
    "    \n",
    "    return df_brands\n",
    "\n"
   ]
  },
  {
   "cell_type": "markdown",
   "metadata": {},
   "source": [
    "The function **enrich_with_meta_brand** create a new brand's category, the first 10 of them are grouped together, the remaining are pushed to an  'Others' category whereas Nan values ar pushed to an 'Undefined' Category''"
   ]
  },
  {
   "cell_type": "code",
   "execution_count": 56,
   "metadata": {},
   "outputs": [],
   "source": [
    "def enrich_with_meta_brand(df):\n",
    "\n",
    "    df['meta_brand'] = 'Undefined'\n",
    "    \n",
    "    for index, row in df.iterrows():        \n",
    "        brands = str(row['brands_tags'])\n",
    "        \n",
    "        \n",
    "        brand_list = brands.split(\",\")\n",
    "        \n",
    "        if (len(brand_list)>0):\n",
    "            meta_brand = brand_list[0]\n",
    "            \n",
    "            if len(meta_brand)>0:\n",
    "                df.loc[index,'meta_brand'] = meta_brand\n",
    "            else:\n",
    "                df.loc[index,'meta_brand'] = 'Undefined'\n",
    "        else:\n",
    "            df.loc[index, 'meta_brand'] = 'Undefined'\n",
    "\n",
    "            \n",
    "    #main_brand = df.groupby(['meta_brand'], as_index = False)['code'].count()\n",
    "    #main_brand = main_brand.query('code>=1').sort_values(by='code', ascending=False)\n",
    "\n",
    "\n",
    "    #df['meta_brand'] =  df.apply(lambda z: check_if_exist(z.meta_brand, \\\n",
    "    #                             main_brand['meta_brand'].values), axis='columns')\n",
    "\n",
    "    df['meta_brand'] = df['meta_brand'].replace(np.nan, 'Undefined')\n",
    "    return df\n",
    "            "
   ]
  },
  {
   "cell_type": "markdown",
   "metadata": {},
   "source": [
    "## Get all main Brands from Wikipedia"
   ]
  },
  {
   "cell_type": "code",
   "execution_count": 57,
   "metadata": {},
   "outputs": [],
   "source": [
    "df_brands = get_brands()"
   ]
  },
  {
   "cell_type": "markdown",
   "metadata": {},
   "source": [
    "## Enrich with META BRAND (CH)"
   ]
  },
  {
   "cell_type": "code",
   "execution_count": 58,
   "metadata": {
    "scrolled": false
   },
   "outputs": [
    {
     "name": "stdout",
     "output_type": "stream",
     "text": [
      "As you can see, there is always a category_1, category_2 and a meta_brand\n"
     ]
    },
    {
     "data": {
      "text/html": [
       "<div>\n",
       "<style scoped>\n",
       "    .dataframe tbody tr th:only-of-type {\n",
       "        vertical-align: middle;\n",
       "    }\n",
       "\n",
       "    .dataframe tbody tr th {\n",
       "        vertical-align: top;\n",
       "    }\n",
       "\n",
       "    .dataframe thead th {\n",
       "        text-align: right;\n",
       "    }\n",
       "</style>\n",
       "<table border=\"1\" class=\"dataframe\">\n",
       "  <thead>\n",
       "    <tr style=\"text-align: right;\">\n",
       "      <th></th>\n",
       "      <th>code</th>\n",
       "      <th>url</th>\n",
       "      <th>creator</th>\n",
       "      <th>created_t</th>\n",
       "      <th>created_datetime</th>\n",
       "      <th>last_modified_t</th>\n",
       "      <th>product_name</th>\n",
       "      <th>brands</th>\n",
       "      <th>brands_tags</th>\n",
       "      <th>main_category_en</th>\n",
       "      <th>...</th>\n",
       "      <th>sugars_100g</th>\n",
       "      <th>salt_100g</th>\n",
       "      <th>fat_100g</th>\n",
       "      <th>sodium_100g</th>\n",
       "      <th>energy_100g</th>\n",
       "      <th>nutrition-score-fr_100g</th>\n",
       "      <th>nutrition-score-uk_100g</th>\n",
       "      <th>category_1</th>\n",
       "      <th>category_2</th>\n",
       "      <th>meta_brand</th>\n",
       "    </tr>\n",
       "  </thead>\n",
       "  <tbody>\n",
       "    <tr>\n",
       "      <th>8312</th>\n",
       "      <td>0011210115224</td>\n",
       "      <td>http://world-en.openfoodfacts.org/product/0011...</td>\n",
       "      <td>openfood-ch-import</td>\n",
       "      <td>1486497833</td>\n",
       "      <td>2017-02-07T20:03:53Z</td>\n",
       "      <td>1511595754</td>\n",
       "      <td>Tabasco Pepper Sauce</td>\n",
       "      <td>NaN</td>\n",
       "      <td></td>\n",
       "      <td>NaN</td>\n",
       "      <td>...</td>\n",
       "      <td>NaN</td>\n",
       "      <td>NaN</td>\n",
       "      <td>NaN</td>\n",
       "      <td>NaN</td>\n",
       "      <td>NaN</td>\n",
       "      <td>NaN</td>\n",
       "      <td>NaN</td>\n",
       "      <td>Undefined</td>\n",
       "      <td>Undefined</td>\n",
       "      <td>undefined</td>\n",
       "    </tr>\n",
       "    <tr>\n",
       "      <th>11410</th>\n",
       "      <td>0012086314018</td>\n",
       "      <td>http://world-en.openfoodfacts.org/product/0012...</td>\n",
       "      <td>openfood-ch-import</td>\n",
       "      <td>1486503848</td>\n",
       "      <td>2017-02-07T21:44:08Z</td>\n",
       "      <td>1486503849</td>\n",
       "      <td>Joseph Droukin Montagny</td>\n",
       "      <td>NaN</td>\n",
       "      <td></td>\n",
       "      <td>NaN</td>\n",
       "      <td>...</td>\n",
       "      <td>NaN</td>\n",
       "      <td>NaN</td>\n",
       "      <td>NaN</td>\n",
       "      <td>NaN</td>\n",
       "      <td>NaN</td>\n",
       "      <td>NaN</td>\n",
       "      <td>NaN</td>\n",
       "      <td>Undefined</td>\n",
       "      <td>Undefined</td>\n",
       "      <td>undefined</td>\n",
       "    </tr>\n",
       "    <tr>\n",
       "      <th>22876</th>\n",
       "      <td>0024000001669</td>\n",
       "      <td>http://world-en.openfoodfacts.org/product/0024...</td>\n",
       "      <td>openfood-ch-import</td>\n",
       "      <td>1486494551</td>\n",
       "      <td>2017-02-07T19:09:11Z</td>\n",
       "      <td>1535999594</td>\n",
       "      <td>Tranches d'Ananas : au Jus</td>\n",
       "      <td>DelMonte, Del Monte</td>\n",
       "      <td>delmonte,del-monte</td>\n",
       "      <td>NaN</td>\n",
       "      <td>...</td>\n",
       "      <td>13.1</td>\n",
       "      <td>0.00</td>\n",
       "      <td>0.0</td>\n",
       "      <td>0.000000</td>\n",
       "      <td>242.0</td>\n",
       "      <td>NaN</td>\n",
       "      <td>NaN</td>\n",
       "      <td>Undefined</td>\n",
       "      <td>Undefined</td>\n",
       "      <td>delmonte</td>\n",
       "    </tr>\n",
       "    <tr>\n",
       "      <th>22891</th>\n",
       "      <td>0024000009580</td>\n",
       "      <td>http://world-en.openfoodfacts.org/product/0024...</td>\n",
       "      <td>openfood-ch-import</td>\n",
       "      <td>1486496081</td>\n",
       "      <td>2017-02-07T19:34:41Z</td>\n",
       "      <td>1487255908</td>\n",
       "      <td>Mélange de Fruits Tropicaux</td>\n",
       "      <td>Del Monte</td>\n",
       "      <td>del-monte</td>\n",
       "      <td>NaN</td>\n",
       "      <td>...</td>\n",
       "      <td>15.4</td>\n",
       "      <td>0.02</td>\n",
       "      <td>0.1</td>\n",
       "      <td>0.007874</td>\n",
       "      <td>279.0</td>\n",
       "      <td>NaN</td>\n",
       "      <td>NaN</td>\n",
       "      <td>Undefined</td>\n",
       "      <td>Undefined</td>\n",
       "      <td>del-monte</td>\n",
       "    </tr>\n",
       "    <tr>\n",
       "      <th>22897</th>\n",
       "      <td>0024000010920</td>\n",
       "      <td>http://world-en.openfoodfacts.org/product/0024...</td>\n",
       "      <td>openfood-ch-import</td>\n",
       "      <td>1486496084</td>\n",
       "      <td>2017-02-07T19:34:44Z</td>\n",
       "      <td>1489853399</td>\n",
       "      <td>Cocktail de fruits au sirop</td>\n",
       "      <td>Del Monte</td>\n",
       "      <td>del-monte</td>\n",
       "      <td>Plant-based foods and beverages</td>\n",
       "      <td>...</td>\n",
       "      <td>15.0</td>\n",
       "      <td>0.10</td>\n",
       "      <td>0.1</td>\n",
       "      <td>0.039370</td>\n",
       "      <td>274.0</td>\n",
       "      <td>-3.0</td>\n",
       "      <td>-3.0</td>\n",
       "      <td>Plant-based foods and beverages</td>\n",
       "      <td>Plant-based foods</td>\n",
       "      <td>del-monte</td>\n",
       "    </tr>\n",
       "  </tbody>\n",
       "</table>\n",
       "<p>5 rows × 28 columns</p>\n",
       "</div>"
      ],
      "text/plain": [
       "                code                                                url  \\\n",
       "8312   0011210115224  http://world-en.openfoodfacts.org/product/0011...   \n",
       "11410  0012086314018  http://world-en.openfoodfacts.org/product/0012...   \n",
       "22876  0024000001669  http://world-en.openfoodfacts.org/product/0024...   \n",
       "22891  0024000009580  http://world-en.openfoodfacts.org/product/0024...   \n",
       "22897  0024000010920  http://world-en.openfoodfacts.org/product/0024...   \n",
       "\n",
       "                  creator   created_t      created_datetime last_modified_t  \\\n",
       "8312   openfood-ch-import  1486497833  2017-02-07T20:03:53Z      1511595754   \n",
       "11410  openfood-ch-import  1486503848  2017-02-07T21:44:08Z      1486503849   \n",
       "22876  openfood-ch-import  1486494551  2017-02-07T19:09:11Z      1535999594   \n",
       "22891  openfood-ch-import  1486496081  2017-02-07T19:34:41Z      1487255908   \n",
       "22897  openfood-ch-import  1486496084  2017-02-07T19:34:44Z      1489853399   \n",
       "\n",
       "                      product_name               brands         brands_tags  \\\n",
       "8312          Tabasco Pepper Sauce                  NaN                       \n",
       "11410      Joseph Droukin Montagny                  NaN                       \n",
       "22876   Tranches d'Ananas : au Jus  DelMonte, Del Monte  delmonte,del-monte   \n",
       "22891  Mélange de Fruits Tropicaux            Del Monte           del-monte   \n",
       "22897  Cocktail de fruits au sirop            Del Monte           del-monte   \n",
       "\n",
       "                      main_category_en     ...     sugars_100g salt_100g  \\\n",
       "8312                               NaN     ...             NaN       NaN   \n",
       "11410                              NaN     ...             NaN       NaN   \n",
       "22876                              NaN     ...            13.1      0.00   \n",
       "22891                              NaN     ...            15.4      0.02   \n",
       "22897  Plant-based foods and beverages     ...            15.0      0.10   \n",
       "\n",
       "      fat_100g sodium_100g energy_100g nutrition-score-fr_100g  \\\n",
       "8312       NaN         NaN         NaN                     NaN   \n",
       "11410      NaN         NaN         NaN                     NaN   \n",
       "22876      0.0    0.000000       242.0                     NaN   \n",
       "22891      0.1    0.007874       279.0                     NaN   \n",
       "22897      0.1    0.039370       274.0                    -3.0   \n",
       "\n",
       "      nutrition-score-uk_100g                       category_1  \\\n",
       "8312                      NaN                        Undefined   \n",
       "11410                     NaN                        Undefined   \n",
       "22876                     NaN                        Undefined   \n",
       "22891                     NaN                        Undefined   \n",
       "22897                    -3.0  Plant-based foods and beverages   \n",
       "\n",
       "              category_2  meta_brand  \n",
       "8312           Undefined   undefined  \n",
       "11410          Undefined   undefined  \n",
       "22876          Undefined    delmonte  \n",
       "22891          Undefined   del-monte  \n",
       "22897  Plant-based foods   del-monte  \n",
       "\n",
       "[5 rows x 28 columns]"
      ]
     },
     "execution_count": 58,
     "metadata": {},
     "output_type": "execute_result"
    }
   ],
   "source": [
    "df_food_clean_ch= enrich_with_meta_brand(df_food_clean_ch)\n",
    "df_food_clean_ch['meta_brand']=df_food_clean_ch['meta_brand'].str.lower()\n",
    "df_food_clean_ch[['code', 'product_name', 'category_1', 'category_2', 'meta_brand','creator']]\n",
    "\n",
    "print('As you can see, there is always a category_1, category_2 and a meta_brand')\n",
    "df_food_clean_ch.head(5)"
   ]
  },
  {
   "cell_type": "markdown",
   "metadata": {},
   "source": [
    "Extend information with Company Name and information retrieved from Wikipedia"
   ]
  },
  {
   "cell_type": "code",
   "execution_count": 59,
   "metadata": {},
   "outputs": [
    {
     "data": {
      "text/plain": [
       "knorr        121\n",
       "cailler       49\n",
       "thomy         47\n",
       "maggi         34\n",
       "lipton        19\n",
       "buitoni       11\n",
       "nestea         8\n",
       "maille         5\n",
       "fanta          3\n",
       "coca-cola      3\n",
       "gatorade       2\n",
       "maizena        2\n",
       "tropicana      2\n",
       "Name: brand_name, dtype: int64"
      ]
     },
     "execution_count": 59,
     "metadata": {},
     "output_type": "execute_result"
    }
   ],
   "source": [
    "df_food_clean_ch=pd.merge(df_food_clean_ch,df_brands, left_on='meta_brand', right_on='brand_name')\n",
    "df_food_clean_ch\n",
    "\n",
    "df_food_clean_ch['brand_name'].value_counts()\n"
   ]
  },
  {
   "cell_type": "markdown",
   "metadata": {},
   "source": [
    "## Enrich with META BRAND (USDA)"
   ]
  },
  {
   "cell_type": "code",
   "execution_count": 60,
   "metadata": {},
   "outputs": [
    {
     "name": "stdout",
     "output_type": "stream",
     "text": [
      "As you can see, there is always a category_1, category_2 and a meta_brand\n"
     ]
    },
    {
     "data": {
      "text/html": [
       "<div>\n",
       "<style scoped>\n",
       "    .dataframe tbody tr th:only-of-type {\n",
       "        vertical-align: middle;\n",
       "    }\n",
       "\n",
       "    .dataframe tbody tr th {\n",
       "        vertical-align: top;\n",
       "    }\n",
       "\n",
       "    .dataframe thead th {\n",
       "        text-align: right;\n",
       "    }\n",
       "</style>\n",
       "<table border=\"1\" class=\"dataframe\">\n",
       "  <thead>\n",
       "    <tr style=\"text-align: right;\">\n",
       "      <th></th>\n",
       "      <th>code</th>\n",
       "      <th>url</th>\n",
       "      <th>creator</th>\n",
       "      <th>created_t</th>\n",
       "      <th>created_datetime</th>\n",
       "      <th>last_modified_t</th>\n",
       "      <th>product_name</th>\n",
       "      <th>brands</th>\n",
       "      <th>brands_tags</th>\n",
       "      <th>main_category_en</th>\n",
       "      <th>...</th>\n",
       "      <th>sugars_100g</th>\n",
       "      <th>salt_100g</th>\n",
       "      <th>fat_100g</th>\n",
       "      <th>sodium_100g</th>\n",
       "      <th>energy_100g</th>\n",
       "      <th>nutrition-score-fr_100g</th>\n",
       "      <th>nutrition-score-uk_100g</th>\n",
       "      <th>category_1</th>\n",
       "      <th>category_2</th>\n",
       "      <th>meta_brand</th>\n",
       "    </tr>\n",
       "  </thead>\n",
       "  <tbody>\n",
       "    <tr>\n",
       "      <th>34</th>\n",
       "      <td>0000000004530</td>\n",
       "      <td>http://world-en.openfoodfacts.org/product/0000...</td>\n",
       "      <td>usda-ndb-import</td>\n",
       "      <td>1489069957</td>\n",
       "      <td>2017-03-09T14:32:37Z</td>\n",
       "      <td>1489069957</td>\n",
       "      <td>Banana Chips Sweetened (Whole)</td>\n",
       "      <td>NaN</td>\n",
       "      <td></td>\n",
       "      <td>NaN</td>\n",
       "      <td>...</td>\n",
       "      <td>14.29</td>\n",
       "      <td>0.00000</td>\n",
       "      <td>28.57</td>\n",
       "      <td>0.000</td>\n",
       "      <td>2243.0</td>\n",
       "      <td>NaN</td>\n",
       "      <td>NaN</td>\n",
       "      <td>Undefined</td>\n",
       "      <td>Undefined</td>\n",
       "      <td>undefined</td>\n",
       "    </tr>\n",
       "    <tr>\n",
       "      <th>35</th>\n",
       "      <td>0000000004559</td>\n",
       "      <td>http://world-en.openfoodfacts.org/product/0000...</td>\n",
       "      <td>usda-ndb-import</td>\n",
       "      <td>1489069957</td>\n",
       "      <td>2017-03-09T14:32:37Z</td>\n",
       "      <td>1489069957</td>\n",
       "      <td>Peanuts</td>\n",
       "      <td>Torn &amp; Glasser</td>\n",
       "      <td>torn-glasser</td>\n",
       "      <td>NaN</td>\n",
       "      <td>...</td>\n",
       "      <td>17.86</td>\n",
       "      <td>0.63500</td>\n",
       "      <td>17.86</td>\n",
       "      <td>0.250</td>\n",
       "      <td>1941.0</td>\n",
       "      <td>NaN</td>\n",
       "      <td>NaN</td>\n",
       "      <td>Undefined</td>\n",
       "      <td>Undefined</td>\n",
       "      <td>torn-glasser</td>\n",
       "    </tr>\n",
       "    <tr>\n",
       "      <th>62</th>\n",
       "      <td>0000000016087</td>\n",
       "      <td>http://world-en.openfoodfacts.org/product/0000...</td>\n",
       "      <td>usda-ndb-import</td>\n",
       "      <td>1489055731</td>\n",
       "      <td>2017-03-09T10:35:31Z</td>\n",
       "      <td>1489055731</td>\n",
       "      <td>Organic Salted Nut Mix</td>\n",
       "      <td>Grizzlies</td>\n",
       "      <td>grizzlies</td>\n",
       "      <td>NaN</td>\n",
       "      <td>...</td>\n",
       "      <td>3.57</td>\n",
       "      <td>1.22428</td>\n",
       "      <td>57.14</td>\n",
       "      <td>0.482</td>\n",
       "      <td>2540.0</td>\n",
       "      <td>NaN</td>\n",
       "      <td>NaN</td>\n",
       "      <td>Undefined</td>\n",
       "      <td>Undefined</td>\n",
       "      <td>grizzlies</td>\n",
       "    </tr>\n",
       "    <tr>\n",
       "      <th>63</th>\n",
       "      <td>0000000016094</td>\n",
       "      <td>http://world-en.openfoodfacts.org/product/0000...</td>\n",
       "      <td>usda-ndb-import</td>\n",
       "      <td>1489055653</td>\n",
       "      <td>2017-03-09T10:34:13Z</td>\n",
       "      <td>1489055653</td>\n",
       "      <td>Organic Polenta</td>\n",
       "      <td>Bob's Red Mill</td>\n",
       "      <td>bob-s-red-mill</td>\n",
       "      <td>NaN</td>\n",
       "      <td>...</td>\n",
       "      <td>NaN</td>\n",
       "      <td>NaN</td>\n",
       "      <td>1.43</td>\n",
       "      <td>NaN</td>\n",
       "      <td>1552.0</td>\n",
       "      <td>NaN</td>\n",
       "      <td>NaN</td>\n",
       "      <td>Undefined</td>\n",
       "      <td>Undefined</td>\n",
       "      <td>bob-s-red-mill</td>\n",
       "    </tr>\n",
       "    <tr>\n",
       "      <th>64</th>\n",
       "      <td>0000000016100</td>\n",
       "      <td>http://world-en.openfoodfacts.org/product/0000...</td>\n",
       "      <td>usda-ndb-import</td>\n",
       "      <td>1489055651</td>\n",
       "      <td>2017-03-09T10:34:11Z</td>\n",
       "      <td>1489055651</td>\n",
       "      <td>Breadshop Honey Gone Nuts Granola</td>\n",
       "      <td>Unfi</td>\n",
       "      <td>unfi</td>\n",
       "      <td>NaN</td>\n",
       "      <td>...</td>\n",
       "      <td>11.54</td>\n",
       "      <td>NaN</td>\n",
       "      <td>18.27</td>\n",
       "      <td>NaN</td>\n",
       "      <td>1933.0</td>\n",
       "      <td>NaN</td>\n",
       "      <td>NaN</td>\n",
       "      <td>Undefined</td>\n",
       "      <td>Undefined</td>\n",
       "      <td>unfi</td>\n",
       "    </tr>\n",
       "  </tbody>\n",
       "</table>\n",
       "<p>5 rows × 28 columns</p>\n",
       "</div>"
      ],
      "text/plain": [
       "             code                                                url  \\\n",
       "34  0000000004530  http://world-en.openfoodfacts.org/product/0000...   \n",
       "35  0000000004559  http://world-en.openfoodfacts.org/product/0000...   \n",
       "62  0000000016087  http://world-en.openfoodfacts.org/product/0000...   \n",
       "63  0000000016094  http://world-en.openfoodfacts.org/product/0000...   \n",
       "64  0000000016100  http://world-en.openfoodfacts.org/product/0000...   \n",
       "\n",
       "            creator   created_t      created_datetime last_modified_t  \\\n",
       "34  usda-ndb-import  1489069957  2017-03-09T14:32:37Z      1489069957   \n",
       "35  usda-ndb-import  1489069957  2017-03-09T14:32:37Z      1489069957   \n",
       "62  usda-ndb-import  1489055731  2017-03-09T10:35:31Z      1489055731   \n",
       "63  usda-ndb-import  1489055653  2017-03-09T10:34:13Z      1489055653   \n",
       "64  usda-ndb-import  1489055651  2017-03-09T10:34:11Z      1489055651   \n",
       "\n",
       "                         product_name          brands     brands_tags  \\\n",
       "34     Banana Chips Sweetened (Whole)             NaN                   \n",
       "35                            Peanuts  Torn & Glasser    torn-glasser   \n",
       "62             Organic Salted Nut Mix       Grizzlies       grizzlies   \n",
       "63                    Organic Polenta  Bob's Red Mill  bob-s-red-mill   \n",
       "64  Breadshop Honey Gone Nuts Granola            Unfi            unfi   \n",
       "\n",
       "   main_category_en       ...       sugars_100g salt_100g fat_100g  \\\n",
       "34              NaN       ...             14.29   0.00000    28.57   \n",
       "35              NaN       ...             17.86   0.63500    17.86   \n",
       "62              NaN       ...              3.57   1.22428    57.14   \n",
       "63              NaN       ...               NaN       NaN     1.43   \n",
       "64              NaN       ...             11.54       NaN    18.27   \n",
       "\n",
       "   sodium_100g energy_100g nutrition-score-fr_100g nutrition-score-uk_100g  \\\n",
       "34       0.000      2243.0                     NaN                     NaN   \n",
       "35       0.250      1941.0                     NaN                     NaN   \n",
       "62       0.482      2540.0                     NaN                     NaN   \n",
       "63         NaN      1552.0                     NaN                     NaN   \n",
       "64         NaN      1933.0                     NaN                     NaN   \n",
       "\n",
       "   category_1  category_2      meta_brand  \n",
       "34  Undefined   Undefined       undefined  \n",
       "35  Undefined   Undefined    torn-glasser  \n",
       "62  Undefined   Undefined       grizzlies  \n",
       "63  Undefined   Undefined  bob-s-red-mill  \n",
       "64  Undefined   Undefined            unfi  \n",
       "\n",
       "[5 rows x 28 columns]"
      ]
     },
     "execution_count": 60,
     "metadata": {},
     "output_type": "execute_result"
    }
   ],
   "source": [
    "df_food_clean_usda= enrich_with_meta_brand(df_food_clean_usda)\n",
    "df_food_clean_usda['meta_brand']=df_food_clean_usda['meta_brand'].str.lower()\n",
    "df_food_clean_usda[['code', 'product_name', 'category_1', 'category_2', 'meta_brand','creator']]\n",
    "\n",
    "print('As you can see, there is always a category_1, category_2 and a meta_brand')\n",
    "df_food_clean_usda.head(5)"
   ]
  },
  {
   "cell_type": "markdown",
   "metadata": {},
   "source": [
    "Extend information with Company Name and information retrieved from Wikipedia"
   ]
  },
  {
   "cell_type": "code",
   "execution_count": 61,
   "metadata": {},
   "outputs": [
    {
     "data": {
      "text/plain": [
       "weis          1226\n",
       "lipton         203\n",
       "jell-o         193\n",
       "breyers        108\n",
       "kool-aid        93\n",
       "knorr           73\n",
       "talenti         65\n",
       "mio             41\n",
       "klondike        40\n",
       "polly-o         29\n",
       "lunchables      26\n",
       "lactaid         25\n",
       "planters        20\n",
       "dasani          18\n",
       "velveeta        17\n",
       "frito-lay       14\n",
       "perrier          8\n",
       "popsicle         6\n",
       "maille           6\n",
       "aquafina         4\n",
       "marmite          1\n",
       "coca-cola        1\n",
       "hi-c             1\n",
       "pepsi            1\n",
       "ozarka           1\n",
       "Name: brand_name, dtype: int64"
      ]
     },
     "execution_count": 61,
     "metadata": {},
     "output_type": "execute_result"
    }
   ],
   "source": [
    "df_food_clean_usda=pd.merge(df_food_clean_usda,df_brands, left_on='meta_brand', right_on='brand_name')\n",
    "df_food_clean_usda\n",
    "\n",
    "df_food_clean_usda['brand_name'].value_counts()\n"
   ]
  },
  {
   "cell_type": "markdown",
   "metadata": {},
   "source": [
    "<div class=\"alert alert-block alert-info\">\n",
    "\n",
    "<b>2.4 DATA CLEANING - Enrich Data 'PIECE OF SUGARS' per Serving and Product</b><br>\n",
    "<i>Enrich values related to piece of sugars</i>\n",
    "<hr>\n",
    "<b>Remarks</b><br>\n",
    "<i>\n",
    "In order to have a proper data set, we decided to<br>\n",
    "    - Enrich data with Product's quantity<br>\n",
    "    - Enrich data with sugars per serving<br>\n",
    "    - Enrich data with sugars per product<br>\n",
    "</i>\n",
    "<br>\n",
    "</div>"
   ]
  },
  {
   "cell_type": "markdown",
   "metadata": {},
   "source": [
    "## Concept"
   ]
  },
  {
   "cell_type": "markdown",
   "metadata": {},
   "source": [
    "Calculate the number of piece of sugars for one 'Serving'.\n",
    "**5.95gr** is the weight of a standard piece of sugars\n",
    "https://fr.wikipedia.org/wiki/Sucre_en_morceaux\n",
    "\n",
    "\n",
    "<img src=\"https://upload.wikimedia.org/wikipedia/commons/f/ff/Sucre_en_morceaux_n%C2%B0_4.jpg\"></img>\n",
    "Picture provided by <a href=\"//commons.wikimedia.org/wiki/User:Gilles_Mairet\" title=\"User:Gilles Mairet\">Gilles Mairet</a> — <span class=\"int-own-work\" lang=\"fr\">Travail personnel</span>, <a href=\"https://creativecommons.org/licenses/by-sa/4.0\" title=\"Creative Commons Attribution-Share Alike 4.0\">CC BY-SA 4.0</a>, <a href=\"https://commons.wikimedia.org/w/index.php?curid=64540058\">Lien</a>\n"
   ]
  },
  {
   "cell_type": "markdown",
   "metadata": {},
   "source": [
    "## Functions"
   ]
  },
  {
   "cell_type": "markdown",
   "metadata": {},
   "source": [
    "Then function **enrich_with_sugars_per_serving** calculate the number of piece of sugars contained in one serving"
   ]
  },
  {
   "cell_type": "code",
   "execution_count": 62,
   "metadata": {},
   "outputs": [],
   "source": [
    "def enrich_with_sugars_per_serving(df):    \n",
    "    df['sugars_per_serving'] = df['serving_quantity'].astype(float)  * df['sugars_100g'].astype(float)  /100 /5.95\n",
    "    \n",
    "    df['sugars_per_serving'].fillna(0, inplace=True)\n",
    "    df['sugars_100g'].fillna(0, inplace=True)\n",
    "    "
   ]
  },
  {
   "cell_type": "markdown",
   "metadata": {},
   "source": [
    "The function **enrich_with_sugars_per_product** calculate the number of piece of sugars contained in one Product"
   ]
  },
  {
   "cell_type": "code",
   "execution_count": 63,
   "metadata": {},
   "outputs": [],
   "source": [
    "def enrich_with_sugars_per_product(df):    \n",
    "    df['sugars_per_product'] = df['product_quantity'].astype(float)  * df['sugars_100g'].astype(float)  /100 /5.95\n",
    "    \n",
    "    df['sugars_per_product'].fillna(0, inplace=True)\n",
    "    df['sugars_100g'].fillna(0, inplace=True)"
   ]
  },
  {
   "cell_type": "markdown",
   "metadata": {},
   "source": [
    "The function **get_first_nbr_from_str** returns the first numeric characters, the goal is to only take the numbers and the quantity field has some times some trailing characters or extra comments, which is not likely relevant."
   ]
  },
  {
   "cell_type": "code",
   "execution_count": 64,
   "metadata": {},
   "outputs": [],
   "source": [
    "def get_first_nbr_from_str(input_str):\n",
    "    '''\n",
    "    :param input_str: strings that contains digit and words\n",
    "    :return: the number extracted from the input_str\n",
    "    demo:\n",
    "    'ab324.23.123xyz': 324.23\n",
    "    '.5abc44': 0.5\n",
    "    '''\n",
    "    \n",
    "    try:\n",
    "        input_str=input_str.replace(',','.').strip()\n",
    "\n",
    "        if not input_str and not isinstance(input_str, str):\n",
    "            return 0\n",
    "        out_number = ''\n",
    "        for ele in input_str:\n",
    "            if (ele == '.' and '.' not in out_number) or ele.isdigit():\n",
    "                out_number += ele\n",
    "            elif out_number:\n",
    "                break\n",
    "        return float(out_number)\n",
    "    except:\n",
    "        return float(0)\n",
    "        pass\n"
   ]
  },
  {
   "cell_type": "code",
   "execution_count": 65,
   "metadata": {},
   "outputs": [],
   "source": [
    "def float_from_text(fieldValue):\n",
    "   \n",
    "    return get_first_nbr_from_str(fieldValue)\n",
    "    "
   ]
  },
  {
   "cell_type": "markdown",
   "metadata": {},
   "source": [
    "The function **multiply_quantity_if_required** check the content of the quantity. Some time the package contains portion and values are represented in 3 portions X 50gr. In order to perform comparison, in this example, we would like to have 3X50=150"
   ]
  },
  {
   "cell_type": "code",
   "execution_count": 66,
   "metadata": {},
   "outputs": [],
   "source": [
    "def multiply_quantity_if_required(quantity):\n",
    "    \n",
    "    tmpX = quantity.find('X')\n",
    "    if (tmpX > 0):\n",
    "        tmpValue1 = str(quantity[:tmpX]).strip().replace(',','.')\n",
    "        tmpValue2 = str(quantity[tmpX+1:]).strip().replace(',','.')\n",
    "        \n",
    "        ##### Convert to a fload and multiply by 1000        \n",
    "        #print('tmpValue1:' + tmpValue1 + ' X tmpValue2:' + tmpValue2)\n",
    "        return str(float_from_text(tmpValue1)*float_from_text(tmpValue2))\n",
    "\n",
    "                \n",
    "    tmpX = quantity.find('*')\n",
    "    if (tmpX > 0):\n",
    "        tmpValue1 = str(quantity[:tmpX]).strip().replace(',','.')\n",
    "        tmpValue2 = str(quantity[tmpX+1:]).strip().replace(',','.')\n",
    "        \n",
    "        ##### Convert to a fload and multiply by 1000        \n",
    "        #print('tmpValue1:' + tmpValue1 + ' x tmpValue2:' + tmpValue2)\n",
    "        return str(float_from_text(tmpValue1)*float_from_text(tmpValue2))\n",
    "        \n",
    "        \n",
    "    return quantity     "
   ]
  },
  {
   "cell_type": "markdown",
   "metadata": {},
   "source": [
    "The function **enrich_product_quantiy** calclulate the amount of quantiy in gr or ml.\n",
    "To perform this calculation:\n",
    "- values have to be converted, like KG to GR.\n",
    "- values have to be multiplied, like 3 x 40GR =>120GR\n",
    "- Extra values have to be removed, like 'egoutté'\n"
   ]
  },
  {
   "cell_type": "code",
   "execution_count": 67,
   "metadata": {},
   "outputs": [],
   "source": [
    "def enrich_product_quantity(quantity_text):\n",
    " \n",
    "    ##### Convert all in upper case\n",
    "    cleaned_quantity = str(quantity_text).upper().strip()\n",
    "    cleaned_quantity = cleaned_quantity.replace(',','.')\n",
    "\n",
    "    ##### Remove extra remarks in bracket, like (1 portiom)\n",
    "    first_p = cleaned_quantity.find('(')    \n",
    "    if first_p > 0:\n",
    "        cleaned_quantity = cleaned_quantity[:first_p].strip()\n",
    "    \n",
    "    ##### Remove extra comments, which are separated by -\n",
    "    first = cleaned_quantity.find('-')\n",
    "    if first > 0:\n",
    "        cleaned_quantity = cleaned_quantity[:first].strip()\n",
    "        \n",
    "    ##### Remove extra measure, always take the first one)\n",
    "    first_p = cleaned_quantity.find('/')    \n",
    "    if first_p > 0:\n",
    "        cleaned_quantity = cleaned_quantity[:first_p]\n",
    "    \n",
    "    ##### Clean quantity by removing e (which means 'egoutté')\n",
    "    if (cleaned_quantity.endswith('E')):     \n",
    "        lenght = len(cleaned_quantity.strip())\n",
    "        cleaned_quantity = cleaned_quantity[:lenght-2].strip()\n",
    "        \n",
    "    if (cleaned_quantity.endswith('℮')):\n",
    "        lenght = len(cleaned_quantity.strip())\n",
    "        cleaned_quantity = cleaned_quantity[:lenght-2].strip()\n",
    "        \n",
    "    cleaned_quantity = cleaned_quantity.strip()\n",
    "    \n",
    "    ####################################################################################\n",
    "    ##### Convert liquid: L - DL CL - ML\n",
    "    ####################################################################################\n",
    "\n",
    "    #### ML\n",
    "    if (cleaned_quantity.endswith('ML')):\n",
    "        lenght = len(cleaned_quantity.strip())\n",
    "        tmpValue = cleaned_quantity[:lenght-4]\n",
    "        tmpValue = multiply_quantity_if_required(tmpValue)                \n",
    "        cleaned_quantity = tmpValue\n",
    "    \n",
    "    #### CL\n",
    "    tmpCL = cleaned_quantity.find('CL')\n",
    "    if (tmpCL > 0):\n",
    "        tmpValue = str(cleaned_quantity[:tmpCL-1]).strip().replace(',','.')\n",
    "        tmpValue = multiply_quantity_if_required(tmpValue)        \n",
    "        ##### Convert, multiply by 10        \n",
    "        cleaned_quantity = str(float_from_text(tmpValue) * 10)\n",
    "            \n",
    "    #### DL\n",
    "    tmpDL = cleaned_quantity.find('DL')\n",
    "    if (tmpDL > 0):\n",
    "        tmpValue = str(cleaned_quantity[:tmpDL]).strip().replace(',','.')\n",
    "        tmpValue = multiply_quantity_if_required(tmpValue)        \n",
    "        ##### Convert, multiply by 100        \n",
    "        cleaned_quantity = str(float_from_text(tmpValue) * 100)\n",
    "        \n",
    "    #### L        \n",
    "    tmpL = cleaned_quantity.find('L')\n",
    "    if (tmpL > 0):\n",
    "        tmpValue = str(cleaned_quantity[:tmpL]).strip().replace(',','.')\n",
    "        tmpValue = multiply_quantity_if_required(tmpValue).strip()        \n",
    "        ##### Convert, Multiply by 1000        \n",
    "        cleaned_quantity = str(float_from_text(tmpValue) * 1000)\n",
    "        \n",
    "            \n",
    "    \n",
    "    ####################################################################################\n",
    "    ##### Convert weight: KG - HG - DG - GR - MG\n",
    "    ####################################################################################\n",
    "\n",
    "    #### KG\n",
    "    tmpKG = cleaned_quantity.find('KG')\n",
    "    if (tmpKG > 0):        \n",
    "        tmpValue = str(cleaned_quantity[:tmpKG]).strip().replace(',','.')\n",
    "        tmpValue = multiply_quantity_if_required(tmpValue)        \n",
    "        ##### Convert KG to G by 1000          \n",
    "        cleaned_quantity = str(float_from_text(tmpValue) * 1000)\n",
    "        \n",
    "    #### HG\n",
    "    tmpHG = cleaned_quantity.find('HG')\n",
    "    if (tmpHG > 0):        \n",
    "        tmpValue = str(cleaned_quantity[:tmpHG]).strip().replace(',','.')\n",
    "        tmpValue = multiply_quantity_if_required(tmpValue)        \n",
    "        ##### Convert, multiply by 100        \n",
    "        cleaned_quantity = str(float_from_text(tmpValue) * 100)\n",
    "        \n",
    "    #### DG\n",
    "    tmpDG = cleaned_quantity.find('DG')\n",
    "    if (tmpDG > 0):\n",
    "        tmpValue = str(cleaned_quantity[:tmpDG]).strip().replace(',','.')\n",
    "        tmpValue = multiply_quantity_if_required(tmpValue)\n",
    "        ##### Convert, multiply by 10        \n",
    "        cleaned_quantity = str(float_from_text(tmpValue) * 10)        \n",
    "    \n",
    "    #### MG\n",
    "    tmpMG = cleaned_quantity.find('MG')\n",
    "    if (tmpMG > 0):        \n",
    "        tmpValue = str(cleaned_quantity[:tmpMG]).strip().replace(',','.')\n",
    "        tmpValue = multiply_quantity_if_required(tmpValue)        \n",
    "        ##### Convert, Divide by 1000        \n",
    "        cleaned_quantity = str(float_from_text(tmpValue) / 1000)\n",
    "        \n",
    "    \n",
    "    ##### Clean quantity by removing g (gramms)\n",
    "    if (cleaned_quantity.endswith('GR')):\n",
    "        lenght = len(cleaned_quantity.strip())\n",
    "        cleaned_quantity = cleaned_quantity[:lenght-3].strip()\n",
    "        \n",
    "    if (cleaned_quantity.endswith('G')):\n",
    "        lenght = len(cleaned_quantity.strip())\n",
    "        tmpValue = cleaned_quantity[:lenght-2].strip()              \n",
    "        cleaned_quantity = multiply_quantity_if_required(tmpValue)\n",
    "    \n",
    "        \n",
    "    ##### Remove any extra space (start-end)\n",
    "    cleaned_quantity = cleaned_quantity.strip()    \n",
    "    clean_quantity = multiply_quantity_if_required(cleaned_quantity)\n",
    "        \n",
    "    \n",
    "    ##### Remove any extra space (start-end)\n",
    "    cleaned_quantity = cleaned_quantity.strip()\n",
    "    \n",
    "    cleaned_quantity = str(get_first_nbr_from_str(cleaned_quantity))\n",
    "    \n",
    "    ##### Return the cleaned quantity\n",
    "    return cleaned_quantity"
   ]
  },
  {
   "cell_type": "markdown",
   "metadata": {},
   "source": [
    "## Enrich with piece of sugars per Serving and Product (CH)"
   ]
  },
  {
   "cell_type": "markdown",
   "metadata": {},
   "source": [
    "**Clean and Enrich Product Quantity** by creating a new column cleaned_quantity \n",
    "\n",
    "All quantity are converted to g and ml."
   ]
  },
  {
   "cell_type": "code",
   "execution_count": 68,
   "metadata": {},
   "outputs": [],
   "source": [
    "df_food_clean_ch['product_quantity']= df_food_clean_ch.apply(lambda z: enrich_product_quantity(z.quantity), axis='columns')\n",
    "df_food_clean_ch['product_quantity']= df_food_clean_ch['product_quantity'].astype(float) "
   ]
  },
  {
   "cell_type": "code",
   "execution_count": 69,
   "metadata": {},
   "outputs": [],
   "source": [
    "enrich_with_sugars_per_serving(df_food_clean_ch)\n",
    "enrich_with_sugars_per_product(df_food_clean_ch)"
   ]
  },
  {
   "cell_type": "markdown",
   "metadata": {},
   "source": [
    "As you can see below, the Dataset had been enhanced with extra information about sugars per serving and per product"
   ]
  },
  {
   "cell_type": "code",
   "execution_count": 71,
   "metadata": {},
   "outputs": [
    {
     "data": {
      "text/html": [
       "<div>\n",
       "<style scoped>\n",
       "    .dataframe tbody tr th:only-of-type {\n",
       "        vertical-align: middle;\n",
       "    }\n",
       "\n",
       "    .dataframe tbody tr th {\n",
       "        vertical-align: top;\n",
       "    }\n",
       "\n",
       "    .dataframe thead th {\n",
       "        text-align: right;\n",
       "    }\n",
       "</style>\n",
       "<table border=\"1\" class=\"dataframe\">\n",
       "  <thead>\n",
       "    <tr style=\"text-align: right;\">\n",
       "      <th></th>\n",
       "      <th>code</th>\n",
       "      <th>product_name</th>\n",
       "      <th>sugars_100g</th>\n",
       "      <th>sugars_per_serving</th>\n",
       "      <th>sugars_per_product</th>\n",
       "    </tr>\n",
       "  </thead>\n",
       "  <tbody>\n",
       "    <tr>\n",
       "      <th>0</th>\n",
       "      <td>3033210080873</td>\n",
       "      <td>Belle Napoli : Pizza avec trois fromages</td>\n",
       "      <td>1.4</td>\n",
       "      <td>0.317647</td>\n",
       "      <td>1.270588</td>\n",
       "    </tr>\n",
       "    <tr>\n",
       "      <th>1</th>\n",
       "      <td>7610100514456</td>\n",
       "      <td>Buitoni Quick Pâte Pizza Rond</td>\n",
       "      <td>0.1</td>\n",
       "      <td>0.027731</td>\n",
       "      <td>0.000000</td>\n",
       "    </tr>\n",
       "    <tr>\n",
       "      <th>2</th>\n",
       "      <td>7613031522200</td>\n",
       "      <td>Piccolinis : Piccante</td>\n",
       "      <td>3.2</td>\n",
       "      <td>0.484034</td>\n",
       "      <td>1.452101</td>\n",
       "    </tr>\n",
       "    <tr>\n",
       "      <th>3</th>\n",
       "      <td>7613032016524</td>\n",
       "      <td>PIZZA Extra</td>\n",
       "      <td>0.2</td>\n",
       "      <td>0.021176</td>\n",
       "      <td>0.126050</td>\n",
       "    </tr>\n",
       "    <tr>\n",
       "      <th>4</th>\n",
       "      <td>7613033627293</td>\n",
       "      <td>La Fina Prosciutto E Pesto</td>\n",
       "      <td>1.9</td>\n",
       "      <td>0.558824</td>\n",
       "      <td>0.000000</td>\n",
       "    </tr>\n",
       "    <tr>\n",
       "      <th>5</th>\n",
       "      <td>7613034057846</td>\n",
       "      <td>Bella Napoli 4Mini Pizze Margherita</td>\n",
       "      <td>1.8</td>\n",
       "      <td>0.453782</td>\n",
       "      <td>0.907563</td>\n",
       "    </tr>\n",
       "    <tr>\n",
       "      <th>6</th>\n",
       "      <td>7613034679451</td>\n",
       "      <td>Pizza La Fina Hawaii</td>\n",
       "      <td>4.0</td>\n",
       "      <td>1.277311</td>\n",
       "      <td>0.255462</td>\n",
       "    </tr>\n",
       "    <tr>\n",
       "      <th>7</th>\n",
       "      <td>7613035221185</td>\n",
       "      <td>Pizza La Fina Diavola Picante</td>\n",
       "      <td>3.3</td>\n",
       "      <td>0.970588</td>\n",
       "      <td>0.000000</td>\n",
       "    </tr>\n",
       "    <tr>\n",
       "      <th>8</th>\n",
       "      <td>7613035384361</td>\n",
       "      <td>Margherita</td>\n",
       "      <td>3.0</td>\n",
       "      <td>0.605042</td>\n",
       "      <td>1.815126</td>\n",
       "    </tr>\n",
       "    <tr>\n",
       "      <th>9</th>\n",
       "      <td>8000300122275</td>\n",
       "      <td>Grissini Torinesi fini</td>\n",
       "      <td>3.5</td>\n",
       "      <td>0.000000</td>\n",
       "      <td>1.470588</td>\n",
       "    </tr>\n",
       "  </tbody>\n",
       "</table>\n",
       "</div>"
      ],
      "text/plain": [
       "            code                              product_name  sugars_100g  \\\n",
       "0  3033210080873  Belle Napoli : Pizza avec trois fromages          1.4   \n",
       "1  7610100514456             Buitoni Quick Pâte Pizza Rond          0.1   \n",
       "2  7613031522200                     Piccolinis : Piccante          3.2   \n",
       "3  7613032016524                               PIZZA Extra          0.2   \n",
       "4  7613033627293                La Fina Prosciutto E Pesto          1.9   \n",
       "5  7613034057846       Bella Napoli 4Mini Pizze Margherita          1.8   \n",
       "6  7613034679451                      Pizza La Fina Hawaii          4.0   \n",
       "7  7613035221185             Pizza La Fina Diavola Picante          3.3   \n",
       "8  7613035384361                                Margherita          3.0   \n",
       "9  8000300122275                    Grissini Torinesi fini          3.5   \n",
       "\n",
       "   sugars_per_serving  sugars_per_product  \n",
       "0            0.317647            1.270588  \n",
       "1            0.027731            0.000000  \n",
       "2            0.484034            1.452101  \n",
       "3            0.021176            0.126050  \n",
       "4            0.558824            0.000000  \n",
       "5            0.453782            0.907563  \n",
       "6            1.277311            0.255462  \n",
       "7            0.970588            0.000000  \n",
       "8            0.605042            1.815126  \n",
       "9            0.000000            1.470588  "
      ]
     },
     "execution_count": 71,
     "metadata": {},
     "output_type": "execute_result"
    }
   ],
   "source": [
    "columns = ['code', 'product_name', 'sugars_100g', 'sugars_per_serving', 'sugars_per_product']\n",
    "df_food_clean_ch[columns].head(10)\n"
   ]
  },
  {
   "cell_type": "markdown",
   "metadata": {},
   "source": [
    "## Enrich with piece of sugars per Serving and Product (USDA)"
   ]
  },
  {
   "cell_type": "markdown",
   "metadata": {},
   "source": [
    "**Clean and Enrich Product Quantity** by creating a new column cleaned_quantity \n",
    "\n",
    "All quantity are converted to g and ml."
   ]
  },
  {
   "cell_type": "code",
   "execution_count": 72,
   "metadata": {},
   "outputs": [],
   "source": [
    "df_food_clean_usda['product_quantity']= df_food_clean_usda.apply(lambda z: enrich_product_quantity(z.quantity), axis='columns')\n",
    "df_food_clean_usda['product_quantity']= df_food_clean_usda['product_quantity'].astype(float) "
   ]
  },
  {
   "cell_type": "code",
   "execution_count": 73,
   "metadata": {},
   "outputs": [],
   "source": [
    "enrich_with_sugars_per_serving(df_food_clean_usda)\n",
    "enrich_with_sugars_per_product(df_food_clean_usda)"
   ]
  },
  {
   "cell_type": "markdown",
   "metadata": {},
   "source": [
    "As you can see below, the Dataset had been enhanced with extra information about sugars per serving and per product"
   ]
  },
  {
   "cell_type": "code",
   "execution_count": 74,
   "metadata": {},
   "outputs": [
    {
     "data": {
      "text/html": [
       "<div>\n",
       "<style scoped>\n",
       "    .dataframe tbody tr th:only-of-type {\n",
       "        vertical-align: middle;\n",
       "    }\n",
       "\n",
       "    .dataframe tbody tr th {\n",
       "        vertical-align: top;\n",
       "    }\n",
       "\n",
       "    .dataframe thead th {\n",
       "        text-align: right;\n",
       "    }\n",
       "</style>\n",
       "<table border=\"1\" class=\"dataframe\">\n",
       "  <thead>\n",
       "    <tr style=\"text-align: right;\">\n",
       "      <th></th>\n",
       "      <th>code</th>\n",
       "      <th>product_name</th>\n",
       "      <th>sugars_100g</th>\n",
       "      <th>sugars_per_serving</th>\n",
       "      <th>sugars_per_product</th>\n",
       "    </tr>\n",
       "  </thead>\n",
       "  <tbody>\n",
       "    <tr>\n",
       "      <th>0</th>\n",
       "      <td>0000450193000</td>\n",
       "      <td>Ice Cream, Vanilla</td>\n",
       "      <td>16.90</td>\n",
       "      <td>2.016639</td>\n",
       "      <td>0.0</td>\n",
       "    </tr>\n",
       "    <tr>\n",
       "      <th>1</th>\n",
       "      <td>0000450193031</td>\n",
       "      <td>Ice Cream, Butter Pecan</td>\n",
       "      <td>15.49</td>\n",
       "      <td>1.848387</td>\n",
       "      <td>0.0</td>\n",
       "    </tr>\n",
       "    <tr>\n",
       "      <th>2</th>\n",
       "      <td>0041383090103</td>\n",
       "      <td>100% Lactose Free Reduced Fat Milk</td>\n",
       "      <td>5.00</td>\n",
       "      <td>2.016807</td>\n",
       "      <td>0.0</td>\n",
       "    </tr>\n",
       "    <tr>\n",
       "      <th>3</th>\n",
       "      <td>0041383090189</td>\n",
       "      <td>Fat Free Milk</td>\n",
       "      <td>5.00</td>\n",
       "      <td>2.016807</td>\n",
       "      <td>0.0</td>\n",
       "    </tr>\n",
       "    <tr>\n",
       "      <th>4</th>\n",
       "      <td>0041383090219</td>\n",
       "      <td>Fat Free Milk</td>\n",
       "      <td>5.00</td>\n",
       "      <td>2.016807</td>\n",
       "      <td>0.0</td>\n",
       "    </tr>\n",
       "    <tr>\n",
       "      <th>5</th>\n",
       "      <td>0041383090226</td>\n",
       "      <td>Lowfat Milk</td>\n",
       "      <td>5.00</td>\n",
       "      <td>2.016807</td>\n",
       "      <td>0.0</td>\n",
       "    </tr>\n",
       "    <tr>\n",
       "      <th>6</th>\n",
       "      <td>0041383090233</td>\n",
       "      <td>100% Lactose Free Lowfat Milk</td>\n",
       "      <td>5.00</td>\n",
       "      <td>2.016807</td>\n",
       "      <td>0.0</td>\n",
       "    </tr>\n",
       "    <tr>\n",
       "      <th>7</th>\n",
       "      <td>0041383090257</td>\n",
       "      <td>100% Lactose Free Fat Free Milk</td>\n",
       "      <td>5.00</td>\n",
       "      <td>2.016807</td>\n",
       "      <td>0.0</td>\n",
       "    </tr>\n",
       "    <tr>\n",
       "      <th>8</th>\n",
       "      <td>0041383090295</td>\n",
       "      <td>Whole Milk</td>\n",
       "      <td>5.00</td>\n",
       "      <td>2.016807</td>\n",
       "      <td>0.0</td>\n",
       "    </tr>\n",
       "    <tr>\n",
       "      <th>9</th>\n",
       "      <td>0041383090363</td>\n",
       "      <td>100% Lactose Free Whole Milk</td>\n",
       "      <td>5.00</td>\n",
       "      <td>2.016807</td>\n",
       "      <td>0.0</td>\n",
       "    </tr>\n",
       "  </tbody>\n",
       "</table>\n",
       "</div>"
      ],
      "text/plain": [
       "            code                        product_name  sugars_100g  \\\n",
       "0  0000450193000                  Ice Cream, Vanilla        16.90   \n",
       "1  0000450193031             Ice Cream, Butter Pecan        15.49   \n",
       "2  0041383090103  100% Lactose Free Reduced Fat Milk         5.00   \n",
       "3  0041383090189                       Fat Free Milk         5.00   \n",
       "4  0041383090219                       Fat Free Milk         5.00   \n",
       "5  0041383090226                         Lowfat Milk         5.00   \n",
       "6  0041383090233       100% Lactose Free Lowfat Milk         5.00   \n",
       "7  0041383090257     100% Lactose Free Fat Free Milk         5.00   \n",
       "8  0041383090295                          Whole Milk         5.00   \n",
       "9  0041383090363        100% Lactose Free Whole Milk         5.00   \n",
       "\n",
       "   sugars_per_serving  sugars_per_product  \n",
       "0            2.016639                 0.0  \n",
       "1            1.848387                 0.0  \n",
       "2            2.016807                 0.0  \n",
       "3            2.016807                 0.0  \n",
       "4            2.016807                 0.0  \n",
       "5            2.016807                 0.0  \n",
       "6            2.016807                 0.0  \n",
       "7            2.016807                 0.0  \n",
       "8            2.016807                 0.0  \n",
       "9            2.016807                 0.0  "
      ]
     },
     "execution_count": 74,
     "metadata": {},
     "output_type": "execute_result"
    }
   ],
   "source": [
    "columns = ['code', 'product_name', 'sugars_100g', 'sugars_per_serving', 'sugars_per_product']\n",
    "df_food_clean_usda[columns].head(10)"
   ]
  },
  {
   "cell_type": "markdown",
   "metadata": {},
   "source": [
    "<div class=\"alert alert-block alert-info\">\n",
    "\n",
    "<b>2.5 DATA CLEANING - Export USDA and openfood-ch-import</b><br>\n",
    "<i>We are looking to Load the data from CSV Files. Please notice that files have been split by the two main contributors</i>\n",
    "<hr>\n",
    "<b>Remarks</b><br>\n",
    "<i>\n",
    "As we have seen above, Data is very heteregenous. As most of the dimension could not be used, we decided to split our research with the two  more trustable Contributors:\n",
    "    - USDA as it contains US data provided by United States Department of Agriculture (and contains some urls/images)\n",
    "    - openfood.ch.import as it contains swiss products and we could check the quality of the data\n",
    "</i>\n",
    "<br>\n",
    "</div>"
   ]
  },
  {
   "cell_type": "markdown",
   "metadata": {},
   "source": [
    "Export **usda-ndb-import** data with limited columns"
   ]
  },
  {
   "cell_type": "code",
   "execution_count": 75,
   "metadata": {},
   "outputs": [],
   "source": [
    "#df_food_clean_usda = df_food_clean.query(\"creator == 'usda-ndb-import'\")\n",
    "df_food_clean_usda.to_csv(data_path + 'en.openfoodfacts.org.products.clean_usda.csv', sep='\\t')\n"
   ]
  },
  {
   "cell_type": "markdown",
   "metadata": {},
   "source": [
    "Export **openfood-ch-import** data with limited columns"
   ]
  },
  {
   "cell_type": "code",
   "execution_count": 76,
   "metadata": {},
   "outputs": [],
   "source": [
    "#df_food_clean_ch = df_food_clean.query(\"creator == 'openfood-ch-import'\")\n",
    "df_food_clean_ch.to_csv(data_path + 'en.openfoodfacts.org.products.clean_ch.csv', sep='\\t')\n"
   ]
  },
  {
   "cell_type": "markdown",
   "metadata": {},
   "source": [
    "<div class=\"alert alert-block alert-info\">\n",
    "\n",
    "<b>2.6 DATA CLEANING - Reload Data openfood-ch-import and USDA</b><br>\n",
    "<i>Reload file</i>\n",
    "<hr>\n",
    "<b>Remarks</b><br>\n",
    "<i>\n",
    "Reload individual files with required informations\n",
    "</i>\n",
    "<br>\n",
    "</div>"
   ]
  },
  {
   "cell_type": "markdown",
   "metadata": {},
   "source": [
    "Reload **openfood-ch-import** data with limited columns"
   ]
  },
  {
   "cell_type": "code",
   "execution_count": 77,
   "metadata": {},
   "outputs": [
    {
     "data": {
      "text/plain": [
       "Unnamed: 0                 306\n",
       "code                       306\n",
       "url                        306\n",
       "creator                    306\n",
       "created_t                  306\n",
       "created_datetime           306\n",
       "last_modified_t            306\n",
       "product_name               306\n",
       "brands                     306\n",
       "brands_tags                306\n",
       "main_category_en            52\n",
       "categories_en               52\n",
       "origins                      8\n",
       "countries_en               306\n",
       "ingredients_text           205\n",
       "quantity                   176\n",
       "serving_size               252\n",
       "serving_quantity           306\n",
       "additives_en               129\n",
       "sugars_100g                306\n",
       "salt_100g                  287\n",
       "fat_100g                   293\n",
       "sodium_100g                285\n",
       "energy_100g                294\n",
       "nutrition-score-fr_100g     45\n",
       "nutrition-score-uk_100g     45\n",
       "category_1                 306\n",
       "category_2                 306\n",
       "meta_brand                 306\n",
       "company_name               306\n",
       "company_url                306\n",
       "brand_name                 306\n",
       "brand_url                  306\n",
       "product_quantity           306\n",
       "sugars_per_serving         306\n",
       "sugars_per_product         306\n",
       "dtype: int64"
      ]
     },
     "execution_count": 77,
     "metadata": {},
     "output_type": "execute_result"
    }
   ],
   "source": [
    "df_food_clean_ch = pd.read_csv(data_path + 'en.openfoodfacts.org.products.clean_ch.csv', sep=\"\\t\", low_memory=False,  skiprows=0)  \n",
    "df_food_clean_ch.count()\n"
   ]
  },
  {
   "cell_type": "markdown",
   "metadata": {},
   "source": [
    "Reload **usda-ndb-import** data with limited columns"
   ]
  },
  {
   "cell_type": "code",
   "execution_count": 78,
   "metadata": {},
   "outputs": [
    {
     "data": {
      "text/plain": [
       "code                         14\n",
       "url                           0\n",
       "creator                    2220\n",
       "created_t                  2220\n",
       "created_datetime              3\n",
       "last_modified_t            2219\n",
       "product_name               2220\n",
       "brands                     1604\n",
       "brands_tags                2220\n",
       "main_category_en           2217\n",
       "categories_en              2217\n",
       "origins                    2217\n",
       "countries_en               2212\n",
       "ingredients_text             12\n",
       "quantity                     12\n",
       "serving_size               2220\n",
       "serving_quantity           2220\n",
       "additives_en               2220\n",
       "sugars_100g                2220\n",
       "salt_100g                  2220\n",
       "fat_100g                   2220\n",
       "sodium_100g                2220\n",
       "energy_100g                2220\n",
       "nutrition-score-fr_100g    2220\n",
       "nutrition-score-uk_100g    2220\n",
       "dtype: int64"
      ]
     },
     "execution_count": 78,
     "metadata": {},
     "output_type": "execute_result"
    }
   ],
   "source": [
    "df_food_clean_usda = pd.read_csv(data_path + 'en.openfoodfacts.org.products.clean_usda.csv', sep=\"\\t\", low_memory=False, names=columns_to_keep, skiprows=1)  \n",
    "df_food_clean_usda.count()\n"
   ]
  },
  {
   "cell_type": "code",
   "execution_count": null,
   "metadata": {},
   "outputs": [],
   "source": []
  },
  {
   "cell_type": "markdown",
   "metadata": {},
   "source": [
    "<div class=\"alert alert-warning\">\n",
    "\n",
    "<b>DATA Analysis</b><br><i>\n",
    "This part, in <b>yellow</b>, contains all the Analysis's activities, performed on the en.openfoodfacts.org.products.csv. The goal of this part is to perform analysis related to our topics.\n",
    "    \n",
    "To perform this Data Analysis, we decided to:\n",
    "- Check the products which does have sugar (compared to the one which have less) \n",
    "- Check the products which may have more than 25gr as recommanded by OMS: http://www.who.int/nutrition/sugars_public_consultation/en/\n",
    "\n",
    "- Check the products which contains more sugar per brands_tags, main_category_en, ... \n",
    "  Especially the ones which are hidden\n",
    "\n",
    "- Does sugar content depend on brand type\n",
    "</i></div>"
   ]
  },
  {
   "cell_type": "code",
   "execution_count": 79,
   "metadata": {},
   "outputs": [],
   "source": [
    "df_result_ch = df_food_clean_ch.sort_values('sugars_100g', ascending=False)[['code', 'product_name', 'main_category_en', 'category_1','brands_tags', 'serving_quantity', 'sugars_100g']].head(30)\n",
    "\n",
    "#show_word_cloud(df_result, 'product_name', 'sugars_100g')\n"
   ]
  },
  {
   "cell_type": "markdown",
   "metadata": {},
   "source": [
    "**Incredible** After a deep analysis, we discover that the product which is containing the highest quantity of sugar, has a nutriction score of D."
   ]
  },
  {
   "cell_type": "markdown",
   "metadata": {},
   "source": [
    "<img src=\"https://static.openfoodfacts.org/images/misc/nutriscore-d.svg\"></img>"
   ]
  },
  {
   "cell_type": "markdown",
   "metadata": {},
   "source": [
    "As written on the nutrition's facts, there is a high quantity of sugar.\n",
    "<img src=\"https://static.openfoodfacts.org/images/products/761/027/804/2508/nutrition_fr.6.full.jpg\"></img>"
   ]
  },
  {
   "cell_type": "markdown",
   "metadata": {},
   "source": [
    "By the way, this product is nothing else than a 1kg of Sugar. At this stage, **we all love data analysis**:\n",
    "\n",
    "<img src=\"https://static.openfoodfacts.org/images/products/761/027/804/2508/front_fr.5.full.jpg\"></img>"
   ]
  },
  {
   "cell_type": "code",
   "execution_count": 80,
   "metadata": {},
   "outputs": [
    {
     "data": {
      "text/html": [
       "<div>\n",
       "<style scoped>\n",
       "    .dataframe tbody tr th:only-of-type {\n",
       "        vertical-align: middle;\n",
       "    }\n",
       "\n",
       "    .dataframe tbody tr th {\n",
       "        vertical-align: top;\n",
       "    }\n",
       "\n",
       "    .dataframe thead th {\n",
       "        text-align: right;\n",
       "    }\n",
       "</style>\n",
       "<table border=\"1\" class=\"dataframe\">\n",
       "  <thead>\n",
       "    <tr style=\"text-align: right;\">\n",
       "      <th></th>\n",
       "      <th>code</th>\n",
       "      <th>product_name</th>\n",
       "      <th>main_category_en</th>\n",
       "      <th>category_1</th>\n",
       "      <th>brands_tags</th>\n",
       "      <th>serving_quantity</th>\n",
       "      <th>sugars_100g</th>\n",
       "    </tr>\n",
       "  </thead>\n",
       "  <tbody>\n",
       "    <tr>\n",
       "      <th>45</th>\n",
       "      <td>3033710045457</td>\n",
       "      <td>Le Chocolat</td>\n",
       "      <td>Breakfasts</td>\n",
       "      <td>Others</td>\n",
       "      <td>cailler,nestle</td>\n",
       "      <td>17.0</td>\n",
       "      <td>65.8</td>\n",
       "    </tr>\n",
       "    <tr>\n",
       "      <th>46</th>\n",
       "      <td>7610100036811</td>\n",
       "      <td>Cuisine Poudre De Chocolat</td>\n",
       "      <td>NaN</td>\n",
       "      <td>Undefined</td>\n",
       "      <td>cailler</td>\n",
       "      <td>17.0</td>\n",
       "      <td>57.0</td>\n",
       "    </tr>\n",
       "    <tr>\n",
       "      <th>70</th>\n",
       "      <td>7613033923197</td>\n",
       "      <td>of Switzerland Blanc Vanille</td>\n",
       "      <td>NaN</td>\n",
       "      <td>Undefined</td>\n",
       "      <td>cailler</td>\n",
       "      <td>16.0</td>\n",
       "      <td>56.7</td>\n",
       "    </tr>\n",
       "    <tr>\n",
       "      <th>63</th>\n",
       "      <td>7613033136337</td>\n",
       "      <td>of Switzerland SOUVENIRS CHOCOLAT AU LAIT DES ...</td>\n",
       "      <td>NaN</td>\n",
       "      <td>Undefined</td>\n",
       "      <td>cailler</td>\n",
       "      <td>14.0</td>\n",
       "      <td>55.0</td>\n",
       "    </tr>\n",
       "    <tr>\n",
       "      <th>59</th>\n",
       "      <td>7613031234844</td>\n",
       "      <td>of Switzerland Lait</td>\n",
       "      <td>NaN</td>\n",
       "      <td>Undefined</td>\n",
       "      <td>cailler</td>\n",
       "      <td>16.6</td>\n",
       "      <td>55.0</td>\n",
       "    </tr>\n",
       "    <tr>\n",
       "      <th>51</th>\n",
       "      <td>7613031080847</td>\n",
       "      <td>Lait</td>\n",
       "      <td>NaN</td>\n",
       "      <td>Undefined</td>\n",
       "      <td>cailler</td>\n",
       "      <td>20.0</td>\n",
       "      <td>55.0</td>\n",
       "    </tr>\n",
       "    <tr>\n",
       "      <th>90</th>\n",
       "      <td>7613035435568</td>\n",
       "      <td>Eat Music Everyday</td>\n",
       "      <td>NaN</td>\n",
       "      <td>Undefined</td>\n",
       "      <td>cailler</td>\n",
       "      <td>20.0</td>\n",
       "      <td>54.8</td>\n",
       "    </tr>\n",
       "    <tr>\n",
       "      <th>91</th>\n",
       "      <td>7613035606616</td>\n",
       "      <td>of Switzerland MONTRENX JAZZ FESTIVAL</td>\n",
       "      <td>NaN</td>\n",
       "      <td>Undefined</td>\n",
       "      <td>cailler</td>\n",
       "      <td>20.0</td>\n",
       "      <td>54.8</td>\n",
       "    </tr>\n",
       "    <tr>\n",
       "      <th>78</th>\n",
       "      <td>7613034499011</td>\n",
       "      <td>s Echte Schweizer Aplenmilch-Schokolade 60 Stück</td>\n",
       "      <td>NaN</td>\n",
       "      <td>Undefined</td>\n",
       "      <td>cailler</td>\n",
       "      <td>20.0</td>\n",
       "      <td>54.8</td>\n",
       "    </tr>\n",
       "    <tr>\n",
       "      <th>84</th>\n",
       "      <td>7613035040205</td>\n",
       "      <td>of Switzerland Bretzeli</td>\n",
       "      <td>NaN</td>\n",
       "      <td>Undefined</td>\n",
       "      <td>cailler</td>\n",
       "      <td>16.0</td>\n",
       "      <td>53.7</td>\n",
       "    </tr>\n",
       "    <tr>\n",
       "      <th>57</th>\n",
       "      <td>7613031085149</td>\n",
       "      <td>of Switzerland Air</td>\n",
       "      <td>NaN</td>\n",
       "      <td>Undefined</td>\n",
       "      <td>cailler</td>\n",
       "      <td>14.0</td>\n",
       "      <td>53.7</td>\n",
       "    </tr>\n",
       "    <tr>\n",
       "      <th>53</th>\n",
       "      <td>7613031081363</td>\n",
       "      <td>CRÉMANT 400g MEGA FORMAT</td>\n",
       "      <td>Sugary snacks</td>\n",
       "      <td>Sugary snacks</td>\n",
       "      <td>cailler,nestle</td>\n",
       "      <td>20.0</td>\n",
       "      <td>53.2</td>\n",
       "    </tr>\n",
       "    <tr>\n",
       "      <th>50</th>\n",
       "      <td>7613031080366</td>\n",
       "      <td>Crémant</td>\n",
       "      <td>NaN</td>\n",
       "      <td>Undefined</td>\n",
       "      <td>cailler</td>\n",
       "      <td>20.0</td>\n",
       "      <td>53.1</td>\n",
       "    </tr>\n",
       "    <tr>\n",
       "      <th>49</th>\n",
       "      <td>7613031079575</td>\n",
       "      <td>NAPOLITAINS 7 VARIÉTÉS</td>\n",
       "      <td>NaN</td>\n",
       "      <td>Undefined</td>\n",
       "      <td>cailler</td>\n",
       "      <td>20.0</td>\n",
       "      <td>52.6</td>\n",
       "    </tr>\n",
       "    <tr>\n",
       "      <th>47</th>\n",
       "      <td>7613031079414</td>\n",
       "      <td>of Switzerland NAPOLITAINS</td>\n",
       "      <td>NaN</td>\n",
       "      <td>Undefined</td>\n",
       "      <td>cailler</td>\n",
       "      <td>20.0</td>\n",
       "      <td>52.6</td>\n",
       "    </tr>\n",
       "    <tr>\n",
       "      <th>56</th>\n",
       "      <td>7613031084814</td>\n",
       "      <td>Milch</td>\n",
       "      <td>Sugary snacks</td>\n",
       "      <td>Sugary snacks</td>\n",
       "      <td>cailler</td>\n",
       "      <td>16.0</td>\n",
       "      <td>50.8</td>\n",
       "    </tr>\n",
       "    <tr>\n",
       "      <th>64</th>\n",
       "      <td>7613033474248</td>\n",
       "      <td>Chocolat au Lait</td>\n",
       "      <td>Sugary snacks</td>\n",
       "      <td>Sugary snacks</td>\n",
       "      <td>cailler,nestle</td>\n",
       "      <td>20.0</td>\n",
       "      <td>50.8</td>\n",
       "    </tr>\n",
       "    <tr>\n",
       "      <th>62</th>\n",
       "      <td>7613032273897</td>\n",
       "      <td>Souvenirs Chocolat au lait</td>\n",
       "      <td>NaN</td>\n",
       "      <td>Undefined</td>\n",
       "      <td>cailler</td>\n",
       "      <td>14.0</td>\n",
       "      <td>50.8</td>\n",
       "    </tr>\n",
       "    <tr>\n",
       "      <th>58</th>\n",
       "      <td>7613031085293</td>\n",
       "      <td>Chocmel</td>\n",
       "      <td>Sugary snacks</td>\n",
       "      <td>Sugary snacks</td>\n",
       "      <td>cailler,nestle</td>\n",
       "      <td>16.6</td>\n",
       "      <td>50.4</td>\n",
       "    </tr>\n",
       "    <tr>\n",
       "      <th>48</th>\n",
       "      <td>7613031079506</td>\n",
       "      <td>Cailler Napolitain</td>\n",
       "      <td>Sugary snacks</td>\n",
       "      <td>Sugary snacks</td>\n",
       "      <td>cailler,nestle</td>\n",
       "      <td>0.0</td>\n",
       "      <td>49.8</td>\n",
       "    </tr>\n",
       "    <tr>\n",
       "      <th>54</th>\n",
       "      <td>7613031082100</td>\n",
       "      <td>Chocolat Lait Et Praliné Gianduja, 100g</td>\n",
       "      <td>NaN</td>\n",
       "      <td>Undefined</td>\n",
       "      <td>cailler</td>\n",
       "      <td>16.0</td>\n",
       "      <td>49.6</td>\n",
       "    </tr>\n",
       "    <tr>\n",
       "      <th>85</th>\n",
       "      <td>7613035041691</td>\n",
       "      <td>NOIR ORANGE</td>\n",
       "      <td>NaN</td>\n",
       "      <td>Undefined</td>\n",
       "      <td>cailler</td>\n",
       "      <td>16.0</td>\n",
       "      <td>48.4</td>\n",
       "    </tr>\n",
       "    <tr>\n",
       "      <th>80</th>\n",
       "      <td>7613034650092</td>\n",
       "      <td>Ambassador Assortiment de Pralinés</td>\n",
       "      <td>NaN</td>\n",
       "      <td>Undefined</td>\n",
       "      <td>cailler</td>\n",
       "      <td>18.0</td>\n",
       "      <td>47.8</td>\n",
       "    </tr>\n",
       "    <tr>\n",
       "      <th>81</th>\n",
       "      <td>7613034700834</td>\n",
       "      <td>Ambassador</td>\n",
       "      <td>NaN</td>\n",
       "      <td>Undefined</td>\n",
       "      <td>cailler</td>\n",
       "      <td>18.0</td>\n",
       "      <td>46.8</td>\n",
       "    </tr>\n",
       "    <tr>\n",
       "      <th>61</th>\n",
       "      <td>7613031890699</td>\n",
       "      <td>of Switzerland Frigor Lait</td>\n",
       "      <td>NaN</td>\n",
       "      <td>Undefined</td>\n",
       "      <td>cailler</td>\n",
       "      <td>14.0</td>\n",
       "      <td>46.5</td>\n",
       "    </tr>\n",
       "    <tr>\n",
       "      <th>76</th>\n",
       "      <td>7613034263414</td>\n",
       "      <td>Frigor Chocolat au lait fourré à la creme de n...</td>\n",
       "      <td>NaN</td>\n",
       "      <td>Undefined</td>\n",
       "      <td>cailler</td>\n",
       "      <td>14.0</td>\n",
       "      <td>46.5</td>\n",
       "    </tr>\n",
       "    <tr>\n",
       "      <th>89</th>\n",
       "      <td>7613035088054</td>\n",
       "      <td>PERLE LAIT</td>\n",
       "      <td>NaN</td>\n",
       "      <td>Undefined</td>\n",
       "      <td>cailler</td>\n",
       "      <td>12.2</td>\n",
       "      <td>46.1</td>\n",
       "    </tr>\n",
       "    <tr>\n",
       "      <th>88</th>\n",
       "      <td>7613035086043</td>\n",
       "      <td>Perle Lait</td>\n",
       "      <td>NaN</td>\n",
       "      <td>Undefined</td>\n",
       "      <td>cailler</td>\n",
       "      <td>12.2</td>\n",
       "      <td>46.1</td>\n",
       "    </tr>\n",
       "    <tr>\n",
       "      <th>93</th>\n",
       "      <td>7613035678316</td>\n",
       "      <td>Perle Assortiment</td>\n",
       "      <td>NaN</td>\n",
       "      <td>Undefined</td>\n",
       "      <td>cailler</td>\n",
       "      <td>0.0</td>\n",
       "      <td>46.1</td>\n",
       "    </tr>\n",
       "    <tr>\n",
       "      <th>77</th>\n",
       "      <td>7613034267825</td>\n",
       "      <td>Ambassador Eaux-De-Vie Suisses</td>\n",
       "      <td>NaN</td>\n",
       "      <td>Undefined</td>\n",
       "      <td>cailler</td>\n",
       "      <td>21.0</td>\n",
       "      <td>45.5</td>\n",
       "    </tr>\n",
       "  </tbody>\n",
       "</table>\n",
       "</div>"
      ],
      "text/plain": [
       "             code                                       product_name  \\\n",
       "45  3033710045457                                        Le Chocolat   \n",
       "46  7610100036811                         Cuisine Poudre De Chocolat   \n",
       "70  7613033923197                      of Switzerland Blanc Vanille    \n",
       "63  7613033136337  of Switzerland SOUVENIRS CHOCOLAT AU LAIT DES ...   \n",
       "59  7613031234844                                of Switzerland Lait   \n",
       "51  7613031080847                                               Lait   \n",
       "90  7613035435568                                 Eat Music Everyday   \n",
       "91  7613035606616              of Switzerland MONTRENX JAZZ FESTIVAL   \n",
       "78  7613034499011   s Echte Schweizer Aplenmilch-Schokolade 60 Stück   \n",
       "84  7613035040205                           of Switzerland Bretzeli    \n",
       "57  7613031085149                                 of Switzerland Air   \n",
       "53  7613031081363                           CRÉMANT 400g MEGA FORMAT   \n",
       "50  7613031080366                                            Crémant   \n",
       "49  7613031079575                             NAPOLITAINS 7 VARIÉTÉS   \n",
       "47  7613031079414                         of Switzerland NAPOLITAINS   \n",
       "56  7613031084814                                              Milch   \n",
       "64  7613033474248                                   Chocolat au Lait   \n",
       "62  7613032273897                         Souvenirs Chocolat au lait   \n",
       "58  7613031085293                                            Chocmel   \n",
       "48  7613031079506                                 Cailler Napolitain   \n",
       "54  7613031082100            Chocolat Lait Et Praliné Gianduja, 100g   \n",
       "85  7613035041691                                        NOIR ORANGE   \n",
       "80  7613034650092                 Ambassador Assortiment de Pralinés   \n",
       "81  7613034700834                                         Ambassador   \n",
       "61  7613031890699                         of Switzerland Frigor Lait   \n",
       "76  7613034263414  Frigor Chocolat au lait fourré à la creme de n...   \n",
       "89  7613035088054                                         PERLE LAIT   \n",
       "88  7613035086043                                         Perle Lait   \n",
       "93  7613035678316                                  Perle Assortiment   \n",
       "77  7613034267825                     Ambassador Eaux-De-Vie Suisses   \n",
       "\n",
       "   main_category_en     category_1     brands_tags  serving_quantity  \\\n",
       "45       Breakfasts         Others  cailler,nestle              17.0   \n",
       "46              NaN      Undefined         cailler              17.0   \n",
       "70              NaN      Undefined         cailler              16.0   \n",
       "63              NaN      Undefined         cailler              14.0   \n",
       "59              NaN      Undefined         cailler              16.6   \n",
       "51              NaN      Undefined         cailler              20.0   \n",
       "90              NaN      Undefined         cailler              20.0   \n",
       "91              NaN      Undefined         cailler              20.0   \n",
       "78              NaN      Undefined         cailler              20.0   \n",
       "84              NaN      Undefined         cailler              16.0   \n",
       "57              NaN      Undefined         cailler              14.0   \n",
       "53    Sugary snacks  Sugary snacks  cailler,nestle              20.0   \n",
       "50              NaN      Undefined         cailler              20.0   \n",
       "49              NaN      Undefined         cailler              20.0   \n",
       "47              NaN      Undefined         cailler              20.0   \n",
       "56    Sugary snacks  Sugary snacks         cailler              16.0   \n",
       "64    Sugary snacks  Sugary snacks  cailler,nestle              20.0   \n",
       "62              NaN      Undefined         cailler              14.0   \n",
       "58    Sugary snacks  Sugary snacks  cailler,nestle              16.6   \n",
       "48    Sugary snacks  Sugary snacks  cailler,nestle               0.0   \n",
       "54              NaN      Undefined         cailler              16.0   \n",
       "85              NaN      Undefined         cailler              16.0   \n",
       "80              NaN      Undefined         cailler              18.0   \n",
       "81              NaN      Undefined         cailler              18.0   \n",
       "61              NaN      Undefined         cailler              14.0   \n",
       "76              NaN      Undefined         cailler              14.0   \n",
       "89              NaN      Undefined         cailler              12.2   \n",
       "88              NaN      Undefined         cailler              12.2   \n",
       "93              NaN      Undefined         cailler               0.0   \n",
       "77              NaN      Undefined         cailler              21.0   \n",
       "\n",
       "    sugars_100g  \n",
       "45         65.8  \n",
       "46         57.0  \n",
       "70         56.7  \n",
       "63         55.0  \n",
       "59         55.0  \n",
       "51         55.0  \n",
       "90         54.8  \n",
       "91         54.8  \n",
       "78         54.8  \n",
       "84         53.7  \n",
       "57         53.7  \n",
       "53         53.2  \n",
       "50         53.1  \n",
       "49         52.6  \n",
       "47         52.6  \n",
       "56         50.8  \n",
       "64         50.8  \n",
       "62         50.8  \n",
       "58         50.4  \n",
       "48         49.8  \n",
       "54         49.6  \n",
       "85         48.4  \n",
       "80         47.8  \n",
       "81         46.8  \n",
       "61         46.5  \n",
       "76         46.5  \n",
       "89         46.1  \n",
       "88         46.1  \n",
       "93         46.1  \n",
       "77         45.5  "
      ]
     },
     "execution_count": 80,
     "metadata": {},
     "output_type": "execute_result"
    }
   ],
   "source": [
    "df_result_ch"
   ]
  },
  {
   "cell_type": "code",
   "execution_count": null,
   "metadata": {},
   "outputs": [],
   "source": []
  },
  {
   "cell_type": "markdown",
   "metadata": {},
   "source": [
    "## Analysis:  Does many Swiss Products having more than 25gr of sugar?\n",
    "### As OMS recommendation is 25gr of sugar per day \n",
    "Eating any of this product will already overpassed the daily limit."
   ]
  },
  {
   "cell_type": "code",
   "execution_count": 81,
   "metadata": {},
   "outputs": [
    {
     "name": "stdout",
     "output_type": "stream",
     "text": [
      "category_1\n",
      "Undefined        9\n",
      "Sugary snacks    4\n",
      "Beverages        1\n",
      "Name: code, dtype: int64\n"
     ]
    }
   ],
   "source": [
    "columns = ['code','product_name', 'category_1', 'sugars_100g', 'sugars_per_serving', 'sugars_per_product']\n",
    "df_result25gr = df_food_clean_ch.query('sugars_per_product > 25')[columns]\n",
    "\n",
    "print(df_result25gr.groupby('category_1')['code'].count().sort_values(ascending=False).head(20))\n"
   ]
  },
  {
   "cell_type": "markdown",
   "metadata": {},
   "source": [
    "As we can see above, there is not so much surprised here, Sugary snacks, beverages and dessert are shown on the top.\n",
    "There is for sure not so much record and most of the products are assigned to the category 'Undefined', which is not so suprising to, based on the analysis we did above."
   ]
  },
  {
   "cell_type": "code",
   "execution_count": 82,
   "metadata": {},
   "outputs": [
    {
     "data": {
      "text/html": [
       "<div>\n",
       "<style scoped>\n",
       "    .dataframe tbody tr th:only-of-type {\n",
       "        vertical-align: middle;\n",
       "    }\n",
       "\n",
       "    .dataframe tbody tr th {\n",
       "        vertical-align: top;\n",
       "    }\n",
       "\n",
       "    .dataframe thead th {\n",
       "        text-align: right;\n",
       "    }\n",
       "</style>\n",
       "<table border=\"1\" class=\"dataframe\">\n",
       "  <thead>\n",
       "    <tr style=\"text-align: right;\">\n",
       "      <th></th>\n",
       "      <th>code</th>\n",
       "      <th>product_name</th>\n",
       "      <th>category_1</th>\n",
       "      <th>sugars_100g</th>\n",
       "      <th>sugars_per_serving</th>\n",
       "      <th>sugars_per_product</th>\n",
       "    </tr>\n",
       "  </thead>\n",
       "  <tbody>\n",
       "    <tr>\n",
       "      <th>91</th>\n",
       "      <td>7613035606616</td>\n",
       "      <td>of Switzerland MONTRENX JAZZ FESTIVAL</td>\n",
       "      <td>Undefined</td>\n",
       "      <td>54.8</td>\n",
       "      <td>1.842017</td>\n",
       "      <td>92.100840</td>\n",
       "    </tr>\n",
       "    <tr>\n",
       "      <th>47</th>\n",
       "      <td>7613031079414</td>\n",
       "      <td>of Switzerland NAPOLITAINS</td>\n",
       "      <td>Undefined</td>\n",
       "      <td>52.6</td>\n",
       "      <td>1.768067</td>\n",
       "      <td>88.403361</td>\n",
       "    </tr>\n",
       "    <tr>\n",
       "      <th>66</th>\n",
       "      <td>7613033806322</td>\n",
       "      <td>of Switzerland Fémina</td>\n",
       "      <td>Undefined</td>\n",
       "      <td>44.6</td>\n",
       "      <td>1.349244</td>\n",
       "      <td>74.957983</td>\n",
       "    </tr>\n",
       "    <tr>\n",
       "      <th>48</th>\n",
       "      <td>7613031079506</td>\n",
       "      <td>Cailler Napolitain</td>\n",
       "      <td>Sugary snacks</td>\n",
       "      <td>49.8</td>\n",
       "      <td>0.000000</td>\n",
       "      <td>41.848739</td>\n",
       "    </tr>\n",
       "    <tr>\n",
       "      <th>80</th>\n",
       "      <td>7613034650092</td>\n",
       "      <td>Ambassador Assortiment de Pralinés</td>\n",
       "      <td>Undefined</td>\n",
       "      <td>47.8</td>\n",
       "      <td>1.446050</td>\n",
       "      <td>39.364706</td>\n",
       "    </tr>\n",
       "    <tr>\n",
       "      <th>74</th>\n",
       "      <td>7613034260628</td>\n",
       "      <td>Chocolat Praliné</td>\n",
       "      <td>Sugary snacks</td>\n",
       "      <td>44.9</td>\n",
       "      <td>1.282857</td>\n",
       "      <td>37.731092</td>\n",
       "    </tr>\n",
       "    <tr>\n",
       "      <th>51</th>\n",
       "      <td>7613031080847</td>\n",
       "      <td>Lait</td>\n",
       "      <td>Undefined</td>\n",
       "      <td>55.0</td>\n",
       "      <td>1.848739</td>\n",
       "      <td>36.974790</td>\n",
       "    </tr>\n",
       "    <tr>\n",
       "      <th>180</th>\n",
       "      <td>7611100406277</td>\n",
       "      <td>Granulat Rinds Bouillon Fettfrei</td>\n",
       "      <td>Undefined</td>\n",
       "      <td>33.0</td>\n",
       "      <td>33.277311</td>\n",
       "      <td>33.277311</td>\n",
       "    </tr>\n",
       "    <tr>\n",
       "      <th>93</th>\n",
       "      <td>7613035678316</td>\n",
       "      <td>Perle Assortiment</td>\n",
       "      <td>Undefined</td>\n",
       "      <td>46.1</td>\n",
       "      <td>0.000000</td>\n",
       "      <td>31.611429</td>\n",
       "    </tr>\n",
       "    <tr>\n",
       "      <th>52</th>\n",
       "      <td>7613031081240</td>\n",
       "      <td>Lait &amp; Noisettes</td>\n",
       "      <td>Sugary snacks</td>\n",
       "      <td>44.5</td>\n",
       "      <td>1.495798</td>\n",
       "      <td>29.915966</td>\n",
       "    </tr>\n",
       "    <tr>\n",
       "      <th>86</th>\n",
       "      <td>7613035045040</td>\n",
       "      <td>SUBLIME Le Coffret</td>\n",
       "      <td>Undefined</td>\n",
       "      <td>44.8</td>\n",
       "      <td>1.731765</td>\n",
       "      <td>28.536471</td>\n",
       "    </tr>\n",
       "    <tr>\n",
       "      <th>78</th>\n",
       "      <td>7613034499011</td>\n",
       "      <td>s Echte Schweizer Aplenmilch-Schokolade 60 Stück</td>\n",
       "      <td>Undefined</td>\n",
       "      <td>54.8</td>\n",
       "      <td>1.842017</td>\n",
       "      <td>27.630252</td>\n",
       "    </tr>\n",
       "    <tr>\n",
       "      <th>64</th>\n",
       "      <td>7613033474248</td>\n",
       "      <td>Chocolat au Lait</td>\n",
       "      <td>Sugary snacks</td>\n",
       "      <td>50.8</td>\n",
       "      <td>1.707563</td>\n",
       "      <td>25.613445</td>\n",
       "    </tr>\n",
       "    <tr>\n",
       "      <th>253</th>\n",
       "      <td>5449000099655</td>\n",
       "      <td>Schokata</td>\n",
       "      <td>Beverages</td>\n",
       "      <td>10.0</td>\n",
       "      <td>4.201681</td>\n",
       "      <td>25.210084</td>\n",
       "    </tr>\n",
       "  </tbody>\n",
       "</table>\n",
       "</div>"
      ],
      "text/plain": [
       "              code                                      product_name  \\\n",
       "91   7613035606616             of Switzerland MONTRENX JAZZ FESTIVAL   \n",
       "47   7613031079414                        of Switzerland NAPOLITAINS   \n",
       "66   7613033806322                             of Switzerland Fémina   \n",
       "48   7613031079506                                Cailler Napolitain   \n",
       "80   7613034650092                Ambassador Assortiment de Pralinés   \n",
       "74   7613034260628                                  Chocolat Praliné   \n",
       "51   7613031080847                                              Lait   \n",
       "180  7611100406277                  Granulat Rinds Bouillon Fettfrei   \n",
       "93   7613035678316                                 Perle Assortiment   \n",
       "52   7613031081240                                  Lait & Noisettes   \n",
       "86   7613035045040                                SUBLIME Le Coffret   \n",
       "78   7613034499011  s Echte Schweizer Aplenmilch-Schokolade 60 Stück   \n",
       "64   7613033474248                                  Chocolat au Lait   \n",
       "253  5449000099655                                          Schokata   \n",
       "\n",
       "        category_1  sugars_100g  sugars_per_serving  sugars_per_product  \n",
       "91       Undefined         54.8            1.842017           92.100840  \n",
       "47       Undefined         52.6            1.768067           88.403361  \n",
       "66       Undefined         44.6            1.349244           74.957983  \n",
       "48   Sugary snacks         49.8            0.000000           41.848739  \n",
       "80       Undefined         47.8            1.446050           39.364706  \n",
       "74   Sugary snacks         44.9            1.282857           37.731092  \n",
       "51       Undefined         55.0            1.848739           36.974790  \n",
       "180      Undefined         33.0           33.277311           33.277311  \n",
       "93       Undefined         46.1            0.000000           31.611429  \n",
       "52   Sugary snacks         44.5            1.495798           29.915966  \n",
       "86       Undefined         44.8            1.731765           28.536471  \n",
       "78       Undefined         54.8            1.842017           27.630252  \n",
       "64   Sugary snacks         50.8            1.707563           25.613445  \n",
       "253      Beverages         10.0            4.201681           25.210084  "
      ]
     },
     "execution_count": 82,
     "metadata": {},
     "output_type": "execute_result"
    }
   ],
   "source": [
    "df_result25gr.sort_values(by='sugars_per_product',ascending=False).head(50)\n",
    "\n"
   ]
  },
  {
   "cell_type": "markdown",
   "metadata": {},
   "source": [
    "This ice cream is almost a winner !!! It contains 28gr of sugar in a portion of 100g.\n",
    "You are eating 28% of sugars !!\n",
    "\n",
    "<img src=\"https://static.openfoodfacts.org/images/products/761/740/004/4720/front_fr.22.full.jpg\"></img>\n",
    "<img src=\"https://static.openfoodfacts.org/images/products/761/740/004/4720/nutrition_fr.19.full.jpg\"></img>"
   ]
  },
  {
   "cell_type": "markdown",
   "metadata": {},
   "source": [
    "This one is quite amaizing too, a drink to cacao, which contains 80% of sugars and sold as cacao !!!\n",
    "\n",
    "<img src=\"https://static.openfoodfacts.org/images/products/761/331/204/9297/front_fr.21.full.jpg\"></img>"
   ]
  },
  {
   "cell_type": "markdown",
   "metadata": {},
   "source": [
    "We are starting to hate Data Analysis, why our Toblerone is containing so much sugar ? If the numbers are correct, it is composed with almost 60% of sugars !\n",
    "\n",
    "<img src=\"https://static.openfoodfacts.org/images/products/762/221/041/8890/front_fr.20.full.jpg\"></img>"
   ]
  },
  {
   "cell_type": "code",
   "execution_count": null,
   "metadata": {},
   "outputs": [],
   "source": []
  },
  {
   "cell_type": "markdown",
   "metadata": {},
   "source": [
    "## Analysis:  Does sugar content deped on brand type?\n",
    "### Comparing low-cost, normal, and sustainable brands\n",
    "\n",
    "Calories tend to be cheap, so we decided to look into the relation between products from budget lines, \"normal\" products and those classed as being enviromentally friendly, ecologically grown etc.\n"
   ]
  },
  {
   "cell_type": "code",
   "execution_count": 2,
   "metadata": {},
   "outputs": [],
   "source": [
    "#Load the data\n",
    "df = spark.read\\\n",
    "    .format(\"csv\")\\\n",
    "    .option(\"header\", \"true\")\\\n",
    "    .option(\"delimiter\", \"\\t\")\\\n",
    "    .load('./data/en.openfoodfacts.org.products.csv')"
   ]
  },
  {
   "cell_type": "code",
   "execution_count": 3,
   "metadata": {},
   "outputs": [],
   "source": [
    "#Allow SQL queries to be executed\n",
    "df.createOrReplaceTempView(\"df_view\")\n",
    "\n",
    "#Obtain all products that has a list of categories defined\n",
    "sqlDF = spark.sql(\"SELECT product_name, brands_tags, sugars_100g \\\n",
    "                  FROM df_view \\\n",
    "                  WHERE brands_tags IS NOT NULL\")\n",
    "\n",
    "#Convert it into a dataframe\n",
    "brands_df = sqlDF.toPandas()"
   ]
  },
  {
   "cell_type": "code",
   "execution_count": 4,
   "metadata": {},
   "outputs": [],
   "source": [
    "# Define the brands we are interested in. For now, we only look at division in the migros and coop sortiment.\n",
    "m1 = 'migros'\n",
    "m2 = 'm-classic'\n",
    "m3 = 'm-budget'\n",
    "m4 = 'terrasuisse'\n",
    "m5 = 'frey'\n",
    "m6 = 'migros-bio'\n",
    "\n",
    "c1 = 'coop'\n",
    "c2 = 'coop-prix-garantie'\n",
    "c3 = 'coop-naturaplan'\n",
    "c4 = 'coop-naturaplan-bio'\n",
    "\n",
    "# Order them into categories we are interested in\n",
    "\n",
    "m_brands = [m1, m2, m3, m4, m5, m6]\n",
    "\n",
    "c_brands = [c1, c2, c3, c4]\n",
    "\n",
    "low_cost_brands = [m3, c2]\n",
    "\n",
    "bio_brands = [m6, c3, c4]\n",
    "\n",
    "normal_brands = [m1, m2, c1]"
   ]
  },
  {
   "cell_type": "code",
   "execution_count": 5,
   "metadata": {},
   "outputs": [],
   "source": [
    "def to_regex(brands):\n",
    "    \"\"\"\n",
    "    Convenience function that formats a list of brands into regex for the brands\n",
    "    \"\"\"\n",
    "    pattern = \"(,|^)(\"\n",
    "    for brand in brands:\n",
    "        pattern += brand + \"|\"\n",
    "        \n",
    "    pattern = pattern[:-1]\n",
    "    pattern  = pattern + \")(,|$)\"\n",
    "    return pattern"
   ]
  },
  {
   "cell_type": "code",
   "execution_count": 6,
   "metadata": {},
   "outputs": [],
   "source": [
    "#For each set of brands, obtain the dataframes\n",
    "pattern = to_regex(normal_brands)\n",
    "NORMAL_pd = brands_df.loc[brands_df['brands_tags'].str.contains(pattern, flags=re.IGNORECASE, regex=True)]\n",
    "\n",
    "pattern = to_regex(low_cost_brands)\n",
    "LOCOST_pd = brands_df.loc[brands_df['brands_tags'].str.contains(pattern, flags=re.IGNORECASE, regex=True)]\n",
    "\n",
    "pattern = to_regex(bio_brands)\n",
    "BIO_pd = brands_df.loc[brands_df['brands_tags'].str.contains(pattern, flags=re.IGNORECASE, regex=True)]"
   ]
  },
  {
   "cell_type": "code",
   "execution_count": 7,
   "metadata": {},
   "outputs": [],
   "source": [
    "#For each set of brands, group the amount of products by sugar content and pretty up the dataframe\n",
    "locost = LOCOST_pd[['sugars_100g', 'brands_tags']].groupby('sugars_100g').count()\n",
    "locost = locost.rename(columns={'brands_tags': 'products'})\n",
    "locost = locost.reset_index()\n",
    "\n",
    "bio = BIO_pd[['sugars_100g', 'brands_tags']].groupby('sugars_100g').count()\n",
    "bio = bio.rename(columns={'brands_tags': 'products'})\n",
    "bio = bio.reset_index()\n",
    "\n",
    "norm = NORMAL_pd[['sugars_100g', 'brands_tags']].groupby('sugars_100g').count()\n",
    "norm = norm.rename(columns={'brands_tags': 'products'})\n",
    "norm = norm.reset_index()\n",
    "\n",
    "#The sugar values seemed to be a mix of strings, ints and floats, so we convert them to a common dtype\n",
    "locost[['sugars_100g']] = locost[['sugars_100g']].astype(float)\n",
    "bio[['sugars_100g']] = bio[['sugars_100g']].astype(float)\n",
    "norm[['sugars_100g']] = norm[['sugars_100g']].astype(float)\n"
   ]
  },
  {
   "cell_type": "code",
   "execution_count": 8,
   "metadata": {},
   "outputs": [
    {
     "data": {
      "image/png": "[encoded data removed]",
      "text/plain": [
       "<Figure size 1440x1440 with 3 Axes>"
      ]
     },
     "metadata": {
      "needs_background": "light"
     },
     "output_type": "display_data"
    }
   ],
   "source": [
    "#Plot the distributions\n",
    "fig, axs = plt.subplots(3, 1, figsize=(20, 20) )\n",
    "locost.plot(x='sugars_100g', y = 'products', ax=axs[0], kind='hist')\n",
    "axs[0].set_xlabel(\"Sugar content (100g)\")\n",
    "axs[0].set_ylabel(\"Amount of products\")\n",
    "axs[0].set_title('Low-cost brands')\n",
    "\n",
    "norm.plot(x='sugars_100g', y = 'products', ax=axs[1], kind='hist')\n",
    "axs[1].set_xlabel(\"Sugar content (100g)\")\n",
    "axs[1].set_ylabel(\"Amount of products\")\n",
    "axs[1].set_title('Normal brands')\n",
    "\n",
    "bio.plot(x='sugars_100g', y = 'products', ax=axs[2], kind='hist')\n",
    "axs[2].set_xlabel(\"Sugar content (100g)\")\n",
    "axs[2].set_ylabel(\"Amount of products\")\n",
    "axs[2].set_title('Biological brands')\n",
    "plt.show()\n"
   ]
  },
  {
   "cell_type": "code",
   "execution_count": 9,
   "metadata": {},
   "outputs": [
    {
     "data": {
      "text/html": [
       "<div>\n",
       "<style scoped>\n",
       "    .dataframe tbody tr th:only-of-type {\n",
       "        vertical-align: middle;\n",
       "    }\n",
       "\n",
       "    .dataframe tbody tr th {\n",
       "        vertical-align: top;\n",
       "    }\n",
       "\n",
       "    .dataframe thead th {\n",
       "        text-align: right;\n",
       "    }\n",
       "</style>\n",
       "<table border=\"1\" class=\"dataframe\">\n",
       "  <thead>\n",
       "    <tr style=\"text-align: right;\">\n",
       "      <th></th>\n",
       "      <th>sugars_100g</th>\n",
       "      <th>products</th>\n",
       "    </tr>\n",
       "  </thead>\n",
       "  <tbody>\n",
       "    <tr>\n",
       "      <th>count</th>\n",
       "      <td>63.000000</td>\n",
       "      <td>63.000000</td>\n",
       "    </tr>\n",
       "    <tr>\n",
       "      <th>mean</th>\n",
       "      <td>28.642857</td>\n",
       "      <td>4.126984</td>\n",
       "    </tr>\n",
       "    <tr>\n",
       "      <th>std</th>\n",
       "      <td>27.211357</td>\n",
       "      <td>6.361406</td>\n",
       "    </tr>\n",
       "    <tr>\n",
       "      <th>min</th>\n",
       "      <td>0.000000</td>\n",
       "      <td>1.000000</td>\n",
       "    </tr>\n",
       "    <tr>\n",
       "      <th>25%</th>\n",
       "      <td>4.700000</td>\n",
       "      <td>1.000000</td>\n",
       "    </tr>\n",
       "    <tr>\n",
       "      <th>50%</th>\n",
       "      <td>20.000000</td>\n",
       "      <td>1.000000</td>\n",
       "    </tr>\n",
       "    <tr>\n",
       "      <th>75%</th>\n",
       "      <td>48.500000</td>\n",
       "      <td>3.500000</td>\n",
       "    </tr>\n",
       "    <tr>\n",
       "      <th>max</th>\n",
       "      <td>97.000000</td>\n",
       "      <td>35.000000</td>\n",
       "    </tr>\n",
       "  </tbody>\n",
       "</table>\n",
       "</div>"
      ],
      "text/plain": [
       "       sugars_100g   products\n",
       "count    63.000000  63.000000\n",
       "mean     28.642857   4.126984\n",
       "std      27.211357   6.361406\n",
       "min       0.000000   1.000000\n",
       "25%       4.700000   1.000000\n",
       "50%      20.000000   1.000000\n",
       "75%      48.500000   3.500000\n",
       "max      97.000000  35.000000"
      ]
     },
     "metadata": {},
     "output_type": "display_data"
    },
    {
     "data": {
      "text/html": [
       "<div>\n",
       "<style scoped>\n",
       "    .dataframe tbody tr th:only-of-type {\n",
       "        vertical-align: middle;\n",
       "    }\n",
       "\n",
       "    .dataframe tbody tr th {\n",
       "        vertical-align: top;\n",
       "    }\n",
       "\n",
       "    .dataframe thead th {\n",
       "        text-align: right;\n",
       "    }\n",
       "</style>\n",
       "<table border=\"1\" class=\"dataframe\">\n",
       "  <thead>\n",
       "    <tr style=\"text-align: right;\">\n",
       "      <th></th>\n",
       "      <th>sugars_100g</th>\n",
       "      <th>products</th>\n",
       "    </tr>\n",
       "  </thead>\n",
       "  <tbody>\n",
       "    <tr>\n",
       "      <th>count</th>\n",
       "      <td>180.000000</td>\n",
       "      <td>180.000000</td>\n",
       "    </tr>\n",
       "    <tr>\n",
       "      <th>mean</th>\n",
       "      <td>28.597372</td>\n",
       "      <td>16.383333</td>\n",
       "    </tr>\n",
       "    <tr>\n",
       "      <th>std</th>\n",
       "      <td>28.784435</td>\n",
       "      <td>35.531916</td>\n",
       "    </tr>\n",
       "    <tr>\n",
       "      <th>min</th>\n",
       "      <td>0.000000</td>\n",
       "      <td>1.000000</td>\n",
       "    </tr>\n",
       "    <tr>\n",
       "      <th>25%</th>\n",
       "      <td>4.380000</td>\n",
       "      <td>1.000000</td>\n",
       "    </tr>\n",
       "    <tr>\n",
       "      <th>50%</th>\n",
       "      <td>16.650000</td>\n",
       "      <td>3.000000</td>\n",
       "    </tr>\n",
       "    <tr>\n",
       "      <th>75%</th>\n",
       "      <td>49.250000</td>\n",
       "      <td>16.000000</td>\n",
       "    </tr>\n",
       "    <tr>\n",
       "      <th>max</th>\n",
       "      <td>100.000000</td>\n",
       "      <td>246.000000</td>\n",
       "    </tr>\n",
       "  </tbody>\n",
       "</table>\n",
       "</div>"
      ],
      "text/plain": [
       "       sugars_100g    products\n",
       "count   180.000000  180.000000\n",
       "mean     28.597372   16.383333\n",
       "std      28.784435   35.531916\n",
       "min       0.000000    1.000000\n",
       "25%       4.380000    1.000000\n",
       "50%      16.650000    3.000000\n",
       "75%      49.250000   16.000000\n",
       "max     100.000000  246.000000"
      ]
     },
     "metadata": {},
     "output_type": "display_data"
    },
    {
     "data": {
      "text/html": [
       "<div>\n",
       "<style scoped>\n",
       "    .dataframe tbody tr th:only-of-type {\n",
       "        vertical-align: middle;\n",
       "    }\n",
       "\n",
       "    .dataframe tbody tr th {\n",
       "        vertical-align: top;\n",
       "    }\n",
       "\n",
       "    .dataframe thead th {\n",
       "        text-align: right;\n",
       "    }\n",
       "</style>\n",
       "<table border=\"1\" class=\"dataframe\">\n",
       "  <thead>\n",
       "    <tr style=\"text-align: right;\">\n",
       "      <th></th>\n",
       "      <th>sugars_100g</th>\n",
       "      <th>products</th>\n",
       "    </tr>\n",
       "  </thead>\n",
       "  <tbody>\n",
       "    <tr>\n",
       "      <th>count</th>\n",
       "      <td>82.000000</td>\n",
       "      <td>82.000000</td>\n",
       "    </tr>\n",
       "    <tr>\n",
       "      <th>mean</th>\n",
       "      <td>27.446341</td>\n",
       "      <td>5.634146</td>\n",
       "    </tr>\n",
       "    <tr>\n",
       "      <th>std</th>\n",
       "      <td>25.288177</td>\n",
       "      <td>8.291766</td>\n",
       "    </tr>\n",
       "    <tr>\n",
       "      <th>min</th>\n",
       "      <td>0.000000</td>\n",
       "      <td>1.000000</td>\n",
       "    </tr>\n",
       "    <tr>\n",
       "      <th>25%</th>\n",
       "      <td>4.600000</td>\n",
       "      <td>1.000000</td>\n",
       "    </tr>\n",
       "    <tr>\n",
       "      <th>50%</th>\n",
       "      <td>21.500000</td>\n",
       "      <td>2.000000</td>\n",
       "    </tr>\n",
       "    <tr>\n",
       "      <th>75%</th>\n",
       "      <td>43.500000</td>\n",
       "      <td>5.750000</td>\n",
       "    </tr>\n",
       "    <tr>\n",
       "      <th>max</th>\n",
       "      <td>100.000000</td>\n",
       "      <td>43.000000</td>\n",
       "    </tr>\n",
       "  </tbody>\n",
       "</table>\n",
       "</div>"
      ],
      "text/plain": [
       "       sugars_100g   products\n",
       "count    82.000000  82.000000\n",
       "mean     27.446341   5.634146\n",
       "std      25.288177   8.291766\n",
       "min       0.000000   1.000000\n",
       "25%       4.600000   1.000000\n",
       "50%      21.500000   2.000000\n",
       "75%      43.500000   5.750000\n",
       "max     100.000000  43.000000"
      ]
     },
     "metadata": {},
     "output_type": "display_data"
    }
   ],
   "source": [
    "display(locost.describe())\n",
    "display(norm.describe())\n",
    "display(bio.describe())"
   ]
  },
  {
   "cell_type": "markdown",
   "metadata": {},
   "source": [
    "Looking at the statistics it looks like our thought was wrong. Standard deviation, quantiles and mean are all very similar with respect to sugar content no matter if it's a cheap , normal or expensive brand. We could of course also have looked into fat, and what types of products that actually ended up marked in each category to get more out of the analysis, but then we would begin to stray from our focus on sugar. With all that being said the sample sizes ended up being surprisingly small, but we nevertheless take this as an indication that the sugar content isn't really all that different between the three categories"
   ]
  },
  {
   "cell_type": "markdown",
   "metadata": {},
   "source": [
    "## Analysis:  Does only sugar bad ?\n",
    "### What about fat or palm oil products\n",
    "\n",
    "Most of the time sweat products are too fat to.\n",
    "We would like to explore this area and check if there is some correlation between sweat and fat products..."
   ]
  },
  {
   "cell_type": "code",
   "execution_count": 10,
   "metadata": {
    "scrolled": false
   },
   "outputs": [
    {
     "ename": "NameError",
     "evalue": "name 'df_food' is not defined",
     "output_type": "error",
     "traceback": [
      "\u001b[1;31m---------------------------------------------------------------------------\u001b[0m",
      "\u001b[1;31mNameError\u001b[0m                                 Traceback (most recent call last)",
      "\u001b[1;32m<ipython-input-10-1b7f99ebd39f>\u001b[0m in \u001b[0;36m<module>\u001b[1;34m()\u001b[0m\n\u001b[0;32m      1\u001b[0m \u001b[1;32mfrom\u001b[0m \u001b[0mIPython\u001b[0m\u001b[1;33m.\u001b[0m\u001b[0mcore\u001b[0m\u001b[1;33m.\u001b[0m\u001b[0mdisplay\u001b[0m \u001b[1;32mimport\u001b[0m \u001b[0mHTML\u001b[0m\u001b[1;33m\u001b[0m\u001b[0m\n\u001b[0;32m      2\u001b[0m \u001b[0mpd\u001b[0m\u001b[1;33m.\u001b[0m\u001b[0mset_option\u001b[0m\u001b[1;33m(\u001b[0m\u001b[1;34m'display.max_colwidth'\u001b[0m\u001b[1;33m,\u001b[0m \u001b[1;33m-\u001b[0m\u001b[1;36m1\u001b[0m\u001b[1;33m)\u001b[0m\u001b[1;33m\u001b[0m\u001b[0m\n\u001b[1;32m----> 3\u001b[1;33m \u001b[0mdf_food_overview\u001b[0m \u001b[1;33m=\u001b[0m \u001b[0mdf_food\u001b[0m\u001b[1;33m.\u001b[0m\u001b[0mquery\u001b[0m\u001b[1;33m(\u001b[0m\u001b[1;34m\"ingredients_from_palm_oil_n > 0\"\u001b[0m\u001b[1;33m)\u001b[0m\u001b[1;33m[\u001b[0m\u001b[1;33m[\u001b[0m\u001b[1;34m'product_name'\u001b[0m\u001b[1;33m,\u001b[0m \u001b[1;34m'url'\u001b[0m\u001b[1;33m,\u001b[0m \u001b[1;34m'brands'\u001b[0m\u001b[1;33m,\u001b[0m \u001b[1;34m'ingredients_from_palm_oil_n'\u001b[0m\u001b[1;33m,\u001b[0m \u001b[1;34m'nutrition_grade_fr'\u001b[0m\u001b[1;33m]\u001b[0m\u001b[1;33m]\u001b[0m\u001b[1;33m\u001b[0m\u001b[0m\n\u001b[0m\u001b[0;32m      4\u001b[0m \u001b[0mdf_food_overview\u001b[0m\u001b[1;33m\u001b[0m\u001b[0m\n",
      "\u001b[1;31mNameError\u001b[0m: name 'df_food' is not defined"
     ]
    }
   ],
   "source": [
    "from IPython.core.display import HTML\n",
    "pd.set_option('display.max_colwidth', -1)\n",
    "df_food_overview = df_food.query(\"ingredients_from_palm_oil_n > 0\")[['product_name', 'url', 'brands', 'ingredients_from_palm_oil_n', 'nutrition_grade_fr']]\n",
    "df_food_overview"
   ]
  },
  {
   "cell_type": "code",
   "execution_count": null,
   "metadata": {},
   "outputs": [],
   "source": [
    "pd.set_option('display.max_colwidth', -1)\n",
    "df_food.query(\"ingredients_from_palm_oil_n > 0 \")[['product_name', 'url','image_url']].head(100)"
   ]
  },
  {
   "cell_type": "markdown",
   "metadata": {},
   "source": [
    "# Apply Machine Learning"
   ]
  },
  {
   "cell_type": "markdown",
   "metadata": {},
   "source": [
    "As described above, it's quite challenging to define some real questions as data quality are quite bads.\n",
    "It should be more efficient to apply technic and effort to clean, cleanse and structure the DATA.\n",
    "\n",
    "As most of the dimensions are empty, Machine Learning could be applied to cross-check the quality:\n",
    "- like predicting the Brands\n",
    "- like predicting the Category\n",
    "- ...\n",
    "\n",
    "It seems quite unlikely to get rapid and good result in this area as most of the data are unstructured and there is no good foundation to train a model.\n"
   ]
  },
  {
   "cell_type": "code",
   "execution_count": null,
   "metadata": {},
   "outputs": [],
   "source": []
  },
  {
   "cell_type": "code",
   "execution_count": null,
   "metadata": {},
   "outputs": [],
   "source": []
  },
  {
   "cell_type": "code",
   "execution_count": null,
   "metadata": {},
   "outputs": [],
   "source": []
  },
  {
   "cell_type": "code",
   "execution_count": null,
   "metadata": {},
   "outputs": [],
   "source": []
  },
  {
   "cell_type": "code",
   "execution_count": null,
   "metadata": {},
   "outputs": [],
   "source": []
  },
  {
   "cell_type": "markdown",
   "metadata": {},
   "source": [
    "<div class=\"alert alert-danger\">\n",
    "\n",
    "<b>IMAGE Analysis</b><br><i>\n",
    "This part, in <b>red</b>, contains all the CNN Analysis.\n",
    "    \n",
    "To perform Image Analysis (CNN)\n",
    "- Predict data quality like the category (is it a beverage, fish,..., )? \n",
    "- Image analysis with CNN to predict sugar or nutrition values from the packging ? \n",
    "- Image analysis with CNN to predict the color of the package based on the quantity of sugar ? \n",
    "  (if a correlation exists) \n",
    "\n",
    "Could we use that to determine category or brands accordingly ? any suggestion ?\n",
    "\n",
    "</i></div>"
   ]
  },
  {
   "cell_type": "markdown",
   "metadata": {},
   "source": [
    "There are some challenges due to the fact that images are in different size and may require to be resized.\n",
    "\n",
    "By looking deeper, we discovered that the openFoodFacts data does not have enough data quality and that even we can train some images we could not compare them to any values as underlying values are not enough structured.\n",
    "\n",
    "As those ideas described above are quite good, it should be interesting to check if we can cross check some values from other sources to perform deeper analysis."
   ]
  },
  {
   "cell_type": "code",
   "execution_count": null,
   "metadata": {},
   "outputs": [],
   "source": []
  },
  {
   "cell_type": "code",
   "execution_count": null,
   "metadata": {},
   "outputs": [],
   "source": []
  },
  {
   "cell_type": "code",
   "execution_count": null,
   "metadata": {},
   "outputs": [],
   "source": []
  },
  {
   "cell_type": "code",
   "execution_count": null,
   "metadata": {},
   "outputs": [],
   "source": []
  },
  {
   "cell_type": "markdown",
   "metadata": {},
   "source": [
    "<div class=\"alert alert-danger\" style=\"background-color:whitesmoke;color:gray;border-color:darkgray;\">\n",
    "\n",
    "<b>EXTRA Analysis</b><br><i>\n",
    "This part, in <b>gray</b>, contains all extra ad hoc requests, like:\n",
    "- Show some result/product through worldcloud    \n",
    "- Get a list of Brand from WIKIPEDIA with Beautiful soup to cross check the quality of open food facts\n",
    "\n",
    "\n",
    "\n",
    "</i></div>"
   ]
  },
  {
   "cell_type": "markdown",
   "metadata": {},
   "source": [
    "### Show Text Result with worldcloud"
   ]
  },
  {
   "cell_type": "markdown",
   "metadata": {},
   "source": [
    "To install worldcloud:\n",
    "\n",
    "***conda install -c conda-forge wordcloud***"
   ]
  },
  {
   "cell_type": "code",
   "execution_count": null,
   "metadata": {},
   "outputs": [],
   "source": [
    "from wordcloud import WordCloud"
   ]
  },
  {
   "cell_type": "code",
   "execution_count": null,
   "metadata": {},
   "outputs": [],
   "source": [
    "def show_word_cloud(df, column_text, column_occurence):\n",
    "\n",
    "    text = ''\n",
    "    \n",
    "    for index, row in df.iterrows():        \n",
    "        size = int(row[column_occurence]) +1\n",
    "        \n",
    "        size = int((size * size)/10)+1\n",
    "        text = text +  (str(row[column_text]).replace(' ', '_') .replace(':_','')+ ','  )* size\n",
    "        \n",
    "    #print(text)\n",
    "    # Generate a word cloud image #,max_font_size = 150\n",
    "    wordcloud = WordCloud(background_color='white', width=1200,height=600, stopwords=',').generate(text)\n",
    "\n",
    "    # Display the generated image:\n",
    "    plt.figure(figsize=(15,8))\n",
    "    plt.imshow(wordcloud, interpolation='bilinear')\n",
    "    plt.axis(\"off\")\n",
    "    plt.show()\n"
   ]
  },
  {
   "cell_type": "code",
   "execution_count": null,
   "metadata": {},
   "outputs": [],
   "source": [
    "r =df_food_clean.head(100)\n",
    "show_word_cloud(r, 'product_name', 'sugars_100g')\n",
    "\n"
   ]
  },
  {
   "cell_type": "markdown",
   "metadata": {},
   "source": [
    "As most of the analysis is performed against text, we were thinking to have some Text visualisation. At the first place, we were thinking to use the word_cloud as shown above.\n",
    "\n",
    "Unfortunately, this world cloud is more designed to work with full text. Indeed the size of the text is managed automatically based on the number of occurence, which is not optimum in our case, as we have to multiply the text to get it bigger.\n",
    "\n",
    "Indeed in our use case, we would like to get the text bigger based on the quantity of sugar and not based of the occurrence.\n",
    "Furhtermore, word cloud, as written in the word is based on a single name.\n",
    "\n",
    "Somehow for our analysis we should develop our own word cloud. The below implementation could be used and adapted for fitting this purpose:\n"
   ]
  },
  {
   "cell_type": "code",
   "execution_count": null,
   "metadata": {},
   "outputs": [],
   "source": [
    "import matplotlib.pyplot as plt\n",
    "\n",
    "eqs = []\n",
    "eqs.append((r\"$W^{3\\beta}_{\\delta_1 \\rho_1 \\sigma_2} = U^{3\\beta}_{\\delta_1 \\rho_1} + \\frac{1}{8 \\pi 2} \\int^{\\alpha_2}_{\\alpha_2} d \\alpha^\\prime_2 \\left[\\frac{ U^{2\\beta}_{\\delta_1 \\rho_1} - \\alpha^\\prime_2U^{1\\beta}_{\\rho_1 \\sigma_2} }{U^{0\\beta}_{\\rho_1 \\sigma_2}}\\right]$\"))\n",
    "eqs.append((r\"$\\frac{d\\rho}{d t} + \\rho \\vec{v}\\cdot\\nabla\\vec{v} = -\\nabla p + \\mu\\nabla^2 \\vec{v} + \\rho \\vec{g}$\"))\n",
    "eqs.append((r\"$\\int_{-\\infty}^\\infty e^{-x^2}dx=\\sqrt{\\pi}$\"))\n",
    "eqs.append((r\"$E = mc^2 = \\sqrt{{m_0}^2c^4 + p^2c^2}$\"))\n",
    "eqs.append((r\"$F_G = G\\frac{m_1m_2}{r^2}$\"))\n",
    "\n",
    "plt.axes([0.025, 0.025, 0.95, 0.95])\n",
    "\n",
    "for i in range(24):\n",
    "    index = np.random.randint(0, len(eqs))\n",
    "    eq = eqs[index]\n",
    "    size = np.random.uniform(12, 32)\n",
    "    x,y = np.random.uniform(0, 1, 2)\n",
    "    alpha = np.random.uniform(0.25, .75)\n",
    "    plt.text(x, y, eq, ha='center', va='center', color=\"#11557c\", alpha=alpha,\n",
    "         transform=plt.gca().transAxes, fontsize=size, clip_on=True)\n",
    "plt.xticks(())\n",
    "plt.yticks(())\n",
    "\n",
    "plt.show()"
   ]
  },
  {
   "cell_type": "code",
   "execution_count": null,
   "metadata": {},
   "outputs": [],
   "source": []
  },
  {
   "cell_type": "code",
   "execution_count": null,
   "metadata": {},
   "outputs": [],
   "source": []
  },
  {
   "cell_type": "code",
   "execution_count": null,
   "metadata": {
    "scrolled": false
   },
   "outputs": [],
   "source": [
    "\n",
    "r = requests.get('https://en.wikipedia.org/wiki/List_of_food_companies')\n",
    "#r = requests.get('https://en.wikipedia.org/wiki/List_of_brand_name_food_products')\n",
    "\n",
    "page_body = r.text\n",
    "soup = BeautifulSoup(page_body, 'html.parser')\n",
    "all_li = soup.find_all('li')\n",
    "\n",
    "linkTexts = []\n",
    "linkUrls =[]\n",
    "\n",
    "for li in all_li:\n",
    "    \n",
    "    a = li.find('a')\n",
    "    if (    a is not None \\\n",
    "        and a.has_attr('href') \\\n",
    "        and a.has_attr('title') \\\n",
    "        and len(a.text)>0 ):\n",
    "        if(a.text[0].isdigit() == False and a.text.startswith('href') == False):\n",
    "            #print(str(a.text) + '-https://en.wikipedia.org' + str(a['href']))        \n",
    "            \n",
    "            linkTexts.append(a.text)\n",
    "            linkUrls.append('https://en.wikipedia.org' + str(a['href']))\n",
    "            \n",
    "            #Exit after last Food Companies\n",
    "            if(a.text.startswith('Vinamilk')):\n",
    "                break\n",
    "            \n",
    "        \n",
    "df = pd.DataFrame(list(zip(linkTexts, linkUrls)), \\\n",
    "                  columns=['company_name','company_url'])\n",
    "#df.index = df['company_name']\n",
    "df.sort_values(by='company_name')"
   ]
  },
  {
   "cell_type": "markdown",
   "metadata": {},
   "source": [
    "# External Links or References #\n",
    "\n",
    "\n",
    "#### Some references or links which are giving some useful information about Open Food Facts\n",
    "https://world.openfoodfacts.org/\n",
    "\n",
    "https://fr.wikipedia.org/wiki/Open_Food_Facts\n",
    "\n",
    "https://world.openfoodfacts.org/contributors\n",
    "\n",
    "\n",
    "\n",
    "## Some articles about how sugar is bad ##\n",
    "https://sydney.edu.au/news-opinion/news/2018/03/12/-yes--too-much-sugar-is-bad-for-our-health-.html\n",
    "\n",
    "https://www.urmc.rochester.edu/patients-families/health-matters/november-2014/no-sugar-coating-sugar-just-isn%E2%80%99t-helping-your-hea.aspx\n",
    "\n",
    "https://www.webmd.com/diabetes/features/how-sugar-affects-your-body\n",
    "\n",
    "https://www.emborg.com/health-wellbeing/healthy-lifestyle/eat-less-sugar-you’re-sweet-enough-already\n",
    "\n",
    "\n"
   ]
  },
  {
   "cell_type": "markdown",
   "metadata": {},
   "source": [
    "# Plan for what comes next\n",
    "The data was messier and more difficult to manage than we had initially thought. Many of our original ideas turned out infeasible and we have had to change our approach to things.\n",
    "\n",
    "Our current plan until  the third milestone the 15 December is as follows:\n",
    "* 25 to 28 November: Select three to five questions relating to sugar and health that we can answer with this data\n",
    "* 29 to 30 November: Select a platform for our story\n",
    "* 01 to 07 December: Answer the questions\n",
    "* 07 to 14 December: Finalize the story"
   ]
  },
  {
   "cell_type": "code",
   "execution_count": null,
   "metadata": {},
   "outputs": [],
   "source": []
  }
 ],
 "metadata": {
  "kernelspec": {
   "display_name": "Python 3",
   "language": "python",
   "name": "python3"
  },
  "language_info": {
   "codemirror_mode": {
    "name": "ipython",
    "version": 3
   },
   "file_extension": ".py",
   "mimetype": "text/x-python",
   "name": "python",
   "nbconvert_exporter": "python",
   "pygments_lexer": "ipython3",
   "version": "3.6.6"
  }
 },
 "nbformat": 4,
 "nbformat_minor": 2
}
